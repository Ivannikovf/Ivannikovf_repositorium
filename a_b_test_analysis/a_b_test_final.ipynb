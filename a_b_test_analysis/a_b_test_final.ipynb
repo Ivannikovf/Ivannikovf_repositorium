{
 "cells": [
  {
   "cell_type": "markdown",
   "metadata": {},
   "source": [
    "# The A/B test analysis"
   ]
  },
  {
   "cell_type": "markdown",
   "metadata": {},
   "source": [
    "**Project content**\n",
    "\n",
    "1. [Familiarization with data](#start)\n",
    "2. [Data preprocessing](#preprocessing)\n",
    "3. [Test correctness evaluation](#matchtest)\n",
    "4. [Exploratory Data Analysis](#eda)\n",
    "5. [Hypothesis testing](#hypot)\n",
    "6. [General conclusions](#conclusion)"
   ]
  },
  {
   "cell_type": "markdown",
   "metadata": {},
   "source": [
    "**Description of the project**\n",
    "\n",
    "Our goal is to evaluate the results of the A/B test.\n",
    "\n",
    "Tasks :\n",
    "\n",
    "* Evaluate the correctness of the test\n",
    "\n",
    "* Analyze test results\n",
    "\n",
    "To evaluate the correctness of the test, check:\n",
    "\n",
    "* data compliance with the requirements of the TOR\n",
    "\n",
    "* no overlap of groups\n",
    "\n",
    "* check the uniformity of distributions in groups and the ratio of classes\n",
    "\n",
    "* Intersection of the test audience with a competing test\n",
    "\n",
    "* Find the time of the test. The coincidence between test and marketing events, other test timing issues"
   ]
  },
  {
   "cell_type": "markdown",
   "metadata": {},
   "source": [
    "## Familiarization with data\n",
    "<a id=\"start\"></a>"
   ]
  },
  {
   "cell_type": "markdown",
   "metadata": {},
   "source": [
    "**Let's call the libraries we need**"
   ]
  },
  {
   "cell_type": "code",
   "execution_count": 1,
   "metadata": {},
   "outputs": [],
   "source": [
    "import pandas as pd\n",
    "import seaborn as sns\n",
    "from matplotlib import pyplot as plt\n",
    "import plotly.express as px\n",
    "from plotly import graph_objects as go\n",
    "import math as mt\n",
    "import numpy as np\n",
    "\n",
    "import scipy.stats as stats\n",
    "\n",
    "from scipy.stats import norm\n",
    "\n",
    "import datetime as dt"
   ]
  },
  {
   "cell_type": "markdown",
   "metadata": {},
   "source": [
    "*Let's output datasets*"
   ]
  },
  {
   "cell_type": "code",
   "execution_count": null,
   "metadata": {},
   "outputs": [],
   "source": [
    "try:\n",
    "     mark_events, ab_new_users, ab_events, ab_participants = (\n",
    "         pd.read_csv('https://code.s3.yandex.net/datasets/ab_project_marketing_events.csv'),\n",
    "         pd.read_csv('https://code.s3.yandex.net/datasets/final_ab_new_users.csv'),\n",
    "         pd.read_csv('https://code.s3.yandex.net/datasets/final_ab_events.csv'),\n",
    "         pd.read_csv('https://code.s3.yandex.net/datasets/final_ab_participants.csv')\n",
    "     )\n",
    "except:\n",
    "     mark_events, ab_new_users, ab_events, ab_participants = (\n",
    "         pd.read_csv('https://drive.google.com/file/d/1LVvfMLjDtlTWfstUgp_zyNzC7QfPPOeG/view?usp=sharing'),\n",
    "         pd.read_csv('https://drive.google.com/file/d/1TiKpvRcqslJtCZjNGStaGHvudN48s03_/view?usp=sharing'),\n",
    "         pd.read_csv('https://drive.google.com/file/d/1MJuC6OmoG9MW3J2L38Y1WJV2x8ZeP626/view?usp=sharing'),\n",
    "         pd.read_csv('https://drive.google.com/file/d/1Ws9FVJii5rlZqDPXM5zqffpaJb4cAnUz/view?usp=sharing')\n",
    "     )"
   ]
  },
  {
   "cell_type": "code",
   "execution_count": null,
   "metadata": {},
   "outputs": [],
   "source": [
    "mark_events.head()"
   ]
  },
  {
   "cell_type": "code",
   "execution_count": null,
   "metadata": {},
   "outputs": [],
   "source": [
    "ab_new_users.head()"
   ]
  },
  {
   "cell_type": "code",
   "execution_count": null,
   "metadata": {},
   "outputs": [],
   "source": [
    "ab_events.head()"
   ]
  },
  {
   "cell_type": "code",
   "execution_count": null,
   "metadata": {},
   "outputs": [],
   "source": [
    "ab_participants.head()"
   ]
  },
  {
   "cell_type": "markdown",
   "metadata": {},
   "source": [
    "**Data Description**\n",
    "\n",
    "`mark_events` - calendar of marketing events for 2020;\n",
    "\n",
    "Table structure:\n",
    "* `name` — marketing event name;\n",
    "* `regions` - regions in which the advertising campaign will be carried out;\n",
    "* `start_dt` — campaign start date;\n",
    "* `finish_dt`  - is the end date of the campaign.\n",
    "\n",
    "`ab_new_users` - all users who registered in the online store from December 7 to December 21, 2020;\n",
    "\n",
    "Table structure:\n",
    "* `user_id` - the user ID;\n",
    "* `first_date` - registration date;\n",
    "* `region` — user's region;\n",
    "* `device` — the device from which registration took place.\n",
    "\n",
    "`ab_events` - all new user events from December 7, 2020, to January 4, 2021;\n",
    "\n",
    "Table structure:\n",
    "* `user_id` - the user ID;\n",
    "* `event_dt` - date and time of the event;\n",
    "* `event_name` - event type;\n",
    "* `details` - additional data about the event. For example, for purchases, purchase, this field stores the cost of the purchase in dollars.\n",
    "\n",
    "`ab_participants` - table of test participants.\n",
    "\n",
    "Table structure:\n",
    "* `user_id` - the user ID;\n",
    "* `ab_test` - test name;\n",
    "* `group` -  is the user's group."
   ]
  },
  {
   "cell_type": "code",
   "execution_count": null,
   "metadata": {},
   "outputs": [],
   "source": [
    "print(\"_______________________________________\".format (mark_events.info()))\n",
    "print(\"_______________________________________\".format (ab_new_users.info()))\n",
    "print(\"_______________________________________\".format (ab_events.info()))\n",
    "print(\"_______________________________________\".format (ab_participants.info()))"
   ]
  },
  {
   "cell_type": "markdown",
   "metadata": {},
   "source": [
    "<div style=\"border:solid green 2px; padding: 20px\">\n",
    "    \n",
    "**Conclusions:**\n",
    "The A/B test data contains 61733 rows for new users, 440317 rows for users, and 18268 for test participants.\n",
    "    \n",
    "There are gaps in the data in the test event table, in the details column, they need to be processed.\n",
    "    \n",
    "The columns need not be renamed because they do not contain capital letters.\n",
    "    \n",
    "It is necessary to check columns for duplicates, dates and times must be converted to DateTime format."
   ]
  },
  {
   "cell_type": "markdown",
   "metadata": {},
   "source": [
    "## Data preprocessing\n",
    "<a id=\"preprocessing\"></a>\n"
   ]
  },
  {
   "cell_type": "markdown",
   "metadata": {},
   "source": [
    "### Changing Data Types"
   ]
  },
  {
   "cell_type": "markdown",
   "metadata": {},
   "source": [
    "*Let's convert all dates to DateTime format*"
   ]
  },
  {
   "cell_type": "code",
   "execution_count": null,
   "metadata": {},
   "outputs": [],
   "source": [
    "mark_events['start_dt'] = mark_events['start_dt'].map(\n",
    "    lambda x: dt.datetime.strptime(x, '%Y-%m-%d'))\n",
    " \n",
    "mark_events['finish_dt'] = mark_events['finish_dt'].map(\n",
    "    lambda x: dt.datetime.strptime(x, '%Y-%m-%d'))\n",
    "mark_events.info()\n"
   ]
  },
  {
   "cell_type": "code",
   "execution_count": null,
   "metadata": {},
   "outputs": [],
   "source": [
    "mark_events.head(2)"
   ]
  },
  {
   "cell_type": "code",
   "execution_count": null,
   "metadata": {},
   "outputs": [],
   "source": [
    "ab_new_users['first_date'] = ab_new_users['first_date'].map(\n",
    "    lambda x: dt.datetime.strptime(x, '%Y-%m-%d'))\n",
    " \n",
    "\n",
    "ab_new_users.info()"
   ]
  },
  {
   "cell_type": "code",
   "execution_count": null,
   "metadata": {},
   "outputs": [],
   "source": [
    "ab_new_users.head()"
   ]
  },
  {
   "cell_type": "code",
   "execution_count": null,
   "metadata": {},
   "outputs": [],
   "source": [
    "ab_events['event_dt'] = ab_events['event_dt'].map(\n",
    "    lambda x: dt.datetime.strptime(x, '%Y-%m-%d %H:%M:%S'))\n",
    " \n",
    "\n",
    "ab_events.info()"
   ]
  },
  {
   "cell_type": "code",
   "execution_count": null,
   "metadata": {},
   "outputs": [],
   "source": [
    "ab_events.head()"
   ]
  },
  {
   "cell_type": "markdown",
   "metadata": {},
   "source": [
    "*All dates are in the correct format*"
   ]
  },
  {
   "cell_type": "markdown",
   "metadata": {},
   "source": [
    "### Checking for duplicates"
   ]
  },
  {
   "cell_type": "markdown",
   "metadata": {},
   "source": [
    "*Check for obvious duplicates*"
   ]
  },
  {
   "cell_type": "code",
   "execution_count": null,
   "metadata": {},
   "outputs": [],
   "source": [
    "print('Number of duplicates in mark_events {}'.format(mark_events.duplicated().sum()))\n",
    "print('Number of duplicates in ab_new_users {}'.format(ab_new_users.duplicated().sum()))\n",
    "print('Number of duplicates in ab_events {}'.format(ab_events.duplicated().sum()))\n",
    "print('Number of duplicates in ab_participants {}'.format(ab_participants.duplicated().sum()))"
   ]
  },
  {
   "cell_type": "markdown",
   "metadata": {},
   "source": [
    "*No obvious duplicates were found in all data frames, let's check duplicate user IDs*"
   ]
  },
  {
   "cell_type": "code",
   "execution_count": null,
   "metadata": {},
   "outputs": [],
   "source": [
    "print(\"Number of duplicated user_id in ab_participants {}  \".format(ab_participants['user_id'].duplicated().sum()))\n",
    "print(\"Number of duplicated user_id in ab_new_users {}  \".format(ab_new_users['user_id'].duplicated().sum()))\n"
   ]
  },
  {
   "cell_type": "markdown",
   "metadata": {},
   "source": [
    "*This most likely means that the same users were included in different tests, let's check this statement in relation to our test, which is called `recommender_system_test`*"
   ]
  },
  {
   "cell_type": "code",
   "execution_count": null,
   "metadata": {},
   "outputs": [],
   "source": [
    "ab_participants['ab_test'].value_counts()"
   ]
  },
  {
   "cell_type": "code",
   "execution_count": null,
   "metadata": {},
   "outputs": [],
   "source": [
    "ab_participants.query('ab_test == \\\n",
    "\"recommender_system_test\"')['user_id'].isin(ab_participants.query('ab_test != \"recommender_system_test\"')['user_id'])"
   ]
  },
  {
   "cell_type": "code",
   "execution_count": null,
   "metadata": {},
   "outputs": [],
   "source": [
    "print(\"Number of users, which were in both tests = \", \\\n",
    "      sum(ab_participants.query('ab_test == \\\n",
    "\"recommender_system_test\"')['user_id'].isin(ab_participants.query('ab_test != \\\n",
    "\"recommender_system_test\"')['user_id'])))\n"
   ]
  },
  {
   "cell_type": "markdown",
   "metadata": {},
   "source": [
    "*Which logically repeats the sum of duplicates, we do not need crossed users, since it is not known which transformation affected their actions*"
   ]
  },
  {
   "cell_type": "code",
   "execution_count": null,
   "metadata": {},
   "outputs": [],
   "source": [
    "recommender_id = ab_participants.query('ab_test == \"recommender_system_test\"')['user_id']\n",
    "not_recommender_id = ab_participants.query('ab_test != \"recommender_system_test\"')['user_id']\n",
    "intersection_tests_id = set(not_recommender_id) & set(recommender_id)\n",
    "ab_participants_with_intersection = ab_participants.copy()\n",
    "\n",
    "ab_participants = ab_participants[~ab_participants['user_id'].isin(intersection_tests_id)].copy()"
   ]
  },
  {
   "cell_type": "code",
   "execution_count": null,
   "metadata": {},
   "outputs": [],
   "source": [
    "ab_participants['user_id'].duplicated().sum()"
   ]
  },
  {
   "cell_type": "markdown",
   "metadata": {},
   "source": [
    "*We got rid of overlapping user ids, but we don't need users of the second test at all, let's get rid of them as well*"
   ]
  },
  {
   "cell_type": "code",
   "execution_count": null,
   "metadata": {},
   "outputs": [],
   "source": [
    "ab_participants = ab_participants.query('ab_test == \"recommender_system_test\"').copy()"
   ]
  },
  {
   "cell_type": "markdown",
   "metadata": {},
   "source": [
    "### Handling data gaps"
   ]
  },
  {
   "cell_type": "markdown",
   "metadata": {},
   "source": [
    "*Let's consider  the dataset with gaps again*"
   ]
  },
  {
   "cell_type": "code",
   "execution_count": null,
   "metadata": {},
   "outputs": [],
   "source": [
    "ab_events.isna().mean()"
   ]
  },
  {
   "cell_type": "markdown",
   "metadata": {},
   "source": [
    "*86% of gaps, it is clear that the gaps are most likely due to the fact that this is related to the purchase event, the \"details\" column contains the cost, we will display the number of lines with the purchase and see in comparison with the number of gaps  in \"details\"*"
   ]
  },
  {
   "cell_type": "code",
   "execution_count": null,
   "metadata": {},
   "outputs": [],
   "source": [
    "ab_events['event_name'].value_counts() "
   ]
  },
  {
   "cell_type": "code",
   "execution_count": null,
   "metadata": {},
   "outputs": [],
   "source": [
    "ab_events.info()"
   ]
  },
  {
   "cell_type": "markdown",
   "metadata": {},
   "source": [
    "*As required to prove, for us this column is non-target, in order not to lose data in the case of filtering, we fill them with a negative stub -55.5*"
   ]
  },
  {
   "cell_type": "code",
   "execution_count": null,
   "metadata": {},
   "outputs": [],
   "source": [
    "ab_events = ab_events.fillna(-55.5)"
   ]
  },
  {
   "cell_type": "code",
   "execution_count": null,
   "metadata": {},
   "outputs": [],
   "source": [
    "ab_events.isna().mean()"
   ]
  },
  {
   "cell_type": "markdown",
   "metadata": {},
   "source": [
    "<div style=\"border:solid green 2px; padding: 20px\">\n",
    "    \n",
    "**Conclusions:**\n",
    "    \n",
    "The gaps in the data in the test event table, in the details column, we filled in with a stub.\n",
    "\n",
    "We cast date columns to DateTime.\n",
    "    \n",
    "Duplicate users, as well as users from another test, have been removed.\n",
    "\n",
    "Next, we check the test results for compliance with the terms of reference."
   ]
  },
  {
   "cell_type": "markdown",
   "metadata": {},
   "source": [
    "## Assessment of the correctness of the test for compliance with the TOR \n",
    "<a id=\"matchtest\"></a>"
   ]
  },
  {
   "cell_type": "markdown",
   "metadata": {},
   "source": [
    "**Technical task**\n",
    "\n",
    "Test name: `recommender_system_test`;\n",
    "\n",
    "Groups: `A` (control), `B` (new payment funnel);\n",
    "\n",
    "Launch date: `2020-12-07`;\n",
    "\n",
    "New user enrollment stop date: `2020-12-21`;\n",
    "\n",
    "Stop date: `2021-01-04`;\n",
    "\n",
    "Audience: `15% of new users from the EU region`;\n",
    "\n",
    "Purpose of the test: testing the changes associated with the introduction of an improved recommender system;\n",
    "\n",
    "Expected number of test participants: `6000`.\n",
    "\n",
    "Expected effect: within 14 days from the moment of registration in the system, users will show an improvement in each metric by at least 10%:\n",
    "\n",
    "* conversions to view product cards — `product_page` event\n",
    "* cart views - `product_cart`\n",
    "* purchases - `purchase`."
   ]
  },
  {
   "cell_type": "markdown",
   "metadata": {},
   "source": [
    "*We check the groups, at first, we display all the test participants*"
   ]
  },
  {
   "cell_type": "code",
   "execution_count": null,
   "metadata": {},
   "outputs": [],
   "source": [
    "print ('Number of participants of recommender_system_test is {} people'.format (ab_participants['user_id'].count())) "
   ]
  },
  {
   "cell_type": "markdown",
   "metadata": {},
   "source": [
    "*We get the first violation of the terms of reference: people who took part in the A / B test are 901 people less than expected, that is, the sample is 18% smaller, in a good way it is worth continuing the test*"
   ]
  },
  {
   "cell_type": "markdown",
   "metadata": {},
   "source": [
    "*Let's take a sample by groups*"
   ]
  },
  {
   "cell_type": "code",
   "execution_count": null,
   "metadata": {},
   "outputs": [],
   "source": [
    "ab_participants['group'].value_counts()"
   ]
  },
  {
   "cell_type": "markdown",
   "metadata": {},
   "source": [
    "*The control group is larger than the test group with a difference of 707 people (24%), also a non-compliance was found*"
   ]
  },
  {
   "cell_type": "markdown",
   "metadata": {},
   "source": [
    "*Checking intersections in groups* "
   ]
  },
  {
   "cell_type": "code",
   "execution_count": null,
   "metadata": {},
   "outputs": [],
   "source": [
    "common_a_b = len(list(set(ab_participants[ab_participants['group']=='A']['user_id']).intersection(set(ab_participants[ab_participants['group']=='B']['user_id']))))\n"
   ]
  },
  {
   "cell_type": "code",
   "execution_count": null,
   "metadata": {},
   "outputs": [],
   "source": [
    "print('Intersections between  two groups of the test: {}'.format(common_a_b)) "
   ]
  },
  {
   "cell_type": "markdown",
   "metadata": {},
   "source": [
    "*No intersections*"
   ]
  },
  {
   "cell_type": "markdown",
   "metadata": {},
   "source": [
    "*Let's check the number of unique users in ab_new_users*"
   ]
  },
  {
   "cell_type": "code",
   "execution_count": null,
   "metadata": {},
   "outputs": [],
   "source": [
    " ab_new_users['user_id'].nunique()"
   ]
  },
  {
   "cell_type": "markdown",
   "metadata": {},
   "source": [
    "*Let's select users who are in some group - A or B.*"
   ]
  },
  {
   "cell_type": "code",
   "execution_count": null,
   "metadata": {},
   "outputs": [],
   "source": [
    "ab_new_users_row =ab_new_users.copy()\n",
    "ab_new_users = ab_new_users[(ab_new_users['user_id'].isin(ab_participants['user_id']))].copy()"
   ]
  },
  {
   "cell_type": "code",
   "execution_count": null,
   "metadata": {},
   "outputs": [],
   "source": [
    " ab_new_users['user_id'].nunique()"
   ]
  },
  {
   "cell_type": "markdown",
   "metadata": {},
   "source": [
    "*Now let's see if there are users who registered after*"
   ]
  },
  {
   "cell_type": "code",
   "execution_count": null,
   "metadata": {},
   "outputs": [],
   "source": [
    "ab_new_users[~(('2020-12-07'<= ab_new_users['first_date'] ) & (ab_new_users['first_date']  <=  '2020-12-21'))]"
   ]
  },
  {
   "cell_type": "code",
   "execution_count": null,
   "metadata": {},
   "outputs": [],
   "source": [
    "print('First day of testing registration is {}'.format(ab_new_users['first_date'].min())) \n",
    "print('Last day of testing registration is {}'.format(ab_new_users['first_date'].max())) "
   ]
  },
  {
   "cell_type": "markdown",
   "metadata": {},
   "source": [
    "*There are no such users, the terms of reference are met*"
   ]
  },
  {
   "cell_type": "markdown",
   "metadata": {},
   "source": [
    "*Let's filter the dataset by user id and check the last date of the test*"
   ]
  },
  {
   "cell_type": "code",
   "execution_count": null,
   "metadata": {},
   "outputs": [],
   "source": [
    "ab_events = ab_events[(ab_events['user_id'].isin(ab_participants['user_id']))].copy()"
   ]
  },
  {
   "cell_type": "code",
   "execution_count": null,
   "metadata": {},
   "outputs": [],
   "source": [
    "print('First day of testing is {}'.format(ab_events['event_dt'].min()))\n",
    "print('Last day of testing is {}'.format(ab_events['event_dt'].max()))"
   ]
  },
  {
   "cell_type": "markdown",
   "metadata": {},
   "source": [
    "*The condition at the end of the test is not met, the last day is 30.12 and not 04.01*"
   ]
  },
  {
   "cell_type": "code",
   "execution_count": null,
   "metadata": {},
   "outputs": [],
   "source": [
    "ab_events.info()"
   ]
  },
  {
   "cell_type": "markdown",
   "metadata": {},
   "source": [
    "*There are 18804 events in dataset*"
   ]
  },
  {
   "cell_type": "markdown",
   "metadata": {},
   "source": [
    "*Let's check the data for the condition of 15% from the EU first on the raw dataset*  "
   ]
  },
  {
   "cell_type": "code",
   "execution_count": null,
   "metadata": {},
   "outputs": [],
   "source": [
    "ab_new_users_row.info()"
   ]
  },
  {
   "cell_type": "code",
   "execution_count": null,
   "metadata": {},
   "outputs": [],
   "source": [
    "ab_new_users_row['region'].value_counts()"
   ]
  },
  {
   "cell_type": "code",
   "execution_count": null,
   "metadata": {},
   "outputs": [],
   "source": [
    "region_user = ab_new_users.groupby('region')\\\n",
    ".agg({'user_id':'count'})\\\n",
    ".reset_index().rename(columns={'user_id':'number'})\n",
    "region_user ['%_all_users'] = round(region_user['number']*100/sum(region_user['number']))\n",
    "region_user"
   ]
  },
  {
   "cell_type": "markdown",
   "metadata": {},
   "source": [
    "*As a result of the test, the audience participating in the test from Europe was 93%, from the original European users 10.3%, which does not correspond to the TOR.*"
   ]
  },
  {
   "cell_type": "markdown",
   "metadata": {},
   "source": [
    "*Let's check which marketing events are intersected by the time of the test*"
   ]
  },
  {
   "cell_type": "code",
   "execution_count": null,
   "metadata": {},
   "outputs": [],
   "source": [
    "mark_events"
   ]
  },
  {
   "cell_type": "code",
   "execution_count": null,
   "metadata": {},
   "outputs": [],
   "source": [
    "mark_events[(mark_events['finish_dt']>='2020-12-07')&(mark_events['start_dt']<='2021-01-04')]"
   ]
  },
  {
   "cell_type": "markdown",
   "metadata": {},
   "source": [
    "*During the test period, there should be no promotions that could affect conversion rates. As we can see from the tables, our test days intersect with the largest sales of the year, dedicated to Christmas and New Year, both in Europe and America (promotion) and in Eastern Europe and Asia (New Year's lottery): days of intersection with promo shares in the ideal test 16, given that the test was completed ahead of time, then in reality 6 days.*"
   ]
  },
  {
   "cell_type": "markdown",
   "metadata": {},
   "source": [
    "<div style=\"border:solid green 2px; padding: 20px\">\n",
    "    \n",
    "**Conclusions:**\n",
    "    \n",
    "The results of the dataset do not meet the criteria of the TOR for the following parameters:\n",
    "<br/>1. The test sample of 901 people is smaller than expected, that is, 18% less than the estimated 6000\n",
    "  <br/>2. The last day of observation of the events is December 30 and not January 04, that is, there is no data for 5 days\n",
    "  <br/> 3. The audience participating in the test from Europe was 4749 people or 93%. Of the original European users, 10.3%, which does not meet the requirements of the TOR of 15%.\n",
    "  <br/>\n",
    "In addition, the following violations were made during the test:\n",
    "  <br/> - The control group is larger than the test group, with a difference of 707 people (24%)\n",
    "   <br/> - The days of the testing overlap with the biggest sales of the year, dedicated to Christmas and New Year, both in Europe and America (promotion) and in Eastern Europe and Asia (New Year's lottery). There are 16 days of intersections with promotions in the ideal test, if we take into account that the test was completed ahead of time, then in reality 6 days.\n",
    "<br/>As a result, the test can be considered failed, it must be carried out again strictly following the requirements of the TOR and excluding seasonal promotions and parallel tests.\n",
    "  <br/>\n",
    "Despite the above, we will analyze the data<br/>"
   ]
  },
  {
   "cell_type": "markdown",
   "metadata": {},
   "source": [
    "## Exploratory data analysis\n",
    "<a id=\"eda\"></a>"
   ]
  },
  {
   "cell_type": "markdown",
   "metadata": {},
   "source": [
    "*Let's collect the test data for analysis in a common table*"
   ]
  },
  {
   "cell_type": "code",
   "execution_count": null,
   "metadata": {},
   "outputs": [],
   "source": [
    "data = ab_participants.merge(ab_new_users, on = 'user_id', how = 'left')"
   ]
  },
  {
   "cell_type": "code",
   "execution_count": null,
   "metadata": {},
   "outputs": [],
   "source": [
    "data = data.merge(ab_events, on = 'user_id', how = 'left')"
   ]
  },
  {
   "cell_type": "code",
   "execution_count": null,
   "metadata": {},
   "outputs": [],
   "source": [
    "data.head()"
   ]
  },
  {
   "cell_type": "markdown",
   "metadata": {},
   "source": [
    "*Add a column with the date of the event*"
   ]
  },
  {
   "cell_type": "code",
   "execution_count": null,
   "metadata": {},
   "outputs": [],
   "source": [
    "data['event_date'] = data['event_dt'].dt.date"
   ]
  },
  {
   "cell_type": "code",
   "execution_count": null,
   "metadata": {},
   "outputs": [],
   "source": [
    "data.head()"
   ]
  },
  {
   "cell_type": "markdown",
   "metadata": {},
   "source": [
    "### Number of users and events"
   ]
  },
  {
   "cell_type": "markdown",
   "metadata": {},
   "source": [
    "*Let's see the number of users and distribution by groups*"
   ]
  },
  {
   "cell_type": "code",
   "execution_count": null,
   "metadata": {},
   "outputs": [],
   "source": [
    "print ('Number of users in the test {}'.format(data['user_id'].nunique()))"
   ]
  },
  {
   "cell_type": "code",
   "execution_count": null,
   "metadata": {},
   "outputs": [],
   "source": [
    "sns.set_style('dark')"
   ]
  },
  {
   "cell_type": "markdown",
   "metadata": {},
   "source": [
    "*Once again we derive the ratio of groups*"
   ]
  },
  {
   "cell_type": "code",
   "execution_count": null,
   "metadata": {
    "scrolled": true
   },
   "outputs": [],
   "source": [
    "plt.figure(figsize = (19,6))\n",
    "fig = sns.barplot(x=[data[data['group']=='A']['user_id'].nunique(), \\\n",
    "                     data[data['group']=='B']['user_id'].nunique()],\\\n",
    "            y = ['group A','group B'], palette='husl')\n",
    "plt.title('Number of the groups A and B')\n",
    "fig.set_xlabel('Number of users',fontsize = 10)\n",
    "plt.show()"
   ]
  },
  {
   "cell_type": "markdown",
   "metadata": {},
   "source": [
    "*Consider the distribution of the number of events in groups*"
   ]
  },
  {
   "cell_type": "code",
   "execution_count": null,
   "metadata": {},
   "outputs": [],
   "source": [
    "data[data['group']=='A'].groupby('user_id').agg({'event_dt':'count'}).describe()"
   ]
  },
  {
   "cell_type": "code",
   "execution_count": null,
   "metadata": {},
   "outputs": [],
   "source": [
    "print('Total number of events for group A is {}'.format (data[data['group']=='A'].groupby('user_id').agg({'event_dt':'count'})['event_dt'].sum()))"
   ]
  },
  {
   "cell_type": "code",
   "execution_count": null,
   "metadata": {},
   "outputs": [],
   "source": [
    "data[data['group']=='B'].groupby('user_id').agg({'event_dt':'count'}).describe()"
   ]
  },
  {
   "cell_type": "code",
   "execution_count": null,
   "metadata": {},
   "outputs": [],
   "source": [
    "print('Total number of events for group B is {}'.format (data[data['group']=='B'].groupby('user_id').agg({'event_dt':'count'})['event_dt'].sum()))"
   ]
  },
  {
   "cell_type": "code",
   "execution_count": null,
   "metadata": {},
   "outputs": [],
   "source": [
    "plt.figure(figsize = (19,6))\n",
    "ax = plt.subplot(1, 1, 1)\n",
    "sns.histplot(data[data['group']=='A'].groupby('user_id')\\\n",
    "             .agg({'event_dt':'count'}), palette= 'Set2', \\\n",
    "             alpha = 0.5, stat = 'density', common_norm =False)\n",
    "sns.histplot(data[data['group']=='B'].groupby('user_id')\\\n",
    "             .agg({'event_dt':'count'}), palette= 'rocket',  alpha = 0.2,\\\n",
    "             stat = 'density', common_norm =False)\n",
    "ax.set_title('Destribution of events in groups', fontsize = 10, color = 'DarkBlue')\n",
    "plt.legend(['Group A', 'Group B']);"
   ]
  },
  {
   "cell_type": "markdown",
   "metadata": {},
   "source": [
    "*We see that the number of events is extremely heterogeneous: the total number of events in group A is 14737, while in group B - 4067. For group B, more than 50% of users have no events at all, the 75th quartile has only 3 events, that is, there are very few events. In group A, things are better, the median value is 4 events.*"
   ]
  },
  {
   "cell_type": "markdown",
   "metadata": {},
   "source": [
    "### The number of events by dates"
   ]
  },
  {
   "cell_type": "markdown",
   "metadata": {},
   "source": [
    "*Let's consider event data by day in groups*"
   ]
  },
  {
   "cell_type": "code",
   "execution_count": null,
   "metadata": {},
   "outputs": [],
   "source": [
    "day_event_a = data[data['group']=='A'].groupby('event_date')\\\n",
    ".agg({'event_name':'count', 'region':'first'}).reset_index()\n"
   ]
  },
  {
   "cell_type": "code",
   "execution_count": null,
   "metadata": {},
   "outputs": [],
   "source": [
    "day_event_b = data[data['group']=='B'].groupby('event_date')\\\n",
    ".agg({'event_name':'count', 'region':'first'}).reset_index()\n"
   ]
  },
  {
   "cell_type": "code",
   "execution_count": null,
   "metadata": {
    "scrolled": true
   },
   "outputs": [],
   "source": [
    "plt.figure(figsize = (19,6))\n",
    "ax = plt.subplot(1, 1, 1)\n",
    "sns.barplot(x = day_event_a['event_date'], y = day_event_a['event_name'], color = '#3F0071')\n",
    "sns.barplot(x = day_event_b['event_date'], y = day_event_b['event_name'], color = '#FB2576')\n",
    "ax.set_title('Destribution of evenent in groups', fontsize = 20, color = 'DarkBlue')\n",
    "ax.set_xticklabels(ax.get_xticklabels(),rotation = 90)\n",
    "ax.set_ylabel('Number of events',fontsize = 20)\n",
    "ax.set_xlabel('Date of test',fontsize = 20)\n",
    ";"
   ]
  },
  {
   "cell_type": "markdown",
   "metadata": {},
   "source": [
    "*As can be seen from the distribution, a sharp increase in events falls on December 14 - people are preparing for the celebration of Christmas (most of us are from Europe, and Christmas in the Western Christian Church is celebrated on December 25), which again indicates the incorrectness of the test on the eve of major holidays, but marketing the events did not greatly affect the test - since the 25th, activity has been falling, although without the action it could have been even lower. At the same time, we note that in group B the number of events does not depend much on the calendar until the peak of December 21, it fluctuates from 200-400 events per day,  21 there are about 100-150 events per day. Both December 14 and December 21 are Mondays.*"
   ]
  },
  {
   "cell_type": "markdown",
   "metadata": {},
   "source": [
    "### Let's consider regions and devices in groups"
   ]
  },
  {
   "cell_type": "markdown",
   "metadata": {},
   "source": [
    "*Let's derive the distribution in groups by regions*"
   ]
  },
  {
   "cell_type": "code",
   "execution_count": null,
   "metadata": {
    "scrolled": true
   },
   "outputs": [],
   "source": [
    "colors = sns.color_palette('bright')\n",
    "plt.figure(figsize = (14,6))\n",
    "plt.subplot(1,2,1)\n",
    "d = pd.DataFrame(data[data['group']== \"A\"][['user_id', \\\n",
    "                                             'region', 'device']].drop_duplicates()['region'].value_counts()).reset_index()\n",
    "plt.pie(d['region'], labels = d['index'],  autopct='%.0f%%', colors=colors)\n",
    "plt.title('Parts of regions in group A')\n",
    "\n",
    "plt.subplot(1,2,2)\n",
    "d = pd.DataFrame(data[data['group']== \"B\"][['user_id', \\\n",
    "                                             'region', 'device']].drop_duplicates()['region'].value_counts()).reset_index()\n",
    "plt.pie(d['region'], labels = d['index'],  autopct='%.0f%%', colors=colors)\n",
    "plt.title('Parts of regions in group B')\n",
    "\n",
    "plt.show()"
   ]
  },
  {
   "cell_type": "markdown",
   "metadata": {},
   "source": [
    "*By distribution by region, the groups are homogeneous, now let's look at the platforms from which users came*"
   ]
  },
  {
   "cell_type": "code",
   "execution_count": null,
   "metadata": {},
   "outputs": [],
   "source": [
    "colors = sns.color_palette('colorblind')\n",
    "plt.figure(figsize = (14,6))\n",
    "plt.subplot(1,2,1)\n",
    "d = pd.DataFrame(data[data['group']== \"A\"][['user_id', \\\n",
    "                                             'region', 'device']].drop_duplicates()['device'].value_counts()).reset_index()\n",
    "plt.pie(d['device'], labels = d['index'],  autopct='%.0f%%', colors=colors)\n",
    "plt.title('Parts of devices in group A')\n",
    "\n",
    "plt.subplot(1,2,2)\n",
    "d = pd.DataFrame(data[data['group']== \"B\"][['user_id', \\\n",
    "                                             'region', 'device']].drop_duplicates()['device'].value_counts()).reset_index()\n",
    "plt.pie(d['device'], labels = d['index'],  autopct='%.0f%%', colors=colors)\n",
    "plt.title('Parts of devices in group B')\n",
    "\n",
    "plt.show()"
   ]
  },
  {
   "cell_type": "markdown",
   "metadata": {},
   "source": [
    "*Let's fix that in group B more came out from Android, and less from PC and Mac, but the difference is 3%.*"
   ]
  },
  {
   "cell_type": "markdown",
   "metadata": {},
   "source": [
    "### Event Funnel"
   ]
  },
  {
   "cell_type": "markdown",
   "metadata": {},
   "source": [
    "*Let's build a common funnel of events*"
   ]
  },
  {
   "cell_type": "code",
   "execution_count": null,
   "metadata": {},
   "outputs": [],
   "source": [
    "d = pd.DataFrame(data.groupby('event_name')['user_id'].nunique()).reindex(['login',\\\n",
    "                                                        'product_page', 'product_cart', 'purchase'])\\\n",
    ".reset_index()\n",
    "d.columns = ['event_name', 'event_counts']\n",
    "fig = go.Figure(go.Funnel(\n",
    "    y = d ['event_name'],\n",
    "    x = d ['event_counts'],\n",
    "    textposition = \"inside\",\n",
    "    textinfo = \"value+percent initial\",\n",
    "    opacity = 0.65, marker = {\"color\": [\"deepskyblue\", \"lightsalmon\", \"tan\", \"teal\"],\n",
    "    \"line\": {\"width\": [4, 2, 2, 3], \"color\": [\"wheat\", \"wheat\", \"blue\", \"wheat\"]}},\n",
    "    connector = {\"line\": {\"color\": \"royalblue\", \"dash\": \"dot\", \"width\": 3}}),\n",
    "   layout_title_text= 'The event funnel in our test')\n",
    "\n",
    "fig.show()"
   ]
  },
  {
   "cell_type": "markdown",
   "metadata": {},
   "source": [
    "*Как видно, у нас неплохая общая конверсия в 30%, обращает на себя внимание, что люди каким-то образом покупали не заходя на страницу корзины: конверсия из корзины в покупку 102%, ну и обратим внимание, что собственно в эксперементе учавствовали всего 2788 пользователей из 5099 зарегистрировавшихся.*"
   ]
  },
  {
   "cell_type": "markdown",
   "metadata": {},
   "source": [
    "Now let's analyze the result of our experiment:\n",
    "\n",
    "Expectations of our experiment: `in 14 days from the moment of registration in the system, users will show an improvement of each metric by at least 10%`\n",
    "\n",
    "Let's calculate the data for each user for 14 days. group and build a funnel with division into groups"
   ]
  },
  {
   "cell_type": "code",
   "execution_count": null,
   "metadata": {},
   "outputs": [],
   "source": [
    "data_2_weeks = data.reset_index()\n",
    "\n",
    "true_false_data = pd.DataFrame(data.groupby('user_id').apply(lambda x :   x['event_dt'] <=\\\n",
    "                                                    x['event_dt'].min() +  dt.timedelta(days=14))).reset_index()\n",
    "\n",
    "true_false_data.head(10)"
   ]
  },
  {
   "cell_type": "code",
   "execution_count": null,
   "metadata": {},
   "outputs": [],
   "source": [
    "data_2_weeks = data_2_weeks.merge(true_false_data, right_on='level_1', \\\n",
    "                       left_on='index').rename(columns = {'event_dt_y' : 'row_dt',\n",
    "                                                         'user_id_x' : 'user_id',\n",
    "                                                          'event_dt_x' : 'event_dt'\n",
    "                                                         }).drop(columns=['index', 'level_1', 'user_id_y'])\n",
    "data_2_weeks = data_2_weeks[data_2_weeks['row_dt']].copy()"
   ]
  },
  {
   "cell_type": "code",
   "execution_count": null,
   "metadata": {
    "scrolled": true
   },
   "outputs": [],
   "source": [
    "fig = go.Figure()\n",
    "\n",
    "data_a = pd.DataFrame(data_2_weeks.query('group == \"A\"').groupby('event_name')['user_id'].nunique()).reindex(['login',\\\n",
    "                                                        'product_page', 'product_cart', 'purchase']).reset_index()\n",
    "data_a.columns = ['event_name_a', 'event_counts_a']\n",
    "fig.add_trace(go.Funnel(\n",
    "    name = 'A - group',\n",
    "    y= data_a['event_name_a'],\n",
    "    x= data_a['event_counts_a'],\n",
    "    textinfo = \"value+percent initial\"))\n",
    "\n",
    "data_b =  pd.DataFrame(data_2_weeks.query('group == \"B\"').groupby('event_name')['user_id'].nunique()).reindex(['login',\\\n",
    "                                                        'product_page', 'product_cart', 'purchase']).reset_index()\n",
    "data_b.columns = ['event_name_b', 'event_counts_b']\n",
    "fig.add_trace(go.Funnel(\n",
    "    name = 'B - group',\n",
    "    y= data_b['event_name_b'],\n",
    "    x= data_b['event_counts_b'],\n",
    "    textinfo = \"value+percent initial\"))\n",
    "\n",
    "fig.update_layout(\n",
    "    title={\n",
    "        'text': \"Conversion by group with the furst step: login\",\n",
    "        'y':0.9,\n",
    "        'x':0.5,\n",
    "        'xanchor': 'center',\n",
    "        'yanchor': 'top'})\n",
    "\n",
    "fig.show()"
   ]
  },
  {
   "cell_type": "markdown",
   "metadata": {},
   "source": [
    "*As we can see, the result of the experiment is a failure:\n",
    "not only did we not get an increase in conversion in the test group compared to the control group, but we also got a deterioration in conversion at each step. The only step in which the increase in group B is greater is from the product page to the cart: an increase of 5.5%*"
   ]
  },
  {
   "cell_type": "markdown",
   "metadata": {},
   "source": [
    "<div style=\"border:solid green 2px; padding: 20px\">\n",
    "\n",
    "\n",
    "**Conclusions:**\n",
    "\n",
    "<br/>1. The number of events is extremely heterogeneous: there are 14737 events in total in group A, while 4067 in group B. For group B, more than 50% of users have no events at all, the 75th quartile has only 3 events, that is, there are very few events. In group A, things are better, the median value is 4 events.\n",
    "  <br/>2. A sharp increase in events falls on December 14 - people are preparing for the celebration of Christmas (most users from Europe, where Christmas in the Western Christian Church is celebrated on December 25), which again indicates the incorrectness of the test on the eve of major holidays. But marketing events did not greatly affect the test: from the 25th, activity drops, although without a promotion it could be even lower. At the same time, we note that in group B the number of events does not depend much on the calendar until the peak of December 21, fluctuates around 200-400 events per day, and after the 21st there are about 100-150 events per day.\n",
    "  <br/> 3. Regions and devices of users have little effect on the homogeneity of groups.\n",
    "     <br/>4. The total conversion of the resource is 30%\n",
    "     <br/> 5. The experiment with the introduction of the new recommendation system failed, because in the tested group, instead of the expected increase in conversion, there is a decrease at each step, the only step in which the increase in group B is greater is from the product page to the cart: increase 5 .5%, which also does not meet expectations.\n",
    "\n",
    " \n",
    "  <br/>\n",
    "Next, consider the statistical difference in the shares of groups<br/>"
   ]
  },
  {
   "cell_type": "markdown",
   "metadata": {},
   "source": [
    "## Testing hypotheses about equality of shares.\n",
    "<a id=\"hypot\"></a>"
   ]
  },
  {
   "cell_type": "markdown",
   "metadata": {},
   "source": [
    "*Since the only step in which the increase in group B is greater is from the product page to the basket. Let's calculate the hypothesis about the equality of these shares in group A and group B. Let's formulate the hypothesis:*\n",
    "```\n",
    "H_0: The shares of groups A and B when moving from the product page to the cart are equal\n",
    "\n",
    "H_a: The shares of groups A and B when moving from the product page to the cart are different\n",
    "alpha = 0.025\n",
    "```\n",
    "\n",
    "Since we are going to compare the proportion of users who have moved to the next step in the funnel, we will use the Z criterion*"
   ]
  },
  {
   "cell_type": "code",
   "execution_count": null,
   "metadata": {},
   "outputs": [],
   "source": [
    "def z_test (group_1, group_2, event_1, event_2, test_n):\n",
    "    sample_a1 = data[(data['group']==group_1)&(data['event_name']==event_1)]['user_id'].nunique()\n",
    "    sample_a1_ev = data[(data['group']==group_1)&(data['event_name']==event_2)]['user_id'].nunique()\n",
    "    sample_a2 = data[(data['group']==group_2)&(data['event_name']==event_1)]['user_id'].nunique()\n",
    "    sample_a2_ev = data[(data['group']==group_2)&(data['event_name']==event_2)]['user_id'].nunique()\n",
    "    alpha = 0.05/test_n\n",
    "    print('alpha: ', alpha)\n",
    "\n",
    "\n",
    "    p1 = sample_a1_ev/sample_a1\n",
    "    p2 = sample_a2_ev/sample_a2\n",
    "\n",
    "    p_combined = (sample_a1_ev + sample_a2_ev)/ (sample_a1 + sample_a2)\n",
    "\n",
    "\n",
    "    difference = p1 - p2 \n",
    "    z_value = difference / mt.sqrt(p_combined * (1 - p_combined) * (1/sample_a1 + 1/sample_a2))\n",
    "\n",
    "    distr = stats.norm(0, 1) \n",
    "\n",
    "    p_value = (1 - distr.cdf(abs(z_value))) * 2\n",
    "\n",
    "    print('p-value: ', p_value)\n",
    "\n",
    "    if p_value < alpha:\n",
    "        print('We reject the null hypothesis: there is a significant difference between the proportions')\n",
    "    else:\n",
    "        print(\n",
    "             'We failed to reject the null hypothesis, there is no reason to consider the proportions different'\n",
    "    )"
   ]
  },
  {
   "cell_type": "code",
   "execution_count": null,
   "metadata": {},
   "outputs": [],
   "source": [
    "z_test (\"A\", \"B\", 'product_page', 'product_cart', 2)"
   ]
  },
  {
   "cell_type": "markdown",
   "metadata": {},
   "source": [
    "*This means that there is no difference between the shares in this step. Let's go through the hypotheses of all stages of the funnel*"
   ]
  },
  {
   "cell_type": "markdown",
   "metadata": {},
   "source": [
    "```\n",
    "H_0: The shares of groups A and B when switching from login to product card are equal\n",
    "\n",
    "H_a: Shares of groups A and B differ when switching from login to product card\n",
    "alpha = 0.017\n",
    "```"
   ]
  },
  {
   "cell_type": "code",
   "execution_count": null,
   "metadata": {},
   "outputs": [],
   "source": [
    "z_test (\"A\", \"B\", 'login', 'product_page', 3)"
   ]
  },
  {
   "cell_type": "markdown",
   "metadata": {},
   "source": [
    "*The difference in shares when going to the product page is fixed, then we will consider the difference in shares during the conversion between the login and the cart page*"
   ]
  },
  {
   "cell_type": "markdown",
   "metadata": {},
   "source": [
    "```\n",
    "H_0: The shares of groups A and B when moving from login to cart are equal\n",
    "\n",
    "H_a: Shares of groups A and B differ when going from login to cart\n",
    "alpha = 0.0167\n",
    "```"
   ]
  },
  {
   "cell_type": "code",
   "execution_count": null,
   "metadata": {},
   "outputs": [],
   "source": [
    "z_test (\"A\", \"B\", 'login','product_cart', 3)"
   ]
  },
  {
   "cell_type": "markdown",
   "metadata": {},
   "source": [
    "*The difference is not fixed, now let's compare the shares by conversion from login to purchase*"
   ]
  },
  {
   "cell_type": "markdown",
   "metadata": {},
   "source": [
    "```\n",
    "H_0: The shares of groups A and B when switching from login to purchase are equal\n",
    "\n",
    "H_a: The shares of groups A and B differ when switching from login to purchase\n",
    "alpha = 0.0167\n",
    "```"
   ]
  },
  {
   "cell_type": "code",
   "execution_count": null,
   "metadata": {},
   "outputs": [],
   "source": [
    "z_test (\"A\", \"B\", 'login','purchase', 3)"
   ]
  },
  {
   "cell_type": "markdown",
   "metadata": {},
   "source": [
    "*Difference not fixed*"
   ]
  },
  {
   "cell_type": "markdown",
   "metadata": {},
   "source": [
    "<div style=\"border:solid green 2px; padding: 20px\">\n",
    "\n",
    "\n",
    "**Conclusions:**\n",
    "\n",
    "<br/>Of all the tested hypotheses, the difference is statistically fixed in shares when moving from the login to the product page. In other cases, the difference is statistically insignificant."
   ]
  },
  {
   "cell_type": "markdown",
   "metadata": {},
   "source": [
    "## General conclusions\n",
    "<a id=\"conclusion\"></a>"
   ]
  },
  {
   "cell_type": "markdown",
   "metadata": {},
   "source": [
    "<div style=\"border:solid pink 2px; padding: 20px\">\n",
    "<br/> 1. Processed the results of the conducted A / B test\n",
    "<br/>2. As a result of checking the results for compliance with the TOR:\n",
    "     <br/>* The sample of the test is 901 people less than expected, that is, less than 18% of the estimated 6000\n",
    "  <br/> - The last day of monitoring the events is 30.12, not 04.01, that is, there is no data for 5 days\n",
    "  <br/> - The audience participating in the test from Europe was 4749 people or 93%. From the original European users, 10.3%, which does not meet the requirements of the TOR of 15%.\n",
    "  <br/>3. The following violations were made during the test:\n",
    "  <br/> - The control group is larger than the test group, with a difference of 707 people (24%).\n",
    "   <br/> - The days of the test overlap with the biggest Christmas and New Year sales of the year, both in Europe and America (promotion) and in Eastern Europe and Asia (New Year's lottery). There are 16 days of intersections with promotions in the ideal test, if we take into account that the test was completed ahead of time, then in reality 6 days.\n",
    "<br/>4. The number of events in the data by groups is extremely heterogeneous: the total number of events in group A is 14737, while in group B - 4067. For group B, more than 50% of users have no events at all. There are only 3 events in the 75th quartile, that is, there are very few events. In group A, things are better, the median value is 4 events.\n",
    "  <br/>5. A sharp increase in events in the data falls on December 14 - people are preparing for the celebration of Christmas (most users from Europe, Christmas in the Western Christian Church is celebrated on December 25), which again indicates the incorrectness of the test on the eve of big holidays, but marketing events did not greatly affect for the test - from the 25th, activity drops, although without a promotion it could be even lower. At the same time, we note that in group B the number of events does not depend much on the calendar until the peak of December 21, it fluctuates to 200-400 events per day, after 21 there are about 100-150 events per day.\n",
    "  <br/> 6. Regions and devices of users have little effect on the homogeneity of groups.\n",
    "  <br/>7. The total conversion of the resource is 30%\n",
    "  <br/> 8. The experiment with the introduction of the new recommendation system failed, because in the test group, instead of the expected increase in conversion, there is a decrease at each step, the only step in which the increase in group B is more from the product page to the cart: increase 5, 5%, which also does not meet expectations.\n",
    "  <br/>9. Of all the hypotheses tested at each stage of the funnel, the difference is statistically fixed in shares when moving from the login to the product page. In other cases, the difference is statistically insignificant."
   ]
  },
  {
   "cell_type": "markdown",
   "metadata": {},
   "source": [
    "## Recomendations"
   ]
  },
  {
   "cell_type": "markdown",
   "metadata": {},
   "source": [
    "<div style=\"border:solid pink 2px; padding: 20px\">\n",
    " This test can be considered failed, it must be carried out again strictly following the requirements of the TOR and excluding seasonal promotions and parallel tests.\n",
    "  For re-experimentation, it is necessary to take another control group to ensure sample homogeneity, calculate and take into account seasonality in advance, strictly follow the TOR and calculate the test results before interrupting it."
   ]
  },
  {
   "cell_type": "code",
   "execution_count": null,
   "metadata": {},
   "outputs": [],
   "source": []
  }
 ],
 "metadata": {
  "ExecuteTimeLog": [
   {
    "duration": 73,
    "start_time": "2022-11-29T10:24:27.106Z"
   },
   {
    "duration": 1380,
    "start_time": "2022-11-29T10:25:54.890Z"
   },
   {
    "duration": 1170,
    "start_time": "2022-11-29T11:19:30.319Z"
   },
   {
    "duration": 11,
    "start_time": "2022-11-29T11:20:59.314Z"
   },
   {
    "duration": 11,
    "start_time": "2022-11-29T11:21:25.326Z"
   },
   {
    "duration": 9,
    "start_time": "2022-11-29T11:21:44.798Z"
   },
   {
    "duration": 7,
    "start_time": "2022-11-29T11:22:07.592Z"
   },
   {
    "duration": 97,
    "start_time": "2022-11-29T11:36:25.471Z"
   },
   {
    "duration": 46,
    "start_time": "2022-11-29T12:17:40.441Z"
   },
   {
    "duration": 310,
    "start_time": "2022-11-29T12:22:45.453Z"
   },
   {
    "duration": 3,
    "start_time": "2022-11-29T12:23:32.730Z"
   },
   {
    "duration": 14,
    "start_time": "2022-11-29T12:23:39.460Z"
   },
   {
    "duration": 257,
    "start_time": "2022-11-29T12:24:09.301Z"
   },
   {
    "duration": 208,
    "start_time": "2022-11-29T12:24:26.550Z"
   },
   {
    "duration": 8,
    "start_time": "2022-11-29T12:24:35.632Z"
   },
   {
    "duration": 8,
    "start_time": "2022-11-29T12:25:48.847Z"
   },
   {
    "duration": 370,
    "start_time": "2022-11-29T12:26:26.680Z"
   },
   {
    "duration": 8,
    "start_time": "2022-11-29T12:26:32.296Z"
   },
   {
    "duration": 9,
    "start_time": "2022-11-29T12:27:09.530Z"
   },
   {
    "duration": 204,
    "start_time": "2022-11-29T12:27:38.310Z"
   },
   {
    "duration": 343,
    "start_time": "2022-11-29T12:27:53.180Z"
   },
   {
    "duration": 222,
    "start_time": "2022-11-29T12:29:07.199Z"
   },
   {
    "duration": 3512,
    "start_time": "2022-11-29T12:29:29.984Z"
   },
   {
    "duration": 9,
    "start_time": "2022-11-29T12:29:52.177Z"
   },
   {
    "duration": 9,
    "start_time": "2022-11-29T12:31:01.040Z"
   },
   {
    "duration": 1140,
    "start_time": "2022-11-29T12:31:39.422Z"
   },
   {
    "duration": 1346,
    "start_time": "2022-11-29T12:31:40.564Z"
   },
   {
    "duration": 12,
    "start_time": "2022-11-29T12:31:41.912Z"
   },
   {
    "duration": 11,
    "start_time": "2022-11-29T12:31:41.926Z"
   },
   {
    "duration": 16,
    "start_time": "2022-11-29T12:31:41.939Z"
   },
   {
    "duration": 9,
    "start_time": "2022-11-29T12:31:41.957Z"
   },
   {
    "duration": 98,
    "start_time": "2022-11-29T12:31:41.968Z"
   },
   {
    "duration": 19,
    "start_time": "2022-11-29T12:31:42.067Z"
   },
   {
    "duration": 14,
    "start_time": "2022-11-29T12:31:42.087Z"
   },
   {
    "duration": 392,
    "start_time": "2022-11-29T12:31:42.103Z"
   },
   {
    "duration": 8,
    "start_time": "2022-11-29T12:31:42.497Z"
   },
   {
    "duration": 3381,
    "start_time": "2022-11-29T12:31:42.507Z"
   },
   {
    "duration": 8,
    "start_time": "2022-11-29T12:31:45.890Z"
   },
   {
    "duration": 4,
    "start_time": "2022-11-29T12:39:45.293Z"
   },
   {
    "duration": 6,
    "start_time": "2022-11-29T12:40:21.216Z"
   },
   {
    "duration": 193,
    "start_time": "2022-11-29T12:41:13.460Z"
   },
   {
    "duration": 48,
    "start_time": "2022-11-29T12:45:50.674Z"
   },
   {
    "duration": 48,
    "start_time": "2022-11-29T12:45:59.576Z"
   },
   {
    "duration": 6,
    "start_time": "2022-11-29T12:46:05.747Z"
   },
   {
    "duration": 14,
    "start_time": "2022-11-29T12:48:41.956Z"
   },
   {
    "duration": 13,
    "start_time": "2022-11-29T12:51:59.065Z"
   },
   {
    "duration": 11,
    "start_time": "2022-11-29T12:55:38.746Z"
   },
   {
    "duration": 101,
    "start_time": "2022-11-29T12:58:41.386Z"
   },
   {
    "duration": 12,
    "start_time": "2022-11-29T12:59:04.926Z"
   },
   {
    "duration": 9,
    "start_time": "2022-11-29T12:59:24.275Z"
   },
   {
    "duration": 15,
    "start_time": "2022-11-29T13:00:04.955Z"
   },
   {
    "duration": 8,
    "start_time": "2022-11-29T13:09:23.612Z"
   },
   {
    "duration": 8,
    "start_time": "2022-11-29T13:09:56.003Z"
   },
   {
    "duration": 31,
    "start_time": "2022-11-29T14:58:08.334Z"
   },
   {
    "duration": 10,
    "start_time": "2022-11-29T14:58:40.433Z"
   },
   {
    "duration": 7,
    "start_time": "2022-11-29T14:59:21.321Z"
   },
   {
    "duration": 12,
    "start_time": "2022-11-29T15:00:00.197Z"
   },
   {
    "duration": 13,
    "start_time": "2022-11-29T15:02:34.006Z"
   },
   {
    "duration": 7,
    "start_time": "2022-11-29T15:02:57.732Z"
   },
   {
    "duration": 8,
    "start_time": "2022-11-29T15:04:02.384Z"
   },
   {
    "duration": 55,
    "start_time": "2022-11-29T15:04:52.666Z"
   },
   {
    "duration": 17,
    "start_time": "2022-11-29T15:05:48.905Z"
   },
   {
    "duration": 12,
    "start_time": "2022-11-29T15:07:00.946Z"
   },
   {
    "duration": 11,
    "start_time": "2022-11-29T15:07:25.995Z"
   },
   {
    "duration": 12,
    "start_time": "2022-11-29T15:08:41.475Z"
   },
   {
    "duration": 58,
    "start_time": "2022-11-29T15:21:23.533Z"
   },
   {
    "duration": 26,
    "start_time": "2022-11-29T15:21:32.738Z"
   },
   {
    "duration": 7,
    "start_time": "2022-11-29T15:23:47.381Z"
   },
   {
    "duration": 7,
    "start_time": "2022-11-29T15:24:16.552Z"
   },
   {
    "duration": 9,
    "start_time": "2022-11-29T15:24:49.227Z"
   },
   {
    "duration": 9,
    "start_time": "2022-11-29T15:25:10.892Z"
   },
   {
    "duration": 8,
    "start_time": "2022-11-29T15:25:13.301Z"
   },
   {
    "duration": 17,
    "start_time": "2022-11-29T15:36:17.102Z"
   },
   {
    "duration": 14,
    "start_time": "2022-11-29T15:36:24.637Z"
   },
   {
    "duration": 6,
    "start_time": "2022-11-29T15:36:25.987Z"
   },
   {
    "duration": 6,
    "start_time": "2022-11-29T15:39:59.487Z"
   },
   {
    "duration": 60,
    "start_time": "2022-11-29T15:57:35.361Z"
   },
   {
    "duration": 66,
    "start_time": "2022-11-29T16:02:35.444Z"
   },
   {
    "duration": 53,
    "start_time": "2022-11-29T16:03:35.528Z"
   },
   {
    "duration": 58,
    "start_time": "2022-11-29T16:04:22.251Z"
   },
   {
    "duration": 51,
    "start_time": "2022-11-29T16:09:31.241Z"
   },
   {
    "duration": 40,
    "start_time": "2022-11-29T16:10:09.309Z"
   },
   {
    "duration": 76,
    "start_time": "2022-11-29T16:13:25.005Z"
   },
   {
    "duration": 4,
    "start_time": "2022-11-29T16:40:28.567Z"
   },
   {
    "duration": 5,
    "start_time": "2022-11-29T16:40:47.246Z"
   },
   {
    "duration": 9,
    "start_time": "2022-11-29T16:42:11.457Z"
   },
   {
    "duration": 10,
    "start_time": "2022-11-29T16:42:22.061Z"
   },
   {
    "duration": 88,
    "start_time": "2022-11-29T16:42:34.321Z"
   },
   {
    "duration": 4,
    "start_time": "2022-11-29T16:42:44.490Z"
   },
   {
    "duration": 6,
    "start_time": "2022-11-29T16:54:02.330Z"
   },
   {
    "duration": 6,
    "start_time": "2022-11-29T17:04:39.605Z"
   },
   {
    "duration": 3,
    "start_time": "2022-11-29T17:06:00.768Z"
   },
   {
    "duration": 4,
    "start_time": "2022-11-29T17:18:36.174Z"
   },
   {
    "duration": 23,
    "start_time": "2022-11-29T17:19:09.159Z"
   },
   {
    "duration": 17,
    "start_time": "2022-11-29T17:19:21.831Z"
   },
   {
    "duration": 10,
    "start_time": "2022-11-29T17:22:42.375Z"
   },
   {
    "duration": 9,
    "start_time": "2022-11-29T17:23:54.804Z"
   },
   {
    "duration": 8,
    "start_time": "2022-11-29T17:24:15.289Z"
   },
   {
    "duration": 8,
    "start_time": "2022-11-29T17:26:35.662Z"
   },
   {
    "duration": 4,
    "start_time": "2022-11-29T17:32:38.121Z"
   },
   {
    "duration": 6,
    "start_time": "2022-11-29T17:34:55.310Z"
   },
   {
    "duration": 5,
    "start_time": "2022-11-29T17:35:14.531Z"
   },
   {
    "duration": 5,
    "start_time": "2022-11-29T17:35:30.962Z"
   },
   {
    "duration": 54,
    "start_time": "2022-11-29T17:40:39.882Z"
   },
   {
    "duration": 5,
    "start_time": "2022-11-29T17:41:07.137Z"
   },
   {
    "duration": 4,
    "start_time": "2022-11-29T17:41:20.239Z"
   },
   {
    "duration": 4,
    "start_time": "2022-11-29T17:43:30.511Z"
   },
   {
    "duration": 5,
    "start_time": "2022-11-29T17:44:07.366Z"
   },
   {
    "duration": 13,
    "start_time": "2022-11-29T17:50:13.236Z"
   },
   {
    "duration": 8,
    "start_time": "2022-11-29T17:56:22.692Z"
   },
   {
    "duration": 1227,
    "start_time": "2022-11-29T17:56:31.180Z"
   },
   {
    "duration": 1516,
    "start_time": "2022-11-29T17:56:32.409Z"
   },
   {
    "duration": 10,
    "start_time": "2022-11-29T17:56:33.927Z"
   },
   {
    "duration": 15,
    "start_time": "2022-11-29T17:56:33.939Z"
   },
   {
    "duration": 112,
    "start_time": "2022-11-29T17:56:33.955Z"
   },
   {
    "duration": 48,
    "start_time": "2022-11-29T17:56:34.069Z"
   },
   {
    "duration": 108,
    "start_time": "2022-11-29T17:56:34.118Z"
   },
   {
    "duration": 12,
    "start_time": "2022-11-29T17:56:34.227Z"
   },
   {
    "duration": 12,
    "start_time": "2022-11-29T17:56:34.240Z"
   },
   {
    "duration": 370,
    "start_time": "2022-11-29T17:56:34.254Z"
   },
   {
    "duration": 9,
    "start_time": "2022-11-29T17:56:34.626Z"
   },
   {
    "duration": 3206,
    "start_time": "2022-11-29T17:56:34.636Z"
   },
   {
    "duration": 9,
    "start_time": "2022-11-29T17:56:37.844Z"
   },
   {
    "duration": 208,
    "start_time": "2022-11-29T17:56:37.855Z"
   },
   {
    "duration": 22,
    "start_time": "2022-11-29T17:56:38.065Z"
   },
   {
    "duration": 13,
    "start_time": "2022-11-29T17:56:38.088Z"
   },
   {
    "duration": 23,
    "start_time": "2022-11-29T17:56:38.102Z"
   },
   {
    "duration": 9,
    "start_time": "2022-11-29T17:56:38.127Z"
   },
   {
    "duration": 16,
    "start_time": "2022-11-29T17:56:38.138Z"
   },
   {
    "duration": 5,
    "start_time": "2022-11-29T17:56:38.155Z"
   },
   {
    "duration": 15,
    "start_time": "2022-11-29T17:56:38.162Z"
   },
   {
    "duration": 40,
    "start_time": "2022-11-29T17:56:38.178Z"
   },
   {
    "duration": 36,
    "start_time": "2022-11-29T17:56:38.219Z"
   },
   {
    "duration": 71,
    "start_time": "2022-11-29T17:56:38.257Z"
   },
   {
    "duration": 58,
    "start_time": "2022-11-29T17:56:38.330Z"
   },
   {
    "duration": 45,
    "start_time": "2022-11-29T17:56:38.390Z"
   },
   {
    "duration": 5,
    "start_time": "2022-11-29T17:56:38.437Z"
   },
   {
    "duration": 13,
    "start_time": "2022-11-29T17:56:38.445Z"
   },
   {
    "duration": 24,
    "start_time": "2022-11-29T17:56:38.459Z"
   },
   {
    "duration": 6,
    "start_time": "2022-11-29T17:56:38.485Z"
   },
   {
    "duration": 23,
    "start_time": "2022-11-29T17:56:38.492Z"
   },
   {
    "duration": 9,
    "start_time": "2022-11-29T17:56:38.517Z"
   },
   {
    "duration": 9,
    "start_time": "2022-11-29T17:56:38.528Z"
   },
   {
    "duration": 8,
    "start_time": "2022-11-29T17:56:38.539Z"
   },
   {
    "duration": 31,
    "start_time": "2022-11-29T17:56:38.548Z"
   },
   {
    "duration": 67,
    "start_time": "2022-11-29T17:56:38.581Z"
   },
   {
    "duration": 5,
    "start_time": "2022-11-29T17:56:38.649Z"
   },
   {
    "duration": 31,
    "start_time": "2022-11-29T17:56:38.656Z"
   },
   {
    "duration": 4,
    "start_time": "2022-11-29T17:56:38.689Z"
   },
   {
    "duration": 35,
    "start_time": "2022-11-29T17:56:38.695Z"
   },
   {
    "duration": 16,
    "start_time": "2022-11-29T17:59:30.733Z"
   },
   {
    "duration": 5,
    "start_time": "2022-11-29T18:01:37.777Z"
   },
   {
    "duration": 71,
    "start_time": "2022-11-29T18:20:14.426Z"
   },
   {
    "duration": 115,
    "start_time": "2022-11-29T18:20:35.086Z"
   },
   {
    "duration": 13,
    "start_time": "2022-11-29T18:21:00.864Z"
   },
   {
    "duration": 14,
    "start_time": "2022-11-29T18:22:15.586Z"
   },
   {
    "duration": 51,
    "start_time": "2022-11-29T18:23:25.448Z"
   },
   {
    "duration": 46,
    "start_time": "2022-11-29T18:23:35.701Z"
   },
   {
    "duration": 17,
    "start_time": "2022-11-29T18:23:43.850Z"
   },
   {
    "duration": 19,
    "start_time": "2022-11-29T18:26:37.388Z"
   },
   {
    "duration": 724,
    "start_time": "2022-11-29T18:27:30.656Z"
   },
   {
    "duration": 23,
    "start_time": "2022-11-29T18:27:55.497Z"
   },
   {
    "duration": 17,
    "start_time": "2022-11-29T18:28:14.833Z"
   },
   {
    "duration": 11,
    "start_time": "2022-11-29T18:28:53.301Z"
   },
   {
    "duration": 5,
    "start_time": "2022-11-29T18:31:24.460Z"
   },
   {
    "duration": 10,
    "start_time": "2022-11-29T18:31:39.243Z"
   },
   {
    "duration": 48,
    "start_time": "2022-11-30T10:55:54.475Z"
   },
   {
    "duration": 1557,
    "start_time": "2022-11-30T10:56:04.488Z"
   },
   {
    "duration": 1369,
    "start_time": "2022-11-30T10:56:06.047Z"
   },
   {
    "duration": 11,
    "start_time": "2022-11-30T10:56:07.418Z"
   },
   {
    "duration": 8,
    "start_time": "2022-11-30T10:56:07.431Z"
   },
   {
    "duration": 22,
    "start_time": "2022-11-30T10:56:07.441Z"
   },
   {
    "duration": 13,
    "start_time": "2022-11-30T10:56:07.464Z"
   },
   {
    "duration": 107,
    "start_time": "2022-11-30T10:56:07.479Z"
   },
   {
    "duration": 13,
    "start_time": "2022-11-30T10:56:07.588Z"
   },
   {
    "duration": 17,
    "start_time": "2022-11-30T10:56:07.603Z"
   },
   {
    "duration": 441,
    "start_time": "2022-11-30T10:56:07.623Z"
   },
   {
    "duration": 9,
    "start_time": "2022-11-30T10:56:08.065Z"
   },
   {
    "duration": 3892,
    "start_time": "2022-11-30T10:56:08.076Z"
   },
   {
    "duration": 9,
    "start_time": "2022-11-30T10:56:11.970Z"
   },
   {
    "duration": 235,
    "start_time": "2022-11-30T10:56:11.981Z"
   },
   {
    "duration": 19,
    "start_time": "2022-11-30T10:56:12.218Z"
   },
   {
    "duration": 21,
    "start_time": "2022-11-30T10:56:12.251Z"
   },
   {
    "duration": 15,
    "start_time": "2022-11-30T10:56:12.274Z"
   },
   {
    "duration": 10,
    "start_time": "2022-11-30T10:56:12.291Z"
   },
   {
    "duration": 13,
    "start_time": "2022-11-30T10:56:12.302Z"
   },
   {
    "duration": 6,
    "start_time": "2022-11-30T10:56:12.317Z"
   },
   {
    "duration": 30,
    "start_time": "2022-11-30T10:56:12.324Z"
   },
   {
    "duration": 45,
    "start_time": "2022-11-30T10:56:12.361Z"
   },
   {
    "duration": 59,
    "start_time": "2022-11-30T10:56:12.407Z"
   },
   {
    "duration": 50,
    "start_time": "2022-11-30T10:56:12.468Z"
   },
   {
    "duration": 68,
    "start_time": "2022-11-30T10:56:12.520Z"
   },
   {
    "duration": 44,
    "start_time": "2022-11-30T10:56:12.591Z"
   },
   {
    "duration": 27,
    "start_time": "2022-11-30T10:56:12.637Z"
   },
   {
    "duration": 7,
    "start_time": "2022-11-30T10:56:12.668Z"
   },
   {
    "duration": 8,
    "start_time": "2022-11-30T10:56:12.676Z"
   },
   {
    "duration": 7,
    "start_time": "2022-11-30T10:56:12.685Z"
   },
   {
    "duration": 22,
    "start_time": "2022-11-30T10:56:12.694Z"
   },
   {
    "duration": 35,
    "start_time": "2022-11-30T10:56:12.717Z"
   },
   {
    "duration": 13,
    "start_time": "2022-11-30T10:56:12.753Z"
   },
   {
    "duration": 14,
    "start_time": "2022-11-30T10:56:12.767Z"
   },
   {
    "duration": 9,
    "start_time": "2022-11-30T10:56:12.782Z"
   },
   {
    "duration": 89,
    "start_time": "2022-11-30T10:56:12.793Z"
   },
   {
    "duration": 6,
    "start_time": "2022-11-30T10:56:12.884Z"
   },
   {
    "duration": 15,
    "start_time": "2022-11-30T10:56:12.891Z"
   },
   {
    "duration": 18,
    "start_time": "2022-11-30T10:56:12.907Z"
   },
   {
    "duration": 44,
    "start_time": "2022-11-30T10:56:12.927Z"
   },
   {
    "duration": 17,
    "start_time": "2022-11-30T10:56:12.973Z"
   },
   {
    "duration": 9,
    "start_time": "2022-11-30T10:56:12.991Z"
   },
   {
    "duration": 9,
    "start_time": "2022-11-30T10:56:13.002Z"
   },
   {
    "duration": 52,
    "start_time": "2022-11-30T10:56:13.013Z"
   },
   {
    "duration": 10,
    "start_time": "2022-11-30T11:01:36.739Z"
   },
   {
    "duration": 10,
    "start_time": "2022-11-30T11:02:01.413Z"
   },
   {
    "duration": 13,
    "start_time": "2022-11-30T11:02:33.055Z"
   },
   {
    "duration": 13,
    "start_time": "2022-11-30T11:42:02.698Z"
   },
   {
    "duration": 15,
    "start_time": "2022-11-30T11:42:47.194Z"
   },
   {
    "duration": 16,
    "start_time": "2022-11-30T11:42:56.435Z"
   },
   {
    "duration": 11,
    "start_time": "2022-11-30T11:46:19.733Z"
   },
   {
    "duration": 15,
    "start_time": "2022-11-30T11:46:33.114Z"
   },
   {
    "duration": 7,
    "start_time": "2022-11-30T11:49:54.099Z"
   },
   {
    "duration": 18,
    "start_time": "2022-11-30T11:51:10.867Z"
   },
   {
    "duration": 3,
    "start_time": "2022-11-30T12:17:29.638Z"
   },
   {
    "duration": 18,
    "start_time": "2022-11-30T12:18:35.943Z"
   },
   {
    "duration": 1314,
    "start_time": "2022-11-30T12:27:31.715Z"
   },
   {
    "duration": 13,
    "start_time": "2022-11-30T12:28:54.105Z"
   },
   {
    "duration": 171,
    "start_time": "2022-11-30T12:29:27.388Z"
   },
   {
    "duration": 4,
    "start_time": "2022-11-30T12:37:46.979Z"
   },
   {
    "duration": 169,
    "start_time": "2022-11-30T12:46:21.924Z"
   },
   {
    "duration": 164,
    "start_time": "2022-11-30T12:47:19.301Z"
   },
   {
    "duration": 167,
    "start_time": "2022-11-30T12:47:38.764Z"
   },
   {
    "duration": 6,
    "start_time": "2022-11-30T12:54:59.545Z"
   },
   {
    "duration": 17,
    "start_time": "2022-11-30T12:55:39.377Z"
   },
   {
    "duration": 23,
    "start_time": "2022-11-30T12:56:13.326Z"
   },
   {
    "duration": 24,
    "start_time": "2022-11-30T12:56:51.345Z"
   },
   {
    "duration": 88,
    "start_time": "2022-11-30T12:58:30.512Z"
   },
   {
    "duration": 400,
    "start_time": "2022-11-30T12:59:05.397Z"
   },
   {
    "duration": 453,
    "start_time": "2022-11-30T13:00:07.961Z"
   },
   {
    "duration": 387,
    "start_time": "2022-11-30T13:00:18.143Z"
   },
   {
    "duration": 426,
    "start_time": "2022-11-30T13:03:34.079Z"
   },
   {
    "duration": 400,
    "start_time": "2022-11-30T13:04:22.411Z"
   },
   {
    "duration": 422,
    "start_time": "2022-11-30T13:04:32.059Z"
   },
   {
    "duration": 418,
    "start_time": "2022-11-30T13:04:51.345Z"
   },
   {
    "duration": 511,
    "start_time": "2022-11-30T13:05:08.264Z"
   },
   {
    "duration": 412,
    "start_time": "2022-11-30T13:05:43.047Z"
   },
   {
    "duration": 407,
    "start_time": "2022-11-30T13:06:36.380Z"
   },
   {
    "duration": 412,
    "start_time": "2022-11-30T13:06:44.698Z"
   },
   {
    "duration": 410,
    "start_time": "2022-11-30T13:07:21.633Z"
   },
   {
    "duration": 508,
    "start_time": "2022-11-30T13:07:42.911Z"
   },
   {
    "duration": 75,
    "start_time": "2022-11-30T13:08:49.051Z"
   },
   {
    "duration": 407,
    "start_time": "2022-11-30T13:08:56.776Z"
   },
   {
    "duration": 72,
    "start_time": "2022-11-30T13:09:14.167Z"
   },
   {
    "duration": 432,
    "start_time": "2022-11-30T13:09:20.821Z"
   },
   {
    "duration": 417,
    "start_time": "2022-11-30T13:09:40.945Z"
   },
   {
    "duration": 399,
    "start_time": "2022-11-30T13:10:07.810Z"
   },
   {
    "duration": 16,
    "start_time": "2022-11-30T13:19:44.818Z"
   },
   {
    "duration": 15,
    "start_time": "2022-11-30T13:20:08.895Z"
   },
   {
    "duration": 12,
    "start_time": "2022-11-30T13:20:52.952Z"
   },
   {
    "duration": 13,
    "start_time": "2022-11-30T13:21:29.961Z"
   },
   {
    "duration": 422,
    "start_time": "2022-11-30T13:24:52.432Z"
   },
   {
    "duration": 20,
    "start_time": "2022-11-30T13:33:06.816Z"
   },
   {
    "duration": 15,
    "start_time": "2022-11-30T13:33:32.160Z"
   },
   {
    "duration": 317,
    "start_time": "2022-11-30T13:36:21.904Z"
   },
   {
    "duration": 203,
    "start_time": "2022-11-30T13:42:14.744Z"
   },
   {
    "duration": 6,
    "start_time": "2022-11-30T13:42:49.726Z"
   },
   {
    "duration": 22,
    "start_time": "2022-11-30T13:42:56.145Z"
   },
   {
    "duration": 1356,
    "start_time": "2022-11-30T14:34:31.704Z"
   },
   {
    "duration": 1848,
    "start_time": "2022-11-30T14:34:33.062Z"
   },
   {
    "duration": 13,
    "start_time": "2022-11-30T14:34:34.911Z"
   },
   {
    "duration": 8,
    "start_time": "2022-11-30T14:34:34.926Z"
   },
   {
    "duration": 13,
    "start_time": "2022-11-30T14:34:34.936Z"
   },
   {
    "duration": 17,
    "start_time": "2022-11-30T14:34:34.950Z"
   },
   {
    "duration": 106,
    "start_time": "2022-11-30T14:34:34.969Z"
   },
   {
    "duration": 14,
    "start_time": "2022-11-30T14:34:35.077Z"
   },
   {
    "duration": 12,
    "start_time": "2022-11-30T14:34:35.093Z"
   },
   {
    "duration": 420,
    "start_time": "2022-11-30T14:34:35.108Z"
   },
   {
    "duration": 10,
    "start_time": "2022-11-30T14:34:35.531Z"
   },
   {
    "duration": 3518,
    "start_time": "2022-11-30T14:34:35.543Z"
   },
   {
    "duration": 9,
    "start_time": "2022-11-30T14:34:39.063Z"
   },
   {
    "duration": 256,
    "start_time": "2022-11-30T14:34:39.074Z"
   },
   {
    "duration": 25,
    "start_time": "2022-11-30T14:34:39.333Z"
   },
   {
    "duration": 12,
    "start_time": "2022-11-30T14:34:39.361Z"
   },
   {
    "duration": 18,
    "start_time": "2022-11-30T14:34:39.375Z"
   },
   {
    "duration": 12,
    "start_time": "2022-11-30T14:34:39.394Z"
   },
   {
    "duration": 14,
    "start_time": "2022-11-30T14:34:39.407Z"
   },
   {
    "duration": 7,
    "start_time": "2022-11-30T14:34:39.450Z"
   },
   {
    "duration": 7,
    "start_time": "2022-11-30T14:34:39.459Z"
   },
   {
    "duration": 46,
    "start_time": "2022-11-30T14:34:39.468Z"
   },
   {
    "duration": 68,
    "start_time": "2022-11-30T14:34:39.516Z"
   },
   {
    "duration": 76,
    "start_time": "2022-11-30T14:34:39.586Z"
   },
   {
    "duration": 60,
    "start_time": "2022-11-30T14:34:39.665Z"
   },
   {
    "duration": 70,
    "start_time": "2022-11-30T14:34:39.727Z"
   },
   {
    "duration": 3,
    "start_time": "2022-11-30T14:34:39.800Z"
   },
   {
    "duration": 13,
    "start_time": "2022-11-30T14:34:39.808Z"
   },
   {
    "duration": 28,
    "start_time": "2022-11-30T14:34:39.823Z"
   },
   {
    "duration": 4,
    "start_time": "2022-11-30T14:34:39.853Z"
   },
   {
    "duration": 34,
    "start_time": "2022-11-30T14:34:39.859Z"
   },
   {
    "duration": 16,
    "start_time": "2022-11-30T14:34:39.894Z"
   },
   {
    "duration": 10,
    "start_time": "2022-11-30T14:34:39.912Z"
   },
   {
    "duration": 34,
    "start_time": "2022-11-30T14:34:39.924Z"
   },
   {
    "duration": 9,
    "start_time": "2022-11-30T14:34:39.960Z"
   },
   {
    "duration": 76,
    "start_time": "2022-11-30T14:34:39.972Z"
   },
   {
    "duration": 5,
    "start_time": "2022-11-30T14:34:40.051Z"
   },
   {
    "duration": 16,
    "start_time": "2022-11-30T14:34:40.058Z"
   },
   {
    "duration": 19,
    "start_time": "2022-11-30T14:34:40.075Z"
   },
   {
    "duration": 23,
    "start_time": "2022-11-30T14:34:40.096Z"
   },
   {
    "duration": 36,
    "start_time": "2022-11-30T14:34:40.121Z"
   },
   {
    "duration": 11,
    "start_time": "2022-11-30T14:34:40.159Z"
   },
   {
    "duration": 34,
    "start_time": "2022-11-30T14:34:40.171Z"
   },
   {
    "duration": 18,
    "start_time": "2022-11-30T14:34:40.206Z"
   },
   {
    "duration": 18,
    "start_time": "2022-11-30T14:34:40.226Z"
   },
   {
    "duration": 17,
    "start_time": "2022-11-30T14:34:40.245Z"
   },
   {
    "duration": 13,
    "start_time": "2022-11-30T14:34:40.265Z"
   },
   {
    "duration": 18,
    "start_time": "2022-11-30T14:34:40.280Z"
   },
   {
    "duration": 15,
    "start_time": "2022-11-30T14:34:40.300Z"
   },
   {
    "duration": 4,
    "start_time": "2022-11-30T14:34:40.316Z"
   },
   {
    "duration": 207,
    "start_time": "2022-11-30T14:34:40.322Z"
   },
   {
    "duration": 28,
    "start_time": "2022-11-30T14:34:40.531Z"
   },
   {
    "duration": 12,
    "start_time": "2022-11-30T14:34:40.561Z"
   },
   {
    "duration": 18,
    "start_time": "2022-11-30T14:34:40.575Z"
   },
   {
    "duration": 13,
    "start_time": "2022-11-30T14:34:40.595Z"
   },
   {
    "duration": 437,
    "start_time": "2022-11-30T14:34:40.609Z"
   },
   {
    "duration": 290,
    "start_time": "2022-11-30T14:34:41.051Z"
   },
   {
    "duration": 0,
    "start_time": "2022-11-30T14:34:41.343Z"
   },
   {
    "duration": 0,
    "start_time": "2022-11-30T14:34:41.351Z"
   },
   {
    "duration": 0,
    "start_time": "2022-11-30T14:34:41.353Z"
   },
   {
    "duration": 0,
    "start_time": "2022-11-30T14:34:41.354Z"
   },
   {
    "duration": 19,
    "start_time": "2022-11-30T14:35:09.671Z"
   },
   {
    "duration": 16,
    "start_time": "2022-11-30T14:35:47.942Z"
   },
   {
    "duration": 18,
    "start_time": "2022-11-30T14:37:44.481Z"
   },
   {
    "duration": 81,
    "start_time": "2022-11-30T14:38:54.362Z"
   },
   {
    "duration": 21,
    "start_time": "2022-11-30T14:39:14.367Z"
   },
   {
    "duration": 5,
    "start_time": "2022-11-30T14:39:54.397Z"
   },
   {
    "duration": 221,
    "start_time": "2022-11-30T14:40:21.348Z"
   },
   {
    "duration": 18,
    "start_time": "2022-11-30T14:40:38.316Z"
   },
   {
    "duration": 18,
    "start_time": "2022-11-30T14:40:50.829Z"
   },
   {
    "duration": 18,
    "start_time": "2022-11-30T14:42:34.128Z"
   },
   {
    "duration": 19,
    "start_time": "2022-11-30T14:43:01.257Z"
   },
   {
    "duration": 16,
    "start_time": "2022-11-30T14:43:29.339Z"
   },
   {
    "duration": 330,
    "start_time": "2022-11-30T14:44:00.279Z"
   },
   {
    "duration": 16,
    "start_time": "2022-11-30T14:44:24.008Z"
   },
   {
    "duration": 13,
    "start_time": "2022-11-30T14:44:53.426Z"
   },
   {
    "duration": 15,
    "start_time": "2022-11-30T14:45:10.802Z"
   },
   {
    "duration": 369,
    "start_time": "2022-11-30T14:45:47.269Z"
   },
   {
    "duration": 579,
    "start_time": "2022-11-30T14:45:56.275Z"
   },
   {
    "duration": 540,
    "start_time": "2022-11-30T14:47:22.586Z"
   },
   {
    "duration": 397,
    "start_time": "2022-11-30T14:48:53.381Z"
   },
   {
    "duration": 457,
    "start_time": "2022-11-30T14:52:04.025Z"
   },
   {
    "duration": 193,
    "start_time": "2022-11-30T14:52:47.921Z"
   },
   {
    "duration": 446,
    "start_time": "2022-11-30T14:53:02.652Z"
   },
   {
    "duration": 523,
    "start_time": "2022-11-30T14:53:56.167Z"
   },
   {
    "duration": 438,
    "start_time": "2022-11-30T14:54:27.278Z"
   },
   {
    "duration": 466,
    "start_time": "2022-11-30T14:56:57.122Z"
   },
   {
    "duration": 515,
    "start_time": "2022-11-30T14:57:35.094Z"
   },
   {
    "duration": 177,
    "start_time": "2022-11-30T14:59:35.260Z"
   },
   {
    "duration": 476,
    "start_time": "2022-11-30T14:59:56.129Z"
   },
   {
    "duration": 602,
    "start_time": "2022-11-30T15:01:02.371Z"
   },
   {
    "duration": 435,
    "start_time": "2022-11-30T15:01:31.713Z"
   },
   {
    "duration": 264,
    "start_time": "2022-11-30T15:20:55.389Z"
   },
   {
    "duration": 213,
    "start_time": "2022-11-30T15:21:27.879Z"
   },
   {
    "duration": 202,
    "start_time": "2022-11-30T15:21:56.213Z"
   },
   {
    "duration": 216,
    "start_time": "2022-11-30T15:22:22.740Z"
   },
   {
    "duration": 275,
    "start_time": "2022-11-30T15:23:04.129Z"
   },
   {
    "duration": 226,
    "start_time": "2022-11-30T15:25:28.751Z"
   },
   {
    "duration": 72,
    "start_time": "2022-11-30T15:28:17.928Z"
   },
   {
    "duration": 204,
    "start_time": "2022-11-30T15:28:26.490Z"
   },
   {
    "duration": 299,
    "start_time": "2022-11-30T15:29:30.006Z"
   },
   {
    "duration": 1955,
    "start_time": "2022-11-30T15:29:50.644Z"
   },
   {
    "duration": 1484,
    "start_time": "2022-11-30T15:30:09.819Z"
   },
   {
    "duration": 1349,
    "start_time": "2022-11-30T15:30:24.746Z"
   },
   {
    "duration": 2098,
    "start_time": "2022-11-30T15:30:26.097Z"
   },
   {
    "duration": 14,
    "start_time": "2022-11-30T15:30:28.197Z"
   },
   {
    "duration": 8,
    "start_time": "2022-11-30T15:30:28.215Z"
   },
   {
    "duration": 11,
    "start_time": "2022-11-30T15:30:28.225Z"
   },
   {
    "duration": 9,
    "start_time": "2022-11-30T15:30:28.238Z"
   },
   {
    "duration": 122,
    "start_time": "2022-11-30T15:30:28.251Z"
   },
   {
    "duration": 13,
    "start_time": "2022-11-30T15:30:28.375Z"
   },
   {
    "duration": 21,
    "start_time": "2022-11-30T15:30:28.390Z"
   },
   {
    "duration": 432,
    "start_time": "2022-11-30T15:30:28.414Z"
   },
   {
    "duration": 19,
    "start_time": "2022-11-30T15:30:28.847Z"
   },
   {
    "duration": 3765,
    "start_time": "2022-11-30T15:30:28.868Z"
   },
   {
    "duration": 20,
    "start_time": "2022-11-30T15:30:32.635Z"
   },
   {
    "duration": 259,
    "start_time": "2022-11-30T15:30:32.661Z"
   },
   {
    "duration": 18,
    "start_time": "2022-11-30T15:30:32.921Z"
   },
   {
    "duration": 14,
    "start_time": "2022-11-30T15:30:32.951Z"
   },
   {
    "duration": 19,
    "start_time": "2022-11-30T15:30:32.966Z"
   },
   {
    "duration": 27,
    "start_time": "2022-11-30T15:30:32.987Z"
   },
   {
    "duration": 14,
    "start_time": "2022-11-30T15:30:33.015Z"
   },
   {
    "duration": 8,
    "start_time": "2022-11-30T15:30:33.031Z"
   },
   {
    "duration": 26,
    "start_time": "2022-11-30T15:30:33.041Z"
   },
   {
    "duration": 54,
    "start_time": "2022-11-30T15:30:33.069Z"
   },
   {
    "duration": 50,
    "start_time": "2022-11-30T15:30:33.125Z"
   },
   {
    "duration": 55,
    "start_time": "2022-11-30T15:30:33.176Z"
   },
   {
    "duration": 55,
    "start_time": "2022-11-30T15:30:33.233Z"
   },
   {
    "duration": 45,
    "start_time": "2022-11-30T15:30:33.290Z"
   },
   {
    "duration": 26,
    "start_time": "2022-11-30T15:30:33.336Z"
   },
   {
    "duration": 7,
    "start_time": "2022-11-30T15:30:33.369Z"
   },
   {
    "duration": 14,
    "start_time": "2022-11-30T15:30:33.378Z"
   },
   {
    "duration": 27,
    "start_time": "2022-11-30T15:30:33.393Z"
   },
   {
    "duration": 40,
    "start_time": "2022-11-30T15:30:33.421Z"
   },
   {
    "duration": 13,
    "start_time": "2022-11-30T15:30:33.464Z"
   },
   {
    "duration": 11,
    "start_time": "2022-11-30T15:30:33.479Z"
   },
   {
    "duration": 14,
    "start_time": "2022-11-30T15:30:33.492Z"
   },
   {
    "duration": 16,
    "start_time": "2022-11-30T15:30:33.508Z"
   },
   {
    "duration": 75,
    "start_time": "2022-11-30T15:30:33.525Z"
   },
   {
    "duration": 9,
    "start_time": "2022-11-30T15:30:33.602Z"
   },
   {
    "duration": 20,
    "start_time": "2022-11-30T15:30:33.613Z"
   },
   {
    "duration": 36,
    "start_time": "2022-11-30T15:30:33.635Z"
   },
   {
    "duration": 11,
    "start_time": "2022-11-30T15:30:33.673Z"
   },
   {
    "duration": 33,
    "start_time": "2022-11-30T15:30:33.685Z"
   },
   {
    "duration": 10,
    "start_time": "2022-11-30T15:30:33.720Z"
   },
   {
    "duration": 34,
    "start_time": "2022-11-30T15:30:33.732Z"
   },
   {
    "duration": 14,
    "start_time": "2022-11-30T15:30:33.768Z"
   },
   {
    "duration": 22,
    "start_time": "2022-11-30T15:30:33.783Z"
   },
   {
    "duration": 17,
    "start_time": "2022-11-30T15:30:33.806Z"
   },
   {
    "duration": 13,
    "start_time": "2022-11-30T15:30:33.824Z"
   },
   {
    "duration": 18,
    "start_time": "2022-11-30T15:30:33.839Z"
   },
   {
    "duration": 17,
    "start_time": "2022-11-30T15:30:33.858Z"
   },
   {
    "duration": 11,
    "start_time": "2022-11-30T15:30:33.876Z"
   },
   {
    "duration": 201,
    "start_time": "2022-11-30T15:30:33.889Z"
   },
   {
    "duration": 20,
    "start_time": "2022-11-30T15:30:34.091Z"
   },
   {
    "duration": 12,
    "start_time": "2022-11-30T15:30:34.113Z"
   },
   {
    "duration": 44,
    "start_time": "2022-11-30T15:30:34.126Z"
   },
   {
    "duration": 13,
    "start_time": "2022-11-30T15:30:34.172Z"
   },
   {
    "duration": 428,
    "start_time": "2022-11-30T15:30:34.187Z"
   },
   {
    "duration": 14,
    "start_time": "2022-11-30T15:30:34.617Z"
   },
   {
    "duration": 27,
    "start_time": "2022-11-30T15:30:34.633Z"
   },
   {
    "duration": 480,
    "start_time": "2022-11-30T15:30:34.667Z"
   },
   {
    "duration": 228,
    "start_time": "2022-11-30T15:30:35.150Z"
   },
   {
    "duration": 194,
    "start_time": "2022-11-30T15:30:35.380Z"
   },
   {
    "duration": 4,
    "start_time": "2022-11-30T15:30:35.576Z"
   },
   {
    "duration": 39,
    "start_time": "2022-11-30T15:30:35.582Z"
   },
   {
    "duration": 1578,
    "start_time": "2022-11-30T15:30:49.629Z"
   },
   {
    "duration": 1596,
    "start_time": "2022-11-30T15:31:20.569Z"
   },
   {
    "duration": 1355,
    "start_time": "2022-11-30T15:31:29.192Z"
   },
   {
    "duration": 1237,
    "start_time": "2022-11-30T15:31:30.549Z"
   },
   {
    "duration": 12,
    "start_time": "2022-11-30T15:31:31.788Z"
   },
   {
    "duration": 30,
    "start_time": "2022-11-30T15:31:31.802Z"
   },
   {
    "duration": 26,
    "start_time": "2022-11-30T15:31:31.833Z"
   },
   {
    "duration": 36,
    "start_time": "2022-11-30T15:31:31.860Z"
   },
   {
    "duration": 131,
    "start_time": "2022-11-30T15:31:31.898Z"
   },
   {
    "duration": 23,
    "start_time": "2022-11-30T15:31:32.032Z"
   },
   {
    "duration": 29,
    "start_time": "2022-11-30T15:31:32.057Z"
   },
   {
    "duration": 421,
    "start_time": "2022-11-30T15:31:32.089Z"
   },
   {
    "duration": 9,
    "start_time": "2022-11-30T15:31:32.513Z"
   },
   {
    "duration": 3586,
    "start_time": "2022-11-30T15:31:32.524Z"
   },
   {
    "duration": 9,
    "start_time": "2022-11-30T15:31:36.112Z"
   },
   {
    "duration": 261,
    "start_time": "2022-11-30T15:31:36.123Z"
   },
   {
    "duration": 14,
    "start_time": "2022-11-30T15:31:36.387Z"
   },
   {
    "duration": 9,
    "start_time": "2022-11-30T15:31:36.403Z"
   },
   {
    "duration": 50,
    "start_time": "2022-11-30T15:31:36.414Z"
   },
   {
    "duration": 11,
    "start_time": "2022-11-30T15:31:36.466Z"
   },
   {
    "duration": 14,
    "start_time": "2022-11-30T15:31:36.478Z"
   },
   {
    "duration": 6,
    "start_time": "2022-11-30T15:31:36.494Z"
   },
   {
    "duration": 9,
    "start_time": "2022-11-30T15:31:36.501Z"
   },
   {
    "duration": 61,
    "start_time": "2022-11-30T15:31:36.513Z"
   },
   {
    "duration": 38,
    "start_time": "2022-11-30T15:31:36.576Z"
   },
   {
    "duration": 66,
    "start_time": "2022-11-30T15:31:36.616Z"
   },
   {
    "duration": 47,
    "start_time": "2022-11-30T15:31:36.684Z"
   },
   {
    "duration": 62,
    "start_time": "2022-11-30T15:31:36.732Z"
   },
   {
    "duration": 8,
    "start_time": "2022-11-30T15:31:36.795Z"
   },
   {
    "duration": 26,
    "start_time": "2022-11-30T15:31:36.806Z"
   },
   {
    "duration": 38,
    "start_time": "2022-11-30T15:31:36.834Z"
   },
   {
    "duration": 27,
    "start_time": "2022-11-30T15:31:36.874Z"
   },
   {
    "duration": 38,
    "start_time": "2022-11-30T15:31:36.903Z"
   },
   {
    "duration": 28,
    "start_time": "2022-11-30T15:31:36.943Z"
   },
   {
    "duration": 19,
    "start_time": "2022-11-30T15:31:36.973Z"
   },
   {
    "duration": 45,
    "start_time": "2022-11-30T15:31:36.994Z"
   },
   {
    "duration": 41,
    "start_time": "2022-11-30T15:31:37.041Z"
   },
   {
    "duration": 94,
    "start_time": "2022-11-30T15:31:37.084Z"
   },
   {
    "duration": 19,
    "start_time": "2022-11-30T15:31:37.179Z"
   },
   {
    "duration": 33,
    "start_time": "2022-11-30T15:31:37.200Z"
   },
   {
    "duration": 20,
    "start_time": "2022-11-30T15:31:37.235Z"
   },
   {
    "duration": 19,
    "start_time": "2022-11-30T15:31:37.260Z"
   },
   {
    "duration": 18,
    "start_time": "2022-11-30T15:31:37.281Z"
   },
   {
    "duration": 13,
    "start_time": "2022-11-30T15:31:37.302Z"
   },
   {
    "duration": 13,
    "start_time": "2022-11-30T15:31:37.317Z"
   },
   {
    "duration": 34,
    "start_time": "2022-11-30T15:31:37.332Z"
   },
   {
    "duration": 21,
    "start_time": "2022-11-30T15:31:37.369Z"
   },
   {
    "duration": 19,
    "start_time": "2022-11-30T15:31:37.392Z"
   },
   {
    "duration": 15,
    "start_time": "2022-11-30T15:31:37.413Z"
   },
   {
    "duration": 17,
    "start_time": "2022-11-30T15:31:37.430Z"
   },
   {
    "duration": 20,
    "start_time": "2022-11-30T15:31:37.454Z"
   },
   {
    "duration": 7,
    "start_time": "2022-11-30T15:31:37.476Z"
   },
   {
    "duration": 205,
    "start_time": "2022-11-30T15:31:37.485Z"
   },
   {
    "duration": 21,
    "start_time": "2022-11-30T15:31:37.692Z"
   },
   {
    "duration": 12,
    "start_time": "2022-11-30T15:31:37.715Z"
   },
   {
    "duration": 41,
    "start_time": "2022-11-30T15:31:37.728Z"
   },
   {
    "duration": 12,
    "start_time": "2022-11-30T15:31:37.771Z"
   },
   {
    "duration": 434,
    "start_time": "2022-11-30T15:31:37.784Z"
   },
   {
    "duration": 12,
    "start_time": "2022-11-30T15:31:38.220Z"
   },
   {
    "duration": 30,
    "start_time": "2022-11-30T15:31:38.234Z"
   },
   {
    "duration": 452,
    "start_time": "2022-11-30T15:31:38.266Z"
   },
   {
    "duration": 226,
    "start_time": "2022-11-30T15:31:38.720Z"
   },
   {
    "duration": 188,
    "start_time": "2022-11-30T15:31:38.953Z"
   },
   {
    "duration": 23,
    "start_time": "2022-11-30T15:31:39.143Z"
   },
   {
    "duration": 40,
    "start_time": "2022-11-30T15:31:39.167Z"
   },
   {
    "duration": 305,
    "start_time": "2022-11-30T15:33:10.712Z"
   },
   {
    "duration": 1359,
    "start_time": "2022-11-30T15:33:31.390Z"
   },
   {
    "duration": 1138,
    "start_time": "2022-11-30T15:33:32.751Z"
   },
   {
    "duration": 12,
    "start_time": "2022-11-30T15:33:33.890Z"
   },
   {
    "duration": 29,
    "start_time": "2022-11-30T15:33:33.905Z"
   },
   {
    "duration": 38,
    "start_time": "2022-11-30T15:33:33.936Z"
   },
   {
    "duration": 30,
    "start_time": "2022-11-30T15:33:33.976Z"
   },
   {
    "duration": 128,
    "start_time": "2022-11-30T15:33:34.007Z"
   },
   {
    "duration": 19,
    "start_time": "2022-11-30T15:33:34.138Z"
   },
   {
    "duration": 26,
    "start_time": "2022-11-30T15:33:34.159Z"
   },
   {
    "duration": 451,
    "start_time": "2022-11-30T15:33:34.188Z"
   },
   {
    "duration": 22,
    "start_time": "2022-11-30T15:33:34.641Z"
   },
   {
    "duration": 3732,
    "start_time": "2022-11-30T15:33:34.665Z"
   },
   {
    "duration": 9,
    "start_time": "2022-11-30T15:33:38.399Z"
   },
   {
    "duration": 237,
    "start_time": "2022-11-30T15:33:38.410Z"
   },
   {
    "duration": 16,
    "start_time": "2022-11-30T15:33:38.660Z"
   },
   {
    "duration": 10,
    "start_time": "2022-11-30T15:33:38.678Z"
   },
   {
    "duration": 47,
    "start_time": "2022-11-30T15:33:38.689Z"
   },
   {
    "duration": 15,
    "start_time": "2022-11-30T15:33:38.738Z"
   },
   {
    "duration": 18,
    "start_time": "2022-11-30T15:33:38.755Z"
   },
   {
    "duration": 6,
    "start_time": "2022-11-30T15:33:38.775Z"
   },
   {
    "duration": 8,
    "start_time": "2022-11-30T15:33:38.782Z"
   },
   {
    "duration": 73,
    "start_time": "2022-11-30T15:33:38.792Z"
   },
   {
    "duration": 42,
    "start_time": "2022-11-30T15:33:38.867Z"
   },
   {
    "duration": 57,
    "start_time": "2022-11-30T15:33:38.911Z"
   },
   {
    "duration": 47,
    "start_time": "2022-11-30T15:33:38.969Z"
   },
   {
    "duration": 67,
    "start_time": "2022-11-30T15:33:39.018Z"
   },
   {
    "duration": 4,
    "start_time": "2022-11-30T15:33:39.086Z"
   },
   {
    "duration": 13,
    "start_time": "2022-11-30T15:33:39.095Z"
   },
   {
    "duration": 21,
    "start_time": "2022-11-30T15:33:39.110Z"
   },
   {
    "duration": 13,
    "start_time": "2022-11-30T15:33:39.134Z"
   },
   {
    "duration": 46,
    "start_time": "2022-11-30T15:33:39.149Z"
   },
   {
    "duration": 13,
    "start_time": "2022-11-30T15:33:39.197Z"
   },
   {
    "duration": 8,
    "start_time": "2022-11-30T15:33:39.213Z"
   },
   {
    "duration": 9,
    "start_time": "2022-11-30T15:33:39.223Z"
   },
   {
    "duration": 5,
    "start_time": "2022-11-30T15:33:39.234Z"
   },
   {
    "duration": 77,
    "start_time": "2022-11-30T15:33:39.255Z"
   },
   {
    "duration": 18,
    "start_time": "2022-11-30T15:33:39.334Z"
   },
   {
    "duration": 24,
    "start_time": "2022-11-30T15:33:39.354Z"
   },
   {
    "duration": 22,
    "start_time": "2022-11-30T15:33:39.379Z"
   },
   {
    "duration": 11,
    "start_time": "2022-11-30T15:33:39.403Z"
   },
   {
    "duration": 42,
    "start_time": "2022-11-30T15:33:39.416Z"
   },
   {
    "duration": 13,
    "start_time": "2022-11-30T15:33:39.460Z"
   },
   {
    "duration": 12,
    "start_time": "2022-11-30T15:33:39.476Z"
   },
   {
    "duration": 10,
    "start_time": "2022-11-30T15:33:39.490Z"
   },
   {
    "duration": 14,
    "start_time": "2022-11-30T15:33:39.502Z"
   },
   {
    "duration": 45,
    "start_time": "2022-11-30T15:33:39.518Z"
   },
   {
    "duration": 22,
    "start_time": "2022-11-30T15:33:39.566Z"
   },
   {
    "duration": 23,
    "start_time": "2022-11-30T15:33:39.590Z"
   },
   {
    "duration": 12,
    "start_time": "2022-11-30T15:33:39.614Z"
   },
   {
    "duration": 4,
    "start_time": "2022-11-30T15:33:39.628Z"
   },
   {
    "duration": 250,
    "start_time": "2022-11-30T15:33:39.634Z"
   },
   {
    "duration": 24,
    "start_time": "2022-11-30T15:33:39.886Z"
   },
   {
    "duration": 14,
    "start_time": "2022-11-30T15:33:39.912Z"
   },
   {
    "duration": 48,
    "start_time": "2022-11-30T15:33:39.928Z"
   },
   {
    "duration": 16,
    "start_time": "2022-11-30T15:33:39.978Z"
   },
   {
    "duration": 470,
    "start_time": "2022-11-30T15:33:39.997Z"
   },
   {
    "duration": 14,
    "start_time": "2022-11-30T15:33:40.470Z"
   },
   {
    "duration": 12,
    "start_time": "2022-11-30T15:33:40.486Z"
   },
   {
    "duration": 487,
    "start_time": "2022-11-30T15:33:40.499Z"
   },
   {
    "duration": 234,
    "start_time": "2022-11-30T15:33:40.988Z"
   },
   {
    "duration": 217,
    "start_time": "2022-11-30T15:33:41.224Z"
   },
   {
    "duration": 290,
    "start_time": "2022-11-30T15:33:41.443Z"
   },
   {
    "duration": 0,
    "start_time": "2022-11-30T15:33:41.735Z"
   },
   {
    "duration": 0,
    "start_time": "2022-11-30T15:33:41.736Z"
   },
   {
    "duration": 1349,
    "start_time": "2022-11-30T15:34:41.686Z"
   },
   {
    "duration": 1211,
    "start_time": "2022-11-30T15:34:43.037Z"
   },
   {
    "duration": 15,
    "start_time": "2022-11-30T15:34:44.252Z"
   },
   {
    "duration": 12,
    "start_time": "2022-11-30T15:34:44.270Z"
   },
   {
    "duration": 13,
    "start_time": "2022-11-30T15:34:44.284Z"
   },
   {
    "duration": 12,
    "start_time": "2022-11-30T15:34:44.299Z"
   },
   {
    "duration": 125,
    "start_time": "2022-11-30T15:34:44.313Z"
   },
   {
    "duration": 26,
    "start_time": "2022-11-30T15:34:44.440Z"
   },
   {
    "duration": 11,
    "start_time": "2022-11-30T15:34:44.470Z"
   },
   {
    "duration": 424,
    "start_time": "2022-11-30T15:34:44.485Z"
   },
   {
    "duration": 9,
    "start_time": "2022-11-30T15:34:44.910Z"
   },
   {
    "duration": 3763,
    "start_time": "2022-11-30T15:34:44.921Z"
   },
   {
    "duration": 10,
    "start_time": "2022-11-30T15:34:48.685Z"
   },
   {
    "duration": 274,
    "start_time": "2022-11-30T15:34:48.696Z"
   },
   {
    "duration": 16,
    "start_time": "2022-11-30T15:34:48.971Z"
   },
   {
    "duration": 13,
    "start_time": "2022-11-30T15:34:48.989Z"
   },
   {
    "duration": 32,
    "start_time": "2022-11-30T15:34:49.004Z"
   },
   {
    "duration": 23,
    "start_time": "2022-11-30T15:34:49.038Z"
   },
   {
    "duration": 31,
    "start_time": "2022-11-30T15:34:49.062Z"
   },
   {
    "duration": 7,
    "start_time": "2022-11-30T15:34:49.095Z"
   },
   {
    "duration": 16,
    "start_time": "2022-11-30T15:34:49.103Z"
   },
   {
    "duration": 80,
    "start_time": "2022-11-30T15:34:49.121Z"
   },
   {
    "duration": 68,
    "start_time": "2022-11-30T15:34:49.205Z"
   },
   {
    "duration": 62,
    "start_time": "2022-11-30T15:34:49.275Z"
   },
   {
    "duration": 71,
    "start_time": "2022-11-30T15:34:49.339Z"
   },
   {
    "duration": 69,
    "start_time": "2022-11-30T15:34:49.412Z"
   },
   {
    "duration": 4,
    "start_time": "2022-11-30T15:34:49.483Z"
   },
   {
    "duration": 8,
    "start_time": "2022-11-30T15:34:49.491Z"
   },
   {
    "duration": 9,
    "start_time": "2022-11-30T15:34:49.500Z"
   },
   {
    "duration": 5,
    "start_time": "2022-11-30T15:34:49.510Z"
   },
   {
    "duration": 59,
    "start_time": "2022-11-30T15:34:49.516Z"
   },
   {
    "duration": 12,
    "start_time": "2022-11-30T15:34:49.578Z"
   },
   {
    "duration": 12,
    "start_time": "2022-11-30T15:34:49.592Z"
   },
   {
    "duration": 10,
    "start_time": "2022-11-30T15:34:49.606Z"
   },
   {
    "duration": 13,
    "start_time": "2022-11-30T15:34:49.618Z"
   },
   {
    "duration": 108,
    "start_time": "2022-11-30T15:34:49.633Z"
   },
   {
    "duration": 5,
    "start_time": "2022-11-30T15:34:49.744Z"
   },
   {
    "duration": 33,
    "start_time": "2022-11-30T15:34:49.756Z"
   },
   {
    "duration": 24,
    "start_time": "2022-11-30T15:34:49.791Z"
   },
   {
    "duration": 11,
    "start_time": "2022-11-30T15:34:49.817Z"
   },
   {
    "duration": 27,
    "start_time": "2022-11-30T15:34:49.830Z"
   },
   {
    "duration": 11,
    "start_time": "2022-11-30T15:34:49.859Z"
   },
   {
    "duration": 34,
    "start_time": "2022-11-30T15:34:49.872Z"
   },
   {
    "duration": 20,
    "start_time": "2022-11-30T15:34:49.908Z"
   },
   {
    "duration": 21,
    "start_time": "2022-11-30T15:34:49.930Z"
   },
   {
    "duration": 22,
    "start_time": "2022-11-30T15:34:49.954Z"
   },
   {
    "duration": 14,
    "start_time": "2022-11-30T15:34:49.978Z"
   },
   {
    "duration": 21,
    "start_time": "2022-11-30T15:34:49.994Z"
   },
   {
    "duration": 11,
    "start_time": "2022-11-30T15:34:50.017Z"
   },
   {
    "duration": 12,
    "start_time": "2022-11-30T15:34:50.030Z"
   },
   {
    "duration": 200,
    "start_time": "2022-11-30T15:34:50.044Z"
   },
   {
    "duration": 27,
    "start_time": "2022-11-30T15:34:50.251Z"
   },
   {
    "duration": 15,
    "start_time": "2022-11-30T15:34:50.279Z"
   },
   {
    "duration": 19,
    "start_time": "2022-11-30T15:34:50.295Z"
   },
   {
    "duration": 40,
    "start_time": "2022-11-30T15:34:50.316Z"
   },
   {
    "duration": 431,
    "start_time": "2022-11-30T15:34:50.358Z"
   },
   {
    "duration": 13,
    "start_time": "2022-11-30T15:34:50.790Z"
   },
   {
    "duration": 10,
    "start_time": "2022-11-30T15:34:50.805Z"
   },
   {
    "duration": 485,
    "start_time": "2022-11-30T15:34:50.817Z"
   },
   {
    "duration": 224,
    "start_time": "2022-11-30T15:34:51.304Z"
   },
   {
    "duration": 219,
    "start_time": "2022-11-30T15:34:51.530Z"
   },
   {
    "duration": 220,
    "start_time": "2022-11-30T15:34:51.755Z"
   },
   {
    "duration": 3,
    "start_time": "2022-11-30T15:34:51.977Z"
   },
   {
    "duration": 42,
    "start_time": "2022-11-30T15:34:51.982Z"
   },
   {
    "duration": 252,
    "start_time": "2022-11-30T15:54:34.073Z"
   },
   {
    "duration": 21,
    "start_time": "2022-11-30T15:55:14.992Z"
   },
   {
    "duration": 144,
    "start_time": "2022-11-30T16:17:42.145Z"
   },
   {
    "duration": 5007,
    "start_time": "2022-11-30T16:17:58.626Z"
   },
   {
    "duration": 24,
    "start_time": "2022-11-30T16:21:20.781Z"
   },
   {
    "duration": 52,
    "start_time": "2022-11-30T16:23:20.673Z"
   },
   {
    "duration": 30,
    "start_time": "2022-11-30T16:23:45.805Z"
   },
   {
    "duration": 32,
    "start_time": "2022-11-30T16:24:46.769Z"
   },
   {
    "duration": 5,
    "start_time": "2022-11-30T17:04:21.374Z"
   },
   {
    "duration": 6,
    "start_time": "2022-11-30T17:19:31.996Z"
   },
   {
    "duration": 6,
    "start_time": "2022-11-30T17:23:24.842Z"
   },
   {
    "duration": 1530,
    "start_time": "2022-11-30T17:23:55.911Z"
   },
   {
    "duration": 15,
    "start_time": "2022-11-30T17:24:34.696Z"
   },
   {
    "duration": 6,
    "start_time": "2022-11-30T17:24:58.135Z"
   },
   {
    "duration": 31,
    "start_time": "2022-11-30T17:25:45.761Z"
   },
   {
    "duration": 6,
    "start_time": "2022-11-30T17:26:19.814Z"
   },
   {
    "duration": 32,
    "start_time": "2022-11-30T17:26:28.722Z"
   },
   {
    "duration": 9,
    "start_time": "2022-11-30T17:27:43.360Z"
   },
   {
    "duration": 28,
    "start_time": "2022-11-30T17:27:44.236Z"
   },
   {
    "duration": 78,
    "start_time": "2022-11-30T17:35:58.719Z"
   },
   {
    "duration": 28,
    "start_time": "2022-11-30T17:37:25.017Z"
   },
   {
    "duration": 30,
    "start_time": "2022-11-30T17:41:48.742Z"
   },
   {
    "duration": 1337,
    "start_time": "2022-11-30T17:42:03.065Z"
   },
   {
    "duration": 1416,
    "start_time": "2022-11-30T17:42:04.405Z"
   },
   {
    "duration": 12,
    "start_time": "2022-11-30T17:42:05.823Z"
   },
   {
    "duration": 11,
    "start_time": "2022-11-30T17:42:05.837Z"
   },
   {
    "duration": 16,
    "start_time": "2022-11-30T17:42:05.850Z"
   },
   {
    "duration": 11,
    "start_time": "2022-11-30T17:42:05.868Z"
   },
   {
    "duration": 101,
    "start_time": "2022-11-30T17:42:05.881Z"
   },
   {
    "duration": 14,
    "start_time": "2022-11-30T17:42:05.983Z"
   },
   {
    "duration": 12,
    "start_time": "2022-11-30T17:42:05.998Z"
   },
   {
    "duration": 427,
    "start_time": "2022-11-30T17:42:06.011Z"
   },
   {
    "duration": 13,
    "start_time": "2022-11-30T17:42:06.440Z"
   },
   {
    "duration": 3559,
    "start_time": "2022-11-30T17:42:06.455Z"
   },
   {
    "duration": 10,
    "start_time": "2022-11-30T17:42:10.015Z"
   },
   {
    "duration": 262,
    "start_time": "2022-11-30T17:42:10.028Z"
   },
   {
    "duration": 16,
    "start_time": "2022-11-30T17:42:10.293Z"
   },
   {
    "duration": 9,
    "start_time": "2022-11-30T17:42:10.311Z"
   },
   {
    "duration": 31,
    "start_time": "2022-11-30T17:42:10.321Z"
   },
   {
    "duration": 11,
    "start_time": "2022-11-30T17:42:10.354Z"
   },
   {
    "duration": 14,
    "start_time": "2022-11-30T17:42:10.367Z"
   },
   {
    "duration": 5,
    "start_time": "2022-11-30T17:42:10.383Z"
   },
   {
    "duration": 9,
    "start_time": "2022-11-30T17:42:10.390Z"
   },
   {
    "duration": 72,
    "start_time": "2022-11-30T17:42:10.401Z"
   },
   {
    "duration": 40,
    "start_time": "2022-11-30T17:42:10.475Z"
   },
   {
    "duration": 64,
    "start_time": "2022-11-30T17:42:10.517Z"
   },
   {
    "duration": 53,
    "start_time": "2022-11-30T17:42:10.583Z"
   },
   {
    "duration": 79,
    "start_time": "2022-11-30T17:42:10.638Z"
   },
   {
    "duration": 4,
    "start_time": "2022-11-30T17:42:10.719Z"
   },
   {
    "duration": 26,
    "start_time": "2022-11-30T17:42:10.725Z"
   },
   {
    "duration": 9,
    "start_time": "2022-11-30T17:42:10.753Z"
   },
   {
    "duration": 6,
    "start_time": "2022-11-30T17:42:10.764Z"
   },
   {
    "duration": 22,
    "start_time": "2022-11-30T17:42:10.772Z"
   },
   {
    "duration": 10,
    "start_time": "2022-11-30T17:42:10.796Z"
   },
   {
    "duration": 9,
    "start_time": "2022-11-30T17:42:10.808Z"
   },
   {
    "duration": 33,
    "start_time": "2022-11-30T17:42:10.819Z"
   },
   {
    "duration": 9,
    "start_time": "2022-11-30T17:42:10.854Z"
   },
   {
    "duration": 67,
    "start_time": "2022-11-30T17:42:10.865Z"
   },
   {
    "duration": 20,
    "start_time": "2022-11-30T17:42:10.934Z"
   },
   {
    "duration": 21,
    "start_time": "2022-11-30T17:42:10.956Z"
   },
   {
    "duration": 18,
    "start_time": "2022-11-30T17:42:10.979Z"
   },
   {
    "duration": 10,
    "start_time": "2022-11-30T17:42:10.999Z"
   },
   {
    "duration": 41,
    "start_time": "2022-11-30T17:42:11.013Z"
   },
   {
    "duration": 10,
    "start_time": "2022-11-30T17:42:11.056Z"
   },
   {
    "duration": 12,
    "start_time": "2022-11-30T17:42:11.068Z"
   },
   {
    "duration": 15,
    "start_time": "2022-11-30T17:42:11.082Z"
   },
   {
    "duration": 12,
    "start_time": "2022-11-30T17:42:11.099Z"
   },
   {
    "duration": 12,
    "start_time": "2022-11-30T17:42:11.113Z"
   },
   {
    "duration": 33,
    "start_time": "2022-11-30T17:42:11.127Z"
   },
   {
    "duration": 18,
    "start_time": "2022-11-30T17:42:11.161Z"
   },
   {
    "duration": 12,
    "start_time": "2022-11-30T17:42:11.181Z"
   },
   {
    "duration": 4,
    "start_time": "2022-11-30T17:42:11.195Z"
   },
   {
    "duration": 201,
    "start_time": "2022-11-30T17:42:11.201Z"
   },
   {
    "duration": 21,
    "start_time": "2022-11-30T17:42:11.404Z"
   },
   {
    "duration": 30,
    "start_time": "2022-11-30T17:42:11.427Z"
   },
   {
    "duration": 18,
    "start_time": "2022-11-30T17:42:11.459Z"
   },
   {
    "duration": 10,
    "start_time": "2022-11-30T17:42:11.479Z"
   },
   {
    "duration": 434,
    "start_time": "2022-11-30T17:42:11.491Z"
   },
   {
    "duration": 24,
    "start_time": "2022-11-30T17:42:11.927Z"
   },
   {
    "duration": 11,
    "start_time": "2022-11-30T17:42:11.953Z"
   },
   {
    "duration": 458,
    "start_time": "2022-11-30T17:42:11.966Z"
   },
   {
    "duration": 232,
    "start_time": "2022-11-30T17:42:12.426Z"
   },
   {
    "duration": 216,
    "start_time": "2022-11-30T17:42:12.660Z"
   },
   {
    "duration": 235,
    "start_time": "2022-11-30T17:42:12.878Z"
   },
   {
    "duration": 4921,
    "start_time": "2022-11-30T17:42:13.115Z"
   },
   {
    "duration": 35,
    "start_time": "2022-11-30T17:42:18.038Z"
   },
   {
    "duration": 33,
    "start_time": "2022-11-30T17:42:18.075Z"
   },
   {
    "duration": 7,
    "start_time": "2022-11-30T17:42:18.110Z"
   },
   {
    "duration": 50,
    "start_time": "2022-11-30T17:42:18.119Z"
   },
   {
    "duration": 24,
    "start_time": "2022-11-30T17:42:18.171Z"
   },
   {
    "duration": 154,
    "start_time": "2022-11-30T17:42:18.198Z"
   },
   {
    "duration": 0,
    "start_time": "2022-11-30T17:42:18.354Z"
   },
   {
    "duration": 0,
    "start_time": "2022-11-30T17:42:18.356Z"
   },
   {
    "duration": 0,
    "start_time": "2022-11-30T17:42:18.357Z"
   },
   {
    "duration": 1276,
    "start_time": "2022-11-30T17:42:57.647Z"
   },
   {
    "duration": 1601,
    "start_time": "2022-11-30T17:42:58.925Z"
   },
   {
    "duration": 13,
    "start_time": "2022-11-30T17:43:00.528Z"
   },
   {
    "duration": 21,
    "start_time": "2022-11-30T17:43:00.543Z"
   },
   {
    "duration": 33,
    "start_time": "2022-11-30T17:43:00.565Z"
   },
   {
    "duration": 47,
    "start_time": "2022-11-30T17:43:00.600Z"
   },
   {
    "duration": 136,
    "start_time": "2022-11-30T17:43:00.649Z"
   },
   {
    "duration": 15,
    "start_time": "2022-11-30T17:43:00.787Z"
   },
   {
    "duration": 34,
    "start_time": "2022-11-30T17:43:00.804Z"
   },
   {
    "duration": 417,
    "start_time": "2022-11-30T17:43:00.841Z"
   },
   {
    "duration": 9,
    "start_time": "2022-11-30T17:43:01.260Z"
   },
   {
    "duration": 3617,
    "start_time": "2022-11-30T17:43:01.271Z"
   },
   {
    "duration": 10,
    "start_time": "2022-11-30T17:43:04.890Z"
   },
   {
    "duration": 256,
    "start_time": "2022-11-30T17:43:04.901Z"
   },
   {
    "duration": 20,
    "start_time": "2022-11-30T17:43:05.158Z"
   },
   {
    "duration": 12,
    "start_time": "2022-11-30T17:43:05.180Z"
   },
   {
    "duration": 20,
    "start_time": "2022-11-30T17:43:05.193Z"
   },
   {
    "duration": 12,
    "start_time": "2022-11-30T17:43:05.214Z"
   },
   {
    "duration": 34,
    "start_time": "2022-11-30T17:43:05.228Z"
   },
   {
    "duration": 6,
    "start_time": "2022-11-30T17:43:05.263Z"
   },
   {
    "duration": 9,
    "start_time": "2022-11-30T17:43:05.271Z"
   },
   {
    "duration": 44,
    "start_time": "2022-11-30T17:43:05.282Z"
   },
   {
    "duration": 40,
    "start_time": "2022-11-30T17:43:05.352Z"
   },
   {
    "duration": 62,
    "start_time": "2022-11-30T17:43:05.393Z"
   },
   {
    "duration": 54,
    "start_time": "2022-11-30T17:43:05.457Z"
   },
   {
    "duration": 84,
    "start_time": "2022-11-30T17:43:05.513Z"
   },
   {
    "duration": 10,
    "start_time": "2022-11-30T17:43:05.599Z"
   },
   {
    "duration": 17,
    "start_time": "2022-11-30T17:43:05.614Z"
   },
   {
    "duration": 9,
    "start_time": "2022-11-30T17:43:05.634Z"
   },
   {
    "duration": 19,
    "start_time": "2022-11-30T17:43:05.645Z"
   },
   {
    "duration": 31,
    "start_time": "2022-11-30T17:43:05.666Z"
   },
   {
    "duration": 12,
    "start_time": "2022-11-30T17:43:05.699Z"
   },
   {
    "duration": 8,
    "start_time": "2022-11-30T17:43:05.713Z"
   },
   {
    "duration": 9,
    "start_time": "2022-11-30T17:43:05.723Z"
   },
   {
    "duration": 6,
    "start_time": "2022-11-30T17:43:05.752Z"
   },
   {
    "duration": 77,
    "start_time": "2022-11-30T17:43:05.760Z"
   },
   {
    "duration": 15,
    "start_time": "2022-11-30T17:43:05.839Z"
   },
   {
    "duration": 14,
    "start_time": "2022-11-30T17:43:05.855Z"
   },
   {
    "duration": 16,
    "start_time": "2022-11-30T17:43:05.871Z"
   },
   {
    "duration": 23,
    "start_time": "2022-11-30T17:43:05.889Z"
   },
   {
    "duration": 16,
    "start_time": "2022-11-30T17:43:05.914Z"
   },
   {
    "duration": 11,
    "start_time": "2022-11-30T17:43:05.950Z"
   },
   {
    "duration": 10,
    "start_time": "2022-11-30T17:43:05.963Z"
   },
   {
    "duration": 10,
    "start_time": "2022-11-30T17:43:05.975Z"
   },
   {
    "duration": 12,
    "start_time": "2022-11-30T17:43:05.987Z"
   },
   {
    "duration": 12,
    "start_time": "2022-11-30T17:43:06.001Z"
   },
   {
    "duration": 45,
    "start_time": "2022-11-30T17:43:06.015Z"
   },
   {
    "duration": 17,
    "start_time": "2022-11-30T17:43:06.061Z"
   },
   {
    "duration": 9,
    "start_time": "2022-11-30T17:43:06.080Z"
   },
   {
    "duration": 3,
    "start_time": "2022-11-30T17:43:06.091Z"
   },
   {
    "duration": 225,
    "start_time": "2022-11-30T17:43:06.095Z"
   },
   {
    "duration": 29,
    "start_time": "2022-11-30T17:43:06.322Z"
   },
   {
    "duration": 13,
    "start_time": "2022-11-30T17:43:06.353Z"
   },
   {
    "duration": 23,
    "start_time": "2022-11-30T17:43:06.368Z"
   },
   {
    "duration": 12,
    "start_time": "2022-11-30T17:43:06.393Z"
   },
   {
    "duration": 427,
    "start_time": "2022-11-30T17:43:06.407Z"
   },
   {
    "duration": 20,
    "start_time": "2022-11-30T17:43:06.836Z"
   },
   {
    "duration": 9,
    "start_time": "2022-11-30T17:43:06.858Z"
   },
   {
    "duration": 457,
    "start_time": "2022-11-30T17:43:06.869Z"
   },
   {
    "duration": 214,
    "start_time": "2022-11-30T17:43:07.328Z"
   },
   {
    "duration": 211,
    "start_time": "2022-11-30T17:43:07.544Z"
   },
   {
    "duration": 232,
    "start_time": "2022-11-30T17:43:07.756Z"
   },
   {
    "duration": 5126,
    "start_time": "2022-11-30T17:43:07.990Z"
   },
   {
    "duration": 33,
    "start_time": "2022-11-30T17:43:13.118Z"
   },
   {
    "duration": 32,
    "start_time": "2022-11-30T17:43:13.152Z"
   },
   {
    "duration": 6,
    "start_time": "2022-11-30T17:43:13.185Z"
   },
   {
    "duration": 26,
    "start_time": "2022-11-30T17:43:13.192Z"
   },
   {
    "duration": 43,
    "start_time": "2022-11-30T17:43:13.219Z"
   },
   {
    "duration": 141,
    "start_time": "2022-11-30T17:43:13.264Z"
   },
   {
    "duration": 0,
    "start_time": "2022-11-30T17:43:13.407Z"
   },
   {
    "duration": 0,
    "start_time": "2022-11-30T17:43:13.409Z"
   },
   {
    "duration": 0,
    "start_time": "2022-11-30T17:43:13.410Z"
   },
   {
    "duration": 6,
    "start_time": "2022-11-30T17:48:41.779Z"
   },
   {
    "duration": 30,
    "start_time": "2022-11-30T17:49:07.606Z"
   },
   {
    "duration": 22,
    "start_time": "2022-11-30T17:51:27.035Z"
   },
   {
    "duration": 1343,
    "start_time": "2022-11-30T18:08:52.670Z"
   },
   {
    "duration": 1293,
    "start_time": "2022-11-30T18:08:54.015Z"
   },
   {
    "duration": 13,
    "start_time": "2022-11-30T18:08:55.310Z"
   },
   {
    "duration": 8,
    "start_time": "2022-11-30T18:08:55.325Z"
   },
   {
    "duration": 12,
    "start_time": "2022-11-30T18:08:55.335Z"
   },
   {
    "duration": 10,
    "start_time": "2022-11-30T18:08:55.349Z"
   },
   {
    "duration": 106,
    "start_time": "2022-11-30T18:08:55.361Z"
   },
   {
    "duration": 15,
    "start_time": "2022-11-30T18:08:55.469Z"
   },
   {
    "duration": 11,
    "start_time": "2022-11-30T18:08:55.486Z"
   },
   {
    "duration": 413,
    "start_time": "2022-11-30T18:08:55.499Z"
   },
   {
    "duration": 8,
    "start_time": "2022-11-30T18:08:55.913Z"
   },
   {
    "duration": 3440,
    "start_time": "2022-11-30T18:08:55.923Z"
   },
   {
    "duration": 10,
    "start_time": "2022-11-30T18:08:59.365Z"
   },
   {
    "duration": 263,
    "start_time": "2022-11-30T18:08:59.376Z"
   },
   {
    "duration": 30,
    "start_time": "2022-11-30T18:08:59.641Z"
   },
   {
    "duration": 21,
    "start_time": "2022-11-30T18:08:59.674Z"
   },
   {
    "duration": 22,
    "start_time": "2022-11-30T18:08:59.697Z"
   },
   {
    "duration": 31,
    "start_time": "2022-11-30T18:08:59.721Z"
   },
   {
    "duration": 18,
    "start_time": "2022-11-30T18:08:59.755Z"
   },
   {
    "duration": 27,
    "start_time": "2022-11-30T18:08:59.776Z"
   },
   {
    "duration": 13,
    "start_time": "2022-11-30T18:08:59.805Z"
   },
   {
    "duration": 71,
    "start_time": "2022-11-30T18:08:59.820Z"
   },
   {
    "duration": 41,
    "start_time": "2022-11-30T18:08:59.893Z"
   },
   {
    "duration": 62,
    "start_time": "2022-11-30T18:08:59.936Z"
   },
   {
    "duration": 69,
    "start_time": "2022-11-30T18:09:00.000Z"
   },
   {
    "duration": 47,
    "start_time": "2022-11-30T18:09:00.071Z"
   },
   {
    "duration": 5,
    "start_time": "2022-11-30T18:09:00.119Z"
   },
   {
    "duration": 25,
    "start_time": "2022-11-30T18:09:00.128Z"
   },
   {
    "duration": 21,
    "start_time": "2022-11-30T18:09:00.155Z"
   },
   {
    "duration": 44,
    "start_time": "2022-11-30T18:09:00.178Z"
   },
   {
    "duration": 32,
    "start_time": "2022-11-30T18:09:00.225Z"
   },
   {
    "duration": 11,
    "start_time": "2022-11-30T18:09:00.259Z"
   },
   {
    "duration": 28,
    "start_time": "2022-11-30T18:09:00.272Z"
   },
   {
    "duration": 24,
    "start_time": "2022-11-30T18:09:00.302Z"
   },
   {
    "duration": 32,
    "start_time": "2022-11-30T18:09:00.328Z"
   },
   {
    "duration": 102,
    "start_time": "2022-11-30T18:09:00.362Z"
   },
   {
    "duration": 11,
    "start_time": "2022-11-30T18:09:00.466Z"
   },
   {
    "duration": 40,
    "start_time": "2022-11-30T18:09:00.479Z"
   },
   {
    "duration": 90,
    "start_time": "2022-11-30T18:09:00.521Z"
   },
   {
    "duration": 22,
    "start_time": "2022-11-30T18:09:00.613Z"
   },
   {
    "duration": 41,
    "start_time": "2022-11-30T18:09:00.636Z"
   },
   {
    "duration": 19,
    "start_time": "2022-11-30T18:09:00.680Z"
   },
   {
    "duration": 29,
    "start_time": "2022-11-30T18:09:00.701Z"
   },
   {
    "duration": 22,
    "start_time": "2022-11-30T18:09:00.732Z"
   },
   {
    "duration": 22,
    "start_time": "2022-11-30T18:09:00.756Z"
   },
   {
    "duration": 42,
    "start_time": "2022-11-30T18:09:00.780Z"
   },
   {
    "duration": 25,
    "start_time": "2022-11-30T18:09:00.824Z"
   },
   {
    "duration": 18,
    "start_time": "2022-11-30T18:09:00.852Z"
   },
   {
    "duration": 10,
    "start_time": "2022-11-30T18:09:00.872Z"
   },
   {
    "duration": 15,
    "start_time": "2022-11-30T18:09:00.884Z"
   },
   {
    "duration": 199,
    "start_time": "2022-11-30T18:09:00.901Z"
   },
   {
    "duration": 23,
    "start_time": "2022-11-30T18:09:01.102Z"
   },
   {
    "duration": 32,
    "start_time": "2022-11-30T18:09:01.127Z"
   },
   {
    "duration": 21,
    "start_time": "2022-11-30T18:09:01.161Z"
   },
   {
    "duration": 17,
    "start_time": "2022-11-30T18:09:01.184Z"
   },
   {
    "duration": 454,
    "start_time": "2022-11-30T18:09:01.203Z"
   },
   {
    "duration": 13,
    "start_time": "2022-11-30T18:09:01.658Z"
   },
   {
    "duration": 25,
    "start_time": "2022-11-30T18:09:01.673Z"
   },
   {
    "duration": 487,
    "start_time": "2022-11-30T18:09:01.700Z"
   },
   {
    "duration": 241,
    "start_time": "2022-11-30T18:09:02.189Z"
   },
   {
    "duration": 212,
    "start_time": "2022-11-30T18:09:02.433Z"
   },
   {
    "duration": 244,
    "start_time": "2022-11-30T18:09:02.647Z"
   },
   {
    "duration": 4951,
    "start_time": "2022-11-30T18:09:02.892Z"
   },
   {
    "duration": 26,
    "start_time": "2022-11-30T18:09:07.850Z"
   },
   {
    "duration": 31,
    "start_time": "2022-11-30T18:09:07.877Z"
   },
   {
    "duration": 6,
    "start_time": "2022-11-30T18:09:07.910Z"
   },
   {
    "duration": 45,
    "start_time": "2022-11-30T18:09:07.917Z"
   },
   {
    "duration": 20,
    "start_time": "2022-11-30T18:09:07.964Z"
   },
   {
    "duration": 21,
    "start_time": "2022-11-30T18:09:07.985Z"
   },
   {
    "duration": 46,
    "start_time": "2022-11-30T18:09:08.008Z"
   },
   {
    "duration": 9,
    "start_time": "2022-11-30T18:34:01.822Z"
   },
   {
    "duration": 1337,
    "start_time": "2022-12-01T18:54:46.109Z"
   },
   {
    "duration": 1284,
    "start_time": "2022-12-01T18:54:47.448Z"
   },
   {
    "duration": 11,
    "start_time": "2022-12-01T18:54:48.737Z"
   },
   {
    "duration": 13,
    "start_time": "2022-12-01T18:54:48.750Z"
   },
   {
    "duration": 20,
    "start_time": "2022-12-01T18:54:48.764Z"
   },
   {
    "duration": 10,
    "start_time": "2022-12-01T18:54:48.786Z"
   },
   {
    "duration": 105,
    "start_time": "2022-12-01T18:54:48.798Z"
   },
   {
    "duration": 13,
    "start_time": "2022-12-01T18:54:48.904Z"
   },
   {
    "duration": 12,
    "start_time": "2022-12-01T18:54:48.936Z"
   },
   {
    "duration": 409,
    "start_time": "2022-12-01T18:54:48.949Z"
   },
   {
    "duration": 9,
    "start_time": "2022-12-01T18:54:49.360Z"
   },
   {
    "duration": 3387,
    "start_time": "2022-12-01T18:54:49.370Z"
   },
   {
    "duration": 9,
    "start_time": "2022-12-01T18:54:52.759Z"
   },
   {
    "duration": 208,
    "start_time": "2022-12-01T18:54:52.769Z"
   },
   {
    "duration": 14,
    "start_time": "2022-12-01T18:54:52.979Z"
   },
   {
    "duration": 20,
    "start_time": "2022-12-01T18:54:52.995Z"
   },
   {
    "duration": 28,
    "start_time": "2022-12-01T18:54:53.017Z"
   },
   {
    "duration": 12,
    "start_time": "2022-12-01T18:54:53.046Z"
   },
   {
    "duration": 17,
    "start_time": "2022-12-01T18:54:53.059Z"
   },
   {
    "duration": 5,
    "start_time": "2022-12-01T18:54:53.077Z"
   },
   {
    "duration": 25,
    "start_time": "2022-12-01T18:54:53.084Z"
   },
   {
    "duration": 54,
    "start_time": "2022-12-01T18:54:53.110Z"
   },
   {
    "duration": 38,
    "start_time": "2022-12-01T18:54:53.165Z"
   },
   {
    "duration": 61,
    "start_time": "2022-12-01T18:54:53.204Z"
   },
   {
    "duration": 44,
    "start_time": "2022-12-01T18:54:53.267Z"
   },
   {
    "duration": 49,
    "start_time": "2022-12-01T18:54:53.312Z"
   },
   {
    "duration": 3,
    "start_time": "2022-12-01T18:54:53.365Z"
   },
   {
    "duration": 9,
    "start_time": "2022-12-01T18:54:53.370Z"
   },
   {
    "duration": 8,
    "start_time": "2022-12-01T18:54:53.380Z"
   },
   {
    "duration": 10,
    "start_time": "2022-12-01T18:54:53.390Z"
   },
   {
    "duration": 36,
    "start_time": "2022-12-01T18:54:53.402Z"
   },
   {
    "duration": 10,
    "start_time": "2022-12-01T18:54:53.439Z"
   },
   {
    "duration": 13,
    "start_time": "2022-12-01T18:54:53.451Z"
   },
   {
    "duration": 11,
    "start_time": "2022-12-01T18:54:53.466Z"
   },
   {
    "duration": 7,
    "start_time": "2022-12-01T18:54:53.479Z"
   },
   {
    "duration": 84,
    "start_time": "2022-12-01T18:54:53.487Z"
   },
   {
    "duration": 5,
    "start_time": "2022-12-01T18:54:53.573Z"
   },
   {
    "duration": 24,
    "start_time": "2022-12-01T18:54:53.580Z"
   },
   {
    "duration": 30,
    "start_time": "2022-12-01T18:54:53.605Z"
   },
   {
    "duration": 13,
    "start_time": "2022-12-01T18:54:53.637Z"
   },
   {
    "duration": 19,
    "start_time": "2022-12-01T18:54:53.652Z"
   },
   {
    "duration": 9,
    "start_time": "2022-12-01T18:54:53.673Z"
   },
   {
    "duration": 15,
    "start_time": "2022-12-01T18:54:53.683Z"
   },
   {
    "duration": 22,
    "start_time": "2022-12-01T18:54:53.700Z"
   },
   {
    "duration": 18,
    "start_time": "2022-12-01T18:54:53.724Z"
   },
   {
    "duration": 28,
    "start_time": "2022-12-01T18:54:53.744Z"
   },
   {
    "duration": 30,
    "start_time": "2022-12-01T18:54:53.774Z"
   },
   {
    "duration": 25,
    "start_time": "2022-12-01T18:54:53.806Z"
   },
   {
    "duration": 20,
    "start_time": "2022-12-01T18:54:53.833Z"
   },
   {
    "duration": 12,
    "start_time": "2022-12-01T18:54:53.855Z"
   },
   {
    "duration": 206,
    "start_time": "2022-12-01T18:54:53.869Z"
   },
   {
    "duration": 20,
    "start_time": "2022-12-01T18:54:54.077Z"
   },
   {
    "duration": 13,
    "start_time": "2022-12-01T18:54:54.098Z"
   },
   {
    "duration": 39,
    "start_time": "2022-12-01T18:54:54.112Z"
   },
   {
    "duration": 11,
    "start_time": "2022-12-01T18:54:54.152Z"
   },
   {
    "duration": 384,
    "start_time": "2022-12-01T18:54:54.165Z"
   },
   {
    "duration": 12,
    "start_time": "2022-12-01T18:54:54.550Z"
   },
   {
    "duration": 12,
    "start_time": "2022-12-01T18:54:54.563Z"
   },
   {
    "duration": 424,
    "start_time": "2022-12-01T18:54:54.576Z"
   },
   {
    "duration": 204,
    "start_time": "2022-12-01T18:54:55.002Z"
   },
   {
    "duration": 200,
    "start_time": "2022-12-01T18:54:55.207Z"
   },
   {
    "duration": 277,
    "start_time": "2022-12-01T18:54:55.408Z"
   },
   {
    "duration": 4789,
    "start_time": "2022-12-01T18:54:55.687Z"
   },
   {
    "duration": 23,
    "start_time": "2022-12-01T18:55:00.478Z"
   },
   {
    "duration": 90,
    "start_time": "2022-12-01T18:55:00.503Z"
   },
   {
    "duration": 69,
    "start_time": "2022-12-01T18:55:00.595Z"
   },
   {
    "duration": 136,
    "start_time": "2022-12-01T18:55:00.666Z"
   },
   {
    "duration": 66,
    "start_time": "2022-12-01T18:55:00.803Z"
   },
   {
    "duration": 19,
    "start_time": "2022-12-01T18:55:00.871Z"
   },
   {
    "duration": 35,
    "start_time": "2022-12-01T18:55:00.892Z"
   },
   {
    "duration": 51,
    "start_time": "2022-12-01T19:16:17.521Z"
   },
   {
    "duration": 65,
    "start_time": "2022-12-01T19:16:59.095Z"
   },
   {
    "duration": 1589,
    "start_time": "2022-12-01T19:17:12.484Z"
   },
   {
    "duration": 1371,
    "start_time": "2022-12-01T19:17:14.075Z"
   },
   {
    "duration": 12,
    "start_time": "2022-12-01T19:17:15.447Z"
   },
   {
    "duration": 10,
    "start_time": "2022-12-01T19:17:15.461Z"
   },
   {
    "duration": 11,
    "start_time": "2022-12-01T19:17:15.473Z"
   },
   {
    "duration": 10,
    "start_time": "2022-12-01T19:17:15.486Z"
   },
   {
    "duration": 142,
    "start_time": "2022-12-01T19:17:15.498Z"
   },
   {
    "duration": 0,
    "start_time": "2022-12-01T19:17:15.644Z"
   },
   {
    "duration": 0,
    "start_time": "2022-12-01T19:17:15.646Z"
   },
   {
    "duration": 0,
    "start_time": "2022-12-01T19:17:15.657Z"
   },
   {
    "duration": 0,
    "start_time": "2022-12-01T19:17:15.658Z"
   },
   {
    "duration": 0,
    "start_time": "2022-12-01T19:17:15.660Z"
   },
   {
    "duration": 0,
    "start_time": "2022-12-01T19:17:15.661Z"
   },
   {
    "duration": 0,
    "start_time": "2022-12-01T19:17:15.662Z"
   },
   {
    "duration": 0,
    "start_time": "2022-12-01T19:17:15.664Z"
   },
   {
    "duration": 0,
    "start_time": "2022-12-01T19:17:15.665Z"
   },
   {
    "duration": 0,
    "start_time": "2022-12-01T19:17:15.666Z"
   },
   {
    "duration": 0,
    "start_time": "2022-12-01T19:17:15.668Z"
   },
   {
    "duration": 0,
    "start_time": "2022-12-01T19:17:15.670Z"
   },
   {
    "duration": 0,
    "start_time": "2022-12-01T19:17:15.671Z"
   },
   {
    "duration": 0,
    "start_time": "2022-12-01T19:17:15.672Z"
   },
   {
    "duration": 0,
    "start_time": "2022-12-01T19:17:15.673Z"
   },
   {
    "duration": 0,
    "start_time": "2022-12-01T19:17:15.674Z"
   },
   {
    "duration": 0,
    "start_time": "2022-12-01T19:17:15.675Z"
   },
   {
    "duration": 0,
    "start_time": "2022-12-01T19:17:15.698Z"
   },
   {
    "duration": 0,
    "start_time": "2022-12-01T19:17:15.699Z"
   },
   {
    "duration": 0,
    "start_time": "2022-12-01T19:17:15.700Z"
   },
   {
    "duration": 0,
    "start_time": "2022-12-01T19:17:15.702Z"
   },
   {
    "duration": 0,
    "start_time": "2022-12-01T19:17:15.703Z"
   },
   {
    "duration": 0,
    "start_time": "2022-12-01T19:17:15.704Z"
   },
   {
    "duration": 0,
    "start_time": "2022-12-01T19:17:15.706Z"
   },
   {
    "duration": 0,
    "start_time": "2022-12-01T19:17:15.707Z"
   },
   {
    "duration": 0,
    "start_time": "2022-12-01T19:17:15.709Z"
   },
   {
    "duration": 0,
    "start_time": "2022-12-01T19:17:15.710Z"
   },
   {
    "duration": 0,
    "start_time": "2022-12-01T19:17:15.711Z"
   },
   {
    "duration": 0,
    "start_time": "2022-12-01T19:17:15.714Z"
   },
   {
    "duration": 0,
    "start_time": "2022-12-01T19:17:15.715Z"
   },
   {
    "duration": 0,
    "start_time": "2022-12-01T19:17:15.717Z"
   },
   {
    "duration": 1,
    "start_time": "2022-12-01T19:17:15.718Z"
   },
   {
    "duration": 0,
    "start_time": "2022-12-01T19:17:15.720Z"
   },
   {
    "duration": 0,
    "start_time": "2022-12-01T19:17:15.722Z"
   },
   {
    "duration": 0,
    "start_time": "2022-12-01T19:17:15.722Z"
   },
   {
    "duration": 0,
    "start_time": "2022-12-01T19:17:15.723Z"
   },
   {
    "duration": 0,
    "start_time": "2022-12-01T19:17:15.724Z"
   },
   {
    "duration": 0,
    "start_time": "2022-12-01T19:17:15.725Z"
   },
   {
    "duration": 0,
    "start_time": "2022-12-01T19:17:15.726Z"
   },
   {
    "duration": 0,
    "start_time": "2022-12-01T19:17:15.728Z"
   },
   {
    "duration": 0,
    "start_time": "2022-12-01T19:17:15.730Z"
   },
   {
    "duration": 0,
    "start_time": "2022-12-01T19:17:15.732Z"
   },
   {
    "duration": 0,
    "start_time": "2022-12-01T19:17:15.733Z"
   },
   {
    "duration": 0,
    "start_time": "2022-12-01T19:17:15.734Z"
   },
   {
    "duration": 0,
    "start_time": "2022-12-01T19:17:15.736Z"
   },
   {
    "duration": 0,
    "start_time": "2022-12-01T19:17:15.738Z"
   },
   {
    "duration": 0,
    "start_time": "2022-12-01T19:17:15.739Z"
   },
   {
    "duration": 0,
    "start_time": "2022-12-01T19:17:15.741Z"
   },
   {
    "duration": 0,
    "start_time": "2022-12-01T19:17:15.798Z"
   },
   {
    "duration": 0,
    "start_time": "2022-12-01T19:17:15.800Z"
   },
   {
    "duration": 0,
    "start_time": "2022-12-01T19:17:15.801Z"
   },
   {
    "duration": 0,
    "start_time": "2022-12-01T19:17:15.803Z"
   },
   {
    "duration": 0,
    "start_time": "2022-12-01T19:17:15.804Z"
   },
   {
    "duration": 0,
    "start_time": "2022-12-01T19:17:15.806Z"
   },
   {
    "duration": 0,
    "start_time": "2022-12-01T19:17:15.808Z"
   },
   {
    "duration": 0,
    "start_time": "2022-12-01T19:17:15.809Z"
   },
   {
    "duration": 0,
    "start_time": "2022-12-01T19:17:15.810Z"
   },
   {
    "duration": 0,
    "start_time": "2022-12-01T19:17:15.812Z"
   },
   {
    "duration": 0,
    "start_time": "2022-12-01T19:17:15.814Z"
   },
   {
    "duration": 0,
    "start_time": "2022-12-01T19:17:15.816Z"
   },
   {
    "duration": 0,
    "start_time": "2022-12-01T19:17:15.818Z"
   },
   {
    "duration": 0,
    "start_time": "2022-12-01T19:17:15.819Z"
   },
   {
    "duration": 0,
    "start_time": "2022-12-01T19:17:15.821Z"
   },
   {
    "duration": 99,
    "start_time": "2022-12-01T19:17:52.459Z"
   },
   {
    "duration": 9,
    "start_time": "2022-12-01T19:21:52.274Z"
   },
   {
    "duration": 11,
    "start_time": "2022-12-01T19:22:19.061Z"
   },
   {
    "duration": 9,
    "start_time": "2022-12-01T19:23:16.758Z"
   },
   {
    "duration": 22,
    "start_time": "2022-12-01T19:24:40.879Z"
   },
   {
    "duration": 98,
    "start_time": "2022-12-01T19:25:37.671Z"
   },
   {
    "duration": 1190,
    "start_time": "2022-12-01T19:28:03.558Z"
   },
   {
    "duration": 1544,
    "start_time": "2022-12-01T19:28:04.750Z"
   },
   {
    "duration": 16,
    "start_time": "2022-12-01T19:28:06.296Z"
   },
   {
    "duration": 13,
    "start_time": "2022-12-01T19:28:06.315Z"
   },
   {
    "duration": 11,
    "start_time": "2022-12-01T19:28:06.330Z"
   },
   {
    "duration": 9,
    "start_time": "2022-12-01T19:28:06.343Z"
   },
   {
    "duration": 105,
    "start_time": "2022-12-01T19:28:06.353Z"
   },
   {
    "duration": 11,
    "start_time": "2022-12-01T19:28:06.459Z"
   },
   {
    "duration": 10,
    "start_time": "2022-12-01T19:28:06.471Z"
   },
   {
    "duration": 416,
    "start_time": "2022-12-01T19:28:06.483Z"
   },
   {
    "duration": 12,
    "start_time": "2022-12-01T19:28:06.902Z"
   },
   {
    "duration": 3357,
    "start_time": "2022-12-01T19:28:06.915Z"
   },
   {
    "duration": 8,
    "start_time": "2022-12-01T19:28:10.273Z"
   },
   {
    "duration": 196,
    "start_time": "2022-12-01T19:28:10.282Z"
   },
   {
    "duration": 23,
    "start_time": "2022-12-01T19:28:10.479Z"
   },
   {
    "duration": 21,
    "start_time": "2022-12-01T19:28:10.503Z"
   },
   {
    "duration": 15,
    "start_time": "2022-12-01T19:28:10.525Z"
   },
   {
    "duration": 7,
    "start_time": "2022-12-01T19:28:10.542Z"
   },
   {
    "duration": 13,
    "start_time": "2022-12-01T19:28:10.551Z"
   },
   {
    "duration": 5,
    "start_time": "2022-12-01T19:28:10.565Z"
   },
   {
    "duration": 6,
    "start_time": "2022-12-01T19:28:10.572Z"
   },
   {
    "duration": 61,
    "start_time": "2022-12-01T19:28:10.579Z"
   },
   {
    "duration": 36,
    "start_time": "2022-12-01T19:28:10.641Z"
   },
   {
    "duration": 68,
    "start_time": "2022-12-01T19:28:10.679Z"
   },
   {
    "duration": 53,
    "start_time": "2022-12-01T19:28:10.749Z"
   },
   {
    "duration": 44,
    "start_time": "2022-12-01T19:28:10.804Z"
   },
   {
    "duration": 3,
    "start_time": "2022-12-01T19:28:10.850Z"
   },
   {
    "duration": 7,
    "start_time": "2022-12-01T19:28:10.856Z"
   },
   {
    "duration": 7,
    "start_time": "2022-12-01T19:28:10.864Z"
   },
   {
    "duration": 25,
    "start_time": "2022-12-01T19:28:10.872Z"
   },
   {
    "duration": 25,
    "start_time": "2022-12-01T19:28:10.900Z"
   },
   {
    "duration": 8,
    "start_time": "2022-12-01T19:28:10.926Z"
   },
   {
    "duration": 7,
    "start_time": "2022-12-01T19:28:10.936Z"
   },
   {
    "duration": 7,
    "start_time": "2022-12-01T19:28:10.945Z"
   },
   {
    "duration": 3,
    "start_time": "2022-12-01T19:28:10.954Z"
   },
   {
    "duration": 87,
    "start_time": "2022-12-01T19:28:10.958Z"
   },
   {
    "duration": 4,
    "start_time": "2022-12-01T19:28:11.047Z"
   },
   {
    "duration": 14,
    "start_time": "2022-12-01T19:28:11.053Z"
   },
   {
    "duration": 33,
    "start_time": "2022-12-01T19:28:11.069Z"
   },
   {
    "duration": 15,
    "start_time": "2022-12-01T19:28:11.103Z"
   },
   {
    "duration": 16,
    "start_time": "2022-12-01T19:28:11.120Z"
   },
   {
    "duration": 9,
    "start_time": "2022-12-01T19:28:11.137Z"
   },
   {
    "duration": 12,
    "start_time": "2022-12-01T19:28:11.147Z"
   },
   {
    "duration": 9,
    "start_time": "2022-12-01T19:28:11.160Z"
   },
   {
    "duration": 30,
    "start_time": "2022-12-01T19:28:11.171Z"
   },
   {
    "duration": 14,
    "start_time": "2022-12-01T19:28:11.203Z"
   },
   {
    "duration": 9,
    "start_time": "2022-12-01T19:28:11.218Z"
   },
   {
    "duration": 13,
    "start_time": "2022-12-01T19:28:11.228Z"
   },
   {
    "duration": 7,
    "start_time": "2022-12-01T19:28:11.242Z"
   },
   {
    "duration": 4,
    "start_time": "2022-12-01T19:28:11.250Z"
   },
   {
    "duration": 191,
    "start_time": "2022-12-01T19:28:11.255Z"
   },
   {
    "duration": 18,
    "start_time": "2022-12-01T19:28:11.447Z"
   },
   {
    "duration": 10,
    "start_time": "2022-12-01T19:28:11.466Z"
   },
   {
    "duration": 37,
    "start_time": "2022-12-01T19:28:11.477Z"
   },
   {
    "duration": 9,
    "start_time": "2022-12-01T19:28:11.515Z"
   },
   {
    "duration": 374,
    "start_time": "2022-12-01T19:28:11.525Z"
   },
   {
    "duration": 16,
    "start_time": "2022-12-01T19:28:11.901Z"
   },
   {
    "duration": 18,
    "start_time": "2022-12-01T19:28:11.919Z"
   },
   {
    "duration": 410,
    "start_time": "2022-12-01T19:28:11.938Z"
   },
   {
    "duration": 207,
    "start_time": "2022-12-01T19:28:12.350Z"
   },
   {
    "duration": 186,
    "start_time": "2022-12-01T19:28:12.558Z"
   },
   {
    "duration": 231,
    "start_time": "2022-12-01T19:28:12.746Z"
   },
   {
    "duration": 4796,
    "start_time": "2022-12-01T19:28:12.979Z"
   },
   {
    "duration": 37,
    "start_time": "2022-12-01T19:28:17.776Z"
   },
   {
    "duration": 29,
    "start_time": "2022-12-01T19:28:17.814Z"
   },
   {
    "duration": 5,
    "start_time": "2022-12-01T19:28:17.845Z"
   },
   {
    "duration": 61,
    "start_time": "2022-12-01T19:28:17.851Z"
   },
   {
    "duration": 18,
    "start_time": "2022-12-01T19:28:17.914Z"
   },
   {
    "duration": 19,
    "start_time": "2022-12-01T19:28:17.934Z"
   },
   {
    "duration": 35,
    "start_time": "2022-12-01T19:28:17.955Z"
   },
   {
    "duration": 6,
    "start_time": "2022-12-01T20:09:39.540Z"
   },
   {
    "duration": 19,
    "start_time": "2022-12-01T20:09:49.920Z"
   },
   {
    "duration": 22,
    "start_time": "2022-12-01T20:11:04.611Z"
   },
   {
    "duration": 19,
    "start_time": "2022-12-01T20:11:19.811Z"
   },
   {
    "duration": 21,
    "start_time": "2022-12-01T20:11:41.867Z"
   },
   {
    "duration": 42,
    "start_time": "2022-12-01T20:15:22.482Z"
   },
   {
    "duration": 9,
    "start_time": "2022-12-01T20:17:24.824Z"
   },
   {
    "duration": 11,
    "start_time": "2022-12-01T20:32:51.871Z"
   },
   {
    "duration": 8,
    "start_time": "2022-12-01T20:33:19.480Z"
   },
   {
    "duration": 10,
    "start_time": "2022-12-01T20:34:28.023Z"
   },
   {
    "duration": 10,
    "start_time": "2022-12-01T20:36:20.377Z"
   },
   {
    "duration": 10,
    "start_time": "2022-12-01T20:36:36.195Z"
   },
   {
    "duration": 20,
    "start_time": "2022-12-01T20:50:21.351Z"
   },
   {
    "duration": 26,
    "start_time": "2022-12-01T20:50:44.647Z"
   },
   {
    "duration": 21,
    "start_time": "2022-12-01T20:50:56.508Z"
   },
   {
    "duration": 20,
    "start_time": "2022-12-01T20:52:19.543Z"
   },
   {
    "duration": 20,
    "start_time": "2022-12-01T20:52:53.209Z"
   },
   {
    "duration": 19,
    "start_time": "2022-12-01T20:53:09.485Z"
   },
   {
    "duration": 1219,
    "start_time": "2022-12-01T20:54:19.085Z"
   },
   {
    "duration": 1458,
    "start_time": "2022-12-01T20:54:20.306Z"
   },
   {
    "duration": 11,
    "start_time": "2022-12-01T20:54:21.766Z"
   },
   {
    "duration": 8,
    "start_time": "2022-12-01T20:54:21.778Z"
   },
   {
    "duration": 13,
    "start_time": "2022-12-01T20:54:21.788Z"
   },
   {
    "duration": 13,
    "start_time": "2022-12-01T20:54:21.802Z"
   },
   {
    "duration": 86,
    "start_time": "2022-12-01T20:54:21.816Z"
   },
   {
    "duration": 11,
    "start_time": "2022-12-01T20:54:21.903Z"
   },
   {
    "duration": 9,
    "start_time": "2022-12-01T20:54:21.916Z"
   },
   {
    "duration": 374,
    "start_time": "2022-12-01T20:54:21.928Z"
   },
   {
    "duration": 7,
    "start_time": "2022-12-01T20:54:22.304Z"
   },
   {
    "duration": 3117,
    "start_time": "2022-12-01T20:54:22.312Z"
   },
   {
    "duration": 8,
    "start_time": "2022-12-01T20:54:25.431Z"
   },
   {
    "duration": 205,
    "start_time": "2022-12-01T20:54:25.440Z"
   },
   {
    "duration": 13,
    "start_time": "2022-12-01T20:54:25.647Z"
   },
   {
    "duration": 12,
    "start_time": "2022-12-01T20:54:25.662Z"
   },
   {
    "duration": 33,
    "start_time": "2022-12-01T20:54:25.675Z"
   },
   {
    "duration": 10,
    "start_time": "2022-12-01T20:54:25.709Z"
   },
   {
    "duration": 13,
    "start_time": "2022-12-01T20:54:25.721Z"
   },
   {
    "duration": 6,
    "start_time": "2022-12-01T20:54:25.735Z"
   },
   {
    "duration": 14,
    "start_time": "2022-12-01T20:54:25.743Z"
   },
   {
    "duration": 64,
    "start_time": "2022-12-01T20:54:25.758Z"
   },
   {
    "duration": 36,
    "start_time": "2022-12-01T20:54:25.824Z"
   },
   {
    "duration": 56,
    "start_time": "2022-12-01T20:54:25.862Z"
   },
   {
    "duration": 46,
    "start_time": "2022-12-01T20:54:25.919Z"
   },
   {
    "duration": 57,
    "start_time": "2022-12-01T20:54:25.967Z"
   },
   {
    "duration": 4,
    "start_time": "2022-12-01T20:54:26.026Z"
   },
   {
    "duration": 14,
    "start_time": "2022-12-01T20:54:26.035Z"
   },
   {
    "duration": 24,
    "start_time": "2022-12-01T20:54:26.051Z"
   },
   {
    "duration": 13,
    "start_time": "2022-12-01T20:54:26.077Z"
   },
   {
    "duration": 32,
    "start_time": "2022-12-01T20:54:26.091Z"
   },
   {
    "duration": 8,
    "start_time": "2022-12-01T20:54:26.125Z"
   },
   {
    "duration": 14,
    "start_time": "2022-12-01T20:54:26.135Z"
   },
   {
    "duration": 29,
    "start_time": "2022-12-01T20:54:26.150Z"
   },
   {
    "duration": 9,
    "start_time": "2022-12-01T20:54:26.181Z"
   },
   {
    "duration": 85,
    "start_time": "2022-12-01T20:54:26.191Z"
   },
   {
    "duration": 4,
    "start_time": "2022-12-01T20:54:26.278Z"
   },
   {
    "duration": 27,
    "start_time": "2022-12-01T20:54:26.284Z"
   },
   {
    "duration": 23,
    "start_time": "2022-12-01T20:54:26.312Z"
   },
   {
    "duration": 13,
    "start_time": "2022-12-01T20:54:26.337Z"
   },
   {
    "duration": 22,
    "start_time": "2022-12-01T20:54:26.351Z"
   },
   {
    "duration": 21,
    "start_time": "2022-12-01T20:54:26.375Z"
   },
   {
    "duration": 12,
    "start_time": "2022-12-01T20:54:26.398Z"
   },
   {
    "duration": 15,
    "start_time": "2022-12-01T20:54:26.412Z"
   },
   {
    "duration": 24,
    "start_time": "2022-12-01T20:54:26.429Z"
   },
   {
    "duration": 10,
    "start_time": "2022-12-01T20:54:26.455Z"
   },
   {
    "duration": 10,
    "start_time": "2022-12-01T20:54:26.467Z"
   },
   {
    "duration": 11,
    "start_time": "2022-12-01T20:54:26.478Z"
   },
   {
    "duration": 5,
    "start_time": "2022-12-01T20:54:26.497Z"
   },
   {
    "duration": 4,
    "start_time": "2022-12-01T20:54:26.503Z"
   },
   {
    "duration": 172,
    "start_time": "2022-12-01T20:54:26.508Z"
   },
   {
    "duration": 23,
    "start_time": "2022-12-01T20:54:26.681Z"
   },
   {
    "duration": 12,
    "start_time": "2022-12-01T20:54:26.705Z"
   },
   {
    "duration": 15,
    "start_time": "2022-12-01T20:54:26.719Z"
   },
   {
    "duration": 9,
    "start_time": "2022-12-01T20:54:26.736Z"
   },
   {
    "duration": 367,
    "start_time": "2022-12-01T20:54:26.746Z"
   },
   {
    "duration": 12,
    "start_time": "2022-12-01T20:54:27.114Z"
   },
   {
    "duration": 8,
    "start_time": "2022-12-01T20:54:27.127Z"
   },
   {
    "duration": 392,
    "start_time": "2022-12-01T20:54:27.137Z"
   },
   {
    "duration": 198,
    "start_time": "2022-12-01T20:54:27.530Z"
   },
   {
    "duration": 170,
    "start_time": "2022-12-01T20:54:27.729Z"
   },
   {
    "duration": 229,
    "start_time": "2022-12-01T20:54:27.901Z"
   },
   {
    "duration": 4514,
    "start_time": "2022-12-01T20:54:28.131Z"
   },
   {
    "duration": 24,
    "start_time": "2022-12-01T20:54:32.646Z"
   },
   {
    "duration": 49,
    "start_time": "2022-12-01T20:54:32.672Z"
   },
   {
    "duration": 5,
    "start_time": "2022-12-01T20:54:32.724Z"
   },
   {
    "duration": 25,
    "start_time": "2022-12-01T20:54:32.731Z"
   },
   {
    "duration": 21,
    "start_time": "2022-12-01T20:54:32.758Z"
   },
   {
    "duration": 19,
    "start_time": "2022-12-01T20:54:32.798Z"
   },
   {
    "duration": 21,
    "start_time": "2022-12-01T20:54:32.819Z"
   },
   {
    "duration": 20,
    "start_time": "2022-12-01T20:55:43.302Z"
   },
   {
    "duration": 1204,
    "start_time": "2022-12-01T20:57:33.508Z"
   },
   {
    "duration": 1039,
    "start_time": "2022-12-01T20:57:34.714Z"
   },
   {
    "duration": 11,
    "start_time": "2022-12-01T20:57:35.755Z"
   },
   {
    "duration": 10,
    "start_time": "2022-12-01T20:57:35.768Z"
   },
   {
    "duration": 30,
    "start_time": "2022-12-01T20:57:35.779Z"
   },
   {
    "duration": 13,
    "start_time": "2022-12-01T20:57:35.810Z"
   },
   {
    "duration": 85,
    "start_time": "2022-12-01T20:57:35.825Z"
   },
   {
    "duration": 12,
    "start_time": "2022-12-01T20:57:35.912Z"
   },
   {
    "duration": 13,
    "start_time": "2022-12-01T20:57:35.926Z"
   },
   {
    "duration": 363,
    "start_time": "2022-12-01T20:57:35.942Z"
   },
   {
    "duration": 8,
    "start_time": "2022-12-01T20:57:36.307Z"
   },
   {
    "duration": 1481,
    "start_time": "2022-12-02T17:19:24.099Z"
   },
   {
    "duration": 1643,
    "start_time": "2022-12-02T17:19:25.582Z"
   },
   {
    "duration": 14,
    "start_time": "2022-12-02T17:19:27.227Z"
   },
   {
    "duration": 10,
    "start_time": "2022-12-02T17:19:27.243Z"
   },
   {
    "duration": 10,
    "start_time": "2022-12-02T17:19:27.254Z"
   },
   {
    "duration": 8,
    "start_time": "2022-12-02T17:19:27.266Z"
   },
   {
    "duration": 106,
    "start_time": "2022-12-02T17:19:27.276Z"
   },
   {
    "duration": 13,
    "start_time": "2022-12-02T17:19:27.384Z"
   },
   {
    "duration": 24,
    "start_time": "2022-12-02T17:19:27.399Z"
   },
   {
    "duration": 369,
    "start_time": "2022-12-02T17:19:27.425Z"
   },
   {
    "duration": 8,
    "start_time": "2022-12-02T17:19:27.795Z"
   },
   {
    "duration": 3351,
    "start_time": "2022-12-02T17:19:27.805Z"
   },
   {
    "duration": 10,
    "start_time": "2022-12-02T17:19:31.158Z"
   },
   {
    "duration": 233,
    "start_time": "2022-12-02T17:19:31.169Z"
   },
   {
    "duration": 22,
    "start_time": "2022-12-02T17:19:31.403Z"
   },
   {
    "duration": 29,
    "start_time": "2022-12-02T17:19:31.426Z"
   },
   {
    "duration": 33,
    "start_time": "2022-12-02T17:19:31.457Z"
   },
   {
    "duration": 18,
    "start_time": "2022-12-02T17:19:31.492Z"
   },
   {
    "duration": 25,
    "start_time": "2022-12-02T17:19:31.511Z"
   },
   {
    "duration": 23,
    "start_time": "2022-12-02T17:19:31.537Z"
   },
   {
    "duration": 28,
    "start_time": "2022-12-02T17:19:31.561Z"
   },
   {
    "duration": 74,
    "start_time": "2022-12-02T17:19:31.592Z"
   },
   {
    "duration": 35,
    "start_time": "2022-12-02T17:19:31.668Z"
   },
   {
    "duration": 52,
    "start_time": "2022-12-02T17:19:31.704Z"
   },
   {
    "duration": 40,
    "start_time": "2022-12-02T17:19:31.757Z"
   },
   {
    "duration": 57,
    "start_time": "2022-12-02T17:19:31.798Z"
   },
   {
    "duration": 11,
    "start_time": "2022-12-02T17:19:31.857Z"
   },
   {
    "duration": 49,
    "start_time": "2022-12-02T17:19:31.874Z"
   },
   {
    "duration": 20,
    "start_time": "2022-12-02T17:19:31.925Z"
   },
   {
    "duration": 26,
    "start_time": "2022-12-02T17:19:31.947Z"
   },
   {
    "duration": 28,
    "start_time": "2022-12-02T17:19:31.975Z"
   },
   {
    "duration": 23,
    "start_time": "2022-12-02T17:19:32.005Z"
   },
   {
    "duration": 7,
    "start_time": "2022-12-02T17:19:32.030Z"
   },
   {
    "duration": 32,
    "start_time": "2022-12-02T17:19:32.039Z"
   },
   {
    "duration": 20,
    "start_time": "2022-12-02T17:19:32.073Z"
   },
   {
    "duration": 78,
    "start_time": "2022-12-02T17:19:32.094Z"
   },
   {
    "duration": 5,
    "start_time": "2022-12-02T17:19:32.174Z"
   },
   {
    "duration": 36,
    "start_time": "2022-12-02T17:19:32.180Z"
   },
   {
    "duration": 27,
    "start_time": "2022-12-02T17:19:32.218Z"
   },
   {
    "duration": 17,
    "start_time": "2022-12-02T17:19:32.247Z"
   },
   {
    "duration": 30,
    "start_time": "2022-12-02T17:19:32.266Z"
   },
   {
    "duration": 16,
    "start_time": "2022-12-02T17:19:32.297Z"
   },
   {
    "duration": 39,
    "start_time": "2022-12-02T17:19:32.315Z"
   },
   {
    "duration": 40,
    "start_time": "2022-12-02T17:19:32.356Z"
   },
   {
    "duration": 33,
    "start_time": "2022-12-02T17:19:32.397Z"
   },
   {
    "duration": 32,
    "start_time": "2022-12-02T17:19:32.432Z"
   },
   {
    "duration": 19,
    "start_time": "2022-12-02T17:19:32.465Z"
   },
   {
    "duration": 34,
    "start_time": "2022-12-02T17:19:32.486Z"
   },
   {
    "duration": 24,
    "start_time": "2022-12-02T17:19:32.522Z"
   },
   {
    "duration": 18,
    "start_time": "2022-12-02T17:19:32.548Z"
   },
   {
    "duration": 208,
    "start_time": "2022-12-02T17:19:32.568Z"
   },
   {
    "duration": 20,
    "start_time": "2022-12-02T17:19:32.778Z"
   },
   {
    "duration": 43,
    "start_time": "2022-12-02T17:19:32.800Z"
   },
   {
    "duration": 26,
    "start_time": "2022-12-02T17:19:32.845Z"
   },
   {
    "duration": 11,
    "start_time": "2022-12-02T17:19:32.872Z"
   },
   {
    "duration": 388,
    "start_time": "2022-12-02T17:19:32.885Z"
   },
   {
    "duration": 13,
    "start_time": "2022-12-02T17:19:33.275Z"
   },
   {
    "duration": 10,
    "start_time": "2022-12-02T17:19:33.290Z"
   },
   {
    "duration": 448,
    "start_time": "2022-12-02T17:19:33.302Z"
   },
   {
    "duration": 222,
    "start_time": "2022-12-02T17:19:33.751Z"
   },
   {
    "duration": 234,
    "start_time": "2022-12-02T17:19:33.975Z"
   },
   {
    "duration": 249,
    "start_time": "2022-12-02T17:19:34.211Z"
   },
   {
    "duration": 4485,
    "start_time": "2022-12-02T17:19:34.461Z"
   },
   {
    "duration": 26,
    "start_time": "2022-12-02T17:19:38.947Z"
   },
   {
    "duration": 47,
    "start_time": "2022-12-02T17:19:38.975Z"
   },
   {
    "duration": 6,
    "start_time": "2022-12-02T17:19:39.024Z"
   },
   {
    "duration": 24,
    "start_time": "2022-12-02T17:19:39.031Z"
   },
   {
    "duration": 20,
    "start_time": "2022-12-02T17:19:39.057Z"
   },
   {
    "duration": 44,
    "start_time": "2022-12-02T17:19:39.079Z"
   },
   {
    "duration": 22,
    "start_time": "2022-12-02T17:19:39.125Z"
   },
   {
    "duration": 1388,
    "start_time": "2022-12-03T19:09:39.722Z"
   },
   {
    "duration": 1209,
    "start_time": "2022-12-03T19:09:41.112Z"
   },
   {
    "duration": 13,
    "start_time": "2022-12-03T19:09:42.323Z"
   },
   {
    "duration": 8,
    "start_time": "2022-12-03T19:09:42.338Z"
   },
   {
    "duration": 13,
    "start_time": "2022-12-03T19:09:42.348Z"
   },
   {
    "duration": 12,
    "start_time": "2022-12-03T19:09:42.363Z"
   },
   {
    "duration": 99,
    "start_time": "2022-12-03T19:09:42.377Z"
   },
   {
    "duration": 27,
    "start_time": "2022-12-03T19:09:42.478Z"
   },
   {
    "duration": 15,
    "start_time": "2022-12-03T19:09:42.507Z"
   },
   {
    "duration": 389,
    "start_time": "2022-12-03T19:09:42.525Z"
   },
   {
    "duration": 9,
    "start_time": "2022-12-03T19:09:42.916Z"
   },
   {
    "duration": 3473,
    "start_time": "2022-12-03T19:09:42.927Z"
   },
   {
    "duration": 9,
    "start_time": "2022-12-03T19:09:46.402Z"
   },
   {
    "duration": 218,
    "start_time": "2022-12-03T19:09:46.412Z"
   },
   {
    "duration": 16,
    "start_time": "2022-12-03T19:09:46.632Z"
   },
   {
    "duration": 9,
    "start_time": "2022-12-03T19:09:46.649Z"
   },
   {
    "duration": 37,
    "start_time": "2022-12-03T19:09:46.660Z"
   },
   {
    "duration": 13,
    "start_time": "2022-12-03T19:09:46.699Z"
   },
   {
    "duration": 14,
    "start_time": "2022-12-03T19:09:46.713Z"
   },
   {
    "duration": 6,
    "start_time": "2022-12-03T19:09:46.728Z"
   },
   {
    "duration": 6,
    "start_time": "2022-12-03T19:09:46.735Z"
   },
   {
    "duration": 65,
    "start_time": "2022-12-03T19:09:46.743Z"
   },
   {
    "duration": 35,
    "start_time": "2022-12-03T19:09:46.809Z"
   },
   {
    "duration": 54,
    "start_time": "2022-12-03T19:09:46.846Z"
   },
   {
    "duration": 70,
    "start_time": "2022-12-03T19:09:46.901Z"
   },
   {
    "duration": 73,
    "start_time": "2022-12-03T19:09:46.973Z"
   },
   {
    "duration": 4,
    "start_time": "2022-12-03T19:09:47.048Z"
   },
   {
    "duration": 9,
    "start_time": "2022-12-03T19:09:47.056Z"
   },
   {
    "duration": 6,
    "start_time": "2022-12-03T19:09:47.067Z"
   },
   {
    "duration": 22,
    "start_time": "2022-12-03T19:09:47.075Z"
   },
   {
    "duration": 21,
    "start_time": "2022-12-03T19:09:47.100Z"
   },
   {
    "duration": 10,
    "start_time": "2022-12-03T19:09:47.123Z"
   },
   {
    "duration": 7,
    "start_time": "2022-12-03T19:09:47.134Z"
   },
   {
    "duration": 9,
    "start_time": "2022-12-03T19:09:47.143Z"
   },
   {
    "duration": 5,
    "start_time": "2022-12-03T19:09:47.153Z"
   },
   {
    "duration": 54,
    "start_time": "2022-12-03T19:09:47.196Z"
   },
   {
    "duration": 6,
    "start_time": "2022-12-03T19:09:47.252Z"
   },
   {
    "duration": 14,
    "start_time": "2022-12-03T19:09:47.259Z"
   },
   {
    "duration": 30,
    "start_time": "2022-12-03T19:09:47.275Z"
   },
   {
    "duration": 8,
    "start_time": "2022-12-03T19:09:47.307Z"
   },
   {
    "duration": 16,
    "start_time": "2022-12-03T19:09:47.317Z"
   },
   {
    "duration": 9,
    "start_time": "2022-12-03T19:09:47.334Z"
   },
   {
    "duration": 10,
    "start_time": "2022-12-03T19:09:47.344Z"
   },
   {
    "duration": 43,
    "start_time": "2022-12-03T19:09:47.356Z"
   },
   {
    "duration": 12,
    "start_time": "2022-12-03T19:09:47.400Z"
   },
   {
    "duration": 13,
    "start_time": "2022-12-03T19:09:47.413Z"
   },
   {
    "duration": 15,
    "start_time": "2022-12-03T19:09:47.427Z"
   },
   {
    "duration": 14,
    "start_time": "2022-12-03T19:09:47.444Z"
   },
   {
    "duration": 7,
    "start_time": "2022-12-03T19:09:47.461Z"
   },
   {
    "duration": 6,
    "start_time": "2022-12-03T19:09:47.496Z"
   },
   {
    "duration": 204,
    "start_time": "2022-12-03T19:09:47.504Z"
   },
   {
    "duration": 21,
    "start_time": "2022-12-03T19:09:47.709Z"
   },
   {
    "duration": 12,
    "start_time": "2022-12-03T19:09:47.731Z"
   },
   {
    "duration": 16,
    "start_time": "2022-12-03T19:09:47.745Z"
   },
   {
    "duration": 38,
    "start_time": "2022-12-03T19:09:47.763Z"
   },
   {
    "duration": 397,
    "start_time": "2022-12-03T19:09:47.802Z"
   },
   {
    "duration": 11,
    "start_time": "2022-12-03T19:09:48.201Z"
   },
   {
    "duration": 8,
    "start_time": "2022-12-03T19:09:48.214Z"
   },
   {
    "duration": 453,
    "start_time": "2022-12-03T19:09:48.224Z"
   },
   {
    "duration": 226,
    "start_time": "2022-12-03T19:09:48.679Z"
   },
   {
    "duration": 221,
    "start_time": "2022-12-03T19:09:48.907Z"
   },
   {
    "duration": 253,
    "start_time": "2022-12-03T19:09:49.130Z"
   },
   {
    "duration": 4490,
    "start_time": "2022-12-03T19:09:49.385Z"
   },
   {
    "duration": 32,
    "start_time": "2022-12-03T19:09:53.877Z"
   },
   {
    "duration": 37,
    "start_time": "2022-12-03T19:09:53.911Z"
   },
   {
    "duration": 6,
    "start_time": "2022-12-03T19:09:53.949Z"
   },
   {
    "duration": 32,
    "start_time": "2022-12-03T19:09:53.956Z"
   },
   {
    "duration": 21,
    "start_time": "2022-12-03T19:09:53.996Z"
   },
   {
    "duration": 19,
    "start_time": "2022-12-03T19:09:54.019Z"
   },
   {
    "duration": 20,
    "start_time": "2022-12-03T19:09:54.040Z"
   }
  ],
  "kernelspec": {
   "display_name": "Python 3 (ipykernel)",
   "language": "python",
   "name": "python3"
  },
  "language_info": {
   "codemirror_mode": {
    "name": "ipython",
    "version": 3
   },
   "file_extension": ".py",
   "mimetype": "text/x-python",
   "name": "python",
   "nbconvert_exporter": "python",
   "pygments_lexer": "ipython3",
   "version": "3.9.13"
  },
  "toc": {
   "base_numbering": 1,
   "nav_menu": {
    "height": "150px",
    "width": "351px"
   },
   "number_sections": true,
   "sideBar": true,
   "skip_h1_title": true,
   "title_cell": "Table of Contents",
   "title_sidebar": "Contents",
   "toc_cell": false,
   "toc_position": {},
   "toc_section_display": true,
   "toc_window_display": false
  }
 },
 "nbformat": 4,
 "nbformat_minor": 2
}
