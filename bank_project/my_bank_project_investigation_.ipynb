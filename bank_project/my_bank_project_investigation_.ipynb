{
  "cells": [
    {
      "cell_type": "markdown",
      "id": "c81daeeb",
      "metadata": {
        "deletable": false,
        "id": "c81daeeb"
      },
      "source": [
        "# Research of bank borrowers\n"
      ]
    },
    {
      "cell_type": "markdown",
      "id": "827c20bf",
      "metadata": {
        "id": "827c20bf"
      },
      "source": [
        "The customer is the credit department of the bank. It is necessary to find out whether the marital status and the number of children of the client affect the fact of repaying the loan on time. Input data from the bank - statistics on the solvency of customers.\n",
        "The results of the study will be taken into account when building a credit scoring model - a special system that assesses the ability of a potential borrower to return a loan to a bank."
      ]
    },
    {
      "cell_type": "markdown",
      "source": [
        "The dataframe contains:\n",
        "\n",
        "`children` — number of children in the family\n",
        "`days_employed` - total work experience in days\n",
        "`dob_years` — client's age in years\n",
        "`education` — client education level\n",
        "`education_id` — education level ID\n",
        "`family_status` — marital status\n",
        "`family_status_id` — marital status identifier\n",
        "`gender` - gender of the client\n",
        "`income_type` — employment type\n",
        "`debt` - whether he had a debt on the return of credits\n",
        "`total_income` — monthly income\n",
        "`purpose` — the purpose of obtaining a loan"
      ],
      "metadata": {
        "id": "eRHhQgy5XUeC"
      },
      "id": "eRHhQgy5XUeC"
    },
    {
      "cell_type": "markdown",
      "id": "744d7639",
      "metadata": {
        "deletable": false,
        "id": "744d7639"
      },
      "source": [
        "## 1. Data Acquaintance"
      ]
    },
    {
      "cell_type": "markdown",
      "id": "e7a14c31",
      "metadata": {
        "deletable": false,
        "id": "e7a14c31"
      },
      "source": [
        "**We are importing DataBase to observe data**"
      ]
    },
    {
      "cell_type": "code",
      "execution_count": 1,
      "id": "7bcf75c9",
      "metadata": {
        "deletable": false,
        "id": "7bcf75c9"
      },
      "outputs": [],
      "source": [
        "import pandas as pd\n",
        "\n",
        "try:\n",
        "    data = pd.read_csv('/datasets/data.csv')\n",
        "except:\n",
        "    data = pd.read_csv('https://code.s3.yandex.net/datasets/data.csv')"
      ]
    },
    {
      "cell_type": "markdown",
      "id": "b8038fe3",
      "metadata": {
        "deletable": false,
        "id": "b8038fe3"
      },
      "source": [
        "**We are showing first 20 rows**"
      ]
    },
    {
      "cell_type": "code",
      "execution_count": 2,
      "id": "2a7cab99",
      "metadata": {
        "deletable": false,
        "id": "2a7cab99",
        "outputId": "01768725-d0ab-4dc2-a37c-ea507a7e2dbb",
        "colab": {
          "base_uri": "https://localhost:8080/",
          "height": 1000
        }
      },
      "outputs": [
        {
          "output_type": "execute_result",
          "data": {
            "text/plain": [
              "    children  days_employed  dob_years            education  education_id  \\\n",
              "0          1   -8437.673028         42               высшее             0   \n",
              "1          1   -4024.803754         36              среднее             1   \n",
              "2          0   -5623.422610         33              Среднее             1   \n",
              "3          3   -4124.747207         32              среднее             1   \n",
              "4          0  340266.072047         53              среднее             1   \n",
              "5          0    -926.185831         27               высшее             0   \n",
              "6          0   -2879.202052         43               высшее             0   \n",
              "7          0    -152.779569         50              СРЕДНЕЕ             1   \n",
              "8          2   -6929.865299         35               ВЫСШЕЕ             0   \n",
              "9          0   -2188.756445         41              среднее             1   \n",
              "10         2   -4171.483647         36               высшее             0   \n",
              "11         0    -792.701887         40              среднее             1   \n",
              "12         0            NaN         65              среднее             1   \n",
              "13         0   -1846.641941         54  неоконченное высшее             2   \n",
              "14         0   -1844.956182         56               высшее             0   \n",
              "15         1    -972.364419         26              среднее             1   \n",
              "16         0   -1719.934226         35              среднее             1   \n",
              "17         0   -2369.999720         33               высшее             0   \n",
              "18         0  400281.136913         53              среднее             1   \n",
              "19         0  -10038.818549         48              СРЕДНЕЕ             1   \n",
              "\n",
              "       family_status  family_status_id gender income_type  debt  \\\n",
              "0    женат / замужем                 0      F   сотрудник     0   \n",
              "1    женат / замужем                 0      F   сотрудник     0   \n",
              "2    женат / замужем                 0      M   сотрудник     0   \n",
              "3    женат / замужем                 0      M   сотрудник     0   \n",
              "4   гражданский брак                 1      F   пенсионер     0   \n",
              "5   гражданский брак                 1      M   компаньон     0   \n",
              "6    женат / замужем                 0      F   компаньон     0   \n",
              "7    женат / замужем                 0      M   сотрудник     0   \n",
              "8   гражданский брак                 1      F   сотрудник     0   \n",
              "9    женат / замужем                 0      M   сотрудник     0   \n",
              "10   женат / замужем                 0      M   компаньон     0   \n",
              "11   женат / замужем                 0      F   сотрудник     0   \n",
              "12  гражданский брак                 1      M   пенсионер     0   \n",
              "13   женат / замужем                 0      F   сотрудник     0   \n",
              "14  гражданский брак                 1      F   компаньон     1   \n",
              "15   женат / замужем                 0      F   сотрудник     0   \n",
              "16   женат / замужем                 0      F   сотрудник     0   \n",
              "17  гражданский брак                 1      M   сотрудник     0   \n",
              "18    вдовец / вдова                 2      F   пенсионер     0   \n",
              "19         в разводе                 3      F   сотрудник     0   \n",
              "\n",
              "     total_income                                 purpose  \n",
              "0   253875.639453                           покупка жилья  \n",
              "1   112080.014102                 приобретение автомобиля  \n",
              "2   145885.952297                           покупка жилья  \n",
              "3   267628.550329              дополнительное образование  \n",
              "4   158616.077870                         сыграть свадьбу  \n",
              "5   255763.565419                           покупка жилья  \n",
              "6   240525.971920                       операции с жильем  \n",
              "7   135823.934197                             образование  \n",
              "8    95856.832424                   на проведение свадьбы  \n",
              "9   144425.938277                 покупка жилья для семьи  \n",
              "10  113943.491460                    покупка недвижимости  \n",
              "11   77069.234271       покупка коммерческой недвижимости  \n",
              "12            NaN                         сыграть свадьбу  \n",
              "13  130458.228857                 приобретение автомобиля  \n",
              "14  165127.911772              покупка жилой недвижимости  \n",
              "15  116820.904450  строительство собственной недвижимости  \n",
              "16  289202.704229                            недвижимость  \n",
              "17   90410.586745              строительство недвижимости  \n",
              "18   56823.777243      на покупку подержанного автомобиля  \n",
              "19  242831.107982            на покупку своего автомобиля  "
            ],
            "text/html": [
              "\n",
              "  <div id=\"df-013bdb27-9f1d-48a3-9bd8-2e1a32de68dd\">\n",
              "    <div class=\"colab-df-container\">\n",
              "      <div>\n",
              "<style scoped>\n",
              "    .dataframe tbody tr th:only-of-type {\n",
              "        vertical-align: middle;\n",
              "    }\n",
              "\n",
              "    .dataframe tbody tr th {\n",
              "        vertical-align: top;\n",
              "    }\n",
              "\n",
              "    .dataframe thead th {\n",
              "        text-align: right;\n",
              "    }\n",
              "</style>\n",
              "<table border=\"1\" class=\"dataframe\">\n",
              "  <thead>\n",
              "    <tr style=\"text-align: right;\">\n",
              "      <th></th>\n",
              "      <th>children</th>\n",
              "      <th>days_employed</th>\n",
              "      <th>dob_years</th>\n",
              "      <th>education</th>\n",
              "      <th>education_id</th>\n",
              "      <th>family_status</th>\n",
              "      <th>family_status_id</th>\n",
              "      <th>gender</th>\n",
              "      <th>income_type</th>\n",
              "      <th>debt</th>\n",
              "      <th>total_income</th>\n",
              "      <th>purpose</th>\n",
              "    </tr>\n",
              "  </thead>\n",
              "  <tbody>\n",
              "    <tr>\n",
              "      <th>0</th>\n",
              "      <td>1</td>\n",
              "      <td>-8437.673028</td>\n",
              "      <td>42</td>\n",
              "      <td>высшее</td>\n",
              "      <td>0</td>\n",
              "      <td>женат / замужем</td>\n",
              "      <td>0</td>\n",
              "      <td>F</td>\n",
              "      <td>сотрудник</td>\n",
              "      <td>0</td>\n",
              "      <td>253875.639453</td>\n",
              "      <td>покупка жилья</td>\n",
              "    </tr>\n",
              "    <tr>\n",
              "      <th>1</th>\n",
              "      <td>1</td>\n",
              "      <td>-4024.803754</td>\n",
              "      <td>36</td>\n",
              "      <td>среднее</td>\n",
              "      <td>1</td>\n",
              "      <td>женат / замужем</td>\n",
              "      <td>0</td>\n",
              "      <td>F</td>\n",
              "      <td>сотрудник</td>\n",
              "      <td>0</td>\n",
              "      <td>112080.014102</td>\n",
              "      <td>приобретение автомобиля</td>\n",
              "    </tr>\n",
              "    <tr>\n",
              "      <th>2</th>\n",
              "      <td>0</td>\n",
              "      <td>-5623.422610</td>\n",
              "      <td>33</td>\n",
              "      <td>Среднее</td>\n",
              "      <td>1</td>\n",
              "      <td>женат / замужем</td>\n",
              "      <td>0</td>\n",
              "      <td>M</td>\n",
              "      <td>сотрудник</td>\n",
              "      <td>0</td>\n",
              "      <td>145885.952297</td>\n",
              "      <td>покупка жилья</td>\n",
              "    </tr>\n",
              "    <tr>\n",
              "      <th>3</th>\n",
              "      <td>3</td>\n",
              "      <td>-4124.747207</td>\n",
              "      <td>32</td>\n",
              "      <td>среднее</td>\n",
              "      <td>1</td>\n",
              "      <td>женат / замужем</td>\n",
              "      <td>0</td>\n",
              "      <td>M</td>\n",
              "      <td>сотрудник</td>\n",
              "      <td>0</td>\n",
              "      <td>267628.550329</td>\n",
              "      <td>дополнительное образование</td>\n",
              "    </tr>\n",
              "    <tr>\n",
              "      <th>4</th>\n",
              "      <td>0</td>\n",
              "      <td>340266.072047</td>\n",
              "      <td>53</td>\n",
              "      <td>среднее</td>\n",
              "      <td>1</td>\n",
              "      <td>гражданский брак</td>\n",
              "      <td>1</td>\n",
              "      <td>F</td>\n",
              "      <td>пенсионер</td>\n",
              "      <td>0</td>\n",
              "      <td>158616.077870</td>\n",
              "      <td>сыграть свадьбу</td>\n",
              "    </tr>\n",
              "    <tr>\n",
              "      <th>5</th>\n",
              "      <td>0</td>\n",
              "      <td>-926.185831</td>\n",
              "      <td>27</td>\n",
              "      <td>высшее</td>\n",
              "      <td>0</td>\n",
              "      <td>гражданский брак</td>\n",
              "      <td>1</td>\n",
              "      <td>M</td>\n",
              "      <td>компаньон</td>\n",
              "      <td>0</td>\n",
              "      <td>255763.565419</td>\n",
              "      <td>покупка жилья</td>\n",
              "    </tr>\n",
              "    <tr>\n",
              "      <th>6</th>\n",
              "      <td>0</td>\n",
              "      <td>-2879.202052</td>\n",
              "      <td>43</td>\n",
              "      <td>высшее</td>\n",
              "      <td>0</td>\n",
              "      <td>женат / замужем</td>\n",
              "      <td>0</td>\n",
              "      <td>F</td>\n",
              "      <td>компаньон</td>\n",
              "      <td>0</td>\n",
              "      <td>240525.971920</td>\n",
              "      <td>операции с жильем</td>\n",
              "    </tr>\n",
              "    <tr>\n",
              "      <th>7</th>\n",
              "      <td>0</td>\n",
              "      <td>-152.779569</td>\n",
              "      <td>50</td>\n",
              "      <td>СРЕДНЕЕ</td>\n",
              "      <td>1</td>\n",
              "      <td>женат / замужем</td>\n",
              "      <td>0</td>\n",
              "      <td>M</td>\n",
              "      <td>сотрудник</td>\n",
              "      <td>0</td>\n",
              "      <td>135823.934197</td>\n",
              "      <td>образование</td>\n",
              "    </tr>\n",
              "    <tr>\n",
              "      <th>8</th>\n",
              "      <td>2</td>\n",
              "      <td>-6929.865299</td>\n",
              "      <td>35</td>\n",
              "      <td>ВЫСШЕЕ</td>\n",
              "      <td>0</td>\n",
              "      <td>гражданский брак</td>\n",
              "      <td>1</td>\n",
              "      <td>F</td>\n",
              "      <td>сотрудник</td>\n",
              "      <td>0</td>\n",
              "      <td>95856.832424</td>\n",
              "      <td>на проведение свадьбы</td>\n",
              "    </tr>\n",
              "    <tr>\n",
              "      <th>9</th>\n",
              "      <td>0</td>\n",
              "      <td>-2188.756445</td>\n",
              "      <td>41</td>\n",
              "      <td>среднее</td>\n",
              "      <td>1</td>\n",
              "      <td>женат / замужем</td>\n",
              "      <td>0</td>\n",
              "      <td>M</td>\n",
              "      <td>сотрудник</td>\n",
              "      <td>0</td>\n",
              "      <td>144425.938277</td>\n",
              "      <td>покупка жилья для семьи</td>\n",
              "    </tr>\n",
              "    <tr>\n",
              "      <th>10</th>\n",
              "      <td>2</td>\n",
              "      <td>-4171.483647</td>\n",
              "      <td>36</td>\n",
              "      <td>высшее</td>\n",
              "      <td>0</td>\n",
              "      <td>женат / замужем</td>\n",
              "      <td>0</td>\n",
              "      <td>M</td>\n",
              "      <td>компаньон</td>\n",
              "      <td>0</td>\n",
              "      <td>113943.491460</td>\n",
              "      <td>покупка недвижимости</td>\n",
              "    </tr>\n",
              "    <tr>\n",
              "      <th>11</th>\n",
              "      <td>0</td>\n",
              "      <td>-792.701887</td>\n",
              "      <td>40</td>\n",
              "      <td>среднее</td>\n",
              "      <td>1</td>\n",
              "      <td>женат / замужем</td>\n",
              "      <td>0</td>\n",
              "      <td>F</td>\n",
              "      <td>сотрудник</td>\n",
              "      <td>0</td>\n",
              "      <td>77069.234271</td>\n",
              "      <td>покупка коммерческой недвижимости</td>\n",
              "    </tr>\n",
              "    <tr>\n",
              "      <th>12</th>\n",
              "      <td>0</td>\n",
              "      <td>NaN</td>\n",
              "      <td>65</td>\n",
              "      <td>среднее</td>\n",
              "      <td>1</td>\n",
              "      <td>гражданский брак</td>\n",
              "      <td>1</td>\n",
              "      <td>M</td>\n",
              "      <td>пенсионер</td>\n",
              "      <td>0</td>\n",
              "      <td>NaN</td>\n",
              "      <td>сыграть свадьбу</td>\n",
              "    </tr>\n",
              "    <tr>\n",
              "      <th>13</th>\n",
              "      <td>0</td>\n",
              "      <td>-1846.641941</td>\n",
              "      <td>54</td>\n",
              "      <td>неоконченное высшее</td>\n",
              "      <td>2</td>\n",
              "      <td>женат / замужем</td>\n",
              "      <td>0</td>\n",
              "      <td>F</td>\n",
              "      <td>сотрудник</td>\n",
              "      <td>0</td>\n",
              "      <td>130458.228857</td>\n",
              "      <td>приобретение автомобиля</td>\n",
              "    </tr>\n",
              "    <tr>\n",
              "      <th>14</th>\n",
              "      <td>0</td>\n",
              "      <td>-1844.956182</td>\n",
              "      <td>56</td>\n",
              "      <td>высшее</td>\n",
              "      <td>0</td>\n",
              "      <td>гражданский брак</td>\n",
              "      <td>1</td>\n",
              "      <td>F</td>\n",
              "      <td>компаньон</td>\n",
              "      <td>1</td>\n",
              "      <td>165127.911772</td>\n",
              "      <td>покупка жилой недвижимости</td>\n",
              "    </tr>\n",
              "    <tr>\n",
              "      <th>15</th>\n",
              "      <td>1</td>\n",
              "      <td>-972.364419</td>\n",
              "      <td>26</td>\n",
              "      <td>среднее</td>\n",
              "      <td>1</td>\n",
              "      <td>женат / замужем</td>\n",
              "      <td>0</td>\n",
              "      <td>F</td>\n",
              "      <td>сотрудник</td>\n",
              "      <td>0</td>\n",
              "      <td>116820.904450</td>\n",
              "      <td>строительство собственной недвижимости</td>\n",
              "    </tr>\n",
              "    <tr>\n",
              "      <th>16</th>\n",
              "      <td>0</td>\n",
              "      <td>-1719.934226</td>\n",
              "      <td>35</td>\n",
              "      <td>среднее</td>\n",
              "      <td>1</td>\n",
              "      <td>женат / замужем</td>\n",
              "      <td>0</td>\n",
              "      <td>F</td>\n",
              "      <td>сотрудник</td>\n",
              "      <td>0</td>\n",
              "      <td>289202.704229</td>\n",
              "      <td>недвижимость</td>\n",
              "    </tr>\n",
              "    <tr>\n",
              "      <th>17</th>\n",
              "      <td>0</td>\n",
              "      <td>-2369.999720</td>\n",
              "      <td>33</td>\n",
              "      <td>высшее</td>\n",
              "      <td>0</td>\n",
              "      <td>гражданский брак</td>\n",
              "      <td>1</td>\n",
              "      <td>M</td>\n",
              "      <td>сотрудник</td>\n",
              "      <td>0</td>\n",
              "      <td>90410.586745</td>\n",
              "      <td>строительство недвижимости</td>\n",
              "    </tr>\n",
              "    <tr>\n",
              "      <th>18</th>\n",
              "      <td>0</td>\n",
              "      <td>400281.136913</td>\n",
              "      <td>53</td>\n",
              "      <td>среднее</td>\n",
              "      <td>1</td>\n",
              "      <td>вдовец / вдова</td>\n",
              "      <td>2</td>\n",
              "      <td>F</td>\n",
              "      <td>пенсионер</td>\n",
              "      <td>0</td>\n",
              "      <td>56823.777243</td>\n",
              "      <td>на покупку подержанного автомобиля</td>\n",
              "    </tr>\n",
              "    <tr>\n",
              "      <th>19</th>\n",
              "      <td>0</td>\n",
              "      <td>-10038.818549</td>\n",
              "      <td>48</td>\n",
              "      <td>СРЕДНЕЕ</td>\n",
              "      <td>1</td>\n",
              "      <td>в разводе</td>\n",
              "      <td>3</td>\n",
              "      <td>F</td>\n",
              "      <td>сотрудник</td>\n",
              "      <td>0</td>\n",
              "      <td>242831.107982</td>\n",
              "      <td>на покупку своего автомобиля</td>\n",
              "    </tr>\n",
              "  </tbody>\n",
              "</table>\n",
              "</div>\n",
              "      <button class=\"colab-df-convert\" onclick=\"convertToInteractive('df-013bdb27-9f1d-48a3-9bd8-2e1a32de68dd')\"\n",
              "              title=\"Convert this dataframe to an interactive table.\"\n",
              "              style=\"display:none;\">\n",
              "        \n",
              "  <svg xmlns=\"http://www.w3.org/2000/svg\" height=\"24px\"viewBox=\"0 0 24 24\"\n",
              "       width=\"24px\">\n",
              "    <path d=\"M0 0h24v24H0V0z\" fill=\"none\"/>\n",
              "    <path d=\"M18.56 5.44l.94 2.06.94-2.06 2.06-.94-2.06-.94-.94-2.06-.94 2.06-2.06.94zm-11 1L8.5 8.5l.94-2.06 2.06-.94-2.06-.94L8.5 2.5l-.94 2.06-2.06.94zm10 10l.94 2.06.94-2.06 2.06-.94-2.06-.94-.94-2.06-.94 2.06-2.06.94z\"/><path d=\"M17.41 7.96l-1.37-1.37c-.4-.4-.92-.59-1.43-.59-.52 0-1.04.2-1.43.59L10.3 9.45l-7.72 7.72c-.78.78-.78 2.05 0 2.83L4 21.41c.39.39.9.59 1.41.59.51 0 1.02-.2 1.41-.59l7.78-7.78 2.81-2.81c.8-.78.8-2.07 0-2.86zM5.41 20L4 18.59l7.72-7.72 1.47 1.35L5.41 20z\"/>\n",
              "  </svg>\n",
              "      </button>\n",
              "      \n",
              "  <style>\n",
              "    .colab-df-container {\n",
              "      display:flex;\n",
              "      flex-wrap:wrap;\n",
              "      gap: 12px;\n",
              "    }\n",
              "\n",
              "    .colab-df-convert {\n",
              "      background-color: #E8F0FE;\n",
              "      border: none;\n",
              "      border-radius: 50%;\n",
              "      cursor: pointer;\n",
              "      display: none;\n",
              "      fill: #1967D2;\n",
              "      height: 32px;\n",
              "      padding: 0 0 0 0;\n",
              "      width: 32px;\n",
              "    }\n",
              "\n",
              "    .colab-df-convert:hover {\n",
              "      background-color: #E2EBFA;\n",
              "      box-shadow: 0px 1px 2px rgba(60, 64, 67, 0.3), 0px 1px 3px 1px rgba(60, 64, 67, 0.15);\n",
              "      fill: #174EA6;\n",
              "    }\n",
              "\n",
              "    [theme=dark] .colab-df-convert {\n",
              "      background-color: #3B4455;\n",
              "      fill: #D2E3FC;\n",
              "    }\n",
              "\n",
              "    [theme=dark] .colab-df-convert:hover {\n",
              "      background-color: #434B5C;\n",
              "      box-shadow: 0px 1px 3px 1px rgba(0, 0, 0, 0.15);\n",
              "      filter: drop-shadow(0px 1px 2px rgba(0, 0, 0, 0.3));\n",
              "      fill: #FFFFFF;\n",
              "    }\n",
              "  </style>\n",
              "\n",
              "      <script>\n",
              "        const buttonEl =\n",
              "          document.querySelector('#df-013bdb27-9f1d-48a3-9bd8-2e1a32de68dd button.colab-df-convert');\n",
              "        buttonEl.style.display =\n",
              "          google.colab.kernel.accessAllowed ? 'block' : 'none';\n",
              "\n",
              "        async function convertToInteractive(key) {\n",
              "          const element = document.querySelector('#df-013bdb27-9f1d-48a3-9bd8-2e1a32de68dd');\n",
              "          const dataTable =\n",
              "            await google.colab.kernel.invokeFunction('convertToInteractive',\n",
              "                                                     [key], {});\n",
              "          if (!dataTable) return;\n",
              "\n",
              "          const docLinkHtml = 'Like what you see? Visit the ' +\n",
              "            '<a target=\"_blank\" href=https://colab.research.google.com/notebooks/data_table.ipynb>data table notebook</a>'\n",
              "            + ' to learn more about interactive tables.';\n",
              "          element.innerHTML = '';\n",
              "          dataTable['output_type'] = 'display_data';\n",
              "          await google.colab.output.renderOutput(dataTable, element);\n",
              "          const docLink = document.createElement('div');\n",
              "          docLink.innerHTML = docLinkHtml;\n",
              "          element.appendChild(docLink);\n",
              "        }\n",
              "      </script>\n",
              "    </div>\n",
              "  </div>\n",
              "  "
            ]
          },
          "metadata": {},
          "execution_count": 2
        }
      ],
      "source": [
        "data.head(20)"
      ]
    },
    {
      "cell_type": "markdown",
      "id": "1c12e233",
      "metadata": {
        "deletable": false,
        "id": "1c12e233"
      },
      "source": [
        "**We are showing We show the basic details of the data using the method `info()`.**"
      ]
    },
    {
      "cell_type": "code",
      "execution_count": 3,
      "id": "2b757bca",
      "metadata": {
        "deletable": false,
        "id": "2b757bca",
        "outputId": "4ca49bf7-0736-45a0-9d89-225041ae0de1",
        "colab": {
          "base_uri": "https://localhost:8080/"
        }
      },
      "outputs": [
        {
          "output_type": "stream",
          "name": "stdout",
          "text": [
            "<class 'pandas.core.frame.DataFrame'>\n",
            "RangeIndex: 21525 entries, 0 to 21524\n",
            "Data columns (total 12 columns):\n",
            " #   Column            Non-Null Count  Dtype  \n",
            "---  ------            --------------  -----  \n",
            " 0   children          21525 non-null  int64  \n",
            " 1   days_employed     19351 non-null  float64\n",
            " 2   dob_years         21525 non-null  int64  \n",
            " 3   education         21525 non-null  object \n",
            " 4   education_id      21525 non-null  int64  \n",
            " 5   family_status     21525 non-null  object \n",
            " 6   family_status_id  21525 non-null  int64  \n",
            " 7   gender            21525 non-null  object \n",
            " 8   income_type       21525 non-null  object \n",
            " 9   debt              21525 non-null  int64  \n",
            " 10  total_income      19351 non-null  float64\n",
            " 11  purpose           21525 non-null  object \n",
            "dtypes: float64(2), int64(5), object(5)\n",
            "memory usage: 2.0+ MB\n"
          ]
        }
      ],
      "source": [
        "data.info()"
      ]
    },
    {
      "cell_type": "markdown",
      "id": "333ec665",
      "metadata": {
        "deletable": false,
        "id": "333ec665"
      },
      "source": [
        "## 2.Data preprocessing\n",
        "\n"
      ]
    },
    {
      "cell_type": "markdown",
      "id": "02d92d53",
      "metadata": {
        "deletable": false,
        "id": "02d92d53"
      },
      "source": [
        "### 2.1 Removing gaps"
      ]
    },
    {
      "cell_type": "markdown",
      "id": "cd84967c",
      "metadata": {
        "deletable": false,
        "id": "cd84967c"
      },
      "source": [
        "**We output the number of missing values for each column**"
      ]
    },
    {
      "cell_type": "code",
      "execution_count": 4,
      "id": "7f9b2309",
      "metadata": {
        "deletable": false,
        "id": "7f9b2309",
        "outputId": "ec9ed53d-cb49-436b-a93e-980c059bf400",
        "colab": {
          "base_uri": "https://localhost:8080/"
        }
      },
      "outputs": [
        {
          "output_type": "execute_result",
          "data": {
            "text/plain": [
              "children               0\n",
              "days_employed       2174\n",
              "dob_years              0\n",
              "education              0\n",
              "education_id           0\n",
              "family_status          0\n",
              "family_status_id       0\n",
              "gender                 0\n",
              "income_type            0\n",
              "debt                   0\n",
              "total_income        2174\n",
              "purpose                0\n",
              "dtype: int64"
            ]
          },
          "metadata": {},
          "execution_count": 4
        }
      ],
      "source": [
        "data.isna().sum()"
      ]
    },
    {
      "cell_type": "markdown",
      "id": "db86e27b",
      "metadata": {
        "deletable": false,
        "id": "db86e27b"
      },
      "source": [
        "**There are missing values in two columns. One of them `total_income` - stores income data. The amount of income is most affected by the type of employment, so we will fill in the gaps in this column with the median value for each type from the `income_type` column. For example, for a person with an employment type of `employee`, the gap in the `total_income` column must be filled by the median income among all records of the same type.**"
      ]
    },
    {
      "cell_type": "code",
      "execution_count": 5,
      "id": "42006a93",
      "metadata": {
        "deletable": false,
        "id": "42006a93"
      },
      "outputs": [],
      "source": [
        "for t in data['income_type'].unique():\n",
        "    data.loc[(data['income_type'] == t) & (data['total_income'].isna()), 'total_income'] = \\\n",
        "    data.loc[(data['income_type'] == t), 'total_income'].median()"
      ]
    },
    {
      "cell_type": "markdown",
      "id": "89da5ece",
      "metadata": {
        "deletable": false,
        "id": "89da5ece"
      },
      "source": [
        "### 2.2 Anomaly Handling\n"
      ]
    },
    {
      "cell_type": "markdown",
      "id": "57964554",
      "metadata": {
        "deletable": false,
        "id": "57964554"
      },
      "source": [
        "**There are artifacts (anomalies) in the data - values that do not reflect reality and appeared due to some kind of error. such an artifact would be the negative number of days of work experience in the `days_employed` column. Let's process the values in this column: we will replace all negative values with positive ones using the `abs()` method.**\n"
      ]
    },
    {
      "cell_type": "code",
      "execution_count": 6,
      "id": "f6f055bf",
      "metadata": {
        "deletable": false,
        "id": "f6f055bf"
      },
      "outputs": [],
      "source": [
        "data['days_employed'] = data['days_employed'].abs()"
      ]
    },
    {
      "cell_type": "markdown",
      "id": "6107dd2f",
      "metadata": {
        "deletable": false,
        "id": "6107dd2f"
      },
      "source": [
        "**For each type of employment, we will display the median `days_employed` in days.**"
      ]
    },
    {
      "cell_type": "code",
      "execution_count": 7,
      "id": "85a5faf6",
      "metadata": {
        "deletable": false,
        "id": "85a5faf6",
        "outputId": "58f195d3-6361-4835-f9c5-235fddff600d",
        "colab": {
          "base_uri": "https://localhost:8080/"
        }
      },
      "outputs": [
        {
          "output_type": "execute_result",
          "data": {
            "text/plain": [
              "income_type\n",
              "безработный        366413.652744\n",
              "в декрете            3296.759962\n",
              "госслужащий          2689.368353\n",
              "компаньон            1547.382223\n",
              "пенсионер          365213.306266\n",
              "предприниматель       520.848083\n",
              "сотрудник            1574.202821\n",
              "студент               578.751554\n",
              "Name: days_employed, dtype: float64"
            ]
          },
          "metadata": {},
          "execution_count": 7
        }
      ],
      "source": [
        "data.groupby('income_type')['days_employed'].agg('median')"
      ]
    },
    {
      "cell_type": "markdown",
      "id": "38d1a030",
      "metadata": {
        "deletable": false,
        "id": "38d1a030"
      },
      "source": [
        "Two types of them (the unemployed and pensioners) will have abnormally large values. Correcting such values is difficult, so leave them as they are. Moreover, we will not need this column for research.\n"
      ]
    },
    {
      "cell_type": "markdown",
      "id": "d8a9f147",
      "metadata": {
        "deletable": false,
        "id": "d8a9f147"
      },
      "source": [
        "**We will display a list of unique values in the `children` column**"
      ]
    },
    {
      "cell_type": "code",
      "execution_count": 8,
      "id": "ef5056eb",
      "metadata": {
        "deletable": false,
        "id": "ef5056eb",
        "outputId": "92aa9070-e27f-4933-c0cd-14201ba9ee47",
        "colab": {
          "base_uri": "https://localhost:8080/"
        }
      },
      "outputs": [
        {
          "output_type": "execute_result",
          "data": {
            "text/plain": [
              "array([ 1,  0,  3,  2, -1,  4, 20,  5])"
            ]
          },
          "metadata": {},
          "execution_count": 8
        }
      ],
      "source": [
        "data['children'].unique()"
      ]
    },
    {
      "cell_type": "markdown",
      "id": "40b9ebf2",
      "metadata": {
        "deletable": false,
        "id": "40b9ebf2"
      },
      "source": [
        "**There are two anomalous values in the `children` column. We will remove rows that contain such anomalous values from the dataframe.**"
      ]
    },
    {
      "cell_type": "code",
      "execution_count": 9,
      "id": "3ff9801d",
      "metadata": {
        "deletable": false,
        "id": "3ff9801d"
      },
      "outputs": [],
      "source": [
        "data = data[(data['children'] != -1) & (data['children'] != 20)]"
      ]
    },
    {
      "cell_type": "markdown",
      "id": "bbc4d0ce",
      "metadata": {
        "deletable": false,
        "id": "bbc4d0ce"
      },
      "source": [
        "**Once again, we will check the data in the `children` column.**"
      ]
    },
    {
      "cell_type": "code",
      "execution_count": 10,
      "id": "ad4fa8b7",
      "metadata": {
        "deletable": false,
        "id": "ad4fa8b7",
        "outputId": "50ed12d2-8b5a-4809-da26-1eed6fcf077c",
        "colab": {
          "base_uri": "https://localhost:8080/"
        }
      },
      "outputs": [
        {
          "output_type": "execute_result",
          "data": {
            "text/plain": [
              "array([1, 0, 3, 2, 4, 5])"
            ]
          },
          "metadata": {},
          "execution_count": 10
        }
      ],
      "source": [
        "data['children'].unique()"
      ]
    },
    {
      "cell_type": "markdown",
      "id": "75440b63",
      "metadata": {
        "deletable": false,
        "id": "75440b63"
      },
      "source": [
        "### 2.3 Removing gaps (continiue)\n",
        "\n",
        "\n"
      ]
    },
    {
      "cell_type": "markdown",
      "id": "f4ea573f",
      "metadata": {
        "deletable": false,
        "id": "f4ea573f"
      },
      "source": [
        "**We will fill in the gaps in the `days_employed` column with the median values for each `income_type` employment type.**"
      ]
    },
    {
      "cell_type": "code",
      "execution_count": 11,
      "id": "af6b1a7e",
      "metadata": {
        "deletable": false,
        "id": "af6b1a7e",
        "colab": {
          "base_uri": "https://localhost:8080/"
        },
        "outputId": "0fa1bb3b-df36-424c-e5ea-dc3571ecdac9"
      },
      "outputs": [
        {
          "output_type": "stream",
          "name": "stderr",
          "text": [
            "/usr/local/lib/python3.7/dist-packages/pandas/core/indexing.py:1817: SettingWithCopyWarning: \n",
            "A value is trying to be set on a copy of a slice from a DataFrame.\n",
            "Try using .loc[row_indexer,col_indexer] = value instead\n",
            "\n",
            "See the caveats in the documentation: https://pandas.pydata.org/pandas-docs/stable/user_guide/indexing.html#returning-a-view-versus-a-copy\n",
            "  self._setitem_single_column(loc, value, pi)\n",
            "/usr/local/lib/python3.7/dist-packages/pandas/core/indexing.py:1817: SettingWithCopyWarning: \n",
            "A value is trying to be set on a copy of a slice from a DataFrame.\n",
            "Try using .loc[row_indexer,col_indexer] = value instead\n",
            "\n",
            "See the caveats in the documentation: https://pandas.pydata.org/pandas-docs/stable/user_guide/indexing.html#returning-a-view-versus-a-copy\n",
            "  self._setitem_single_column(loc, value, pi)\n",
            "/usr/local/lib/python3.7/dist-packages/pandas/core/indexing.py:1817: SettingWithCopyWarning: \n",
            "A value is trying to be set on a copy of a slice from a DataFrame.\n",
            "Try using .loc[row_indexer,col_indexer] = value instead\n",
            "\n",
            "See the caveats in the documentation: https://pandas.pydata.org/pandas-docs/stable/user_guide/indexing.html#returning-a-view-versus-a-copy\n",
            "  self._setitem_single_column(loc, value, pi)\n",
            "/usr/local/lib/python3.7/dist-packages/pandas/core/indexing.py:1817: SettingWithCopyWarning: \n",
            "A value is trying to be set on a copy of a slice from a DataFrame.\n",
            "Try using .loc[row_indexer,col_indexer] = value instead\n",
            "\n",
            "See the caveats in the documentation: https://pandas.pydata.org/pandas-docs/stable/user_guide/indexing.html#returning-a-view-versus-a-copy\n",
            "  self._setitem_single_column(loc, value, pi)\n",
            "/usr/local/lib/python3.7/dist-packages/pandas/core/indexing.py:1817: SettingWithCopyWarning: \n",
            "A value is trying to be set on a copy of a slice from a DataFrame.\n",
            "Try using .loc[row_indexer,col_indexer] = value instead\n",
            "\n",
            "See the caveats in the documentation: https://pandas.pydata.org/pandas-docs/stable/user_guide/indexing.html#returning-a-view-versus-a-copy\n",
            "  self._setitem_single_column(loc, value, pi)\n",
            "/usr/local/lib/python3.7/dist-packages/pandas/core/indexing.py:1817: SettingWithCopyWarning: \n",
            "A value is trying to be set on a copy of a slice from a DataFrame.\n",
            "Try using .loc[row_indexer,col_indexer] = value instead\n",
            "\n",
            "See the caveats in the documentation: https://pandas.pydata.org/pandas-docs/stable/user_guide/indexing.html#returning-a-view-versus-a-copy\n",
            "  self._setitem_single_column(loc, value, pi)\n",
            "/usr/local/lib/python3.7/dist-packages/pandas/core/indexing.py:1817: SettingWithCopyWarning: \n",
            "A value is trying to be set on a copy of a slice from a DataFrame.\n",
            "Try using .loc[row_indexer,col_indexer] = value instead\n",
            "\n",
            "See the caveats in the documentation: https://pandas.pydata.org/pandas-docs/stable/user_guide/indexing.html#returning-a-view-versus-a-copy\n",
            "  self._setitem_single_column(loc, value, pi)\n",
            "/usr/local/lib/python3.7/dist-packages/pandas/core/indexing.py:1817: SettingWithCopyWarning: \n",
            "A value is trying to be set on a copy of a slice from a DataFrame.\n",
            "Try using .loc[row_indexer,col_indexer] = value instead\n",
            "\n",
            "See the caveats in the documentation: https://pandas.pydata.org/pandas-docs/stable/user_guide/indexing.html#returning-a-view-versus-a-copy\n",
            "  self._setitem_single_column(loc, value, pi)\n"
          ]
        }
      ],
      "source": [
        "for t in data['income_type'].unique():\n",
        "    data.loc[(data['income_type'] == t) & (data['days_employed'].isna()), 'days_employed'] = \\\n",
        "    data.loc[(data['income_type'] == t), 'days_employed'].median()"
      ]
    },
    {
      "cell_type": "markdown",
      "id": "2753f40d",
      "metadata": {
        "deletable": false,
        "id": "2753f40d"
      },
      "source": [
        "**We will check that there are no gaps in the data.**"
      ]
    },
    {
      "cell_type": "code",
      "execution_count": 12,
      "id": "55f78bc2",
      "metadata": {
        "deletable": false,
        "id": "55f78bc2",
        "outputId": "14d4b5a0-2b69-4d3c-c0fc-eb6af91b4ec4",
        "colab": {
          "base_uri": "https://localhost:8080/"
        }
      },
      "outputs": [
        {
          "output_type": "execute_result",
          "data": {
            "text/plain": [
              "children            0\n",
              "days_employed       0\n",
              "dob_years           0\n",
              "education           0\n",
              "education_id        0\n",
              "family_status       0\n",
              "family_status_id    0\n",
              "gender              0\n",
              "income_type         0\n",
              "debt                0\n",
              "total_income        0\n",
              "purpose             0\n",
              "dtype: int64"
            ]
          },
          "metadata": {},
          "execution_count": 12
        }
      ],
      "source": [
        "data.isna().sum()"
      ]
    },
    {
      "cell_type": "markdown",
      "id": "ddc81e43",
      "metadata": {
        "deletable": false,
        "id": "ddc81e43"
      },
      "source": [
        "### 2.4 Changing Data Types"
      ]
    },
    {
      "cell_type": "markdown",
      "id": "42d19d24",
      "metadata": {
        "deletable": false,
        "id": "42d19d24"
      },
      "source": [
        "**We will replace the object type in the `total_income` column with an integer using the `astype()` method.**"
      ]
    },
    {
      "cell_type": "code",
      "execution_count": 13,
      "id": "920b65ad",
      "metadata": {
        "deletable": false,
        "id": "920b65ad"
      },
      "outputs": [],
      "source": [
        "data['total_income'] = data['total_income'].astype(int)"
      ]
    },
    {
      "cell_type": "markdown",
      "id": "80c420ba",
      "metadata": {
        "deletable": false,
        "id": "80c420ba"
      },
      "source": [
        "### 2.5 Duplicate Handling"
      ]
    },
    {
      "cell_type": "markdown",
      "id": "dc587695",
      "metadata": {
        "deletable": false,
        "id": "dc587695"
      },
      "source": [
        "**We will check the data for duplicates and remove them**"
      ]
    },
    {
      "cell_type": "code",
      "execution_count": 14,
      "id": "3ee445e4",
      "metadata": {
        "deletable": false,
        "id": "3ee445e4",
        "outputId": "46faef75-530e-412f-b999-5199c7f525da",
        "colab": {
          "base_uri": "https://localhost:8080/"
        }
      },
      "outputs": [
        {
          "output_type": "execute_result",
          "data": {
            "text/plain": [
              "54"
            ]
          },
          "metadata": {},
          "execution_count": 14
        }
      ],
      "source": [
        "data.duplicated().sum()"
      ]
    },
    {
      "cell_type": "code",
      "execution_count": 15,
      "id": "8575fe05",
      "metadata": {
        "deletable": false,
        "id": "8575fe05"
      },
      "outputs": [],
      "source": [
        "data = data.drop_duplicates()"
      ]
    },
    {
      "cell_type": "markdown",
      "id": "9771a76c",
      "metadata": {
        "deletable": false,
        "id": "9771a76c"
      },
      "source": [
        "**We will handle implicit duplicates in the `education` column. This column has the same values, but written differently: using uppercase and lowercase letters. We will convert them to lower case.**"
      ]
    },
    {
      "cell_type": "code",
      "execution_count": 16,
      "id": "a9f8e2bf",
      "metadata": {
        "deletable": false,
        "id": "a9f8e2bf",
        "colab": {
          "base_uri": "https://localhost:8080/"
        },
        "outputId": "a31525ca-c89c-4ef3-e311-580fab7f065b"
      },
      "outputs": [
        {
          "output_type": "stream",
          "name": "stderr",
          "text": [
            "/usr/local/lib/python3.7/dist-packages/ipykernel_launcher.py:1: SettingWithCopyWarning: \n",
            "A value is trying to be set on a copy of a slice from a DataFrame.\n",
            "Try using .loc[row_indexer,col_indexer] = value instead\n",
            "\n",
            "See the caveats in the documentation: https://pandas.pydata.org/pandas-docs/stable/user_guide/indexing.html#returning-a-view-versus-a-copy\n",
            "  \"\"\"Entry point for launching an IPython kernel.\n"
          ]
        }
      ],
      "source": [
        "data['education'] = data['education'].str.lower()"
      ]
    },
    {
      "cell_type": "markdown",
      "id": "9904cf55",
      "metadata": {
        "deletable": false,
        "id": "9904cf55"
      },
      "source": [
        "### 2.6 Data categorization"
      ]
    },
    {
      "cell_type": "markdown",
      "id": "72fcc8a2",
      "metadata": {
        "deletable": false,
        "id": "72fcc8a2"
      },
      "source": [
        "**We will create a `total_income_category` column in the `data` dataframe with categories:**\n",
        "\n",
        "- 0–30000 — `'E'`;\n",
        "- 30001–50000 — `'D'`;\n",
        "- 50001–200000 — `'C'`;\n",
        "- 200001–1000000 — `'B'`;\n",
        "- 1000001 и выше — `'A'`.\n",
        "\n",
        "\n",
        "**For example, a borrower with an income of 25,000 should be assigned an `'E'' category, and a customer with an income of 235,000 would be assigned a `'B'` category.**"
      ]
    },
    {
      "cell_type": "code",
      "execution_count": 17,
      "id": "e1771346",
      "metadata": {
        "deletable": false,
        "id": "e1771346"
      },
      "outputs": [],
      "source": [
        "def categorize_income(income):\n",
        "    try:\n",
        "        if 0 <= income <= 30000:\n",
        "            return 'E'\n",
        "        elif 30001 <= income <= 50000:\n",
        "            return 'D'\n",
        "        elif 50001 <= income <= 200000:\n",
        "            return 'C'\n",
        "        elif 200001 <= income <= 1000000:\n",
        "            return 'B'\n",
        "        elif income >= 1000001:\n",
        "            return 'A'\n",
        "    except:\n",
        "        pass"
      ]
    },
    {
      "cell_type": "code",
      "execution_count": 18,
      "id": "d5f3586d",
      "metadata": {
        "deletable": false,
        "id": "d5f3586d"
      },
      "outputs": [],
      "source": [
        "data['total_income_category'] = data['total_income'].apply(categorize_income)"
      ]
    },
    {
      "cell_type": "markdown",
      "id": "dde49b5c",
      "metadata": {
        "deletable": false,
        "id": "dde49b5c"
      },
      "source": [
        "**We will display a list of unique loan purposes from the `purpose` column**"
      ]
    },
    {
      "cell_type": "code",
      "execution_count": 19,
      "id": "f67ce9b3",
      "metadata": {
        "deletable": false,
        "id": "f67ce9b3",
        "outputId": "28d293e3-bce3-4300-b559-c16240ae4948",
        "colab": {
          "base_uri": "https://localhost:8080/"
        }
      },
      "outputs": [
        {
          "output_type": "execute_result",
          "data": {
            "text/plain": [
              "array(['покупка жилья', 'приобретение автомобиля',\n",
              "       'дополнительное образование', 'сыграть свадьбу',\n",
              "       'операции с жильем', 'образование', 'на проведение свадьбы',\n",
              "       'покупка жилья для семьи', 'покупка недвижимости',\n",
              "       'покупка коммерческой недвижимости', 'покупка жилой недвижимости',\n",
              "       'строительство собственной недвижимости', 'недвижимость',\n",
              "       'строительство недвижимости', 'на покупку подержанного автомобиля',\n",
              "       'на покупку своего автомобиля',\n",
              "       'операции с коммерческой недвижимостью',\n",
              "       'строительство жилой недвижимости', 'жилье',\n",
              "       'операции со своей недвижимостью', 'автомобили',\n",
              "       'заняться образованием', 'сделка с подержанным автомобилем',\n",
              "       'получение образования', 'автомобиль', 'свадьба',\n",
              "       'получение дополнительного образования', 'покупка своего жилья',\n",
              "       'операции с недвижимостью', 'получение высшего образования',\n",
              "       'свой автомобиль', 'сделка с автомобилем',\n",
              "       'профильное образование', 'высшее образование',\n",
              "       'покупка жилья для сдачи', 'на покупку автомобиля', 'ремонт жилью',\n",
              "       'заняться высшим образованием'], dtype=object)"
            ]
          },
          "metadata": {},
          "execution_count": 19
        }
      ],
      "source": [
        "data['purpose'].unique()"
      ]
    },
    {
      "cell_type": "markdown",
      "id": "85d0aef0",
      "metadata": {
        "deletable": false,
        "id": "85d0aef0"
      },
      "source": [
        "**We will create a function that, based on the data from the `purpose` column, will form a new `purpose_category` column, which will include the following categories:**\n",
        "\n",
        "- ``car operations'`,\n",
        "- ``real estate transactions'`,\n",
        "- ``conducting a wedding'`,\n",
        "- ``getting an education'`.\n",
        "\n",
        "**For example, if the `purpose` column contains the substring `'car purchase'`, then the `purpose_category` column should contain the string `'car operations'`**\n",
        "\n"
      ]
    },
    {
      "cell_type": "code",
      "execution_count": 20,
      "id": "e149fab4",
      "metadata": {
        "deletable": false,
        "id": "e149fab4"
      },
      "outputs": [],
      "source": [
        "def categorize_purpose(row):\n",
        "    try:\n",
        "        if 'автом' in row:\n",
        "            return 'car operations'\n",
        "        elif 'жил' in row or 'недвиж' in row:\n",
        "            return 'real estate transactions'\n",
        "        elif 'свад' in row:\n",
        "            return 'conducting a wedding'\n",
        "        elif 'образов' in row:\n",
        "            return 'getting an education'\n",
        "    except:\n",
        "        return 'no category'"
      ]
    },
    {
      "cell_type": "code",
      "execution_count": 21,
      "id": "bf36e69b",
      "metadata": {
        "deletable": false,
        "id": "bf36e69b"
      },
      "outputs": [],
      "source": [
        "data['purpose_category'] = data['purpose'].apply(categorize_purpose)"
      ]
    },
    {
      "cell_type": "markdown",
      "id": "09b242bf",
      "metadata": {
        "deletable": false,
        "editable": false,
        "id": "09b242bf"
      },
      "source": [
        "## 3.Exploratory data analysis"
      ]
    },
    {
      "cell_type": "markdown",
      "id": "c5d66278",
      "metadata": {
        "deletable": false,
        "editable": false,
        "id": "c5d66278"
      },
      "source": [
        "**3.1 Is there a relationship between the number of children and loan repayment on time?**"
      ]
    },
    {
      "cell_type": "markdown",
      "id": "f75a85d6",
      "metadata": {
        "id": "f75a85d6"
      },
      "source": [
        "*Let's write two functions to create two pivot tables, which we will need further*"
      ]
    },
    {
      "cell_type": "code",
      "execution_count": 22,
      "id": "21860e90",
      "metadata": {
        "id": "21860e90"
      },
      "outputs": [],
      "source": [
        "def group_data (data, column_name1, column_name2):\n",
        "  data_pivot_func = pd.pivot_table(data, index=column_name1,values=column_name2, aggfunc=['sum','count','mean'])\n",
        "  return data_pivot_func"
      ]
    },
    {
      "cell_type": "code",
      "execution_count": 23,
      "id": "4ae41563",
      "metadata": {
        "id": "4ae41563"
      },
      "outputs": [],
      "source": [
        "def group_data_2 (data, column_name1, column_name2, column_name3 ):\n",
        "  data_pivot_func_2 = pd.pivot_table(data, index=[column_name1,column_name2],values=column_name3, aggfunc=['sum','count','mean'])\n",
        "  return data_pivot_func_2"
      ]
    },
    {
      "cell_type": "markdown",
      "id": "8eb6bc13",
      "metadata": {
        "id": "8eb6bc13"
      },
      "source": [
        "**In order to trace the relationship between the number of children and the repayment of the loan on time, let's group the pivot tables by the 'children' column using the following aggregating functions for the 'debt' column: sum - the sum of all debts depending on the number of children, count - selections for each categories, mean - in this case, the share of debts from the total number of samples, since the 'debt' column takes the boolean value \"1\" (there is a debt) or \"0\" (there is no debt)**"
      ]
    },
    {
      "cell_type": "code",
      "execution_count": 24,
      "id": "2cacfc4a",
      "metadata": {
        "id": "2cacfc4a",
        "colab": {
          "base_uri": "https://localhost:8080/",
          "height": 300
        },
        "outputId": "1f5b503d-c62f-460d-cfb5-1c86be01ab74"
      },
      "outputs": [
        {
          "output_type": "execute_result",
          "data": {
            "text/plain": [
              "           sum  count      mean\n",
              "          debt   debt      debt\n",
              "children                       \n",
              "0         1063  14107  0.075353\n",
              "1          444   4809  0.092327\n",
              "2          194   2052  0.094542\n",
              "3           27    330  0.081818\n",
              "4            4     41  0.097561\n",
              "5            0      9  0.000000"
            ],
            "text/html": [
              "\n",
              "  <div id=\"df-831b01eb-43c3-4b68-83b9-7c822a03eba2\">\n",
              "    <div class=\"colab-df-container\">\n",
              "      <div>\n",
              "<style scoped>\n",
              "    .dataframe tbody tr th:only-of-type {\n",
              "        vertical-align: middle;\n",
              "    }\n",
              "\n",
              "    .dataframe tbody tr th {\n",
              "        vertical-align: top;\n",
              "    }\n",
              "\n",
              "    .dataframe thead tr th {\n",
              "        text-align: left;\n",
              "    }\n",
              "\n",
              "    .dataframe thead tr:last-of-type th {\n",
              "        text-align: right;\n",
              "    }\n",
              "</style>\n",
              "<table border=\"1\" class=\"dataframe\">\n",
              "  <thead>\n",
              "    <tr>\n",
              "      <th></th>\n",
              "      <th>sum</th>\n",
              "      <th>count</th>\n",
              "      <th>mean</th>\n",
              "    </tr>\n",
              "    <tr>\n",
              "      <th></th>\n",
              "      <th>debt</th>\n",
              "      <th>debt</th>\n",
              "      <th>debt</th>\n",
              "    </tr>\n",
              "    <tr>\n",
              "      <th>children</th>\n",
              "      <th></th>\n",
              "      <th></th>\n",
              "      <th></th>\n",
              "    </tr>\n",
              "  </thead>\n",
              "  <tbody>\n",
              "    <tr>\n",
              "      <th>0</th>\n",
              "      <td>1063</td>\n",
              "      <td>14107</td>\n",
              "      <td>0.075353</td>\n",
              "    </tr>\n",
              "    <tr>\n",
              "      <th>1</th>\n",
              "      <td>444</td>\n",
              "      <td>4809</td>\n",
              "      <td>0.092327</td>\n",
              "    </tr>\n",
              "    <tr>\n",
              "      <th>2</th>\n",
              "      <td>194</td>\n",
              "      <td>2052</td>\n",
              "      <td>0.094542</td>\n",
              "    </tr>\n",
              "    <tr>\n",
              "      <th>3</th>\n",
              "      <td>27</td>\n",
              "      <td>330</td>\n",
              "      <td>0.081818</td>\n",
              "    </tr>\n",
              "    <tr>\n",
              "      <th>4</th>\n",
              "      <td>4</td>\n",
              "      <td>41</td>\n",
              "      <td>0.097561</td>\n",
              "    </tr>\n",
              "    <tr>\n",
              "      <th>5</th>\n",
              "      <td>0</td>\n",
              "      <td>9</td>\n",
              "      <td>0.000000</td>\n",
              "    </tr>\n",
              "  </tbody>\n",
              "</table>\n",
              "</div>\n",
              "      <button class=\"colab-df-convert\" onclick=\"convertToInteractive('df-831b01eb-43c3-4b68-83b9-7c822a03eba2')\"\n",
              "              title=\"Convert this dataframe to an interactive table.\"\n",
              "              style=\"display:none;\">\n",
              "        \n",
              "  <svg xmlns=\"http://www.w3.org/2000/svg\" height=\"24px\"viewBox=\"0 0 24 24\"\n",
              "       width=\"24px\">\n",
              "    <path d=\"M0 0h24v24H0V0z\" fill=\"none\"/>\n",
              "    <path d=\"M18.56 5.44l.94 2.06.94-2.06 2.06-.94-2.06-.94-.94-2.06-.94 2.06-2.06.94zm-11 1L8.5 8.5l.94-2.06 2.06-.94-2.06-.94L8.5 2.5l-.94 2.06-2.06.94zm10 10l.94 2.06.94-2.06 2.06-.94-2.06-.94-.94-2.06-.94 2.06-2.06.94z\"/><path d=\"M17.41 7.96l-1.37-1.37c-.4-.4-.92-.59-1.43-.59-.52 0-1.04.2-1.43.59L10.3 9.45l-7.72 7.72c-.78.78-.78 2.05 0 2.83L4 21.41c.39.39.9.59 1.41.59.51 0 1.02-.2 1.41-.59l7.78-7.78 2.81-2.81c.8-.78.8-2.07 0-2.86zM5.41 20L4 18.59l7.72-7.72 1.47 1.35L5.41 20z\"/>\n",
              "  </svg>\n",
              "      </button>\n",
              "      \n",
              "  <style>\n",
              "    .colab-df-container {\n",
              "      display:flex;\n",
              "      flex-wrap:wrap;\n",
              "      gap: 12px;\n",
              "    }\n",
              "\n",
              "    .colab-df-convert {\n",
              "      background-color: #E8F0FE;\n",
              "      border: none;\n",
              "      border-radius: 50%;\n",
              "      cursor: pointer;\n",
              "      display: none;\n",
              "      fill: #1967D2;\n",
              "      height: 32px;\n",
              "      padding: 0 0 0 0;\n",
              "      width: 32px;\n",
              "    }\n",
              "\n",
              "    .colab-df-convert:hover {\n",
              "      background-color: #E2EBFA;\n",
              "      box-shadow: 0px 1px 2px rgba(60, 64, 67, 0.3), 0px 1px 3px 1px rgba(60, 64, 67, 0.15);\n",
              "      fill: #174EA6;\n",
              "    }\n",
              "\n",
              "    [theme=dark] .colab-df-convert {\n",
              "      background-color: #3B4455;\n",
              "      fill: #D2E3FC;\n",
              "    }\n",
              "\n",
              "    [theme=dark] .colab-df-convert:hover {\n",
              "      background-color: #434B5C;\n",
              "      box-shadow: 0px 1px 3px 1px rgba(0, 0, 0, 0.15);\n",
              "      filter: drop-shadow(0px 1px 2px rgba(0, 0, 0, 0.3));\n",
              "      fill: #FFFFFF;\n",
              "    }\n",
              "  </style>\n",
              "\n",
              "      <script>\n",
              "        const buttonEl =\n",
              "          document.querySelector('#df-831b01eb-43c3-4b68-83b9-7c822a03eba2 button.colab-df-convert');\n",
              "        buttonEl.style.display =\n",
              "          google.colab.kernel.accessAllowed ? 'block' : 'none';\n",
              "\n",
              "        async function convertToInteractive(key) {\n",
              "          const element = document.querySelector('#df-831b01eb-43c3-4b68-83b9-7c822a03eba2');\n",
              "          const dataTable =\n",
              "            await google.colab.kernel.invokeFunction('convertToInteractive',\n",
              "                                                     [key], {});\n",
              "          if (!dataTable) return;\n",
              "\n",
              "          const docLinkHtml = 'Like what you see? Visit the ' +\n",
              "            '<a target=\"_blank\" href=https://colab.research.google.com/notebooks/data_table.ipynb>data table notebook</a>'\n",
              "            + ' to learn more about interactive tables.';\n",
              "          element.innerHTML = '';\n",
              "          dataTable['output_type'] = 'display_data';\n",
              "          await google.colab.output.renderOutput(dataTable, element);\n",
              "          const docLink = document.createElement('div');\n",
              "          docLink.innerHTML = docLinkHtml;\n",
              "          element.appendChild(docLink);\n",
              "        }\n",
              "      </script>\n",
              "    </div>\n",
              "  </div>\n",
              "  "
            ]
          },
          "metadata": {},
          "execution_count": 24
        }
      ],
      "source": [
        "group_children  = group_data(data,'children','debt')\n",
        "group_children"
      ]
    },
    {
      "cell_type": "markdown",
      "id": "3a6b99ec",
      "metadata": {
        "deletable": false,
        "id": "3a6b99ec"
      },
      "source": [
        "<div style=\"border:solid green 2px; padding: 20px\">\n",
        "    \n",
        "**Conclusion:**\n",
        "    All debts account for about 7.5% - 10% of the total number of loans. <br/>\n",
        "        As can be seen from the data, the sample of clients who have more than three children is not enough to compare it with the rest of the data.<br/> It can be said that the probability of loan repayment among clients who do not have children is higher by 2%. However, the sample for such clients is an order of magnitude larger than for clients with at least one child.<br/> The difference between the presence of one or two children in clients and the probability of default on the loan is insignificant and amounts to 0.2%. "
      ]
    },
    {
      "cell_type": "markdown",
      "id": "4c18c39b",
      "metadata": {
        "id": "4c18c39b"
      },
      "source": [
        "*Let's add gender to the grouping to split the sample and see additional trends*"
      ]
    },
    {
      "cell_type": "code",
      "execution_count": 25,
      "id": "1d627652",
      "metadata": {
        "colab": {
          "base_uri": "https://localhost:8080/",
          "height": 520
        },
        "id": "1d627652",
        "outputId": "14284422-91cb-4d4d-ab78-99df6ce9cd26"
      },
      "outputs": [
        {
          "output_type": "execute_result",
          "data": {
            "text/plain": [
              "                 sum count      mean\n",
              "                debt  debt      debt\n",
              "children gender                     \n",
              "0        F       592  9534  0.062094\n",
              "         M       471  4572  0.103018\n",
              "         XNA       0     1  0.000000\n",
              "1        F       245  3086  0.079391\n",
              "         M       199  1723  0.115496\n",
              "2        F       134  1256  0.106688\n",
              "         M        60   796  0.075377\n",
              "3        F        17   196  0.086735\n",
              "         M        10   134  0.074627\n",
              "4        F         1    28  0.035714\n",
              "         M         3    13  0.230769\n",
              "5        F         0     7  0.000000\n",
              "         M         0     2  0.000000"
            ],
            "text/html": [
              "\n",
              "  <div id=\"df-0ffc1ec4-909b-4e40-bfca-bff50d207103\">\n",
              "    <div class=\"colab-df-container\">\n",
              "      <div>\n",
              "<style scoped>\n",
              "    .dataframe tbody tr th:only-of-type {\n",
              "        vertical-align: middle;\n",
              "    }\n",
              "\n",
              "    .dataframe tbody tr th {\n",
              "        vertical-align: top;\n",
              "    }\n",
              "\n",
              "    .dataframe thead tr th {\n",
              "        text-align: left;\n",
              "    }\n",
              "\n",
              "    .dataframe thead tr:last-of-type th {\n",
              "        text-align: right;\n",
              "    }\n",
              "</style>\n",
              "<table border=\"1\" class=\"dataframe\">\n",
              "  <thead>\n",
              "    <tr>\n",
              "      <th></th>\n",
              "      <th></th>\n",
              "      <th>sum</th>\n",
              "      <th>count</th>\n",
              "      <th>mean</th>\n",
              "    </tr>\n",
              "    <tr>\n",
              "      <th></th>\n",
              "      <th></th>\n",
              "      <th>debt</th>\n",
              "      <th>debt</th>\n",
              "      <th>debt</th>\n",
              "    </tr>\n",
              "    <tr>\n",
              "      <th>children</th>\n",
              "      <th>gender</th>\n",
              "      <th></th>\n",
              "      <th></th>\n",
              "      <th></th>\n",
              "    </tr>\n",
              "  </thead>\n",
              "  <tbody>\n",
              "    <tr>\n",
              "      <th rowspan=\"3\" valign=\"top\">0</th>\n",
              "      <th>F</th>\n",
              "      <td>592</td>\n",
              "      <td>9534</td>\n",
              "      <td>0.062094</td>\n",
              "    </tr>\n",
              "    <tr>\n",
              "      <th>M</th>\n",
              "      <td>471</td>\n",
              "      <td>4572</td>\n",
              "      <td>0.103018</td>\n",
              "    </tr>\n",
              "    <tr>\n",
              "      <th>XNA</th>\n",
              "      <td>0</td>\n",
              "      <td>1</td>\n",
              "      <td>0.000000</td>\n",
              "    </tr>\n",
              "    <tr>\n",
              "      <th rowspan=\"2\" valign=\"top\">1</th>\n",
              "      <th>F</th>\n",
              "      <td>245</td>\n",
              "      <td>3086</td>\n",
              "      <td>0.079391</td>\n",
              "    </tr>\n",
              "    <tr>\n",
              "      <th>M</th>\n",
              "      <td>199</td>\n",
              "      <td>1723</td>\n",
              "      <td>0.115496</td>\n",
              "    </tr>\n",
              "    <tr>\n",
              "      <th rowspan=\"2\" valign=\"top\">2</th>\n",
              "      <th>F</th>\n",
              "      <td>134</td>\n",
              "      <td>1256</td>\n",
              "      <td>0.106688</td>\n",
              "    </tr>\n",
              "    <tr>\n",
              "      <th>M</th>\n",
              "      <td>60</td>\n",
              "      <td>796</td>\n",
              "      <td>0.075377</td>\n",
              "    </tr>\n",
              "    <tr>\n",
              "      <th rowspan=\"2\" valign=\"top\">3</th>\n",
              "      <th>F</th>\n",
              "      <td>17</td>\n",
              "      <td>196</td>\n",
              "      <td>0.086735</td>\n",
              "    </tr>\n",
              "    <tr>\n",
              "      <th>M</th>\n",
              "      <td>10</td>\n",
              "      <td>134</td>\n",
              "      <td>0.074627</td>\n",
              "    </tr>\n",
              "    <tr>\n",
              "      <th rowspan=\"2\" valign=\"top\">4</th>\n",
              "      <th>F</th>\n",
              "      <td>1</td>\n",
              "      <td>28</td>\n",
              "      <td>0.035714</td>\n",
              "    </tr>\n",
              "    <tr>\n",
              "      <th>M</th>\n",
              "      <td>3</td>\n",
              "      <td>13</td>\n",
              "      <td>0.230769</td>\n",
              "    </tr>\n",
              "    <tr>\n",
              "      <th rowspan=\"2\" valign=\"top\">5</th>\n",
              "      <th>F</th>\n",
              "      <td>0</td>\n",
              "      <td>7</td>\n",
              "      <td>0.000000</td>\n",
              "    </tr>\n",
              "    <tr>\n",
              "      <th>M</th>\n",
              "      <td>0</td>\n",
              "      <td>2</td>\n",
              "      <td>0.000000</td>\n",
              "    </tr>\n",
              "  </tbody>\n",
              "</table>\n",
              "</div>\n",
              "      <button class=\"colab-df-convert\" onclick=\"convertToInteractive('df-0ffc1ec4-909b-4e40-bfca-bff50d207103')\"\n",
              "              title=\"Convert this dataframe to an interactive table.\"\n",
              "              style=\"display:none;\">\n",
              "        \n",
              "  <svg xmlns=\"http://www.w3.org/2000/svg\" height=\"24px\"viewBox=\"0 0 24 24\"\n",
              "       width=\"24px\">\n",
              "    <path d=\"M0 0h24v24H0V0z\" fill=\"none\"/>\n",
              "    <path d=\"M18.56 5.44l.94 2.06.94-2.06 2.06-.94-2.06-.94-.94-2.06-.94 2.06-2.06.94zm-11 1L8.5 8.5l.94-2.06 2.06-.94-2.06-.94L8.5 2.5l-.94 2.06-2.06.94zm10 10l.94 2.06.94-2.06 2.06-.94-2.06-.94-.94-2.06-.94 2.06-2.06.94z\"/><path d=\"M17.41 7.96l-1.37-1.37c-.4-.4-.92-.59-1.43-.59-.52 0-1.04.2-1.43.59L10.3 9.45l-7.72 7.72c-.78.78-.78 2.05 0 2.83L4 21.41c.39.39.9.59 1.41.59.51 0 1.02-.2 1.41-.59l7.78-7.78 2.81-2.81c.8-.78.8-2.07 0-2.86zM5.41 20L4 18.59l7.72-7.72 1.47 1.35L5.41 20z\"/>\n",
              "  </svg>\n",
              "      </button>\n",
              "      \n",
              "  <style>\n",
              "    .colab-df-container {\n",
              "      display:flex;\n",
              "      flex-wrap:wrap;\n",
              "      gap: 12px;\n",
              "    }\n",
              "\n",
              "    .colab-df-convert {\n",
              "      background-color: #E8F0FE;\n",
              "      border: none;\n",
              "      border-radius: 50%;\n",
              "      cursor: pointer;\n",
              "      display: none;\n",
              "      fill: #1967D2;\n",
              "      height: 32px;\n",
              "      padding: 0 0 0 0;\n",
              "      width: 32px;\n",
              "    }\n",
              "\n",
              "    .colab-df-convert:hover {\n",
              "      background-color: #E2EBFA;\n",
              "      box-shadow: 0px 1px 2px rgba(60, 64, 67, 0.3), 0px 1px 3px 1px rgba(60, 64, 67, 0.15);\n",
              "      fill: #174EA6;\n",
              "    }\n",
              "\n",
              "    [theme=dark] .colab-df-convert {\n",
              "      background-color: #3B4455;\n",
              "      fill: #D2E3FC;\n",
              "    }\n",
              "\n",
              "    [theme=dark] .colab-df-convert:hover {\n",
              "      background-color: #434B5C;\n",
              "      box-shadow: 0px 1px 3px 1px rgba(0, 0, 0, 0.15);\n",
              "      filter: drop-shadow(0px 1px 2px rgba(0, 0, 0, 0.3));\n",
              "      fill: #FFFFFF;\n",
              "    }\n",
              "  </style>\n",
              "\n",
              "      <script>\n",
              "        const buttonEl =\n",
              "          document.querySelector('#df-0ffc1ec4-909b-4e40-bfca-bff50d207103 button.colab-df-convert');\n",
              "        buttonEl.style.display =\n",
              "          google.colab.kernel.accessAllowed ? 'block' : 'none';\n",
              "\n",
              "        async function convertToInteractive(key) {\n",
              "          const element = document.querySelector('#df-0ffc1ec4-909b-4e40-bfca-bff50d207103');\n",
              "          const dataTable =\n",
              "            await google.colab.kernel.invokeFunction('convertToInteractive',\n",
              "                                                     [key], {});\n",
              "          if (!dataTable) return;\n",
              "\n",
              "          const docLinkHtml = 'Like what you see? Visit the ' +\n",
              "            '<a target=\"_blank\" href=https://colab.research.google.com/notebooks/data_table.ipynb>data table notebook</a>'\n",
              "            + ' to learn more about interactive tables.';\n",
              "          element.innerHTML = '';\n",
              "          dataTable['output_type'] = 'display_data';\n",
              "          await google.colab.output.renderOutput(dataTable, element);\n",
              "          const docLink = document.createElement('div');\n",
              "          docLink.innerHTML = docLinkHtml;\n",
              "          element.appendChild(docLink);\n",
              "        }\n",
              "      </script>\n",
              "    </div>\n",
              "  </div>\n",
              "  "
            ]
          },
          "metadata": {},
          "execution_count": 25
        }
      ],
      "source": [
        "group_children_gender  = group_data_2(data,'children','gender','debt')\n",
        "group_children_gender"
      ]
    },
    {
      "cell_type": "code",
      "execution_count": 26,
      "id": "f8354eed",
      "metadata": {
        "id": "f8354eed"
      },
      "outputs": [],
      "source": [
        "data = data.loc[data['gender'] != 'XNA']"
      ]
    },
    {
      "cell_type": "code",
      "execution_count": 27,
      "id": "24560289",
      "metadata": {
        "colab": {
          "base_uri": "https://localhost:8080/"
        },
        "id": "24560289",
        "outputId": "abe9533a-86cf-4855-9215-5d7cc32d3ff9"
      },
      "outputs": [
        {
          "output_type": "execute_result",
          "data": {
            "text/plain": [
              "array(['F', 'M'], dtype=object)"
            ]
          },
          "metadata": {},
          "execution_count": 27
        }
      ],
      "source": [
        "data['gender'].unique()"
      ]
    },
    {
      "cell_type": "markdown",
      "id": "eb69c971",
      "metadata": {
        "id": "eb69c971"
      },
      "source": [
        "*Выведем группировку еще раз*"
      ]
    },
    {
      "cell_type": "code",
      "execution_count": 28,
      "id": "c49dc536",
      "metadata": {
        "colab": {
          "base_uri": "https://localhost:8080/",
          "height": 488
        },
        "id": "c49dc536",
        "outputId": "ee1cec1f-90b5-41de-fd64-d06d10d9e7e1"
      },
      "outputs": [
        {
          "output_type": "execute_result",
          "data": {
            "text/plain": [
              "                 sum count      mean\n",
              "                debt  debt      debt\n",
              "children gender                     \n",
              "0        F       592  9534  0.062094\n",
              "         M       471  4572  0.103018\n",
              "1        F       245  3086  0.079391\n",
              "         M       199  1723  0.115496\n",
              "2        F       134  1256  0.106688\n",
              "         M        60   796  0.075377\n",
              "3        F        17   196  0.086735\n",
              "         M        10   134  0.074627\n",
              "4        F         1    28  0.035714\n",
              "         M         3    13  0.230769\n",
              "5        F         0     7  0.000000\n",
              "         M         0     2  0.000000"
            ],
            "text/html": [
              "\n",
              "  <div id=\"df-8a952a73-95d8-4592-856a-1ac90de0133e\">\n",
              "    <div class=\"colab-df-container\">\n",
              "      <div>\n",
              "<style scoped>\n",
              "    .dataframe tbody tr th:only-of-type {\n",
              "        vertical-align: middle;\n",
              "    }\n",
              "\n",
              "    .dataframe tbody tr th {\n",
              "        vertical-align: top;\n",
              "    }\n",
              "\n",
              "    .dataframe thead tr th {\n",
              "        text-align: left;\n",
              "    }\n",
              "\n",
              "    .dataframe thead tr:last-of-type th {\n",
              "        text-align: right;\n",
              "    }\n",
              "</style>\n",
              "<table border=\"1\" class=\"dataframe\">\n",
              "  <thead>\n",
              "    <tr>\n",
              "      <th></th>\n",
              "      <th></th>\n",
              "      <th>sum</th>\n",
              "      <th>count</th>\n",
              "      <th>mean</th>\n",
              "    </tr>\n",
              "    <tr>\n",
              "      <th></th>\n",
              "      <th></th>\n",
              "      <th>debt</th>\n",
              "      <th>debt</th>\n",
              "      <th>debt</th>\n",
              "    </tr>\n",
              "    <tr>\n",
              "      <th>children</th>\n",
              "      <th>gender</th>\n",
              "      <th></th>\n",
              "      <th></th>\n",
              "      <th></th>\n",
              "    </tr>\n",
              "  </thead>\n",
              "  <tbody>\n",
              "    <tr>\n",
              "      <th rowspan=\"2\" valign=\"top\">0</th>\n",
              "      <th>F</th>\n",
              "      <td>592</td>\n",
              "      <td>9534</td>\n",
              "      <td>0.062094</td>\n",
              "    </tr>\n",
              "    <tr>\n",
              "      <th>M</th>\n",
              "      <td>471</td>\n",
              "      <td>4572</td>\n",
              "      <td>0.103018</td>\n",
              "    </tr>\n",
              "    <tr>\n",
              "      <th rowspan=\"2\" valign=\"top\">1</th>\n",
              "      <th>F</th>\n",
              "      <td>245</td>\n",
              "      <td>3086</td>\n",
              "      <td>0.079391</td>\n",
              "    </tr>\n",
              "    <tr>\n",
              "      <th>M</th>\n",
              "      <td>199</td>\n",
              "      <td>1723</td>\n",
              "      <td>0.115496</td>\n",
              "    </tr>\n",
              "    <tr>\n",
              "      <th rowspan=\"2\" valign=\"top\">2</th>\n",
              "      <th>F</th>\n",
              "      <td>134</td>\n",
              "      <td>1256</td>\n",
              "      <td>0.106688</td>\n",
              "    </tr>\n",
              "    <tr>\n",
              "      <th>M</th>\n",
              "      <td>60</td>\n",
              "      <td>796</td>\n",
              "      <td>0.075377</td>\n",
              "    </tr>\n",
              "    <tr>\n",
              "      <th rowspan=\"2\" valign=\"top\">3</th>\n",
              "      <th>F</th>\n",
              "      <td>17</td>\n",
              "      <td>196</td>\n",
              "      <td>0.086735</td>\n",
              "    </tr>\n",
              "    <tr>\n",
              "      <th>M</th>\n",
              "      <td>10</td>\n",
              "      <td>134</td>\n",
              "      <td>0.074627</td>\n",
              "    </tr>\n",
              "    <tr>\n",
              "      <th rowspan=\"2\" valign=\"top\">4</th>\n",
              "      <th>F</th>\n",
              "      <td>1</td>\n",
              "      <td>28</td>\n",
              "      <td>0.035714</td>\n",
              "    </tr>\n",
              "    <tr>\n",
              "      <th>M</th>\n",
              "      <td>3</td>\n",
              "      <td>13</td>\n",
              "      <td>0.230769</td>\n",
              "    </tr>\n",
              "    <tr>\n",
              "      <th rowspan=\"2\" valign=\"top\">5</th>\n",
              "      <th>F</th>\n",
              "      <td>0</td>\n",
              "      <td>7</td>\n",
              "      <td>0.000000</td>\n",
              "    </tr>\n",
              "    <tr>\n",
              "      <th>M</th>\n",
              "      <td>0</td>\n",
              "      <td>2</td>\n",
              "      <td>0.000000</td>\n",
              "    </tr>\n",
              "  </tbody>\n",
              "</table>\n",
              "</div>\n",
              "      <button class=\"colab-df-convert\" onclick=\"convertToInteractive('df-8a952a73-95d8-4592-856a-1ac90de0133e')\"\n",
              "              title=\"Convert this dataframe to an interactive table.\"\n",
              "              style=\"display:none;\">\n",
              "        \n",
              "  <svg xmlns=\"http://www.w3.org/2000/svg\" height=\"24px\"viewBox=\"0 0 24 24\"\n",
              "       width=\"24px\">\n",
              "    <path d=\"M0 0h24v24H0V0z\" fill=\"none\"/>\n",
              "    <path d=\"M18.56 5.44l.94 2.06.94-2.06 2.06-.94-2.06-.94-.94-2.06-.94 2.06-2.06.94zm-11 1L8.5 8.5l.94-2.06 2.06-.94-2.06-.94L8.5 2.5l-.94 2.06-2.06.94zm10 10l.94 2.06.94-2.06 2.06-.94-2.06-.94-.94-2.06-.94 2.06-2.06.94z\"/><path d=\"M17.41 7.96l-1.37-1.37c-.4-.4-.92-.59-1.43-.59-.52 0-1.04.2-1.43.59L10.3 9.45l-7.72 7.72c-.78.78-.78 2.05 0 2.83L4 21.41c.39.39.9.59 1.41.59.51 0 1.02-.2 1.41-.59l7.78-7.78 2.81-2.81c.8-.78.8-2.07 0-2.86zM5.41 20L4 18.59l7.72-7.72 1.47 1.35L5.41 20z\"/>\n",
              "  </svg>\n",
              "      </button>\n",
              "      \n",
              "  <style>\n",
              "    .colab-df-container {\n",
              "      display:flex;\n",
              "      flex-wrap:wrap;\n",
              "      gap: 12px;\n",
              "    }\n",
              "\n",
              "    .colab-df-convert {\n",
              "      background-color: #E8F0FE;\n",
              "      border: none;\n",
              "      border-radius: 50%;\n",
              "      cursor: pointer;\n",
              "      display: none;\n",
              "      fill: #1967D2;\n",
              "      height: 32px;\n",
              "      padding: 0 0 0 0;\n",
              "      width: 32px;\n",
              "    }\n",
              "\n",
              "    .colab-df-convert:hover {\n",
              "      background-color: #E2EBFA;\n",
              "      box-shadow: 0px 1px 2px rgba(60, 64, 67, 0.3), 0px 1px 3px 1px rgba(60, 64, 67, 0.15);\n",
              "      fill: #174EA6;\n",
              "    }\n",
              "\n",
              "    [theme=dark] .colab-df-convert {\n",
              "      background-color: #3B4455;\n",
              "      fill: #D2E3FC;\n",
              "    }\n",
              "\n",
              "    [theme=dark] .colab-df-convert:hover {\n",
              "      background-color: #434B5C;\n",
              "      box-shadow: 0px 1px 3px 1px rgba(0, 0, 0, 0.15);\n",
              "      filter: drop-shadow(0px 1px 2px rgba(0, 0, 0, 0.3));\n",
              "      fill: #FFFFFF;\n",
              "    }\n",
              "  </style>\n",
              "\n",
              "      <script>\n",
              "        const buttonEl =\n",
              "          document.querySelector('#df-8a952a73-95d8-4592-856a-1ac90de0133e button.colab-df-convert');\n",
              "        buttonEl.style.display =\n",
              "          google.colab.kernel.accessAllowed ? 'block' : 'none';\n",
              "\n",
              "        async function convertToInteractive(key) {\n",
              "          const element = document.querySelector('#df-8a952a73-95d8-4592-856a-1ac90de0133e');\n",
              "          const dataTable =\n",
              "            await google.colab.kernel.invokeFunction('convertToInteractive',\n",
              "                                                     [key], {});\n",
              "          if (!dataTable) return;\n",
              "\n",
              "          const docLinkHtml = 'Like what you see? Visit the ' +\n",
              "            '<a target=\"_blank\" href=https://colab.research.google.com/notebooks/data_table.ipynb>data table notebook</a>'\n",
              "            + ' to learn more about interactive tables.';\n",
              "          element.innerHTML = '';\n",
              "          dataTable['output_type'] = 'display_data';\n",
              "          await google.colab.output.renderOutput(dataTable, element);\n",
              "          const docLink = document.createElement('div');\n",
              "          docLink.innerHTML = docLinkHtml;\n",
              "          element.appendChild(docLink);\n",
              "        }\n",
              "      </script>\n",
              "    </div>\n",
              "  </div>\n",
              "  "
            ]
          },
          "metadata": {},
          "execution_count": 28
        }
      ],
      "source": [
        "group_children_gender  = group_data_2(data,'children','gender','debt')\n",
        "group_children_gender"
      ]
    },
    {
      "cell_type": "markdown",
      "id": "ea735542",
      "metadata": {
        "id": "ea735542"
      },
      "source": [
        "<div style=\"border:solid green 2px; padding: 20px\">\n",
        "    \n",
        "**Conclusion:**\n",
        "When grouped by gender, it is clear that the probability of debt for a loan among childless men is higher than for childless clients in general, and even higher than in other groups. At the same time, childless women have the lowest probability of loan default, it is even lower than among all childless clients. The highest rate of debt (more than 11 percent) among men with 1 child.<br/> Sampling of clients with more than three children still requires data accumulation."
      ]
    },
    {
      "cell_type": "markdown",
      "id": "97be82ca",
      "metadata": {
        "deletable": false,
        "editable": false,
        "id": "97be82ca"
      },
      "source": [
        "**3.2 Is there a relationship between marital status and loan repayment on time?**"
      ]
    },
    {
      "cell_type": "markdown",
      "id": "b2a939ed",
      "metadata": {
        "id": "b2a939ed"
      },
      "source": [
        "*To answer this question, it is also necessary to group the data according to the marital status of clients. Let's group the pivot tables by the 'family_status' column using the following aggregating functions for the 'debt' column: sum - sums of all debts depending on marital status, count - samples for each category, mean - in this case, the share of debts from the total number of samples, because the 'debt' column takes the boolean value \"1\" (debt) or \"0\" (no debt).*"
      ]
    },
    {
      "cell_type": "code",
      "execution_count": 29,
      "id": "dc3f7ee8",
      "metadata": {
        "id": "dc3f7ee8",
        "colab": {
          "base_uri": "https://localhost:8080/",
          "height": 269
        },
        "outputId": "a53add61-b51a-4526-813f-1668514916c0"
      },
      "outputs": [
        {
          "output_type": "execute_result",
          "data": {
            "text/plain": [
              "                       sum  count      mean\n",
              "                      debt   debt      debt\n",
              "family_status                              \n",
              "Не женат / не замужем  273   2796  0.097639\n",
              "в разводе               84   1189  0.070648\n",
              "вдовец / вдова          63    951  0.066246\n",
              "гражданский брак       385   4145  0.092883\n",
              "женат / замужем        927  12266  0.075575"
            ],
            "text/html": [
              "\n",
              "  <div id=\"df-90cfbb33-dada-415b-9c5b-e409ef008ca9\">\n",
              "    <div class=\"colab-df-container\">\n",
              "      <div>\n",
              "<style scoped>\n",
              "    .dataframe tbody tr th:only-of-type {\n",
              "        vertical-align: middle;\n",
              "    }\n",
              "\n",
              "    .dataframe tbody tr th {\n",
              "        vertical-align: top;\n",
              "    }\n",
              "\n",
              "    .dataframe thead tr th {\n",
              "        text-align: left;\n",
              "    }\n",
              "\n",
              "    .dataframe thead tr:last-of-type th {\n",
              "        text-align: right;\n",
              "    }\n",
              "</style>\n",
              "<table border=\"1\" class=\"dataframe\">\n",
              "  <thead>\n",
              "    <tr>\n",
              "      <th></th>\n",
              "      <th>sum</th>\n",
              "      <th>count</th>\n",
              "      <th>mean</th>\n",
              "    </tr>\n",
              "    <tr>\n",
              "      <th></th>\n",
              "      <th>debt</th>\n",
              "      <th>debt</th>\n",
              "      <th>debt</th>\n",
              "    </tr>\n",
              "    <tr>\n",
              "      <th>family_status</th>\n",
              "      <th></th>\n",
              "      <th></th>\n",
              "      <th></th>\n",
              "    </tr>\n",
              "  </thead>\n",
              "  <tbody>\n",
              "    <tr>\n",
              "      <th>Не женат / не замужем</th>\n",
              "      <td>273</td>\n",
              "      <td>2796</td>\n",
              "      <td>0.097639</td>\n",
              "    </tr>\n",
              "    <tr>\n",
              "      <th>в разводе</th>\n",
              "      <td>84</td>\n",
              "      <td>1189</td>\n",
              "      <td>0.070648</td>\n",
              "    </tr>\n",
              "    <tr>\n",
              "      <th>вдовец / вдова</th>\n",
              "      <td>63</td>\n",
              "      <td>951</td>\n",
              "      <td>0.066246</td>\n",
              "    </tr>\n",
              "    <tr>\n",
              "      <th>гражданский брак</th>\n",
              "      <td>385</td>\n",
              "      <td>4145</td>\n",
              "      <td>0.092883</td>\n",
              "    </tr>\n",
              "    <tr>\n",
              "      <th>женат / замужем</th>\n",
              "      <td>927</td>\n",
              "      <td>12266</td>\n",
              "      <td>0.075575</td>\n",
              "    </tr>\n",
              "  </tbody>\n",
              "</table>\n",
              "</div>\n",
              "      <button class=\"colab-df-convert\" onclick=\"convertToInteractive('df-90cfbb33-dada-415b-9c5b-e409ef008ca9')\"\n",
              "              title=\"Convert this dataframe to an interactive table.\"\n",
              "              style=\"display:none;\">\n",
              "        \n",
              "  <svg xmlns=\"http://www.w3.org/2000/svg\" height=\"24px\"viewBox=\"0 0 24 24\"\n",
              "       width=\"24px\">\n",
              "    <path d=\"M0 0h24v24H0V0z\" fill=\"none\"/>\n",
              "    <path d=\"M18.56 5.44l.94 2.06.94-2.06 2.06-.94-2.06-.94-.94-2.06-.94 2.06-2.06.94zm-11 1L8.5 8.5l.94-2.06 2.06-.94-2.06-.94L8.5 2.5l-.94 2.06-2.06.94zm10 10l.94 2.06.94-2.06 2.06-.94-2.06-.94-.94-2.06-.94 2.06-2.06.94z\"/><path d=\"M17.41 7.96l-1.37-1.37c-.4-.4-.92-.59-1.43-.59-.52 0-1.04.2-1.43.59L10.3 9.45l-7.72 7.72c-.78.78-.78 2.05 0 2.83L4 21.41c.39.39.9.59 1.41.59.51 0 1.02-.2 1.41-.59l7.78-7.78 2.81-2.81c.8-.78.8-2.07 0-2.86zM5.41 20L4 18.59l7.72-7.72 1.47 1.35L5.41 20z\"/>\n",
              "  </svg>\n",
              "      </button>\n",
              "      \n",
              "  <style>\n",
              "    .colab-df-container {\n",
              "      display:flex;\n",
              "      flex-wrap:wrap;\n",
              "      gap: 12px;\n",
              "    }\n",
              "\n",
              "    .colab-df-convert {\n",
              "      background-color: #E8F0FE;\n",
              "      border: none;\n",
              "      border-radius: 50%;\n",
              "      cursor: pointer;\n",
              "      display: none;\n",
              "      fill: #1967D2;\n",
              "      height: 32px;\n",
              "      padding: 0 0 0 0;\n",
              "      width: 32px;\n",
              "    }\n",
              "\n",
              "    .colab-df-convert:hover {\n",
              "      background-color: #E2EBFA;\n",
              "      box-shadow: 0px 1px 2px rgba(60, 64, 67, 0.3), 0px 1px 3px 1px rgba(60, 64, 67, 0.15);\n",
              "      fill: #174EA6;\n",
              "    }\n",
              "\n",
              "    [theme=dark] .colab-df-convert {\n",
              "      background-color: #3B4455;\n",
              "      fill: #D2E3FC;\n",
              "    }\n",
              "\n",
              "    [theme=dark] .colab-df-convert:hover {\n",
              "      background-color: #434B5C;\n",
              "      box-shadow: 0px 1px 3px 1px rgba(0, 0, 0, 0.15);\n",
              "      filter: drop-shadow(0px 1px 2px rgba(0, 0, 0, 0.3));\n",
              "      fill: #FFFFFF;\n",
              "    }\n",
              "  </style>\n",
              "\n",
              "      <script>\n",
              "        const buttonEl =\n",
              "          document.querySelector('#df-90cfbb33-dada-415b-9c5b-e409ef008ca9 button.colab-df-convert');\n",
              "        buttonEl.style.display =\n",
              "          google.colab.kernel.accessAllowed ? 'block' : 'none';\n",
              "\n",
              "        async function convertToInteractive(key) {\n",
              "          const element = document.querySelector('#df-90cfbb33-dada-415b-9c5b-e409ef008ca9');\n",
              "          const dataTable =\n",
              "            await google.colab.kernel.invokeFunction('convertToInteractive',\n",
              "                                                     [key], {});\n",
              "          if (!dataTable) return;\n",
              "\n",
              "          const docLinkHtml = 'Like what you see? Visit the ' +\n",
              "            '<a target=\"_blank\" href=https://colab.research.google.com/notebooks/data_table.ipynb>data table notebook</a>'\n",
              "            + ' to learn more about interactive tables.';\n",
              "          element.innerHTML = '';\n",
              "          dataTable['output_type'] = 'display_data';\n",
              "          await google.colab.output.renderOutput(dataTable, element);\n",
              "          const docLink = document.createElement('div');\n",
              "          docLink.innerHTML = docLinkHtml;\n",
              "          element.appendChild(docLink);\n",
              "        }\n",
              "      </script>\n",
              "    </div>\n",
              "  </div>\n",
              "  "
            ]
          },
          "metadata": {},
          "execution_count": 29
        }
      ],
      "source": [
        "group_family = group_data(data,'family_status','debt')\n",
        "group_family \n"
      ]
    },
    {
      "cell_type": "markdown",
      "id": "395b8b86",
      "metadata": {
        "deletable": false,
        "id": "395b8b86"
      },
      "source": [
        "<div style=\"border:solid green 2px; padding: 20px\">\n",
        "    \n",
        "    \n",
        "**Conclusion:**\n",
        "It is difficult to talk about a direct relationship between marital status and the presence of debts, all debts make up from 7% to 10% of the total number of loans.<br/> The sample is more homogeneous compared to previous indicators. It can be seen that against the general background, two groups stand out, leading in non-returns: \"single / not married\" (9.7%), \"civil marriage\" (9.2%) - the difference in which with the other groups is about 2%. <br/>The rest of the groups are approximately on the same level (about 7%)."
      ]
    },
    {
      "cell_type": "markdown",
      "id": "79dd2653",
      "metadata": {
        "id": "79dd2653"
      },
      "source": [
        "*We can also look at the relationship of marital status and gender along with the presence of loan debt. To do this, add the 'gender' column to the grouping*"
      ]
    },
    {
      "cell_type": "code",
      "execution_count": 30,
      "id": "f8826995",
      "metadata": {
        "colab": {
          "base_uri": "https://localhost:8080/",
          "height": 426
        },
        "id": "f8826995",
        "outputId": "00b1aca3-17ad-4c99-a7e0-d694ac3e69dc"
      },
      "outputs": [
        {
          "output_type": "execute_result",
          "data": {
            "text/plain": [
              "                              sum count      mean\n",
              "                             debt  debt      debt\n",
              "family_status         gender                     \n",
              "Не женат / не замужем F       118  1723  0.068485\n",
              "                      M       155  1073  0.144455\n",
              "в разводе             F        61   931  0.065521\n",
              "                      M        23   258  0.089147\n",
              "вдовец / вдова        F        52   896  0.058036\n",
              "                      M        11    55  0.200000\n",
              "гражданский брак      F       232  2843  0.081604\n",
              "                      M       153  1302  0.117512\n",
              "женат / замужем       F       526  7714  0.068188\n",
              "                      M       401  4552  0.088093"
            ],
            "text/html": [
              "\n",
              "  <div id=\"df-431ad06a-5797-4096-88e2-5f5eeb004367\">\n",
              "    <div class=\"colab-df-container\">\n",
              "      <div>\n",
              "<style scoped>\n",
              "    .dataframe tbody tr th:only-of-type {\n",
              "        vertical-align: middle;\n",
              "    }\n",
              "\n",
              "    .dataframe tbody tr th {\n",
              "        vertical-align: top;\n",
              "    }\n",
              "\n",
              "    .dataframe thead tr th {\n",
              "        text-align: left;\n",
              "    }\n",
              "\n",
              "    .dataframe thead tr:last-of-type th {\n",
              "        text-align: right;\n",
              "    }\n",
              "</style>\n",
              "<table border=\"1\" class=\"dataframe\">\n",
              "  <thead>\n",
              "    <tr>\n",
              "      <th></th>\n",
              "      <th></th>\n",
              "      <th>sum</th>\n",
              "      <th>count</th>\n",
              "      <th>mean</th>\n",
              "    </tr>\n",
              "    <tr>\n",
              "      <th></th>\n",
              "      <th></th>\n",
              "      <th>debt</th>\n",
              "      <th>debt</th>\n",
              "      <th>debt</th>\n",
              "    </tr>\n",
              "    <tr>\n",
              "      <th>family_status</th>\n",
              "      <th>gender</th>\n",
              "      <th></th>\n",
              "      <th></th>\n",
              "      <th></th>\n",
              "    </tr>\n",
              "  </thead>\n",
              "  <tbody>\n",
              "    <tr>\n",
              "      <th rowspan=\"2\" valign=\"top\">Не женат / не замужем</th>\n",
              "      <th>F</th>\n",
              "      <td>118</td>\n",
              "      <td>1723</td>\n",
              "      <td>0.068485</td>\n",
              "    </tr>\n",
              "    <tr>\n",
              "      <th>M</th>\n",
              "      <td>155</td>\n",
              "      <td>1073</td>\n",
              "      <td>0.144455</td>\n",
              "    </tr>\n",
              "    <tr>\n",
              "      <th rowspan=\"2\" valign=\"top\">в разводе</th>\n",
              "      <th>F</th>\n",
              "      <td>61</td>\n",
              "      <td>931</td>\n",
              "      <td>0.065521</td>\n",
              "    </tr>\n",
              "    <tr>\n",
              "      <th>M</th>\n",
              "      <td>23</td>\n",
              "      <td>258</td>\n",
              "      <td>0.089147</td>\n",
              "    </tr>\n",
              "    <tr>\n",
              "      <th rowspan=\"2\" valign=\"top\">вдовец / вдова</th>\n",
              "      <th>F</th>\n",
              "      <td>52</td>\n",
              "      <td>896</td>\n",
              "      <td>0.058036</td>\n",
              "    </tr>\n",
              "    <tr>\n",
              "      <th>M</th>\n",
              "      <td>11</td>\n",
              "      <td>55</td>\n",
              "      <td>0.200000</td>\n",
              "    </tr>\n",
              "    <tr>\n",
              "      <th rowspan=\"2\" valign=\"top\">гражданский брак</th>\n",
              "      <th>F</th>\n",
              "      <td>232</td>\n",
              "      <td>2843</td>\n",
              "      <td>0.081604</td>\n",
              "    </tr>\n",
              "    <tr>\n",
              "      <th>M</th>\n",
              "      <td>153</td>\n",
              "      <td>1302</td>\n",
              "      <td>0.117512</td>\n",
              "    </tr>\n",
              "    <tr>\n",
              "      <th rowspan=\"2\" valign=\"top\">женат / замужем</th>\n",
              "      <th>F</th>\n",
              "      <td>526</td>\n",
              "      <td>7714</td>\n",
              "      <td>0.068188</td>\n",
              "    </tr>\n",
              "    <tr>\n",
              "      <th>M</th>\n",
              "      <td>401</td>\n",
              "      <td>4552</td>\n",
              "      <td>0.088093</td>\n",
              "    </tr>\n",
              "  </tbody>\n",
              "</table>\n",
              "</div>\n",
              "      <button class=\"colab-df-convert\" onclick=\"convertToInteractive('df-431ad06a-5797-4096-88e2-5f5eeb004367')\"\n",
              "              title=\"Convert this dataframe to an interactive table.\"\n",
              "              style=\"display:none;\">\n",
              "        \n",
              "  <svg xmlns=\"http://www.w3.org/2000/svg\" height=\"24px\"viewBox=\"0 0 24 24\"\n",
              "       width=\"24px\">\n",
              "    <path d=\"M0 0h24v24H0V0z\" fill=\"none\"/>\n",
              "    <path d=\"M18.56 5.44l.94 2.06.94-2.06 2.06-.94-2.06-.94-.94-2.06-.94 2.06-2.06.94zm-11 1L8.5 8.5l.94-2.06 2.06-.94-2.06-.94L8.5 2.5l-.94 2.06-2.06.94zm10 10l.94 2.06.94-2.06 2.06-.94-2.06-.94-.94-2.06-.94 2.06-2.06.94z\"/><path d=\"M17.41 7.96l-1.37-1.37c-.4-.4-.92-.59-1.43-.59-.52 0-1.04.2-1.43.59L10.3 9.45l-7.72 7.72c-.78.78-.78 2.05 0 2.83L4 21.41c.39.39.9.59 1.41.59.51 0 1.02-.2 1.41-.59l7.78-7.78 2.81-2.81c.8-.78.8-2.07 0-2.86zM5.41 20L4 18.59l7.72-7.72 1.47 1.35L5.41 20z\"/>\n",
              "  </svg>\n",
              "      </button>\n",
              "      \n",
              "  <style>\n",
              "    .colab-df-container {\n",
              "      display:flex;\n",
              "      flex-wrap:wrap;\n",
              "      gap: 12px;\n",
              "    }\n",
              "\n",
              "    .colab-df-convert {\n",
              "      background-color: #E8F0FE;\n",
              "      border: none;\n",
              "      border-radius: 50%;\n",
              "      cursor: pointer;\n",
              "      display: none;\n",
              "      fill: #1967D2;\n",
              "      height: 32px;\n",
              "      padding: 0 0 0 0;\n",
              "      width: 32px;\n",
              "    }\n",
              "\n",
              "    .colab-df-convert:hover {\n",
              "      background-color: #E2EBFA;\n",
              "      box-shadow: 0px 1px 2px rgba(60, 64, 67, 0.3), 0px 1px 3px 1px rgba(60, 64, 67, 0.15);\n",
              "      fill: #174EA6;\n",
              "    }\n",
              "\n",
              "    [theme=dark] .colab-df-convert {\n",
              "      background-color: #3B4455;\n",
              "      fill: #D2E3FC;\n",
              "    }\n",
              "\n",
              "    [theme=dark] .colab-df-convert:hover {\n",
              "      background-color: #434B5C;\n",
              "      box-shadow: 0px 1px 3px 1px rgba(0, 0, 0, 0.15);\n",
              "      filter: drop-shadow(0px 1px 2px rgba(0, 0, 0, 0.3));\n",
              "      fill: #FFFFFF;\n",
              "    }\n",
              "  </style>\n",
              "\n",
              "      <script>\n",
              "        const buttonEl =\n",
              "          document.querySelector('#df-431ad06a-5797-4096-88e2-5f5eeb004367 button.colab-df-convert');\n",
              "        buttonEl.style.display =\n",
              "          google.colab.kernel.accessAllowed ? 'block' : 'none';\n",
              "\n",
              "        async function convertToInteractive(key) {\n",
              "          const element = document.querySelector('#df-431ad06a-5797-4096-88e2-5f5eeb004367');\n",
              "          const dataTable =\n",
              "            await google.colab.kernel.invokeFunction('convertToInteractive',\n",
              "                                                     [key], {});\n",
              "          if (!dataTable) return;\n",
              "\n",
              "          const docLinkHtml = 'Like what you see? Visit the ' +\n",
              "            '<a target=\"_blank\" href=https://colab.research.google.com/notebooks/data_table.ipynb>data table notebook</a>'\n",
              "            + ' to learn more about interactive tables.';\n",
              "          element.innerHTML = '';\n",
              "          dataTable['output_type'] = 'display_data';\n",
              "          await google.colab.output.renderOutput(dataTable, element);\n",
              "          const docLink = document.createElement('div');\n",
              "          docLink.innerHTML = docLinkHtml;\n",
              "          element.appendChild(docLink);\n",
              "        }\n",
              "      </script>\n",
              "    </div>\n",
              "  </div>\n",
              "  "
            ]
          },
          "metadata": {},
          "execution_count": 30
        }
      ],
      "source": [
        "group_children_gender  = group_data_2(data,'family_status','gender','debt')\n",
        "group_children_gender"
      ]
    },
    {
      "cell_type": "markdown",
      "id": "b5a57b85",
      "metadata": {
        "id": "b5a57b85"
      },
      "source": [
        "<div style=\"border:solid green 2px; padding: 20px\">\n",
        "    \n",
        "    \n",
        "**Conclusion:**\n",
        "As can be seen from this grouping, gender separation also strongly affects the presence of loan debt: in the group \"Single / not married\" the proportion of unmarried men who have debts on loans reaches 14%, in the group \"common-law marriage\" - the proportion of men with almost 12%, which is higher than in all other groups and according to the data as a whole."
      ]
    },
    {
      "cell_type": "markdown",
      "id": "1e8b2fca",
      "metadata": {
        "deletable": false,
        "editable": false,
        "id": "1e8b2fca"
      },
      "source": [
        "**3.3. Is there a relationship between income level and loan repayment on time?**"
      ]
    },
    {
      "cell_type": "markdown",
      "id": "6f9615ab",
      "metadata": {
        "id": "6f9615ab"
      },
      "source": [
        "*Below we will consider data grouping and dependence on the level of income from the column 'total_income_category' and the ability to repay a loan based on financial well-being.*"
      ]
    },
    {
      "cell_type": "code",
      "execution_count": 31,
      "id": "cd7e3720",
      "metadata": {
        "id": "cd7e3720",
        "scrolled": true,
        "colab": {
          "base_uri": "https://localhost:8080/",
          "height": 269
        },
        "outputId": "f533a911-c06a-4718-a27f-b67be0ca0576"
      },
      "outputs": [
        {
          "output_type": "execute_result",
          "data": {
            "text/plain": [
              "                        sum  count      mean\n",
              "                       debt   debt      debt\n",
              "total_income_category                       \n",
              "A                         2     25  0.080000\n",
              "B                       354   5013  0.070616\n",
              "C                      1353  15938  0.084891\n",
              "D                        21    349  0.060172\n",
              "E                         2     22  0.090909"
            ],
            "text/html": [
              "\n",
              "  <div id=\"df-3ef2a725-0b3e-4862-9533-10894482ce54\">\n",
              "    <div class=\"colab-df-container\">\n",
              "      <div>\n",
              "<style scoped>\n",
              "    .dataframe tbody tr th:only-of-type {\n",
              "        vertical-align: middle;\n",
              "    }\n",
              "\n",
              "    .dataframe tbody tr th {\n",
              "        vertical-align: top;\n",
              "    }\n",
              "\n",
              "    .dataframe thead tr th {\n",
              "        text-align: left;\n",
              "    }\n",
              "\n",
              "    .dataframe thead tr:last-of-type th {\n",
              "        text-align: right;\n",
              "    }\n",
              "</style>\n",
              "<table border=\"1\" class=\"dataframe\">\n",
              "  <thead>\n",
              "    <tr>\n",
              "      <th></th>\n",
              "      <th>sum</th>\n",
              "      <th>count</th>\n",
              "      <th>mean</th>\n",
              "    </tr>\n",
              "    <tr>\n",
              "      <th></th>\n",
              "      <th>debt</th>\n",
              "      <th>debt</th>\n",
              "      <th>debt</th>\n",
              "    </tr>\n",
              "    <tr>\n",
              "      <th>total_income_category</th>\n",
              "      <th></th>\n",
              "      <th></th>\n",
              "      <th></th>\n",
              "    </tr>\n",
              "  </thead>\n",
              "  <tbody>\n",
              "    <tr>\n",
              "      <th>A</th>\n",
              "      <td>2</td>\n",
              "      <td>25</td>\n",
              "      <td>0.080000</td>\n",
              "    </tr>\n",
              "    <tr>\n",
              "      <th>B</th>\n",
              "      <td>354</td>\n",
              "      <td>5013</td>\n",
              "      <td>0.070616</td>\n",
              "    </tr>\n",
              "    <tr>\n",
              "      <th>C</th>\n",
              "      <td>1353</td>\n",
              "      <td>15938</td>\n",
              "      <td>0.084891</td>\n",
              "    </tr>\n",
              "    <tr>\n",
              "      <th>D</th>\n",
              "      <td>21</td>\n",
              "      <td>349</td>\n",
              "      <td>0.060172</td>\n",
              "    </tr>\n",
              "    <tr>\n",
              "      <th>E</th>\n",
              "      <td>2</td>\n",
              "      <td>22</td>\n",
              "      <td>0.090909</td>\n",
              "    </tr>\n",
              "  </tbody>\n",
              "</table>\n",
              "</div>\n",
              "      <button class=\"colab-df-convert\" onclick=\"convertToInteractive('df-3ef2a725-0b3e-4862-9533-10894482ce54')\"\n",
              "              title=\"Convert this dataframe to an interactive table.\"\n",
              "              style=\"display:none;\">\n",
              "        \n",
              "  <svg xmlns=\"http://www.w3.org/2000/svg\" height=\"24px\"viewBox=\"0 0 24 24\"\n",
              "       width=\"24px\">\n",
              "    <path d=\"M0 0h24v24H0V0z\" fill=\"none\"/>\n",
              "    <path d=\"M18.56 5.44l.94 2.06.94-2.06 2.06-.94-2.06-.94-.94-2.06-.94 2.06-2.06.94zm-11 1L8.5 8.5l.94-2.06 2.06-.94-2.06-.94L8.5 2.5l-.94 2.06-2.06.94zm10 10l.94 2.06.94-2.06 2.06-.94-2.06-.94-.94-2.06-.94 2.06-2.06.94z\"/><path d=\"M17.41 7.96l-1.37-1.37c-.4-.4-.92-.59-1.43-.59-.52 0-1.04.2-1.43.59L10.3 9.45l-7.72 7.72c-.78.78-.78 2.05 0 2.83L4 21.41c.39.39.9.59 1.41.59.51 0 1.02-.2 1.41-.59l7.78-7.78 2.81-2.81c.8-.78.8-2.07 0-2.86zM5.41 20L4 18.59l7.72-7.72 1.47 1.35L5.41 20z\"/>\n",
              "  </svg>\n",
              "      </button>\n",
              "      \n",
              "  <style>\n",
              "    .colab-df-container {\n",
              "      display:flex;\n",
              "      flex-wrap:wrap;\n",
              "      gap: 12px;\n",
              "    }\n",
              "\n",
              "    .colab-df-convert {\n",
              "      background-color: #E8F0FE;\n",
              "      border: none;\n",
              "      border-radius: 50%;\n",
              "      cursor: pointer;\n",
              "      display: none;\n",
              "      fill: #1967D2;\n",
              "      height: 32px;\n",
              "      padding: 0 0 0 0;\n",
              "      width: 32px;\n",
              "    }\n",
              "\n",
              "    .colab-df-convert:hover {\n",
              "      background-color: #E2EBFA;\n",
              "      box-shadow: 0px 1px 2px rgba(60, 64, 67, 0.3), 0px 1px 3px 1px rgba(60, 64, 67, 0.15);\n",
              "      fill: #174EA6;\n",
              "    }\n",
              "\n",
              "    [theme=dark] .colab-df-convert {\n",
              "      background-color: #3B4455;\n",
              "      fill: #D2E3FC;\n",
              "    }\n",
              "\n",
              "    [theme=dark] .colab-df-convert:hover {\n",
              "      background-color: #434B5C;\n",
              "      box-shadow: 0px 1px 3px 1px rgba(0, 0, 0, 0.15);\n",
              "      filter: drop-shadow(0px 1px 2px rgba(0, 0, 0, 0.3));\n",
              "      fill: #FFFFFF;\n",
              "    }\n",
              "  </style>\n",
              "\n",
              "      <script>\n",
              "        const buttonEl =\n",
              "          document.querySelector('#df-3ef2a725-0b3e-4862-9533-10894482ce54 button.colab-df-convert');\n",
              "        buttonEl.style.display =\n",
              "          google.colab.kernel.accessAllowed ? 'block' : 'none';\n",
              "\n",
              "        async function convertToInteractive(key) {\n",
              "          const element = document.querySelector('#df-3ef2a725-0b3e-4862-9533-10894482ce54');\n",
              "          const dataTable =\n",
              "            await google.colab.kernel.invokeFunction('convertToInteractive',\n",
              "                                                     [key], {});\n",
              "          if (!dataTable) return;\n",
              "\n",
              "          const docLinkHtml = 'Like what you see? Visit the ' +\n",
              "            '<a target=\"_blank\" href=https://colab.research.google.com/notebooks/data_table.ipynb>data table notebook</a>'\n",
              "            + ' to learn more about interactive tables.';\n",
              "          element.innerHTML = '';\n",
              "          dataTable['output_type'] = 'display_data';\n",
              "          await google.colab.output.renderOutput(dataTable, element);\n",
              "          const docLink = document.createElement('div');\n",
              "          docLink.innerHTML = docLinkHtml;\n",
              "          element.appendChild(docLink);\n",
              "        }\n",
              "      </script>\n",
              "    </div>\n",
              "  </div>\n",
              "  "
            ]
          },
          "metadata": {},
          "execution_count": 31
        }
      ],
      "source": [
        "total_income_group = group_data(data,'total_income_category','debt')\n",
        "total_income_group \n"
      ]
    },
    {
      "cell_type": "markdown",
      "id": "e8593def",
      "metadata": {
        "deletable": false,
        "id": "e8593def"
      },
      "source": [
        "<div style=\"border:solid green 2px; padding: 20px\">\n",
        "    \n",
        "**Conclusion:**\n",
        "  For two categories (the richest clients \"category A\" and citizens with the lowest incomes \"category E\"), the sample is insufficient, and for the rest of the categories the situation is generally quite homogeneous and there are no groups that stand out on this basis."
      ]
    },
    {
      "cell_type": "markdown",
      "id": "6f43bdae",
      "metadata": {
        "id": "6f43bdae"
      },
      "source": [
        "*We will also try to split the data by adding gender to the grouping.*"
      ]
    },
    {
      "cell_type": "code",
      "execution_count": 32,
      "id": "4f2be3ae",
      "metadata": {
        "colab": {
          "base_uri": "https://localhost:8080/",
          "height": 426
        },
        "id": "4f2be3ae",
        "outputId": "e81faa69-541d-45b5-d2d4-05eaeaa74f34"
      },
      "outputs": [
        {
          "output_type": "execute_result",
          "data": {
            "text/plain": [
              "                              sum  count      mean\n",
              "                             debt   debt      debt\n",
              "total_income_category gender                      \n",
              "A                     F         0     10  0.000000\n",
              "                      M         2     15  0.133333\n",
              "B                     F       162   2695  0.060111\n",
              "                      M       192   2318  0.082830\n",
              "C                     F       810  11078  0.073118\n",
              "                      M       543   4860  0.111728\n",
              "D                     F        15    308  0.048701\n",
              "                      M         6     41  0.146341\n",
              "E                     F         2     16  0.125000\n",
              "                      M         0      6  0.000000"
            ],
            "text/html": [
              "\n",
              "  <div id=\"df-08883a5d-42c9-4e2b-8031-8aca8d7880c2\">\n",
              "    <div class=\"colab-df-container\">\n",
              "      <div>\n",
              "<style scoped>\n",
              "    .dataframe tbody tr th:only-of-type {\n",
              "        vertical-align: middle;\n",
              "    }\n",
              "\n",
              "    .dataframe tbody tr th {\n",
              "        vertical-align: top;\n",
              "    }\n",
              "\n",
              "    .dataframe thead tr th {\n",
              "        text-align: left;\n",
              "    }\n",
              "\n",
              "    .dataframe thead tr:last-of-type th {\n",
              "        text-align: right;\n",
              "    }\n",
              "</style>\n",
              "<table border=\"1\" class=\"dataframe\">\n",
              "  <thead>\n",
              "    <tr>\n",
              "      <th></th>\n",
              "      <th></th>\n",
              "      <th>sum</th>\n",
              "      <th>count</th>\n",
              "      <th>mean</th>\n",
              "    </tr>\n",
              "    <tr>\n",
              "      <th></th>\n",
              "      <th></th>\n",
              "      <th>debt</th>\n",
              "      <th>debt</th>\n",
              "      <th>debt</th>\n",
              "    </tr>\n",
              "    <tr>\n",
              "      <th>total_income_category</th>\n",
              "      <th>gender</th>\n",
              "      <th></th>\n",
              "      <th></th>\n",
              "      <th></th>\n",
              "    </tr>\n",
              "  </thead>\n",
              "  <tbody>\n",
              "    <tr>\n",
              "      <th rowspan=\"2\" valign=\"top\">A</th>\n",
              "      <th>F</th>\n",
              "      <td>0</td>\n",
              "      <td>10</td>\n",
              "      <td>0.000000</td>\n",
              "    </tr>\n",
              "    <tr>\n",
              "      <th>M</th>\n",
              "      <td>2</td>\n",
              "      <td>15</td>\n",
              "      <td>0.133333</td>\n",
              "    </tr>\n",
              "    <tr>\n",
              "      <th rowspan=\"2\" valign=\"top\">B</th>\n",
              "      <th>F</th>\n",
              "      <td>162</td>\n",
              "      <td>2695</td>\n",
              "      <td>0.060111</td>\n",
              "    </tr>\n",
              "    <tr>\n",
              "      <th>M</th>\n",
              "      <td>192</td>\n",
              "      <td>2318</td>\n",
              "      <td>0.082830</td>\n",
              "    </tr>\n",
              "    <tr>\n",
              "      <th rowspan=\"2\" valign=\"top\">C</th>\n",
              "      <th>F</th>\n",
              "      <td>810</td>\n",
              "      <td>11078</td>\n",
              "      <td>0.073118</td>\n",
              "    </tr>\n",
              "    <tr>\n",
              "      <th>M</th>\n",
              "      <td>543</td>\n",
              "      <td>4860</td>\n",
              "      <td>0.111728</td>\n",
              "    </tr>\n",
              "    <tr>\n",
              "      <th rowspan=\"2\" valign=\"top\">D</th>\n",
              "      <th>F</th>\n",
              "      <td>15</td>\n",
              "      <td>308</td>\n",
              "      <td>0.048701</td>\n",
              "    </tr>\n",
              "    <tr>\n",
              "      <th>M</th>\n",
              "      <td>6</td>\n",
              "      <td>41</td>\n",
              "      <td>0.146341</td>\n",
              "    </tr>\n",
              "    <tr>\n",
              "      <th rowspan=\"2\" valign=\"top\">E</th>\n",
              "      <th>F</th>\n",
              "      <td>2</td>\n",
              "      <td>16</td>\n",
              "      <td>0.125000</td>\n",
              "    </tr>\n",
              "    <tr>\n",
              "      <th>M</th>\n",
              "      <td>0</td>\n",
              "      <td>6</td>\n",
              "      <td>0.000000</td>\n",
              "    </tr>\n",
              "  </tbody>\n",
              "</table>\n",
              "</div>\n",
              "      <button class=\"colab-df-convert\" onclick=\"convertToInteractive('df-08883a5d-42c9-4e2b-8031-8aca8d7880c2')\"\n",
              "              title=\"Convert this dataframe to an interactive table.\"\n",
              "              style=\"display:none;\">\n",
              "        \n",
              "  <svg xmlns=\"http://www.w3.org/2000/svg\" height=\"24px\"viewBox=\"0 0 24 24\"\n",
              "       width=\"24px\">\n",
              "    <path d=\"M0 0h24v24H0V0z\" fill=\"none\"/>\n",
              "    <path d=\"M18.56 5.44l.94 2.06.94-2.06 2.06-.94-2.06-.94-.94-2.06-.94 2.06-2.06.94zm-11 1L8.5 8.5l.94-2.06 2.06-.94-2.06-.94L8.5 2.5l-.94 2.06-2.06.94zm10 10l.94 2.06.94-2.06 2.06-.94-2.06-.94-.94-2.06-.94 2.06-2.06.94z\"/><path d=\"M17.41 7.96l-1.37-1.37c-.4-.4-.92-.59-1.43-.59-.52 0-1.04.2-1.43.59L10.3 9.45l-7.72 7.72c-.78.78-.78 2.05 0 2.83L4 21.41c.39.39.9.59 1.41.59.51 0 1.02-.2 1.41-.59l7.78-7.78 2.81-2.81c.8-.78.8-2.07 0-2.86zM5.41 20L4 18.59l7.72-7.72 1.47 1.35L5.41 20z\"/>\n",
              "  </svg>\n",
              "      </button>\n",
              "      \n",
              "  <style>\n",
              "    .colab-df-container {\n",
              "      display:flex;\n",
              "      flex-wrap:wrap;\n",
              "      gap: 12px;\n",
              "    }\n",
              "\n",
              "    .colab-df-convert {\n",
              "      background-color: #E8F0FE;\n",
              "      border: none;\n",
              "      border-radius: 50%;\n",
              "      cursor: pointer;\n",
              "      display: none;\n",
              "      fill: #1967D2;\n",
              "      height: 32px;\n",
              "      padding: 0 0 0 0;\n",
              "      width: 32px;\n",
              "    }\n",
              "\n",
              "    .colab-df-convert:hover {\n",
              "      background-color: #E2EBFA;\n",
              "      box-shadow: 0px 1px 2px rgba(60, 64, 67, 0.3), 0px 1px 3px 1px rgba(60, 64, 67, 0.15);\n",
              "      fill: #174EA6;\n",
              "    }\n",
              "\n",
              "    [theme=dark] .colab-df-convert {\n",
              "      background-color: #3B4455;\n",
              "      fill: #D2E3FC;\n",
              "    }\n",
              "\n",
              "    [theme=dark] .colab-df-convert:hover {\n",
              "      background-color: #434B5C;\n",
              "      box-shadow: 0px 1px 3px 1px rgba(0, 0, 0, 0.15);\n",
              "      filter: drop-shadow(0px 1px 2px rgba(0, 0, 0, 0.3));\n",
              "      fill: #FFFFFF;\n",
              "    }\n",
              "  </style>\n",
              "\n",
              "      <script>\n",
              "        const buttonEl =\n",
              "          document.querySelector('#df-08883a5d-42c9-4e2b-8031-8aca8d7880c2 button.colab-df-convert');\n",
              "        buttonEl.style.display =\n",
              "          google.colab.kernel.accessAllowed ? 'block' : 'none';\n",
              "\n",
              "        async function convertToInteractive(key) {\n",
              "          const element = document.querySelector('#df-08883a5d-42c9-4e2b-8031-8aca8d7880c2');\n",
              "          const dataTable =\n",
              "            await google.colab.kernel.invokeFunction('convertToInteractive',\n",
              "                                                     [key], {});\n",
              "          if (!dataTable) return;\n",
              "\n",
              "          const docLinkHtml = 'Like what you see? Visit the ' +\n",
              "            '<a target=\"_blank\" href=https://colab.research.google.com/notebooks/data_table.ipynb>data table notebook</a>'\n",
              "            + ' to learn more about interactive tables.';\n",
              "          element.innerHTML = '';\n",
              "          dataTable['output_type'] = 'display_data';\n",
              "          await google.colab.output.renderOutput(dataTable, element);\n",
              "          const docLink = document.createElement('div');\n",
              "          docLink.innerHTML = docLinkHtml;\n",
              "          element.appendChild(docLink);\n",
              "        }\n",
              "      </script>\n",
              "    </div>\n",
              "  </div>\n",
              "  "
            ]
          },
          "metadata": {},
          "execution_count": 32
        }
      ],
      "source": [
        "total_income_group_gender = group_data_2(data,'total_income_category','gender','debt')\n",
        "total_income_group_gender"
      ]
    },
    {
      "cell_type": "markdown",
      "id": "629bb2bc",
      "metadata": {
        "id": "629bb2bc"
      },
      "source": [
        "<div style=\"border:solid green 2px; padding: 20px\">\n",
        "\n",
        "**Conclusion**\n",
        "The additional grouping by gender also reveals a trend that low-income men (\"Category D\") stand out from the rest of the clients with over 11% indebtedness.\n",
        "<br/>In some groups, there is no sample required for conclusions, which requires the accumulation of data for further research."
      ]
    },
    {
      "cell_type": "markdown",
      "id": "99ecbd1f",
      "metadata": {
        "deletable": false,
        "editable": false,
        "id": "99ecbd1f"
      },
      "source": [
        "**3.4.How do different purposes of a loan affect its repayment on time?**\n",
        "\n",
        "\n",
        "\n"
      ]
    },
    {
      "cell_type": "markdown",
      "id": "dc743759",
      "metadata": {
        "id": "dc743759"
      },
      "source": [
        "*We do the grouping according to the same principle, but in accordance with the purposes for which the loan was taken, we group the data by the 'purpose_category' column*"
      ]
    },
    {
      "cell_type": "code",
      "execution_count": 33,
      "id": "2b687290",
      "metadata": {
        "id": "2b687290",
        "colab": {
          "base_uri": "https://localhost:8080/",
          "height": 237
        },
        "outputId": "f4a2077f-cb79-4bba-b80b-8e2f7b808b2c"
      },
      "outputs": [
        {
          "output_type": "execute_result",
          "data": {
            "text/plain": [
              "                          sum  count      mean\n",
              "                         debt   debt      debt\n",
              "purpose_category                              \n",
              "car operations            400   4281  0.093436\n",
              "conducting a wedding      183   2324  0.078744\n",
              "getting an education      369   3989  0.092504\n",
              "real estate transactions  780  10753  0.072538"
            ],
            "text/html": [
              "\n",
              "  <div id=\"df-565dfe1b-0771-464e-b5d7-6ce5ee7dc70a\">\n",
              "    <div class=\"colab-df-container\">\n",
              "      <div>\n",
              "<style scoped>\n",
              "    .dataframe tbody tr th:only-of-type {\n",
              "        vertical-align: middle;\n",
              "    }\n",
              "\n",
              "    .dataframe tbody tr th {\n",
              "        vertical-align: top;\n",
              "    }\n",
              "\n",
              "    .dataframe thead tr th {\n",
              "        text-align: left;\n",
              "    }\n",
              "\n",
              "    .dataframe thead tr:last-of-type th {\n",
              "        text-align: right;\n",
              "    }\n",
              "</style>\n",
              "<table border=\"1\" class=\"dataframe\">\n",
              "  <thead>\n",
              "    <tr>\n",
              "      <th></th>\n",
              "      <th>sum</th>\n",
              "      <th>count</th>\n",
              "      <th>mean</th>\n",
              "    </tr>\n",
              "    <tr>\n",
              "      <th></th>\n",
              "      <th>debt</th>\n",
              "      <th>debt</th>\n",
              "      <th>debt</th>\n",
              "    </tr>\n",
              "    <tr>\n",
              "      <th>purpose_category</th>\n",
              "      <th></th>\n",
              "      <th></th>\n",
              "      <th></th>\n",
              "    </tr>\n",
              "  </thead>\n",
              "  <tbody>\n",
              "    <tr>\n",
              "      <th>car operations</th>\n",
              "      <td>400</td>\n",
              "      <td>4281</td>\n",
              "      <td>0.093436</td>\n",
              "    </tr>\n",
              "    <tr>\n",
              "      <th>conducting a wedding</th>\n",
              "      <td>183</td>\n",
              "      <td>2324</td>\n",
              "      <td>0.078744</td>\n",
              "    </tr>\n",
              "    <tr>\n",
              "      <th>getting an education</th>\n",
              "      <td>369</td>\n",
              "      <td>3989</td>\n",
              "      <td>0.092504</td>\n",
              "    </tr>\n",
              "    <tr>\n",
              "      <th>real estate transactions</th>\n",
              "      <td>780</td>\n",
              "      <td>10753</td>\n",
              "      <td>0.072538</td>\n",
              "    </tr>\n",
              "  </tbody>\n",
              "</table>\n",
              "</div>\n",
              "      <button class=\"colab-df-convert\" onclick=\"convertToInteractive('df-565dfe1b-0771-464e-b5d7-6ce5ee7dc70a')\"\n",
              "              title=\"Convert this dataframe to an interactive table.\"\n",
              "              style=\"display:none;\">\n",
              "        \n",
              "  <svg xmlns=\"http://www.w3.org/2000/svg\" height=\"24px\"viewBox=\"0 0 24 24\"\n",
              "       width=\"24px\">\n",
              "    <path d=\"M0 0h24v24H0V0z\" fill=\"none\"/>\n",
              "    <path d=\"M18.56 5.44l.94 2.06.94-2.06 2.06-.94-2.06-.94-.94-2.06-.94 2.06-2.06.94zm-11 1L8.5 8.5l.94-2.06 2.06-.94-2.06-.94L8.5 2.5l-.94 2.06-2.06.94zm10 10l.94 2.06.94-2.06 2.06-.94-2.06-.94-.94-2.06-.94 2.06-2.06.94z\"/><path d=\"M17.41 7.96l-1.37-1.37c-.4-.4-.92-.59-1.43-.59-.52 0-1.04.2-1.43.59L10.3 9.45l-7.72 7.72c-.78.78-.78 2.05 0 2.83L4 21.41c.39.39.9.59 1.41.59.51 0 1.02-.2 1.41-.59l7.78-7.78 2.81-2.81c.8-.78.8-2.07 0-2.86zM5.41 20L4 18.59l7.72-7.72 1.47 1.35L5.41 20z\"/>\n",
              "  </svg>\n",
              "      </button>\n",
              "      \n",
              "  <style>\n",
              "    .colab-df-container {\n",
              "      display:flex;\n",
              "      flex-wrap:wrap;\n",
              "      gap: 12px;\n",
              "    }\n",
              "\n",
              "    .colab-df-convert {\n",
              "      background-color: #E8F0FE;\n",
              "      border: none;\n",
              "      border-radius: 50%;\n",
              "      cursor: pointer;\n",
              "      display: none;\n",
              "      fill: #1967D2;\n",
              "      height: 32px;\n",
              "      padding: 0 0 0 0;\n",
              "      width: 32px;\n",
              "    }\n",
              "\n",
              "    .colab-df-convert:hover {\n",
              "      background-color: #E2EBFA;\n",
              "      box-shadow: 0px 1px 2px rgba(60, 64, 67, 0.3), 0px 1px 3px 1px rgba(60, 64, 67, 0.15);\n",
              "      fill: #174EA6;\n",
              "    }\n",
              "\n",
              "    [theme=dark] .colab-df-convert {\n",
              "      background-color: #3B4455;\n",
              "      fill: #D2E3FC;\n",
              "    }\n",
              "\n",
              "    [theme=dark] .colab-df-convert:hover {\n",
              "      background-color: #434B5C;\n",
              "      box-shadow: 0px 1px 3px 1px rgba(0, 0, 0, 0.15);\n",
              "      filter: drop-shadow(0px 1px 2px rgba(0, 0, 0, 0.3));\n",
              "      fill: #FFFFFF;\n",
              "    }\n",
              "  </style>\n",
              "\n",
              "      <script>\n",
              "        const buttonEl =\n",
              "          document.querySelector('#df-565dfe1b-0771-464e-b5d7-6ce5ee7dc70a button.colab-df-convert');\n",
              "        buttonEl.style.display =\n",
              "          google.colab.kernel.accessAllowed ? 'block' : 'none';\n",
              "\n",
              "        async function convertToInteractive(key) {\n",
              "          const element = document.querySelector('#df-565dfe1b-0771-464e-b5d7-6ce5ee7dc70a');\n",
              "          const dataTable =\n",
              "            await google.colab.kernel.invokeFunction('convertToInteractive',\n",
              "                                                     [key], {});\n",
              "          if (!dataTable) return;\n",
              "\n",
              "          const docLinkHtml = 'Like what you see? Visit the ' +\n",
              "            '<a target=\"_blank\" href=https://colab.research.google.com/notebooks/data_table.ipynb>data table notebook</a>'\n",
              "            + ' to learn more about interactive tables.';\n",
              "          element.innerHTML = '';\n",
              "          dataTable['output_type'] = 'display_data';\n",
              "          await google.colab.output.renderOutput(dataTable, element);\n",
              "          const docLink = document.createElement('div');\n",
              "          docLink.innerHTML = docLinkHtml;\n",
              "          element.appendChild(docLink);\n",
              "        }\n",
              "      </script>\n",
              "    </div>\n",
              "  </div>\n",
              "  "
            ]
          },
          "metadata": {},
          "execution_count": 33
        }
      ],
      "source": [
        "purpose_group = group_data(data,'purpose_category','debt')\n",
        "purpose_group "
      ]
    },
    {
      "cell_type": "markdown",
      "id": "b4bb2ce6",
      "metadata": {
        "deletable": false,
        "id": "b4bb2ce6"
      },
      "source": [
        "<div style=\"border:solid green 2px; padding: 20px\">\n",
        "\n",
        "\n",
        "**Conclusion:** \n",
        " Most often, loan debt occurs if a loan is taken for operations related to a car and education, debts here arise in 9% of cases, against 7-8% of real estate transactions and marriage, respectively.<br/ > It should also be noted that the sample for real estate transactions is an order of magnitude higher than for other loan purposes."
      ]
    },
    {
      "cell_type": "markdown",
      "id": "308c45b7",
      "metadata": {
        "id": "308c45b7"
      },
      "source": [
        "*We will also try to find a dependence on gender identity, which we will add to the grouping*"
      ]
    },
    {
      "cell_type": "code",
      "execution_count": 34,
      "id": "931efc29",
      "metadata": {
        "colab": {
          "base_uri": "https://localhost:8080/",
          "height": 363
        },
        "id": "931efc29",
        "outputId": "bd9f150e-e1a0-4013-85f1-ce8da145b63a"
      },
      "outputs": [
        {
          "output_type": "execute_result",
          "data": {
            "text/plain": [
              "                                 sum count      mean\n",
              "                                debt  debt      debt\n",
              "purpose_category         gender                     \n",
              "car operations           F       232  2845  0.081547\n",
              "                         M       168  1436  0.116992\n",
              "conducting a wedding     F       107  1564  0.068414\n",
              "                         M        76   760  0.100000\n",
              "getting an education     F       206  2650  0.077736\n",
              "                         M       163  1339  0.121733\n",
              "real estate transactions F       444  7048  0.062997\n",
              "                         M       336  3705  0.090688"
            ],
            "text/html": [
              "\n",
              "  <div id=\"df-a1129662-2705-47b4-8cb3-0c7612466767\">\n",
              "    <div class=\"colab-df-container\">\n",
              "      <div>\n",
              "<style scoped>\n",
              "    .dataframe tbody tr th:only-of-type {\n",
              "        vertical-align: middle;\n",
              "    }\n",
              "\n",
              "    .dataframe tbody tr th {\n",
              "        vertical-align: top;\n",
              "    }\n",
              "\n",
              "    .dataframe thead tr th {\n",
              "        text-align: left;\n",
              "    }\n",
              "\n",
              "    .dataframe thead tr:last-of-type th {\n",
              "        text-align: right;\n",
              "    }\n",
              "</style>\n",
              "<table border=\"1\" class=\"dataframe\">\n",
              "  <thead>\n",
              "    <tr>\n",
              "      <th></th>\n",
              "      <th></th>\n",
              "      <th>sum</th>\n",
              "      <th>count</th>\n",
              "      <th>mean</th>\n",
              "    </tr>\n",
              "    <tr>\n",
              "      <th></th>\n",
              "      <th></th>\n",
              "      <th>debt</th>\n",
              "      <th>debt</th>\n",
              "      <th>debt</th>\n",
              "    </tr>\n",
              "    <tr>\n",
              "      <th>purpose_category</th>\n",
              "      <th>gender</th>\n",
              "      <th></th>\n",
              "      <th></th>\n",
              "      <th></th>\n",
              "    </tr>\n",
              "  </thead>\n",
              "  <tbody>\n",
              "    <tr>\n",
              "      <th rowspan=\"2\" valign=\"top\">car operations</th>\n",
              "      <th>F</th>\n",
              "      <td>232</td>\n",
              "      <td>2845</td>\n",
              "      <td>0.081547</td>\n",
              "    </tr>\n",
              "    <tr>\n",
              "      <th>M</th>\n",
              "      <td>168</td>\n",
              "      <td>1436</td>\n",
              "      <td>0.116992</td>\n",
              "    </tr>\n",
              "    <tr>\n",
              "      <th rowspan=\"2\" valign=\"top\">conducting a wedding</th>\n",
              "      <th>F</th>\n",
              "      <td>107</td>\n",
              "      <td>1564</td>\n",
              "      <td>0.068414</td>\n",
              "    </tr>\n",
              "    <tr>\n",
              "      <th>M</th>\n",
              "      <td>76</td>\n",
              "      <td>760</td>\n",
              "      <td>0.100000</td>\n",
              "    </tr>\n",
              "    <tr>\n",
              "      <th rowspan=\"2\" valign=\"top\">getting an education</th>\n",
              "      <th>F</th>\n",
              "      <td>206</td>\n",
              "      <td>2650</td>\n",
              "      <td>0.077736</td>\n",
              "    </tr>\n",
              "    <tr>\n",
              "      <th>M</th>\n",
              "      <td>163</td>\n",
              "      <td>1339</td>\n",
              "      <td>0.121733</td>\n",
              "    </tr>\n",
              "    <tr>\n",
              "      <th rowspan=\"2\" valign=\"top\">real estate transactions</th>\n",
              "      <th>F</th>\n",
              "      <td>444</td>\n",
              "      <td>7048</td>\n",
              "      <td>0.062997</td>\n",
              "    </tr>\n",
              "    <tr>\n",
              "      <th>M</th>\n",
              "      <td>336</td>\n",
              "      <td>3705</td>\n",
              "      <td>0.090688</td>\n",
              "    </tr>\n",
              "  </tbody>\n",
              "</table>\n",
              "</div>\n",
              "      <button class=\"colab-df-convert\" onclick=\"convertToInteractive('df-a1129662-2705-47b4-8cb3-0c7612466767')\"\n",
              "              title=\"Convert this dataframe to an interactive table.\"\n",
              "              style=\"display:none;\">\n",
              "        \n",
              "  <svg xmlns=\"http://www.w3.org/2000/svg\" height=\"24px\"viewBox=\"0 0 24 24\"\n",
              "       width=\"24px\">\n",
              "    <path d=\"M0 0h24v24H0V0z\" fill=\"none\"/>\n",
              "    <path d=\"M18.56 5.44l.94 2.06.94-2.06 2.06-.94-2.06-.94-.94-2.06-.94 2.06-2.06.94zm-11 1L8.5 8.5l.94-2.06 2.06-.94-2.06-.94L8.5 2.5l-.94 2.06-2.06.94zm10 10l.94 2.06.94-2.06 2.06-.94-2.06-.94-.94-2.06-.94 2.06-2.06.94z\"/><path d=\"M17.41 7.96l-1.37-1.37c-.4-.4-.92-.59-1.43-.59-.52 0-1.04.2-1.43.59L10.3 9.45l-7.72 7.72c-.78.78-.78 2.05 0 2.83L4 21.41c.39.39.9.59 1.41.59.51 0 1.02-.2 1.41-.59l7.78-7.78 2.81-2.81c.8-.78.8-2.07 0-2.86zM5.41 20L4 18.59l7.72-7.72 1.47 1.35L5.41 20z\"/>\n",
              "  </svg>\n",
              "      </button>\n",
              "      \n",
              "  <style>\n",
              "    .colab-df-container {\n",
              "      display:flex;\n",
              "      flex-wrap:wrap;\n",
              "      gap: 12px;\n",
              "    }\n",
              "\n",
              "    .colab-df-convert {\n",
              "      background-color: #E8F0FE;\n",
              "      border: none;\n",
              "      border-radius: 50%;\n",
              "      cursor: pointer;\n",
              "      display: none;\n",
              "      fill: #1967D2;\n",
              "      height: 32px;\n",
              "      padding: 0 0 0 0;\n",
              "      width: 32px;\n",
              "    }\n",
              "\n",
              "    .colab-df-convert:hover {\n",
              "      background-color: #E2EBFA;\n",
              "      box-shadow: 0px 1px 2px rgba(60, 64, 67, 0.3), 0px 1px 3px 1px rgba(60, 64, 67, 0.15);\n",
              "      fill: #174EA6;\n",
              "    }\n",
              "\n",
              "    [theme=dark] .colab-df-convert {\n",
              "      background-color: #3B4455;\n",
              "      fill: #D2E3FC;\n",
              "    }\n",
              "\n",
              "    [theme=dark] .colab-df-convert:hover {\n",
              "      background-color: #434B5C;\n",
              "      box-shadow: 0px 1px 3px 1px rgba(0, 0, 0, 0.15);\n",
              "      filter: drop-shadow(0px 1px 2px rgba(0, 0, 0, 0.3));\n",
              "      fill: #FFFFFF;\n",
              "    }\n",
              "  </style>\n",
              "\n",
              "      <script>\n",
              "        const buttonEl =\n",
              "          document.querySelector('#df-a1129662-2705-47b4-8cb3-0c7612466767 button.colab-df-convert');\n",
              "        buttonEl.style.display =\n",
              "          google.colab.kernel.accessAllowed ? 'block' : 'none';\n",
              "\n",
              "        async function convertToInteractive(key) {\n",
              "          const element = document.querySelector('#df-a1129662-2705-47b4-8cb3-0c7612466767');\n",
              "          const dataTable =\n",
              "            await google.colab.kernel.invokeFunction('convertToInteractive',\n",
              "                                                     [key], {});\n",
              "          if (!dataTable) return;\n",
              "\n",
              "          const docLinkHtml = 'Like what you see? Visit the ' +\n",
              "            '<a target=\"_blank\" href=https://colab.research.google.com/notebooks/data_table.ipynb>data table notebook</a>'\n",
              "            + ' to learn more about interactive tables.';\n",
              "          element.innerHTML = '';\n",
              "          dataTable['output_type'] = 'display_data';\n",
              "          await google.colab.output.renderOutput(dataTable, element);\n",
              "          const docLink = document.createElement('div');\n",
              "          docLink.innerHTML = docLinkHtml;\n",
              "          element.appendChild(docLink);\n",
              "        }\n",
              "      </script>\n",
              "    </div>\n",
              "  </div>\n",
              "  "
            ]
          },
          "metadata": {},
          "execution_count": 34
        }
      ],
      "source": [
        "purpose_group_gender = group_data_2(data,'purpose_category','gender','debt')\n",
        "purpose_group_gender "
      ]
    },
    {
      "cell_type": "markdown",
      "id": "a61c2928",
      "metadata": {
        "id": "a61c2928"
      },
      "source": [
        "<div style=\"border:solid green 2px; padding: 20px\">\n",
        "\n",
        "\n",
        "**Conclusion:** It should also be noted that when grouped by gender, the most risky group is men who receive a loan for car operations and education (12% default)"
      ]
    },
    {
      "cell_type": "markdown",
      "id": "6db5255a",
      "metadata": {
        "deletable": false,
        "editable": false,
        "id": "6db5255a"
      },
      "source": [
        "## General conclusion."
      ]
    },
    {
      "cell_type": "markdown",
      "id": "bad65432",
      "metadata": {
        "id": "bad65432"
      },
      "source": [
        "<div style=\"border:solid pink 2px; padding: 20px\">\n",
        " 1. According to the study, there are some trends that can be identified, in accordance with the grouping of data according to various criteria, including marital status and the presence of children, and on the other hand, the possibility of repaying the loan on time.<br/>\n",
        "2. The absence of children has a positive effect on the ability to repay the loan on time, only 7.5% of clients in this group remained in debt, against about 10% in other groups, however, if we divide clients by gender, then among single men the default rate increases to 10 % <br/> For clients with 3 or more children, more data and additional research is needed.<br/>\n",
        "3. The most vulnerable, for loan default, groups by marital status are: \"single / not married\" (9.7%), \"civil marriage\" (9.2%), the difference with other groups is about 2%. When considering the gender identity aspect of clients on this issue, men in these groups become debtors more often (14% and 12% respectively).<br/>\n",
        "4. The level of income does not greatly affect loan default: from 6% in the category with low income (category D) to 8.5% in the category with an average income (category C), however, if we also consider the sample by gender, men with a low income (category D) are strongly knocked out - with loan debts of more than 11%. Samples for people with very high income (category A) and very low income (category E) are not enough, and more research is needed on them.<br/>\n",
        "5. Identified a trend in debt related to the purpose of the loan. Revealed in the categories \"operations related to the car\" and \"acquisition of education.\" Debts here arise in 9% of cases. There is also a connection with gender identity: men in these categories do not repay loans in 12% of cases.\n",
        "6. According to the study, the portrait of the most vulnerable client, in terms of the risk associated with credit debt: a single man with an insufficiently high income, no children, and taking a loan to buy a car and get an education.\n",
        " "
      ]
    }
  ],
  "metadata": {
    "ExecuteTimeLog": [
      {
        "duration": 48,
        "start_time": "2022-06-20T06:24:11.812Z"
      },
      {
        "duration": 866,
        "start_time": "2022-06-20T06:24:24.203Z"
      },
      {
        "duration": 34,
        "start_time": "2022-06-20T06:24:25.071Z"
      },
      {
        "duration": 22,
        "start_time": "2022-06-20T06:24:25.107Z"
      },
      {
        "duration": 14,
        "start_time": "2022-06-20T06:24:25.131Z"
      },
      {
        "duration": 34,
        "start_time": "2022-06-20T06:24:25.147Z"
      },
      {
        "duration": 4,
        "start_time": "2022-06-20T06:24:25.182Z"
      },
      {
        "duration": 40,
        "start_time": "2022-06-20T06:24:25.188Z"
      },
      {
        "duration": 5,
        "start_time": "2022-06-20T06:24:25.230Z"
      },
      {
        "duration": 12,
        "start_time": "2022-06-20T06:24:25.237Z"
      },
      {
        "duration": 6,
        "start_time": "2022-06-20T06:24:25.251Z"
      },
      {
        "duration": 43,
        "start_time": "2022-06-20T06:24:25.259Z"
      },
      {
        "duration": 29,
        "start_time": "2022-06-20T06:24:25.303Z"
      },
      {
        "duration": 8,
        "start_time": "2022-06-20T06:24:25.334Z"
      },
      {
        "duration": 21,
        "start_time": "2022-06-20T06:24:25.345Z"
      },
      {
        "duration": 28,
        "start_time": "2022-06-20T06:24:25.368Z"
      },
      {
        "duration": 32,
        "start_time": "2022-06-20T06:24:25.398Z"
      },
      {
        "duration": 8,
        "start_time": "2022-06-20T06:24:25.432Z"
      },
      {
        "duration": 20,
        "start_time": "2022-06-20T06:24:25.442Z"
      },
      {
        "duration": 20,
        "start_time": "2022-06-20T06:24:25.464Z"
      },
      {
        "duration": 14,
        "start_time": "2022-06-20T06:24:25.487Z"
      },
      {
        "duration": 19,
        "start_time": "2022-06-20T06:24:25.503Z"
      },
      {
        "duration": 27,
        "start_time": "2022-06-20T06:24:25.523Z"
      },
      {
        "duration": 2,
        "start_time": "2022-06-20T06:24:25.552Z"
      },
      {
        "duration": 13,
        "start_time": "2022-06-20T06:24:25.556Z"
      },
      {
        "duration": 11,
        "start_time": "2022-06-20T06:24:25.571Z"
      },
      {
        "duration": 42,
        "start_time": "2022-06-20T09:22:25.568Z"
      },
      {
        "duration": 5,
        "start_time": "2022-06-20T09:22:37.540Z"
      },
      {
        "duration": 485,
        "start_time": "2022-06-20T09:22:49.495Z"
      },
      {
        "duration": 20,
        "start_time": "2022-06-20T09:22:49.981Z"
      },
      {
        "duration": 13,
        "start_time": "2022-06-20T09:22:50.004Z"
      },
      {
        "duration": 7,
        "start_time": "2022-06-20T09:22:50.019Z"
      },
      {
        "duration": 29,
        "start_time": "2022-06-20T09:22:50.028Z"
      },
      {
        "duration": 3,
        "start_time": "2022-06-20T09:22:50.059Z"
      },
      {
        "duration": 13,
        "start_time": "2022-06-20T09:22:50.063Z"
      },
      {
        "duration": 4,
        "start_time": "2022-06-20T09:22:50.077Z"
      },
      {
        "duration": 9,
        "start_time": "2022-06-20T09:22:50.082Z"
      },
      {
        "duration": 4,
        "start_time": "2022-06-20T09:22:50.093Z"
      },
      {
        "duration": 53,
        "start_time": "2022-06-20T09:22:50.098Z"
      },
      {
        "duration": 7,
        "start_time": "2022-06-20T09:22:50.153Z"
      },
      {
        "duration": 3,
        "start_time": "2022-06-20T09:22:50.162Z"
      },
      {
        "duration": 18,
        "start_time": "2022-06-20T09:22:50.166Z"
      },
      {
        "duration": 13,
        "start_time": "2022-06-20T09:22:50.185Z"
      },
      {
        "duration": 37,
        "start_time": "2022-06-20T09:22:50.200Z"
      },
      {
        "duration": 4,
        "start_time": "2022-06-20T09:22:50.238Z"
      },
      {
        "duration": 12,
        "start_time": "2022-06-20T09:22:50.243Z"
      },
      {
        "duration": 9,
        "start_time": "2022-06-20T09:22:50.256Z"
      },
      {
        "duration": 3,
        "start_time": "2022-06-20T09:22:50.266Z"
      },
      {
        "duration": 11,
        "start_time": "2022-06-20T09:22:50.271Z"
      },
      {
        "duration": 10,
        "start_time": "2022-06-20T09:22:50.283Z"
      },
      {
        "duration": 43,
        "start_time": "2022-06-20T09:22:50.295Z"
      },
      {
        "duration": 2,
        "start_time": "2022-06-20T09:22:50.340Z"
      },
      {
        "duration": 6,
        "start_time": "2022-06-20T09:22:50.344Z"
      },
      {
        "duration": 5,
        "start_time": "2022-06-20T09:22:50.351Z"
      },
      {
        "duration": 162,
        "start_time": "2022-06-20T09:23:53.983Z"
      },
      {
        "duration": 14,
        "start_time": "2022-06-20T09:24:27.092Z"
      },
      {
        "duration": 64,
        "start_time": "2022-06-20T09:25:04.059Z"
      },
      {
        "duration": 12,
        "start_time": "2022-06-20T09:25:11.724Z"
      },
      {
        "duration": 423,
        "start_time": "2022-06-20T09:34:56.836Z"
      },
      {
        "duration": 20,
        "start_time": "2022-06-20T09:34:57.261Z"
      },
      {
        "duration": 14,
        "start_time": "2022-06-20T09:34:57.283Z"
      },
      {
        "duration": 8,
        "start_time": "2022-06-20T09:34:57.299Z"
      },
      {
        "duration": 45,
        "start_time": "2022-06-20T09:34:57.308Z"
      },
      {
        "duration": 4,
        "start_time": "2022-06-20T09:34:57.354Z"
      },
      {
        "duration": 10,
        "start_time": "2022-06-20T09:34:57.359Z"
      },
      {
        "duration": 4,
        "start_time": "2022-06-20T09:34:57.370Z"
      },
      {
        "duration": 8,
        "start_time": "2022-06-20T09:34:57.376Z"
      },
      {
        "duration": 4,
        "start_time": "2022-06-20T09:34:57.387Z"
      },
      {
        "duration": 67,
        "start_time": "2022-06-20T09:34:57.393Z"
      },
      {
        "duration": 9,
        "start_time": "2022-06-20T09:34:57.461Z"
      },
      {
        "duration": 7,
        "start_time": "2022-06-20T09:34:57.472Z"
      },
      {
        "duration": 20,
        "start_time": "2022-06-20T09:34:57.481Z"
      },
      {
        "duration": 37,
        "start_time": "2022-06-20T09:34:57.503Z"
      },
      {
        "duration": 10,
        "start_time": "2022-06-20T09:34:57.542Z"
      },
      {
        "duration": 6,
        "start_time": "2022-06-20T09:34:57.553Z"
      },
      {
        "duration": 14,
        "start_time": "2022-06-20T09:34:57.561Z"
      },
      {
        "duration": 9,
        "start_time": "2022-06-20T09:34:57.577Z"
      },
      {
        "duration": 4,
        "start_time": "2022-06-20T09:34:57.588Z"
      },
      {
        "duration": 35,
        "start_time": "2022-06-20T09:34:57.594Z"
      },
      {
        "duration": 10,
        "start_time": "2022-06-20T09:34:57.631Z"
      },
      {
        "duration": 13,
        "start_time": "2022-06-20T09:34:57.643Z"
      },
      {
        "duration": 2,
        "start_time": "2022-06-20T09:34:57.657Z"
      },
      {
        "duration": 5,
        "start_time": "2022-06-20T09:34:57.660Z"
      },
      {
        "duration": 5,
        "start_time": "2022-06-20T09:34:57.667Z"
      },
      {
        "duration": 14,
        "start_time": "2022-06-20T09:56:13.476Z"
      },
      {
        "duration": 87,
        "start_time": "2022-06-20T10:14:54.288Z"
      },
      {
        "duration": 10,
        "start_time": "2022-06-20T10:15:23.238Z"
      },
      {
        "duration": 26,
        "start_time": "2022-06-20T10:40:14.598Z"
      },
      {
        "duration": 15,
        "start_time": "2022-06-20T10:47:32.997Z"
      },
      {
        "duration": 92,
        "start_time": "2022-06-20T10:48:41.302Z"
      },
      {
        "duration": 395,
        "start_time": "2022-06-20T10:51:23.464Z"
      },
      {
        "duration": 19,
        "start_time": "2022-06-20T10:51:23.861Z"
      },
      {
        "duration": 13,
        "start_time": "2022-06-20T10:51:23.882Z"
      },
      {
        "duration": 8,
        "start_time": "2022-06-20T10:51:23.896Z"
      },
      {
        "duration": 51,
        "start_time": "2022-06-20T10:51:23.905Z"
      },
      {
        "duration": 3,
        "start_time": "2022-06-20T10:51:23.958Z"
      },
      {
        "duration": 12,
        "start_time": "2022-06-20T10:51:23.962Z"
      },
      {
        "duration": 11,
        "start_time": "2022-06-20T10:51:23.976Z"
      },
      {
        "duration": 8,
        "start_time": "2022-06-20T10:51:23.988Z"
      },
      {
        "duration": 3,
        "start_time": "2022-06-20T10:51:23.998Z"
      },
      {
        "duration": 43,
        "start_time": "2022-06-20T10:51:24.002Z"
      },
      {
        "duration": 8,
        "start_time": "2022-06-20T10:51:24.047Z"
      },
      {
        "duration": 3,
        "start_time": "2022-06-20T10:51:24.056Z"
      },
      {
        "duration": 16,
        "start_time": "2022-06-20T10:51:24.062Z"
      },
      {
        "duration": 15,
        "start_time": "2022-06-20T10:51:24.079Z"
      },
      {
        "duration": 9,
        "start_time": "2022-06-20T10:51:24.095Z"
      },
      {
        "duration": 3,
        "start_time": "2022-06-20T10:51:24.129Z"
      },
      {
        "duration": 16,
        "start_time": "2022-06-20T10:51:24.134Z"
      },
      {
        "duration": 7,
        "start_time": "2022-06-20T10:51:24.152Z"
      },
      {
        "duration": 3,
        "start_time": "2022-06-20T10:51:24.161Z"
      },
      {
        "duration": 10,
        "start_time": "2022-06-20T10:51:24.166Z"
      },
      {
        "duration": 11,
        "start_time": "2022-06-20T10:51:24.177Z"
      },
      {
        "duration": 43,
        "start_time": "2022-06-20T10:51:24.189Z"
      },
      {
        "duration": 10,
        "start_time": "2022-06-20T10:51:24.234Z"
      },
      {
        "duration": 13,
        "start_time": "2022-06-20T10:51:24.246Z"
      },
      {
        "duration": 2,
        "start_time": "2022-06-20T10:51:24.261Z"
      },
      {
        "duration": 5,
        "start_time": "2022-06-20T10:51:24.264Z"
      },
      {
        "duration": 65,
        "start_time": "2022-06-20T11:12:14.625Z"
      },
      {
        "duration": 12,
        "start_time": "2022-06-20T11:12:37.059Z"
      },
      {
        "duration": 15,
        "start_time": "2022-06-20T11:20:31.404Z"
      },
      {
        "duration": 14,
        "start_time": "2022-06-20T11:21:24.302Z"
      },
      {
        "duration": 12,
        "start_time": "2022-06-20T11:34:56.951Z"
      },
      {
        "duration": 15,
        "start_time": "2022-06-20T11:46:45.545Z"
      },
      {
        "duration": 714,
        "start_time": "2022-06-20T15:52:28.550Z"
      },
      {
        "duration": 24,
        "start_time": "2022-06-20T15:52:29.266Z"
      },
      {
        "duration": 15,
        "start_time": "2022-06-20T15:52:29.291Z"
      },
      {
        "duration": 10,
        "start_time": "2022-06-20T15:52:29.308Z"
      },
      {
        "duration": 36,
        "start_time": "2022-06-20T15:52:29.326Z"
      },
      {
        "duration": 3,
        "start_time": "2022-06-20T15:52:29.364Z"
      },
      {
        "duration": 11,
        "start_time": "2022-06-20T15:52:29.370Z"
      },
      {
        "duration": 5,
        "start_time": "2022-06-20T15:52:29.382Z"
      },
      {
        "duration": 8,
        "start_time": "2022-06-20T15:52:29.390Z"
      },
      {
        "duration": 6,
        "start_time": "2022-06-20T15:52:29.426Z"
      },
      {
        "duration": 44,
        "start_time": "2022-06-20T15:52:29.435Z"
      },
      {
        "duration": 11,
        "start_time": "2022-06-20T15:52:29.480Z"
      },
      {
        "duration": 8,
        "start_time": "2022-06-20T15:52:29.493Z"
      },
      {
        "duration": 36,
        "start_time": "2022-06-20T15:52:29.504Z"
      },
      {
        "duration": 25,
        "start_time": "2022-06-20T15:52:29.542Z"
      },
      {
        "duration": 13,
        "start_time": "2022-06-20T15:52:29.569Z"
      },
      {
        "duration": 4,
        "start_time": "2022-06-20T15:52:29.583Z"
      },
      {
        "duration": 42,
        "start_time": "2022-06-20T15:52:29.589Z"
      },
      {
        "duration": 9,
        "start_time": "2022-06-20T15:52:29.634Z"
      },
      {
        "duration": 9,
        "start_time": "2022-06-20T15:52:29.644Z"
      },
      {
        "duration": 15,
        "start_time": "2022-06-20T15:52:29.655Z"
      },
      {
        "duration": 16,
        "start_time": "2022-06-20T15:52:29.672Z"
      },
      {
        "duration": 39,
        "start_time": "2022-06-20T15:52:29.689Z"
      },
      {
        "duration": 17,
        "start_time": "2022-06-20T15:52:29.730Z"
      },
      {
        "duration": 23,
        "start_time": "2022-06-20T15:52:29.749Z"
      },
      {
        "duration": 17,
        "start_time": "2022-06-20T15:52:29.774Z"
      },
      {
        "duration": 52,
        "start_time": "2022-06-20T15:52:29.793Z"
      },
      {
        "duration": 14,
        "start_time": "2022-06-20T15:52:29.848Z"
      },
      {
        "duration": 14,
        "start_time": "2022-06-20T15:52:29.864Z"
      },
      {
        "duration": 510,
        "start_time": "2022-06-20T16:04:50.491Z"
      },
      {
        "duration": 23,
        "start_time": "2022-06-20T16:04:51.003Z"
      },
      {
        "duration": 16,
        "start_time": "2022-06-20T16:04:51.028Z"
      },
      {
        "duration": 10,
        "start_time": "2022-06-20T16:04:51.047Z"
      },
      {
        "duration": 40,
        "start_time": "2022-06-20T16:04:51.058Z"
      },
      {
        "duration": 5,
        "start_time": "2022-06-20T16:04:51.100Z"
      },
      {
        "duration": 33,
        "start_time": "2022-06-20T16:04:51.107Z"
      },
      {
        "duration": 19,
        "start_time": "2022-06-20T16:04:51.142Z"
      },
      {
        "duration": 12,
        "start_time": "2022-06-20T16:04:51.163Z"
      },
      {
        "duration": 5,
        "start_time": "2022-06-20T16:04:51.178Z"
      },
      {
        "duration": 45,
        "start_time": "2022-06-20T16:04:51.184Z"
      },
      {
        "duration": 12,
        "start_time": "2022-06-20T16:04:51.231Z"
      },
      {
        "duration": 7,
        "start_time": "2022-06-20T16:04:51.245Z"
      },
      {
        "duration": 39,
        "start_time": "2022-06-20T16:04:51.255Z"
      },
      {
        "duration": 17,
        "start_time": "2022-06-20T16:04:51.295Z"
      },
      {
        "duration": 22,
        "start_time": "2022-06-20T16:04:51.314Z"
      },
      {
        "duration": 6,
        "start_time": "2022-06-20T16:04:51.337Z"
      },
      {
        "duration": 19,
        "start_time": "2022-06-20T16:04:51.345Z"
      },
      {
        "duration": 8,
        "start_time": "2022-06-20T16:04:51.366Z"
      },
      {
        "duration": 8,
        "start_time": "2022-06-20T16:04:51.376Z"
      },
      {
        "duration": 17,
        "start_time": "2022-06-20T16:04:51.385Z"
      },
      {
        "duration": 27,
        "start_time": "2022-06-20T16:04:51.404Z"
      },
      {
        "duration": 15,
        "start_time": "2022-06-20T16:04:51.433Z"
      },
      {
        "duration": 11,
        "start_time": "2022-06-20T16:04:51.450Z"
      },
      {
        "duration": 15,
        "start_time": "2022-06-20T16:04:51.462Z"
      },
      {
        "duration": 49,
        "start_time": "2022-06-20T16:04:51.479Z"
      },
      {
        "duration": 17,
        "start_time": "2022-06-20T16:04:51.530Z"
      },
      {
        "duration": 12,
        "start_time": "2022-06-20T16:04:51.550Z"
      },
      {
        "duration": 21,
        "start_time": "2022-06-20T16:04:51.563Z"
      },
      {
        "duration": 493,
        "start_time": "2022-06-20T16:05:00.191Z"
      },
      {
        "duration": 22,
        "start_time": "2022-06-20T16:05:00.686Z"
      },
      {
        "duration": 29,
        "start_time": "2022-06-20T16:05:00.710Z"
      },
      {
        "duration": 24,
        "start_time": "2022-06-20T16:05:00.742Z"
      },
      {
        "duration": 57,
        "start_time": "2022-06-20T16:05:00.768Z"
      },
      {
        "duration": 3,
        "start_time": "2022-06-20T16:05:00.827Z"
      },
      {
        "duration": 48,
        "start_time": "2022-06-20T16:05:00.831Z"
      },
      {
        "duration": 36,
        "start_time": "2022-06-20T16:05:00.881Z"
      },
      {
        "duration": 26,
        "start_time": "2022-06-20T16:05:00.920Z"
      },
      {
        "duration": 17,
        "start_time": "2022-06-20T16:05:00.950Z"
      },
      {
        "duration": 60,
        "start_time": "2022-06-20T16:05:00.970Z"
      },
      {
        "duration": 9,
        "start_time": "2022-06-20T16:05:01.032Z"
      },
      {
        "duration": 21,
        "start_time": "2022-06-20T16:05:01.042Z"
      },
      {
        "duration": 46,
        "start_time": "2022-06-20T16:05:01.065Z"
      },
      {
        "duration": 22,
        "start_time": "2022-06-20T16:05:01.113Z"
      },
      {
        "duration": 26,
        "start_time": "2022-06-20T16:05:01.136Z"
      },
      {
        "duration": 37,
        "start_time": "2022-06-20T16:05:01.163Z"
      },
      {
        "duration": 62,
        "start_time": "2022-06-20T16:05:01.202Z"
      },
      {
        "duration": 33,
        "start_time": "2022-06-20T16:05:01.266Z"
      },
      {
        "duration": 31,
        "start_time": "2022-06-20T16:05:01.301Z"
      },
      {
        "duration": 37,
        "start_time": "2022-06-20T16:05:01.334Z"
      },
      {
        "duration": 35,
        "start_time": "2022-06-20T16:05:01.373Z"
      },
      {
        "duration": 31,
        "start_time": "2022-06-20T16:05:01.410Z"
      },
      {
        "duration": 22,
        "start_time": "2022-06-20T16:05:01.443Z"
      },
      {
        "duration": 40,
        "start_time": "2022-06-20T16:05:01.466Z"
      },
      {
        "duration": 14,
        "start_time": "2022-06-20T16:05:01.508Z"
      },
      {
        "duration": 59,
        "start_time": "2022-06-20T16:05:01.524Z"
      },
      {
        "duration": 29,
        "start_time": "2022-06-20T16:05:01.588Z"
      },
      {
        "duration": 43,
        "start_time": "2022-06-20T16:05:01.618Z"
      },
      {
        "duration": 95,
        "start_time": "2022-06-20T17:12:35.547Z"
      },
      {
        "duration": 48,
        "start_time": "2022-06-21T10:17:20.912Z"
      },
      {
        "duration": 755,
        "start_time": "2022-06-21T10:18:45.492Z"
      },
      {
        "duration": 29,
        "start_time": "2022-06-21T10:18:46.249Z"
      },
      {
        "duration": 17,
        "start_time": "2022-06-21T10:18:46.280Z"
      },
      {
        "duration": 10,
        "start_time": "2022-06-21T10:18:46.300Z"
      },
      {
        "duration": 38,
        "start_time": "2022-06-21T10:18:46.312Z"
      },
      {
        "duration": 26,
        "start_time": "2022-06-21T10:18:46.351Z"
      },
      {
        "duration": 11,
        "start_time": "2022-06-21T10:18:46.381Z"
      },
      {
        "duration": 4,
        "start_time": "2022-06-21T10:18:46.394Z"
      },
      {
        "duration": 8,
        "start_time": "2022-06-21T10:18:46.401Z"
      },
      {
        "duration": 5,
        "start_time": "2022-06-21T10:18:46.412Z"
      },
      {
        "duration": 67,
        "start_time": "2022-06-21T10:18:46.419Z"
      },
      {
        "duration": 10,
        "start_time": "2022-06-21T10:18:46.487Z"
      },
      {
        "duration": 5,
        "start_time": "2022-06-21T10:18:46.498Z"
      },
      {
        "duration": 23,
        "start_time": "2022-06-21T10:18:46.504Z"
      },
      {
        "duration": 48,
        "start_time": "2022-06-21T10:18:46.530Z"
      },
      {
        "duration": 14,
        "start_time": "2022-06-21T10:18:46.580Z"
      },
      {
        "duration": 5,
        "start_time": "2022-06-21T10:18:46.596Z"
      },
      {
        "duration": 14,
        "start_time": "2022-06-21T10:18:46.603Z"
      },
      {
        "duration": 11,
        "start_time": "2022-06-21T10:18:46.619Z"
      },
      {
        "duration": 3,
        "start_time": "2022-06-21T10:18:46.632Z"
      },
      {
        "duration": 20,
        "start_time": "2022-06-21T10:18:46.636Z"
      },
      {
        "duration": 47,
        "start_time": "2022-06-21T10:18:46.657Z"
      },
      {
        "duration": 17,
        "start_time": "2022-06-21T10:18:46.705Z"
      },
      {
        "duration": 8,
        "start_time": "2022-06-21T10:18:46.723Z"
      },
      {
        "duration": 19,
        "start_time": "2022-06-21T10:18:46.732Z"
      },
      {
        "duration": 25,
        "start_time": "2022-06-21T10:18:46.752Z"
      },
      {
        "duration": 16,
        "start_time": "2022-06-21T10:18:46.782Z"
      },
      {
        "duration": 15,
        "start_time": "2022-06-21T10:18:46.801Z"
      },
      {
        "duration": 13,
        "start_time": "2022-06-21T10:18:46.818Z"
      },
      {
        "duration": 16,
        "start_time": "2022-06-21T10:18:46.833Z"
      },
      {
        "duration": 5,
        "start_time": "2022-06-21T10:19:06.679Z"
      },
      {
        "duration": 7,
        "start_time": "2022-06-21T10:20:54.884Z"
      },
      {
        "duration": 8,
        "start_time": "2022-06-21T10:21:02.022Z"
      },
      {
        "duration": 7,
        "start_time": "2022-06-21T10:22:14.528Z"
      },
      {
        "duration": 15,
        "start_time": "2022-06-21T10:22:18.838Z"
      },
      {
        "duration": 5,
        "start_time": "2022-06-21T10:23:06.965Z"
      },
      {
        "duration": 5,
        "start_time": "2022-06-21T10:23:43.152Z"
      },
      {
        "duration": 453,
        "start_time": "2022-06-21T10:23:53.681Z"
      },
      {
        "duration": 22,
        "start_time": "2022-06-21T10:23:54.136Z"
      },
      {
        "duration": 21,
        "start_time": "2022-06-21T10:23:54.160Z"
      },
      {
        "duration": 11,
        "start_time": "2022-06-21T10:23:54.185Z"
      },
      {
        "duration": 36,
        "start_time": "2022-06-21T10:23:54.197Z"
      },
      {
        "duration": 3,
        "start_time": "2022-06-21T10:23:54.236Z"
      },
      {
        "duration": 12,
        "start_time": "2022-06-21T10:23:54.241Z"
      },
      {
        "duration": 22,
        "start_time": "2022-06-21T10:23:54.255Z"
      },
      {
        "duration": 10,
        "start_time": "2022-06-21T10:23:54.279Z"
      },
      {
        "duration": 5,
        "start_time": "2022-06-21T10:23:54.291Z"
      },
      {
        "duration": 33,
        "start_time": "2022-06-21T10:23:54.297Z"
      },
      {
        "duration": 9,
        "start_time": "2022-06-21T10:23:54.332Z"
      },
      {
        "duration": 3,
        "start_time": "2022-06-21T10:23:54.343Z"
      },
      {
        "duration": 19,
        "start_time": "2022-06-21T10:23:54.378Z"
      },
      {
        "duration": 17,
        "start_time": "2022-06-21T10:23:54.398Z"
      },
      {
        "duration": 10,
        "start_time": "2022-06-21T10:23:54.417Z"
      },
      {
        "duration": 4,
        "start_time": "2022-06-21T10:23:54.429Z"
      },
      {
        "duration": 12,
        "start_time": "2022-06-21T10:23:54.435Z"
      },
      {
        "duration": 31,
        "start_time": "2022-06-21T10:23:54.448Z"
      },
      {
        "duration": 3,
        "start_time": "2022-06-21T10:23:54.481Z"
      },
      {
        "duration": 12,
        "start_time": "2022-06-21T10:23:54.485Z"
      },
      {
        "duration": 12,
        "start_time": "2022-06-21T10:23:54.499Z"
      },
      {
        "duration": 14,
        "start_time": "2022-06-21T10:23:54.513Z"
      },
      {
        "duration": 9,
        "start_time": "2022-06-21T10:23:54.529Z"
      },
      {
        "duration": 6,
        "start_time": "2022-06-21T10:23:54.539Z"
      },
      {
        "duration": 18,
        "start_time": "2022-06-21T10:23:54.569Z"
      },
      {
        "duration": 20,
        "start_time": "2022-06-21T10:23:54.589Z"
      },
      {
        "duration": 12,
        "start_time": "2022-06-21T10:23:54.612Z"
      },
      {
        "duration": 17,
        "start_time": "2022-06-21T10:23:54.626Z"
      },
      {
        "duration": 18,
        "start_time": "2022-06-21T10:23:54.667Z"
      },
      {
        "duration": 20,
        "start_time": "2022-06-21T10:23:54.687Z"
      },
      {
        "duration": 9,
        "start_time": "2022-06-21T10:25:30.095Z"
      },
      {
        "duration": 15,
        "start_time": "2022-06-21T10:25:45.492Z"
      },
      {
        "duration": 56,
        "start_time": "2022-06-21T10:47:57.004Z"
      },
      {
        "duration": 23,
        "start_time": "2022-06-21T11:19:03.910Z"
      },
      {
        "duration": 38,
        "start_time": "2022-06-21T11:20:24.665Z"
      },
      {
        "duration": 38,
        "start_time": "2022-06-21T11:20:44.965Z"
      },
      {
        "duration": 25,
        "start_time": "2022-06-21T11:21:42.465Z"
      },
      {
        "duration": 31,
        "start_time": "2022-06-21T11:22:15.652Z"
      },
      {
        "duration": 28,
        "start_time": "2022-06-21T11:23:36.735Z"
      },
      {
        "duration": 32,
        "start_time": "2022-06-21T11:23:47.835Z"
      },
      {
        "duration": 30,
        "start_time": "2022-06-21T11:25:19.538Z"
      },
      {
        "duration": 61,
        "start_time": "2022-06-21T11:26:12.973Z"
      },
      {
        "duration": 38,
        "start_time": "2022-06-21T11:33:00.768Z"
      },
      {
        "duration": 56,
        "start_time": "2022-06-21T11:33:33.119Z"
      },
      {
        "duration": 39,
        "start_time": "2022-06-21T11:36:20.831Z"
      },
      {
        "duration": 25,
        "start_time": "2022-06-21T11:36:57.173Z"
      },
      {
        "duration": 46,
        "start_time": "2022-06-21T11:38:34.500Z"
      },
      {
        "duration": 37,
        "start_time": "2022-06-21T11:39:33.417Z"
      },
      {
        "duration": 4,
        "start_time": "2022-06-21T12:03:48.871Z"
      },
      {
        "duration": 3,
        "start_time": "2022-06-21T12:03:49.688Z"
      },
      {
        "duration": 62,
        "start_time": "2022-06-21T12:04:55.175Z"
      },
      {
        "duration": 26,
        "start_time": "2022-06-21T12:05:08.517Z"
      },
      {
        "duration": 9,
        "start_time": "2022-06-21T12:06:38.175Z"
      },
      {
        "duration": 28,
        "start_time": "2022-06-21T12:06:44.998Z"
      },
      {
        "duration": 26,
        "start_time": "2022-06-21T12:08:08.888Z"
      },
      {
        "duration": 28,
        "start_time": "2022-06-21T12:10:28.111Z"
      },
      {
        "duration": 36,
        "start_time": "2022-06-21T12:12:07.393Z"
      },
      {
        "duration": 34,
        "start_time": "2022-06-21T12:12:42.239Z"
      },
      {
        "duration": 34,
        "start_time": "2022-06-21T12:13:27.777Z"
      },
      {
        "duration": 35,
        "start_time": "2022-06-21T12:14:52.824Z"
      },
      {
        "duration": 38,
        "start_time": "2022-06-21T12:15:53.175Z"
      },
      {
        "duration": 536,
        "start_time": "2022-06-21T12:17:05.572Z"
      },
      {
        "duration": 24,
        "start_time": "2022-06-21T12:17:06.110Z"
      },
      {
        "duration": 31,
        "start_time": "2022-06-21T12:17:06.136Z"
      },
      {
        "duration": 10,
        "start_time": "2022-06-21T12:17:06.169Z"
      },
      {
        "duration": 49,
        "start_time": "2022-06-21T12:17:06.181Z"
      },
      {
        "duration": 5,
        "start_time": "2022-06-21T12:17:06.231Z"
      },
      {
        "duration": 35,
        "start_time": "2022-06-21T12:17:06.238Z"
      },
      {
        "duration": 4,
        "start_time": "2022-06-21T12:17:06.275Z"
      },
      {
        "duration": 10,
        "start_time": "2022-06-21T12:17:06.280Z"
      },
      {
        "duration": 9,
        "start_time": "2022-06-21T12:17:06.294Z"
      },
      {
        "duration": 40,
        "start_time": "2022-06-21T12:17:06.305Z"
      },
      {
        "duration": 27,
        "start_time": "2022-06-21T12:17:06.347Z"
      },
      {
        "duration": 4,
        "start_time": "2022-06-21T12:17:06.375Z"
      },
      {
        "duration": 21,
        "start_time": "2022-06-21T12:17:06.380Z"
      },
      {
        "duration": 21,
        "start_time": "2022-06-21T12:17:06.402Z"
      },
      {
        "duration": 43,
        "start_time": "2022-06-21T12:17:06.426Z"
      },
      {
        "duration": 4,
        "start_time": "2022-06-21T12:17:06.470Z"
      },
      {
        "duration": 15,
        "start_time": "2022-06-21T12:17:06.476Z"
      },
      {
        "duration": 12,
        "start_time": "2022-06-21T12:17:06.492Z"
      },
      {
        "duration": 4,
        "start_time": "2022-06-21T12:17:06.506Z"
      },
      {
        "duration": 11,
        "start_time": "2022-06-21T12:17:06.512Z"
      },
      {
        "duration": 7,
        "start_time": "2022-06-21T12:17:06.524Z"
      },
      {
        "duration": 6,
        "start_time": "2022-06-21T12:17:06.532Z"
      },
      {
        "duration": 51,
        "start_time": "2022-06-21T12:17:06.539Z"
      },
      {
        "duration": 33,
        "start_time": "2022-06-21T12:17:06.592Z"
      },
      {
        "duration": 7,
        "start_time": "2022-06-21T12:17:06.626Z"
      },
      {
        "duration": 33,
        "start_time": "2022-06-21T12:17:06.636Z"
      },
      {
        "duration": 36,
        "start_time": "2022-06-21T12:17:06.672Z"
      },
      {
        "duration": 59,
        "start_time": "2022-06-21T12:17:06.709Z"
      },
      {
        "duration": 59,
        "start_time": "2022-06-21T12:17:06.771Z"
      },
      {
        "duration": 65,
        "start_time": "2022-06-21T12:17:06.832Z"
      },
      {
        "duration": 42,
        "start_time": "2022-06-21T12:17:06.899Z"
      },
      {
        "duration": 49,
        "start_time": "2022-06-21T12:17:06.943Z"
      },
      {
        "duration": 38,
        "start_time": "2022-06-21T12:17:06.994Z"
      },
      {
        "duration": 480,
        "start_time": "2022-06-21T12:20:11.590Z"
      },
      {
        "duration": 30,
        "start_time": "2022-06-21T12:20:12.072Z"
      },
      {
        "duration": 15,
        "start_time": "2022-06-21T12:20:12.103Z"
      },
      {
        "duration": 12,
        "start_time": "2022-06-21T12:20:12.121Z"
      },
      {
        "duration": 52,
        "start_time": "2022-06-21T12:20:12.135Z"
      },
      {
        "duration": 3,
        "start_time": "2022-06-21T12:20:12.189Z"
      },
      {
        "duration": 13,
        "start_time": "2022-06-21T12:20:12.194Z"
      },
      {
        "duration": 9,
        "start_time": "2022-06-21T12:20:12.209Z"
      },
      {
        "duration": 18,
        "start_time": "2022-06-21T12:20:12.220Z"
      },
      {
        "duration": 15,
        "start_time": "2022-06-21T12:20:12.243Z"
      },
      {
        "duration": 46,
        "start_time": "2022-06-21T12:20:12.259Z"
      },
      {
        "duration": 9,
        "start_time": "2022-06-21T12:20:12.307Z"
      },
      {
        "duration": 4,
        "start_time": "2022-06-21T12:20:12.317Z"
      },
      {
        "duration": 24,
        "start_time": "2022-06-21T12:20:12.323Z"
      },
      {
        "duration": 18,
        "start_time": "2022-06-21T12:20:12.367Z"
      },
      {
        "duration": 19,
        "start_time": "2022-06-21T12:20:12.387Z"
      },
      {
        "duration": 9,
        "start_time": "2022-06-21T12:20:12.408Z"
      },
      {
        "duration": 19,
        "start_time": "2022-06-21T12:20:12.419Z"
      },
      {
        "duration": 29,
        "start_time": "2022-06-21T12:20:12.440Z"
      },
      {
        "duration": 5,
        "start_time": "2022-06-21T12:20:12.471Z"
      },
      {
        "duration": 18,
        "start_time": "2022-06-21T12:20:12.478Z"
      },
      {
        "duration": 4,
        "start_time": "2022-06-21T12:20:12.498Z"
      },
      {
        "duration": 8,
        "start_time": "2022-06-21T12:20:12.504Z"
      },
      {
        "duration": 53,
        "start_time": "2022-06-21T12:20:12.514Z"
      },
      {
        "duration": 54,
        "start_time": "2022-06-21T12:20:12.569Z"
      },
      {
        "duration": 19,
        "start_time": "2022-06-21T12:20:12.625Z"
      },
      {
        "duration": 20,
        "start_time": "2022-06-21T12:20:12.646Z"
      },
      {
        "duration": 40,
        "start_time": "2022-06-21T12:20:12.670Z"
      },
      {
        "duration": 31,
        "start_time": "2022-06-21T12:20:12.712Z"
      },
      {
        "duration": 60,
        "start_time": "2022-06-21T12:20:12.746Z"
      },
      {
        "duration": 32,
        "start_time": "2022-06-21T12:20:12.808Z"
      },
      {
        "duration": 54,
        "start_time": "2022-06-21T12:20:12.842Z"
      },
      {
        "duration": 40,
        "start_time": "2022-06-21T12:20:12.898Z"
      },
      {
        "duration": 66,
        "start_time": "2022-06-21T12:20:12.940Z"
      },
      {
        "duration": 496,
        "start_time": "2022-06-21T12:24:01.394Z"
      },
      {
        "duration": 22,
        "start_time": "2022-06-21T12:24:01.892Z"
      },
      {
        "duration": 14,
        "start_time": "2022-06-21T12:24:01.915Z"
      },
      {
        "duration": 9,
        "start_time": "2022-06-21T12:24:01.931Z"
      },
      {
        "duration": 55,
        "start_time": "2022-06-21T12:24:01.941Z"
      },
      {
        "duration": 3,
        "start_time": "2022-06-21T12:24:01.998Z"
      },
      {
        "duration": 12,
        "start_time": "2022-06-21T12:24:02.002Z"
      },
      {
        "duration": 14,
        "start_time": "2022-06-21T12:24:02.016Z"
      },
      {
        "duration": 12,
        "start_time": "2022-06-21T12:24:02.032Z"
      },
      {
        "duration": 4,
        "start_time": "2022-06-21T12:24:02.048Z"
      },
      {
        "duration": 43,
        "start_time": "2022-06-21T12:24:02.054Z"
      },
      {
        "duration": 10,
        "start_time": "2022-06-21T12:24:02.099Z"
      },
      {
        "duration": 9,
        "start_time": "2022-06-21T12:24:02.111Z"
      },
      {
        "duration": 26,
        "start_time": "2022-06-21T12:24:02.121Z"
      },
      {
        "duration": 34,
        "start_time": "2022-06-21T12:24:02.149Z"
      },
      {
        "duration": 15,
        "start_time": "2022-06-21T12:24:02.185Z"
      },
      {
        "duration": 8,
        "start_time": "2022-06-21T12:24:02.202Z"
      },
      {
        "duration": 25,
        "start_time": "2022-06-21T12:24:02.211Z"
      },
      {
        "duration": 7,
        "start_time": "2022-06-21T12:24:02.238Z"
      },
      {
        "duration": 24,
        "start_time": "2022-06-21T12:24:02.247Z"
      },
      {
        "duration": 43,
        "start_time": "2022-06-21T12:24:02.272Z"
      },
      {
        "duration": 27,
        "start_time": "2022-06-21T12:24:02.317Z"
      },
      {
        "duration": 44,
        "start_time": "2022-06-21T12:24:02.346Z"
      },
      {
        "duration": 38,
        "start_time": "2022-06-21T12:24:02.392Z"
      },
      {
        "duration": 32,
        "start_time": "2022-06-21T12:24:02.432Z"
      },
      {
        "duration": 28,
        "start_time": "2022-06-21T12:24:02.466Z"
      },
      {
        "duration": 22,
        "start_time": "2022-06-21T12:24:02.496Z"
      },
      {
        "duration": 38,
        "start_time": "2022-06-21T12:24:02.521Z"
      },
      {
        "duration": 30,
        "start_time": "2022-06-21T12:24:02.560Z"
      },
      {
        "duration": 40,
        "start_time": "2022-06-21T12:24:02.592Z"
      },
      {
        "duration": 34,
        "start_time": "2022-06-21T12:24:02.634Z"
      },
      {
        "duration": 40,
        "start_time": "2022-06-21T12:24:02.669Z"
      },
      {
        "duration": 27,
        "start_time": "2022-06-21T12:24:02.710Z"
      },
      {
        "duration": 59,
        "start_time": "2022-06-21T12:24:02.738Z"
      },
      {
        "duration": 52,
        "start_time": "2022-06-21T15:11:34.692Z"
      },
      {
        "duration": 431,
        "start_time": "2022-06-21T15:11:39.284Z"
      },
      {
        "duration": 28,
        "start_time": "2022-06-21T15:11:39.717Z"
      },
      {
        "duration": 29,
        "start_time": "2022-06-21T15:11:39.747Z"
      },
      {
        "duration": 11,
        "start_time": "2022-06-21T15:11:39.779Z"
      },
      {
        "duration": 54,
        "start_time": "2022-06-21T15:11:39.793Z"
      },
      {
        "duration": 5,
        "start_time": "2022-06-21T15:11:39.849Z"
      },
      {
        "duration": 14,
        "start_time": "2022-06-21T15:11:39.856Z"
      },
      {
        "duration": 16,
        "start_time": "2022-06-21T15:11:39.872Z"
      },
      {
        "duration": 16,
        "start_time": "2022-06-21T15:11:39.889Z"
      },
      {
        "duration": 9,
        "start_time": "2022-06-21T15:11:39.907Z"
      },
      {
        "duration": 46,
        "start_time": "2022-06-21T15:11:39.917Z"
      },
      {
        "duration": 10,
        "start_time": "2022-06-21T15:11:39.965Z"
      },
      {
        "duration": 10,
        "start_time": "2022-06-21T15:11:39.977Z"
      },
      {
        "duration": 23,
        "start_time": "2022-06-21T15:11:39.990Z"
      },
      {
        "duration": 24,
        "start_time": "2022-06-21T15:11:40.026Z"
      },
      {
        "duration": 20,
        "start_time": "2022-06-21T15:11:40.051Z"
      },
      {
        "duration": 8,
        "start_time": "2022-06-21T15:11:40.073Z"
      },
      {
        "duration": 12,
        "start_time": "2022-06-21T15:11:40.083Z"
      },
      {
        "duration": 13,
        "start_time": "2022-06-21T15:11:40.097Z"
      },
      {
        "duration": 27,
        "start_time": "2022-06-21T15:11:40.111Z"
      },
      {
        "duration": 21,
        "start_time": "2022-06-21T15:11:40.141Z"
      },
      {
        "duration": 24,
        "start_time": "2022-06-21T15:11:40.163Z"
      },
      {
        "duration": 8,
        "start_time": "2022-06-21T15:11:40.188Z"
      },
      {
        "duration": 40,
        "start_time": "2022-06-21T15:11:40.197Z"
      },
      {
        "duration": 36,
        "start_time": "2022-06-21T15:11:40.238Z"
      },
      {
        "duration": 7,
        "start_time": "2022-06-21T15:11:40.275Z"
      },
      {
        "duration": 9,
        "start_time": "2022-06-21T15:11:40.284Z"
      },
      {
        "duration": 50,
        "start_time": "2022-06-21T15:11:40.295Z"
      },
      {
        "duration": 28,
        "start_time": "2022-06-21T15:11:40.347Z"
      },
      {
        "duration": 37,
        "start_time": "2022-06-21T15:11:40.376Z"
      },
      {
        "duration": 47,
        "start_time": "2022-06-21T15:11:40.415Z"
      },
      {
        "duration": 63,
        "start_time": "2022-06-21T15:11:40.465Z"
      },
      {
        "duration": 39,
        "start_time": "2022-06-21T15:11:40.529Z"
      },
      {
        "duration": 40,
        "start_time": "2022-06-21T15:11:40.570Z"
      },
      {
        "duration": 6,
        "start_time": "2022-06-21T15:11:40.630Z"
      },
      {
        "duration": 85,
        "start_time": "2022-06-21T15:11:59.375Z"
      },
      {
        "duration": 7,
        "start_time": "2022-06-21T15:12:03.905Z"
      },
      {
        "duration": 481,
        "start_time": "2022-06-21T15:12:23.237Z"
      },
      {
        "duration": 26,
        "start_time": "2022-06-21T15:12:23.720Z"
      },
      {
        "duration": 17,
        "start_time": "2022-06-21T15:12:23.748Z"
      },
      {
        "duration": 11,
        "start_time": "2022-06-21T15:12:23.766Z"
      },
      {
        "duration": 58,
        "start_time": "2022-06-21T15:12:23.779Z"
      },
      {
        "duration": 4,
        "start_time": "2022-06-21T15:12:23.843Z"
      },
      {
        "duration": 26,
        "start_time": "2022-06-21T15:12:23.849Z"
      },
      {
        "duration": 14,
        "start_time": "2022-06-21T15:12:23.877Z"
      },
      {
        "duration": 17,
        "start_time": "2022-06-21T15:12:23.893Z"
      },
      {
        "duration": 5,
        "start_time": "2022-06-21T15:12:23.911Z"
      },
      {
        "duration": 67,
        "start_time": "2022-06-21T15:12:23.917Z"
      },
      {
        "duration": 11,
        "start_time": "2022-06-21T15:12:23.985Z"
      },
      {
        "duration": 14,
        "start_time": "2022-06-21T15:12:23.998Z"
      },
      {
        "duration": 35,
        "start_time": "2022-06-21T15:12:24.015Z"
      },
      {
        "duration": 47,
        "start_time": "2022-06-21T15:12:24.051Z"
      },
      {
        "duration": 25,
        "start_time": "2022-06-21T15:12:24.099Z"
      },
      {
        "duration": 43,
        "start_time": "2022-06-21T15:12:24.126Z"
      },
      {
        "duration": 53,
        "start_time": "2022-06-21T15:12:24.171Z"
      },
      {
        "duration": 38,
        "start_time": "2022-06-21T15:12:24.226Z"
      },
      {
        "duration": 18,
        "start_time": "2022-06-21T15:12:24.266Z"
      },
      {
        "duration": 56,
        "start_time": "2022-06-21T15:12:24.285Z"
      },
      {
        "duration": 6,
        "start_time": "2022-06-21T15:12:24.345Z"
      },
      {
        "duration": 8,
        "start_time": "2022-06-21T15:12:24.353Z"
      },
      {
        "duration": 31,
        "start_time": "2022-06-21T15:12:24.363Z"
      },
      {
        "duration": 42,
        "start_time": "2022-06-21T15:12:24.395Z"
      },
      {
        "duration": 8,
        "start_time": "2022-06-21T15:12:24.439Z"
      },
      {
        "duration": 9,
        "start_time": "2022-06-21T15:12:24.448Z"
      },
      {
        "duration": 35,
        "start_time": "2022-06-21T15:12:24.458Z"
      },
      {
        "duration": 48,
        "start_time": "2022-06-21T15:12:24.495Z"
      },
      {
        "duration": 38,
        "start_time": "2022-06-21T15:12:24.545Z"
      },
      {
        "duration": 51,
        "start_time": "2022-06-21T15:12:24.585Z"
      },
      {
        "duration": 38,
        "start_time": "2022-06-21T15:12:24.637Z"
      },
      {
        "duration": 28,
        "start_time": "2022-06-21T15:12:24.676Z"
      },
      {
        "duration": 58,
        "start_time": "2022-06-21T15:12:24.706Z"
      }
    ],
    "colab": {
      "provenance": []
    },
    "kernelspec": {
      "display_name": "Python 3 (ipykernel)",
      "language": "python",
      "name": "python3"
    },
    "language_info": {
      "codemirror_mode": {
        "name": "ipython",
        "version": 3
      },
      "file_extension": ".py",
      "mimetype": "text/x-python",
      "name": "python",
      "nbconvert_exporter": "python",
      "pygments_lexer": "ipython3",
      "version": "3.9.5"
    },
    "toc": {
      "base_numbering": 1,
      "nav_menu": {},
      "number_sections": true,
      "sideBar": true,
      "skip_h1_title": true,
      "title_cell": "Table of Contents",
      "title_sidebar": "Contents",
      "toc_cell": false,
      "toc_position": {},
      "toc_section_display": true,
      "toc_window_display": false
    }
  },
  "nbformat": 4,
  "nbformat_minor": 5
}
