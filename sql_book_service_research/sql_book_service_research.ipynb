{
 "cells": [
  {
   "cell_type": "markdown",
   "metadata": {
    "id": "jurR6iEKTnpZ"
   },
   "source": [
    "# The book-reading service research"
   ]
  },
  {
   "cell_type": "markdown",
   "metadata": {
    "id": "5DCXYHxFT5Fd"
   },
   "source": [
    "Our company decided to be on the wave and bought a large service for reading books by subscription. Our first job as an analyst is to analyze the database.\n",
    "It contains information about books, publishers, authors, as well as user reviews of books. This data will help formulate a value proposition for a new product."
   ]
  },
  {
   "cell_type": "markdown",
   "metadata": {
    "id": "Bisk1mdMY0Yy"
   },
   "source": [
    "## Importing Pandas and SQL"
   ]
  },
  {
   "cell_type": "code",
   "execution_count": 1,
   "metadata": {
    "id": "PGGV_zgcTWBZ"
   },
   "outputs": [],
   "source": [
    "import pandas as pd"
   ]
  },
  {
   "cell_type": "code",
   "execution_count": 2,
   "metadata": {
    "id": "nPHXDNCRXn3G"
   },
   "outputs": [],
   "source": [
    "from sqlalchemy import create_engine\n",
    "\n",
    "db_config = {'user': 'praktikum_student', \n",
    "'pwd': 'Sdf4$2;d-d30pp', \n",
    "'host': 'rc1b-wcoijxj3yxfsf3fs.mdb.yandexcloud.net',\n",
    "'port': 6432, \n",
    "'db': 'data-analyst-final-project-db'} \n",
    "connection_string = 'postgresql://{}:{}@{}:{}/{}'.format(db_config['user'],\n",
    " db_config['pwd'],\n",
    " db_config['host'],\n",
    " db_config['port'],\n",
    " db_config['db'])\n",
    "\n",
    "engine = create_engine(connection_string, connect_args={'sslmode':'require'}) "
   ]
  },
  {
   "cell_type": "markdown",
   "metadata": {
    "id": "mpw_CdBYZDc7"
   },
   "source": [
    "*We will check the work with simple queries, display the first rows of all tables*"
   ]
  },
  {
   "cell_type": "code",
   "execution_count": 3,
   "metadata": {
    "id": "brEayguGYrQF"
   },
   "outputs": [],
   "source": [
    "query = '''\n",
    "SELECT *\n",
    "FROM Books\n",
    "LIMIT 5;\n",
    "''' "
   ]
  },
  {
   "cell_type": "code",
   "execution_count": null,
   "metadata": {
    "colab": {
     "base_uri": "https://localhost:8080/",
     "height": 206
    },
    "id": "bMnM250nXqT_",
    "outputId": "722a2c98-9329-4e40-f7ed-3c83176f0142"
   },
   "outputs": [],
   "source": [
    "pd.io.sql.read_sql(query, con = engine) "
   ]
  },
  {
   "cell_type": "markdown",
   "metadata": {},
   "source": [
    "*With a separate query, we display the total number of table rows*\n"
   ]
  },
  {
   "cell_type": "code",
   "execution_count": null,
   "metadata": {},
   "outputs": [],
   "source": [
    "query = '''SELECT COUNT(1) FROM Books;''' "
   ]
  },
  {
   "cell_type": "code",
   "execution_count": null,
   "metadata": {},
   "outputs": [],
   "source": [
    "pd.io.sql.read_sql(query, con = engine) "
   ]
  },
  {
   "cell_type": "code",
   "execution_count": null,
   "metadata": {
    "id": "ZwP8c9vsapcE"
   },
   "outputs": [],
   "source": [
    "query = '''\n",
    "SELECT *\n",
    "FROM authors\n",
    "LIMIT 5\n",
    "''' "
   ]
  },
  {
   "cell_type": "code",
   "execution_count": null,
   "metadata": {
    "colab": {
     "base_uri": "https://localhost:8080/",
     "height": 206
    },
    "id": "AYqdu-_ra_Ap",
    "outputId": "7100e587-4984-4a1f-a7db-c3e5f6c0346e"
   },
   "outputs": [],
   "source": [
    "pd.io.sql.read_sql(query, con = engine)"
   ]
  },
  {
   "cell_type": "code",
   "execution_count": null,
   "metadata": {},
   "outputs": [],
   "source": [
    "query = '''SELECT COUNT(1) FROM authors;''' "
   ]
  },
  {
   "cell_type": "code",
   "execution_count": null,
   "metadata": {},
   "outputs": [],
   "source": [
    "pd.io.sql.read_sql(query, con = engine) "
   ]
  },
  {
   "cell_type": "code",
   "execution_count": null,
   "metadata": {
    "id": "OyGmL01AaPZH"
   },
   "outputs": [],
   "source": [
    "query = '''\n",
    "SELECT *\n",
    "FROM publishers\n",
    "LIMIT 5\n",
    "''' "
   ]
  },
  {
   "cell_type": "code",
   "execution_count": null,
   "metadata": {
    "colab": {
     "base_uri": "https://localhost:8080/",
     "height": 206
    },
    "id": "X3S1g-IxdXhN",
    "outputId": "a80acbc4-3a95-4fe0-e8f8-2e578cec5b40"
   },
   "outputs": [],
   "source": [
    "pd.io.sql.read_sql(query, con = engine)"
   ]
  },
  {
   "cell_type": "code",
   "execution_count": null,
   "metadata": {},
   "outputs": [],
   "source": [
    "query = '''SELECT COUNT(1) FROM publishers;''' "
   ]
  },
  {
   "cell_type": "code",
   "execution_count": null,
   "metadata": {},
   "outputs": [],
   "source": [
    "pd.io.sql.read_sql(query, con = engine) "
   ]
  },
  {
   "cell_type": "code",
   "execution_count": null,
   "metadata": {
    "id": "pW35gzpVb_z9"
   },
   "outputs": [],
   "source": [
    "\n",
    "query = '''\n",
    "SELECT *\n",
    "FROM reviews\n",
    "LIMIT 5\n",
    "''' "
   ]
  },
  {
   "cell_type": "code",
   "execution_count": null,
   "metadata": {
    "colab": {
     "base_uri": "https://localhost:8080/",
     "height": 206
    },
    "id": "VhLMm9qidc4G",
    "outputId": "724fb3e8-6fe7-4c0b-b4a8-6b01d9842506"
   },
   "outputs": [],
   "source": [
    "pd.io.sql.read_sql(query, con = engine)"
   ]
  },
  {
   "cell_type": "code",
   "execution_count": null,
   "metadata": {},
   "outputs": [],
   "source": [
    "query = '''SELECT COUNT(1) FROM reviews;''' "
   ]
  },
  {
   "cell_type": "code",
   "execution_count": null,
   "metadata": {},
   "outputs": [],
   "source": [
    "pd.io.sql.read_sql(query, con = engine) "
   ]
  },
  {
   "cell_type": "code",
   "execution_count": null,
   "metadata": {
    "id": "KKGTF6pfcNkb"
   },
   "outputs": [],
   "source": [
    "\n",
    "query = '''\n",
    "SELECT *\n",
    "FROM ratings\n",
    "LIMIT 5\n",
    "''' "
   ]
  },
  {
   "cell_type": "code",
   "execution_count": null,
   "metadata": {
    "colab": {
     "base_uri": "https://localhost:8080/",
     "height": 206
    },
    "id": "zdioE2Z1dh5a",
    "outputId": "86a43c24-63be-46aa-a6c1-e7c8ae07d14f"
   },
   "outputs": [],
   "source": [
    "pd.io.sql.read_sql(query, con = engine)"
   ]
  },
  {
   "cell_type": "code",
   "execution_count": null,
   "metadata": {},
   "outputs": [],
   "source": [
    "query = '''SELECT COUNT(1) FROM ratings;''' "
   ]
  },
  {
   "cell_type": "code",
   "execution_count": null,
   "metadata": {},
   "outputs": [],
   "source": [
    "pd.io.sql.read_sql(query, con = engine) "
   ]
  },
  {
   "cell_type": "markdown",
   "metadata": {
    "id": "k0wccYszWsbW"
   },
   "source": [
    "<p align=\"center\"><img src='https://concrete-web-bad.notion.site/image/https%3A%2F%2Fs3-us-west-2.amazonaws.com%2Fsecure.notion-static.com%2F069818d1-0e5c-4d87-a461-0de584ab9c33%2FUntitled_(33).png?table=block&id=bd53c8db-b4fd-49eb-8cc9-572ebb3c9163&spaceId=9e4bd47b-c6e6-4ca3-bcee-279794b47315&width=1640&userId=&cache=v2'></p>\n"
   ]
  },
  {
   "cell_type": "markdown",
   "metadata": {
    "id": "QAd9YFl0XP8x"
   },
   "source": [
    "### Description of data\n",
    "\n",
    "**Table `books`**\n",
    "\n",
    "Contains information about books:\n",
    "\n",
    "- `book_id` — book identifier;\n",
    "- `author_id` — author identifier;\n",
    "- `title` — title of the book;\n",
    "- `num_pages` - number of pages;\n",
    "- `publication_date` - publication date of the book;\n",
    "- `publisher_id` - publisher identifier.\n",
    "\n",
    "**The `authors` table**\n",
    "\n",
    "Contains information about the authors:\n",
    "\n",
    "- `author_id` — author identifier;\n",
    "- `author` is the name of the author.\n",
    "\n",
    "**Table `publishers`**\n",
    "\n",
    "Contains information about publishers:\n",
    "\n",
    "- `publisher_id` — publisher identifier;\n",
    "- `publisher` — publisher name;\n",
    "\n",
    "**Table `ratings`**\n",
    "\n",
    "Contains data about user ratings of books:\n",
    "\n",
    "- `rating_id` — rating identifier;\n",
    "- `book_id` — book identifier;\n",
    "- `username` - the name of the user who left the rating;\n",
    "- `rating` - rating of the book.\n",
    "\n",
    "**Table `reviews`**\n",
    "\n",
    "Contains data about user reviews of books:\n",
    "\n",
    "- `review_id` — review identifier;\n",
    "- `book_id` — book identifier;\n",
    "- `username` - the name of the user who wrote the review;\n",
    "- `text` — review text."
   ]
  },
  {
   "cell_type": "markdown",
   "metadata": {},
   "source": [
    "*Let's look at other tables in the database and what types of data are in the tables of interest to us*"
   ]
  },
  {
   "cell_type": "code",
   "execution_count": null,
   "metadata": {},
   "outputs": [],
   "source": [
    "\n",
    "display(pd.io.sql.read_sql('''\n",
    "\n",
    "SELECT *\n",
    "FROM pg_catalog.pg_tables\n",
    "WHERE schemaname != 'pg_catalog' AND\n",
    "      schemaname != 'information_schema';\n",
    "\n",
    "''', con = engine))\n",
    "\n",
    "\n",
    "display(pd.io.sql.read_sql('''\n",
    "SELECT \n",
    "    table_name, \n",
    "    column_name, \n",
    "    data_type, \n",
    "    is_nullable\n",
    "FROM INFORMATION_SCHEMA.COLUMNS \n",
    "WHERE table_name IN ('books', 'authors', 'publishers', 'ratings', 'reviews');\n",
    "''', con = engine))"
   ]
  },
  {
   "cell_type": "markdown",
   "metadata": {
    "id": "JaDR76OoZWJH"
   },
   "source": [
    "## Research"
   ]
  },
  {
   "cell_type": "markdown",
   "metadata": {
    "id": "wG_PBUo8aQFl"
   },
   "source": [
    "### Let's count how many books came out after January 1, 2000;\n"
   ]
  },
  {
   "cell_type": "code",
   "execution_count": null,
   "metadata": {
    "id": "mYUkvxw7eAoR"
   },
   "outputs": [],
   "source": [
    "query = '''\n",
    "SELECT COUNT (*)\n",
    "FROM books\n",
    "WHERE publication_date >=  '2000-01-01'\n",
    "''' "
   ]
  },
  {
   "cell_type": "code",
   "execution_count": null,
   "metadata": {
    "colab": {
     "base_uri": "https://localhost:8080/",
     "height": 81
    },
    "id": "0vQB2IOLf5Mj",
    "outputId": "465a50d4-2ff9-4f09-f9f2-d88a884bd4cd"
   },
   "outputs": [],
   "source": [
    "pd.io.sql.read_sql(query, con = engine)"
   ]
  },
  {
   "cell_type": "markdown",
   "metadata": {
    "id": "-6mx-3KCibQb"
   },
   "source": [
    "*Since January 1, 2000, 821 books have been published*"
   ]
  },
  {
   "cell_type": "markdown",
   "metadata": {
    "id": "tBhrBkA9irPk"
   },
   "source": [
    "### For each book, we will calculate the number of reviews and the average rating;"
   ]
  },
  {
   "cell_type": "code",
   "execution_count": null,
   "metadata": {
    "id": "EhkvI0DHi95d"
   },
   "outputs": [],
   "source": [
    "query = '''\n",
    "WITH rat AS \n",
    "(SELECT book_id,\n",
    "ROUND (AVG (rating), 3) AS average_rating\n",
    "FROM ratings\n",
    "GROUP BY book_id),\n",
    "rew AS \n",
    "(SELECT book_id,\n",
    "COUNT (DISTINCT review_id) AS review_number\n",
    "FROM reviews\n",
    "GROUP BY book_id)\n",
    "\n",
    "SELECT b.title,\n",
    "       a.author,\n",
    "        rat.average_rating,\n",
    "        rew.review_number\n",
    "       \n",
    "FROM books as b \n",
    "LEFT JOIN rat ON b.book_id = rat.book_id\n",
    "LEFT JOIN rew ON b.book_id = rew.book_id\n",
    "LEFT JOIN authors a ON  a.author_id = b.author_id\n",
    "ORDER BY average_rating DESC, review_number DESC\n",
    "Limit 10\n",
    "''' "
   ]
  },
  {
   "cell_type": "code",
   "execution_count": null,
   "metadata": {
    "colab": {
     "base_uri": "https://localhost:8080/",
     "height": 363
    },
    "id": "hsneexnboCu1",
    "outputId": "441a1cf8-ded5-48d4-d4f8-1e4d9d43ea0c"
   },
   "outputs": [],
   "source": [
    "pd.io.sql.read_sql(query, con = engine)"
   ]
  },
  {
   "cell_type": "markdown",
   "metadata": {
    "id": "fdpqX7IhsXde"
   },
   "source": [
    "*Мы получили топ-10 Самых популярных книг в нашем сервисе*"
   ]
  },
  {
   "cell_type": "markdown",
   "metadata": {
    "id": "5sNbsVfss87l"
   },
   "source": [
    "### Let's determine the publisher has released the largest number of books"
   ]
  },
  {
   "cell_type": "markdown",
   "metadata": {
    "id": "C_ssd8S0tJqn"
   },
   "source": [
    "We will take only books thicker than 50 pages - exclude brochures from the analysis"
   ]
  },
  {
   "cell_type": "code",
   "execution_count": null,
   "metadata": {
    "id": "7Q1aKwrvtYu-"
   },
   "outputs": [],
   "source": [
    "query = '''\n",
    "WITH big AS\n",
    "(SELECT book_id,\n",
    "publisher_id\n",
    "FROM books\n",
    "WHERE num_pages>50)\n",
    "\n",
    "SELECT p.publisher,\n",
    "COUNT (DISTINCT big.book_id) AS book_number\n",
    "FROM publishers p\n",
    "LEFT JOIN big ON p.publisher_id = big.publisher_id\n",
    "GROUP BY p.publisher\n",
    "ORDER BY book_number DESC\n",
    "Limit 10\n",
    "''' "
   ]
  },
  {
   "cell_type": "code",
   "execution_count": null,
   "metadata": {
    "colab": {
     "base_uri": "https://localhost:8080/",
     "height": 363
    },
    "id": "kGcd6XJSx4kq",
    "outputId": "4d406f44-2567-49d8-f414-476f755183e0"
   },
   "outputs": [],
   "source": [
    "pd.io.sql.read_sql(query, con = engine)"
   ]
  },
  {
   "cell_type": "markdown",
   "metadata": {
    "id": "n2zJVntOyHtc"
   },
   "source": [
    "*Received the most prescriptive publishing houses*"
   ]
  },
  {
   "cell_type": "markdown",
   "metadata": {
    "id": "aNONnmigzk-U"
   },
   "source": [
    "### Let's determine the author with the highest average book rating"
   ]
  },
  {
   "cell_type": "markdown",
   "metadata": {
    "id": "jYy3Q0o10M4t"
   },
   "source": [
    "*We will take only books with 50 grades or more*"
   ]
  },
  {
   "cell_type": "code",
   "execution_count": null,
   "metadata": {
    "id": "XeHMiZYhyXzx"
   },
   "outputs": [],
   "source": [
    "query = '''\n",
    "SELECT a.author,\n",
    "AVG (r.rating) AS average_rating\n",
    "FROM authors a\n",
    "LEFT JOIN books b ON a.author_id = b.author_id\n",
    "LEFT JOIN ratings r ON b.book_id = r.book_id\n",
    "WHERE b.book_id in  (SELECT b.book_id\n",
    "                   FROM books b \n",
    "                   LEFT JOIN ratings r ON b.book_id = r.book_id \n",
    "                   GROUP BY b.book_id \n",
    "                   HAVING COUNT (DISTINCT r.rating_id) >=50)\n",
    "\n",
    "GROUP BY a.author\n",
    "ORDER BY average_rating DESC\n",
    "LIMIT 1\n",
    "''' "
   ]
  },
  {
   "cell_type": "code",
   "execution_count": null,
   "metadata": {
    "colab": {
     "base_uri": "https://localhost:8080/",
     "height": 81
    },
    "id": "If1BvNgU227u",
    "outputId": "65f2d8f9-105a-4bf2-a7e0-7e50d256d40d"
   },
   "outputs": [],
   "source": [
    "pd.io.sql.read_sql(query, con = engine)"
   ]
  },
  {
   "cell_type": "markdown",
   "metadata": {
    "id": "xmFblgQn6yuP"
   },
   "source": [
    "*Thus, the highest-rated author is Harry Potter author J.K. Rowling with illustrations by Mary GrandPré (average rating of their books 4.29)*"
   ]
  },
  {
   "cell_type": "markdown",
   "metadata": {
    "id": "iJreCbFh7bg3"
   },
   "source": [
    "### Let's calculate the average number of reviews from users"
   ]
  },
  {
   "cell_type": "markdown",
   "metadata": {
    "id": "pZhukDa58f2f"
   },
   "source": [
    "We will consider only users who have put in more than 50 grades."
   ]
  },
  {
   "cell_type": "code",
   "execution_count": null,
   "metadata": {
    "id": "2SFu48ZClMHF"
   },
   "outputs": [],
   "source": [
    "query = '''\n",
    "SELECT AVG (group_rev.review_number)\n",
    "FROM (SELECT username,\n",
    "      COUNT (DISTINCT review_id) AS review_number\n",
    "      FROM reviews\n",
    "      WHERE username in (SELECT username\n",
    "                         FROM ratings\n",
    "                         GROUP BY username\n",
    "                         HAVING COUNT (DISTINCT rating_id) >=50)\n",
    "      GROUP BY username) AS group_rev\n",
    "\n",
    "''' "
   ]
  },
  {
   "cell_type": "code",
   "execution_count": null,
   "metadata": {
    "colab": {
     "base_uri": "https://localhost:8080/",
     "height": 81
    },
    "id": "Ibccli3ulXY7",
    "outputId": "f9af7799-3df5-449a-97f3-ccc83ebcce07"
   },
   "outputs": [],
   "source": [
    "pd.io.sql.read_sql(query, con = engine)"
   ]
  },
  {
   "cell_type": "markdown",
   "metadata": {
    "id": "gwXe4YUZZ_Ln"
   },
   "source": [
    "*The active service users average write 24 reviews*"
   ]
  },
  {
   "cell_type": "markdown",
   "metadata": {
    "id": "nVI4Kx7Lb5ao"
   },
   "source": [
    "## **CONCLUSIONS**"
   ]
  },
  {
   "cell_type": "markdown",
   "metadata": {
    "id": "pECKILKWazvX"
   },
   "source": [
    "\n",
    "1. We examined the database of the book reading service.\n",
    "2. Got the most popular books to promote on promo.\n",
    "3. We found the most productive publishing houses for the convenience of buying rights to books.\n",
    "4. The most beloved Author was determined - JK Rowling.\n",
    "5. We found out how many reviews are written by active users on average - 24\n",
    "6. Find out how many books in our library have been published since January 1, 2001"
   ]
  }
 ],
 "metadata": {
  "ExecuteTimeLog": [
   {
    "duration": 438,
    "start_time": "2022-12-03T12:44:02.535Z"
   },
   {
    "duration": 8193,
    "start_time": "2022-12-03T12:44:02.975Z"
   },
   {
    "duration": 3,
    "start_time": "2022-12-03T12:44:11.170Z"
   },
   {
    "duration": 74,
    "start_time": "2022-12-03T12:44:11.174Z"
   },
   {
    "duration": 3,
    "start_time": "2022-12-03T12:44:11.250Z"
   },
   {
    "duration": 19,
    "start_time": "2022-12-03T12:44:11.254Z"
   },
   {
    "duration": 2,
    "start_time": "2022-12-03T12:44:11.275Z"
   },
   {
    "duration": 13,
    "start_time": "2022-12-03T12:44:11.279Z"
   },
   {
    "duration": 2,
    "start_time": "2022-12-03T12:44:11.294Z"
   },
   {
    "duration": 14,
    "start_time": "2022-12-03T12:44:11.297Z"
   },
   {
    "duration": 3,
    "start_time": "2022-12-03T12:44:11.312Z"
   },
   {
    "duration": 12,
    "start_time": "2022-12-03T12:44:11.338Z"
   },
   {
    "duration": 35,
    "start_time": "2022-12-03T12:44:11.351Z"
   },
   {
    "duration": 3,
    "start_time": "2022-12-03T12:44:11.388Z"
   },
   {
    "duration": 18,
    "start_time": "2022-12-03T12:44:11.392Z"
   },
   {
    "duration": 2,
    "start_time": "2022-12-03T12:44:11.412Z"
   },
   {
    "duration": 31,
    "start_time": "2022-12-03T12:44:11.416Z"
   },
   {
    "duration": 21,
    "start_time": "2022-12-03T12:44:11.449Z"
   },
   {
    "duration": 34,
    "start_time": "2022-12-03T12:48:18.835Z"
   },
   {
    "duration": 166,
    "start_time": "2022-12-03T12:48:30.678Z"
   },
   {
    "duration": 27,
    "start_time": "2022-12-03T12:48:38.735Z"
   },
   {
    "duration": 452,
    "start_time": "2022-12-03T12:54:05.206Z"
   },
   {
    "duration": 8140,
    "start_time": "2022-12-03T12:54:05.660Z"
   },
   {
    "duration": 3,
    "start_time": "2022-12-03T12:54:13.801Z"
   },
   {
    "duration": 58,
    "start_time": "2022-12-03T12:54:13.805Z"
   },
   {
    "duration": 3,
    "start_time": "2022-12-03T12:54:13.865Z"
   },
   {
    "duration": 16,
    "start_time": "2022-12-03T12:54:13.870Z"
   },
   {
    "duration": 2,
    "start_time": "2022-12-03T12:54:13.888Z"
   },
   {
    "duration": 15,
    "start_time": "2022-12-03T12:54:13.892Z"
   },
   {
    "duration": 2,
    "start_time": "2022-12-03T12:54:13.909Z"
   },
   {
    "duration": 23,
    "start_time": "2022-12-03T12:54:13.914Z"
   },
   {
    "duration": 2,
    "start_time": "2022-12-03T12:54:13.939Z"
   },
   {
    "duration": 15,
    "start_time": "2022-12-03T12:54:13.943Z"
   },
   {
    "duration": 29,
    "start_time": "2022-12-03T12:54:13.959Z"
   },
   {
    "duration": 3,
    "start_time": "2022-12-03T12:54:13.989Z"
   },
   {
    "duration": 28,
    "start_time": "2022-12-03T12:54:13.993Z"
   },
   {
    "duration": 4,
    "start_time": "2022-12-03T12:54:14.023Z"
   },
   {
    "duration": 25,
    "start_time": "2022-12-03T12:54:14.028Z"
   },
   {
    "duration": 2,
    "start_time": "2022-12-03T12:54:14.054Z"
   },
   {
    "duration": 15,
    "start_time": "2022-12-03T12:54:14.058Z"
   },
   {
    "duration": 2,
    "start_time": "2022-12-03T12:54:14.075Z"
   },
   {
    "duration": 17,
    "start_time": "2022-12-03T12:54:14.079Z"
   },
   {
    "duration": 2,
    "start_time": "2022-12-03T12:54:14.098Z"
   },
   {
    "duration": 17,
    "start_time": "2022-12-03T12:54:14.101Z"
   }
  ],
  "colab": {
   "provenance": []
  },
  "kernelspec": {
   "display_name": "Python 3 (ipykernel)",
   "language": "python",
   "name": "python3"
  },
  "language_info": {
   "codemirror_mode": {
    "name": "ipython",
    "version": 3
   },
   "file_extension": ".py",
   "mimetype": "text/x-python",
   "name": "python",
   "nbconvert_exporter": "python",
   "pygments_lexer": "ipython3",
   "version": "3.9.13"
  },
  "toc": {
   "base_numbering": 1,
   "nav_menu": {},
   "number_sections": true,
   "sideBar": true,
   "skip_h1_title": true,
   "title_cell": "Table of Contents",
   "title_sidebar": "Contents",
   "toc_cell": false,
   "toc_position": {},
   "toc_section_display": true,
   "toc_window_display": false
  }
 },
 "nbformat": 4,
 "nbformat_minor": 1
}
