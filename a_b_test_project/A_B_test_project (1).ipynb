{
  "cells": [
    {
      "cell_type": "markdown",
      "metadata": {
        "id": "KQ21H1QTRpWi"
      },
      "source": [
        "# Conducting and Analysis of an A/B Test"
      ]
    },
    {
      "cell_type": "markdown",
      "metadata": {
        "id": "LTKNMzmfRpWi"
      },
      "source": [
        "**Description of the project**\n",
        "\n",
        "For a large online store, there are several possible points of growth and revenue increase. In collaboration with the marketing department, several hypotheses were selected about the potential development of the resource and the growth of revenue, and the increase in business metrics.\n",
        "\n",
        "The aim of the project: To prioritize hypotheses and choose the most appropriate hypothesis for conducting an A/B test.\n",
        "\n",
        "After the A / B - test, it is necessary to conduct a statistical hypothesis test and decide whether to confirm or accept an alternative hypothesis."
      ]
    },
    {
      "cell_type": "markdown",
      "metadata": {
        "id": "KZ3EO5OrRpWj"
      },
      "source": [
        "**Project Structure**\n",
        "1. Prioritization of hypotheses<br/>\n",
        "<br/>\n",
        "- Check the data frame with hypotheses using the ICE framework <br/>\n",
        "- Check the data frame with hypotheses using the RICE framework <br/>\n",
        "- Let's choose the highest priority hypothesis <br/>\n",
        "2. A/B test analysis:<br/>\n",
        "- Analysis of the average bill in groups<br/>\n",
        "- Analysis of revenue in groups<br/>\n",
        "- Analysis of conversion in groups<br/>\n",
        "- Search for anomalies in the data frame<br/>\n",
        "- Calculation of statistical significance from raw data<br/>\n",
        "- Calculation of statistical significance from filtered data<br/>\n",
        "3. Conclusions about the test results"
      ]
    },
    {
      "cell_type": "markdown",
      "metadata": {
        "id": "MrYB0DxRRpWj"
      },
      "source": [
        "## Приоритизация гипотез"
      ]
    },
    {
      "cell_type": "markdown",
      "metadata": {
        "id": "KJvrPZ2ZRpWk"
      },
      "source": [
        "*Calling the libraries we need*"
      ]
    },
    {
      "cell_type": "code",
      "execution_count": 1,
      "metadata": {
        "id": "-FmjdtYGRpWl"
      },
      "outputs": [],
      "source": [
        "import pandas as pd\n",
        "import seaborn as sns\n",
        "import matplotlib.pyplot as plt\n",
        "import numpy as np \n",
        "from scipy import stats as st\n",
        "import math as mt\n",
        "import datetime as dt\n",
        "from pandas.plotting import register_matplotlib_converters\n",
        "import warnings\n",
        "from matplotlib.pyplot import figure"
      ]
    },
    {
      "cell_type": "markdown",
      "metadata": {
        "id": "bzc9tAE3RpWm"
      },
      "source": [
        "*Let's consider the dataset with hypotheses*"
      ]
    },
    {
      "cell_type": "code",
      "source": [
        "from google.colab import drive\n",
        "drive.mount('/content/drive')"
      ],
      "metadata": {
        "colab": {
          "base_uri": "https://localhost:8080/"
        },
        "id": "5GSOWOL9yY7f",
        "outputId": "1cf1dd71-540e-4487-da87-9f4b7ca3712f"
      },
      "execution_count": 2,
      "outputs": [
        {
          "output_type": "stream",
          "name": "stdout",
          "text": [
            "Drive already mounted at /content/drive; to attempt to forcibly remount, call drive.mount(\"/content/drive\", force_remount=True).\n"
          ]
        }
      ]
    },
    {
      "cell_type": "code",
      "execution_count": 3,
      "metadata": {
        "id": "ZRDa9-hsRpWn"
      },
      "outputs": [],
      "source": [
        "data = pd.read_csv('/content/drive/MyDrive/dataf/hypothesis.csv')"
      ]
    },
    {
      "cell_type": "code",
      "execution_count": 4,
      "metadata": {
        "id": "6t9D2_IKRpWo"
      },
      "outputs": [],
      "source": [
        "pd.set_option('display.max_colwidth', None)"
      ]
    },
    {
      "cell_type": "code",
      "execution_count": 5,
      "metadata": {
        "colab": {
          "base_uri": "https://localhost:8080/",
          "height": 497
        },
        "id": "ZUwLLfBiRpWp",
        "outputId": "04e9fabd-796c-43eb-dfeb-230c4c1980ba"
      },
      "outputs": [
        {
          "output_type": "execute_result",
          "data": {
            "text/plain": [
              "                                                                                                     Hypothesis  \\\n",
              "0            Добавить два новых канала привлечения трафика, что позволит привлекать на 30% больше пользователей   \n",
              "1                                     Запустить собственную службу доставки, что сократит срок доставки заказов   \n",
              "2  Добавить блоки рекомендаций товаров на сайт интернет магазина, чтобы повысить конверсию и средний чек заказа   \n",
              "3           Изменить структура категорий, что увеличит конверсию, т.к. пользователи быстрее найдут нужный товар   \n",
              "4                              Изменить цвет фона главной страницы, чтобы увеличить вовлеченность пользователей   \n",
              "5                      Добавить страницу отзывов клиентов о магазине, что позволит увеличить количество заказов   \n",
              "6          Показать на главной странице баннеры с актуальными акциями и распродажами, чтобы увеличить конверсию   \n",
              "7              Добавить форму подписки на все основные страницы, чтобы собрать базу клиентов для email-рассылок   \n",
              "8                                                       Запустить акцию, дающую скидку на товар в день рождения   \n",
              "\n",
              "   Reach  Impact  Confidence  Efforts  \n",
              "0      3      10           8        6  \n",
              "1      2       5           4       10  \n",
              "2      8       3           7        3  \n",
              "3      8       3           3        8  \n",
              "4      3       1           1        1  \n",
              "5      3       2           2        3  \n",
              "6      5       3           8        3  \n",
              "7     10       7           8        5  \n",
              "8      1       9           9        5  "
            ],
            "text/html": [
              "\n",
              "  <div id=\"df-82c01371-2d43-4005-a161-cd49acbca16d\">\n",
              "    <div class=\"colab-df-container\">\n",
              "      <div>\n",
              "<style scoped>\n",
              "    .dataframe tbody tr th:only-of-type {\n",
              "        vertical-align: middle;\n",
              "    }\n",
              "\n",
              "    .dataframe tbody tr th {\n",
              "        vertical-align: top;\n",
              "    }\n",
              "\n",
              "    .dataframe thead th {\n",
              "        text-align: right;\n",
              "    }\n",
              "</style>\n",
              "<table border=\"1\" class=\"dataframe\">\n",
              "  <thead>\n",
              "    <tr style=\"text-align: right;\">\n",
              "      <th></th>\n",
              "      <th>Hypothesis</th>\n",
              "      <th>Reach</th>\n",
              "      <th>Impact</th>\n",
              "      <th>Confidence</th>\n",
              "      <th>Efforts</th>\n",
              "    </tr>\n",
              "  </thead>\n",
              "  <tbody>\n",
              "    <tr>\n",
              "      <th>0</th>\n",
              "      <td>Добавить два новых канала привлечения трафика, что позволит привлекать на 30% больше пользователей</td>\n",
              "      <td>3</td>\n",
              "      <td>10</td>\n",
              "      <td>8</td>\n",
              "      <td>6</td>\n",
              "    </tr>\n",
              "    <tr>\n",
              "      <th>1</th>\n",
              "      <td>Запустить собственную службу доставки, что сократит срок доставки заказов</td>\n",
              "      <td>2</td>\n",
              "      <td>5</td>\n",
              "      <td>4</td>\n",
              "      <td>10</td>\n",
              "    </tr>\n",
              "    <tr>\n",
              "      <th>2</th>\n",
              "      <td>Добавить блоки рекомендаций товаров на сайт интернет магазина, чтобы повысить конверсию и средний чек заказа</td>\n",
              "      <td>8</td>\n",
              "      <td>3</td>\n",
              "      <td>7</td>\n",
              "      <td>3</td>\n",
              "    </tr>\n",
              "    <tr>\n",
              "      <th>3</th>\n",
              "      <td>Изменить структура категорий, что увеличит конверсию, т.к. пользователи быстрее найдут нужный товар</td>\n",
              "      <td>8</td>\n",
              "      <td>3</td>\n",
              "      <td>3</td>\n",
              "      <td>8</td>\n",
              "    </tr>\n",
              "    <tr>\n",
              "      <th>4</th>\n",
              "      <td>Изменить цвет фона главной страницы, чтобы увеличить вовлеченность пользователей</td>\n",
              "      <td>3</td>\n",
              "      <td>1</td>\n",
              "      <td>1</td>\n",
              "      <td>1</td>\n",
              "    </tr>\n",
              "    <tr>\n",
              "      <th>5</th>\n",
              "      <td>Добавить страницу отзывов клиентов о магазине, что позволит увеличить количество заказов</td>\n",
              "      <td>3</td>\n",
              "      <td>2</td>\n",
              "      <td>2</td>\n",
              "      <td>3</td>\n",
              "    </tr>\n",
              "    <tr>\n",
              "      <th>6</th>\n",
              "      <td>Показать на главной странице баннеры с актуальными акциями и распродажами, чтобы увеличить конверсию</td>\n",
              "      <td>5</td>\n",
              "      <td>3</td>\n",
              "      <td>8</td>\n",
              "      <td>3</td>\n",
              "    </tr>\n",
              "    <tr>\n",
              "      <th>7</th>\n",
              "      <td>Добавить форму подписки на все основные страницы, чтобы собрать базу клиентов для email-рассылок</td>\n",
              "      <td>10</td>\n",
              "      <td>7</td>\n",
              "      <td>8</td>\n",
              "      <td>5</td>\n",
              "    </tr>\n",
              "    <tr>\n",
              "      <th>8</th>\n",
              "      <td>Запустить акцию, дающую скидку на товар в день рождения</td>\n",
              "      <td>1</td>\n",
              "      <td>9</td>\n",
              "      <td>9</td>\n",
              "      <td>5</td>\n",
              "    </tr>\n",
              "  </tbody>\n",
              "</table>\n",
              "</div>\n",
              "      <button class=\"colab-df-convert\" onclick=\"convertToInteractive('df-82c01371-2d43-4005-a161-cd49acbca16d')\"\n",
              "              title=\"Convert this dataframe to an interactive table.\"\n",
              "              style=\"display:none;\">\n",
              "        \n",
              "  <svg xmlns=\"http://www.w3.org/2000/svg\" height=\"24px\"viewBox=\"0 0 24 24\"\n",
              "       width=\"24px\">\n",
              "    <path d=\"M0 0h24v24H0V0z\" fill=\"none\"/>\n",
              "    <path d=\"M18.56 5.44l.94 2.06.94-2.06 2.06-.94-2.06-.94-.94-2.06-.94 2.06-2.06.94zm-11 1L8.5 8.5l.94-2.06 2.06-.94-2.06-.94L8.5 2.5l-.94 2.06-2.06.94zm10 10l.94 2.06.94-2.06 2.06-.94-2.06-.94-.94-2.06-.94 2.06-2.06.94z\"/><path d=\"M17.41 7.96l-1.37-1.37c-.4-.4-.92-.59-1.43-.59-.52 0-1.04.2-1.43.59L10.3 9.45l-7.72 7.72c-.78.78-.78 2.05 0 2.83L4 21.41c.39.39.9.59 1.41.59.51 0 1.02-.2 1.41-.59l7.78-7.78 2.81-2.81c.8-.78.8-2.07 0-2.86zM5.41 20L4 18.59l7.72-7.72 1.47 1.35L5.41 20z\"/>\n",
              "  </svg>\n",
              "      </button>\n",
              "      \n",
              "  <style>\n",
              "    .colab-df-container {\n",
              "      display:flex;\n",
              "      flex-wrap:wrap;\n",
              "      gap: 12px;\n",
              "    }\n",
              "\n",
              "    .colab-df-convert {\n",
              "      background-color: #E8F0FE;\n",
              "      border: none;\n",
              "      border-radius: 50%;\n",
              "      cursor: pointer;\n",
              "      display: none;\n",
              "      fill: #1967D2;\n",
              "      height: 32px;\n",
              "      padding: 0 0 0 0;\n",
              "      width: 32px;\n",
              "    }\n",
              "\n",
              "    .colab-df-convert:hover {\n",
              "      background-color: #E2EBFA;\n",
              "      box-shadow: 0px 1px 2px rgba(60, 64, 67, 0.3), 0px 1px 3px 1px rgba(60, 64, 67, 0.15);\n",
              "      fill: #174EA6;\n",
              "    }\n",
              "\n",
              "    [theme=dark] .colab-df-convert {\n",
              "      background-color: #3B4455;\n",
              "      fill: #D2E3FC;\n",
              "    }\n",
              "\n",
              "    [theme=dark] .colab-df-convert:hover {\n",
              "      background-color: #434B5C;\n",
              "      box-shadow: 0px 1px 3px 1px rgba(0, 0, 0, 0.15);\n",
              "      filter: drop-shadow(0px 1px 2px rgba(0, 0, 0, 0.3));\n",
              "      fill: #FFFFFF;\n",
              "    }\n",
              "  </style>\n",
              "\n",
              "      <script>\n",
              "        const buttonEl =\n",
              "          document.querySelector('#df-82c01371-2d43-4005-a161-cd49acbca16d button.colab-df-convert');\n",
              "        buttonEl.style.display =\n",
              "          google.colab.kernel.accessAllowed ? 'block' : 'none';\n",
              "\n",
              "        async function convertToInteractive(key) {\n",
              "          const element = document.querySelector('#df-82c01371-2d43-4005-a161-cd49acbca16d');\n",
              "          const dataTable =\n",
              "            await google.colab.kernel.invokeFunction('convertToInteractive',\n",
              "                                                     [key], {});\n",
              "          if (!dataTable) return;\n",
              "\n",
              "          const docLinkHtml = 'Like what you see? Visit the ' +\n",
              "            '<a target=\"_blank\" href=https://colab.research.google.com/notebooks/data_table.ipynb>data table notebook</a>'\n",
              "            + ' to learn more about interactive tables.';\n",
              "          element.innerHTML = '';\n",
              "          dataTable['output_type'] = 'display_data';\n",
              "          await google.colab.output.renderOutput(dataTable, element);\n",
              "          const docLink = document.createElement('div');\n",
              "          docLink.innerHTML = docLinkHtml;\n",
              "          element.appendChild(docLink);\n",
              "        }\n",
              "      </script>\n",
              "    </div>\n",
              "  </div>\n",
              "  "
            ]
          },
          "metadata": {},
          "execution_count": 5
        }
      ],
      "source": [
        "data"
      ]
    },
    {
      "cell_type": "markdown",
      "metadata": {
        "id": "5iJSzeDmRpWq"
      },
      "source": [
        "**Dataframe content**\n",
        "Hypothesis - a brief description of the hypothesis;<br/>\n",
        "Reach — reach of users on a 10-point scale;<br/>\n",
        "Impact - impact on users on a 10-point scale;<br/>\n",
        "Confidence - confidence in the hypothesis on a 10-point scale;<br/>\n",
        "Efforts - the cost of resources to test the hypothesis on a 10-point scale. The larger the Efforts value, the more expensive it is to test the hypothesis."
      ]
    },
    {
      "cell_type": "markdown",
      "metadata": {
        "id": "NH95wKLXRpWr"
      },
      "source": [
        "*Let's convert the column names to lowercase*"
      ]
    },
    {
      "cell_type": "code",
      "execution_count": 6,
      "metadata": {
        "id": "XZypcnurRpWr"
      },
      "outputs": [],
      "source": [
        "data.columns = data.columns.str.lower()"
      ]
    },
    {
      "cell_type": "code",
      "execution_count": 7,
      "metadata": {
        "colab": {
          "base_uri": "https://localhost:8080/",
          "height": 320
        },
        "id": "BMWXCzHHRpWr",
        "outputId": "d8bbf458-0230-48dd-eecc-c7c1bd6d6d6b"
      },
      "outputs": [
        {
          "output_type": "execute_result",
          "data": {
            "text/plain": [
              "                                                                                                     hypothesis  \\\n",
              "0            Добавить два новых канала привлечения трафика, что позволит привлекать на 30% больше пользователей   \n",
              "1                                     Запустить собственную службу доставки, что сократит срок доставки заказов   \n",
              "2  Добавить блоки рекомендаций товаров на сайт интернет магазина, чтобы повысить конверсию и средний чек заказа   \n",
              "3           Изменить структура категорий, что увеличит конверсию, т.к. пользователи быстрее найдут нужный товар   \n",
              "4                              Изменить цвет фона главной страницы, чтобы увеличить вовлеченность пользователей   \n",
              "\n",
              "   reach  impact  confidence  efforts  \n",
              "0      3      10           8        6  \n",
              "1      2       5           4       10  \n",
              "2      8       3           7        3  \n",
              "3      8       3           3        8  \n",
              "4      3       1           1        1  "
            ],
            "text/html": [
              "\n",
              "  <div id=\"df-dc59ca92-d47b-4ba2-ae57-3723f5163dda\">\n",
              "    <div class=\"colab-df-container\">\n",
              "      <div>\n",
              "<style scoped>\n",
              "    .dataframe tbody tr th:only-of-type {\n",
              "        vertical-align: middle;\n",
              "    }\n",
              "\n",
              "    .dataframe tbody tr th {\n",
              "        vertical-align: top;\n",
              "    }\n",
              "\n",
              "    .dataframe thead th {\n",
              "        text-align: right;\n",
              "    }\n",
              "</style>\n",
              "<table border=\"1\" class=\"dataframe\">\n",
              "  <thead>\n",
              "    <tr style=\"text-align: right;\">\n",
              "      <th></th>\n",
              "      <th>hypothesis</th>\n",
              "      <th>reach</th>\n",
              "      <th>impact</th>\n",
              "      <th>confidence</th>\n",
              "      <th>efforts</th>\n",
              "    </tr>\n",
              "  </thead>\n",
              "  <tbody>\n",
              "    <tr>\n",
              "      <th>0</th>\n",
              "      <td>Добавить два новых канала привлечения трафика, что позволит привлекать на 30% больше пользователей</td>\n",
              "      <td>3</td>\n",
              "      <td>10</td>\n",
              "      <td>8</td>\n",
              "      <td>6</td>\n",
              "    </tr>\n",
              "    <tr>\n",
              "      <th>1</th>\n",
              "      <td>Запустить собственную службу доставки, что сократит срок доставки заказов</td>\n",
              "      <td>2</td>\n",
              "      <td>5</td>\n",
              "      <td>4</td>\n",
              "      <td>10</td>\n",
              "    </tr>\n",
              "    <tr>\n",
              "      <th>2</th>\n",
              "      <td>Добавить блоки рекомендаций товаров на сайт интернет магазина, чтобы повысить конверсию и средний чек заказа</td>\n",
              "      <td>8</td>\n",
              "      <td>3</td>\n",
              "      <td>7</td>\n",
              "      <td>3</td>\n",
              "    </tr>\n",
              "    <tr>\n",
              "      <th>3</th>\n",
              "      <td>Изменить структура категорий, что увеличит конверсию, т.к. пользователи быстрее найдут нужный товар</td>\n",
              "      <td>8</td>\n",
              "      <td>3</td>\n",
              "      <td>3</td>\n",
              "      <td>8</td>\n",
              "    </tr>\n",
              "    <tr>\n",
              "      <th>4</th>\n",
              "      <td>Изменить цвет фона главной страницы, чтобы увеличить вовлеченность пользователей</td>\n",
              "      <td>3</td>\n",
              "      <td>1</td>\n",
              "      <td>1</td>\n",
              "      <td>1</td>\n",
              "    </tr>\n",
              "  </tbody>\n",
              "</table>\n",
              "</div>\n",
              "      <button class=\"colab-df-convert\" onclick=\"convertToInteractive('df-dc59ca92-d47b-4ba2-ae57-3723f5163dda')\"\n",
              "              title=\"Convert this dataframe to an interactive table.\"\n",
              "              style=\"display:none;\">\n",
              "        \n",
              "  <svg xmlns=\"http://www.w3.org/2000/svg\" height=\"24px\"viewBox=\"0 0 24 24\"\n",
              "       width=\"24px\">\n",
              "    <path d=\"M0 0h24v24H0V0z\" fill=\"none\"/>\n",
              "    <path d=\"M18.56 5.44l.94 2.06.94-2.06 2.06-.94-2.06-.94-.94-2.06-.94 2.06-2.06.94zm-11 1L8.5 8.5l.94-2.06 2.06-.94-2.06-.94L8.5 2.5l-.94 2.06-2.06.94zm10 10l.94 2.06.94-2.06 2.06-.94-2.06-.94-.94-2.06-.94 2.06-2.06.94z\"/><path d=\"M17.41 7.96l-1.37-1.37c-.4-.4-.92-.59-1.43-.59-.52 0-1.04.2-1.43.59L10.3 9.45l-7.72 7.72c-.78.78-.78 2.05 0 2.83L4 21.41c.39.39.9.59 1.41.59.51 0 1.02-.2 1.41-.59l7.78-7.78 2.81-2.81c.8-.78.8-2.07 0-2.86zM5.41 20L4 18.59l7.72-7.72 1.47 1.35L5.41 20z\"/>\n",
              "  </svg>\n",
              "      </button>\n",
              "      \n",
              "  <style>\n",
              "    .colab-df-container {\n",
              "      display:flex;\n",
              "      flex-wrap:wrap;\n",
              "      gap: 12px;\n",
              "    }\n",
              "\n",
              "    .colab-df-convert {\n",
              "      background-color: #E8F0FE;\n",
              "      border: none;\n",
              "      border-radius: 50%;\n",
              "      cursor: pointer;\n",
              "      display: none;\n",
              "      fill: #1967D2;\n",
              "      height: 32px;\n",
              "      padding: 0 0 0 0;\n",
              "      width: 32px;\n",
              "    }\n",
              "\n",
              "    .colab-df-convert:hover {\n",
              "      background-color: #E2EBFA;\n",
              "      box-shadow: 0px 1px 2px rgba(60, 64, 67, 0.3), 0px 1px 3px 1px rgba(60, 64, 67, 0.15);\n",
              "      fill: #174EA6;\n",
              "    }\n",
              "\n",
              "    [theme=dark] .colab-df-convert {\n",
              "      background-color: #3B4455;\n",
              "      fill: #D2E3FC;\n",
              "    }\n",
              "\n",
              "    [theme=dark] .colab-df-convert:hover {\n",
              "      background-color: #434B5C;\n",
              "      box-shadow: 0px 1px 3px 1px rgba(0, 0, 0, 0.15);\n",
              "      filter: drop-shadow(0px 1px 2px rgba(0, 0, 0, 0.3));\n",
              "      fill: #FFFFFF;\n",
              "    }\n",
              "  </style>\n",
              "\n",
              "      <script>\n",
              "        const buttonEl =\n",
              "          document.querySelector('#df-dc59ca92-d47b-4ba2-ae57-3723f5163dda button.colab-df-convert');\n",
              "        buttonEl.style.display =\n",
              "          google.colab.kernel.accessAllowed ? 'block' : 'none';\n",
              "\n",
              "        async function convertToInteractive(key) {\n",
              "          const element = document.querySelector('#df-dc59ca92-d47b-4ba2-ae57-3723f5163dda');\n",
              "          const dataTable =\n",
              "            await google.colab.kernel.invokeFunction('convertToInteractive',\n",
              "                                                     [key], {});\n",
              "          if (!dataTable) return;\n",
              "\n",
              "          const docLinkHtml = 'Like what you see? Visit the ' +\n",
              "            '<a target=\"_blank\" href=https://colab.research.google.com/notebooks/data_table.ipynb>data table notebook</a>'\n",
              "            + ' to learn more about interactive tables.';\n",
              "          element.innerHTML = '';\n",
              "          dataTable['output_type'] = 'display_data';\n",
              "          await google.colab.output.renderOutput(dataTable, element);\n",
              "          const docLink = document.createElement('div');\n",
              "          docLink.innerHTML = docLinkHtml;\n",
              "          element.appendChild(docLink);\n",
              "        }\n",
              "      </script>\n",
              "    </div>\n",
              "  </div>\n",
              "  "
            ]
          },
          "metadata": {},
          "execution_count": 7
        }
      ],
      "source": [
        "data.head()"
      ]
    },
    {
      "cell_type": "markdown",
      "metadata": {
        "id": "tpblTw6VRpWs"
      },
      "source": [
        "*Let's prioritize hypotheses. Let's use the ICE framework to prioritize hypotheses. After we will sort them in descending order of priority.* "
      ]
    },
    {
      "cell_type": "markdown",
      "metadata": {
        "id": "Z-rv3KKsRpWs"
      },
      "source": [
        "![Image (12).png](data:image/png;base64,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)"
      ]
    },
    {
      "cell_type": "code",
      "execution_count": 8,
      "metadata": {
        "colab": {
          "base_uri": "https://localhost:8080/",
          "height": 428
        },
        "id": "YXVm0lDKRpWs",
        "outputId": "70cc9097-b232-4f02-fef0-2758fe9dbf28"
      },
      "outputs": [
        {
          "output_type": "display_data",
          "data": {
            "text/plain": [
              "                                                                                                     hypothesis  \\\n",
              "8                                                       Запустить акцию, дающую скидку на товар в день рождения   \n",
              "0            Добавить два новых канала привлечения трафика, что позволит привлекать на 30% больше пользователей   \n",
              "7              Добавить форму подписки на все основные страницы, чтобы собрать базу клиентов для email-рассылок   \n",
              "6          Показать на главной странице баннеры с актуальными акциями и распродажами, чтобы увеличить конверсию   \n",
              "2  Добавить блоки рекомендаций товаров на сайт интернет магазина, чтобы повысить конверсию и средний чек заказа   \n",
              "1                                     Запустить собственную службу доставки, что сократит срок доставки заказов   \n",
              "5                      Добавить страницу отзывов клиентов о магазине, что позволит увеличить количество заказов   \n",
              "3           Изменить структура категорий, что увеличит конверсию, т.к. пользователи быстрее найдут нужный товар   \n",
              "4                              Изменить цвет фона главной страницы, чтобы увеличить вовлеченность пользователей   \n",
              "\n",
              "         ICE  \n",
              "8  16.200000  \n",
              "0  13.333333  \n",
              "7  11.200000  \n",
              "6   8.000000  \n",
              "2   7.000000  \n",
              "1   2.000000  \n",
              "5   1.333333  \n",
              "3   1.125000  \n",
              "4   1.000000  "
            ],
            "text/html": [
              "\n",
              "  <div id=\"df-39c90c53-d044-433e-9187-9333385009a4\">\n",
              "    <div class=\"colab-df-container\">\n",
              "      <div>\n",
              "<style scoped>\n",
              "    .dataframe tbody tr th:only-of-type {\n",
              "        vertical-align: middle;\n",
              "    }\n",
              "\n",
              "    .dataframe tbody tr th {\n",
              "        vertical-align: top;\n",
              "    }\n",
              "\n",
              "    .dataframe thead th {\n",
              "        text-align: right;\n",
              "    }\n",
              "</style>\n",
              "<table border=\"1\" class=\"dataframe\">\n",
              "  <thead>\n",
              "    <tr style=\"text-align: right;\">\n",
              "      <th></th>\n",
              "      <th>hypothesis</th>\n",
              "      <th>ICE</th>\n",
              "    </tr>\n",
              "  </thead>\n",
              "  <tbody>\n",
              "    <tr>\n",
              "      <th>8</th>\n",
              "      <td>Запустить акцию, дающую скидку на товар в день рождения</td>\n",
              "      <td>16.200000</td>\n",
              "    </tr>\n",
              "    <tr>\n",
              "      <th>0</th>\n",
              "      <td>Добавить два новых канала привлечения трафика, что позволит привлекать на 30% больше пользователей</td>\n",
              "      <td>13.333333</td>\n",
              "    </tr>\n",
              "    <tr>\n",
              "      <th>7</th>\n",
              "      <td>Добавить форму подписки на все основные страницы, чтобы собрать базу клиентов для email-рассылок</td>\n",
              "      <td>11.200000</td>\n",
              "    </tr>\n",
              "    <tr>\n",
              "      <th>6</th>\n",
              "      <td>Показать на главной странице баннеры с актуальными акциями и распродажами, чтобы увеличить конверсию</td>\n",
              "      <td>8.000000</td>\n",
              "    </tr>\n",
              "    <tr>\n",
              "      <th>2</th>\n",
              "      <td>Добавить блоки рекомендаций товаров на сайт интернет магазина, чтобы повысить конверсию и средний чек заказа</td>\n",
              "      <td>7.000000</td>\n",
              "    </tr>\n",
              "    <tr>\n",
              "      <th>1</th>\n",
              "      <td>Запустить собственную службу доставки, что сократит срок доставки заказов</td>\n",
              "      <td>2.000000</td>\n",
              "    </tr>\n",
              "    <tr>\n",
              "      <th>5</th>\n",
              "      <td>Добавить страницу отзывов клиентов о магазине, что позволит увеличить количество заказов</td>\n",
              "      <td>1.333333</td>\n",
              "    </tr>\n",
              "    <tr>\n",
              "      <th>3</th>\n",
              "      <td>Изменить структура категорий, что увеличит конверсию, т.к. пользователи быстрее найдут нужный товар</td>\n",
              "      <td>1.125000</td>\n",
              "    </tr>\n",
              "    <tr>\n",
              "      <th>4</th>\n",
              "      <td>Изменить цвет фона главной страницы, чтобы увеличить вовлеченность пользователей</td>\n",
              "      <td>1.000000</td>\n",
              "    </tr>\n",
              "  </tbody>\n",
              "</table>\n",
              "</div>\n",
              "      <button class=\"colab-df-convert\" onclick=\"convertToInteractive('df-39c90c53-d044-433e-9187-9333385009a4')\"\n",
              "              title=\"Convert this dataframe to an interactive table.\"\n",
              "              style=\"display:none;\">\n",
              "        \n",
              "  <svg xmlns=\"http://www.w3.org/2000/svg\" height=\"24px\"viewBox=\"0 0 24 24\"\n",
              "       width=\"24px\">\n",
              "    <path d=\"M0 0h24v24H0V0z\" fill=\"none\"/>\n",
              "    <path d=\"M18.56 5.44l.94 2.06.94-2.06 2.06-.94-2.06-.94-.94-2.06-.94 2.06-2.06.94zm-11 1L8.5 8.5l.94-2.06 2.06-.94-2.06-.94L8.5 2.5l-.94 2.06-2.06.94zm10 10l.94 2.06.94-2.06 2.06-.94-2.06-.94-.94-2.06-.94 2.06-2.06.94z\"/><path d=\"M17.41 7.96l-1.37-1.37c-.4-.4-.92-.59-1.43-.59-.52 0-1.04.2-1.43.59L10.3 9.45l-7.72 7.72c-.78.78-.78 2.05 0 2.83L4 21.41c.39.39.9.59 1.41.59.51 0 1.02-.2 1.41-.59l7.78-7.78 2.81-2.81c.8-.78.8-2.07 0-2.86zM5.41 20L4 18.59l7.72-7.72 1.47 1.35L5.41 20z\"/>\n",
              "  </svg>\n",
              "      </button>\n",
              "      \n",
              "  <style>\n",
              "    .colab-df-container {\n",
              "      display:flex;\n",
              "      flex-wrap:wrap;\n",
              "      gap: 12px;\n",
              "    }\n",
              "\n",
              "    .colab-df-convert {\n",
              "      background-color: #E8F0FE;\n",
              "      border: none;\n",
              "      border-radius: 50%;\n",
              "      cursor: pointer;\n",
              "      display: none;\n",
              "      fill: #1967D2;\n",
              "      height: 32px;\n",
              "      padding: 0 0 0 0;\n",
              "      width: 32px;\n",
              "    }\n",
              "\n",
              "    .colab-df-convert:hover {\n",
              "      background-color: #E2EBFA;\n",
              "      box-shadow: 0px 1px 2px rgba(60, 64, 67, 0.3), 0px 1px 3px 1px rgba(60, 64, 67, 0.15);\n",
              "      fill: #174EA6;\n",
              "    }\n",
              "\n",
              "    [theme=dark] .colab-df-convert {\n",
              "      background-color: #3B4455;\n",
              "      fill: #D2E3FC;\n",
              "    }\n",
              "\n",
              "    [theme=dark] .colab-df-convert:hover {\n",
              "      background-color: #434B5C;\n",
              "      box-shadow: 0px 1px 3px 1px rgba(0, 0, 0, 0.15);\n",
              "      filter: drop-shadow(0px 1px 2px rgba(0, 0, 0, 0.3));\n",
              "      fill: #FFFFFF;\n",
              "    }\n",
              "  </style>\n",
              "\n",
              "      <script>\n",
              "        const buttonEl =\n",
              "          document.querySelector('#df-39c90c53-d044-433e-9187-9333385009a4 button.colab-df-convert');\n",
              "        buttonEl.style.display =\n",
              "          google.colab.kernel.accessAllowed ? 'block' : 'none';\n",
              "\n",
              "        async function convertToInteractive(key) {\n",
              "          const element = document.querySelector('#df-39c90c53-d044-433e-9187-9333385009a4');\n",
              "          const dataTable =\n",
              "            await google.colab.kernel.invokeFunction('convertToInteractive',\n",
              "                                                     [key], {});\n",
              "          if (!dataTable) return;\n",
              "\n",
              "          const docLinkHtml = 'Like what you see? Visit the ' +\n",
              "            '<a target=\"_blank\" href=https://colab.research.google.com/notebooks/data_table.ipynb>data table notebook</a>'\n",
              "            + ' to learn more about interactive tables.';\n",
              "          element.innerHTML = '';\n",
              "          dataTable['output_type'] = 'display_data';\n",
              "          await google.colab.output.renderOutput(dataTable, element);\n",
              "          const docLink = document.createElement('div');\n",
              "          docLink.innerHTML = docLinkHtml;\n",
              "          element.appendChild(docLink);\n",
              "        }\n",
              "      </script>\n",
              "    </div>\n",
              "  </div>\n",
              "  "
            ]
          },
          "metadata": {}
        }
      ],
      "source": [
        "data['ICE'] = ((\n",
        "    data['impact'] * data['confidence'])/data['efforts'])\n",
        "\n",
        "display(data[['hypothesis','ICE']].sort_values(by='ICE', ascending = False))"
      ]
    },
    {
      "cell_type": "markdown",
      "metadata": {
        "id": "v1_zNTAMRpWs"
      },
      "source": [
        "*As you can see, according to this criterion, we have three leaders: 9, 1, and 8 hypotheses. Now let's take an example of the RICE framework for prioritizing hypotheses. We will sort them in descending order of priority.*"
      ]
    },
    {
      "cell_type": "markdown",
      "metadata": {
        "id": "l_n2REMeRpWt"
      },
      "source": [
        "![Image (13).png](data:image/png;base64,iVBORw0KGgoAAAANSUhEUgAABKQAAAGECAYAAAAIt/hBAAAAAXNSR0IArs4c6QAAIABJREFUeF7snQecJVlZvr+6t/OETSxLWGABVyQoCiiC+BdMgKKIEUHFgKIiIioYMWHOASMqYBZFQQQVs4gCCoiCgOQlbZ6d3N031P/3nKr37pnavqGnbk93z7y1v9nb91bVqXOek9/zna+KXnm0jIgoYo2P6JQL6bMYpg9OND436h+qz5PRTZ/dWK5/r+5fSaFGxGBQfXZvrMO5rj5xS0Q5iDj1P9U1vY2Izc3o9Tai3+/HYLgZw+EwugujgOr7+/X9imD1PB8mYAImYAImYAImYAImYAImYAImYAImcKESKIoiylIaSkS3242FhYX0WXS7EasfEbG4GNG9a0R3MWJ4jwrV8Mr00e9zT8Rgsfq5Hyfrz6Ppsxt3ShLRQgyjjDK65WZ6XjcWI4oiotaTRvxrPamsP0fyEhFFbmorSN0Sw+hEJ5YkaEUlEC0MIobDiIVOLRyV10ZsbMSgf01sbGxEr39jDAaDWO29LV1fIk5VJNL/i/q+YblZ/16fLyxIXaiVy+k2ARMwARMwARMwARMwARMwARMwARPYmkCn00kCkf4lbaUogt/5PLp+Wfp7obgyFhcXo7Nwn1hdXY1i+eqIpaWRQVK/G9HrR2x2b45OgeJzutJ54o7ps1vrNgvRS8JUMehUESqWzozYNEGqX27W8lklgXUkpo0ULFlEySJptXqAvvLJPfwjDt1KQYviusoCavChZPlUbn4g1tfXo9+7OXq9XsTgVLKAWir6CYz+EVASy2rhaSRUFWcKVremsk64S6QJmIAJmIAJmIAJmIAJmIAJmIAJmIAJXKAEasOj24hSsppaXl1KOkx/UKadab1YTdZTncU7JkuqQxffP2IBI6N7V6ZS/csqktgFlRFlLQcJryyeyqKylOqMDIik09Q76UoJVrVcJAupuQhSSYCqo9Q5WW3BG7w/epubcezmtyZLqE55XUp4pzhRK3KV5dNi9CoBqj7KcpiuK1HaSJDSYUHqAq1STrYJmIAJmIAJmIAJmIAJmIAJmIAJmMA0AhKebjX4qe4YbeOTBVLRTb9tlivp/CBul3SZjd6dksXU2toDY+XgwYi4ogoA+6BhJUixI5DdcMg43ZFe06ujph1uMwpSQ8Xs1m2GVUAjZetEHXAVYFEevjVC/HUy7cuLWLqpTunbIo4fj5Prb0wWUYud66o9heWpdH4xlipzsWEF4HRZmY7JhEyAEaY4PxKrRk6tpmWBz5uACZiACZiACZiACZiACZiACZiACZjAhUUA455cX7mNxdTx5coiaulk0mCGizcnQINOZSh0evNApc2UV8fS0lIsde4fnQMHIpbuWSlQxeUVUHlm6lY/92v9aRi3pNPdpGDxiajFA2pLqcoFOc+qfEi1FqQkhPU/GMOTJ2Oj9+YkRA2KtyVBaW355pEgxTMXysVKnRt0kiVUr1vtMbytgqc9gXUBsiB1YdUkp9YETMAETMAETMAETMAETMAETMAETGBmAjLqOXMX2q0+pQ4Vlyc9ZlDcknay9To3pO/Dbr8SohYuTzrN5vpdqx1rw/vG2tparK5cHbG6GrF6lzPj0qkspga10LRtQaocVC7YtaUvQgqTnlP5lrp1U53Oy7fUf0asr0d59D1x7NixGAw/mBKyvHwsKW/DXmVh1RksJNGpWx6qwhuspAT21jbG7m+sYmAfUTOXPl9oAiZgAiZgAiZgAiZgAiZgAiZgAiZwQRNoWkYlzacsY2n94qTLlJ1Kzym6p5N+013qpbfwrW8er7gVlXP0YSxU57uVZVX34JdELC9HdO9Z870symHERieSu6VhcjaFilPtkFuK2jKqX39W78C71UKqtSB1w1/FxqlTcXrjw0lJW1y6KUW0LK9PTrJWFiufUAhSKWLDgylBneFqSuCJ7rEzCorMy7SFbzBo7iW8oMuVE28CJmACJmACJmACJmACJmACJmACJmACEwnkVlL6u3vyUG0JVRkalcXJpNcMi1OVUNWtBKUyisqSqqxMnzqdyvXSoPM5cRDfUmv3qZ2fXxbDAW/jO1tBalhZSEVRvR2vDFk+XZq+I5AtV36uqmPxvfUfb4xjt9wcxdHX1N/rYGr9aOTjvKz+Koa1FBZ1goaV5VNvoXp94G2PpmWULaXGgPLPJmACJmACJmACJmACJmACJmACJmACJjCRQKd7Y3V+qLff1a/NG+r1edJdKmEqinqHXP15arASy8vLsXbwodG55NKI8oHppXb9uCy9lK9XC0EKpVsOqq1/6EK4jarfWjfyIVVOEaT0/FGqFt8T5cZ6HD/9b2mL3kXl/9anLEi57JuACZiACZiACZiACZiACZiACZiACZjAXiTQVpDqdw8ngak/vF8cOHAglg4+IorV1Sjj4vTmPTk376A/RcSCvJ9r5xuq1Rlb9kqdqfb4aYNcUdbe0BHG+LFTWzIN/jaO33RTrPdflUy71ora8qmsfE1FKaWtfpBCLOr7FU5R71kc1G/tG5tbtozaiwXZcTIBEzABEzABEzABEzABEzABEzABE9g/BIbdxg61stJzinprXkjXGVlQVS+h4315HAtr70iC1Kn1K9Ln6oGHxYErrogoPqbybl7ebqQrpffojeScXgyGg+h2qu13t1pITROk1pOsFYGgtL4eJ46/NI4cORILK2+M1dXV6G5Wr/MbRdyC1P4pjY6pCZiACZiACZiACZiACZiACZiACZjABUGgrSAVS2+NxcXF2OzfOTY3N2Oz/9Fx0UUXxdpFD4tYWYkoLxtxRJ8q6rfv8fK8MYLUqdooqt4zOPIhPqwD+kC116/35jh95EhsHH9Dej3g2uLR5Ly819d9Z1oy1a6j2JxY6VUd7T2s9yJGJWR1BtqrOCb/C8XjgigfTqQJmIAJmIAJmIAJmIAJmIAJmIAJmIAJzJ1AObikClO+mRo72KKQwVGt78hiqraQ6g7Xkw4Ui9Vb+05sLKbPtYMPjLXb3S6i86BKPxreKe20G9Rv3xtEL8ooYzEqi6vMQmqKIFV8KGJjPU4eeU0cPXo0VrvvTk6sFuPGOH36dHQX6gSVFqTmXlocoAmYgAmYgAmYgAmYgAmYgAmYgAmYgAnMgUBbQWq5049erxeDziCWlpZiY7gWGxsbMYx7JZ9SBw8/PGJtLaK8c4ot5kjoVwhSHAsoWWcKUkcrm6hh7cupFsRioX7bXvF3cfyWm2Pj2Kui3+/HxZ1uUsSKUwfS986yvK9Xn8NaUStry6Zh/cCovbaXpSyqKl9TRffmBtamRdTIZKu6zhZTcyiGDsIETMAETMAETMAETMAETMAETMAETOBCItAZySuygKpeizes34438ipeNN6yV+98W9i4Z/IlXi6+L+lCw6WbkoXUZv/y9Lm88qhYu+SSiMWHpHAHxWq14a4YJgupldrSKrOQmixIHT/6ovQ2vYXBG5ICttYfxPr6eiz1Lo7VtbXYHB6vhSILUhdSQXZaTcAETMAETMAETMAETMAETMAETMAE9g+BtoLU8PhdKl/iqx9MllG97vXJp9SgvEMyWFrfeEjc/va3j+LQIyqhq1MZJCFI8d9qclCebdk7UZ4oOXGof6iiiNN1rln9p4gbbojjp15Z062ktM5gLX0uDitTql7XPp72T/FzTE3ABEzABEzABEzABEzABEzABEzABExg+wTKhWqHW3f9qkpYqt/ON1j6UPp+KookUC0dfGSsXXR5RDwkOTNfH67EwkLEctrEhyC1mGyyCgQpTKcO9g5WsZHP8fir2LzhhtgoX1XH0oLU9rPLd5iACZiACZiACZiACZiACZiACZiACZjA/icwTZBa73RxWB6x9Ii49LLLIhY+LSV6vVxMW/duI0idLntJaVreWIgibSO8KWJzM4bH/zxOnDgRxeL/VdRq7+qdYeWEarGsfEz1Omc6M9//iJ0CEzABEzABEzABEzABEzABEzABEzABEzCBnEDZrVw2Ff1L02d3UG3BKxeOVfpQdyH5mNoo7hOHDh2K5cOfFt2F5SjjjjEYRCzUO+yKoltZSJ0qN8siiljpLUTwU3lTxJEjccstf1o9YPmd1fMtSLkkmoAJmIAJmIAJmIAJmIAJmIAJmIAJmMAFSWCaILXZ6SYuJwcfmbbuIUgdvujSJEgNhxHdTuXyaSRInRyU5UInYqk8WQEd/HesX3ttnDzxD7GyshJlHKn0qLLa0lffH93iRHV5UVlM+TABEzABEzABEzABEzABEzABEzABEzABEzg/CZRFLShF5VN85FK8NmDqFUV6+97pWj9aWH1gXMTWve4DKyDF4eoj7euLKM4QpLChOvHauOXGG6McviZ5T+8Pbkw3WJA6PwuUU2UCJmACJmACJmACJmACJmACJmACJmAC0whME6Q2ce+0uBgbxeH01r1+cd+4+OKLY2XtoZy4rSBVDsvKW3nx7ojN9Vi/+S/j5MmTsbpwTXJGNRxWPqKGw4uqy6SEFdUewWEsT4uzz5uACZiACZiACZiACZiACZiACZiACZiACexjAtJ/Op0bUiq6ZWUx1elflj77UUSn04nBwmYSpDaHV8aBAwdi7cDDIw4diijuVelKspBCkEKSKjrvisHJE3H8hpemGw+tfCg2Nzej01mqhCcLUvu42DjqJmACJmACJmACJmACJmACJmACJmACJnD2BKYJUoPqTXnR66xXzs0Hd47l5eU4fODh0bnkkojuvRuC1MZmGd1uRPc1ce073xErxatjbW0tTh19Xxw8eDB6vZV0w6A8VMe6XwdQvWUvwm/ZO/vs9J0mYAImYAImYAImYAImYAImYAImYAImsPcJDMvVSgXqXpc+u1HpQ53e5emzX1tMlYunkqXU6c0D6feLDzwoOpdfHsPOZ6bfR07Ny81eGZ1ORP+f4tr3vz9WO/8WS0tLMVi/tvocrKUALEjt/cLhGJqACZiACZiACZiACZiACZiACZiACZjAThCYJkiVHdw+DQNBil15672DwZa8A0v3j+VLLony4Oel328VpAYfLgNfUbe8PI4cORJrnf9J8V4uirR1bxjV2/X6tSFUmXyhR3QGte+ojiyldiK5DtMETMAETMAETMAETMAETMAETMAETMAETGC3CZRlpQMVnROVLhS4MY8ohrXlVLGQBKnoDpIl1OagG4PBIBYXLo21AwdiePm3RCewkFqr3rJXDq8tYzCIYx/+0+j1enFw4S3V5+pqrJ88GdGpXstnQWq3s97PNwETMAETMAETMAETMAETMAETMAETMIHdITCLIIUAhSDV7XajXy4mQSrKQ7GwsBALV35HLHYXM0GqfFMZp07EjR/663TDoeKDyZn52tqlsXHiRJSLlVPz/kKlgJWxUClg9R7BonvL7pDwU03ABEzABEzABEzABEzABEzABEzABEzABM4JgbJ+SlEupr86Mah+KU7XZ7rJQmo4PJAEqLJbVt/jWHX9FT8YB1YPRKe4XW0hVb6pPHX9tXHiln+JxcXFOFC+P92wsnAwNjc2YrhQPciC1DnJXz/EBEzABEzABEzABEzABEzABEzABEzABPYcgWmCVFl2ks8oBCkMnhCk+F4Wx6u37h3+zrj00ktjsXOFBKl/KW9477tiof/WdMNy74b02emvJWdTvaKXIGwu35A+y9qrerF510oIW6i8q/swARMwARMwARMwARMwARMwARMwARMwARM4TwnU+lD0L0sJ7ESlF8XCjeljUHaTjlT2r0jfy07lY2q4fE0Spo4Wz4orrrgiVhevulWQ+sDb/zcOLb433bi0eX31dr3Ti8liarN2UmVB6jwtUE6WCZiACZiACZiACZiACZiACZiACZiACUwjMEWQKgv8QxUx7N0+CVCDWK++L1+TQr6h9y1x5zvfOQ4s36MWpI79XDk4ejROnjqSvKB3ur3K6VTRS4LUYFgpWlF268/Kh1RE/V0RmhZxnzcBEzABEzABEzABEzABEzABEzABEzABE7ggCRxb+ri0ZW9l7YtqQerIT5f948fj1OlbRoIUe/vK2ExOqIZlbYJlQeqCLDBOtAmYgAmYgAmYgAmYgAmYgAmYgAmYgAm0JXCk+zFxySWXxMHDX1oLUtf/SLlx8mRs9k7dRpDCl9Rw2K+f2ak+S1tItc0E328CJmACJmACJmACJmACJmACJmACJmACFxKB0+WVcfjw4Vi+/JsrQWrwge8vNzY2oj9Yr5yZd3vJ+zkWUmzhsyB1IRUPp9UETMAETMAETMAETMAETMAETMAETMAE5k/g5OBOcfDgwThwx2+tBKmN935X2ev10ta8yodUPzmfwocUR1kO6lg0LaTS/Uha84+lQzQBEzABEzABEzABEzABEzABEzABEzABEzhvCAyHS7G6uhqLd/6JSpA69a5nlZVFVD95Py86tc8oC1LnTaY7ISZgAiZgAiZgAiZgAiZgAiZgAiZgAiawmwTKcjmWlpZi+S4/VQlSJ9/1rSUWUWXUQlQMkqVUFJXvqGQtlR8jH1K2kNrNjPSzTcAETMAETMAETMAETMAETMAETMAETGC/EOiWvfTyvMW7/XolSJ145zOS4oQgVYlPlSBVdKqteBak9kvWOp4mYAImYAImYAImYAImYAImYAImYAImsDcJIEjhu3zpqt+oBal3Pa02gRrWMa6/Fvquz9qHlNJV1t9H1+3NBDtWJmACJmACJmACJmACJmACJmACJmACJmACu0ygdg118O6/ZUFql7PCjzcBEzABEzABEzABEzABEzABEzABEzCBC4PAbQWpb6xMomzpdGEUAKfSBEzABEzABEzABEzABEzABEzABEzABM4xgWHtivzw3X9NFlIWpM5xHvhxJmACJmACJmACJmACJmACJmACJmACJnBBEbitIPXur2u8Rq/hK+qCwuPEmoAJmIAJmIAJmIAJmIAJmIAJmIAJmIAJzJ1A7Yv84D1/pbaQsiA1d8YO0ARMwARMwARMwARMwARMwARMwARMwARMICNwW0HqybWFlCyjbCHlAmMCJmACJmACJmACJmACJmACJmACJmACJjA/At1hpTetfsTIQsqC1PzwOiQTMAETMAETMAETMAETMAETMAETMAETMIEmgS0Eqa9v+JAytHNJYHE4rB5XLqSPYSzW3yvlsOzU5+vXIw47p6vzxWb62Ijbncvo+lkmYAImYAImYAImYAImYAImYAImsC8JLPfq+XZRzbM7MajT0a+m2fqu8yO1pLq+16nm7T7aETh4D71l790WpNqhbHe3Bal2/Hy3CZiACZiACZiACZiACZiACZiACcxCwILULJR2/hoLUjvPeLYnFLXFU9S+u8puuq+MMcprrdRiS8WxPNyY7Tm+ygRMwARMwARMwARMwARMwARMwAQuYAIbC7KIqiHU8+/Q/Lv+XtQ7mGJ0vp6v1zuXLmCEc0m6Bam5YJxDIBak5gDRQZiACZiACZiACZiACZiACZiACZjAZAIWpPZGCbEgtTfy4VafUbXFE7tY8+NWZVa+pc70MbUct+yRlDgaJmACJmACJmACJmACJmACJmACJrB3CWwsNnYYNSyhyuLMnUu3pqT6vVOc2LuJ20cxsyC1RzJr5MTcgtQeyRFHwwRMwARMwARMwARMwARMwARM4HwkYEFqb+SqBam9kQ9RFpU3/yiqvaxF1N9r7/6dsqjOl0vV+VIWUpWPqXU7+d8jOelomIAJmIAJmIAJmIAJmIAJmIAJ7GUCK/36LfZ1JEv5aK4/h/IRVc/Ty06vvrKer/cv38vJ2zdxsyC1R7LKgtQeyQhHwwRMwARMwARMwARMwARMwARM4LwmYEFqb2SvBam9kQ+xVF4UZVnGcNiL4XAYZbERRVFEt+hHp9OJsmy8BWD0Nr5qD2tvcXmPpMTRMAETMAETMAETMAETMAETMAETMIG9S2Bxc5jm2/hu1meKbVmkeXkUZfocRC99Fp3q+qIo02dv5Gpn76ZxP8TMgtQeyaVO70ASnjqdqoBHZ7OqCMONJFB1u/WWvVF85WSt+jxxpsXhHkmVo2ECJmACJmACJmACJmACJmACJmACe4vAUq+edzcEqbKeVy+vVK5y+mU1Ly+jX83PayFqeJv5+d5K336JjQWpPZJTS8VSEp6SdVQq6JEEqqKzkD77/c3027CozoX2uNYV4kCnaUG1RxLmaJiACZiACZiACZiACZiACZiACZjAHiJwulPNr/HRnAxCyuU0D+8MVivLqH79Nr3oVtPvZE1VT8WLIvoLR/ZQavZvVCxI7ZG8Q5CqtuzdKkolk8DOQir8w2Hl5HycILVS1hVqj6TH0TABEzABEzABEzABEzABEzABEzCBvUhAglQRteubhiBVRGUh1YluvVWP7Xq3ilK97s17MVn7Lk4WpPZIlvUXr0mWUN2i2ro3HB6Kfr8fG72VGAwGsbJ6OMV0UFRK7a1e/iubwqXexh5JiaNhAiZgAiZgAiZgAiZgAiZgAiZgAnuXwOZyvTevrF5XX5T4bcZCqorzQmUYFZ1yvfIhFadq31LV1r2u37I3l8y1IDUXjO0DKVc+WG3XG1SmgmV5OLrdbhTdi5NAdep0ZSE1TpA6YKdq7TPBIZiACZiACZiACZiACZiACZiACZz3BE4v9Ko0biFIMR9fXupWQtTw9EiQSsJVZ5AspTq92533jM5FAi1InQvKMzyjX1xd71U9WL1dr3NlrK6uxtLS3SIWFyPWbl+HUku18iXVqYSqiNUZnuJLTMAETMAETMAETMAETMAETMAETOACJ1DrUbdSOBWR3q53JH2eOvK2tFOpLD8YvV4voriuftve8TRfXx6cvMABzif5FqTmw7F1KCc375oEqEMHr4w4dChi4a5VmIPbVxUjDk4WpIq11nFwACZgAiZgAiZgAiZgAiZgAiZgAiZw3hNovhOsqF3g1IJUdG/CfCpi4z3RP3kyNjavic3NzRgMjyRhai3Wz3tE5yKBFqTmRLlfO0PrFqdTiEv9xfTZGVRO0sqlyunZxspNSVE9Nbx7+r65/tD0/ZI7PCZt0VtYqN6q58METMAETMAETMAETMAETMAETMAETGAnCGinkebeZ87By7JSrIqiftt9nIwTJ0/E0WM3xokTJ+Ly4SvT3P3gwtFqh9Pw5iiHw9goFpJgdbp7SaUDlJUesDI8kT4PDCtd4GT34p1I1L4L04LUnLJsmiA1WLgxFhcXY335xlhfX4+Tg6viwIEDsbbyWbGyuhq94uOTEMW/3Ht/VYjL2/w2p2g7GBMwARMwARMwARMwARMwARMwARO4wAjMJkhFsRFF8Ha909Ev+3F6/VhsbGzE6rE/SxZTi4PrkzC10jmWfEJvdhbTnP5EVC8lsyA1uVhZkJpTtevXb79bKCsFtVtWCqsspHq8Qa/bjVPFctqDOly4V1x22WWxdPAT8IwWZXmHLYUoxKgUjq2m5pRTDsYETMAETMAETMAETMAETMAETODCJjBGkKqm34EGlebiRa8WpPRW+80YxjDK4/8cx44di+Hx96R5/KGFG6rrOxtp7n6y3kE1KKqdU0vDymnVyqDaUbXRrSynLvTDgtScSsA0QSqWl5OSut5djYMHD8bqJQ+KWDwQEVdHlMOI4s6jmEiEyqPWtJqaU7QdjAmYgAmYgAmYgAmYgAmYgAmYgAlcYASmC1IAKaMyOCnqzxh9/lfExskYHHlH2sK3NPhAMkBBkGI+v96tfDxbkJpcrCxIzanalUVVoEcvv4tqz+mgqN6KV5b3TIJULDw4bnenO0Ws3iv93h9g/hexsLBUXydJlv2q1TkfJmACJmACJmACJmACJmACJmACJmAC8yIwRZCqH1Pi2Dz5ktL1/eC3Im6prth4R9x47bXROfXfyUXPcveGtJWvWK70gGFUFlIRC+n/nWE9xy+aXtXnla79FY4FqTnl1zRBqte7W9pbunb4EdG99NKIuGtEvx/9YjH9HsG2PYtRc8oOB2MCJmACJmACJmACJmACJmACJmACYwhMFqQ0Na8980REteUuQvfdiKOeiPhgrN90fQyOvj6dXepcn1z0lIvV9RakJhdAC1Jzq6DDOqTKd1TZqfaG9mvfT5ubD4pLLrkkFtceH9Etks46QBRdqW6r9FIfJmACJmACJmACJmACJmACJmACJmACO0tgRkFKm5ZGm5eqef/pssO0Ppbiphj2N6M8+prkU2pp8Ob6RWUfrnSBorq+Hxelz0FZbeVbjOqtexf6YUFqbiVgsiDV6TwsDl9+eUTxOcikgaUeWlV/IWJ9czMOLlVb9rY6/Ja9uWWSAzIBEzABEzABEzABEzABEzABE7jgCcy2ZQ9MWEuVTOLTy8YqcJvscIqI5bip+qH3X3H0Qx+KYv2NsbKyEsPhB9LPFqQmFzQLUnOqiIuxkLbc9cpKOh0srKdPvOfz+xV3enwqveXGJwVupfqVa6kYdE6mz+XAwbkPEzABEzABEzABEzABEzABEzABEzCBnSUwuyB1RjxqS6lT9Y/dzX4sLi5Ep3h39I7eEieue2U6s7rwzvTZqef7G3E4fd8sL0ufK3FkZ5O3T0K3IDWnjEKQGg6H0Y9OMtHrdU4lIaq/tJacm110+RdW747sfWL66NfKqgWpOWWAgzEBEzABEzABEzABEzABEzABEzCBmQjMR5BaGpTR7RZRxLsjTp+K9Rv/Pk6fPm1BaqY8iLAgNSOoaZetxFJyXtbvFslJ+elYSN87q1fFRRddFIsHH1EFUd4jffRrZXUYx5KX/uV6T+m05/i8CZiACZiACZiACZiACZiACZiACZhAGwJnutzZbkjIWcNhRLc2NOniE2o4jPLYv8Z1110XhxbelIJc7F6XPnv1jqiN2kJqOY5t95Hn5fUWpOaUravFcmxsbMRgoRNLS0txcthJr3tcPnx1XHzFFRHx8WcIUr2RIHU00FOXahO+OUXHwZiACZiACZiACZiACZiACZiACZiACWxJoL0gxUvKFmpXPN3yeETBjqjXxw3ve19Ot1KbAAAgAElEQVSsFW+wIDVDybMgNQOkWS5ZKYpkEYUgxRa9471Lo9/vx9qhh8ehO9wporxn8oZWFqspODk3K9OrIqsXRvowARMwARMwARMwARMwARMwARMwARPYLQISqqY9fyPKfj9i4VC6cFhv3Yt4R1x/zTWx3PvH9Ptq573pc1AspM/N8tL0yZ4qH96yN7cysFSWlQ+pbhHdbjdO9C+LoijiwOFHxMpll0cM7p6eVXaq1zxGgU9+XrhX2fhZkJpbVjggEzABEzABEzABEzABEzABEzABEzgLAjMKUmX1ErOyWEtb99gAVb2B7x1x8qabon/LX6bzFqQmZ4EtpM6iiG51y8LwVBKgEKRwZn6qd3Xaunfw4OdH9+KLIwaVN/1YOrOAl4NKkOLNez5MwARMwARMwARMwARMwARMwARMwATONQHN02cUpIY3Vlv04ooYYCm1WFlAdQcfSN+Pvv8P0/eD3bfWCanC3YyLq/l/DM51Avfk8yxIzSlbuoOTyTIKQYqteqf7Hxlra2tx4MDjojh8OGJYC1KLtxWkyjKiU5VfHyZgAiZgAiZgAiZgAiZgAiZgAiZgAueUwNkLUv1eL4qlxRTbTu+aKBaX4uZ3Pj99tyA1ORMtSM2pkG/GSnq73urmDSnE/tJyEqYO3vW30vf12gJqJXrVE/tVgR0sVAW/W2/dm1N0HIwJmIAJmIAJmIAJmIAJmIAJmIAJmMAOEqgc8VRb9qoJfjXfv+mD35Y+V+rvneC9fLjssSVKnh0WpOZUOC1IzQmkgzEBEzABEzABEzABEzABEzABEzCBfUDAglS7TLIg1Y7f6G4LUnMC6WBMwARMwARMwARMwARMwARMwARMYB8QsCDVLpMsSLXjZ0FqTvwcjAmYgAmYgAmYgAmYgAmYgAmYgAnsJwIWpNrllgWpdvwsSM2Jn4MxARMwARMwARMwARMwARMwARMwgf1EwIJUu9yyINWOnwWpOfFzMCZgAiZgAiZgAiZgAiZgAiZgAiawnwhYkGqXWxak2vGzIDUnfg7GBEzABEzABEzABEzABEzABEzABPYTAQtS7XLLglQ7fhak5sTPwZiACZiACZiACZiACZiACZiACZjAfiJgQapdblmQasdvdPegeyB6vV5c2j0Rw+Ew1jvdKIoi1q58XrpmvVtduhK96o/+YvoYLAzTZzc6c4qJgzEBEzABEzABEzABEzABEzABEzABE9hpAhak2hG2INWOnwWpOfFzMCZgAiZgAiZgAiZgAiZgAiZgAiawnwhYkGqXWxak2vGzIDUnfg7GBEzABEzABEzABEzABEzABEzABPYTAQtS7XLLglQ7fhak5sTPwZiACZiACZiACZiACZiACZiACZjAfiJgQapdblmQasfPgtSc+DkYEzABEzABEzABEzABEzABEzABE9hPBCxItcstC1Lt+FmQmhM/B2MCJmACJmACJmACJmACJmACJmAC+4mABal2uWVBqh0/C1Jz4udgTMAETMAETMAETMAETMAETMAETGA/EbAg1S63LEi142dBak78HIwJmIAJmIAJmIAJmIAJmIAJmIAJ7CcCFqTa5ZYFqXb8LEjNiZ+DMQETMAETMAETMAETMAETMAETMIH9RMCCVLvcsiDVjp8FqTnxczAmYAImYAImYAImYAImYAImYAImsJ8IWJBql1sWpNrxsyA1J34OxgRMwARMwARMwARMwARMwARMwAT2EwELUu1yy4JUO34WpObEz8GYgAmYgAmYgAmYgAmYgAmYgAmYwH4iYEGqXW5ZkGrHz4LUnPg5GBMwARMwARMwARMwARMwARMwARPYTwQsSLXLLQtS7fhZkJoTPwdjAiZgAiZgAiZgAiZgAiZgAiZgAvuJgAWpdrllQaodPwtSc+LnYEzABEzABEzABEzABEzABEzABExgPxGwINUutyxIteNnQWpO/ByMCZiACZiACZiACZiACZiACZiACewnAhak2uWWBal2/CxIzYmfgzEBEzABEzABEzABEzABEzABEzCB/UTAglS73LIg1Y6fBak58XMwJmACJmACJmACJmACJmACJmACJrCfCFiQapdbFqTa8bMgNSd+DsYETMAETMAETMAETMAETMAETMAE9hMBC1LtcsuCVDt+FqTmxM/BmIAJmIAJmIAJmIAJmIAJmIAJmMB+ImBBql1uWZBqx8+C1Jz4ORgTMAETMAETMAETMAETMAETMAET2E8ELEi1yy0LUu34WZCaEz8HYwImYAImYAImYAImYAImYAImYAL7iYAFqXa5ZUGqHT8LUnPi52BMwARMwARMwARMwARMwARMwARMYD8RsCDVLrcsSLXjZ0FqTvwcjAmYgAmYgAmYgAmYgAmYgAmYgAnsJwIWpNrllgWpdvwsSM2Jn4MxARMwARMwARMwARMwARMwARMwgf1EwIJUu9yyINWOnwWpOfFzMCZgAiZgAiZgAiZgAiZgAiZgAiawnwhYkGqXWxak2vGzIDUnfg7GBEzABEzABEzABEzABEzABEzABPYTAQtS7XLLglQ7fhak5sTPwZiACZiACZiACZiACZiACZiACZjAfiJgQapdblmQasfPgtSc+DkYEzABEzABEzABEzABEzABEzABE9hPBCxItcstC1Lt+FmQmhM/B2MCJmACJmACJmACJmACJmACJmAC+4mABal2uWVBqh0/C1Jz4udgTMAETMAETMAETMAETMAETMAETGA/EbAg1S63LEi142dBak78HIwJmIAJmIAJmIAJmIAJmIAJmIAJ7CcCFqTa5ZYFqXb8LEjNiZ+DMQETMAETMAETMAETMAETMAETMIH9RMCCVLvcsiDVjp8FqTnxczAmYAImYAImYAImYAImYAImYAImsJ8IWJBql1sWpNrxsyA1J34OxgRMwARMwARMwARMwARMwARMwAT2EwELUu1yy4JUO34WpObEz8GYgAmYgAmYgAmYgAmYgAmYgAmYwH4iYEGqXW5ZkGrHz4LUnPg5GBMwARMwARMwARMwARMwARMwARPYTwQsSLXLLQtS7fhZkJoTPwdjAiZgAiZgAiZgAiZgAiZgAiZgAvuJgAWpdrllQaodPwtSc+LnYEzABEzABEzABEzABEzABEzABExgPxGwINUutyxIteNnQWpO/ByMCZiACZiACZiACZiACZiACZiACewnAhak2uWWBal2/CxIzYmfgzEBEzABEzABEzABEzABEzABEzCB/UTAglS73LIg1Y6fBak58XMwJmACJmACJmACJmACJmACJmACJrCfCFiQapdbFqTa8bMgNSd+DsYETMAETMAETMAETMAETMAETMAE9hMBC1LtcsuCVDt+FqTmxM/BmIAJmIAJmIAJmIAJmIAJmIAJmMB+ImBBql1uWZBqx8+C1Jz4ORgTMAETMAETMAETMAETMAETMAET2E8ELEi1yy0LUu34WZCaEz8HYwImYAImYAImYAImYAImYAImYAL7iYAFqXa5ZUGqHT8LUnPi52BMwARMwARMwARMwARMwARMwARMYD8RsCDVLrcsSLXjZ0FqTvwcjAmYgAmYgAmYgAmYgAmYgAmYgAnsJwIWpNrllgWpdvwsSM2Jn4MxARPYPQJlWUZRFKMI8J1/nU4n/cbfk4783t1Lxfn95OFwmPJIrJt5dH6nfudTB8/BYBALCwvpYfDmUB3Qb3keqG64/O98/vgJ5z8B6mC/309tnOqh6l1eD0VC/ZLr3/iyob5d/UWzTdOdzfaOfOh2u2eMC8Y9pTl+aF437fz5X7KdwguBgAWpdrlsQaodv9Hdg+6B6PV6cWn3RBrIrneqhnztyuela9a71aUr0av+6C+mj8FCNejtRjXx82ECJmACu02gKUB5wL/bOeLn7zSBrQQoPdP1YafpO/wLmQDiRy5A5fVO53JBRaKw+6UzS01ToBu3aEFbl1+7ldg3qT2cVla5V/dzLeE3F1P43fk3jaTP7ycCFqTa5ZYFqXb8RndbkJoTSAdjAiZwzglogMoAcdJK9LiIeWC5s1mG5U4+QRDvrfJqZ2NyfoZ+NpOvaXXm/CTlVJnAzhNoWoPqiWdTT3c+trv/hFz8aVpwErutLKBnEYRm5b1dC6hcXJRgtfsUHQMTaEfAglQ7fhak2vGzIDUnfg7GBExg9whMWjHlnIWP3csbP3nnCWw1YdOkmLLfrAOzWBjsfKz9BBM4PwhgBZUf1LlpfQ51kPsQ61dXV88PEGeZiq221OeLRDCSAKXfm4tIatNkzaSobEdsmmUL5bS4niUC32YCu07AglS7LLAg1Y6fBak58XMwJmACe4OABox85oPUSbHD14SPnSMwzseXtkYsLS3t3MMvsJC1ep9bGrAdX9aD4yZ0FxgmJ9cEdpwAghN1j/4FoWSrbX07Hol9+AAEKPUZudVz0/KM6/in/mOrtm87yc+tRnNfh4SRh+3xwnao+tr9QsCCVLucsiDVjp8FqTnxczAmYAImYAJbE9jc3BxNyrjCWyR3rqTYInDn2DpkE9iKAKKTtiUjOi0uLo5t4yTC55Y2XH8hH7Cbp8hztm3g2dw377hfyOXAad9dAhak2vG3INWOnwWpOfFzMCZgArtHIB9IMkBkZZoBPwP9eQ50dy+F58+TZ/Xrcf6k+NylZCsnwKdPn05bgqgXspRi0qx6cTaTsHOXIj/JBPYnAb1tL69n1LWmldR2tpTtTxLTY027BJfcKinfpqe3h2obpCyjZD3Fgke+7XGcD69xMRlnWUU4hM04QgJi/uY+fiOfL3RBcXoO+4r9QMCCVLtcsiDVjp8FqTnxczAmYAK7T4CB6smTJ+PYsWOxsbGRBrgMFps+Ppoxvfvd7777kT/PY8DgHXGEvFlfX0+pZcBPnl199dXneerPTfKagtSpU6fi+PHjaVLFpI/zy8vLcfjw4Thw4IDF2nOTLX7KeU4gF5VuvPHGePOb3xyvf/3r453vfGdq7xAx1tbW4o53vGPc7373i4/92I+Nu971rqlvsiB8ZuGgnaIPp+2i3YLt7W9/+9RuwZF+/ejRo+ka+neELLbsHTp0KDFWv7KVc/RZiyF5Ql9F20k8FBbP4Rm0nRahZqXp6/YLAQtS7XLKglQ7fhak5sTPwZiACewuAU0K/vmf/zke/vCHjyLDYJJBJANYDgaVciiri+T4+SEPeUgafP6///f/4hM+4RPicY97XBJMGAjnjqD5fuLEiTh48GAKovna73yCwgBbEw+uzZ3dch0D7JWVlanwuFYrxRp0N8OTzxLSwAB+J7bGNR2/zrrCD7/3v//9cdVVVyUG+ZuVSFfOpWlF1XwGTLkGrtOcB08Fe55eADN43+1ud7tNCp///OfHV37lV571ZHic819ZNYyzSswtF1WG55l/KieykpQlmOogz2yWpWbdnVYcJG43LV20FUv3U/dmtc5sihL59q+tnDs3w82FSIWleOpahaP0IgrT7mw3/dP4nM35WduQswl7HveIFWHlW7QQKySCvPrVr47v+Z7vif/8z/9Mj6Rdhy38VS+4lns47n3ve8ezn/3sePzjH5++K3/yssrvze/T0sP1HPMUTHKLI/VD6nua9Xer/kF1vVlu6ZMRd2644YZ44QtfGC95yUvida97XRKZeCYMOV7wghfEk570pMSRNk0LSPTliFaq13wiVl100UWpnvP3xRdffAYytUHy66W4cT2/8anxwWd8xmfEa17zmpHFNXn0gz/4gymft3pZxFZ50yzb6uvm2TfnZbLZlsBHC3PEr9kGTytPOr+V9a3KddORfB4mechYZNLRtv2bNQ2+bjIBC1LtSogFqXb8RncPugdSx3dp90RqjNc73dSIrV35vHTNeu3zdyWqzi761Z73wcIwfXajM6eYOBgTMAET2D6BSYKUBsn5ADa1W91u+segjVXY66+//owHX3nllfFpn/Zp8cxnPjPue9/7js5pkNUcbGowO2mAlm83yLcpTEvxpK1ukwZ985pwNgeNs6Q1T9MkQUpbH7TNJReaJlkQcI5+a9qAdxrb8/H8vAUpCS5bvUGM+rOV02bVO/kQ22q7EtfMQ5SSiNOciLctt5QN4j/O8f4kwYBziBlYb0w7xvHV5HgSX8ZqcgQtJ8/c9653vSttZdLknrh8zMd8TIrKXheBpvHajfNYzdDWqLzSXn3wgx+MJz/5yfF3f/d3SQjBqkZtNQsWMCd/1MYRbywUuYZFjTvc4Q7xF3/xF/HxH//xZ4hPhEO5mSWfxrX/xI9ziD5tjmlxGNdGcx91QHVHIimfWoR5y1veEo95zGPife973yit3Edboe1wCFJPeMITUhLe/e53xz3vec/0N3lB+ggfUatp9SkLXOXXVkLuJGHoUz7lU+Jf/uVfRvl3NoLUpPaDukr8JWqebR7l+TNtUaDZJ1OmZykf+bhFzNSeq9/O25VZxXjFp237d7bsfN+tBCxItSsNFqTa8RvdbUFqTiAdjAmYwK4QmCRIMXDVxI4JKwMpBmKaODA41jYyJnCc49Cg6h73uEe84hWviMsvvzwN3hicESbXMdjlb60cbzVhb/rI2C6gSWJUPgjUBEArphK85rUamw98p01SmmmcJkhNYsKAl/u1iu23VU0vQfMWpLZ6YtMaIp9c8PdWQhP3MAmjbs3TiiOvB4qH6uQ4a6bcH8x0otUVss7L/XDlotQkAXXaM5o81WY1xbBme0D9yNsd2iUEkq/6qq+Km266KT2WdusjPuIj4h/+4R+ScCJrkHm1DdPStp/P5xZSpOO6666LK664In7v934vnvrUp6ZteXznd8QF+KvvyLeL8xv9C0IUh5yf8/mMZzwjnvOc56Tfcyu87S4ojLPgmwd/iQaElft7kkWT+oRx9Z77tQAkgZUyiuAkHpR1LKcIUyLr8573vGTRyW9YSLHdkSNfYJIwxe9YodGnN+OR101ZCqmPlCURv0t0ZDEKi2v1PWcrSImLBDKldR550gxDbV5uoclvpI/ny+l+22dPGpNsd7Eqb6/zsjVr+9c2Lb6/ImBBql1JsCDVjt/obgtScwLpYEzABHaFwDQLKQb92s6QR1ArsQzgLr300jSBY6DL9QyMteXisssuS6ul97nPfdLtWsFWWE1TfA2m84kiAyz5o8jFo9wh61bwxlliyalrHu5OwGdCtpWAwOBd4ty0504SpJjQwVur5rImkI+QZtjTBLppcbkQzs9TkGKCR/5IQFLZ3koY1OQttxJkssg9lHNZi+QT2raiiCbhCluTmqZD6eYkTRPkaeVBAtq49HJ/PvmVvy6un8X6i/olgYs4qnyrrcjjtxXfvA0izQgibDX69E//9DO2xmLxyYQ+nwDmFizTOJyL8xLllIfn4pmzPENWchKI2F7Glm6OZt+iPoPf2TJL+aEcYAWUiyj53whZ3/d93xff8R3fMbIUmlWMkiDZrEcSBtoK+GeTJ3kbvZUwDJNrr702iaSKP9fpWQio9MdYk/3Ij/xIPPrRj07ssPrD56CsqNQHUofkQzK3lMq3s21nEYX4P+IRj4hXvepVKY9176Qte+M4NUVq9W9qR6f1/9PKpwTQfBvipPZ1nFA/7jl6GcYkAX/cGGWStbieN6/2bxonn59MwIJUuxJiQaodv9HdFqTmBNLBmIAJ7AqBSYIUE4Mf/dEfjU/6pE9KllBaneVvTP01Wfinf/qn5JCWiYMOTSgZVOKM9o1vfGMSoxhEaqDfFITGrVJqkL5dc/YcqAbtzcmqtizlg9KdyAj57Bi3hWncM7drIZW/EY7Jyzh/UW0sUnaCz14Jc56C1KQ85ZzeRLVVuZ603Y17Z510b4frVpZbmvzlkyrVpVlEo2YdlDDE79wvf0G5ZQzXyApmO/HXBFjpmMaXdkjig0RDBCl84nEgdlCf2B52zTXXpN+aVj/bjd9OXX824sdOxaUZLhN/RHOElDvd6U7p9CWXXBK33HLLyEKNcvDEJz4xnva0p8UDHvCA1EfQXyCSfOhDH4q/+qu/SgILwqCsbLXlmHJEH8T2PQ6Jk9stn/PmQflriqvq42Q1xXfKft4v5NvH1E6r3HH9v/7rvyZ/jflWR6yQX/7ylyd2hAc7tj7Cgnj8z//8TxKn6LfzA+s0tt3r0Isc4J63MXk7wO/kqd7G2+zT8EWJhVQuop+NIDXv/NhOeGoX1E5JqJrF/9NWz8mtxXLRS2OgNmObZhs7a/u33bHIdvhdSNdakGqX2xak2vEb3W1Bak4gHYwJmMCuEJgkSDFwYpD7qEc9Kq2iavIoQUnWSprM/dzP/VxyXIoQokERExHu/ZM/+ZN47GMfm9KoiaImD3xuNfHdys/MLKuO4waEs0xQtArLQLGtj6V89VMDUg088xXoSRk/TZCCpXyGjNvKxXlds93n70qh3MWHzlOQUp3ZastHU3BqijxNcUiTQ8KSdU5bCym9UVOTrtwipGkhwfempdQsz59mlUc6xWKW8PKioa0psrJkgqUwtrKu4FlqA/K6yWSfewkHQYrJPhNyvdABZ9BYmBA2E3FE9WmC4bkowpMswrZj1bKTcc0dmCNCwU0OynkuLNm292u/9muBM+ym02vlI+lBTPnFX/zFJEzljs65h3vxKaVJ9iz5o+1n3D8vQWCSGMG5s31Obln8R3/0R/GlX/qlo0fR7uMfijcU5n6VZKEoa2McxyNS0a/RL1OeEVvFKmfWrLeT6jHnJDqSPiwM//7v/36qILVVGVU7qDZJAl5uMbTddmJc+c63tMtiLG/juC8fD+TbjWepM7kFk67Pha28LJyNyD+v9m+WtPia8QQsSLUrHRak2vGzIDUnfg7GBExgdwlMEqQ497KXvSw5T9WhSSwDxHzbmRwwf9u3fVv8wi/8Qlo91WCOe//4j/84vviLvziOHDmSVsc58kkjk+x8YpC/jW/apHYawa0Ge1rh5d58Ij5vy6HmlkRt15t1cDtNkGrGN3+THs8eJ1Jt9y1U0xifL+fnKUhtxUSObJtWDBJm8nKRW+PkghR1bZY3TG43T5pO1vM6KEtClaezrSeaBMpyI3cMrAm0LFy26yurKWrnViJb8VXbl1uC/OM//mN6IYPO0Sbhe+ftb3/73H13bTd/mtdPEuf3iiAlYZOFCqxtc4shyhtCCkKStnRLwNL2TfJG/qUQr/hOON///d+f8gXLNW31QwT51E/91DPe6LddxhKp5mUxSz0Rg9xqmLpNepSHKut5X5W30fqbsH77t387vu7rvm70chHu4e22WE6pX5UIvtXCB78pPOoIaW2+QEAiLWHnwone4IeopYUlWUKpzLFlbxYLqXGClOqxxhB8b4rl3Nt2S+VWZSMfh0h81nV5mzdL/Wr2sc0t23n7yjNyn5mzhN+M/3bbv+3WDV+/NQELUu1KhgWpdvwsSM2Jn4MxARPYXQKTBClihv+nhz3sYSMT/aaVBNfwmyZ1DLJY8c5XwfFngaj167/+62mFVj6peLZWtPOBM/fyFiYGtbzBDxGL11B/9Ed/dHrbFds+tmNu3hSkCJ+BOM51Cf8DH/hA8oHFwJsJ0kMf+tD0HE2SzjaH8PHEqvWb3vSmlAbiwTYL0sHWitvd7nZTg54kSGkASyCk57//+7/jv/7rv5IlAXlC+KTj/ve/f/IposnKLJZiUyN2nl4wT0Eqtzh4z3veE6997WuTsEG+Mcl+4AMfmF7Fzr+m+CJrROLzb//2b/Hv//7vIwe7+Ih50IMeFA9+8INb5YImWNRZtvSwrfbDH/5wmuhRTz/3cz837nznO4+sLvI6OosFCpHj7V5YHRH2e9/73rTljbCpz5RL2pb73e9+KR35BHeWhCk+hPmOd7wjlX04wxfBDkaT+MpyJJ844tT8cz7nc0Yva6BNuMtd7pLC1dGcSM4S1524Rj6W5GA6f8bZTGjnHcdcUMUnFFv2JHrKAvUP/uAPUjkjDVu99W4rQYX2GuGJPNeLNWjfKEf0GZN89jQZEcYb3vCGeOc735n6LOoW/pkQu2ij2x55PlDOqA/Uhf/7v/9LLFic4Xn0Cfgqo1/TPbkIpTabduFFL3pRfPmXf3lawNEWss/8zM+Mv/zLvxy1I4TBwSfXTSuz+UIT90nsycVatksiesGM34kr8aa/pK+RMEXeMG5Qv8vvW23ZGydISbRGHCavGQvwG+OKe93rXqlfpl1qe+j5fDIOeOtb3xr/+7//m/pPyifWY7QhtFOyoOSZlK9ZBXmuI/60r29729vi6NGjI7+PcLrqqqtSmVP7p3HNLPW3bfu3E4Je2zzZj/dbkGqXaxak2vEb3e0te3MCOSYYNbj5qvK4J+arGc2BTXNlgu/8o/GXKXTe8eYDVJki67kMWvTGsNyMWCuw+bYBDQhyE2Oua6748Ju21Og5Snv+yuS8E9T5/DXHCldx0et981V3WWzwnFlNnzW40fWzTkZ2tnQ49HkQmCRIcY5BIQPOpgCUW0woDPnMYACHTykdiDAII7ypSn5bVH5zMYv7Wfn+lV/5lVQvZSmhga7CY0vNU57ylNErrfNJS3Mw3xw4Eocf+7EfS2/Tyg9N6rRCyn28vvr5z39+crCbizjUVQ3aaQ8YoObb+9jewxaU5z73uek6bZnT8zQQ/LIv+7L44R/+4TQglYNWtgnlViOTBCnOwebHf/zH42d/9mdH/kFyp788k0E8Tn95MxPHubKOUr4glPH6cSwYECNInyarat9IR+5zhHh+/dd/fRJtvvZrvzZNFrUd5cYbb5xJzDub+rFdQYq8/YEf+IH4mZ/5mZQmOft/0pOeFL/0S7+U6s03fuM3xgtf+MLU7mtLkuJGufmiL/qiVA6YcOWWT1iV/NZv/VYSSzUBzH2RfdzHfVyylpBwmtcDWXogBuHTRWUF4YswSCf95O/8zu/Ed33Xd6Vn6E2ZeflhwkSd5G1dTGq5hvKut3MRVnNrK89CwPnqr/7qNDHVkb+JM68LTMh/8id/MglBTVHiPJwAACAASURBVAEiHwOo3qh/x7fQn/7pnyan1kz08m124sxvTJrJAybxTR9QhJ87YSZeW73IofkWUZg8+9nPPpsitq17tC1HlkWqB/jrox2knP3QD/3QaIKcW9JJsMjHKVxLmhEIOPLxQz4eyOvbtiKcXay2+Fd/9VfjW77lW9JzJaAQJ6x8fuqnfiq1CToknCiP8/GSxh20Gb//+78f3/RN3zQqh+KEsIA/pXwRQn2A3kJHeX3mM58Zv/Ebv5HaFbXn2ralOCJIUK9pu/JyqXqc+wLib8RP8kXpph7Rl1EP/uM//iO1wfSnPF+WrHldw38W/whH7QifPO9LvuRLkuDE34ovzLhfDvmbbcvv/u7vprgTH4RmhNW83sl6K+8j9bfSy70sqDzrWc+Kv/3bvx210Yq36hz9MVv2+R1xjH42b8+3EqSaeUz8adupVy9+8YtHb7qUBZyYcB0iJmWZvo1nNv0lKmw4/8RP/ERqI2hb9SZgxCD6I9o9FsoYE+gtjjDSM/m84x3vmCy8GQfh9wwxHS6wysWpvF/lHOIo7TqLCXpus21hrER+w462liMfX6ud3Wqr380335zaf9gSPnlGXVI6lEf0E/QlLArqzcY8R/HX85T3s4ptZ9sunG/3WZBql6MWpNrxG91tQWpOICcEkzf8zcmUBl/qPHNzYq7NV4W2WnHYSrjKnasSBp1gs4HOw8onp0qGBhsaqGvFJ1/90MRXq7S6lw6Pg04v75hywUyvT1anQhgS5MZNNmUCvx3LknxQqtXYnfa3sPMlyk/ICUwSpCj7DKpwFku+c63Kl+qJtsVQ1zD7lwUEAyMmiRrY4ePjr//6r2/z9iyVcSakDESpa0z+CFeHxAq+Ew/VuS/4gi9Ig02smjhUXpt1XXWDgRviQT65zFeCFT5xVv1kEPv0pz89DSwl9DKo5L5cBFf9ZILFc7QlQ4NDvSkttxwTUwb73/u93zuamDW3K7IyzWC1OeGgTn7N13xN2vKCNRZH7luF7/mEBVEBgU0Tke1uiTqbmvOKV7wiCQGynHv1q18dvHmReOZtmoQWWTdwD9YTHH/4h38Yj3/841MaZelF2ULonPexHUEKjhyUDfzaKA1wJV8o01hayHkzZUlv3pN1mybcH/mRH5ms6ag3WCDwJjKsKTSRUd4rf6lr1BHK4Utf+tK0ki/nxE2LH+oe5Y/4UmaIBxZ7TH4RyrgeCwcmgxwSDOlX9TzyA3FM5b6Zf4SNZQGiGpP4n//5n0/WDTxX/bJ4qV+lbMJDky3qzXd+53eOrDzydHCd6pCENCaRslzS4kteHjQhVluFeMMzsLCkPMKBODzykY9MbwUjvTyTsKi/mrwpX2UdSrllgke+7+SRLyzlYxC40iZjccQ44clPfnISdoiXhHM+YUYaJEjRvirOsIM1B+kj3cp30tnWf564EG/qLj4ENdZRPOkPKJv5OEb3aREyF9Py9gLhh5dl0A7k5enP//zPk1CXL8LlY0jqCuKOyiT1jfQTtuqn2k2VS+oV5Zlykovpiqv6m6Ygxe+IHbCkD1GbpTirvVYd53raeRy4f9RHfdQZCwe03dRVDjlB1315GVS9JD9f8IIXpLaXdFBmEKTU5/CsvC/lGvWf6tdobxGGENTygzJHmybrNOqQHKhjpcjCBws+0wQpwqTNgSl1mwUcOIkn3MgXWVTzHL3Fl785RxtG3uSLYurXtKBFmUdAlqAFP0RoBEk+2fapcQBMJG6pjaYM8++Xf/mXk7DdXDTKRW7OcR/tN472VTZzEZHf8jGIFiLYioqAqCN/jsq+2kTENOo9VqeqV+QB+aJ0Ek7eLtIX0f9iibfVIYYWpLbXqluQ2h6v5tUWpNrxG91tQWpOICcEo73sNLqYVrNao1UJbqOBpnPKBxM0wpq8MNCmA2VQgZkv92olW+bRDEho/LFUoDHmvFbj+ZuVJnU6auzxM6FJIvFQY56vzGmVmvPaD89ghG0brPAxqMKaAjNh7mMlhjgy0GIrAxYaPCP3u5OLRLJI0WSFTwZ+dKhKB1w0IFfcGXDwvGkTUgboWtFRet1p7XyZP5dPmCRIcY6VTt6ylwuZWkGWHxwmxxKFWaFGIJI1BWWNcvcVX/EVaULLoYGWBGEmic95znPSwFTCiiwNJe6KCb9r1Zi/ESWwwOH52gKXCzpqB1hNZ7WaNI07lEZNQPPrEFZ4S1HTAazqO/USYQnLKOJHvJuWXRr0ylpFHOFHPWdrFudovzQhnGQhhYNfDeCxCtAblBiYqo5LBNDKKfFjNftcWDmSL7Qb5LMERqxhmHAxOKa9ggllRmIKbeZTn/rUtPKL+MQqMAeTKwSFnX7L2XYEKZV5JjwInXyXaMFqNP0Vkx1N3FSeuEYWL6oD5AeTI9pvVrTJS72WXFaEW1kYESYTTUQsCSl6kQD1k/pLHmhiTxw1QUYwU1w06YO56qDEZIlfWBoxoeG7+qFcJCAuWC1Ql5sTMD1fdUJlX350uJd7mJRhsaWD/NbEUlaE8EaAIZ7Uf03w9Qz6LL0VlPKfi7RM9KnLiAcccEdo0OSR35TuvP5LKKWN4nmkERF5Jw+Vr9w6B8fUWNRRPmhH1T//9E//dOC/T0fT/418OMmihU/aDoRUjvwZ87COUjyo9/e4xz1GYqcmyLR3jH1yUSTfQqR2SwKbyge/q51m6xr5DAddxzZWxk+aVOdCBUIpopzK3lZ5R/zIa1m+6lrKEO07ZZPzlFW10eMEKcorjLF+kdhJ3dTiYC7QEheEeix2ZL0jIY3rc/FYdYi81xgztw5Uuhi34rcRXojb9MtN3448oyl2cD9cn/e858U3f/M3J7EJxuo7m+1ZzpF2HMsyxrSkWWymbdnDSTvO2jlyKx++K84Shvgt71sR4+U/ayshlTYJQUrjZMoZlkn0LQjaWvBq5ofiofvId6ydEIPFTP2oxhy0w1h6siWTcOmXWUDmmZQh2iy14828IJ8on1jS8SyVaThSn2VJ+K3f+q1pLJVb9ykPFFfVM7VlEiqZC9EvERbtOPmj+VS+8LeT7dr5FrYFqXY5akGqHb/R3Rak5gRyQjAaWDCwYbCKw2StDKljVAOvQaNWf/LtN+roMPFl9YKVIwYA+fYYmePm1kvs9+etIYhCGjDRkbCaQxgSdbTyPU7kYR85nQiDE54jc1qtAtEZaMU4x8EkjImnRDedy61BlF4GEWyNolNsdtp8z1dOSHdurTEuC9Rh/eZv/mbatpGbWecm/jtfEvyEnSAwSZCivLDl5hM/8RPTAJ9DK6x53ueWhpjGM1nLyxr3UIYRGjia18v6iHMMkhjsUceZSF999dVpyxw+Plj9ZhCpCaYGXwi5bN9hUEi51mov7QPXIP6yPY4jF24Y+DNRo03geQjEDMJx5C4LJ23zYACHkCzhRGnQxI80k3YNoImjLMRYAUWAIV5YOxFXeKr90qDxsz7rs9KKNL9LtJskSOXlgbaMLQXEk8mqtiTyTJjAhr9pK2mLGJju9MGWNSY0HMoz4oKAwvYPVmrFT694Z3seYpTyVoIJVi1seyH/KB+yxJt3GrYjSOnZiFHaAqU8JW1MRFQOEJnwSUP+s6iCCKe6p/wnbyjr+BpRm84iCVvuSDO/M9EhTAm+cOBaJlwSxSgz9EN8MlFjYSM/8u1AskRhayQTO/oOrIU0GSJ81UvyiIkxE3vCz7eTK36EQd2gPHI9cbvvfe+b6h8WjZRNyt5LXvKSYCsXW4nyt1HRz5HPWIxxb744RDzYnkqdJW15GyNhhsmiLJvYrigBThYxhIHwhziNOMXv3/3d3538x/AsuPJ8haEJO1Y3ahP4jXL6xCc+cd7F74zwNKHXuAOelBvKAxYvHLl4RjuKAKI2UIHJMkqCHffIl9PrXve6tC22ufU4F6jaJJLyRF42rTsZO7FdVGMt4iTBQ2Vfz83jIqFTY71m3NSeNAUtrGie8YxnjC7HdxNjOlhR5hDNEMuJL2M+bQPjOdRL+BAm/QOWKfkxTpDKFz8kMNAP0O/QnyHIIVjnwgftHeklvuQlB3nFuJcte8SB81gi5RZS1Dd8aGmBhPsYL9MnwJ7n0ZeqXZDQxvW5eKm/aYOx8iTeEngphxJkcaJOePTHiN6yKiJ+WliaxUKKeOhFKDDnu+os6aY9gRf1kXaTepr39dRJrmdsyvha4nVuHUm9oA7k7QX5T//MbzyHhWBYcdA/Ui9U1mhvtcDLNVgnaZwvcZJwYMFCMnHMD8WFZyLqw4r6S//AOVkn6q2eed6rbGm8gd9Lyp++5+0a8xTKAH0PcSCeWFDl20KJF+M5tiBSFrWIQlrzHRwe28/e6lmQmp3VVldakGrHb3S3Bak5gRwTDI2kTKm5hAE3Ez8NWGTBQ+NJp7LVyk3eKWoFWY+jo2NVhg6UToHVVk0ENQhiBYWVJT1TAx2t2BMWccxX7vhNg3XixUo0lgl0WOpA8nhp4KLJF89WR0lYxJvBFJMOpZFPnqlVNHWQdEZ0qHSiGkznq9X5IGmW3NOqCQMUBpGaCJwLC4tZ4udr2hGYJEhx7uUvf3kglHAwKFe50yqyBF3qDwIEK8iUXw1uVA/e8pa3pIGStlIQNsIsE25EKA3GCA+fOJjTM0lgsJ4LWPhKoj4xsaXMqz5hAcXzOSRi65PBJoPY/GDLiiYoxIV0adUTB6RMbBW2BrIMbJkM52IR9YOJwud//ueP7ld9Iy0MhNnCwCRcTBAJEOiwhlHYaoPYUscKq956NEmQ0r2wkn8oTV6ZbOFng2cxodLkHp60o2w9kMVJuxI0+W6sSMgXVobzlW8sVNgOipioCQjty5/92Z+lckY61LbR/pIOGM5rK9G4WJ+NICURljpB/HKhnwkVgiiT8tyaiFV7yqAEn6ZvEawMWCnHjxYTSi1WMMlgyxHtryaVcKFMyrIv3+qB5Q/Criai1NPc0grLBJ6DxUC+DZI6RrpIkywhVd4QrJh46VD9xNLola985Rn9MBYaTH7y/kIWcdQz6g2T5Tz91LH82XoOgjBtg/papZe6gvUKE2jKEwdcEbsQsKgf8tujCT8WRdR/2Crd5D1CKZaQubUEk0gmqPLvNU8Lokm1hzio/xU/4oglJVZSpJF6DjttNYIb4qi29sCFtMIo39ZLWWQCL6Fe8VCbOW7r/3baCsL6m7/5m1H/kd/LVjZ8SOUsmyKY+iaJFGo/JdQprjCSFTi/adulygHPQLDJ20HOwe3bv/3bk2iO0K1+i0k84zus8LSllLgQBpypg5QJHZMEKVkXsjWRrceEoTEj9SlfyOB30kI5wyqZsigmuWiEKAY7DsLgH9cj8ub+uPJ2gHEsCy+El4t1stySYEY5Qyij3uIHUv2vLH7ZvgcXxBWVEUQ8+kDa+rztmyZI8Wzae8ogz9X4F8Zs86Tf0FZAsUaUZSxNuRYv+ncEHm2pU11R/MQ4F6QUHkwQgB71qEeN2mfSwHjhsz/7s5Ogk2/ZJQysvxAvOZQ/bD0kHERAygP9OffxN4vEuBZAMNL1fLIFEzFOW2tlRUwbhhUTYyNZ0vIsnks8addozzRm4nrGabL6wspVdYWFc7kQkKjGJ6I25TgXivW3xvjbqesX8rUWpNrlvgWpdvxGd1uQmhPICcHkg3gEGQby+ZGb7GtQIqsjdXJNIYpGXoMaGm9WS1ntbFr/8J2Jr5xB0mATFoMDOhO2IXGNthdp9UriEN/ppOlAGTiqA5UopPjK6kQTWU3a+Z1Old8RmL7wC79w5EeAtPEcdfrqhLHG0NadrbByD/GlM5u2CqIOnPjKj4vCnNcK6s6XID9hEoFJghR1g/KLdQdlgfLMABsrAgZPTOT4RCzAHwjf8wGXnotIhZij8qyBJ5N1hCpNyinjD3nIQ9KkVhYaPFNis8JjRZYBviZsclbKoJutIPlEhu1hTHop9wz8KPtY2zCIlhBCuBJvtRrM4JJ4ywcLdf7zPu/z0vZdBsl6Br9jacFKtw7aJEQC3qomEYU0EF9Nank24WMxqXpPmmFOWyGOkwQpnsfEjrYLdqrP4kkdRwjRtjfFj+tZad3pQ2mQBZEEKVlLMeCGG4N3xCjipNVcbW3BuoYJGCvymoAS753aurcdQUrljz6JNHLIYoVPJi1MEikf+bYYlR0mKNQd3SOxhPLDBIatlRyaWDYnWJyjvWelnbLDRJLJmcowDBH9qCvc29yKRvljAsWhsHmWyhJx++RP/uSRs3DCpT6wCq94y9KGSRIr7tr+QXtBmEzo5LOEOMrKSGWP7XPUK20Z1AQ+XziBHefZqqItseLJJ9YiTPrUvypscVP5y61DKItsY0KIyMUyeDFZgwHP5B9WkTDmUJk+lwsy+cKctiIyOaVdVv9P3DTuoM1GmCLdEoM1hpAlFBNVrLzgjFBFXZQ4kTvWb9tGIBIg+GiSK4s8+gucXysfJT5rTCSxVd9lgZNv4cvjJsGEcifxRmFjEc/z1C7SxnIOq28WW6hvqpN8Um4QrxDssAgkr3PLWhy0s9VRbh0mCVLEn+27tAMcasMIU5YxWA7TjouB0sXCImVPi5MSGWgnEYZUZ/mkLCBicEgIybd9I/pSb1XPZGGmLfXcJ3GQ8kP6cssayhkiNQJe3l6o7yS/iBcLI2rnpwlS3EtfjC80WTbxG+N8yq8WnFUuSQ/XIf7AEzFHIivP5DqsnMmrnLXqf251C2uEHCzAaadz/4RykUGZQZzm0FZmhDjmC4zF1cZR72SBxjNkwcp99GsIwuRjbtWk8RR5xfNhoMUkyib8sdzkHvKM9GEZhVCqugEL0ooYx3O5T3nOGI000p5iVUv5oPxLjORe1cG8LyVsWVK2rfsXyv0WpNrltAWpdvxGd1uQmhPICcFovz0dqN6WoRUxztHAMqCgUc3NVwlS+6hpYLlfg/LcBFkdIau2DMqanQYD0fwVs1q5R5BiYpcPTBnI8EyuwfqDjhBTa468c9egitUyVnzlNJpBJh0qqzP4EuCQ4KbJBINytkw0J+oafDEBZRJAx0InRkdLfLR/nTC3WinaKgvyAQWWG3TCciw7Tcza+ZLhJ8yDwDQLqaZvCsqx6qTKh6wPNNihfMmig0Ewq+QIMzJ9J974F2KQpDrKeeof22y0Wp0PsLgnt2SgDmDZwTNVN7CsYDCbT8hlVcl1GihjFSKH2dR3BuWkM99ui7iFhVY+4dM2jtznEW9NwtJSnDRwpX1glTf3vaX80mQb4ZiVbQaUuSjHyjjCnNqmcU7N2YrF81UXCVfO5XkWYdL+4LyYNof0wYpBNe2MJnvzKEfTwsi3taldo+1kwAw/3pbGQTy1Io24iBUZwmU+wZj2rDbntyNIUT5hiNiq7ZpqX/kdURMLJ9py2nraYsqJuDNZx7IvP8hLRCDKAOGTZ81t4OQd/UZzyzXO7ZlAaWJDmWfCxcRfE1FZIlEvmcDKck7O4hUXTVKoY0xENZlTP0YeET9Z2TF5Jy08RxMmBDfSMc7ahjAQJPH5o62xEk7YNsdEjeeSHiZViJMqH4oPEzfKtwSPfJKubYWkEVECoVtsuJ/8+YZv+IYz+GP9xfY88kELRQhqMKet4Pet6nSbMjfuXuJNm6fttU3LLCzMsJhgAi1/Y2oLEXBpSwkDgQnWWohDhJSFSfPZEtxyq9Q2adN2KcJQ2aPNZ0uxrOxUXvKJsMYzEnByUS5fpMzP5+VeYyy14xqDwYMygnDCltHcD5T45mMbRDuEKw71H2o/ZcU6TpDSdi62TyFK5xaIuod8gQXbWXO/Z7Bii9q9733v9GzlB2lHlCBeShPpgSV1neu0oMkzND5luy9WXbnQx99qwwhLlmhy+6C+FZbUAQTcXLjhevWPpJU6jGCFaNwcJ2zlQ4oxJcKa2hT40k7Kr5PEET6VtzkHhGPSRfuqMS0CLNa/ErNIl7asqm5ovMJCAu0bh87pOcor+CO2812WpSxE07/nVmvMBWh/9RITuNCusZjCllgduasNte9qc/IyJqFJFlISvDQfkGN50q7tp4yftI1T7bLqCnlCW0eZhSF8EGPpX7mGfolP8nqc6NumHTif77Ug1S53LUi14ze624LUnECOCSYfeHAJg8+mI1E6F/mqoGNTR68gGQywosKAlhUcOS+VKbysPjDdxSyfQyvVfNI5MjBmMq2GnGsYgNOZ5nHU33RebHGjs2OwoA5Xg2g6dwZq+IfSQTy4n2uxGmEFk05EgzgN1uhI8DOD1QdHc2WRrTB68wbnCZctQKy203HJSkSr+5NykMEMAwQm4AzStSLIPc282dmS4NB3isAkQUrli8/c2THfNQDMt2E16wgTUuocVhwc+RYCVs2pI/wmC0MmV5RtWVlokskgmLDzFUkGYjgxz513Mohj4ihfFKSN+o84LMsABl5cJ5N7vfac+GkSnk9MVP+0VZZBOXVMVhtM7Kir+cHEWS9fIA4SoDTR0SdhILLTpmnLhCxB+F2rqOMEKfgxsZLJP20Dac8HlogerCTnYj3xJx07fSjdsuZEHENQlxVMXo5ykZy/iSMruIiCskIlHPJ7J61TtiNIqX6wJQTBjTY6n6QhFDAx0KRXkymJJjjIRYyT424JnrkPkbzeMNngGsoKdYo6oMkavzHBpjzkEyUskNi6SV1S+MSTvoUVd5XF3OJV9QAWbJNjUpbnD+lh4sekWEIHfSxbfEgj9ZJ6Td4RT6Vf4TbzT2+901sDiQviEe2HJthYJVDXFAaf9NmIMk3BTmnJV/7ZUkQ/mB+Pfexjk1+6vM9ncoiopzyBD/FDOBPrc2VFkI9lJLzIebLymPEMWzhhp8mo6ogsUSXwkk7aYybPKoMSGPRdz8nLQ5t2Qg6lc/9AtMGIMFqQyNPZLBu5CKfr8rjpN41HdD3p4BzpZSunxkkSGrEmlF8/LVRqIq5yQ5gsFtAWSYxQ+8q2NdoytQGEu9Vb9ujTqIM8X+ErjXk9ZZwlS1ZZkNL+sQ02H28RDr63qLtqa0ir3mKrcW0zzxA0EMUkSOm8uFDPSCOiFgsd2mWgPoW2m/qeW7ApPTxT5TK3KppmIYWghGia900aV2vsqjZVz83rtF7YkPuUZHsyYwg57CYOCFL0pxz5eJwyQBuV5yF/y5csbBBxsF4jHNoZidtsQ87HDMSB/MzHSYz/2TLMIYFLAmDOhjLLogEvjODQmIrFJhhxkOeaL0g8o/3CUkzlSWKr5hsqqxLZJMSpX+a83pZIfPLdHh7fz97qWZCandVWV1qQasdvdLcFqTmBnBCMBkh8IkhhAZEPYPKBhgYqanBlLUAnpNVOBrYaSPAb5zTYYECAaJMfiDtMXvOJBue1ZS/vBAiLxp/Bq97iw3kNEPmb1RXSMe7Vq/mzGfQzmdTqtibfmP8yECeu+WCc9DLowMJKDIgPkxT8aOQd7yyTOnHOJ9VePdn5Mn8unzBJkFJ545r8TVXEL7f4a779i0Eh1ko4D84nD/xNWUbcwSEqg2QNfBlk4QeBe2e1vmMwiWCcv7Um9+/QdJhN2c2d3qpNUBvDc6kXWEVivYSVQXMAL0FKecR2XsztGcBx5JYxGghOyk+1H1oJbYpXk7bsIbJjvSmhOGctoYAJtga1+ZYtPWeny5r46ROBjPY39xmU+/7jd0QM4o2FFOmnzOS+o3IRcd7x344gpbrD6j+CFHlIGSK+rIrzRrRJB/0ETszFQvnDpBDnueMs2DQBZUKWH1gc4Nw339qIhRKTHflIUzllOxBCy7SDtGCNhdCriTt5yeSUPiWfIObiQVPYyOu+ziHYMSmkziOM5L6QsEpBSOCgX2MBBvFFfSF1l76UNHMQphygb1UPtuq3uEeit8RCREI5NyZc8hPhQlbHypN8DDKNYdvzWjxqioeqwwiBLBgxudSEWG03z5ZVBfkly5r8TaSEo/FAbm05azs8Ln3kgyxZxVLcmGwjfKj8NAWxPMx8rKL7m+4VKNc8L9+mRp7jnwgfbpqMEy7PbdadcWmgraHscT35IK4IQli/5GOqrQQpfAXi70nuFWDanOyTJvzk0Zfp4DrGmE94whPOaAckSFHPc6akKX9TZLN8Un9pT3MhhD6ccpBbxSDcIODkloZKY27p2BRIuQb+5BUW/yyq6qBdZDxAG6m0cx39lvoFCd6UYfrzWawQuZaxMPGShTJ9B/2xwiW9tM+MuZV2ztFv59vsx+W/3IRorMB1iH9YfeugbCB25xarXE9bwhiCQ+nOy6+slhXOVn2/nosFHeK5OJEWFhUY23OfLNJkFSp/abJyI58phwhYjIG4Dg74kWJ8oDqW9x1t260L5X4LUu1y2oJUO36juy1IzQnkhGDaCFJauaFRz/f70+Hqdcf5xBoH56w2yoqIxn+aIKVOOh8A0EmwMqctDVq5ZNDIyi9pmsWhMPexMsK2D026+WQQh3NnfBk0J2yapOdIGbgzeNJguu1WHToyrZztfAnwE3aSwCRBSgOdfIWdgZ/ebJMLHPqbQS8rfVgh5WJpLhZTLzAvl3m70ocvGawrqK9MBKbVESbbWA/lg3hM0LEI0bNzqyytmiuuiEtM5nASzBZCJgQMZuV/QRaN+SAQ31NMHjgQsImvViI1CNZka9qEbtLgL5+gjbOQgpGc2PJswlO6+ZtjtwWp5nYtRAi2S7K9q2l1wySTSR1vOcTKjCNnpAkP5WKnRKmzEaTy14orztquNqnuMkkkvZQTTRy4HlGVrdfjju0IUvhEIi4SXwgTh+myJJylbcGihjxTflF/eFMTwhl1BREkF4HyyRe/I35Rv7C0ZSse1krUSyaUxEX+UySWEaeXvvSlaZKnOsTEE4sw0iEBM99yR5zUr43bIsi9ssjUtqZmHWSiiVVL3qbsliDVbDNz4QAuOk8aaHNxdI6Yrsmp3g5HWiTw5b6LqG/NSbHyYBYxfVrZoS4x7sBHkqw21S7pZRnNLZb5xFhiIc/RwiN/K59leQmLXBjNBR8WPhA9JfoSjhy/vAAIIAAAIABJREFUT4u/zrMoSFlTfAifbW1YwSpuW1lIcQ7rGomACk8Ll7n4txuCVL7QSNxIFxZB2qIoAYftgIguMFS7qwUPMcn7VraqswVbeUZ+4Q8JYUhjR2075rtelEKYtDV8V5s4KY8IV+PsfNH29a9/feo/NLbJfc+qT2cbOG3RtKMpSBEmghTjeP4m/rJY47usu9lSR7smq1SJ7Vu1TflvOTPlD/MA2lvGKvl8BeGPhQ+1aWLJ9aSTOqx84jv+NNl+mLcrCJDMI/L6nrfl0/j4fIQFqXalwIJUO36juy1IzQnkhGDaCFIES+Mq3wkSUVi5oFORA1cafhpxzLDZA5+LS9MEKQ1+FM98JUo+BLTiwwoW+8rzQcw0gsSLN55gCp0P6phk0ME0Ox2suRiAaYsfaUEg0yAjX+WeNujkefmqjcK0ldS0XNs/5ycJUohGmOpTV8hzBBg5BmbAiNk6A03VL5UVOeTMKeSTBCZNTEQ5tF2PvymbmpjLenESyXxwpjjgH0U+ZVROtdUWURqBhjf7MGDGklATJMLS6qIsEpQeftdEDaskJg+kn4EvA1vquVa+iS/XMBHazkHaJWDn7QNxGSdIKX4aGBOH3IKD33dTkGIwLKEg356CDy/Ef+Kbv3BCFp84qdbb0nKGW63Qb4fxLNeejSCltzhpAsdzcj9l455L30I5yYUYyizbO/K3ZTXvn1WQklCBBZImbOQHExn6wGmHJibyAyQhiPpA/tDXcSBKca3eUstvWPAyieUlAPRHxEWCrfyVaKuOBF31l9zPRBOGmrTzKb4SxhB+sWaSdaHSo35SdZJwKYtbOetGyJBvNe7HWbucbcNsNy2k8nFI0+JFYxviR9oQTFhog7HaBa5BLCR/sFBpvhCG82rrcssZ/d62nycuCHwIi2rXVaYQarSVLhdmiLu2aRGP5haxrSyMCJM8py3hb1nhcr/axFzQ4gUtLDxOWzCQTyfiyhZz9VeERVnXy2OUN00LKcolVmmyZmqWT/Hl/r0gSG3VrsCIBU38VuVbwVU3NIbMyxEiDm2GyhF5SPlDkFK5ZREIqy7lde5fjPKcl+FJ7ZQEJuU192FJJDGb81owUDi0N/jpY9votCN3iC6BSIsNKlO8LZW6l5dXtjnTBnLk/VaToRb7mCOMq2+wReCSBZbaUcLOF3X4nvPI/1Y6+Y38UH/A3ICt/xyyOrQgNa1UnHnegtT2eDWvtiDVjt/obgtScwI5IZg2ghSNvywGch8DTIhzh8Uyw2ZigSBFI6+OdpoglXc4TLrYA8/rpPOVRv6mY6OjRgSjQ9jOm2y07UKOl1lZpmNhhQ7ntOpMCJcte0wA8o6KN32wisPRZm+4OmAJUzuf+37CThOYJEhxTivZxKO5zZNyyMRUwqUmC5QPrBkYRDVX/7gGIUgvCtBESCbkfGqiOm1CJDEp9yNFHWNwqHSpvLOiibiGKMzAjvohIWcrxnrLWz74I665hRQTYl4NrRVJtVU4Wp1VkBq3dTZv9yYJUpqAShQjLRo48/duClJNrnDHWgKRQgsF5A/tGnnO3/j+YLKH3xWc8Cr/ZOmWW0ntRN3YjiAl1kx4mGxpVZ9ymy8CjIsnFnm015SBXMxS/o2bMM8qSPFcOd3X5IW4YanLAsc0S1nVXUReJpT5hEd+yHJHzZxnookTdCycOEiDJp0SB9Q38p36nltgci11j/uZ+GmxSM7guR6hgPqL4IXlQC6Si9k4X0RiDUPaDbUTEszwaYOFlCZ/uylIwU9tXN4WEmfqiyxL8FOT5w/pok2SgCiLUMY3+Ktrigkaw/C7LMnHWZltt84xFpFzeqWHvEOMwn3CuDa+OSnOvzedu+eT/Pyc2pa8fPFsJuCMiWY5uPdFL3pREpXyviAX0scJUoSPhZi2nuq6Ztp2W5DKFw54mQYLLRIsSAO+UhnX5nU9T0PTOpK3yvEGTwki1E8WrrBMU35rTJu3ezxLFkb5ItC4fFLd4DyLZ/LBhZU0L+BRGabcyzpLbRhWX1iPTju0HTsXdxD4czGLMQdtZN6uSfCS1RLPmVSm8/OkS/6c1EbDKV+AIz4aK2k7qMq5to6rXkiQ534Jh8pfyrW2PW/lr20aH5+3hVTbMmBBqi3B+n4LUnMCOSGYNoIUjXhuyq1BKhYMOETNO0MaawZ1dJr5YHY7ghQrkUxQ2Z7AZJ1De9txjiknzBoANp2xboWBwQppYAKgV09zHZ0Okzbe0pU7G2erB5NmDvkNYYWLAQXHdgQpOi2en2+H0KBSK9Y7XwL8hJ0kMEmQouwi5OAHQRYGmvCpXjbfnkaZo7zgJ4iJuibXDKA0QEKsYgsOByv4TJ4oa7mz69wHyrj0y/mnBmoa+GIhlQu+T3/609Ogi+0G+aGJLHEkHohIONpFrOY7g2jVYw1kmWCxLZGDt5RhbaKBsdggNOCjYpqg1kwXA9am2DvJQorrNcDMLaNkjcDnbgtS+SCXdgirOm21ybdZMADXxJnVYhjj7wJLOr0BTm833GqSPq86sl1BirgwacEiQCvPlAMEKbW54+JGWWIlXQKBrAIkOOR+s/IwtiNIMXHCwjEXf5gssd1u2qGyRT3mX245SD+DBYB8vdBH0X+ylTw/miv2tCksorDVBDGbiSS+EqkzhCEGcujLMykv1HWJSBKksHQkbdR1yk/up4druQ6GmuQSl7xvp2xyb15Pseh5zGMec8bkcre27MGR+BI/+vuthCSsMyh/msDCQFt4tF1H1kNcQ5smdwW51WLzWdPKxqznyU/yLn8hDPciUrGgxtglF780ac8tz9Wu8qk2j3QyjuM6Fj7IRyyW8CHEd3FjzIWQooP7EMLwATXLwfMQsPTmNvWXtEnqG8YJUvyOIMWztJhHWdT1ev5eEKRkZYjfR6wExZ9PBDX8FWmRthn/fExJnWMbGOMCtefUQRx80y/TtlM3EYN4oQMH5YO6yO9NX5WT8ih/A3A+XmB7MdaV6k9puxClckERy0o5EZ/0jK0EKeJNu6pySX1i3pBbAWpL4DirXo2f9GzFLV8kyLd2agFNbXBuRaj2K+8X80Upscl9Neq5bCclv1gEytvB3NXBLPXkQr7GFlLtct+CVDt+o7stSM0J5IRg2ghSBKuVeP5WI8sKDh2mfDtxjufIh1QenWmCVB4/BihMROlctQ2ADppBM9vr8s5mnGVE/ux8O0FzdYW44wiWAReHwtZb9nILKVZBmBxJFMi3+U3KQa7PBQXx1Kr3zue+n7DTBKZZSGFRhGm9DgafsnTgNwZNTNjwl5BPPhGXeMMdllBNEZRyizPnXOxhYoupPVta9faXaRYchEsYvCBAE1AEDFncUAexCGCSLKsrfpNvFVaDcVjLllgcPBOe6iV1hHQhguhefsMRO3HnebxZjAlQ/pYffscHEIL3NEEqdyycM5LlFs+bJEhp8q684VoNimWts9uCFHGDHwNfJgq0Y9qeATcECVazcXZOvtNG60D0eO1rX3vGm+o4zwB72nbjs603ZytIMenJ21y9GnxSPChLlBP1P7mfm0kWKtsRpHBayxa0fJsGIhhldNYDq2GcU6t+84kPnTe+8Y0jSwqsD7GMok5I4KUf5FpEWwQ62hHqKhMj6i1tBPGizssfjxhi/cTkOBcAEJRzKyss7XBanU/mmm0N53IrLbUp+UIV9ZA2g+uw3GBRiXjQx+62hVRzu0++RQoXA0zy1f/DmuupH1iocJ7JvhaySAv3P/OZz0wCqibU2sav/p42cJwYOmuZya8jH/O3GytPqduUjfzI86s5ac+tzjnHAgILfbkFFFsXaWtoW3gO7TplUmWE35pvsRyXJm1hgqXe0ib+CGqqQ+MEKfgy7mL81RSkeKb477YgpfTDkTe5aTu1+hcsBhm/6tAiQz6GVb3jHvwDIvppwZd2HYYI1rLeoe3LrYhlAcRiLu0C9ZGFq0kHfQH9L3UZQYV4MQ5hDMx3DuKDWKQthGo/sJBC9J52aMEtX7zOBSkY4A4Dy1/qD2ML4sU4BH9NHJO2wFHGKMvylwlH7exQW8UzEPG10CyhD7cDD37wg1P/mrdxsjqVGwNZUiHU6uUR6g/gl/un1Vs3p3Hx+VsJWJBqVxosSLXjN7rbgtScQE4Ipo0gpclZPkhlVZc3l+AgUIdWh5hA00DTGWr1cFZBik6HATrWJHSCej034TBZ0TYiztFxTvIR0sShAQCdhTqu3LpKg1bSi2UBW3y0KkI8GBAx4aPDzFdTpk2YiUdTgNAWoZ2aEO58ifITcgKTBClti2G1T3WE8iCLuXzAzrYRHJlrQsqAkHLHRDYXMCWaMElhQkLZ1UQXXx28CYZjFsFWA04N7LUiKhFaWwMVviypEDqwrpDj7GY4fCdeDGxZddeEhzr39re/PdUxCbUIwtTx/NXVCGBs2531kK8S+dLhu9qHWQUpTXhyCyvu3U1BSuWDPGXLsJwoK7+wkEEwgTOrzKxGw4A0wIADvjifpw2kbW6uzs/KeNbrtitIEa58lGjSQvwRSnhL1qQDqyCs8STCyNKHfJuUzu0IUgg7bH3LV9QpWzClvk47KPsIWlhUKU6EhQ8e/MqoTjzucY9LAjSHVuIRA3jDWf4Wp7yuqW/nPNuE8pccSJBS/LBokN8rhf+UpzwlWW7kwoVEC21hzc8xwb3ssstSkPyufpi6znf6zPy19Vy3m4KUBAHVF7FgTMKWRpwRc9DWkm6JuXrbIiIfYl8ulGqh7FnPelZqo5ikci91k3HPdtreaWVHFtaUAbZ9qR9Q+UY4YquTFtUUnspZU1zM8xLhEEu2XIxibER7h/Wd8vjRj350svJVu0jfwPiPOM16KAxZoHAfv2Ghnpfnpg8p0ot1FSJPvsjQXOTbLUFKea2xHPUBsQ7hSG0ZdY3yRZlT3dZ4dCuxlHO0N7mPOtizrQ1hSAf5xmIVfSflVqIIgpKs2lismHRI6KGvoKzkL/jgnKw3JUipPpFexPHt+JAaJ0jBAEsrxjOkU9tleTYWfCxeacxEGFtZAyqN+dZTfpMDecodVnb0J/yt+ox1JIJ0czFLi1ESmPmeWxzmCwvNNkbjs3zRcdZ6cqFeZ0GqXc5bkGrHb3S3Bak5gZwQTBtBqjlRpQNiEIszVlkLyboh38aQbzOZJEjxRpDcioMVWyZfdDpakWOQxwDxkY985GjryayTqnwAttXfmrQrPL7zim69olodD5YgvCmGATlM1PlPs0DRYJcJOJN4Vq58nF8EJglSnGu+gr5pucFEhuuwJpKT19yUnt8YYKqsSqR42tOeFs997nNHk1cGWY997GOTs/HccmgSbVk5KEzVEaUJgYN/fJf1Cc9hZVurs/nkQJMGDcZwsp1bcXEv/qHkf464Ua+Z8OhgAI/vo9e97nUzFRT44qMESywG4HDC+oQ3a8pHzDgfUtr6lk+KmoPb3RSkiAuWQrSLHBpI0+6wgoy/HixmOMhDtm5hvcGhVWDygvZHwpWunacFR55R2xGkNCFCTMMSTwfpRJCSb45xBYF8pd7kDn3hkOfrVvduV5DC5wmHtn4RPr6e6BemHQjM5BV9BvVSCx0SXfHbglUDEzJZP2hrGWWbZ+TblJrWOOQvfS9lgUmT/JwgOCBUkR/8TrnACkvlgk/qJ/WGQ1YFeRvA74RPPmFJgwWX/C8SV6yZ2c4rkYrrtWUvbwt2c8teXp+JM+WDxSX6cw715boOixzEH7WJWKIgStFWSghSXYQH10rQkjDRFIKmlZFJ5ylriA70AeRZLtxzH+0TZSRftNDEXNZezf6A75QHxEhtxyS/mPzTPkuwJEwWSrByUfmHAXFRXzUtbcQBIZy3g+YWwFpk5H71N01Bit8RpLAOzLca5vfo791wak5dpv5q8ZS04jMScTnnxd9s48M9hMbGKiPaKqvFTdo0xoqUN9VV7pcPVZVL2NBmsHVPW/UJg+vI21l9rGo8ImGFT8VFv5FXCJ8SSInPrNuW9Za9XJCiPaV90vyCNog2UuWAT9JOPWWOgFCWj9H1FkziQdtPm/TiF784CVuUE4laWF0xFmCOglCIpaosjOFP+0h7RXo1ltfWXbV7zV0Z2tYsbvl4Lt/CO+uC4LT6cyGctyDVLpctSLXjN7rbgtScQE4IZpIgpQ6HwT8DM3U4GpBwL3/T0GO2joWR/JbwSFlMMBBjtVqdiiYIfE6zkFJHQ0eAibzetiGnjJxHCKMTIz7qUPItA9Mo5gKWJtC6Rx2wOkcGZddcc81ogKdBlKxG8hXkfE/9pDhg7sxq6rwdnk5Lt8/vLIF84sHkkQFOc7BM2ZWvB8o4daXp54CyTrnHGkrbYDVRktNMDXA0AHrZy16WtstpIql6ST2UjybVEU1KeU7+NwN9Bm+ssFL+mVjhI0VvaJMYokk0dQFLCwZxKst53WLSwSSXA2tHzOGJF2mRaT0THgbcqm+5w+fcEgGLjwc84AFnZCDPkl8IDZrZLshKO9y0As+qp3xewJoBL6vJefhaBZ1WQuRDqOmbQ9Zk0+5vcx7nskx4ZfmidpW0IIhgQUOa8gUAVn2ZlOR+psg/8pQ80Ysd2sQrv1fCA/FQX4MII+shxZl7sKrAukJlRmVZ2zokplCmc2ex4+JKO017zaEJD/kt/zeKT+7PQ79hhYBINyl+strVtiieoXJLnZZj8+akkvhoGxtiIhYeHNoGRVnlTYhsI/n/7J0HmB1V+cbP7ib0GqmhIyJVRBFUpIpSpYgoGBBERFHAQhEFpQmiIEHKH6kWqoo0QSki0qRpRBDFgCC9hw6BJLv/53d23+Hb4e69N5nZZJe8J0+e3b135pTfmZlz5j3f9x3qixjHfaDxmPg6jLW6V6M1bdl9hThauC1qLNLLKW2jjmJ82WWXZassBRvXixUv0Byn61nPplgO7eNa5HlAnTQ/wFWUHdeon8r561//mt3I6Evy4D99hEWZXOJ0rbSzoFPlOtV1Rh24JiiPa0Ziul5EZWWKmxQLbjFhZYGlKG3id+4fGKqv4MKOZPCUFV0UEKvUX+dyLbD4wH2ia0Lf8axHlED0I6mdZYEK5vqOF31iFOpe4Tzqj4UtYwJJ8xzt5sZn6nfGCZ4ze+yxR3GshACdS3nUFfc15pfcd3G+iICKJVa8zhDXH3300QIZPBGlOV/zMIkVkSvtok85V9YsfI8rmAKia25LHbhmeQ7Fe5+NCspBuuOzDfcxnrckWc5oLhnFMsZA6hLd5eDMMwCxU88iPYfUJ7oXJM5TN+VLmXHnXY2BiNpY6nEs+dF2fmeuTl/Jyqm80ER+fMe9wHNHAfz5yTOKuF2Kn0ZbsfjiuBgUvByYfKDrPMbI1PmKP6X5CfXD4gqL73h9s1jFMzZacOk5peeweDImcp/qGU29sTLDOp1EHsxDyrE1telMI6E/9pE8JSQKk5fi/iGGwl2x+eJYWMf9/3bPw4JUtR62IFWNX3G2BamaQDbJppkgpQlUfFGLWWlyGwfu+HIq81dWH1iNKK9ikFczQYqdWshDEyOtxmmyp8GfyTtWExzLQCnLB72UDtT8GEMqvjg3Ol6cmBQxsGmSXT42vpREE/RGeWoCJ9NgTRg1cRj83ncJg02A64oXNlaqcc3RREXXMNY/xEArv0hybTLJ0fXECyyCrnaw0wSJ87iHWGWWS5KsWxDAmERzrXIcZbJrFrEdyLdsBRN3WiMmBRYT0WWDMjD510Qba0UFlmZVHKEBKyQm2+TFc4E2SCiSiT88eLEru1zxPS+mWFTQFl7w+AxLC1bcFSAZBqz68xKNS4wmk5qE0qeUgdUGk3+xpj4IIZxHcHUluXbFa0FxsJpdH/QJ1itMlnlBE892rHDquu4QCLHEkODAyz39izVBTHp5gSkvYohycNGzmxcKXiDhSaoj6GojSxCY8aIjd06VT9/xcomAyPNe1wp1aWQhtf322xeWYQOxxFIPUUd9yU/KoW3l+408uKeoM9cZL6BYLbSqH+IrMWDitan68LK99dZb5+tCL4m81HE/0j7EV158uYbi4gVjDPeBFl14aaOPqVu8Lln5xzogXvca82RFxdiLRYQEAL2wIaRiQRFX8LmHseiIO5xx/3AsgkZZ8NULI/c7uxly/8tqg/bx4opIFd3SiZWDVQMv5iS40QauCbnLR2vluu6TgfKJlgqKTXn22WfnOD161lJ/PuOak2taFHn5nfgzuJkhTOia4fmLiEVMMS2W0Vd6HlcV3FR3yqdfEUQkTlMOfcCziA0umCPBmTmb+KoNcXe3U089Nc/VJDhJlGPsYZwhf22CIKbMvRSiQda7stCUIKxjI2+eu1gFsSBAOfynvlih33333UWXaTEFSzQ4yxKNn7gqI0iR4n1APRFPyI/rClEA6yLlBRvGH6yVNN+SaI3VlYKyy00Mix/u9fJCp0QpLOVWW221QmRV5bk3GBM1v4QrQi1CCr/rGUw9+QyRReNXHJ/hxj0DV+14p7AS1JsFKwKbS5zmM/oXQTJaq9E/2223XT/r0mi5I0s1REUsqmkz16nuBRZAECyjCI7LHgs8ShzP8xO34GaJPJljaIFEcwXGdspVIH0WsWCDsEsif65B6soiNZZNen7DRMIwfcU1oMDpujbpU+YyzA9IEjOZh91+++35fN2bWFBhYU1MM7n4xbFR1zPiH1aV9Bn3In3LfYHoRblxMa68c+pgP+OGe/4WpKr1oAWpavyKsy1I1QSySTatLKS005ZeEnh4a7cevehpkqwBXUILEwvMvhnM9UKkCZmq1EqQogy5/ykOShSkyCdafUyNOXxZhIovKeUXFnFipYVJpwYs5UG7onWYBrpmPSjBSttFc+z0nIwP/tXlEiDAtcSKL4E+4yoikyXEA+Ki6drRS6hWrDle4pS2V9YkmckQ1ztuMbx4RsGXcrFclPUVEyXuSyZDTJQwYedlU5M3CVZM5JlwYoavlxJEHFbhKQPLFO0uyYr53nvvnTtZwjF1IPaNtv1WXCOt6HLfIKKMHTu2sLjU9vC0kxdTBKjoKqBddnTfiyHcsDDBoorERJH8qR+iExNv7kut7DIBZpJN22WNQV68qCDgwCC66JSfM42uZoRGJt8x0dYo5A3WXSBGvIwwsWeSzosn146EpfiyoRdQ+pgJNO4SXIOscDOplwhUlzuBnqFwpG8UgwRBnwm+BCA9K7GQ4qVfSZYrbJKBFamYcr1g/UcQ92aJa1svz9G9Rf2qa1NCT8yLe5UV+fhiXq4fx2N9R5Du6G6kAMCUg9DH/Qnb2Be4tfMyzljCvUN/cTz3p7ZVl/uN4i7RV+TBcYhHvIiTP9esLN7k4stnOk8iCjz1UiZrNNog60SsOGkLx0k0oc/Ii/sJKyD1qcZZxCqsOxCyVDZ5IoLwwifrDAll5V32ZC3A5zyrOI7rk8/bdSua1vtL4pzaSz66p+TeSpsQ3XmeSQCIsbJi2VgLbbbZZrkPEalhzHxBYwA/6ScJb9Nab53HdaDnLv2h4M98pmcq5SFCIXKyMxoCKOIMYibXHM8Erk2eG7xQcw3IUlbWHlwzCFWcGxmRN89XrgHaHXdxJQ/KZCdPXurFQNci1xMxrnjmy21bLqmMP1guxcU9rgmsWYgxSNJ8FEEKgYc2y50qCn2aT3G/KKSCnjcIUlgFqm4SgNiplHsr3vtY89K/KoNzogBGfDcsumTBLIFNllfqJ641rBMlPMVrAPEIcQfBVuKMLJxxYWOsRcSOzzKdzxiAsCPrLFn1ESyeZz3PX/LStU5/MZ9AsNecHv78ZzxE3MJSTIlnD98xX2ExR5ZmesbxfJbwzHFYLzPnaZXKiw0cj5CrgOh6BvI57xFYWCr+ocZq8iDeG3VRnDaO5z5kXGOhQ9Zg6g9t2BCffwjqhAugHXGexgIZ9xaLC/SvrB214I7gBUs948mTeiCWIWzqftL1Eq3LWvHx9ylZkKp2FViQqsavONuCVE0gm2TTSpBqNPjF7OJWpxogeKhjAcEEhpUITeTiyoImtK0EKT3EGWywkOJlVsKX6sFqGmXGCWwri6fYBq24RTN2Tbxov142+MlKMQM2KVqGxbg+DMhydWrVgxzLgIaJPPXXJJOBb2oCs7cqx99PfwLqS0rGHYoXOq4LJiR6KealEfN2rTiWX941IeMnohATSMV1IV8JxlhZYKWge00vjkzUmOArbgjXKS/qnMeK85ZbblkEw+YFkpd8beMd7325SEWhlhcJrf5qgq5JIcIPE2gm8rQXaxVeWrH04OUzpigC8ULExJNEXpzLSxMvq0z65e7C/aH7kokibdfKMXGyeNbwAhKFIe5dVm15ISPpGYRbEwKJ2iAXQr2QNLtyECRYueVlTNw4HzbRymewrj61gZcOVngRG0l61sbJL885TaI5BstMjuP5o5e4KATGF65pqX8U1+NCgXaAiq4tXP8ImbyM6dmra1kr3KoD5+E6xEtCsxT7VS/L9A33Ee2lffChnho7tEjAPalA41yHA9WPl0uCP+slifrovtFPrMG4RhBOuf9ZhUfk4HvFXOJ32GNNQ3y0GBcFFxteAmWdqHGH6wuLBcQ5BDTaBmdW5WGDIML9Kvcc8pRlElYgiCyy0NA1gxDACzlJ95cEaQRgrMF0T2JBRlk6TpbUvLzy4oywTH3klkueuE0hVHCv8hxSX/Nc4lmBSMKLOfx5aR7MFK9JWT/EeErayUyuZ/Qx/aeXca4V+kDnUleuOeY97GgqF65GO2tNzcJZOwy4j+GPMI3AHMUUXdNy9YQr9aZfEYfpQ57NGoN0rq5fXraxqGQM0gt/tKyjfty3jB2aB8kqkLK5PxCTWADhGclCBmMNv6sszSOZ31F/rqHy4hzPaPhyvXEPUB8WPLkH4rgn0Yt6yaIJUYFrP1ooY8GnYPBizP3Cvcn8VXM/vpPAEtsd3bjis4bj5SkgCyo9X/Vc1s6aYkz9GK/4m3sZyy1EXebHiDM8E+AlCxyxEb/yombRhA5GAAAgAElEQVR8zvP8YeyUlaSuPZgxZvDMgT98uBaYq2i+oPGWvwkrwThDkqDJ7+XnM5/RBhZrmiXyZOGLuosP/BGkEDkZ93luq77M85n/xIUT8cMtmWeGrASxCmNsZq4k61M9pxDQeT5yH0solGDO/aPNDHRNYqEFGxbYWeTifqe/GMe45rkO42I81wWWbFzj9Dd5a9FAi151Lfq082wY7sdYkKrWgxakqvErzrYgVRPIJtm0EqQ4ddttt82DgywQGATkdkCsGr1c8zn/mUww8eQnEzzKKJt5SzBqJkgpNgB1IA9W6ZgcSjiSkMTqESuSmpRMrZVRWbzS3/GnVqqwpMCKQ5M82svKI3E+mEwz0NBmzlUcnYHw6yWJyTl8pkZEG/wrwyXURYAJChPKsoUUk0smTVjYaEWVMiVCaSIWr2dEBCbtesmUZRUTaybSTHg4X/FoOJcA3kzAFOdIkzhN0GLcBP2ul0uuSyZ7xFLgBUZ10UoxQurJJ5/c73PawKSROvIyRopugxKgmHiy6qwVWvLHCouXXsqVaID4xD3FCrTEYOVRjqUR+0yTRO0yhRiFYKOVXE22mTgqbhVliU8rCynyQVwg5oW4US/O00p5XdfQQPnIBUzPvuhSEl969XtZIJDAqJVj6k5b4kt2lTbEFxc9r+HNNcU1RJLwxXXEirJeTtQWvfAgqCheiHaAa1Y3XhJ5kWTs0osbL8wKNFw+V25ulI9QixVHs/rxHS6xig3H81zPfq4zdpwtL56oTN1fcVGDul566aX5PtNLF/WGG9Yc2iGT8QKufC5BmnyjlVZ8mULoQfjWqj8vWLhl8SKoFyNds1wPXM9xl9xynfUcoQ2ULwsX5Y/YhasebaeP9axSm7EaiqK6Xsb1Pefx8kvMvMFOuv7LsXriM1fP43hP6CWUNtNHelZJcIAnzz6s5TR/iSJBtPyY1jaW5zm6x7F8xDqDe4XnqIQMWQTCVy/pem5IaCEPzV34yeYYWNkoqcw4V5HLIHMwLK1goWesrmPOU97KS+KVrIIRnBBEYhD8aAVGnDuEBn3GdcicEKvKaBUVx1BZJZI3gq52SuQYXGqZ20b3M7ggMjBmKp4a3yPGYnFcFhJkWUy9EEM0pujeRMjQda1y+I57BiGZ54fGMi1INuonMYMN3BTHVGMUwg5u9hprxYB+JV8WYbDG5G8WiRG5lbiHqbcWVHR/x7lAdJHWfSChVYHJ5Q4Kc4QunjmtEtZN1F0LRzAitAHPwciS3+kPxboj32gFGOcw0VJPz28YUC+esSwiyII4ut5KjMbqFEs1WVBqrq+2cP/IrZlnKRx0P3EMwiuLbnKb13cSwOL11oqPv7eFVNVrwIJUVYJ951uQqglkk2yaCVIMlDw8cS9gkGLCq1UWHrI8iHk5ZsUrmrhSHJNdJpVaUdMgVvbBb2eXPU1AiLejVVO9NFIuEyatajDo8Fl5gtIIAQO/JpNaIaesuDqk8/QCziDDCxXtlykuKy7a0WxqeixaI0S3ARjBenpYWExNfX3s1BGI1ilMgpikaSLPhIjJqgLy87kCHWu1Tvcm9w73oiZlTHiYXCrJ7QV3BibeKiO+9DBZxcKQpBcAjtN9FC0deYnS5JSXUyaBTLw0YYsxELjfmKwygSSRj0QyTcQU001uRXyPSwCrjcSL0PEch7DLCnk5cQztQ6Rmu3UlrT7qRUPuUrqHNXHF/YqVYpncw0A7FSmQsSb3WhFtR5AaN25ctuwgxcDmrc6duiup8dHqB64TtYWJsl4U4kuj+iKu1HNso8nx1Ar6zdoStzAnX8rU7neMDXoGkweCFKKLBEo9kxWjRNcqx2KRQVyfZokXUF5iyUeWUBwPF5XLfVUuj2sEizwEpVb1iy6b6n+uQcRPrBx48ZNFJNccbaCvJFTppQoRipdTXhZ5QeR6V99wLOfgFoO1owQgiVnkIas88ueFTMewWIJ7CsJEfMHGOgrhiD7hZZpySdw33EtYSuHaqueChC+VGYU2xY+j/bSb+6E8zkdBFCsL7n/lJSGNPBX3CEtK7QhZx73SKA+JUfoJC7mJ6R6SoBqFX1x7JHJrDCcP+NIXtKEcg43jyJ/vqloexrYMtHnL8ccfn+ckxFyKwgLMaQv3HnWSoKJ7U2II1xFCMG585XmIRB6xIQ8JTiwY4kanl2/qKkGG32P7JUjT/5TDc597R6KPrL7kSse9zD0dF2Moi2uZ64v/0dKRfHQs1rFYg6k+1Ak+WFqWXdYQpOQ2J6Ge5wELn7pWaTv3Gc8S2sR9jlWMrmHds5oDyBKH8jWOEmqCchDhNE7BhD6KVnjcu8wBKBurLhaXGHdUBnXg2aBxM4ql9A1toH4wlru6nvFwkBgUn0/xWUufYi3I9U2ZEtDketro+dzuLntY3jF/59nBtUy9WKBjXiSxFDYxviVzDQRDxR7j+uCapG5a+IIV10MUqpinUxbPujjGcS7HxXEAlriKi436lfM0X9F9yHdcCzwzcMXkuooxpzguumtHK/PBera9nfK1hVS13rQgVY1fcbYFqZpANsmmmSClF1YGuCjwxBcdVsRYIdYLLEUpeCyfaVvrGEBcL6Y8yFvtskd+WqHgWF4q44SeQYtgopdccklu5UATtFYkKUMik45lENQLi1ZLNLGBAQMYn+POxEqd4mUwYLUz8azzxa9V+/z9jCWAJSETIrnMUBtEKSwfcGnQBEovoZq0MOnCdD9OZBGXeGHj2GiFhLUSsSTIN678MzFjwkdsGia0CmquOBNcy/yPLw6Yp/PSiKVDXBVXLCAmyFzviieFZRMTuLjyKjGa+10vbkz8sPIiaDDPBgRexYyhnggSCBOakFMnBS2HAe1iVRVuCvws1wl9r5dl2kwbEM31MqirIIp1CFxMgplQasIdd8pqduXwksIkVC8m1IUXCAkC0+Oqi6v26ndNgCVsyD0NnhI84zUVXZXi5LlK/WO94u+MGQid0YoMZkzkEVCiSEaf8BKBxYeuV64rrAtw8WuWEBpx/6LtjF+6TmQJFc+NrjhYUPGiKpGV4xrVjzZh4cf4I5FLefI3Cxe8OGFdSIr3l8RA7ifuf8YP7V4ZxzDy0XhCHggNWELiokuiXeQlsUkvYDwDEHR4VnBNcC9Elz0sPv785z/nezjWi98VgJfnBXmwIBXrH8UpsUVI1sYliAp8LhGGOkVrPbjx/KItiGHUgf9qA2XxospzYjCTOEdXvHgfxLKjCM+zRJaUissnKxPOifeeXuKjhTifaY5UR/sknullWQIOggeug9w7PJe5lqgv9z91iIsQqgftwJ0M8UIhA+IinwRmzQGjBaTywI0O1yeuG/pa1x+/l0UCrn1cu7Ee1nOJuVO85smX6wTLGZ4dSlz7jGe4SKrN8f6T8MdYJau/KKTGOEI6j3IRpLDUlFUl3+Fyy5ijXWLL/YZAxIITzw4lnlMKMs9nXGfc79ECjM+5R+knxjM94zTnVR/xHGPhl3EKZixwKXHPcr9wD0YO8ZnGsfQdVktf+cpXssClhYzIROM5bWdcI1/m940swySuMx7HHYDJA96xjgNd58xXOF9zaepC+3j2apFOIi/PJZhyfYwfPz5f13LbhgH1kcipZxqf0S8sWLOJgxbOda1F6zU9o8SN+4cFMHb05RrWtauFQT0HyQtBSrEYZR1I3uU+0Pgcn4d1PAPeznlYkKrWuxakqvErzrYgVRPIJtm0EqR46DIZ4EGuh7geshqkCAzJyguTXsWF4KGNhRSDRjSLnRoLKV6GSZr8UC6Tdm2Zq4FUsRDii0w7JvFqOwMdgw4TKFmBMQlj62/yZrBRKm89zOesJpfjmUTRrlkvxgErxjPxgDX41/5glyBrO162uC+wgEBckkDDvSBXU1nbaRItCxv9He8hRCriFyiuFHnK0oF4Svyu87XSST66f4kRgZCCdQfXH7EZOI74DOwUxAs2L6zc8zH+ie6pODnVyyv3C59jqs6kF3cp7ifqjfsSLnH8RJRjUqn7A6tHubmRP4Ivk29NrDWBE0utgvI357IDDuVgCUDCFQwLMl5SaA+TY62gahU0siV/yiUejsqkzrhFyfJpoOtEVhG8jMBW+fLyqh2BBvsak+WpXmDUx2UXpLgqK2tPCX26tvicfOiPusTycj68oMEZMYSf1Is+QpzECkFWU1HEQNghBpksX2kbK9DlHbzKrBm3eMmDUbRcoRzy0LUkaw7YSZDAPYe6Nasf5fHSxTihpFghepmFKfcbcZm4TnBlp2ziySH6sqsg94XGgfK4Fa12dK9RR/jxH1dgPudFFwsNBF4WbRSkXuMtxyFKIBYxTlMHrBNpeyxT4w7lcl0w/mOtgKDOPYaVCc8f3O64p3ne8MKq4OdwID+9IOo+l+it61MWjDx7qBf1xOqIdlAn4tpIoBuseyg+B8rzEvhoLqDvylZr1Kts7aBjtGClukdr2XbmJu20uXxvqS6IIggnsqDh/uJ65lplnkP/8VznP25m3Ec8d4n7x/OTOY/mVnpGRJE6XiMw0rUrTqoHbp+IxljzIiBg3cRYRZmIDtzDxP0ptyNeMxrLuJ6wJKLOipVGuYyfssDVoo4WH8hHlkmMFVyjXNN8xvOdcYZrLopqtIHnN9elxFr+xqqGOG58r7lwzJ96IU5LxIMBxyLqxB3W1K9c5+QjKyD40D7GM8XJop3cy7gnMxZJPMFSmOcl7UfcgisxFLn3oyVf7CctLlM+nxNwnHABPJPoH85DNOU6YNzEbR73NlmXxoUM9bPmAVi8Mh/Rc5S2wxcX+2aJ87n3abtie8GE8+lXXRfle0yLw+RNuXAjbiT9pAUxnk08Y3nGxefzQAJReSEnPhuoH88/AqojUnH/0G/MMwjYT/7aPCa2V4sUYqi2teO90c79P7McY0GqWk9bkKrGrzjbglRNIJtk00yQ4jQNugw28eWQ7zRZ4AHNQKaBgs+1EieLEE3uOC9ObppZSPFSGVcwyJ8VdLaOjlYVlBVj8WgSEput+AUMBtFCQJMfuUnoJYRyEdkYmLVix2dM2PTyq/wRpFjhjvlOa8/phai8IjWt+fk8EzABEzCBwSHAiy4Crl6CJWQwjjiZgAmYgAmYgAlMOwELUtPOjjMtSFXjZ0GqJn7tZFNFkCJ/hCoEJsyuZSUktwGEIoJiYp5PiitFErdauewhGGk1G2GIbYSJzRHjtZA3KxTavUtuPgp4HGMgUC5t1i4tCEDspoQLiJLqz+pL3JGLtrIqwiqJLFoQumQhJZaKO9BODChWm2TaW6dlQjt972NMwARMwASmjQBjE1ZKWHmQ5PbK+IEVb9mNaNpK8VkmYAImYAImMHMSsCBVrd8tSFXjZ0GqJn7tZFOHIEU5bCvL1r5ygVHZmBQT7wIz7bLpLce02mWP+klgQuDCvHrZZZctdrZQAGLyQhDDJQjzaUyGoxm+dsJQDACZzVMnTJ1x61DcF8rDBx4XK1JkRNm4CMn8lvPxMyceQdkcWG40A/VDtKgqu+iV82qnL32MCZiACZjA9COAKxTxb0gxgK5cPqZfTVySCZiACZiACby9CFiQqtafFqSq8bMgVRO/drKpIkghxsTAfQT3JvAjSbuR8D2BhdkFJIo7qlu7gpRc2BBqCHJLMERS3PUHwYp4HbjVxcCi1KWR3zaiFEEbCa4KB+0WRL64AOKKES2q+BxBijrzwsELCPUiAC6BZiW4KQh8jGnVqC/K/v4coy2T4w4j7fSjjzEBEzABE5i+BNgggGDL2uFLMWYUXHf61salmYAJmIAJmMDbh4AFqWp9aUGqGj8LUjXxayebKoKUAndK/EGowdpIVkvaghUrKdzfEFsU9FECUyuXvegGJ5GGgI7snEHAWiyfyrvFnH/++TlYbAwQLbFILoYEt2T3LWI/KWmHEeJGXXjhhYXYpbhT5IHYxe5NCGNKWEixA4p26Go3oLnOL1uO1bXLVTv972NMwARMwASmngDiE4IUcQ0RpAhUTCJwOFa0/HQyARMwARMwAROYNgIWpKaNm86yIFWNnwWpmvi1k00VQSpuzS4RhnhKZ555Zi5aO3zxk61tDz/88Px5FGyaCVJjxozpZ9kUA33zIrD55psXW4ezOxMvBYhh7DpCXA/OZ6tXdlNB9GH3GXYEYTtrdn/hOG0DK1a4+iF0kV/ZwokXEHY9Ydcn6iLrLOJKIWLh9qftxSXGNesD7WRDHbbddtu8Wwfn17XDVTv972NMwARMwASmjQAWuexGVU522Zs2nj7LBEzABEzABETAglS1a8GCVDV+FqRq4tdONlUFKcVp0hanbLuKFRHikHYawioK8Yatu3GLQ3SR9VIzQYqV5+i6pu3J1a6f/vSn6Rvf+EbeMla7+ek7bQ1M+7QboASgyIWtbrGyQkDi/2mnnZZXvKOLnwQ0rKLYThYLqcgtim/Km3pr6++B+kEvLbj+4Ta4++6750MRu+QS2E4f+hgTMAETMIHpS4Dn9F133ZWtcbVtOjXguY9FsJMJmIAJmIAJmMC0E7AgNe3sONOCVDV+FqRq4tdONlUEKSbkiCkIT0zCtauQYkkhABG/ie/5Dhe5Aw88sLAiQrRp5bKHCMVx5MV/hCLEGsQhLIsuueSS9JnPfCYRs0PiEu0ui0/lv7UDH+1HvCLP8847L2299dZvCb4eLbNwSaTOyk/iGu2XdRPlt7NCrrZQB4Sw3XbbLQtdpBjwvJ1+9DEmYAImYALTl0DcOINnPv8Z7xwDcPr2g0szARMwARN4+xGwIFWtTy1IVeNnQaomfu1ko13x5phjjhx4nGDhCD0SmFj5ZZLN3wrcSr6KexSDfkvcwuXtne98Z7HrEJZHnIt1FCvHCEeykHrqqafSwgsvnEUhRCU+J89zzz03Wyo1SxKK7r333nTooYdmQYk6aLejKELJhU5CkepE/p/4xCeyULbWWmvl4sqWWBKYqBcWUo899liua9Ukd0HEJ3bpQ1iLwl7V/H2+CZiACZiACZiACZiACZiACQw3AhakqvWYBalq/CxI1cSvVTZReEHIOeyww9IRRxzRz9Vs0UUXTePHjy+CkXMcogliSgzGLbc4rH4I7nrIIYeksWPHZjELwYVzEIgIIr7FFlukRRZZJLum/ec//0nrrrtueuGFFwqrIoQrhLG99967VROyMCTLrFtvvTUHF7/sssvS008/Xez0RybRGom6I8BtttlmOc4UP6PIxu9YYLHK/eyzz2ZXPgLU0i5Eq7vvvvstFlgtK9rkAMS4n/zkJ3m3PsWtaiSKVSnD55qACZiACZiACZiACZiACZjAcCBgQapaL1mQqsbPglRN/NrJJlo+RVc4zo3fRbc1CVESbaKAo3hLCEJzzz133gFPCUEHUQoxKAbuJoYTVlMqE5GJoOLtJsWJkphD8HICliNQEVuK/9SZWFZLLrlkWmmlldKyyy6b5ptvvsLdEJFKVltRXCvXIXKQe1279SwfJ7e8KKohRFGXckD1aS3D55mACZiACZiACZiACZiACZjAcCJgQapab1mQqsbPglRN/KYmG2JhIIQgkigOhkQR3PawQtJ3Ep2iSxyCz0AiSoyzIUGnvJOc/lbeiGGtRBkdo9gdEnjIC5FLohb5SGziHL7HYorj9blENcQhBDO+o978VAwr1Y3zaUcU26aGtY5V3CnqQJ6UTR/EgOrTkq/PMQETMAETMAETMAETMAETMIHhSsCCVLWesyBVjZ8FqZr4tcoGSyKsmMoBWCUaYdEULZUQZLDgiZ9FsUmikiyoyAcxiM8lLsWYVQgwEnzKlkftBvUmbwU8l6gUBahmDKJlUvm4l19+OVtU0V7EOAUs1855CEd1WEiVhTnqQb2wPqN8JxMwARMwARMwARMwARMwAROYmQhYkKrW2xakqvGzIFUTv3azQQBBaCGWkSyDZBUk66iytZJiHEW3PY4lD1KML8XfCC+cg8hSFrrK9cS6CaEsWi81aksUsagHghlCESkKZTpXll9yyUNoUkwsBTnXeeRDexCiFORdu/yRXzsWXK34k4d2IFSMLQc1b0XN35uACZiACZiACZiACZiACbydCViQqta7FqSq8bMgVRO/VtkgRCHElF3XBjoPQYnjJfpElznEmigQkQd/yzqqkfudRCuJW9Elrl0LKVksxfzbFYvKQdmjpZXqEsU17TbIcdq1rxXjZt9H17zoqsjniGG4DjqZgAmYgAmYgAmYgAmYgAmYwMxEwIJUtd62IFWNnwWpmvi1m42EGX4ijCC2ICbxO1ZEZcGI4xCMsEpCnOJ7LKNk0VQWplQPzuM7WVHFzxFhFN9J7nDtilLUU6578ZyyS10UnOQqp2N0nuoQXQ1l0TUtglmzPoiCmJgNxK7dvvRxJmACJmACJmACJmACJmACJjCcCViQqtZ7FqSq8bMgVRM/Z2MCM5JAoxhdzeJ2Va1rzDu6kk5rvtHSLu68WN6Nclrz93kmYAImYAImYAImYAImUCagOajmto1CkbzdqVmQqtbDFqSq8bMgVRM/Z2MCQ4EAg+h9992XrrjiivTSSy/luFl1xMpCGFp99dXT5ptvni31GgWIr6P90Vow5kf5TiZgAiZgAiZgAiZgAiZQFwHNZ/HsKC+wlmP01lXmUMzHglS1XrEgVY2fBama+DkbE5iRBHDlRCjC/RExaquttsoumyR2auT7KglBaJdddkknnnhiv50fozVTlfwRzXAljcH15dLJZ+XdKauU5XNNwARMwARMwARMwARMgPkt/xUehfnmzCRE6QqwIFXtXrAgVY2fBama+DkbExgqBG688ca0zjrrZIFKolTVuhHfbOedd06nnHJKtrhS/DPybbVDY7tlx+D2CF0K0s/5TA6cTMAETMAETMAETMAETKAuAiyGMsdkLqsYty+//HL+Wzui11XWUM7HglS13rEgVY2fBama+DkbE5jRBGRqfMMNN6R111037xyIIKXdEavWb4cddkhnnXVWzka7FkYRqWr+5KVVKYlc/I0wZQupqnR9vgmYgAmYgAmYgAmYQCTQaAfxmZGQBalqvW5Bqho/C1I18XM2JjAjCUTz4quuuiptueWWieCMJMSdqjGY5plnnjRmzJg0duzYvBukUtmSaVoZvPbaa2/ZEXJa8/J5JmACJmACJmACJmACJtAuAeazLOIyd2bOy7ya/3HO225ew/E4C1LVes2CVDV+FqRq4udsTGCoEHjuuefSuHHjcjwp+cIz0FZJBEhfeuml0yqrrJKziTGrquSrc+Mue3IJlFUUEwTcD51MwARMwARMwARMwARMoE4CdW0AVGedpndeFqSqEbcgVY2fBama+DkbE5iRBLRVbXShU6DwOoIzloONk/dss82Wm1ynYBSFKUSw3//+9/m//PpnJGOXbQImYAImYAImYAIm8PYhoHnnyiuvnDfvWWCBBXLjmIPOPffcb5+GtmiJBalqXW1Bqho/C1J9BOI29rImafQSXI6Zw7FyidLxCAD8Lncm4u20+0Kt/KIA0CqODrGDOJ7/iu1Dsxrl1epymdbyY4yfaRVAorAhgSX2C3XXbhhqr/7mO+2QwXdYB5EUVynmHftQfVU1MHe5npStQa5OwaZZ/6ldajN/U4c64y9hGUVsKvoHxlxvdcWRmjhxYjaNjvGj5p133vTKK6+0umz9vQmYgAmYgAmYgAmYgAlMFQEFNeekq6++Om200UZ5XstcemayzrcgNVWXzVsOtiBVjZ8FqcBPIoiED37yckx8G8QOHlrlrekj/oHi6TQSKxp1W1nIoVxe0KOYJZFBIgCiQBRTED84XoLM1FweVcrnXOo711xzFUIQdeCBjiiCiNFKTInBtyWiRIsZ9YsEwyi+8R2Chqx2omAS8+BcCR9RTKkaY0kBuaO/ucSgaRXopqbvKJ92sSMIKZYpS6mpya98rPKgHLhFphLAquQfz0X0oh+5jrfffvv029/+trbA7HXV0fmYgAmYgAmYgAmYgAkMfwK8uyy11FLp5z//eVpjjTVyg6q8Tw1HIhakqvWaBalq/Iqzp3TNmcWDUV0vZ8uaiZ1dWeiYY/HT8jETu3oPnS1N6v1l8sjeF98RvbFpulJnTTWZcdnwQi/rmmY7e/EyHrcI5SUdASUKTwoojbrejvWNzm2kymMhgrijOjUSm6g7ZfEST91yn3T1dVobSKuWTxFR0IviUBvF9xM4ovvZCy+8kOabb75+Aovyi3GRuHYR72i7fhd3CV2NxES2dkUsa9eCrVlb2hUe2+Extcdw3TB4ch3+73//Sz/72c8KYRIe0yJQxjogdK266qppk002yYxhqkCPdVlISUQj7+gSSD2qxsCaWp4+3gRMwARMwARMwARM4O1NgPk/89hnn322cNera147nMhZkKrWWxakqvErzp7ZBamyW5UEp+iO10zokdtc2VVsaroHIYaHoKx8eAmnTFkLyQpHZZTV+0bubeRJG9rZJaJK+Xp4R8skLF34fM4552wLQxQkygIKfOX6SJ6NrKRi+8v9EV0R+V2WPoMhIiGm0DcIXYiJ/GxHlGwLUhsHXXPNNWmzzTYrVneiW2Mbpw94yI477piFrtg39Bn5VxW8KPTFF1/MO5soTZgwobC4m5nMpqv0kc81ARMwARMwARMwARNoj0D5/U/vC8zl5R3TXk7D+ygLUtX6z4JUNX4WpAI/RAxesCUI8aKNGxqCwuOPP55uvvnm9Mc//jHdcccd6f77709PPvlkFkmIc7PWWmulhRdeOK2zzjpp4403TosttljOWYLQ1LxQUw9SdFs7+eST0z333JN3T/vvf/+beFnnQbnIIovkstZcc83s97zeeuvll/qyq9vUXCbTUv4yyyyTPv3pT6d3v/vdaYUVVsgCjOrQrkvXmWeemasJU4ltmNEiVMCYQYK8JDbRL1hPccyiiy6all122Xz+888/nz8nIYohxpXd88iLz6688sr06KOPVhaMYqwm6r7ccsulDU/D3c4AACAASURBVDfccGqwVzoWSy+uF4Sh66+/Pl8LtJHrDl5VXRLJd+edd06nn356zm+wBmlZX8X4VFXrXgmsTzYBEzABEzABEzABE3hbEogeEryz8W5QxyLrcINlQapaj1mQqsbPglQfAV56ES9kzfPEE09ksQfR6Zvf/GYWop566qmCFy//EkY4B0GAnwrA/LnPfS59//vfT0sssUQ/V752u4u8r7vuujR27Ni8y5jK43w9KOWKJrELIYTdIT772c8myl9ttdXysdMSVHtqy6cMhCE4UPYRRxyR3vGOd+TmKq5Rs7YjIiEoPffcc/04xmCDjc5nIIEN/0ePHp2WX375tPXWW6dPfepTuT4xrlVZpKOuX/3qV9M555xTWbBRkHUEFfpjp512SoiIsrSbGkGy3WtkoOP+9Kc/pU033TT3e50JQQr/elmYqc11WH/hmonoqCSXT/pIccnqbIvzMgETMAETMAETMAETmLkJDLQBEO9zfDezzEEtSFW7DyxIVeNnQaqPgNzFYhykY445Jn3ve9/LokZMigulWFISXXhRV+worHcIkLfbbrtlQatVYntRHnq83D/yyCPppJNOSieeeGIWeHhR54W9VZIgxHEf+MAH0qGHHpqFiXZS1fIRneCEdRliAunwww9PBx10UNvWWhI2oggld0PyVLB2vod15K82SqzDSuy73/1u+vrXv17sAicXyLgL3xe+8IUky6x2OLV7DKLcL37xi3YPr3ycXA8ZQK+44or05S9/OVvRyfS4DisjXPa4LqNbHaIXZciqsEpDZJEoAZN+kjAld9kq+ftcEzABEzABEzABEzABExABxdut4lnydqBpQapaL1qQqsavOHtmjyEFCESZueeeO4tA++23X/rpT3+a+SBA8eKtLekluPAdAogslfS7Hm68RGO1s+eee6Zvf/vbbfXUbbfdlkUwXMlIUeCJ+fKdAvFFsYE6UF+5qu27777ZUqvdVKV87fiHdZUEKqye2EZV7nQD1QNWnB+tv+AtgW+g82SlgygShTv6kf7ElRELs/nnn78IXE5ZChCPYHjGGWdUdtlTTCr6hOthzJgx6ayzzsoWc+3G0Gq3jxodF4VU+v7Pf/5zGjVqVOZX1yCLSyrumAo6rvuhSr3jueSrDQL4XGJUXfWvq57OxwRMwARMwARMwARMYPgTkEFCnHPybjE1G0MNfwopWZCq1osWpKrxsyDVRyDuqLDXXnvl4M1yv+MQueMh9hAnafXVV0+LL754tkLBle/2229PDz/8cM5NAhYPNH5HFLj22mvT+uuv32+HMl60ZQ2EkIGQs/TSSyfcBZWHXPUQaqgjZRKv6l3velcWzu6+++68q9qDDz6Yz4+uhAqQfsIJJ2RLLZKEC0QLrLj0IOa7f/3rX3kXNcXGwuKJekm8IX/cGNdee+0sTCD4cM5DDz2U41qRF5xoF+VIlCKe0i233JJd+CQuRKFG1j20UZYwEpcoX6KThD9dtKobf2vwKB/Dd/Tn8ccfX7RdAh7lfvGLXyx2pCOPcvnt3l7iDlO4ff7zn88WbjCwoNIuRR9nAiZgAiZgAiZgAiZgAiYwPQlYkKpG24JUNX4WpAI/RBJiGSE2Pf300/kbhAaECiyksFzafffdi4DlOlUxde699960xhprZMuO6GKE6ISAhCiDu9NAMXd23XXX9Mtf/rLfuRKmPvzhD6f9998/bbXVVrlYWXPxO3W74YYbsiUWgc9Jstai/og77Lz2nve8p9/Vot3qFGdp5ZVXzuISQhdJromIS4hQuB5+8pOfzN/F2D609S9/+Uu2Krv11lv7la96EGQbSymOhQ/ClURABBu5fWF1IzcwMjrwwAOz6x91oC1xxYItWglIjih40UUXpcsvvzwLYySCmtOXEopuvPHG9L73vS8LRIrrxHEIdbjWadc+PiNI/CmnnJKPxUKNsmPQw0a3HOUomDo8l1xyydznTiZgAiZgAiZgAiZgAiZgAiYwVAlYkKrWMxakqvErzp7ZXfZkxYJr3VFHHZW5IELIBQu3t7333ju79JGwFmL3N6x++F276SG0EFT8ggsuKIKeI8pwzMUXX1wISgg6iB2yajrvvPNyMHAEl7hDHQLNN77xjSzKKEULH9WTc/icmE3EvlJAa1kRbbnllunss8/OQhVCE+VEy51DDjkku/ZFIU1ijmJBxUuNsiTsaAc72nLkkUfm2FUkxDcYKf3gBz9IBxxwQD+rrGihJaGOOsodkThQ/FeKAbX5TKIaPxGoPvrRj2ZRDXFRAc9hQd8dffTRWaBSXCXK22WXXTIX1YPPEKSwOoupVQwj7QwYg5dTDmXXEV+pptvc2ZiACZiACZiACZiACZiACZjAm++Wfb916JMpvTu+P/voPvnnbH1/d6bJ+e/uNML0AgELUjVdDhakJmexZsUVV0xYOiEiyGUPlzM+I2EFg/ggYaoRfixk3vnOd2YrIiyZSAgdWOhgJVXeThTRAuuk++67L4tFCEUSwr72ta+l4447Lgsb2sEtWgnJ7Y/8JW5tv/326dJLL81iTYx3hfUSMZWUEEz4Hhc9LKD4iaBGneUyhxhFHCoJRAhkxbMqxGKKO/lhyfXjH/+4sHqiDHhxDGWQdyOXwbLlGH9TNlZSnEN9Zckk4a7Mn/5BJMS1EWGKBFMCzI8fP/4t3YUIyC57ckukncReeuyxx3L/U07ZMqtRn8vtUC6DEsoir5puVWdjAiZgAiZgAiZgAiZgAiZgArUQsIVUNYwWpKrxe1Nc6JozCxqjul7OL+cTO3stdeZY/LR8zMSu3kNnS72KaZo8Mv+YMqI7/+xKnTXVZMZlgwDB7nT//ve/8453cl1jJ7b/+7//K3Z5izVEeEBcQbRAcEHQII7Qqaeemr70pS8VVkKKQfX4449nwSS6eP385z/PMYdiEG++J54UMZqigEXfqDyJHZSLhRaij3aeo/78Lssp6szOayeffHIRlFqWO4hOWEfJqkrtw3qIgN9ldzVZH2k3NIlRCFl8Rn2Jl4UbnwJVK0+snQ4++OAiTwlpCD8Kks11SEJIOuyww9K3vvWtAS8KBdjmWNWTsq+77rp8DvWBjSyryhlJkOJziV3LLLNMuv/++/sd2mqXuoHcMMkkinUz7up2ySZgAiZgAiZgAiZgAiZgAibQn4AFqWpXhAWpavyKs2d2CylAIIQsv/zyhbuWAo5/7GMfS1dddVW2mEHEkfULwgsihgQjCQ9Y6XAMVkrkgbCFYIHIhMgTBR7Owc0M8UZWNhJG2B1u0003zYKKdrArn0v+spiShRSC1UknnZTFHIlqCDMIZc8880y/KwarK1mFyUWPA8iTQOkLLrhgvwDrUXihXhxXtvii/XxHAHQxok3Ugc8Q2aIbW3SXo2zF7eIcLKQQsDheFlKwhUN5BwzEvkUXXTQHKj/99NOzVRXWahLaonufzqU/2A2PvyWEcQ3ceeedWSCTUNUqhhTnwoY6ym0Py7AolNV0qzobEzABEzABEzABEzABEzABE6iFgAWpahgtSFXjZ0Gqj4DEHCyk2LkOIUMBxfmJ1dSyyy6bj46xlxAdEFAQLBA+oosWMY0UY4pjSIgiCkiOgIELG+5knKtd8fh9iSWWyMIY3y+88MJFPykukVzJ+CJuWaqd7q688sq8Y56EG9qHlda4ceNywG0JQn/605+yIKbg46NHj87uarj9EWBd9Y6XGW3m+LIQR72VD8wIon7XXXcVIh4iFeXedtttaZVVVskCjoKjS2QSP44lEXOK2FMS68qXuyyfJDDRbwReZ1dDCXn0F9ZjL7zwQr/4XJSJ9Rs7KpIUbwt3S9z7JIDFuFDt3m6cS180Es7azcPHmYAJmIAJmIAJmIAJmIAJmMBgErAgVY2uBalq/CxIBX6II8cff3wOoh13XUNEWWihhRLiDWIFoofc1cr4FUMIsQWRJAop8TzECv5jiYMIFhPl7bzzzjl2FL9LcFJsKVnrkB/lxODoiCyIT4gosgiS9Y/EkZgPgo/iPSluFXXBIgzLsBh0vCwK8R1lKGg74pV2zkMMuuKKK9LWW29dNE08CBpPnCkJRhKTym5viFPf+c538u6GMSnAOMeLBXlJzCLmF7vt0UditMIKK2TLLJLaRHvYZU+ClFwmseLC2oqEVRxCXqtUZiGLNs6T2NkqD39vAiZgAiZgAiZgAiZgAiZgAtOTgAWparQtSFXjZ0Gqj4CEFNzUiCFEUtwgWc5gZfPxj388x3v6yEc+UohSsqBRHhI9JJiUrXiiKIJbHS5pJMV7ojxiIFFGFFqqdnW07JIo8+lPfzr95je/KSybqAPteeSRR7J1l+rULEaS6iURj/ojwiAGzTfffIVIJaZYX7GrYBS71H6JSMpTO/Pxt6yOsMRCJJLQo88RxNhhcL/99iusnSQMIjwhvOG2qHpg6cXue7j3ybILUQo3Ra4DUitXvdgnjYSnGHS+av/5fBMwARMwARMwARMwARMwAROok4AFqWo0LUhV41ec7RhSKbuPIVggaBD8G6FDrmN8jsAikQoBg93YcD1jh7zVV189bbzxxtm9juMIKk6KAa2jtQ1xnhBfvvrVr+ayYvwmzsNtjnhIpCgkVenusmDG3+uuu266+eabCwGHemAFdscddxQWR/G8ZuXDCwFIsZRoO+LeE088kU+TuLXeeuulP//5z5mlXPX0vcQ//sZy6qCDDkr77LPPgLsaImqRL+ISLAkQrxQD08viq1x/xZvCykw7EiJ2nXLKKYUAJlGpWdtltYWYxw5/iIkSs8oxtqr0oc81ARMwARMwARMwARMwARMwgboIWJCqRtKCVDV+FqQa8HvxxRfzjnRY8ZSTAp3rc8QQBAcECX4S+wkrKqyAPvShDxVCk47jPMWQQsBZa621sisZ4o3c/ShDu+WpvHIA72nt9iguYdFDfYlTFQUjhLXLLrsstye6/TUrM+ar32FC+/72t78V+fMLQtujjz6aP4tWRbLCkmUZ56+xxhppzTXXzDsLSjBUXRHPcM2j/sT4otx55pkni4gSEslrjz32yK6Ycl3kp8Qidtk7++yzCysusY9iFlZTCng+EANZdtGn9P/vfve7Irh52RJsWvvO55mACZiACZiACZiACZiACZhAnQQsSFWjaUGqGj8LUn0EytY6/H300UenAw88MItKCESy8JFVD39L+FD8odgd73rXu3JQ7l133TV/jAWOgonL6oaA4gTgJslKBysrrIokUNVhYSORSBZe0T1Q7mqyTtphhx1yXCXFoWrHbS0KUohrMEOcQdy65pprCkGKvBRviQ/lkkhbFS9LsajUfo5THbBeQpySRVLZskz8xZIA7ldffXXePVHnRJEP4fDCCy/MdYVJ7GcxavcWK1uAIWJF8avdfHycCZiACZiACZiACZiACZiACUwPAhakqlG2IFWNnwWpPgKIHIovJCh89vzzz6c999wzXXzxxYW7XkSOmINww7GIJQgaEln0Eyufk046Ka222mqFJY52l8OaBsGEJCubwRSkKEcWOxLWJLjJOgirIQSpdoQosSgLUoqrFdun/LR7HQKOXBoR6+aff/78t2JR8T1147NykohGjCr6SH9LvCKPQw45JPcdsbBIURCUZdaYMWPSb3/720JY5DgJSxLk4BWD3A90y6n/NthggxwAn3rT5joExZpuc2djAiZgAiZgAiZgAiZgAiZgAgUBC1LVLgYLUtX4WZAK/BA2CFwu9zhEC8QIrG347sYbb0yXX355uvXWW9P999+fXnjhheJsCSP6IMYkQth473vfmy666KI0evTo7HqmGFO49Y0bN66IV4SwIxEmur7V4bKn/CQCIbJQN1kOSYzZcsstswBHihZVzS61uANfdFFbe+21c4wq8pFlEgIRbnblXQipi1zjdKystiTs8D15zTvvvJl/dKFE0HruuefyDoU77rhj2nDDDbMoBM9yWRKkOO6cc87JTeM4iWS4/uG6OS1p/fXXzy576uNpycPnmIAJmIAJmIAJmIAJmIAJmMBgE7AgVY2wBalq/CxI9RGQhZREmyiwEKQc6xesnyQYYW1z1113ZZGK+EU33HBDFqkQYxAiEDOiax+f4x5GvCLEEb5DLCEQ9xlnnNEv1hTfPfXUU3m3N1JdQc2VT9y5jxhS7KinRN0I1P73v/+9nwtbu4JYOQA6AdIfeOCBbCkklzgsxv7yl7/kNkv0UjB01UPWRsstt1xaaqmlkgLCI1rRH4hRxOK67777smWbAs7z/eGHH54D0ysmVexLuUryGW367Gc/2y9WGK6XlId4iCgl18NGVlrx1iMviVn8jqsgiesEJrTHyQRMwARMwARMwARMwARMwASGEgELUtV6w4JUNX4WpPoIIBhJNJEFE58hLGF50ygp4DffIUIQYJvd2djp7ZlnnunnbqYYUzfddFNaYYUV8g595L///vunY489NmcvayCOZRe6D37wg4X7Xx3dXHYlJE/EIYKOq34IMFh7IVLJ7W5qyi4Leog6CEdyW0MQ2nzzzbObHGWSZFGFoCPLMolJRxxxRGYEX0QnGCnI+EMPPZQ+8IEPZKsokiykOBYBSyIXbZK7XtmSC/dEYkhRL4lViyyySCHScTzWVKrrQCzKQlx0D5wafj7WBEzABEzABEzABEzABEzABKYXAQtS1UhbkKrGz4JUiR/iCNZSuO7JokgxhBA2EHX4W/GmovudrKywmNpss82yUIIlTwyOjbiCyCKBBuuo3XbbrZ8ghehywgknpK985StZhJF1jeIYKRZTFEGi0CJ3NLm/yRIpNlUCHAHXEdBI0e0QsYfd8FSWxDIJZ/xsVH6MxYUVFC57UWiD39e//vU0duzYXKbaR14wUXBxuQoeeuih6Xvf+95brMQ4jmN233339Itf/CKXofYipBFMft999839WK6rOJAHuymedtpp/foIC6n//e9/Ba7IttntprpHyyxxbtfCrKbb2dmYgAmYgAmUCGhM17gTd3mtCou8GYe0GQfjkNzjY96MW5SrBR/9rV1tNVZooxXGFb5jPhEXx+KGIHwf4zGysKMxVJbaVds3mOfTFrnsywqaeU+7Y+9g1s15m4AJmMDMQMCCVLVetiBVjV9x9pSuOfMkaVTXy3kSMLGz1wVpjsVPy8dM7Oo9dLY0qfeXyb3uVlNGdOefXamzpprMmGyYtGG1g2UNwoysbhZaaKEsLsW4SKqhJozl4N9Mrp5++uns+qVd5WStQyyp22+/vQh+jmC1+OKLFy57msRuuumm6fe//30uiskzE0wJHQOVS/9RHv85BqEJ4Yx4TYqJtMceexTugog1v/rVrxKBveVOR3nU4aCDDkrf/e53i86I4tNA5WvyiCjF5Jg4SsRz4njqwefU7Q9/+EMi2HmcUDMJbyZIxfKj6HXnnXem1VdfPV+zWJ3RbxxLnKoHH3wwB5qPol68ujjnS1/6Ujr99NNz+7W73zLLLJPdMcVbTJtdmWLPOVE4tBA1Y+5nl2oCJmACIlAWNiTeyCq2Kik9/8sbWGApq80xGAsY74l/qIQFNmNzrCfjIvnwv+x2rnEwWuBqbqJxMYpgZcvdqu2cXufHNtQpGk6v+rscEzABExhuBCxIVesxC1LV+BVnz+yCFBOgr33ta+mnP/1pwYQJJOLEvffemz/TrmmK/4TYoc+Z2CK6xFVM4hMhymBFpYTV0WOPPVas/DGZRJB64oknimMQihDG+M/klAnsQKIKJzVyK8Plb6ONNsqTWvKQ4EOcK+qgiS6WUAhnSgoWjmD061//OpdN25gUDhQHifK1yyDiFy5vJNr16KOPFu6AssCaMGFCFv1UB/LWBHwgCyny08tDPA8RCSsvdgVUUvypww47rJ+opu+1ciwLKQQpkizZiHtFbKo6Ev1LvVu5/NVRlvMwARMwARN4K4GyIFVXXMZGrGUpFeMixriNcRzSWFbOR6IU4wf/GR9loc1PFkmYVyB2ydJKVsPkNRwXQphfaWEozncsSPmONgETMIHBJ2BBqhpjC1LV+BVnz+yCFCBOPvnk7CaHNRKiBoIQkyTEnXXXXTcLP3GiF+NOcX55tXObbbbJu9UR5JzJI5NIxI577rmncIXjHFzSEMIkXpAX52ClhHtbFDM4RgG2tXtcNM3nXAktZ555Zu5fWSdhnXXttddmMYjERI8JIDGdrrrqqn5XEu0k3tXKK6+cz5cV2EDlRysxxCniMu2yyy65TRJ6qO/HPvax/J3apBXcVi57apcm+TqPPnr22WdzXC7FmOIYyiUo/Pjx4/MKdKyfeHEMLnu4TfI9bYYJgd4R6jiOlWhSq3haMCc/zuHYeJ0M11Xqmh4tzsYETMAEhgQBWRNFi+dGbnVVKivxS6KXrKKYAzC3kCWwYhNKfGKsYYxk/CjHIIx1bGStHd30yYOyJWSRv0IMVGnXYJ8LN7knDnZZzt8ETMAETKA/AQtS1a4IC1LV+FmQCvz++Mc/ZlcykkQLfv/oRz+arrzyyiwyMLnjOyaWJK3kPf/881noiSuhm2yyST5PiYkiQcSvv/76PCnVznG33XZbWmuttQrhgwmpVj9xO5PFkVZAG61+RtHj4Ycfzru8SYgiY8pGoNpxxx2L+miSe/XVV2e3RMW+kCUT7ooEakccIzUrP1ovYRX1kY98pIjDRHuoC4zGjRuXEMbk2gYvxL9WgpTapxVj/kbU0mR/p512Sueff36xs6HiSclKquxySHuiICUo9OvCCy+c6z4tK7MSKSnP8aNqejg5GxMwAROoSIBnMuNUOabif/7zn7zra5Wk8U/u7IxNWCJjpayxgDFf45XGfspkUQo3fr7jcxZH+P3Tn/50WmCBBYpqIVIxpmCZrXnINddckxdkmIcwxjJGb7XVVsWiU5U2Tc9zG1msMf5KmGsUB3N61s9lmYAJmMDbnYAFqWo9bEGqGr/ibFtIpTz5YRJIjKM4cWWS98Mf/jAHH8eFDSEHUUjCkCZTEjD4G1Fm6aWXzsKThAl+Yg1FoO644slkcsMNN8y73UlIkVXRiiuumC699NK03HLL9RPJNPHlJ/VD9MEVEGug97///dkyiEQdKZeEGxoWWuVEmYhuN9xwQ7FTHccw8WVSffPNN+eJcRTpGpXPZJq05pprpn/961+5TrSDyTMJi7ELLrigCPyqeBty02sWQ0qrzgPF8sIV8V3veldRR0QusWSXP7k5RBcJ8iKGFBZSit1FPek38iu7Bja71QZatYZ/OcZYTbesszEBEzABE2iTQDn2IX8zNl1xxRVp2223bTOXxodp4w5Z5/ITa+Do9s74xlgv9zvGdayyKb88VjN+XX755WmDDTbI4zvzBS2CMYYS+5GfpGjdy5j9m9/8JpfNPIQ2DuRqX6nBg3CyXB2ps+Ytw9H1cBDQOEsTMAETGHQCFqSqIbYgVY1fcfbMLkhJIMLKBisiiTgR71FHHZX22muvvBJZjukUxSgsjr7xjW8kVl5JiCF8zw45N954Y1pppZXe5D5lSp58YT2EJRT1iG5flEMcK6yqsNzRSmFZAJG7GgG+2eVPE2Tc1giwfsghh6SDDz44l0tdKEOm/fxEDPvABz7QT3RiAoxIt+qqq+YA683KJ19EKIQ14khJAFL8KibFfI+1FRxi/duNIVUWAmkX7VNeX/jCF9JZZ52V26cg8HBhV0N23JM4FAPFKqg5LwmyEMOCC8s2LMRIU7PTj9z8aL8Et7gaXtPt6mxMwARMwATaJBDHm2gty5jCmKGdbtvMbsDDtLsd4956662X3f1JcrOX6zdlfu5zn8vfyaU/Lh7xOWP+Ouusk8cfxibOZaOSz3/+80X5o0ePzgtRMbGwhIXycErXXXddwtqLpAWc97znPdnaS9bTw6k9rqsJmIAJDDcCFqSq9ZgFqWr8irNndkFKk0YmfR/+8IfTrbfeWljy8JkmhcRUIs4Uu+Ah0GCaL0GJSRVucYgZ2saYiaR2XfvqV7+axo4dm5kjWGBqz25wJI7HUmfPPffsJwrF3ekQyti1DoGI85i4If4gfFHuOeeckyeuEpKoG/liFYUYRJnlIKp8r93lTj311CKGFvlIoNEEsVn53//+97PbA+ILdSbfGD/qmGOOSfvss0/RVuqG5RIrutoVsJmFlC5UxKay1ZFiYT3yyCNZvFNQc86h72jfM888kwUizo27Fe6+++55lz2SeGEF95nPfCa3XzsXqQ8Hut2UJwIeQel5Gdlyyy3zy8bUCFo13c7OxgRMwARMoI9AfAaXXbF/+ctf5niHVRJjDKITYwzjGb+vv/76OWajYkQx9mg8YcMPxm7GDS3IaLzV+EUIAfKQlRDjKVbADzzwQBGDUfMMWVCRBxbeCFmK09jIerdKWwfjXHb0xQpd47t2wD3xxBMzz4GCvw9GXZynCZiACcyMBCxIVet1C1LV+FmQCvywpmFiyS5wq6yySrYskiuXRBmtrsqlTm4AjbpBx/AdrnfsuIc4JBc/xZtSQGzKxorp8MMPLyyY5HYmEUZxMFSerHAUp0KiE8fTnne/+91ZIIs76TWqq1z/EJawpiJFYYe2xIkxx0tIkisfQpiELK36MinGWuwHP/hB0yuVCfWoUaOyoKVEeUxUZdnVLAP1C0HKTznllH6uipxHHt/+9rfzJF1WTLSPoPE/+clParmLqK/ibI0ZMyadffbZ0xSHqpbKOBMTMAETMIFMQOODhCmNWYxr7NCKpazGWi1MRLexRhbTA6GVtS3udpdcckleoIiJz9iBl/E5usHjlo9lE2M14zjhAxCgVH9c53GtV1wlbbiBJS8LZJxH2SwcLbbYYnnuEi25JZjRFllaK/Zlo0UTLShp7qNj+Km5SyN3dH0Xzy/HiIpzHxgQ6/FHP/pRsYkIfcAYiktjqw1FfImbgAmYgAlUJ2BBqhpDC1LV+BVn20IqZQEKFzAmcQQVZ3JILKayKb2gMZmNq3dMuvgMoYPJOA+1XQAAIABJREFUIhM3RBZ2gDvttNP6ueqRh1Yuy+5/++23XzruuOOK1dNGwpAEqFgXrI0UDJ3JJ+VedtllDeNGlS8b1YGfWDOxWok4JEEuimuNLjnKjmISx7AKvOuuu+aYWe0kymBCHeNTIUi1c75WvbEEw4JMcamY2NIXxMIiQDz9BXfahdXUt771rfxCUjXFFwuEOSbT7JwIz/ILSdWyfL4JmIAJmED7BFoJUoxTGusY73mGY82MxS2fx+d7o1L5nnPkcs/4w7j9wQ9+sDhX8aWwyGXhhCR3/uWXXz5bUzFOYTlMLEgSi2PMIUiMgywWkY/GtfKCk4KmczxjIvVhbNbflFfenERjJfkyhyEPWW5rDqAdaOOOv+IgcSnGxdTCWQxGrnI5rxwbikU4Fo00p2KMxhocVhKztKHJcImJ1f7V6SNNwARMYMYTsCBVrQ8sSFXjV5w9swtSmkwxaULUYUKIQMUk8KSTTuo3gZI4EydYAqnYTfzNpA43tf333z+fr5VFJlRMrvhbEzZNuiQMYXZPXAsmpOUV0TihozwmzBKDKIfJIFZJrDoq+LosqQa6XFSG6sUuc1gPETsKFtRLK8iKj6Rj5XZA3kxYaRexpAjgjvtjOy5rHENdyzsDksd3vvOdtgKD66UDbrg/loVEeBxwwAF50iseTHpx2aia9NIiRuRLvA8nEzABEzCBGUugHUGKhQPEICVcwLE0IrWykGL+oI00FAOS8/hdgcw15hx55JHZ8pekMrGYwu1egk8cMxGIsDhm/Dr++ONzvEmdy/hKUHS5AvJ5o/E27v6r9lFnWT4zj6DtWjyhTMZ5xuNGqVwG8wfNRdRumNFm6osoxu9yvYvhADiPtskSWvMrRELGcScTMAETMIHBJ2BBqhpjC1LV+BVnz+yCVJx0ImTE+E78Ttyoe+65J/3zn/8sYkIxAWWix+QM0Ybtm0lMEnfaaae0+eabpyWWWCJ/Jlc27ZQTJ4iaLGtCGCeGiGFMOK+66qoiMCr5ReGLv+ebb7488cO6igDeTCSpH22R2NTqUomrq1rhJJYWlj6U/9xzzxVxpWJe1IV2UdZmm22WiMu09tprF5PrOFluVgdWgikjJsQogpK3kxASmbgjpuH+wISYvykfwYg+ov9kBQef7bffPu9YVDVGRVxBpyz6H1dAbdHdaGW5nTb5GBMwARMwgWoE2hGkVILGVmI8sagksandGkRLoeiqpjogvjCmcZwWYIhhhRU1ZfM/xp3SLr24vR944IG5GrKsIjA6oo3O4zttJKJ4iSxWMdZxDGMhnzMeqW6Kj8kYGC2ayIvv+F9e0KIM8isfr7lODHEQraHK1lRihRgllz0tJH3xi18sFgPJTxboA+28x7jPIuITTzyR5xHMe6gfcxPifbJ7LlbbdgFs90r2cSZgAjMTAQtS1XrbglQ1fsXZM7sgFUWbctBTJqZMaJjMsWp69913553smPQwoUQMQgzBPH+ttdbKwofczrTaF2MtMLHSZFHBsjXh0sSPOjB5Q1DheESx++67Lwcwpz6yiKIshJwPfehDiYDr0f1Pk79y/IZml4wChJcnoPChzXfeeWd69NFHc/m0jQDgTNrf97735XgX0T1AE+d2LlF40cYFFlggH67JO7+3I6hFl8No0k8+tIlJKBNVdjKEOZ8xKZfbZCuXjFZtiIJWZNiOdVirvP29CZiACZjAtBNoJUix4MQ4w3Oc/zy3H3744SxgaDxqVrqshCXQMB7JzY0xkbGbYOSkc889N1100UXZNU7i19Zbb53dxxmPWJBi3Gdhi41CFAyd2FMnnHBCYS1MHXfYYYe09957Z3GLvxmX2VCDMsuLLHGhi0Uu3PmZw9xxxx1ZrGG+wEIOi0rMJ9gNV/MA2EjEKotQ7PKHqzznMx/S94Q8iOO45i98Rtv++9//5nPIG1GN+jCPItHmT3ziEzm2FzGysBSHFTvvMd+IbUOIYjdD/uOGL0GKPmDcR5AiD9pIGAPKXmONNTJjJxMwARMwgV4CFqSqXQkWpKrxK86e2QUpgShb85TFnLLAwN9MqGTazoSSCVdcsSRviRRacZSllMQWTdwa7SInYYmfcgdoFExUbYjWV48//niOS9EqlU36qZeCnzKp43fqFs3y40SdibAmeBL0aKvc+tq1EIriUww826r+fB/FuPLKtNwHyFPugZRF2/QS0k4ZAx0TV7R1DBwUr6pZf1Up1+eagAmYgAk0J9BKkMKqlzFDcaTI7d57780CTRRVmpUSx67yznYsVt122215jIxugQhHivVE3tHy+dJLL01nnXVW+s1vfpOLZY5BGXL/b+RGyLwCa2YWiBSPUXMNxCeskLC6jnVQEHbK0A69fIaF0je/+c0iyLrmMXGXW+p+yy23pK222qqfdfOyyy6bRTjGVsQvLMI4Tq56hDGgLrKGksUXZWjjEfKOC0UsVhFrCpFKgtTFF1+c+M8OxwhTrRL8EaO+8IUvpC222CIvJjqZgAmYgAlYkKp6DViQqkqw73wLUv0FDbDI1YtVO01cJGjwfdl0nO9kXq8d6CRQxfgJ6jJWNUkSfBT/KYo7/C6ro3JXqy781EpmOTYV57RjYaT2kk/ZpL080Y6754iBTO8RZphcRgGmnW2no/uAVptVj3atjBSrg/IlsGkXIdoXy4huCHxeVTDS+bRVFnDqk0bxO2q6bZ2NCZiACZhACwKtBCniFZF4ZivINxZNcrlvF7DGwbLFNdY+CEVxkUUbbGguwdihwOjU4W9/+1uOBXn99dc33FiFcU75xbnA7bffnkUXJYQdrJG222677LKOVTNzGsrTjoLkxbgVF7xoA8LWUUcdlfPDYkrlKPg4eVO/jTbaqJjLwIDdhLEkZ9feY489NpfFOKgNWti0hRiVYq55kuocLaDoEy1yEUOLgPDUg92D2TkXC6+pTe9973tz+QhpFqWmlp6PNwETeDsSsIVUtV61IFWNX3H2zC5IxQmr3Lki2karpJq4chyTLa1ERiuccveQt1Yko3m/4lHJkkgueYhRTPAUnJz85A7YSESJ4o1iSbQKaK48NQlUW2WRRbvKboyxXVFw0kRccSkQlZqdG/MhBpd2F4rtaEeQii8A0TpKVlOqY/lneYfDqrdTLDsGih8o7kXV8ny+CZiACZhAcwLtCFISZzQ+Y+Gz1FJLFe71zUrQsz7uCCfrH35usMEG2aVMAowWQbSxCWOvFqhkLUT8xr322iuLSHIn5HzVU4tfcvvXTrfXXHNNWn/99YvYT3fddVd248NCKlqAqZxYT/JvZHmFFdI666xT7Pgnnvy86aab8nfRygn3OHbq/cxnPlNgk/UVHxDUHaGqvDNv5BN5K2/iWWIh9fe//z3H9cTqKiZcLNllFwst+hGmhDiA4UMPPZQ5KiFKEZcLVpq7+T4yARMwgZmVgAWpaj1vQaoav+LsmV2QqgmjszEBEzABEzABExhCBFoJUrhwkThOgs/48eNzXMR2FkTUVFlIxQUsFmQQbYi9iNhz4YUXJuJBySKa/BGMCGyuBSvc81ZaaaW8UQpxIxGssLA6//zzC6p8xuYhCDQsrLCYwyIS8Z+oN3XAjY28n3rqqfxdFLSIxURQdIQZrMGxaLrgggtyvCaJY3IPJG/KX3PNNQvrYwUNp22UwaIabVEsKupEm5XkjghfNl/BigrRCPfBG264IZ133nn9jqUdiu1FnqNHj04rrrhiWn755bN1E5uGxEQdPvWpT+U6SpDiPNqOKIcLJFZV2qWQc2FOQHUENCcTMAETmJkJWJCq1vsWpKrxsyBVEz9nYwImYAImYAImMPQItBKk5LKnTUhowdixY/MmGLi3tbJwRWSJG5EQq4jg4NE6WTEFcYHDeiha6+yxxx45ppLiMMYA5HJnw5oH8URtoU4IKqeeemoWrLC6QoDBUkrH0K5f/OIXWShCgGLjEBICHPGYiMsULbX5/cgjj8zlaIdYxX3CLQ9BjHxIKuMPf/hDDq5OkHYSbYCZdvbDCgpBi//khTUSMaQQj9jxlsRuulhMSTTj3DFjxuQg7hxfFgUR0f7xj3/0u9CuvfbavLHMQNZOuPbh4oelmtjTv+yySwD2qm77Q++qd41MwARMoH0CFqTaZ9XoSAtS1fhZkKqJn7MxARMwARMwARMYegRaCVLEapKgUnbdw81NosxALUMwQQhBGMIyCFc/LI4k6lC+hJJDDz00HXLIITkrWUl99rOfTaeffnq2ziLJ0irGa0QkOuyww4oYjYg3WDghOJUTdcA6Cve16IJHfXCjO+WUU/qJZZwvt0M4IFb9+Mc/ztlKqKGNZ599dhaKSHJ/x0VQMaQUekBuhFgzURZucUrRvZ52ItSdeOKJWQSTIMWxO++8c/r5z3/er2kqE4umBx98sN93il9Z3l0wHoQV1tVXX10Edadf2KWQnffaCW0w9K5s18gETMAE6iFgQaoaRwtS1fgVZ9tlryaQzsYETMAETMAETGDIEGglSO22225ZTEJ8QsyJu9210wjFYeJY8iAYOjGoFGdSMSapB9ZAWEmRFBuJHe2wdNLGKBJHYr0JEI5oExOizRlnnJGFHNz84qYm++yzT7Y6ktUXP4mxRNylhRdeuNh8Q4HRaQOue7LSWnnlldP9999fuBFSxoYbbphd9zgWMYl6snsg7nXRJY9jcRvEVY42asMR7WpLGxD5qBN5EVOK9pEUw0uClHawjZZhq6yyShb8Yvrd736X3fWw+hrI2om8aGMU6RABYdfKCq6d68DHmIAJmMBwJWBBqlrPWZCqxs+CVE38nI0JmIAJmIAJmMDQI9BKkJLLngKDsxOdNgVBTJHFz0AtY6c2xSZCDCHeERZKlBstb/gb6yjc72T9xM8dd9wxnXXWWTn7GPCccrXbLC59Bx54YGGtRb7Um0Df0SpIohZWRI8//nhRd4QXrKOwqMIlEGsmiT/8FCO5CyJmIWopUQ+OITg4rm4kRKmbb745W0DFTVFGjRqVsATbc889+yGThRMufRK+sJBCoPve976XhSTtkkvbENsabSiDi2CMp0Uh7Ai4zTbb5J8Ib7gWUg9Zrg29q9I1MgETMIGhQ8CCVLW+sCBVjZ8FqZr4ORsTMAETMAETMIGhR6CVIIXwwi50pBhHampawnmIKYg0BOy+8847s+UNSZZL1IMYTVgDaZc8xKDtttsuu8PFFN31EMc4h/+UoV355OonsUjiF/GSVl999Wz1I2shhJ/rrrsuvf/978+uhFgKIdaQN+JUeadaBDaEJ75DlFN9CAyOi54EKFzgNtlkk0L4ktBF4HYsp7RLL21DYEMYi7sRUv5xxx2XxTaSLK1wDUSk43vKom2yYvr1r3+d42AhbJUTbooEP19yySXz/8UWWyzHr+Lnoosumn93vKipubJ9rAmYwMxAwIJUtV62IFWNnwWpmvg5GxMwARMwARMwgaFHoJUgVQ5qjqhy0UUXpdVWWy2LJ9HFq1HrEFkQojhWAg47vSGmcK6EKc6V652srhBHdtpppxwvCeGH8yXe8J3iSRE/Si57Es0axVniXOq+7bbbFtZFtB+rr4cffrgQkrBQEheVq+DhxJHieGJA3XvvvUWgckQhArITd4m68f9Pf/pT+sQnPpEFLlmYUQe5AkYLp9gP2lEQkQkxCqGORBkww40SN8ZGibIQERHxGolS8RyEKIKn40KIGyKC1QorrJCWW265wvps6F2xrpEJmIAJTF8CFqSq8bYgVY2fBama+DkbEzABEzABEzCBoUegHUEKYUSCDILIf//734SoJEGoVasoQ7GiOFbuaVFc4ndEJUQpypLL3Oc///l05pln5nhNWEDxnSyXlJd2v1NbEKUQpE477bRcNerPOYhj5557bha5JHpJwEJ4UnB1WUSpnrJaUv58jnDz5JNPZhc/LItefPHFHAPriCOOKKyc2LVugw02yOVLuFNdKBfRSvWinpRLG2XtxHfHHHNMdvGjDhKyFB9LbStzfOaZZ3Lsqeuvvz67EbYSptR/uPMRa4qA8B//+McLAbBV//p7EzABE3g7E7AgVa13LUhV42dBqiZ+zsYETMAETMAETGDoEWhHkFKAcbmMPfDAA3m3vGa7tsWWIlxxrnbOi25hKl8xpCRIqaxddtkl/exnPyuyK9eXL6KFVPk8WTgh6CBCXXjhhYk4S9oxkPMJtI5wI1GI7yRUcY6CmvO5xKI11lgjjRs3Lp9Dnfj8W9/6Vt6FjzogoN1000052LmEJI5dZpllsqDXLjtEOuJqkZ8SFlLEx2oWbBxRiiDrt956aw6g/sQTTyQ+mzBhQkurNlwa999//7TVVltZlBp6t6xrZAImMJ0JWJCqBtyCVDV+FqRq4udsTMAETMAETMAEhh6BdgQpxTZSrCR2yZOFFGJVs4SQgnBSFk/k7qfd5QZLkIqWUIhAWFsRUFy720kY4m+snOaff/7cHLnNKSaVAqgr6Djxpv79738X+cDoK1/5SiLAuizHrr322vTRj360kiBFQHMCm9MOWVnJaqxRUPNyX1Bf4mYhTI0fPz6LYcTAwrLrlVdeSbgg4uZXDk6/3nrrZRdE2hmDzw+9K9g1MgETMIHBJWBBqhpfC1LV+FmQqomfszEBEzABEzABExh6BNoRpHBlQwyRuPSvf/0rx1BqJ8nVj5+IUAhTclfj/MG2kKKM6Bb329/+Nu+op8DplM9/uexpJ73YNrnuIdwQ8wrXOoKCP/300/kwWVsdffTRad999y2CoBMoHZe9KhZSsv5CFJLlFS6H7Ag4remf//xnjn+FsPiPf/wjB5nnb9oVE9ZeX/7yl9MCCywwrUX5PBMwARMY9gQsSFXrQgtS1fhZkKqJn7MxARMwARMwARMYegTaEaRUa8QkhJG7774775ZHahXUPIpPsfWIRAgs5Cf3uEMOOaSIIVWXy57KlDB2//3357orrpN+XnHFFWn99dfP4pKYIKApQLlEKayocO/74Ac/mC2MSFhPYRV14403prXXXjt/Rh7EcKoqSGFxhSugyuEnQdkJWl7eEY/68j8m+LaycKLtiE9//etfczuU2KmQz7GGczIBEzCBmZWABalqPW9Bqhq/4uwpXXPmlcFRXS9ns+aJnb0rfHMs3hswc2JX76GzpT4f/8m9JuxTRnTnn12ps6aaOBsTMAETMAETMAETqIdAK0HqS1/6UhZpcP1ipziEJGJILbTQQnke1I7LnoKRI+qUjx9sCykFKFdgcqittNJK2d0Oyy++R5TafPPN0yWXXJLbicAkFz2dhwUVx+LShxsdQg1cEHsQpjge9zcFJWeuSFDzjTbaqJKFFO563/72t4vOppztt98+W0hFyy8OIE4UZcaEdZPqUI5bFV3+TjrppOwa+MgjjxSnb7zxxum4447LAdydTMAETGBmJWBBqlrPW5Cqxq8424JUTSCdjQmYgAmYgAmYwJAh0EqQ2nXXXbPIEoNqYyFEIPBpSYg6iCpyPxtsCymJNrKQQmAiSDiiUrSSoj64rpXFF8XN4nvOxU0Pq6f//Oc//Zq/xRZbpN/97nf5M+0IiDhUNaj5QQcdlOsLJ6yXENGwXDrjjDPegh8XvBVXXLGfldQiiyySxbe55pqrqaXUBRdckIUv8lDacsstE26I7bpnTsv14HNMwARMYKgTsCBVrYcsSFXjZ0GqJn7OxgRMwARMwARMYOgRaCVIsaMbwg0iElZCc889d949buWVV26rMYgoCDnEXiLh8oallYKcD7aFVIxhhahEG7DwItg4FkUk2kTsqFVXXTX97W9/K0QlRCDaLYGJL9ZZZ5108803588R16g/os+pp56aNtlkkyzeSQS74YYbEsHBq8SQOvTQQxP/qQv1QJBiF7zzzjsv73RYTrSBGFExnXDCCWnrrbfO9WzkvodVGLGqCPj+7LPPFqcS/B13wcUXX7ytvvZBJmACJvB2JGBBqlqvWpCqxs+CVE38nI0JmIAJmIAJmMDQI9BKkNp9992zoISIpJhJO+ywQ7a4katas1bNPvvsacKECfl8XMYQVRBpttlmm+z+NtiClGI/xV3zqC9CGwIMSYLRPPPMkwWfiy66KH34wx8uvqPeV155ZXZpQ4xCcFJCWCOm069+9aviMwVKR5CqGkPq5JNPzrv3kRRXi9+xkNpxxx0L10IVfvrpp6e99tqrX4By+goXww996EPZ1ZI20ibYsOPe7bffno499thEsHrFBBs1alQaO3Zs+uQnP5n72skETMAEZlYCFqSq9bwFqWr8LEjVxM/ZmIAJmIAJmIAJDD0CiE2IE7JYooZYEWHpc84556RddtmllkpjmaMg4euuu266/PLLC6spFXDwwQdn4UQCEQIM8ZKoh5JEMLkRUu/vf//7iXMVXJzYTp/61Kdy4G8lWS0pJtRjjz2WRbHbbrutOEZ15INlllkmrbLKKmmxxRbLFmHjx48vhCh4yWIJF7lLL700LbfcctnKCrFHcbL++Mc/po997GOFyyOf4+rIjnZyAWwVcPzcc89NY8aMSQh79EtMcjlE7IMnQh8WaB//+MezyIR1WEzvfe97czypBRdcMJePZRSi2bhx47IwpUSd4AdTx4+q5fJ3JiZgAsOYgAWpap1nQaoaPwtSNfFzNiZgAiZgAiZgAkObAGIP4oaslhB0Pve5z1WudHRZIzPc5RBrEIfkhobIUxakOPbLX/5ywkoIMQZRplFidz5czhCkEJ4QfrbbbrssZCG6YOGj87EAQoyhPHYLxJUNcerVV1/NWSNmcUx5tzq+Q6hB5OE/eS688MLZmgo3uZg4lzwQej7ykY/krzgHsWreeedNDz74YP5ebozNAFM3hLHnnnsun6+d9BRgHrbkdfXVV2exiYSlE4ISwlejdjQrjzIQoRAGyQ8eCoYeg6BXviicgQmYgAkMEwIWpKp1lAWpavyKsx3UvCaQzsYETMAETMAETGDIEJBLGxWKog+/s5PbHnvsUbmuiBwKyI3wgzscVkdx5zvEjgMPPDAH0Y5xnxCWzj///FyH6N5HPghQiCVHHnlkOuKII7K4xTGUh2UVcZ1krRSFKIlWCFPsKoegpSDh0RKJfMhPLnqySKIum222WfrRj36UY2lJJEK8oQ7Ui8+uv/76LL5xnqyVsLh6+OGH8/dly7SBQFM/XOqwwJLbHudSN1mF3XLLLWmttdYqsqBduFYS0Jzd/5oJU+RF3RHLsKLad999s5BG+51MwARMYGYnYEGq2hVgQaoaPwtSNfFzNiZgAiZgAiZgAkOPAEIFgoliCsl1D8HnqquuyjGEqqSydRR5YXmDZVG0XKIeP/zhD7OwJNc0RBJ2+UP44dhyHCjV64ADDsjnyuWOtuy8887pZz/7WRGQHEFIohjnYQ1GWyW63HrrrdkqCNc3UhSmsGSSBRU7z+23335ZVJM4hNiF8MVPjiNIOu1BJCIIenQFxPoIyynFcWrFFjGMetKWSy65JN1xxx3pySefzPmrjuR18cUXp4033rifcMcf7J73k5/8JFtlkRcMlOBEvTl/pZVWyswIzD7ffPO1qpa/NwETMIGZhoAFqWpdbUGqGj8LUjXxczYmYAImYAImYAJDk4Asj2RFxN+ILcQVwmqmSpK7V8xDu9bJEkqWUnxOHSQS8TkCCoJQdBdDWNG51FNWUJQhiy++53eVjyjE33wej5fVES5wpGeeeSYHLmenOtrPeeTBznYEKCfYt8ohPyyUYlI9qTd1K8eIYmc+ud7xPf/bSQhocCBfhDqS8lJ8rGb53Hfffdky65577ilEKfLDYguXwNGjRzfcga+duvkYEzABE3g7E7AgVa13LUhV41ecbZe9mkA6GxMwARMwARMwgSFFILrtKUZSq2Db7TYAgUbuYrLq4VzFdkKEQlDRTm6Ur7hIEns4j8/5O9ZVdSjXWe5xEnsQcZQXv2NxFIO4kw+fq83UCRFK5yAGIQLxPSIQdZCAxbHRUkpiWixTApbKxIWuXaFP4p3aKsFLeUyNKNVun/k4EzABEzCBNwlYkKp2NViQqsbPglRN/JyNCZiACZiACZjA0CMgASgKNBKREGXateBp1rJyHogs/FdQb7n1RWsqCS+4wOk4xWpC9Glk7VQWpiRe4QJIfuUg4jE/6s8xsg5Te6IgVGZVDrQuqy3OlYgmtzg+K4tL7Vg2xXrAQkKWyo5xuIbe1eUamYAJmMDwJ2BBqlofWpCqxs+CVE38nI0JmIAJmIAJmMDQJoBVTxRQ6thVTSKNxBf+pgz+K7A3VMoWS2VSnEce2mlPOwJyXBSCyvnLskqCUzlWFp/HgOf6m7Yr9pN+IihRvgKdyxqKMvhOrnRlkUgco6DVbNfActuxJsMiS3WXq2AU3AbagXBoX3GunQmYgAkMfQIWpKr1kQWpavwsSNXEz9mYgAmYgAmYgAmYgAnMOAJ1CIwzrvYu2QRMwARmDAELUtW4W5Cqxs+CVE38nI0JmIAJmIAJmIAJmIAJmIAJmIAJDCcCFqSq9ZYFqWr8LEjVxM/ZmIAJmIAJmIAJmIAJmIAJmIAJmMBwImBBqlpvWZCqxs+CVE38nI0JmIAJmIAJmIAJmIAJmIAJmIAJDCcCFqSq9ZYFqWr8LEjVxM/ZmIAJmIAJmIAJmIAJmIAJmIAJmMBwImBBqlpvWZCqxs+CVE38nI0JmIAJmIAJmIAJmIAJmIAJmIAJDCcCFqSq9ZYFqWr8LEjVxM/ZmIAJmIAJmIAJmIAJmIAJmIAJmMBwImBBqlpvWZCqxs+CVE38nI0JmIAJmIAJmIAJmIAJmIAJmIAJDCcCFqSq9ZYFqWr8LEjVxM/ZmIAJmIAJmIAJmIAJmIAJmIAJmMBwImBBqlpvWZCqxs+CVE38nI0JmIAJmIAJmIAJmIAJmIAJmIAJDCcCFqSq9ZYFqWr8LEjVxM/ZmIAJmIAJmIAJmIAJmIAJmIAJmMBwImBBqlpvWZCqxs+CVE38nI0JmIA+Q+czAAAgAElEQVQJmIAJmIAJmIAJmIAJmIAJDCcCFqSq9ZYFqWr8LEjVxM/ZmIAJmIAJmIAJmIAJmIAJmIAJmMBwImBBqlpvWZCqxs+CVE38nI0JmIAJmIAJmIAJmIAJmIAJmIAJDCcCFqSq9ZYFqWr8LEjVxM/ZmIAJmIAJmIAJmIAJmIAJmIAJmMBwImBBqlpvWZCqxs+CVE38nI0JmIAJmIAJmIAJmIAJmIAJmIAJDCcCFqSq9ZYFqWr8LEjVxM/ZmIAJmIAJmIAJmIAJmIAJmIAJmMBwImBBqlpvWZCqxs+CVE38nI0JmIAJmIAJmIAJmIAJmIAJmIAJDCcCFqSq9ZYFqWr8LEjVxM/ZmIAJmIAJmIAJmIAJmIAJmIAJmMBwImBBqlpvWZCqxs+CVE38nI0JmIAJmIAJmIAJmIAJmIAJmIAJDCcCFqSq9ZYFqWr8LEjVxM/ZmIAJmIAJmIAJmIAJmIAJmIAJmMBwImBBqlpvWZCqxs+CVE38nI0JmIAJmIAJmIAJmIAJmIAJmIAJDCcCFqSq9ZYFqWr8LEjVxM/ZmIAJmIAJmIAJmIAJmIAJmIAJmMBwImBBqlpvWZCqxs+CVE38nI0JmIAJmIAJmIAJmIAJmIAJmIAJDCcCFqSq9ZYFqWr8irNHdL2WJk2alEZ0LpG6u7vTxJGvpI6OjjT/oj/Ox/R0zZp/TuroPWVk35kdPa/3/tbR+72TCZiACZiACZiACZiACZiACZiACZjAUCYwqfc9v+/Nvu81P6XJ3fnzZx/dL/+cbUrv+35nR+/P7tTZ1yj9HMptHPy6WZCqibEFqZpAOhsTMAETMAETMAETMAETMAETMAETGNIELEjV0T0WpOqgmFIa0fV6n4XUYv0tpEYf3aucds2ef/ZetraQqgm7szEBEzABEzABEzABEzABEzABEzCB6UzAglQdwC1I1UHRglRNFJ2NCZiACZiACZiACZiACZiACZiACQx1Ahak6ughC1J1UGwqSP0wl9DTNWf+aQupmoA7GxMwARMwARMwARMwARMwARMwAROYIQQGEqQm59o8++j++eebMaTeyH93pxEzpLZDtVALUjX1zMAuexakakLsbEzABEzABEzABEzABEzABEzABExgCBCwIFVHJ1iQqoNitJDqWrQ3htSIvl32Rv8ol9DTNVf++VYLqb5POrTvXk0VcjYmYAImYAImYAImYAImYAImYAImYAKDQKDXEqqnz+KpI/Xurpem9L7fv7nLXu/fnan3eFtI9e8KC1I1XZqFhZQFqZqIOhsTMAETMAETMAETMAETMAETMAETGIoELEjV0SsWpOqgmBXP11NPT0+aPHneNMsss6SXO55LU6ZMSQsvfVxKkyennllG5ZJsIVUTcGdjAiZgAiZgAiZgAiZgAiZgAiZgAjOAQE/fmz0WUh35X69AlSa/kVJHRwMLqV4Lqu6eWXqP6+izqJoBdR9KRVqQqqk3JEhNmTJfGjlyZHql8/nsurfgksem1N2dekbMZ0GqJtbOxgRMwARMwARMwARMwARMwARMwARmHIHJqSf/KwlSA7rsWZBq1FcWpGq6giVIdXfPn7q6utLEkS9kC6kFljg6pZ6e1NM1b58g1RtVXxGjOnr6lNQOR9uvqSucjQmYgAmYgAmYgAmYgAmYgAmYgAkMIgHFhOrKZShGVOru3U2v2GVvcu9xnX0xpmwh1b9LLEjVdIl2dbyRBaiOjgV6hafZXs5/jxp9VDbZ6+mcx4JUTaydjQmYgAmYgAmYgAmYgAmYgAmYgAnMOAJvxpDCTqqfINXdnZ59/IBctdksSDXtIgtSNV3BEqQ6OxfMQlT3nK/mn/OPOjil2WdPPR0SpHpto2whVRN4Z2MCJmACJmACJmACJmACJmACJmAC05VArwseUlR3T3fq6pjSW3r36ym9/np69pmDSoJU39eOIdWvlyxI1XTRjuiclCZPnpy6uhZKb7zxRkpzT8x/zzXXt9Ms881nQaomzs7GBEzABEzABEzABEzABEzABEzABGYsgQEEqUmvpkmvvppefPEwC1JtdJAFqTYgtXPIiM4padKkSWnkyIXSa6+9ljrnfSP/Pcss+6S5F1ww9XQpqLktpNrh6WNMwARMwARMwARMwARMwARMwARMYCgS6O6enDo7O4OF1KTeak58Kb3y0ktp4sSj+gSpXuGqs68R3T2z9v4mi6qh2LjpWCcLUjXBHtnVnS2jEKReeeWVNGL+yVmQ6uz8Wpp/kUVSz4j5c0mT+pz17LJXE3hnYwImYAImYAImYAImYAImYAImYALTkcCAgtSrL6QXXnghTZ58jAWpNvrDglQbkNo5ZI43lsoxoybN8e/U0dGRXup4PZ82y2xbpnnf8Y6U0sZ92fRpo12T8iaRKb2WOlJH6km9MaYGSh0cStLPtxzYW56TCZiACZiACZiACZiACZiACZiACZjAwASmdMpERMf0WjKVX7hl2fRmTh3511fTiPxzljQlTemekmbrfKH3kFf+mp5/8snU1XFH/rOzc0Jvrj2z9/6cMqrv8+fdPSklC1I1XQazv75kFqQmz3lP6urqyoJUd3d3Sp2bpHnmmSfNOucn+0p6U5Dq/eC1vsveglRNXeFsTMAETMAETMAETMAETMAETMAETGBAAnUIUtiKjOzpddWbtaNPYHr+5vTMU0+lWUf+04JUG9efBak2ILVzyCzdXVmA6h4xMY0YMSJN7EjZZW9SWjrNNttsad4Ft05pxMiUJi+bUndKUzpS6upKaUpn73aRXakvKv9bCpNS27wWb6RexdXJBEzABEzABEzABEzABEzABEzABExgYAIjS6/ZvXZPxHYqnVP8rRN6f76eRqQp3SnNml5PXZ1dKaUHU3rj9fTGczelCRMmpLlmezgf19XxYv7Z3WdRJUupDkQBJ1tI1XUNzNozIltIIUhhIfVGV2cWpCZOWSL/Pc88m6bZ5sEK6t3ZCnBSd0ojRqTU3TU5dafuNHJAX7z2LlQLUnX1pPMxARMwARMwARMwARMwARMwARN4OxOoKki91tPrsjd7R6+BSep5IL3+/PPp9RdvyZuczTnrQxak2riAbCHVBqR2Duma9ZksSHVOWjjHkOrpGJEtpiZ1Ts5/d4xYNc1DLKmRW/QqpFPmTD09KU3pC7I/S9lASkps8VPCVF/0/qSfvZ9bkGqnl3yMCZiACZiACZiACZiACZiACZjAzE5gZOoVkjqK/e+wciL1Ck1vMWAqxXSe3Gdgkjqf7T3+9dvSixMmpDTx7tTT05NmSb2xozr6PKF6+jyjujv63uu755zZuyC334JUTZcBghQCVMcbC/Vdv70X9JQR3Xk7yImTlkvzzjtvGjnHNimNHJlST68gNakvlpoFqZo6wtmYgAmYgAmYgAmYgAmYgAmYgAmYQBMCtQpSr7+eXnvpxvTSSy+lWXvuy+//I7qfsSDVxhVoQaoNSO0c0jPyhWwJ1TlpVK8wNaWn9++uN/LPN3rmzrGlOudcJ80y//wpdbwvZzupZ/bU0YEO26esJimzfVH4U58JlRTZkgef/uyyD2o73eRjTMAETMAETMAETMAETMAETMAEZnICk/Xa3cdBjklv7qrX68LU0WdJlYqYz31v4DgsdXam1HlPen3ChDTx1Ruzx9RsnU9nC6muPg+ozu7e9/nujt4Pejpf7/1b7/kzeT9YkKrpApjS9VyOFdU1+R29u+tN7s4XogSpyR3zpjfeeCNNHrlWWmiRRVKaY+1c8utTZs/X8cgOC1I1dYWzMQETMAETMAETMAETMAETMAETMIEBCVQWpKb0SVeT/pGee/rpNPmNW7IeMHvXMzmW9Cx9hiYWpJpfhBakarpJu3vmyDl1dryaf45ElEJR7e71yese2ZEV09dGzJ7mmGOONGLuNdPI2eZKKa3eV4O5UndPd+ru6cgmfh19FzC5dPek1NHRayLVU1Jou/v+nrVnlppa4mxMwARMwARMwARMwARMwARMwARM4O1L4PU+i6WOvphRxJLqYaOx7t4YUhhQYTjS9xr+VhAdt6b00ovp1Zf/kV79//bu5keS5Kzj+C8is7Kquvpldl72xTa7Yy+LzAGwMBgjIyMZyQYjYQ6IA+LGBf4BJCQEB04ICSELhMSBCxfEwfhggQDLAlm2eJMMQpaN98XeXXa8Mztv/VJdnZWZESifiOydmfVsz7p7pmenviWNsrOqOjPjkzmH/umJJ/b3NfIvpal6WliByij0C5r1PXzSNrgUYB1WSPmhJ/Sja3wvIyOQuhele/jOvQRS/YO55yp7UMP4Q9rY2NB4/DG5sg+tUiDVdil48r605SPvXGPvboFUJQKpe7hNfAUBBBBAAAEEEEAAAQQQQGDFBerDpuYpgPK5IGRocj5M3Qt5Eb2if2OY19fnTNe+oIODA9XNN60iajJ62Sqk+kDKpuy1ffEJgdRRjxmB1FFC9/h5aJ9KD3L5mm2LvAqeb8+k59DnXlLFdauUqvW4JpOJZuOParS+LvlP3n6mPpfq/+UHv6+S6l/R5x/cMu27lKwulR/4e7xevoYAAggggAACCCCAAAIIIIDAKgpUOWjq+znbv4xwmDn1q+H1q5AVi/zJ3P5Ab+bXrCIq7n7OKqG8duzzstyzwpMippKS2E3S7+XV9KLyzKkBu9hbRfa3jJlA6oQeg6MCqUYHlpiG8Y49uPP2rJ3Zhx/TaDTS2savqaoK3bXQaWi6dthlLf0Pijn4Wio1QeeFAAIIIIAAAggggAACCCCAAAJ3F6jumIp0S/FT/qX8BZ9a8qjb1mJvTzs7VzSfz7VVfClN0fN7toiZc9v2tT6Q6vcJpO7t6SOQujeno78VciDkc4KaK5cUUxIaQ+4NlSucYuwsmIrRWUlfU120iqm1tcflplPJPZkmrcYn0rmb82k7zEW9cy4fM/aOvkd8AwEEEEAAAQQQQAABBBBAAIGhhdNhadQiVUT5K2k7viz18/W6/9VyPlfdvGBT8+S2LXAa1SMLpHyc2N/zagvbOp8DKaUZTaGvtLJCkpwLxJQbeKXV9lb9RSB1Uk/AEYGUd6UFUCG29gDbCpHeHwZSN5bn05zT8oxVTI3ck6qqSmXx3r7+TxpfzIHURt7eceEEUid1JzkOAggggAACCCCAAAIIIIDAoyxwayDVd8VxtwdS9fZ/29/vrXtRdV2ri9+xwGlU7assSxWLIlVGhXEKorrci6qI9n6IKXAikHr7h4hA6oT+k3m3mx64sJW2PiWhoUjvj7SZ5pgenLP9qthJieroRUtg992FFFiFPqTqH+KZBVTOT+yBbrp0vM4Pk107248u7U+aw7l8JzQiDoMAAggggAACCCCAAAIIIIDAoydwMO57QkkupMoOFyaKIcp3VQ6YUuBUKM108rkJegxN+rt9/Lr9nm/P2/fUphxAefW8UL6R/l7PvaIOe0iF1Pu5zKv5PXqy72xEBFLvzOuu3z4qkCrCeirtax63YxS6YQ+y89+yB76dvO8wkLL/EG5m32tab03Qy2ps+wRSJ3TDOAwCCCCAAAIIIIAAAggggMBKCiyq1FTcx/R3ts8znvpAqn9NRzMtl0t1y1RKVZX9xKVSiq393d5V37W/44dAynVnbD+oTn/nj6/b7xFIvf3jRSC1kv/9GDQCCCCAAAIIIIAAAggggAACCCBwegIEUqdnz5kRQAABBBBAAAEEEEAAAQQQQACBlRQgkFrJ286gEUAAAQQQQAABBBBAAAEEEEAAgdMTIJA6PXvOjAACCCCAAAIIIIAAAggggAACCKykAIHUSt52Bo0AAggggAACCCCAAAIIIIAAAgicngCB1OnZc2YEEEAAAQQQQAABBBBAAAEEEEBgJQUIpFbytjNoBBBAAAEEEEAAAQQQQAABBBBA4PQECKROz54zI4AAAggggAACCCCAAAIIIIAAAispQCC1kredQSOAAAIIIIAAAggggAACCCCAAAKnJ0AgdXr2nBkBBBBAAAEEEEAAAQQQQAABBBBYSQECqZW87QwaAQQQQAABBBBAAAEEEEAAAQQQOD0BAqnTs+fMCCCAAAIIIIAAAggggAACCCCAwEoKEEit5G1n0AgggAACCCCAAAIIIIAAAggggMDpCRBInZ49Z0YAAQQQQAABBBBAAAEEEEAAAQRWUoBAaiVvO4NGAAEEEEAAAQQQQAABBBBAAAEETk+AQOr07DkzAggggAACCCCAAAIIIIAAAgggsJICBFIredsZNAIIIIAAAggggAACCCCAAAIIIHB6AgRSp2fPmRFAAAEEEEAAAQQQQAABBBBAAIGVFCCQWsnbzqARQAABBBBAAAEEEEAAAQQQQACB0xMgkDo9e86MAAIIIIAAAggggAACCCCAAAIIrKQAgdRK3nYGjQACCCCAAAIIIIAAAggggAACCJyGQLCTrn/gL1y/dXsv/WY8jcvgnAgggAACCCCAAAIIIIAAAggggAACqyJAILUqd5pxIoAAAggggAACCCCAAAIIIIAAAg+JAIHUQ3IjuAwEEEAAAQQQQAABBBBAAAEEEEBgVQTuCKTm3/6tt52yFyMz+lbl0WCcCCCAAAIIIIAAAggggAACCCCAwP0QcM5aR2n2/j9PPaQIpO4HM8dEAAEEEEAAAQQQQAABBBBAAAEEEBgECKR4FhBAAAEEEEAAAQQQQAABBBBAAAEEHqiAU2nnm33gT6mQeqDynAwBBBBAAAEEEEAAAQQQQAABBBBYVYFY2MjXn/0zAqlVfQYYNwIIIIAAAggggAACCCCAAAIIIPAgBWJX2ek2nvssgdSDhOdcCCCAAAIIIIAAAggggAACCCCAwKoKuDixoc+e/RMCqVV9CBg3AggggAACCCCAAAIIIIAAAggg8CAFSr9hp5tc/CMCqQcJz7kQQAABBBBAAAEEEEAAAQQQQACBVRWoyi0bevX0H6ZAanHpj+NisVDZ7ahfgq8Ib2g0GkllrbquFYtN+4Uurtu2jI1tR27Hto0br6ol40YAAQQQQAABBBBAAAEEEEAAAQRWQiCGlAvJL2wT/UEed0jbmPIhF0a3eTh1tt8Vm5pOp6qe+P0USDVXPht3d3dVtNsqikJlvGrBVB9ItW2rkEuqCKRW4vlikAgggAACCCCAAAIIIIAAAggggMBbBI4bSLV+Q1tnzsg99jspkIrX/ypev3ZNLryk8XisIr6hruvkXep+3motBV0uJV4+J1ujFHCpSav28UIAAQQQQAABBBBAAAEEEEAAAQQQeEQFYq6Akksz5+SWt480lunt6PPnQ47U2v7N8CE9+eST8uu/kgOp+d/Em6+/rti+oMlkYoFU0zQWSPUVU8uQuqATSD2iTxTDQgABBBBAAAEEEEAAAQQQQAABBI4QOIlA6qmnn5arfikHUst/iTcvXVLXfsUqpEbxuxZIFeFCDqTS3L9Y3rCtjynhKppztu3KfW4aAggggAACCCCAAAIIIIAAAggggMAjLBAsRuoroPL2jrEOeZFT7inl8tS6vH8p/rouXryoonguB1Lxq3F+6ZKa5ZflvbdAKoSgMj6uGKNapaZUBFKP8FPF0BBAAAEEEEAAAQQQQAABBBBAAIG3EThuIHWt+g29973vk3MfGAKpF+P+5ctaNn9rvaOq+IpVRo2ap61SKhZpyl4Yv2Rbn+cCFotnbb+rrnHDEEAAAQQQQAABBBBAAAEEEEAAAQQeYYHgU++oYRW9IqSm4k6pZMor95TKlVFDgKWcI+1t/q7Onz8v5zbeDKTqq1dVLz+nuq4tkKqqSlX7jA4ODqRySiD1CD9QDA0BBBBAAAEEEEAAAQQQQAABBBA4SuC4gVRz4Q+0sbEp59ZzINVtx7C/r+s3/tKm6BX1/2hzc1P19obtuyL1kAqTVCE1dEsv95+zfSqkjrplfI4AAggggAACCCCAAAIIIIAAAgi8uwWCr1MuFFJrpyKkvKiIqVdUdAfWCiq4YK2gurhm+9K6fb72/t9Lv+/W3gykVNeq67/WjRs3NHPP25S9sn1Sy+WSQOrd/bxw9QgggAACCCCAAAIIIIAAAggggMCxBY4KpORrOecUfbQCp6ZLLaDK8ozNxPNP/fadgVSM6jrJfUmvfec72hx9w6bunZ1u2pS9/kCWdI3eyBef2qoXy6dsG4q9Yw+KAyCAAAIIIIAAAggggAACCCCAAAIIPLwC0Q09pIYKqdRDyrtUORWL1EMqFKn10+LgvAVTk8lFzba2pK1fsPdvmbIXc/epL+v6ay/L1/+htm11Zrxu20659IpA6uF9KrgyBBBAAAEEEEAAAQQQQAABBBBA4D4K3Esg1QdQdwZSm5s/pOrCBan8+O2BVLuMsehDLf+CljdvavfyF1SWpUbxss3169xBSrpyl/S+f3r/KkKVki8X7uNwOTQCCCCAAAIIIIAAAggggAACCCCAwGkLxJz/vNlDKl+R37cfumJpFVGtHrP9RfOstYTa2vxJjc+fl/SeHEjlHlLLgxhHfR8q97zUttp77fMpiFq8rNFoRCB12nec8yOAAAIIIIAAAggggAACCCCAAAKnLHBUINXmHlLLsJWDqQ9qNptptv5haTZ7ayDVNjH2Tc+duyaFIO38k/a3txXb/0rd0XMX9RjTHEGp75AuFUpzBINSV3VeCCCAAAIIIIAAAggggAACCCCAAAKPtoDPq+u51ABKyr3F22JpOdKiO6+u6+TKj+rcuXPyk5+QvFd0m/Z174q0yl7oYmwaqapyIKV/0/yVV1S6r9sBhqZUBFKP9gPF6BBAAAEEEEAAAQQQQAABBBBAAIGjBO4WSHVlY1P09ttz1pN8NPkZPfbEE5L/UTvkWwKpg9jP8JMmQ7LlXlK7s63l3j9osVhoNrqmEIJ8M7GSq+iXaRm/6opttTxjBw4+NT+X2nyiYQipokoxVVINcw0Vy/S+Xxw1Vj5HAAEEEEAAAQQQQAABBBBAAAEEEDiGwLhJq+LFXNrUFim/6YY8544e4UVIeY6LqZf4tt9RVVWadGspcKo3LYAq48wKmtrxrm13RoWm06lGm7+s2XRLy+6H1XXSNLUi77OkVCHVB1L9D+OYZuz54kWpL5ma/6OuX7+uMlyyXlKjMLMTBlfbCftAqj+Rb8/aAQmkjvFU8KsIIIAAAggggAACCCCAAAIIIIDAfRQ4biA1r/YtDxotx7cFUkVYs0ImzRaq61rzSaWzZ8+q3PiMvCoLpPrkaZzrkg4DqSYHUqWClsulqn7uX99UavEN3bxyRc3Bf2o8Hms8esVO6BVsFT6167bvXErMhoSt7yplAdVdV98bKqbyllX67uPjxqERQAABBBBAAAEEEEAAAQQQQAABadSHRpbXJI1uyHNyr3ApfTD0hvIx9xBPv6Z2klbTC8upFSiVai2g0mjXAqlQPGG5Uig+ofP9VL3pT9n36zBS4aWcR71ZIbWM0Yqv+kCqP2Dhd9OZwkuKOzua73zVgqfCvWTNqcqcI/WBVMqy0gUTSPF4I4AAAggggAACCCCAAAIIIIAAAg+nwEkEUlYJ1fYr5kkj11lOFMsdC6TqcNYKmsrpz6s885ikH7HvLeNI3n2PQKpvIdXnSs41OYgaSX3O1NX9m2oXX9TVq1cVwt/ZgbeKaImXnz9jU/k6f/M26TAka7nyaQiqght6S+VeU/nzw55SD+f94qoQQAABBBBAAAEEEEAAAQQQQACBd72Ad6mHd8g9vhXHth+Vmju5kHpMDXVILqbSKG8hUaqc6gOkrpxbENVVN2z/wI9su1x+RBcuXNBo+qvZKvUS74qUNxXKvcWHHlIhpEDK+zcDqdgGuT5A6qfuFf+q3cuXdXDweSvF2nCdBVLF/kUCqXf948gAEEAAAQQQQAABBBBAAAEEEEBgFQROIpDqncJo3xa5WxZXbaZdXVSWFxXFz+pMP1Wv+7Rxtu1IfcenPpCKiiqH4GsIpGITo8VfeQ5hnlKoPJVQzl1Ss5hrufii5vO5pstX7cTjJiVgYXw93bc8t9DHlKgNq+gNcxNjrojq/O2VUj6kRI4XAggggAACCCCAAAIIIIAAAggggMD9EYjDzDjl3CbnMS4edneyE3ulmW1OuXDJLW2/WqZF7Zq1ly0X2nXRpuo17uOaTCaazX5R47U1KW7Z99qYpvQ5OQuk+p/suIeB1DJEFc4Cqbbpv+Iswer3+8X2quq1tNP9s66+/rqKvRftRNNurMViIbe2naQIpO7PE8NREUAAAQQQQAABBBBAAAEEEEAAgWMKHDeQGtV9X6i+hdQrFjT1gZRlS9XPaXNzU0X1Kfu8azdtwl30Mfcel7wb4qhbA6m+QsoiqjSydgjK8mp5Pi5VuEIu7qrd21Oz8xXt7e1pXH7NSrKCu24X4IeELbeI8n3TKu8VQjp8KsO6pYt7Pp9PH/NCAAEEEEAAAQQQQAABBBBAAAEEELhPAkMuc+dqesPpnA+posm3VvnUdvsWKHkf02p6i7Ftl2Vhn+/F5zSbzTTZ+IzGazN1YTPlP7kJVaHa9vvEKL3u6CFlU/bSN+z1doGUfWHx76q3t9UcfFl1XWttY5kSr+DShR5WSqUT5aMTSN2nB4rDIoAAAggggAACCCCAAAIIIIAAAkcJ3EsgZTmO0hQ9uaUVIMWYWi/N/FnrKb4XOusp7jc+rNnWllR+0kKldx5ItUNklM7X5QqpTnu277VuWVVuii6V1xTnc+0uPqfd3V1Nq7S8nwtLS9LGLpVI+a6294eirNiXcfXHz02sYq6o8sOcxKPk+BwBBBBAAAEEEEAAAQQQQAABBBBA4PsSiHGacialgOkwj+kXtetfReoJ1YbU+8kXaeZb0wVrXu4nE7Vtq7D8aa2vr2sy+4TcdCq5dNxuKITKM+H67lDpdS1vz6XzH/aQOiKQKrRuC/yVfUDWH6y8Jlnn879XV9faufG8XZi62i50WuQ5hM3C3i9yd3QCqe/reeGXEEAAAQQQQAABBNsB/5gAAASuSURBVBBAAAEEEEAAgWMLHBVIubKPe4K62Gc+kvOp2XnXT4oLQXWMFkStTz4lra9L8SPpmvpAKr5Z4GQhUp9vHRlIdbdP2YsuzfHra5vSq19Nr5/Llw9YdqlplS7bG/s3v6aDgwM1i8tqmkYTd93mFFbuqk3hK9z+bWid0qp6Mc8d9HlO4bFlOQACCCCAAAIIIIAAAggggAACCCCAwPcU8F2qZOqn4tnGHeT9FPh0GlneEzRLAVS3nj73MytAqscXrXn5+uQjstXwujMWRAUna2KuodLqcNW+fBlunn+Y5fOmKXQuHhFIxdhfkORTQCblKXnOXclv/J+0nGu+/apN4SvayzaAaXnDLlhh9zYIAin+ZyCAAAIIIIAAAggggAACCCCAAAIPVuCoQGrZectxolu3AqNl2LD9stqynlHTJ348XXD7Qalvch7SqnuH9UzfdyDlU8+ow+7mISVXMZdYhVw5NQRKoUsNy6dF/r36ZdWLhVR/05pclfHblqhJV/P1NbYNuTJq2HrlZfke7H3gbAgggAACCCCAAAIIIIAAAggggMDKCBRdmrGmnO94t0g5zbDIXViz/S4+ngqMih/QZDLRaPKUNBopTj5mn7cxVVaNijw3L/emOoR0O/nHfL42b9MMwFt6SA0VUkcEUm2+0KhU4tVPKewDqYl2Um3WUDHVfktxZ0fL+ddtKl9Z3rTvD82yCKRW5llnoAgggAACCCCAAAIIIIAAAggg8JAIHBVIyW9aYVHTnVdVVRqv/aD8xoY0fioFVe2HbAadK3JPJy0VFeXCzN5/54FUX4d1jFcX+nRL8i5VQEl76kKn2N20puY3r7xgXdhdeNUGNi5ftaStqq7b1L6mPpt6TfkDe9/FvdS9PfYVYIVclyO0mJb/Cy5f7lAKdlgbdoxB8KsIIIAAAggggAACCCCAAAIIIIDAQyzg49Dre+iplC52qHBySrlJv6hcn7PEkPadSstfRv41e7+JZyx/aXXePq/DY2mKnjun8Xis8ez91rzcl0+nWXRh3YqS+qbnJ/F6c5W9Ew+k+mZVUYrbNiDXXLNAqlt+W3VdK7bP25S+EC7Z+5PqGfteXyrWB1BecwuuSudtPzYZnEDqJO47x0AAAQQQQAABBBBAAAEEEEAAgXehwFGBVAzOgqdbA6l+vw+k+gBqMnrdCoAWTeoR1bkLKstSoXjc8peNx3NvKNdXRPVZzBNJqVtX35HJj04G7cQCqdilCqk+NMvRW9rmZQIV06p9aq9KTSN1r6ipazXLS7YqXzm6bMFUX1nVQ/m4lwOpVCEVhsKrtwRSqSu8dEIR3cm4chQEEEAAAQQQQAABBBBAAAEEEEDgxAXeSSCVcplUGVX4ygKpxSI1IY/FY9akfDR+RtXamrT2ntSkXKmHlJR7iseUQIU8Ua0YCrSOObITC6R0uPpevqIhmLozkFLqJSX/ev7iG7KIbf9b6upaXbedmqB3O3mKX5eaaHV3q5AikDrmM8CvI4AAAggggAACCCCAAAIIIIDAu0TgqEBqmLJnfb6tbmiUVskrxqlFUnXRmpOrOi9VlWSVUP3rTN5OrVl4F9esgkpxaoca+jyddCD1/1BZ9E0tNFayAAAAAElFTkSuQmCC)"
      ]
    },
    {
      "cell_type": "code",
      "execution_count": 9,
      "metadata": {
        "colab": {
          "base_uri": "https://localhost:8080/",
          "height": 393
        },
        "id": "7mwss7EhRpWt",
        "outputId": "669f20e1-ba8f-4258-cf00-af4a784d5065"
      },
      "outputs": [
        {
          "output_type": "display_data",
          "data": {
            "text/plain": [
              "                                                                                                     hypothesis  \\\n",
              "7              Добавить форму подписки на все основные страницы, чтобы собрать базу клиентов для email-рассылок   \n",
              "2  Добавить блоки рекомендаций товаров на сайт интернет магазина, чтобы повысить конверсию и средний чек заказа   \n",
              "0            Добавить два новых канала привлечения трафика, что позволит привлекать на 30% больше пользователей   \n",
              "6          Показать на главной странице баннеры с актуальными акциями и распродажами, чтобы увеличить конверсию   \n",
              "8                                                       Запустить акцию, дающую скидку на товар в день рождения   \n",
              "3           Изменить структура категорий, что увеличит конверсию, т.к. пользователи быстрее найдут нужный товар   \n",
              "1                                     Запустить собственную службу доставки, что сократит срок доставки заказов   \n",
              "5                      Добавить страницу отзывов клиентов о магазине, что позволит увеличить количество заказов   \n",
              "4                              Изменить цвет фона главной страницы, чтобы увеличить вовлеченность пользователей   \n",
              "\n",
              "    RICE  \n",
              "7  112.0  \n",
              "2   56.0  \n",
              "0   40.0  \n",
              "6   40.0  \n",
              "8   16.2  \n",
              "3    9.0  \n",
              "1    4.0  \n",
              "5    4.0  \n",
              "4    3.0  "
            ],
            "text/html": [
              "\n",
              "  <div id=\"df-7af23c6b-5c3d-41b6-b31e-a02a27c296d4\">\n",
              "    <div class=\"colab-df-container\">\n",
              "      <div>\n",
              "<style scoped>\n",
              "    .dataframe tbody tr th:only-of-type {\n",
              "        vertical-align: middle;\n",
              "    }\n",
              "\n",
              "    .dataframe tbody tr th {\n",
              "        vertical-align: top;\n",
              "    }\n",
              "\n",
              "    .dataframe thead th {\n",
              "        text-align: right;\n",
              "    }\n",
              "</style>\n",
              "<table border=\"1\" class=\"dataframe\">\n",
              "  <thead>\n",
              "    <tr style=\"text-align: right;\">\n",
              "      <th></th>\n",
              "      <th>hypothesis</th>\n",
              "      <th>RICE</th>\n",
              "    </tr>\n",
              "  </thead>\n",
              "  <tbody>\n",
              "    <tr>\n",
              "      <th>7</th>\n",
              "      <td>Добавить форму подписки на все основные страницы, чтобы собрать базу клиентов для email-рассылок</td>\n",
              "      <td>112.0</td>\n",
              "    </tr>\n",
              "    <tr>\n",
              "      <th>2</th>\n",
              "      <td>Добавить блоки рекомендаций товаров на сайт интернет магазина, чтобы повысить конверсию и средний чек заказа</td>\n",
              "      <td>56.0</td>\n",
              "    </tr>\n",
              "    <tr>\n",
              "      <th>0</th>\n",
              "      <td>Добавить два новых канала привлечения трафика, что позволит привлекать на 30% больше пользователей</td>\n",
              "      <td>40.0</td>\n",
              "    </tr>\n",
              "    <tr>\n",
              "      <th>6</th>\n",
              "      <td>Показать на главной странице баннеры с актуальными акциями и распродажами, чтобы увеличить конверсию</td>\n",
              "      <td>40.0</td>\n",
              "    </tr>\n",
              "    <tr>\n",
              "      <th>8</th>\n",
              "      <td>Запустить акцию, дающую скидку на товар в день рождения</td>\n",
              "      <td>16.2</td>\n",
              "    </tr>\n",
              "    <tr>\n",
              "      <th>3</th>\n",
              "      <td>Изменить структура категорий, что увеличит конверсию, т.к. пользователи быстрее найдут нужный товар</td>\n",
              "      <td>9.0</td>\n",
              "    </tr>\n",
              "    <tr>\n",
              "      <th>1</th>\n",
              "      <td>Запустить собственную службу доставки, что сократит срок доставки заказов</td>\n",
              "      <td>4.0</td>\n",
              "    </tr>\n",
              "    <tr>\n",
              "      <th>5</th>\n",
              "      <td>Добавить страницу отзывов клиентов о магазине, что позволит увеличить количество заказов</td>\n",
              "      <td>4.0</td>\n",
              "    </tr>\n",
              "    <tr>\n",
              "      <th>4</th>\n",
              "      <td>Изменить цвет фона главной страницы, чтобы увеличить вовлеченность пользователей</td>\n",
              "      <td>3.0</td>\n",
              "    </tr>\n",
              "  </tbody>\n",
              "</table>\n",
              "</div>\n",
              "      <button class=\"colab-df-convert\" onclick=\"convertToInteractive('df-7af23c6b-5c3d-41b6-b31e-a02a27c296d4')\"\n",
              "              title=\"Convert this dataframe to an interactive table.\"\n",
              "              style=\"display:none;\">\n",
              "        \n",
              "  <svg xmlns=\"http://www.w3.org/2000/svg\" height=\"24px\"viewBox=\"0 0 24 24\"\n",
              "       width=\"24px\">\n",
              "    <path d=\"M0 0h24v24H0V0z\" fill=\"none\"/>\n",
              "    <path d=\"M18.56 5.44l.94 2.06.94-2.06 2.06-.94-2.06-.94-.94-2.06-.94 2.06-2.06.94zm-11 1L8.5 8.5l.94-2.06 2.06-.94-2.06-.94L8.5 2.5l-.94 2.06-2.06.94zm10 10l.94 2.06.94-2.06 2.06-.94-2.06-.94-.94-2.06-.94 2.06-2.06.94z\"/><path d=\"M17.41 7.96l-1.37-1.37c-.4-.4-.92-.59-1.43-.59-.52 0-1.04.2-1.43.59L10.3 9.45l-7.72 7.72c-.78.78-.78 2.05 0 2.83L4 21.41c.39.39.9.59 1.41.59.51 0 1.02-.2 1.41-.59l7.78-7.78 2.81-2.81c.8-.78.8-2.07 0-2.86zM5.41 20L4 18.59l7.72-7.72 1.47 1.35L5.41 20z\"/>\n",
              "  </svg>\n",
              "      </button>\n",
              "      \n",
              "  <style>\n",
              "    .colab-df-container {\n",
              "      display:flex;\n",
              "      flex-wrap:wrap;\n",
              "      gap: 12px;\n",
              "    }\n",
              "\n",
              "    .colab-df-convert {\n",
              "      background-color: #E8F0FE;\n",
              "      border: none;\n",
              "      border-radius: 50%;\n",
              "      cursor: pointer;\n",
              "      display: none;\n",
              "      fill: #1967D2;\n",
              "      height: 32px;\n",
              "      padding: 0 0 0 0;\n",
              "      width: 32px;\n",
              "    }\n",
              "\n",
              "    .colab-df-convert:hover {\n",
              "      background-color: #E2EBFA;\n",
              "      box-shadow: 0px 1px 2px rgba(60, 64, 67, 0.3), 0px 1px 3px 1px rgba(60, 64, 67, 0.15);\n",
              "      fill: #174EA6;\n",
              "    }\n",
              "\n",
              "    [theme=dark] .colab-df-convert {\n",
              "      background-color: #3B4455;\n",
              "      fill: #D2E3FC;\n",
              "    }\n",
              "\n",
              "    [theme=dark] .colab-df-convert:hover {\n",
              "      background-color: #434B5C;\n",
              "      box-shadow: 0px 1px 3px 1px rgba(0, 0, 0, 0.15);\n",
              "      filter: drop-shadow(0px 1px 2px rgba(0, 0, 0, 0.3));\n",
              "      fill: #FFFFFF;\n",
              "    }\n",
              "  </style>\n",
              "\n",
              "      <script>\n",
              "        const buttonEl =\n",
              "          document.querySelector('#df-7af23c6b-5c3d-41b6-b31e-a02a27c296d4 button.colab-df-convert');\n",
              "        buttonEl.style.display =\n",
              "          google.colab.kernel.accessAllowed ? 'block' : 'none';\n",
              "\n",
              "        async function convertToInteractive(key) {\n",
              "          const element = document.querySelector('#df-7af23c6b-5c3d-41b6-b31e-a02a27c296d4');\n",
              "          const dataTable =\n",
              "            await google.colab.kernel.invokeFunction('convertToInteractive',\n",
              "                                                     [key], {});\n",
              "          if (!dataTable) return;\n",
              "\n",
              "          const docLinkHtml = 'Like what you see? Visit the ' +\n",
              "            '<a target=\"_blank\" href=https://colab.research.google.com/notebooks/data_table.ipynb>data table notebook</a>'\n",
              "            + ' to learn more about interactive tables.';\n",
              "          element.innerHTML = '';\n",
              "          dataTable['output_type'] = 'display_data';\n",
              "          await google.colab.output.renderOutput(dataTable, element);\n",
              "          const docLink = document.createElement('div');\n",
              "          docLink.innerHTML = docLinkHtml;\n",
              "          element.appendChild(docLink);\n",
              "        }\n",
              "      </script>\n",
              "    </div>\n",
              "  </div>\n",
              "  "
            ]
          },
          "metadata": {}
        }
      ],
      "source": [
        "data['RICE'] = ((\n",
        "    data['reach']*data['impact'] * data['confidence'])/data['efforts'])\n",
        "\n",
        "display (data[['hypothesis','RICE']].sort_values(by='RICE', ascending = False))"
      ]
    },
    {
      "cell_type": "code",
      "execution_count": 10,
      "metadata": {
        "colab": {
          "base_uri": "https://localhost:8080/",
          "height": 549
        },
        "id": "F8CYaUi6RpWt",
        "outputId": "15f1648b-84d3-4b65-f029-36dca552d7fd"
      },
      "outputs": [
        {
          "output_type": "execute_result",
          "data": {
            "text/plain": [
              "                                                                                                     hypothesis  \\\n",
              "7              Добавить форму подписки на все основные страницы, чтобы собрать базу клиентов для email-рассылок   \n",
              "2  Добавить блоки рекомендаций товаров на сайт интернет магазина, чтобы повысить конверсию и средний чек заказа   \n",
              "0            Добавить два новых канала привлечения трафика, что позволит привлекать на 30% больше пользователей   \n",
              "6          Показать на главной странице баннеры с актуальными акциями и распродажами, чтобы увеличить конверсию   \n",
              "8                                                       Запустить акцию, дающую скидку на товар в день рождения   \n",
              "3           Изменить структура категорий, что увеличит конверсию, т.к. пользователи быстрее найдут нужный товар   \n",
              "1                                     Запустить собственную службу доставки, что сократит срок доставки заказов   \n",
              "5                      Добавить страницу отзывов клиентов о магазине, что позволит увеличить количество заказов   \n",
              "4                              Изменить цвет фона главной страницы, чтобы увеличить вовлеченность пользователей   \n",
              "\n",
              "   reach  impact  confidence  efforts        ICE   RICE  \n",
              "7     10       7           8        5  11.200000  112.0  \n",
              "2      8       3           7        3   7.000000   56.0  \n",
              "0      3      10           8        6  13.333333   40.0  \n",
              "6      5       3           8        3   8.000000   40.0  \n",
              "8      1       9           9        5  16.200000   16.2  \n",
              "3      8       3           3        8   1.125000    9.0  \n",
              "1      2       5           4       10   2.000000    4.0  \n",
              "5      3       2           2        3   1.333333    4.0  \n",
              "4      3       1           1        1   1.000000    3.0  "
            ],
            "text/html": [
              "\n",
              "  <div id=\"df-0b433c92-4a95-4e72-baca-e44181297746\">\n",
              "    <div class=\"colab-df-container\">\n",
              "      <div>\n",
              "<style scoped>\n",
              "    .dataframe tbody tr th:only-of-type {\n",
              "        vertical-align: middle;\n",
              "    }\n",
              "\n",
              "    .dataframe tbody tr th {\n",
              "        vertical-align: top;\n",
              "    }\n",
              "\n",
              "    .dataframe thead th {\n",
              "        text-align: right;\n",
              "    }\n",
              "</style>\n",
              "<table border=\"1\" class=\"dataframe\">\n",
              "  <thead>\n",
              "    <tr style=\"text-align: right;\">\n",
              "      <th></th>\n",
              "      <th>hypothesis</th>\n",
              "      <th>reach</th>\n",
              "      <th>impact</th>\n",
              "      <th>confidence</th>\n",
              "      <th>efforts</th>\n",
              "      <th>ICE</th>\n",
              "      <th>RICE</th>\n",
              "    </tr>\n",
              "  </thead>\n",
              "  <tbody>\n",
              "    <tr>\n",
              "      <th>7</th>\n",
              "      <td>Добавить форму подписки на все основные страницы, чтобы собрать базу клиентов для email-рассылок</td>\n",
              "      <td>10</td>\n",
              "      <td>7</td>\n",
              "      <td>8</td>\n",
              "      <td>5</td>\n",
              "      <td>11.200000</td>\n",
              "      <td>112.0</td>\n",
              "    </tr>\n",
              "    <tr>\n",
              "      <th>2</th>\n",
              "      <td>Добавить блоки рекомендаций товаров на сайт интернет магазина, чтобы повысить конверсию и средний чек заказа</td>\n",
              "      <td>8</td>\n",
              "      <td>3</td>\n",
              "      <td>7</td>\n",
              "      <td>3</td>\n",
              "      <td>7.000000</td>\n",
              "      <td>56.0</td>\n",
              "    </tr>\n",
              "    <tr>\n",
              "      <th>0</th>\n",
              "      <td>Добавить два новых канала привлечения трафика, что позволит привлекать на 30% больше пользователей</td>\n",
              "      <td>3</td>\n",
              "      <td>10</td>\n",
              "      <td>8</td>\n",
              "      <td>6</td>\n",
              "      <td>13.333333</td>\n",
              "      <td>40.0</td>\n",
              "    </tr>\n",
              "    <tr>\n",
              "      <th>6</th>\n",
              "      <td>Показать на главной странице баннеры с актуальными акциями и распродажами, чтобы увеличить конверсию</td>\n",
              "      <td>5</td>\n",
              "      <td>3</td>\n",
              "      <td>8</td>\n",
              "      <td>3</td>\n",
              "      <td>8.000000</td>\n",
              "      <td>40.0</td>\n",
              "    </tr>\n",
              "    <tr>\n",
              "      <th>8</th>\n",
              "      <td>Запустить акцию, дающую скидку на товар в день рождения</td>\n",
              "      <td>1</td>\n",
              "      <td>9</td>\n",
              "      <td>9</td>\n",
              "      <td>5</td>\n",
              "      <td>16.200000</td>\n",
              "      <td>16.2</td>\n",
              "    </tr>\n",
              "    <tr>\n",
              "      <th>3</th>\n",
              "      <td>Изменить структура категорий, что увеличит конверсию, т.к. пользователи быстрее найдут нужный товар</td>\n",
              "      <td>8</td>\n",
              "      <td>3</td>\n",
              "      <td>3</td>\n",
              "      <td>8</td>\n",
              "      <td>1.125000</td>\n",
              "      <td>9.0</td>\n",
              "    </tr>\n",
              "    <tr>\n",
              "      <th>1</th>\n",
              "      <td>Запустить собственную службу доставки, что сократит срок доставки заказов</td>\n",
              "      <td>2</td>\n",
              "      <td>5</td>\n",
              "      <td>4</td>\n",
              "      <td>10</td>\n",
              "      <td>2.000000</td>\n",
              "      <td>4.0</td>\n",
              "    </tr>\n",
              "    <tr>\n",
              "      <th>5</th>\n",
              "      <td>Добавить страницу отзывов клиентов о магазине, что позволит увеличить количество заказов</td>\n",
              "      <td>3</td>\n",
              "      <td>2</td>\n",
              "      <td>2</td>\n",
              "      <td>3</td>\n",
              "      <td>1.333333</td>\n",
              "      <td>4.0</td>\n",
              "    </tr>\n",
              "    <tr>\n",
              "      <th>4</th>\n",
              "      <td>Изменить цвет фона главной страницы, чтобы увеличить вовлеченность пользователей</td>\n",
              "      <td>3</td>\n",
              "      <td>1</td>\n",
              "      <td>1</td>\n",
              "      <td>1</td>\n",
              "      <td>1.000000</td>\n",
              "      <td>3.0</td>\n",
              "    </tr>\n",
              "  </tbody>\n",
              "</table>\n",
              "</div>\n",
              "      <button class=\"colab-df-convert\" onclick=\"convertToInteractive('df-0b433c92-4a95-4e72-baca-e44181297746')\"\n",
              "              title=\"Convert this dataframe to an interactive table.\"\n",
              "              style=\"display:none;\">\n",
              "        \n",
              "  <svg xmlns=\"http://www.w3.org/2000/svg\" height=\"24px\"viewBox=\"0 0 24 24\"\n",
              "       width=\"24px\">\n",
              "    <path d=\"M0 0h24v24H0V0z\" fill=\"none\"/>\n",
              "    <path d=\"M18.56 5.44l.94 2.06.94-2.06 2.06-.94-2.06-.94-.94-2.06-.94 2.06-2.06.94zm-11 1L8.5 8.5l.94-2.06 2.06-.94-2.06-.94L8.5 2.5l-.94 2.06-2.06.94zm10 10l.94 2.06.94-2.06 2.06-.94-2.06-.94-.94-2.06-.94 2.06-2.06.94z\"/><path d=\"M17.41 7.96l-1.37-1.37c-.4-.4-.92-.59-1.43-.59-.52 0-1.04.2-1.43.59L10.3 9.45l-7.72 7.72c-.78.78-.78 2.05 0 2.83L4 21.41c.39.39.9.59 1.41.59.51 0 1.02-.2 1.41-.59l7.78-7.78 2.81-2.81c.8-.78.8-2.07 0-2.86zM5.41 20L4 18.59l7.72-7.72 1.47 1.35L5.41 20z\"/>\n",
              "  </svg>\n",
              "      </button>\n",
              "      \n",
              "  <style>\n",
              "    .colab-df-container {\n",
              "      display:flex;\n",
              "      flex-wrap:wrap;\n",
              "      gap: 12px;\n",
              "    }\n",
              "\n",
              "    .colab-df-convert {\n",
              "      background-color: #E8F0FE;\n",
              "      border: none;\n",
              "      border-radius: 50%;\n",
              "      cursor: pointer;\n",
              "      display: none;\n",
              "      fill: #1967D2;\n",
              "      height: 32px;\n",
              "      padding: 0 0 0 0;\n",
              "      width: 32px;\n",
              "    }\n",
              "\n",
              "    .colab-df-convert:hover {\n",
              "      background-color: #E2EBFA;\n",
              "      box-shadow: 0px 1px 2px rgba(60, 64, 67, 0.3), 0px 1px 3px 1px rgba(60, 64, 67, 0.15);\n",
              "      fill: #174EA6;\n",
              "    }\n",
              "\n",
              "    [theme=dark] .colab-df-convert {\n",
              "      background-color: #3B4455;\n",
              "      fill: #D2E3FC;\n",
              "    }\n",
              "\n",
              "    [theme=dark] .colab-df-convert:hover {\n",
              "      background-color: #434B5C;\n",
              "      box-shadow: 0px 1px 3px 1px rgba(0, 0, 0, 0.15);\n",
              "      filter: drop-shadow(0px 1px 2px rgba(0, 0, 0, 0.3));\n",
              "      fill: #FFFFFF;\n",
              "    }\n",
              "  </style>\n",
              "\n",
              "      <script>\n",
              "        const buttonEl =\n",
              "          document.querySelector('#df-0b433c92-4a95-4e72-baca-e44181297746 button.colab-df-convert');\n",
              "        buttonEl.style.display =\n",
              "          google.colab.kernel.accessAllowed ? 'block' : 'none';\n",
              "\n",
              "        async function convertToInteractive(key) {\n",
              "          const element = document.querySelector('#df-0b433c92-4a95-4e72-baca-e44181297746');\n",
              "          const dataTable =\n",
              "            await google.colab.kernel.invokeFunction('convertToInteractive',\n",
              "                                                     [key], {});\n",
              "          if (!dataTable) return;\n",
              "\n",
              "          const docLinkHtml = 'Like what you see? Visit the ' +\n",
              "            '<a target=\"_blank\" href=https://colab.research.google.com/notebooks/data_table.ipynb>data table notebook</a>'\n",
              "            + ' to learn more about interactive tables.';\n",
              "          element.innerHTML = '';\n",
              "          dataTable['output_type'] = 'display_data';\n",
              "          await google.colab.output.renderOutput(dataTable, element);\n",
              "          const docLink = document.createElement('div');\n",
              "          docLink.innerHTML = docLinkHtml;\n",
              "          element.appendChild(docLink);\n",
              "        }\n",
              "      </script>\n",
              "    </div>\n",
              "  </div>\n",
              "  "
            ]
          },
          "metadata": {},
          "execution_count": 10
        }
      ],
      "source": [
        "data.sort_values(by=['RICE','ICE'], ascending = False)"
      ]
    },
    {
      "cell_type": "markdown",
      "metadata": {
        "id": "Su2b6QXLRpWu"
      },
      "source": [
        "<div style=\"border:solid green 2px; padding: 20px\">\n",
        "    \n",
        "**Conclusions:**\n",
        "    \n",
        " When adding the \"Reach\" parameter, the 8th hypothesis about the Internet subscription to the newsletter breaks ahead, since it will affect 100% of users, but the birthday promotion hypothesis will affect a very small number of users, adding \"recommendation blocks\" has a low impact on users. the hypothesis about new channels of attraction is consistently in the top three. <br/>\n",
        "We make a decision that we will run an A / B test on the hypothesis \"Add a subscription form to all main pages to collect a customer base for email newsletters\"\n",
        "```\n",
        "H_0: The average metrics before and after the implementation of the newsletter subscription form have not changed`\n",
        "H_a: The average metrics before and after the implementation of the newsletter subscription form are different`\n",
        "alpha = 0.05\n",
        "```"
      ]
    },
    {
      "cell_type": "markdown",
      "metadata": {
        "id": "0dFHGTuVRpWy"
      },
      "source": [
        "## A/B test analysis"
      ]
    },
    {
      "cell_type": "markdown",
      "metadata": {
        "id": "FO5MNAtLRpWy"
      },
      "source": [
        "*We received the test results in two data frames \"orders\" and \"visitors\", let's call them to get acquainted:*"
      ]
    },
    {
      "cell_type": "code",
      "execution_count": 11,
      "metadata": {
        "id": "JQndgShjRpWy"
      },
      "outputs": [],
      "source": [
        "orders, visitors = (\n",
        "    pd.read_csv('/content/drive/MyDrive/dataf/orders.csv'),  \n",
        "    pd.read_csv('/content/drive/MyDrive/dataf/visitors.csv')  \n",
        "   \n",
        ")"
      ]
    },
    {
      "cell_type": "code",
      "execution_count": 12,
      "metadata": {
        "colab": {
          "base_uri": "https://localhost:8080/",
          "height": 363
        },
        "id": "_HG38sYoRpWz",
        "outputId": "536787fa-a2a9-440a-9346-114fba61117d"
      },
      "outputs": [
        {
          "output_type": "execute_result",
          "data": {
            "text/plain": [
              "   transactionId   visitorId        date  revenue group\n",
              "0     3667963787  3312258926  2019-08-15     1650     B\n",
              "1     2804400009  3642806036  2019-08-15      730     B\n",
              "2     2961555356  4069496402  2019-08-15      400     A\n",
              "3     3797467345  1196621759  2019-08-15     9759     B\n",
              "4     2282983706  2322279887  2019-08-15     2308     B\n",
              "5      182168103   935554773  2019-08-15     2210     B\n",
              "6      398296753  2900797465  2019-08-15     1860     B\n",
              "7     2626614568    78758296  2019-08-15     1044     A\n",
              "8     1576988021   295230930  2019-08-15    13710     A\n",
              "9     1506739906  1882260405  2019-08-15     1855     B"
            ],
            "text/html": [
              "\n",
              "  <div id=\"df-2fbc4b01-ac6f-4fde-86e4-0064438f460a\">\n",
              "    <div class=\"colab-df-container\">\n",
              "      <div>\n",
              "<style scoped>\n",
              "    .dataframe tbody tr th:only-of-type {\n",
              "        vertical-align: middle;\n",
              "    }\n",
              "\n",
              "    .dataframe tbody tr th {\n",
              "        vertical-align: top;\n",
              "    }\n",
              "\n",
              "    .dataframe thead th {\n",
              "        text-align: right;\n",
              "    }\n",
              "</style>\n",
              "<table border=\"1\" class=\"dataframe\">\n",
              "  <thead>\n",
              "    <tr style=\"text-align: right;\">\n",
              "      <th></th>\n",
              "      <th>transactionId</th>\n",
              "      <th>visitorId</th>\n",
              "      <th>date</th>\n",
              "      <th>revenue</th>\n",
              "      <th>group</th>\n",
              "    </tr>\n",
              "  </thead>\n",
              "  <tbody>\n",
              "    <tr>\n",
              "      <th>0</th>\n",
              "      <td>3667963787</td>\n",
              "      <td>3312258926</td>\n",
              "      <td>2019-08-15</td>\n",
              "      <td>1650</td>\n",
              "      <td>B</td>\n",
              "    </tr>\n",
              "    <tr>\n",
              "      <th>1</th>\n",
              "      <td>2804400009</td>\n",
              "      <td>3642806036</td>\n",
              "      <td>2019-08-15</td>\n",
              "      <td>730</td>\n",
              "      <td>B</td>\n",
              "    </tr>\n",
              "    <tr>\n",
              "      <th>2</th>\n",
              "      <td>2961555356</td>\n",
              "      <td>4069496402</td>\n",
              "      <td>2019-08-15</td>\n",
              "      <td>400</td>\n",
              "      <td>A</td>\n",
              "    </tr>\n",
              "    <tr>\n",
              "      <th>3</th>\n",
              "      <td>3797467345</td>\n",
              "      <td>1196621759</td>\n",
              "      <td>2019-08-15</td>\n",
              "      <td>9759</td>\n",
              "      <td>B</td>\n",
              "    </tr>\n",
              "    <tr>\n",
              "      <th>4</th>\n",
              "      <td>2282983706</td>\n",
              "      <td>2322279887</td>\n",
              "      <td>2019-08-15</td>\n",
              "      <td>2308</td>\n",
              "      <td>B</td>\n",
              "    </tr>\n",
              "    <tr>\n",
              "      <th>5</th>\n",
              "      <td>182168103</td>\n",
              "      <td>935554773</td>\n",
              "      <td>2019-08-15</td>\n",
              "      <td>2210</td>\n",
              "      <td>B</td>\n",
              "    </tr>\n",
              "    <tr>\n",
              "      <th>6</th>\n",
              "      <td>398296753</td>\n",
              "      <td>2900797465</td>\n",
              "      <td>2019-08-15</td>\n",
              "      <td>1860</td>\n",
              "      <td>B</td>\n",
              "    </tr>\n",
              "    <tr>\n",
              "      <th>7</th>\n",
              "      <td>2626614568</td>\n",
              "      <td>78758296</td>\n",
              "      <td>2019-08-15</td>\n",
              "      <td>1044</td>\n",
              "      <td>A</td>\n",
              "    </tr>\n",
              "    <tr>\n",
              "      <th>8</th>\n",
              "      <td>1576988021</td>\n",
              "      <td>295230930</td>\n",
              "      <td>2019-08-15</td>\n",
              "      <td>13710</td>\n",
              "      <td>A</td>\n",
              "    </tr>\n",
              "    <tr>\n",
              "      <th>9</th>\n",
              "      <td>1506739906</td>\n",
              "      <td>1882260405</td>\n",
              "      <td>2019-08-15</td>\n",
              "      <td>1855</td>\n",
              "      <td>B</td>\n",
              "    </tr>\n",
              "  </tbody>\n",
              "</table>\n",
              "</div>\n",
              "      <button class=\"colab-df-convert\" onclick=\"convertToInteractive('df-2fbc4b01-ac6f-4fde-86e4-0064438f460a')\"\n",
              "              title=\"Convert this dataframe to an interactive table.\"\n",
              "              style=\"display:none;\">\n",
              "        \n",
              "  <svg xmlns=\"http://www.w3.org/2000/svg\" height=\"24px\"viewBox=\"0 0 24 24\"\n",
              "       width=\"24px\">\n",
              "    <path d=\"M0 0h24v24H0V0z\" fill=\"none\"/>\n",
              "    <path d=\"M18.56 5.44l.94 2.06.94-2.06 2.06-.94-2.06-.94-.94-2.06-.94 2.06-2.06.94zm-11 1L8.5 8.5l.94-2.06 2.06-.94-2.06-.94L8.5 2.5l-.94 2.06-2.06.94zm10 10l.94 2.06.94-2.06 2.06-.94-2.06-.94-.94-2.06-.94 2.06-2.06.94z\"/><path d=\"M17.41 7.96l-1.37-1.37c-.4-.4-.92-.59-1.43-.59-.52 0-1.04.2-1.43.59L10.3 9.45l-7.72 7.72c-.78.78-.78 2.05 0 2.83L4 21.41c.39.39.9.59 1.41.59.51 0 1.02-.2 1.41-.59l7.78-7.78 2.81-2.81c.8-.78.8-2.07 0-2.86zM5.41 20L4 18.59l7.72-7.72 1.47 1.35L5.41 20z\"/>\n",
              "  </svg>\n",
              "      </button>\n",
              "      \n",
              "  <style>\n",
              "    .colab-df-container {\n",
              "      display:flex;\n",
              "      flex-wrap:wrap;\n",
              "      gap: 12px;\n",
              "    }\n",
              "\n",
              "    .colab-df-convert {\n",
              "      background-color: #E8F0FE;\n",
              "      border: none;\n",
              "      border-radius: 50%;\n",
              "      cursor: pointer;\n",
              "      display: none;\n",
              "      fill: #1967D2;\n",
              "      height: 32px;\n",
              "      padding: 0 0 0 0;\n",
              "      width: 32px;\n",
              "    }\n",
              "\n",
              "    .colab-df-convert:hover {\n",
              "      background-color: #E2EBFA;\n",
              "      box-shadow: 0px 1px 2px rgba(60, 64, 67, 0.3), 0px 1px 3px 1px rgba(60, 64, 67, 0.15);\n",
              "      fill: #174EA6;\n",
              "    }\n",
              "\n",
              "    [theme=dark] .colab-df-convert {\n",
              "      background-color: #3B4455;\n",
              "      fill: #D2E3FC;\n",
              "    }\n",
              "\n",
              "    [theme=dark] .colab-df-convert:hover {\n",
              "      background-color: #434B5C;\n",
              "      box-shadow: 0px 1px 3px 1px rgba(0, 0, 0, 0.15);\n",
              "      filter: drop-shadow(0px 1px 2px rgba(0, 0, 0, 0.3));\n",
              "      fill: #FFFFFF;\n",
              "    }\n",
              "  </style>\n",
              "\n",
              "      <script>\n",
              "        const buttonEl =\n",
              "          document.querySelector('#df-2fbc4b01-ac6f-4fde-86e4-0064438f460a button.colab-df-convert');\n",
              "        buttonEl.style.display =\n",
              "          google.colab.kernel.accessAllowed ? 'block' : 'none';\n",
              "\n",
              "        async function convertToInteractive(key) {\n",
              "          const element = document.querySelector('#df-2fbc4b01-ac6f-4fde-86e4-0064438f460a');\n",
              "          const dataTable =\n",
              "            await google.colab.kernel.invokeFunction('convertToInteractive',\n",
              "                                                     [key], {});\n",
              "          if (!dataTable) return;\n",
              "\n",
              "          const docLinkHtml = 'Like what you see? Visit the ' +\n",
              "            '<a target=\"_blank\" href=https://colab.research.google.com/notebooks/data_table.ipynb>data table notebook</a>'\n",
              "            + ' to learn more about interactive tables.';\n",
              "          element.innerHTML = '';\n",
              "          dataTable['output_type'] = 'display_data';\n",
              "          await google.colab.output.renderOutput(dataTable, element);\n",
              "          const docLink = document.createElement('div');\n",
              "          docLink.innerHTML = docLinkHtml;\n",
              "          element.appendChild(docLink);\n",
              "        }\n",
              "      </script>\n",
              "    </div>\n",
              "  </div>\n",
              "  "
            ]
          },
          "metadata": {},
          "execution_count": 12
        }
      ],
      "source": [
        "orders.head(10)"
      ]
    },
    {
      "cell_type": "code",
      "execution_count": 13,
      "metadata": {
        "colab": {
          "base_uri": "https://localhost:8080/",
          "height": 363
        },
        "id": "lOiW0tk5RpWz",
        "outputId": "d6ac5c82-f167-4ebd-8a75-cfa3be2608d2"
      },
      "outputs": [
        {
          "output_type": "execute_result",
          "data": {
            "text/plain": [
              "         date group  visitors\n",
              "0  2019-08-01     A       719\n",
              "1  2019-08-02     A       619\n",
              "2  2019-08-03     A       507\n",
              "3  2019-08-04     A       717\n",
              "4  2019-08-05     A       756\n",
              "5  2019-08-06     A       667\n",
              "6  2019-08-07     A       644\n",
              "7  2019-08-08     A       610\n",
              "8  2019-08-09     A       617\n",
              "9  2019-08-10     A       406"
            ],
            "text/html": [
              "\n",
              "  <div id=\"df-6e818af0-205f-4730-99a4-c995ffc817e5\">\n",
              "    <div class=\"colab-df-container\">\n",
              "      <div>\n",
              "<style scoped>\n",
              "    .dataframe tbody tr th:only-of-type {\n",
              "        vertical-align: middle;\n",
              "    }\n",
              "\n",
              "    .dataframe tbody tr th {\n",
              "        vertical-align: top;\n",
              "    }\n",
              "\n",
              "    .dataframe thead th {\n",
              "        text-align: right;\n",
              "    }\n",
              "</style>\n",
              "<table border=\"1\" class=\"dataframe\">\n",
              "  <thead>\n",
              "    <tr style=\"text-align: right;\">\n",
              "      <th></th>\n",
              "      <th>date</th>\n",
              "      <th>group</th>\n",
              "      <th>visitors</th>\n",
              "    </tr>\n",
              "  </thead>\n",
              "  <tbody>\n",
              "    <tr>\n",
              "      <th>0</th>\n",
              "      <td>2019-08-01</td>\n",
              "      <td>A</td>\n",
              "      <td>719</td>\n",
              "    </tr>\n",
              "    <tr>\n",
              "      <th>1</th>\n",
              "      <td>2019-08-02</td>\n",
              "      <td>A</td>\n",
              "      <td>619</td>\n",
              "    </tr>\n",
              "    <tr>\n",
              "      <th>2</th>\n",
              "      <td>2019-08-03</td>\n",
              "      <td>A</td>\n",
              "      <td>507</td>\n",
              "    </tr>\n",
              "    <tr>\n",
              "      <th>3</th>\n",
              "      <td>2019-08-04</td>\n",
              "      <td>A</td>\n",
              "      <td>717</td>\n",
              "    </tr>\n",
              "    <tr>\n",
              "      <th>4</th>\n",
              "      <td>2019-08-05</td>\n",
              "      <td>A</td>\n",
              "      <td>756</td>\n",
              "    </tr>\n",
              "    <tr>\n",
              "      <th>5</th>\n",
              "      <td>2019-08-06</td>\n",
              "      <td>A</td>\n",
              "      <td>667</td>\n",
              "    </tr>\n",
              "    <tr>\n",
              "      <th>6</th>\n",
              "      <td>2019-08-07</td>\n",
              "      <td>A</td>\n",
              "      <td>644</td>\n",
              "    </tr>\n",
              "    <tr>\n",
              "      <th>7</th>\n",
              "      <td>2019-08-08</td>\n",
              "      <td>A</td>\n",
              "      <td>610</td>\n",
              "    </tr>\n",
              "    <tr>\n",
              "      <th>8</th>\n",
              "      <td>2019-08-09</td>\n",
              "      <td>A</td>\n",
              "      <td>617</td>\n",
              "    </tr>\n",
              "    <tr>\n",
              "      <th>9</th>\n",
              "      <td>2019-08-10</td>\n",
              "      <td>A</td>\n",
              "      <td>406</td>\n",
              "    </tr>\n",
              "  </tbody>\n",
              "</table>\n",
              "</div>\n",
              "      <button class=\"colab-df-convert\" onclick=\"convertToInteractive('df-6e818af0-205f-4730-99a4-c995ffc817e5')\"\n",
              "              title=\"Convert this dataframe to an interactive table.\"\n",
              "              style=\"display:none;\">\n",
              "        \n",
              "  <svg xmlns=\"http://www.w3.org/2000/svg\" height=\"24px\"viewBox=\"0 0 24 24\"\n",
              "       width=\"24px\">\n",
              "    <path d=\"M0 0h24v24H0V0z\" fill=\"none\"/>\n",
              "    <path d=\"M18.56 5.44l.94 2.06.94-2.06 2.06-.94-2.06-.94-.94-2.06-.94 2.06-2.06.94zm-11 1L8.5 8.5l.94-2.06 2.06-.94-2.06-.94L8.5 2.5l-.94 2.06-2.06.94zm10 10l.94 2.06.94-2.06 2.06-.94-2.06-.94-.94-2.06-.94 2.06-2.06.94z\"/><path d=\"M17.41 7.96l-1.37-1.37c-.4-.4-.92-.59-1.43-.59-.52 0-1.04.2-1.43.59L10.3 9.45l-7.72 7.72c-.78.78-.78 2.05 0 2.83L4 21.41c.39.39.9.59 1.41.59.51 0 1.02-.2 1.41-.59l7.78-7.78 2.81-2.81c.8-.78.8-2.07 0-2.86zM5.41 20L4 18.59l7.72-7.72 1.47 1.35L5.41 20z\"/>\n",
              "  </svg>\n",
              "      </button>\n",
              "      \n",
              "  <style>\n",
              "    .colab-df-container {\n",
              "      display:flex;\n",
              "      flex-wrap:wrap;\n",
              "      gap: 12px;\n",
              "    }\n",
              "\n",
              "    .colab-df-convert {\n",
              "      background-color: #E8F0FE;\n",
              "      border: none;\n",
              "      border-radius: 50%;\n",
              "      cursor: pointer;\n",
              "      display: none;\n",
              "      fill: #1967D2;\n",
              "      height: 32px;\n",
              "      padding: 0 0 0 0;\n",
              "      width: 32px;\n",
              "    }\n",
              "\n",
              "    .colab-df-convert:hover {\n",
              "      background-color: #E2EBFA;\n",
              "      box-shadow: 0px 1px 2px rgba(60, 64, 67, 0.3), 0px 1px 3px 1px rgba(60, 64, 67, 0.15);\n",
              "      fill: #174EA6;\n",
              "    }\n",
              "\n",
              "    [theme=dark] .colab-df-convert {\n",
              "      background-color: #3B4455;\n",
              "      fill: #D2E3FC;\n",
              "    }\n",
              "\n",
              "    [theme=dark] .colab-df-convert:hover {\n",
              "      background-color: #434B5C;\n",
              "      box-shadow: 0px 1px 3px 1px rgba(0, 0, 0, 0.15);\n",
              "      filter: drop-shadow(0px 1px 2px rgba(0, 0, 0, 0.3));\n",
              "      fill: #FFFFFF;\n",
              "    }\n",
              "  </style>\n",
              "\n",
              "      <script>\n",
              "        const buttonEl =\n",
              "          document.querySelector('#df-6e818af0-205f-4730-99a4-c995ffc817e5 button.colab-df-convert');\n",
              "        buttonEl.style.display =\n",
              "          google.colab.kernel.accessAllowed ? 'block' : 'none';\n",
              "\n",
              "        async function convertToInteractive(key) {\n",
              "          const element = document.querySelector('#df-6e818af0-205f-4730-99a4-c995ffc817e5');\n",
              "          const dataTable =\n",
              "            await google.colab.kernel.invokeFunction('convertToInteractive',\n",
              "                                                     [key], {});\n",
              "          if (!dataTable) return;\n",
              "\n",
              "          const docLinkHtml = 'Like what you see? Visit the ' +\n",
              "            '<a target=\"_blank\" href=https://colab.research.google.com/notebooks/data_table.ipynb>data table notebook</a>'\n",
              "            + ' to learn more about interactive tables.';\n",
              "          element.innerHTML = '';\n",
              "          dataTable['output_type'] = 'display_data';\n",
              "          await google.colab.output.renderOutput(dataTable, element);\n",
              "          const docLink = document.createElement('div');\n",
              "          docLink.innerHTML = docLinkHtml;\n",
              "          element.appendChild(docLink);\n",
              "        }\n",
              "      </script>\n",
              "    </div>\n",
              "  </div>\n",
              "  "
            ]
          },
          "metadata": {},
          "execution_count": 13
        }
      ],
      "source": [
        "visitors.head(10)"
      ]
    },
    {
      "cell_type": "markdown",
      "metadata": {
        "id": "59kOJapARpWz"
      },
      "source": [
        "**Data Description**<br/>\n",
        "*orders*<br/>\n",
        "transactionId — order identifier;<br/>\n",
        "visitorId — identifier of the user who made the order;<br/>\n",
        "date — the date when the order was made;<br/>\n",
        "revenue — order revenue;<br/>\n",
        "group — the A/B test group the order is in.<br/>\n",
        "<br/>\n",
        "*visitors*<br/>\n",
        "date — date;<br/>\n",
        "group — A/B test group;<br/>\n",
        "visitors — number of users on the specified date in the specified A/B test group<br/>"
      ]
    },
    {
      "cell_type": "code",
      "execution_count": 14,
      "metadata": {
        "colab": {
          "base_uri": "https://localhost:8080/"
        },
        "id": "IS55z_4QRpWz",
        "outputId": "d84ce5ca-5bf7-4f95-ed7f-3b7f6df3b196"
      },
      "outputs": [
        {
          "output_type": "stream",
          "name": "stdout",
          "text": [
            "<class 'pandas.core.frame.DataFrame'>\n",
            "RangeIndex: 62 entries, 0 to 61\n",
            "Data columns (total 3 columns):\n",
            " #   Column    Non-Null Count  Dtype \n",
            "---  ------    --------------  ----- \n",
            " 0   date      62 non-null     object\n",
            " 1   group     62 non-null     object\n",
            " 2   visitors  62 non-null     int64 \n",
            "dtypes: int64(1), object(2)\n",
            "memory usage: 1.6+ KB\n",
            "None\n",
            "<class 'pandas.core.frame.DataFrame'>\n",
            "RangeIndex: 1197 entries, 0 to 1196\n",
            "Data columns (total 5 columns):\n",
            " #   Column         Non-Null Count  Dtype \n",
            "---  ------         --------------  ----- \n",
            " 0   transactionId  1197 non-null   int64 \n",
            " 1   visitorId      1197 non-null   int64 \n",
            " 2   date           1197 non-null   object\n",
            " 3   revenue        1197 non-null   int64 \n",
            " 4   group          1197 non-null   object\n",
            "dtypes: int64(3), object(2)\n",
            "memory usage: 46.9+ KB\n",
            "None\n"
          ]
        }
      ],
      "source": [
        "print(visitors.info()),\n",
        "print(orders.info())"
      ]
    },
    {
      "cell_type": "markdown",
      "metadata": {
        "id": "zmzJ4jhcRpW0"
      },
      "source": [
        "*from preprocessing: we need to rename columns and change data types. It can be seen that the dataframes do not contain gaps, we will also check them for duplicates:*"
      ]
    },
    {
      "cell_type": "code",
      "execution_count": 15,
      "metadata": {
        "id": "9TEgy6MwRpW0"
      },
      "outputs": [],
      "source": [
        "orders.columns= ['transaction_id', 'visitor_id', 'date', 'revenue', 'group']"
      ]
    },
    {
      "cell_type": "code",
      "execution_count": 16,
      "metadata": {
        "colab": {
          "base_uri": "https://localhost:8080/",
          "height": 112
        },
        "id": "MJmfDpdQRpW0",
        "outputId": "b441144e-86a9-46dd-b823-6ecb719e6dd5"
      },
      "outputs": [
        {
          "output_type": "execute_result",
          "data": {
            "text/plain": [
              "   transaction_id  visitor_id        date  revenue group\n",
              "0      3667963787  3312258926  2019-08-15     1650     B\n",
              "1      2804400009  3642806036  2019-08-15      730     B"
            ],
            "text/html": [
              "\n",
              "  <div id=\"df-6d964c33-751f-40c0-8355-e3d5dcbb631a\">\n",
              "    <div class=\"colab-df-container\">\n",
              "      <div>\n",
              "<style scoped>\n",
              "    .dataframe tbody tr th:only-of-type {\n",
              "        vertical-align: middle;\n",
              "    }\n",
              "\n",
              "    .dataframe tbody tr th {\n",
              "        vertical-align: top;\n",
              "    }\n",
              "\n",
              "    .dataframe thead th {\n",
              "        text-align: right;\n",
              "    }\n",
              "</style>\n",
              "<table border=\"1\" class=\"dataframe\">\n",
              "  <thead>\n",
              "    <tr style=\"text-align: right;\">\n",
              "      <th></th>\n",
              "      <th>transaction_id</th>\n",
              "      <th>visitor_id</th>\n",
              "      <th>date</th>\n",
              "      <th>revenue</th>\n",
              "      <th>group</th>\n",
              "    </tr>\n",
              "  </thead>\n",
              "  <tbody>\n",
              "    <tr>\n",
              "      <th>0</th>\n",
              "      <td>3667963787</td>\n",
              "      <td>3312258926</td>\n",
              "      <td>2019-08-15</td>\n",
              "      <td>1650</td>\n",
              "      <td>B</td>\n",
              "    </tr>\n",
              "    <tr>\n",
              "      <th>1</th>\n",
              "      <td>2804400009</td>\n",
              "      <td>3642806036</td>\n",
              "      <td>2019-08-15</td>\n",
              "      <td>730</td>\n",
              "      <td>B</td>\n",
              "    </tr>\n",
              "  </tbody>\n",
              "</table>\n",
              "</div>\n",
              "      <button class=\"colab-df-convert\" onclick=\"convertToInteractive('df-6d964c33-751f-40c0-8355-e3d5dcbb631a')\"\n",
              "              title=\"Convert this dataframe to an interactive table.\"\n",
              "              style=\"display:none;\">\n",
              "        \n",
              "  <svg xmlns=\"http://www.w3.org/2000/svg\" height=\"24px\"viewBox=\"0 0 24 24\"\n",
              "       width=\"24px\">\n",
              "    <path d=\"M0 0h24v24H0V0z\" fill=\"none\"/>\n",
              "    <path d=\"M18.56 5.44l.94 2.06.94-2.06 2.06-.94-2.06-.94-.94-2.06-.94 2.06-2.06.94zm-11 1L8.5 8.5l.94-2.06 2.06-.94-2.06-.94L8.5 2.5l-.94 2.06-2.06.94zm10 10l.94 2.06.94-2.06 2.06-.94-2.06-.94-.94-2.06-.94 2.06-2.06.94z\"/><path d=\"M17.41 7.96l-1.37-1.37c-.4-.4-.92-.59-1.43-.59-.52 0-1.04.2-1.43.59L10.3 9.45l-7.72 7.72c-.78.78-.78 2.05 0 2.83L4 21.41c.39.39.9.59 1.41.59.51 0 1.02-.2 1.41-.59l7.78-7.78 2.81-2.81c.8-.78.8-2.07 0-2.86zM5.41 20L4 18.59l7.72-7.72 1.47 1.35L5.41 20z\"/>\n",
              "  </svg>\n",
              "      </button>\n",
              "      \n",
              "  <style>\n",
              "    .colab-df-container {\n",
              "      display:flex;\n",
              "      flex-wrap:wrap;\n",
              "      gap: 12px;\n",
              "    }\n",
              "\n",
              "    .colab-df-convert {\n",
              "      background-color: #E8F0FE;\n",
              "      border: none;\n",
              "      border-radius: 50%;\n",
              "      cursor: pointer;\n",
              "      display: none;\n",
              "      fill: #1967D2;\n",
              "      height: 32px;\n",
              "      padding: 0 0 0 0;\n",
              "      width: 32px;\n",
              "    }\n",
              "\n",
              "    .colab-df-convert:hover {\n",
              "      background-color: #E2EBFA;\n",
              "      box-shadow: 0px 1px 2px rgba(60, 64, 67, 0.3), 0px 1px 3px 1px rgba(60, 64, 67, 0.15);\n",
              "      fill: #174EA6;\n",
              "    }\n",
              "\n",
              "    [theme=dark] .colab-df-convert {\n",
              "      background-color: #3B4455;\n",
              "      fill: #D2E3FC;\n",
              "    }\n",
              "\n",
              "    [theme=dark] .colab-df-convert:hover {\n",
              "      background-color: #434B5C;\n",
              "      box-shadow: 0px 1px 3px 1px rgba(0, 0, 0, 0.15);\n",
              "      filter: drop-shadow(0px 1px 2px rgba(0, 0, 0, 0.3));\n",
              "      fill: #FFFFFF;\n",
              "    }\n",
              "  </style>\n",
              "\n",
              "      <script>\n",
              "        const buttonEl =\n",
              "          document.querySelector('#df-6d964c33-751f-40c0-8355-e3d5dcbb631a button.colab-df-convert');\n",
              "        buttonEl.style.display =\n",
              "          google.colab.kernel.accessAllowed ? 'block' : 'none';\n",
              "\n",
              "        async function convertToInteractive(key) {\n",
              "          const element = document.querySelector('#df-6d964c33-751f-40c0-8355-e3d5dcbb631a');\n",
              "          const dataTable =\n",
              "            await google.colab.kernel.invokeFunction('convertToInteractive',\n",
              "                                                     [key], {});\n",
              "          if (!dataTable) return;\n",
              "\n",
              "          const docLinkHtml = 'Like what you see? Visit the ' +\n",
              "            '<a target=\"_blank\" href=https://colab.research.google.com/notebooks/data_table.ipynb>data table notebook</a>'\n",
              "            + ' to learn more about interactive tables.';\n",
              "          element.innerHTML = '';\n",
              "          dataTable['output_type'] = 'display_data';\n",
              "          await google.colab.output.renderOutput(dataTable, element);\n",
              "          const docLink = document.createElement('div');\n",
              "          docLink.innerHTML = docLinkHtml;\n",
              "          element.appendChild(docLink);\n",
              "        }\n",
              "      </script>\n",
              "    </div>\n",
              "  </div>\n",
              "  "
            ]
          },
          "metadata": {},
          "execution_count": 16
        }
      ],
      "source": [
        "orders.head(2)"
      ]
    },
    {
      "cell_type": "markdown",
      "metadata": {
        "id": "bf_1AjWFRpW0"
      },
      "source": [
        "*Let's cast data columns to datetime type* "
      ]
    },
    {
      "cell_type": "code",
      "execution_count": 17,
      "metadata": {
        "id": "-V9PvSqORpW1"
      },
      "outputs": [],
      "source": [
        "visitors['date'] = visitors['date'].map(\n",
        "    lambda x: dt.datetime.strptime(x, '%Y-%m-%d'))\n",
        " \n",
        "orders['date'] = orders['date'].map(\n",
        "    lambda x: dt.datetime.strptime(x, '%Y-%m-%d'))\n",
        " \n",
        "    "
      ]
    },
    {
      "cell_type": "code",
      "execution_count": 18,
      "metadata": {
        "colab": {
          "base_uri": "https://localhost:8080/"
        },
        "id": "f60047dlRpW1",
        "outputId": "2c3ac154-2b2c-44f8-965a-dae973e355c2"
      },
      "outputs": [
        {
          "output_type": "stream",
          "name": "stdout",
          "text": [
            "<class 'pandas.core.frame.DataFrame'>\n",
            "RangeIndex: 62 entries, 0 to 61\n",
            "Data columns (total 3 columns):\n",
            " #   Column    Non-Null Count  Dtype         \n",
            "---  ------    --------------  -----         \n",
            " 0   date      62 non-null     datetime64[ns]\n",
            " 1   group     62 non-null     object        \n",
            " 2   visitors  62 non-null     int64         \n",
            "dtypes: datetime64[ns](1), int64(1), object(1)\n",
            "memory usage: 1.6+ KB\n",
            "None\n",
            "<class 'pandas.core.frame.DataFrame'>\n",
            "RangeIndex: 1197 entries, 0 to 1196\n",
            "Data columns (total 5 columns):\n",
            " #   Column          Non-Null Count  Dtype         \n",
            "---  ------          --------------  -----         \n",
            " 0   transaction_id  1197 non-null   int64         \n",
            " 1   visitor_id      1197 non-null   int64         \n",
            " 2   date            1197 non-null   datetime64[ns]\n",
            " 3   revenue         1197 non-null   int64         \n",
            " 4   group           1197 non-null   object        \n",
            "dtypes: datetime64[ns](1), int64(3), object(1)\n",
            "memory usage: 46.9+ KB\n",
            "None\n"
          ]
        }
      ],
      "source": [
        "print(visitors.info()),\n",
        "print(orders.info())"
      ]
    },
    {
      "cell_type": "code",
      "execution_count": 19,
      "metadata": {
        "colab": {
          "base_uri": "https://localhost:8080/"
        },
        "id": "6VpOK4z1RpW1",
        "outputId": "d675963f-def2-42cf-bea2-db9789da9087"
      },
      "outputs": [
        {
          "output_type": "stream",
          "name": "stdout",
          "text": [
            "Number of duplicates in visitors 0.0\n",
            "Number of duplicates in orders 0.0\n"
          ]
        }
      ],
      "source": [
        "print('Number of duplicates in visitors {}'.format(visitors.duplicated().mean())),\n",
        "print ('Number of duplicates in orders {}'.format(orders.duplicated().mean()));"
      ]
    },
    {
      "cell_type": "markdown",
      "metadata": {
        "id": "rk8aAhRCRpW2"
      },
      "source": [
        "*Let's get the test period*"
      ]
    },
    {
      "cell_type": "code",
      "execution_count": 20,
      "metadata": {
        "colab": {
          "base_uri": "https://localhost:8080/"
        },
        "id": "_6C6AYfdRpW2",
        "outputId": "cf4637b3-7beb-44ea-8a80-3da9cd62813e"
      },
      "outputs": [
        {
          "output_type": "stream",
          "name": "stdout",
          "text": [
            "A/B test started at 2019-08-01 00:00:00\n",
            "A/B test finished at 2019-08-31 00:00:00\n",
            "A/B test lasts 30 days 00:00:00\n"
          ]
        }
      ],
      "source": [
        "print('A/B test started at {}'.format(visitors['date'].min())),\n",
        "print('A/B test finished at {}'.format(visitors['date'].max())),\n",
        "print('A/B test lasts {}'.format(visitors['date'].max() - visitors['date'].min()))"
      ]
    },
    {
      "cell_type": "markdown",
      "metadata": {
        "id": "DtMThAylRpW2"
      },
      "source": [
        "**No duplicates found, dates adjusted: pre-processing completed, let's start calculations**"
      ]
    },
    {
      "cell_type": "markdown",
      "metadata": {
        "id": "DcUJoYRMRpW3"
      },
      "source": [
        "### Calculation of cumulative revenue"
      ]
    },
    {
      "cell_type": "markdown",
      "metadata": {
        "id": "_Gy9Lc5kRpW3"
      },
      "source": [
        "1. Let's create a dates_groups dataframe with unique value pairs 'date' and 'group', of the orders table. Get rid of duplicates with the drop_duplicates() method.\n",
        "2. Let's declare the orders_aggregated variable containing:\n",
        "date;\n",
        "A/B test group;\n",
        "the number of unique orders in the test group up to and including the specified date;\n",
        "the number of unique users who made at least 1 order in the test group up to and including the specified date;\n",
        "the total revenue of orders in the test group up to and including the specified date.\n",
        "3. Let's declare a variable visitors_aggregated containing:\n",
        "date;\n",
        "A/B test group;\n",
        "the number of unique visitors in the test group up to and including the specified date."
      ]
    },
    {
      "cell_type": "code",
      "execution_count": 21,
      "metadata": {
        "id": "JMn-MbuERpW3"
      },
      "outputs": [],
      "source": [
        "dates_groups = orders[['date', 'group']].drop_duplicates()\n",
        "\n",
        "orders_aggregated = dates_groups.apply(\n",
        "    lambda x: orders[\n",
        "        np.logical_and(\n",
        "            orders['date'] <= x['date'], orders['group'] == x['group']\n",
        "        )\n",
        "    ].agg(\n",
        "        {\n",
        "            'date': 'max',\n",
        "            'group': 'max',\n",
        "            'transaction_id': 'nunique',\n",
        "            'visitor_id': 'nunique',\n",
        "            'revenue': 'sum',\n",
        "        }\n",
        "    ),\n",
        "    axis=1,\n",
        ").sort_values(by=['date', 'group'])\n",
        "\n",
        "visitors_aggregated = dates_groups.apply(\n",
        "    lambda x: visitors[\n",
        "        np.logical_and(\n",
        "            visitors['date'] <= x['date'], visitors['group'] == x['group']\n",
        "        )\n",
        "    ].agg({'date': 'max', 'group': 'max', 'visitors': 'sum'}),\n",
        "    axis=1,\n",
        ").sort_values(by=['date', 'group'])\n"
      ]
    },
    {
      "cell_type": "markdown",
      "metadata": {
        "id": "6cqEnp9bRpW4"
      },
      "source": [
        "4. Let's define the cumulative_data variable by combining orders_aggregated and visitors_aggregated by 'date', 'group' columns using the merge() method\n",
        "5. Let's declare the variables cumulative_revenue_a and cumulative_revenue_b, in which we will save data on dates, revenue and the number of orders in groups A and B."
      ]
    },
    {
      "cell_type": "code",
      "execution_count": 22,
      "metadata": {
        "id": "E9OoVj6FRpW4"
      },
      "outputs": [],
      "source": [
        "cumulative_data = orders_aggregated.merge(\n",
        "    visitors_aggregated, left_on=['date', 'group'], right_on=['date', 'group']\n",
        ")\n",
        "cumulative_data.columns = [\n",
        "    'date',\n",
        "    'group',\n",
        "    'orders',\n",
        "    'buyers',\n",
        "    'revenue',\n",
        "    'visitors',\n",
        "]\n",
        "cumulative_revenue_a = cumulative_data [cumulative_data['group'] == 'A'][['date','revenue', 'orders']]\n",
        "cumulative_revenue_b = cumulative_data [cumulative_data['group'] == 'B'][['date','revenue', 'orders']]"
      ]
    },
    {
      "cell_type": "markdown",
      "metadata": {
        "id": "VIE7BcqaRpW4"
      },
      "source": [
        "*Let's plot a graph of cumulative revenue by groups*"
      ]
    },
    {
      "cell_type": "code",
      "execution_count": 23,
      "metadata": {
        "colab": {
          "base_uri": "https://localhost:8080/",
          "height": 333
        },
        "id": "hxF3pIVjRpW4",
        "outputId": "27a44f73-6f8e-4232-ddfd-b0f08694dcd5"
      },
      "outputs": [
        {
          "output_type": "execute_result",
          "data": {
            "text/plain": [
              "''"
            ],
            "application/vnd.google.colaboratory.intrinsic+json": {
              "type": "string"
            }
          },
          "metadata": {},
          "execution_count": 23
        },
        {
          "output_type": "display_data",
          "data": {
            "text/plain": [
              "<Figure size 2520x864 with 1 Axes>"
            ],
            "image/png": "[encoded data removed]"
          },
          "metadata": {
            "needs_background": "light"
          }
        }
      ],
      "source": [
        "\n",
        "fig = plt.figure()\n",
        "fig.set_figwidth(35)\n",
        "fig.set_figheight(12)\n",
        "ax = fig.add_subplot(1, 1, 1)\n",
        "# plotting group A\n",
        "plt.plot(cumulative_revenue_a['date'], cumulative_revenue_a['revenue'], label='A')\n",
        " \n",
        "# plotting group B\n",
        "plt.plot(cumulative_revenue_b['date'], cumulative_revenue_b['revenue'], label='B')\n",
        "\n",
        "plt.legend() \n",
        "plt.xlabel('date', fontsize = 22, color = 'Black')\n",
        "plt.ylabel('revenue', fontsize = 22, color = 'Black')\n",
        "plt.title('Cumulative revenue by groups',fontsize = 22, color = 'Black')\n",
        ";\n"
      ]
    },
    {
      "cell_type": "markdown",
      "metadata": {
        "id": "7TrR-sUyRpW4"
      },
      "source": [
        "<div style=\"border:solid green 2px; padding: 20px\">\n",
        "    \n",
        "**Conclusions:**\n",
        "<br/>\n",
        "The graphs clearly show a sharp increase in revenue in the tested group in the 20th of August, after August 21, the graph gradually grows upwards, as in the case of group A, however, group B significantly outperforms group A by the end of the test in terms of accumulated revenue.      "
      ]
    },
    {
      "cell_type": "markdown",
      "metadata": {
        "id": "2oZPOYZSRpW5"
      },
      "source": [
        "### Calculation of the cumulative average bill for groups."
      ]
    },
    {
      "cell_type": "markdown",
      "metadata": {
        "id": "WmACLhvxRpW5"
      },
      "source": [
        "*Let's plot a graph of the cumulative average bill by groups.* "
      ]
    },
    {
      "cell_type": "code",
      "execution_count": 62,
      "metadata": {
        "colab": {
          "base_uri": "https://localhost:8080/",
          "height": 329
        },
        "id": "SZL006seRpW5",
        "outputId": "7f355650-f197-4cf8-a2b1-52bc43ef69cd"
      },
      "outputs": [
        {
          "output_type": "execute_result",
          "data": {
            "text/plain": [
              "''"
            ],
            "application/vnd.google.colaboratory.intrinsic+json": {
              "type": "string"
            }
          },
          "metadata": {},
          "execution_count": 62
        },
        {
          "output_type": "display_data",
          "data": {
            "text/plain": [
              "<Figure size 2520x864 with 1 Axes>"
            ],
            "image/png": "[encoded data removed]"
          },
          "metadata": {
            "needs_background": "light"
          }
        }
      ],
      "source": [
        "fig = plt.figure()\n",
        "fig.set_figwidth(35)\n",
        "fig.set_figheight(12)\n",
        "ax = fig.add_subplot(1, 1, 1)\n",
        "plt.plot(cumulative_revenue_a['date'], cumulative_revenue_a['revenue']/cumulative_revenue_a['orders'], label='A')\n",
        "plt.plot(cumulative_revenue_b['date'], cumulative_revenue_b['revenue']/cumulative_revenue_b['orders'], label='B')\n",
        "plt.xlabel('date', fontsize = 22, color = 'Black')\n",
        "plt.ylabel('average bill', fontsize = 22, color = 'Black')\n",
        "plt.title('Cumulative average bill by groups',fontsize = 22, color = 'Black')\n",
        ";"
      ]
    },
    {
      "cell_type": "markdown",
      "metadata": {
        "id": "lUM3ERd-RpW5"
      },
      "source": [
        "<div style=\"border:solid green 2px; padding: 20px\">\n",
        "    \n",
        "**Conclusions:**\n",
        "<br/>\n",
        "According to the graph of average bill accumulation, near August 19-20, an abnormally large jump in group B is visible, and it is by this value that one group differs from another likely, if we clear this anomaly, then we will not see differences in the average ticket between groups.\n",
        "    "
      ]
    },
    {
      "cell_type": "markdown",
      "metadata": {
        "id": "UcRUP1UhRpW5"
      },
      "source": [
        "### Расчет относительного изменения кумулятивного среднего чека"
      ]
    },
    {
      "cell_type": "markdown",
      "metadata": {
        "id": "sAtUSGWDRpW6"
      },
      "source": [
        "*Построим график относительного изменения кумулятивного среднего чека*"
      ]
    },
    {
      "cell_type": "markdown",
      "metadata": {
        "id": "q71qBtQ-RpW6"
      },
      "source": [
        "1.Объеденим таблицы cumulative_revenue_a и cumulative_revenue_b"
      ]
    },
    {
      "cell_type": "code",
      "execution_count": 25,
      "metadata": {
        "id": "t5X_MkArRpW6"
      },
      "outputs": [],
      "source": [
        "merged_cumulative_revenue = cumulative_revenue_a[['date','revenue', 'orders']].merge(cumulative_revenue_b[['date','revenue', 'orders']], left_on='date', right_on='date', how='left', suffixes=['_a', '_b'])"
      ]
    },
    {
      "cell_type": "code",
      "execution_count": 26,
      "metadata": {
        "colab": {
          "base_uri": "https://localhost:8080/",
          "height": 0
        },
        "id": "KWHVWzLVRpW6",
        "outputId": "25928060-3c64-4527-a874-b72d2a37349d"
      },
      "outputs": [
        {
          "output_type": "execute_result",
          "data": {
            "text/plain": [
              "        date  revenue_a  orders_a  revenue_b  orders_b\n",
              "0 2019-08-01     148579        24     101217        21\n",
              "1 2019-08-02     242401        44     266748        45\n",
              "2 2019-08-03     354874        68     380996        61\n",
              "3 2019-08-04     425699        84     489567        78\n",
              "4 2019-08-05     549917       109     581995       101"
            ],
            "text/html": [
              "\n",
              "  <div id=\"df-dc20d160-626f-448b-8fbf-9e60cb7db13e\">\n",
              "    <div class=\"colab-df-container\">\n",
              "      <div>\n",
              "<style scoped>\n",
              "    .dataframe tbody tr th:only-of-type {\n",
              "        vertical-align: middle;\n",
              "    }\n",
              "\n",
              "    .dataframe tbody tr th {\n",
              "        vertical-align: top;\n",
              "    }\n",
              "\n",
              "    .dataframe thead th {\n",
              "        text-align: right;\n",
              "    }\n",
              "</style>\n",
              "<table border=\"1\" class=\"dataframe\">\n",
              "  <thead>\n",
              "    <tr style=\"text-align: right;\">\n",
              "      <th></th>\n",
              "      <th>date</th>\n",
              "      <th>revenue_a</th>\n",
              "      <th>orders_a</th>\n",
              "      <th>revenue_b</th>\n",
              "      <th>orders_b</th>\n",
              "    </tr>\n",
              "  </thead>\n",
              "  <tbody>\n",
              "    <tr>\n",
              "      <th>0</th>\n",
              "      <td>2019-08-01</td>\n",
              "      <td>148579</td>\n",
              "      <td>24</td>\n",
              "      <td>101217</td>\n",
              "      <td>21</td>\n",
              "    </tr>\n",
              "    <tr>\n",
              "      <th>1</th>\n",
              "      <td>2019-08-02</td>\n",
              "      <td>242401</td>\n",
              "      <td>44</td>\n",
              "      <td>266748</td>\n",
              "      <td>45</td>\n",
              "    </tr>\n",
              "    <tr>\n",
              "      <th>2</th>\n",
              "      <td>2019-08-03</td>\n",
              "      <td>354874</td>\n",
              "      <td>68</td>\n",
              "      <td>380996</td>\n",
              "      <td>61</td>\n",
              "    </tr>\n",
              "    <tr>\n",
              "      <th>3</th>\n",
              "      <td>2019-08-04</td>\n",
              "      <td>425699</td>\n",
              "      <td>84</td>\n",
              "      <td>489567</td>\n",
              "      <td>78</td>\n",
              "    </tr>\n",
              "    <tr>\n",
              "      <th>4</th>\n",
              "      <td>2019-08-05</td>\n",
              "      <td>549917</td>\n",
              "      <td>109</td>\n",
              "      <td>581995</td>\n",
              "      <td>101</td>\n",
              "    </tr>\n",
              "  </tbody>\n",
              "</table>\n",
              "</div>\n",
              "      <button class=\"colab-df-convert\" onclick=\"convertToInteractive('df-dc20d160-626f-448b-8fbf-9e60cb7db13e')\"\n",
              "              title=\"Convert this dataframe to an interactive table.\"\n",
              "              style=\"display:none;\">\n",
              "        \n",
              "  <svg xmlns=\"http://www.w3.org/2000/svg\" height=\"24px\"viewBox=\"0 0 24 24\"\n",
              "       width=\"24px\">\n",
              "    <path d=\"M0 0h24v24H0V0z\" fill=\"none\"/>\n",
              "    <path d=\"M18.56 5.44l.94 2.06.94-2.06 2.06-.94-2.06-.94-.94-2.06-.94 2.06-2.06.94zm-11 1L8.5 8.5l.94-2.06 2.06-.94-2.06-.94L8.5 2.5l-.94 2.06-2.06.94zm10 10l.94 2.06.94-2.06 2.06-.94-2.06-.94-.94-2.06-.94 2.06-2.06.94z\"/><path d=\"M17.41 7.96l-1.37-1.37c-.4-.4-.92-.59-1.43-.59-.52 0-1.04.2-1.43.59L10.3 9.45l-7.72 7.72c-.78.78-.78 2.05 0 2.83L4 21.41c.39.39.9.59 1.41.59.51 0 1.02-.2 1.41-.59l7.78-7.78 2.81-2.81c.8-.78.8-2.07 0-2.86zM5.41 20L4 18.59l7.72-7.72 1.47 1.35L5.41 20z\"/>\n",
              "  </svg>\n",
              "      </button>\n",
              "      \n",
              "  <style>\n",
              "    .colab-df-container {\n",
              "      display:flex;\n",
              "      flex-wrap:wrap;\n",
              "      gap: 12px;\n",
              "    }\n",
              "\n",
              "    .colab-df-convert {\n",
              "      background-color: #E8F0FE;\n",
              "      border: none;\n",
              "      border-radius: 50%;\n",
              "      cursor: pointer;\n",
              "      display: none;\n",
              "      fill: #1967D2;\n",
              "      height: 32px;\n",
              "      padding: 0 0 0 0;\n",
              "      width: 32px;\n",
              "    }\n",
              "\n",
              "    .colab-df-convert:hover {\n",
              "      background-color: #E2EBFA;\n",
              "      box-shadow: 0px 1px 2px rgba(60, 64, 67, 0.3), 0px 1px 3px 1px rgba(60, 64, 67, 0.15);\n",
              "      fill: #174EA6;\n",
              "    }\n",
              "\n",
              "    [theme=dark] .colab-df-convert {\n",
              "      background-color: #3B4455;\n",
              "      fill: #D2E3FC;\n",
              "    }\n",
              "\n",
              "    [theme=dark] .colab-df-convert:hover {\n",
              "      background-color: #434B5C;\n",
              "      box-shadow: 0px 1px 3px 1px rgba(0, 0, 0, 0.15);\n",
              "      filter: drop-shadow(0px 1px 2px rgba(0, 0, 0, 0.3));\n",
              "      fill: #FFFFFF;\n",
              "    }\n",
              "  </style>\n",
              "\n",
              "      <script>\n",
              "        const buttonEl =\n",
              "          document.querySelector('#df-dc20d160-626f-448b-8fbf-9e60cb7db13e button.colab-df-convert');\n",
              "        buttonEl.style.display =\n",
              "          google.colab.kernel.accessAllowed ? 'block' : 'none';\n",
              "\n",
              "        async function convertToInteractive(key) {\n",
              "          const element = document.querySelector('#df-dc20d160-626f-448b-8fbf-9e60cb7db13e');\n",
              "          const dataTable =\n",
              "            await google.colab.kernel.invokeFunction('convertToInteractive',\n",
              "                                                     [key], {});\n",
              "          if (!dataTable) return;\n",
              "\n",
              "          const docLinkHtml = 'Like what you see? Visit the ' +\n",
              "            '<a target=\"_blank\" href=https://colab.research.google.com/notebooks/data_table.ipynb>data table notebook</a>'\n",
              "            + ' to learn more about interactive tables.';\n",
              "          element.innerHTML = '';\n",
              "          dataTable['output_type'] = 'display_data';\n",
              "          await google.colab.output.renderOutput(dataTable, element);\n",
              "          const docLink = document.createElement('div');\n",
              "          docLink.innerHTML = docLinkHtml;\n",
              "          element.appendChild(docLink);\n",
              "        }\n",
              "      </script>\n",
              "    </div>\n",
              "  </div>\n",
              "  "
            ]
          },
          "metadata": {},
          "execution_count": 26
        }
      ],
      "source": [
        "merged_cumulative_revenue.head()"
      ]
    },
    {
      "cell_type": "markdown",
      "metadata": {
        "id": "Tb81X0ZfRpW6"
      },
      "source": [
        "2.Добавим столбцы сренего чека по группам"
      ]
    },
    {
      "cell_type": "code",
      "execution_count": 27,
      "metadata": {
        "id": "tBuDP7LURpW6"
      },
      "outputs": [],
      "source": [
        "merged_cumulative_revenue['avg_bill_a']= merged_cumulative_revenue['revenue_a']/merged_cumulative_revenue['orders_a']"
      ]
    },
    {
      "cell_type": "code",
      "execution_count": 28,
      "metadata": {
        "id": "u_9O-wNjRpW7"
      },
      "outputs": [],
      "source": [
        "merged_cumulative_revenue['avg_bill_b']= merged_cumulative_revenue['revenue_b']/merged_cumulative_revenue['orders_b']"
      ]
    },
    {
      "cell_type": "code",
      "execution_count": 29,
      "metadata": {
        "colab": {
          "base_uri": "https://localhost:8080/",
          "height": 0
        },
        "id": "UX6DFhvsRpW7",
        "outputId": "ee78c647-0b7e-4ab0-a6d5-ea1d367a98a4"
      },
      "outputs": [
        {
          "output_type": "execute_result",
          "data": {
            "text/plain": [
              "        date  revenue_a  orders_a  revenue_b  orders_b   avg_bill_a  \\\n",
              "0 2019-08-01     148579        24     101217        21  6190.791667   \n",
              "1 2019-08-02     242401        44     266748        45  5509.113636   \n",
              "2 2019-08-03     354874        68     380996        61  5218.735294   \n",
              "3 2019-08-04     425699        84     489567        78  5067.845238   \n",
              "4 2019-08-05     549917       109     581995       101  5045.110092   \n",
              "\n",
              "    avg_bill_b  \n",
              "0  4819.857143  \n",
              "1  5927.733333  \n",
              "2  6245.836066  \n",
              "3  6276.500000  \n",
              "4  5762.326733  "
            ],
            "text/html": [
              "\n",
              "  <div id=\"df-1fdc7603-ca50-42e6-b335-def52c1684ea\">\n",
              "    <div class=\"colab-df-container\">\n",
              "      <div>\n",
              "<style scoped>\n",
              "    .dataframe tbody tr th:only-of-type {\n",
              "        vertical-align: middle;\n",
              "    }\n",
              "\n",
              "    .dataframe tbody tr th {\n",
              "        vertical-align: top;\n",
              "    }\n",
              "\n",
              "    .dataframe thead th {\n",
              "        text-align: right;\n",
              "    }\n",
              "</style>\n",
              "<table border=\"1\" class=\"dataframe\">\n",
              "  <thead>\n",
              "    <tr style=\"text-align: right;\">\n",
              "      <th></th>\n",
              "      <th>date</th>\n",
              "      <th>revenue_a</th>\n",
              "      <th>orders_a</th>\n",
              "      <th>revenue_b</th>\n",
              "      <th>orders_b</th>\n",
              "      <th>avg_bill_a</th>\n",
              "      <th>avg_bill_b</th>\n",
              "    </tr>\n",
              "  </thead>\n",
              "  <tbody>\n",
              "    <tr>\n",
              "      <th>0</th>\n",
              "      <td>2019-08-01</td>\n",
              "      <td>148579</td>\n",
              "      <td>24</td>\n",
              "      <td>101217</td>\n",
              "      <td>21</td>\n",
              "      <td>6190.791667</td>\n",
              "      <td>4819.857143</td>\n",
              "    </tr>\n",
              "    <tr>\n",
              "      <th>1</th>\n",
              "      <td>2019-08-02</td>\n",
              "      <td>242401</td>\n",
              "      <td>44</td>\n",
              "      <td>266748</td>\n",
              "      <td>45</td>\n",
              "      <td>5509.113636</td>\n",
              "      <td>5927.733333</td>\n",
              "    </tr>\n",
              "    <tr>\n",
              "      <th>2</th>\n",
              "      <td>2019-08-03</td>\n",
              "      <td>354874</td>\n",
              "      <td>68</td>\n",
              "      <td>380996</td>\n",
              "      <td>61</td>\n",
              "      <td>5218.735294</td>\n",
              "      <td>6245.836066</td>\n",
              "    </tr>\n",
              "    <tr>\n",
              "      <th>3</th>\n",
              "      <td>2019-08-04</td>\n",
              "      <td>425699</td>\n",
              "      <td>84</td>\n",
              "      <td>489567</td>\n",
              "      <td>78</td>\n",
              "      <td>5067.845238</td>\n",
              "      <td>6276.500000</td>\n",
              "    </tr>\n",
              "    <tr>\n",
              "      <th>4</th>\n",
              "      <td>2019-08-05</td>\n",
              "      <td>549917</td>\n",
              "      <td>109</td>\n",
              "      <td>581995</td>\n",
              "      <td>101</td>\n",
              "      <td>5045.110092</td>\n",
              "      <td>5762.326733</td>\n",
              "    </tr>\n",
              "  </tbody>\n",
              "</table>\n",
              "</div>\n",
              "      <button class=\"colab-df-convert\" onclick=\"convertToInteractive('df-1fdc7603-ca50-42e6-b335-def52c1684ea')\"\n",
              "              title=\"Convert this dataframe to an interactive table.\"\n",
              "              style=\"display:none;\">\n",
              "        \n",
              "  <svg xmlns=\"http://www.w3.org/2000/svg\" height=\"24px\"viewBox=\"0 0 24 24\"\n",
              "       width=\"24px\">\n",
              "    <path d=\"M0 0h24v24H0V0z\" fill=\"none\"/>\n",
              "    <path d=\"M18.56 5.44l.94 2.06.94-2.06 2.06-.94-2.06-.94-.94-2.06-.94 2.06-2.06.94zm-11 1L8.5 8.5l.94-2.06 2.06-.94-2.06-.94L8.5 2.5l-.94 2.06-2.06.94zm10 10l.94 2.06.94-2.06 2.06-.94-2.06-.94-.94-2.06-.94 2.06-2.06.94z\"/><path d=\"M17.41 7.96l-1.37-1.37c-.4-.4-.92-.59-1.43-.59-.52 0-1.04.2-1.43.59L10.3 9.45l-7.72 7.72c-.78.78-.78 2.05 0 2.83L4 21.41c.39.39.9.59 1.41.59.51 0 1.02-.2 1.41-.59l7.78-7.78 2.81-2.81c.8-.78.8-2.07 0-2.86zM5.41 20L4 18.59l7.72-7.72 1.47 1.35L5.41 20z\"/>\n",
              "  </svg>\n",
              "      </button>\n",
              "      \n",
              "  <style>\n",
              "    .colab-df-container {\n",
              "      display:flex;\n",
              "      flex-wrap:wrap;\n",
              "      gap: 12px;\n",
              "    }\n",
              "\n",
              "    .colab-df-convert {\n",
              "      background-color: #E8F0FE;\n",
              "      border: none;\n",
              "      border-radius: 50%;\n",
              "      cursor: pointer;\n",
              "      display: none;\n",
              "      fill: #1967D2;\n",
              "      height: 32px;\n",
              "      padding: 0 0 0 0;\n",
              "      width: 32px;\n",
              "    }\n",
              "\n",
              "    .colab-df-convert:hover {\n",
              "      background-color: #E2EBFA;\n",
              "      box-shadow: 0px 1px 2px rgba(60, 64, 67, 0.3), 0px 1px 3px 1px rgba(60, 64, 67, 0.15);\n",
              "      fill: #174EA6;\n",
              "    }\n",
              "\n",
              "    [theme=dark] .colab-df-convert {\n",
              "      background-color: #3B4455;\n",
              "      fill: #D2E3FC;\n",
              "    }\n",
              "\n",
              "    [theme=dark] .colab-df-convert:hover {\n",
              "      background-color: #434B5C;\n",
              "      box-shadow: 0px 1px 3px 1px rgba(0, 0, 0, 0.15);\n",
              "      filter: drop-shadow(0px 1px 2px rgba(0, 0, 0, 0.3));\n",
              "      fill: #FFFFFF;\n",
              "    }\n",
              "  </style>\n",
              "\n",
              "      <script>\n",
              "        const buttonEl =\n",
              "          document.querySelector('#df-1fdc7603-ca50-42e6-b335-def52c1684ea button.colab-df-convert');\n",
              "        buttonEl.style.display =\n",
              "          google.colab.kernel.accessAllowed ? 'block' : 'none';\n",
              "\n",
              "        async function convertToInteractive(key) {\n",
              "          const element = document.querySelector('#df-1fdc7603-ca50-42e6-b335-def52c1684ea');\n",
              "          const dataTable =\n",
              "            await google.colab.kernel.invokeFunction('convertToInteractive',\n",
              "                                                     [key], {});\n",
              "          if (!dataTable) return;\n",
              "\n",
              "          const docLinkHtml = 'Like what you see? Visit the ' +\n",
              "            '<a target=\"_blank\" href=https://colab.research.google.com/notebooks/data_table.ipynb>data table notebook</a>'\n",
              "            + ' to learn more about interactive tables.';\n",
              "          element.innerHTML = '';\n",
              "          dataTable['output_type'] = 'display_data';\n",
              "          await google.colab.output.renderOutput(dataTable, element);\n",
              "          const docLink = document.createElement('div');\n",
              "          docLink.innerHTML = docLinkHtml;\n",
              "          element.appendChild(docLink);\n",
              "        }\n",
              "      </script>\n",
              "    </div>\n",
              "  </div>\n",
              "  "
            ]
          },
          "metadata": {},
          "execution_count": 29
        }
      ],
      "source": [
        "merged_cumulative_revenue.head()"
      ]
    },
    {
      "cell_type": "markdown",
      "metadata": {
        "id": "xiwUFUw1RpW7"
      },
      "source": [
        "3.Построим график относительного изменения среднего чека"
      ]
    },
    {
      "cell_type": "code",
      "execution_count": 30,
      "metadata": {
        "colab": {
          "base_uri": "https://localhost:8080/",
          "height": 0
        },
        "id": "DzYjWUI-RpW7",
        "outputId": "1e6a9f28-e6c0-4f52-c843-2b052dc912f7"
      },
      "outputs": [
        {
          "output_type": "display_data",
          "data": {
            "text/plain": [
              "<Figure size 2520x864 with 1 Axes>"
            ],
            "image/png": "[encoded data removed]"
          },
          "metadata": {
            "needs_background": "light"
          }
        }
      ],
      "source": [
        "fig = plt.figure()\n",
        "fig.set_figwidth(35)\n",
        "fig.set_figheight(12)\n",
        "ax = fig.add_subplot(1, 1, 1)\n",
        "plt.plot(merged_cumulative_revenue['date'], merged_cumulative_revenue['avg_bill_b']/merged_cumulative_revenue['avg_bill_a']-1, label=\"The relative increase in the average bill of group B relative to the group A\")\n",
        "plt.legend()\n",
        "plt.xlabel('date', fontsize = 22, color = 'Black')\n",
        "plt.ylabel('relative increase', fontsize = 22, color = 'Black')\n",
        "plt.axhline(y=0, color='black', linestyle='--')\n",
        "plt.title('The relative increase in the average bill of group B relative to the group A',fontsize = 22, color = 'Black');"
      ]
    },
    {
      "cell_type": "markdown",
      "metadata": {
        "id": "6NEZZ2YcRpW7"
      },
      "source": [
        "<div style=\"border:solid green 2px; padding: 20px\">\n",
        "    \n",
        "**Выводы:**\n",
        "<br/>\n",
        "График изменения среднего чека тестируемой группы, относительно контрольной опять четко фиксирует аномально высокий чек 20 чисел, без этой аномалии, скорее всего он бы остановился и колебался около нуля. <br/>Также подчеркиваем следующее, график относительно нестабилен, и возможно требует продолжения проведения теста.     "
      ]
    },
    {
      "cell_type": "markdown",
      "metadata": {
        "id": "mfyzIPf2RpW8"
      },
      "source": [
        "### Cumulative Conversion Calculation"
      ]
    },
    {
      "cell_type": "markdown",
      "metadata": {
        "id": "YpCqlwFwRpW8"
      },
      "source": [
        "*Let's plot a graph of cumulative conversion by groups*"
      ]
    },
    {
      "cell_type": "markdown",
      "metadata": {
        "id": "afS-geZbRpW8"
      },
      "source": [
        "1. Add a 'conversion' column to cumulative_data with the ratio of the number of orders to the number of users in the specified group on the specified day."
      ]
    },
    {
      "cell_type": "code",
      "execution_count": 31,
      "metadata": {
        "id": "6ho2HtWKRpW8"
      },
      "outputs": [],
      "source": [
        "cumulative_data['conversion'] = cumulative_data['orders']/cumulative_data['visitors']"
      ]
    },
    {
      "cell_type": "code",
      "execution_count": 32,
      "metadata": {
        "colab": {
          "base_uri": "https://localhost:8080/",
          "height": 206
        },
        "id": "uz6m5npTRpW8",
        "outputId": "60098523-3c53-4879-d073-2a5ba75dbee0"
      },
      "outputs": [
        {
          "output_type": "execute_result",
          "data": {
            "text/plain": [
              "        date group  orders  buyers  revenue  visitors  conversion\n",
              "0 2019-08-01     A      24      20   148579       719    0.033380\n",
              "1 2019-08-01     B      21      20   101217       713    0.029453\n",
              "2 2019-08-02     A      44      38   242401      1338    0.032885\n",
              "3 2019-08-02     B      45      43   266748      1294    0.034776\n",
              "4 2019-08-03     A      68      62   354874      1845    0.036856"
            ],
            "text/html": [
              "\n",
              "  <div id=\"df-900b79ee-bbaa-4eed-9ec7-1071168f6f71\">\n",
              "    <div class=\"colab-df-container\">\n",
              "      <div>\n",
              "<style scoped>\n",
              "    .dataframe tbody tr th:only-of-type {\n",
              "        vertical-align: middle;\n",
              "    }\n",
              "\n",
              "    .dataframe tbody tr th {\n",
              "        vertical-align: top;\n",
              "    }\n",
              "\n",
              "    .dataframe thead th {\n",
              "        text-align: right;\n",
              "    }\n",
              "</style>\n",
              "<table border=\"1\" class=\"dataframe\">\n",
              "  <thead>\n",
              "    <tr style=\"text-align: right;\">\n",
              "      <th></th>\n",
              "      <th>date</th>\n",
              "      <th>group</th>\n",
              "      <th>orders</th>\n",
              "      <th>buyers</th>\n",
              "      <th>revenue</th>\n",
              "      <th>visitors</th>\n",
              "      <th>conversion</th>\n",
              "    </tr>\n",
              "  </thead>\n",
              "  <tbody>\n",
              "    <tr>\n",
              "      <th>0</th>\n",
              "      <td>2019-08-01</td>\n",
              "      <td>A</td>\n",
              "      <td>24</td>\n",
              "      <td>20</td>\n",
              "      <td>148579</td>\n",
              "      <td>719</td>\n",
              "      <td>0.033380</td>\n",
              "    </tr>\n",
              "    <tr>\n",
              "      <th>1</th>\n",
              "      <td>2019-08-01</td>\n",
              "      <td>B</td>\n",
              "      <td>21</td>\n",
              "      <td>20</td>\n",
              "      <td>101217</td>\n",
              "      <td>713</td>\n",
              "      <td>0.029453</td>\n",
              "    </tr>\n",
              "    <tr>\n",
              "      <th>2</th>\n",
              "      <td>2019-08-02</td>\n",
              "      <td>A</td>\n",
              "      <td>44</td>\n",
              "      <td>38</td>\n",
              "      <td>242401</td>\n",
              "      <td>1338</td>\n",
              "      <td>0.032885</td>\n",
              "    </tr>\n",
              "    <tr>\n",
              "      <th>3</th>\n",
              "      <td>2019-08-02</td>\n",
              "      <td>B</td>\n",
              "      <td>45</td>\n",
              "      <td>43</td>\n",
              "      <td>266748</td>\n",
              "      <td>1294</td>\n",
              "      <td>0.034776</td>\n",
              "    </tr>\n",
              "    <tr>\n",
              "      <th>4</th>\n",
              "      <td>2019-08-03</td>\n",
              "      <td>A</td>\n",
              "      <td>68</td>\n",
              "      <td>62</td>\n",
              "      <td>354874</td>\n",
              "      <td>1845</td>\n",
              "      <td>0.036856</td>\n",
              "    </tr>\n",
              "  </tbody>\n",
              "</table>\n",
              "</div>\n",
              "      <button class=\"colab-df-convert\" onclick=\"convertToInteractive('df-900b79ee-bbaa-4eed-9ec7-1071168f6f71')\"\n",
              "              title=\"Convert this dataframe to an interactive table.\"\n",
              "              style=\"display:none;\">\n",
              "        \n",
              "  <svg xmlns=\"http://www.w3.org/2000/svg\" height=\"24px\"viewBox=\"0 0 24 24\"\n",
              "       width=\"24px\">\n",
              "    <path d=\"M0 0h24v24H0V0z\" fill=\"none\"/>\n",
              "    <path d=\"M18.56 5.44l.94 2.06.94-2.06 2.06-.94-2.06-.94-.94-2.06-.94 2.06-2.06.94zm-11 1L8.5 8.5l.94-2.06 2.06-.94-2.06-.94L8.5 2.5l-.94 2.06-2.06.94zm10 10l.94 2.06.94-2.06 2.06-.94-2.06-.94-.94-2.06-.94 2.06-2.06.94z\"/><path d=\"M17.41 7.96l-1.37-1.37c-.4-.4-.92-.59-1.43-.59-.52 0-1.04.2-1.43.59L10.3 9.45l-7.72 7.72c-.78.78-.78 2.05 0 2.83L4 21.41c.39.39.9.59 1.41.59.51 0 1.02-.2 1.41-.59l7.78-7.78 2.81-2.81c.8-.78.8-2.07 0-2.86zM5.41 20L4 18.59l7.72-7.72 1.47 1.35L5.41 20z\"/>\n",
              "  </svg>\n",
              "      </button>\n",
              "      \n",
              "  <style>\n",
              "    .colab-df-container {\n",
              "      display:flex;\n",
              "      flex-wrap:wrap;\n",
              "      gap: 12px;\n",
              "    }\n",
              "\n",
              "    .colab-df-convert {\n",
              "      background-color: #E8F0FE;\n",
              "      border: none;\n",
              "      border-radius: 50%;\n",
              "      cursor: pointer;\n",
              "      display: none;\n",
              "      fill: #1967D2;\n",
              "      height: 32px;\n",
              "      padding: 0 0 0 0;\n",
              "      width: 32px;\n",
              "    }\n",
              "\n",
              "    .colab-df-convert:hover {\n",
              "      background-color: #E2EBFA;\n",
              "      box-shadow: 0px 1px 2px rgba(60, 64, 67, 0.3), 0px 1px 3px 1px rgba(60, 64, 67, 0.15);\n",
              "      fill: #174EA6;\n",
              "    }\n",
              "\n",
              "    [theme=dark] .colab-df-convert {\n",
              "      background-color: #3B4455;\n",
              "      fill: #D2E3FC;\n",
              "    }\n",
              "\n",
              "    [theme=dark] .colab-df-convert:hover {\n",
              "      background-color: #434B5C;\n",
              "      box-shadow: 0px 1px 3px 1px rgba(0, 0, 0, 0.15);\n",
              "      filter: drop-shadow(0px 1px 2px rgba(0, 0, 0, 0.3));\n",
              "      fill: #FFFFFF;\n",
              "    }\n",
              "  </style>\n",
              "\n",
              "      <script>\n",
              "        const buttonEl =\n",
              "          document.querySelector('#df-900b79ee-bbaa-4eed-9ec7-1071168f6f71 button.colab-df-convert');\n",
              "        buttonEl.style.display =\n",
              "          google.colab.kernel.accessAllowed ? 'block' : 'none';\n",
              "\n",
              "        async function convertToInteractive(key) {\n",
              "          const element = document.querySelector('#df-900b79ee-bbaa-4eed-9ec7-1071168f6f71');\n",
              "          const dataTable =\n",
              "            await google.colab.kernel.invokeFunction('convertToInteractive',\n",
              "                                                     [key], {});\n",
              "          if (!dataTable) return;\n",
              "\n",
              "          const docLinkHtml = 'Like what you see? Visit the ' +\n",
              "            '<a target=\"_blank\" href=https://colab.research.google.com/notebooks/data_table.ipynb>data table notebook</a>'\n",
              "            + ' to learn more about interactive tables.';\n",
              "          element.innerHTML = '';\n",
              "          dataTable['output_type'] = 'display_data';\n",
              "          await google.colab.output.renderOutput(dataTable, element);\n",
              "          const docLink = document.createElement('div');\n",
              "          docLink.innerHTML = docLinkHtml;\n",
              "          element.appendChild(docLink);\n",
              "        }\n",
              "      </script>\n",
              "    </div>\n",
              "  </div>\n",
              "  "
            ]
          },
          "metadata": {},
          "execution_count": 32
        }
      ],
      "source": [
        "cumulative_data.head()"
      ]
    },
    {
      "cell_type": "markdown",
      "metadata": {
        "id": "gc0aYPE3RpW8"
      },
      "source": [
        "2. Let's create variables cumulative_data_a and cumulative_data_b with filtered groups."
      ]
    },
    {
      "cell_type": "code",
      "execution_count": 33,
      "metadata": {
        "id": "H2hQBVI3RpW9"
      },
      "outputs": [],
      "source": [
        "cumulative_data_a = cumulative_data[cumulative_data['group']=='A']\n",
        "cumulative_data_b = cumulative_data[cumulative_data['group'] == 'B']"
      ]
    },
    {
      "cell_type": "markdown",
      "metadata": {
        "id": "7tG5Mv9PRpW9"
      },
      "source": [
        "3. Let's plot cumulative conversion graphs by groups"
      ]
    },
    {
      "cell_type": "code",
      "execution_count": 34,
      "metadata": {
        "colab": {
          "base_uri": "https://localhost:8080/",
          "height": 330
        },
        "id": "Em7NL8inRpW9",
        "outputId": "82a0b661-71d4-4a98-a6d0-952a9094272c"
      },
      "outputs": [
        {
          "output_type": "execute_result",
          "data": {
            "text/plain": [
              "''"
            ],
            "application/vnd.google.colaboratory.intrinsic+json": {
              "type": "string"
            }
          },
          "metadata": {},
          "execution_count": 34
        },
        {
          "output_type": "display_data",
          "data": {
            "text/plain": [
              "<Figure size 2520x864 with 1 Axes>"
            ],
            "image/png": "[encoded data removed]"
          },
          "metadata": {
            "needs_background": "light"
          }
        }
      ],
      "source": [
        "fig = plt.figure()\n",
        "fig.set_figwidth(35)\n",
        "fig.set_figheight(12)\n",
        "ax = fig.add_subplot(1, 1, 1)\n",
        "plt.plot(cumulative_data_a['date'], cumulative_data_a['conversion'], label='A')\n",
        "plt.plot(cumulative_data_b['date'], cumulative_data_b['conversion'], label='B')\n",
        "plt.legend()\n",
        "plt.xlabel('date', fontsize = 22, color = 'Black')\n",
        "plt.ylabel('Conversion', fontsize = 22, color = 'Black')\n",
        "plt.title('Cumulative conversion by groups',fontsize = 22, color = 'Black')\n",
        ";"
      ]
    },
    {
      "cell_type": "markdown",
      "metadata": {
        "id": "oFt7_-KbRpW9"
      },
      "source": [
        "<div style=\"border:solid green 2px; padding: 20px\">\n",
        "    \n",
        "**Conclusions:**\n",
        "     <br/>\n",
        "    \n",
        "In contrast to the graphs associated with the average bill, the user conversion graph by the end of the test is more stable both in the tested and in the control group. <br/> Moreover, judging by the graph, we can talk about the difference in conversion for the two groups."
      ]
    },
    {
      "cell_type": "markdown",
      "metadata": {
        "id": "CInvb3wzRpW9"
      },
      "source": [
        "### Calculation of the relative conversion change"
      ]
    },
    {
      "cell_type": "markdown",
      "metadata": {
        "id": "dwwjrC9GRpW9"
      },
      "source": [
        "*Построим график относительного изменения конверсии группы В к группе А*"
      ]
    },
    {
      "cell_type": "markdown",
      "metadata": {
        "id": "kFXhE-0pRpW-"
      },
      "source": [
        "1. Let's join cumulative_data_a and cumulative_data_b"
      ]
    },
    {
      "cell_type": "code",
      "execution_count": 35,
      "metadata": {
        "id": "nvNcpVrGRpW-"
      },
      "outputs": [],
      "source": [
        "merged_cumulative_coonversions = cumulative_data_a[['date','conversion']].merge(cumulative_data_b[['date','conversion']], left_on='date', right_on='date', how='left', suffixes=['_a', '_b']) "
      ]
    },
    {
      "cell_type": "code",
      "execution_count": 36,
      "metadata": {
        "colab": {
          "base_uri": "https://localhost:8080/",
          "height": 206
        },
        "id": "-64jbi3MRpW-",
        "outputId": "65bcd1b2-32cc-4124-de99-f440550cd093"
      },
      "outputs": [
        {
          "output_type": "execute_result",
          "data": {
            "text/plain": [
              "        date  conversion_a  conversion_b\n",
              "0 2019-08-01      0.033380      0.029453\n",
              "1 2019-08-02      0.032885      0.034776\n",
              "2 2019-08-03      0.036856      0.033833\n",
              "3 2019-08-04      0.032787      0.030315\n",
              "4 2019-08-05      0.032851      0.030793"
            ],
            "text/html": [
              "\n",
              "  <div id=\"df-5d1b87c8-e8b4-439e-a09c-ffb782758de0\">\n",
              "    <div class=\"colab-df-container\">\n",
              "      <div>\n",
              "<style scoped>\n",
              "    .dataframe tbody tr th:only-of-type {\n",
              "        vertical-align: middle;\n",
              "    }\n",
              "\n",
              "    .dataframe tbody tr th {\n",
              "        vertical-align: top;\n",
              "    }\n",
              "\n",
              "    .dataframe thead th {\n",
              "        text-align: right;\n",
              "    }\n",
              "</style>\n",
              "<table border=\"1\" class=\"dataframe\">\n",
              "  <thead>\n",
              "    <tr style=\"text-align: right;\">\n",
              "      <th></th>\n",
              "      <th>date</th>\n",
              "      <th>conversion_a</th>\n",
              "      <th>conversion_b</th>\n",
              "    </tr>\n",
              "  </thead>\n",
              "  <tbody>\n",
              "    <tr>\n",
              "      <th>0</th>\n",
              "      <td>2019-08-01</td>\n",
              "      <td>0.033380</td>\n",
              "      <td>0.029453</td>\n",
              "    </tr>\n",
              "    <tr>\n",
              "      <th>1</th>\n",
              "      <td>2019-08-02</td>\n",
              "      <td>0.032885</td>\n",
              "      <td>0.034776</td>\n",
              "    </tr>\n",
              "    <tr>\n",
              "      <th>2</th>\n",
              "      <td>2019-08-03</td>\n",
              "      <td>0.036856</td>\n",
              "      <td>0.033833</td>\n",
              "    </tr>\n",
              "    <tr>\n",
              "      <th>3</th>\n",
              "      <td>2019-08-04</td>\n",
              "      <td>0.032787</td>\n",
              "      <td>0.030315</td>\n",
              "    </tr>\n",
              "    <tr>\n",
              "      <th>4</th>\n",
              "      <td>2019-08-05</td>\n",
              "      <td>0.032851</td>\n",
              "      <td>0.030793</td>\n",
              "    </tr>\n",
              "  </tbody>\n",
              "</table>\n",
              "</div>\n",
              "      <button class=\"colab-df-convert\" onclick=\"convertToInteractive('df-5d1b87c8-e8b4-439e-a09c-ffb782758de0')\"\n",
              "              title=\"Convert this dataframe to an interactive table.\"\n",
              "              style=\"display:none;\">\n",
              "        \n",
              "  <svg xmlns=\"http://www.w3.org/2000/svg\" height=\"24px\"viewBox=\"0 0 24 24\"\n",
              "       width=\"24px\">\n",
              "    <path d=\"M0 0h24v24H0V0z\" fill=\"none\"/>\n",
              "    <path d=\"M18.56 5.44l.94 2.06.94-2.06 2.06-.94-2.06-.94-.94-2.06-.94 2.06-2.06.94zm-11 1L8.5 8.5l.94-2.06 2.06-.94-2.06-.94L8.5 2.5l-.94 2.06-2.06.94zm10 10l.94 2.06.94-2.06 2.06-.94-2.06-.94-.94-2.06-.94 2.06-2.06.94z\"/><path d=\"M17.41 7.96l-1.37-1.37c-.4-.4-.92-.59-1.43-.59-.52 0-1.04.2-1.43.59L10.3 9.45l-7.72 7.72c-.78.78-.78 2.05 0 2.83L4 21.41c.39.39.9.59 1.41.59.51 0 1.02-.2 1.41-.59l7.78-7.78 2.81-2.81c.8-.78.8-2.07 0-2.86zM5.41 20L4 18.59l7.72-7.72 1.47 1.35L5.41 20z\"/>\n",
              "  </svg>\n",
              "      </button>\n",
              "      \n",
              "  <style>\n",
              "    .colab-df-container {\n",
              "      display:flex;\n",
              "      flex-wrap:wrap;\n",
              "      gap: 12px;\n",
              "    }\n",
              "\n",
              "    .colab-df-convert {\n",
              "      background-color: #E8F0FE;\n",
              "      border: none;\n",
              "      border-radius: 50%;\n",
              "      cursor: pointer;\n",
              "      display: none;\n",
              "      fill: #1967D2;\n",
              "      height: 32px;\n",
              "      padding: 0 0 0 0;\n",
              "      width: 32px;\n",
              "    }\n",
              "\n",
              "    .colab-df-convert:hover {\n",
              "      background-color: #E2EBFA;\n",
              "      box-shadow: 0px 1px 2px rgba(60, 64, 67, 0.3), 0px 1px 3px 1px rgba(60, 64, 67, 0.15);\n",
              "      fill: #174EA6;\n",
              "    }\n",
              "\n",
              "    [theme=dark] .colab-df-convert {\n",
              "      background-color: #3B4455;\n",
              "      fill: #D2E3FC;\n",
              "    }\n",
              "\n",
              "    [theme=dark] .colab-df-convert:hover {\n",
              "      background-color: #434B5C;\n",
              "      box-shadow: 0px 1px 3px 1px rgba(0, 0, 0, 0.15);\n",
              "      filter: drop-shadow(0px 1px 2px rgba(0, 0, 0, 0.3));\n",
              "      fill: #FFFFFF;\n",
              "    }\n",
              "  </style>\n",
              "\n",
              "      <script>\n",
              "        const buttonEl =\n",
              "          document.querySelector('#df-5d1b87c8-e8b4-439e-a09c-ffb782758de0 button.colab-df-convert');\n",
              "        buttonEl.style.display =\n",
              "          google.colab.kernel.accessAllowed ? 'block' : 'none';\n",
              "\n",
              "        async function convertToInteractive(key) {\n",
              "          const element = document.querySelector('#df-5d1b87c8-e8b4-439e-a09c-ffb782758de0');\n",
              "          const dataTable =\n",
              "            await google.colab.kernel.invokeFunction('convertToInteractive',\n",
              "                                                     [key], {});\n",
              "          if (!dataTable) return;\n",
              "\n",
              "          const docLinkHtml = 'Like what you see? Visit the ' +\n",
              "            '<a target=\"_blank\" href=https://colab.research.google.com/notebooks/data_table.ipynb>data table notebook</a>'\n",
              "            + ' to learn more about interactive tables.';\n",
              "          element.innerHTML = '';\n",
              "          dataTable['output_type'] = 'display_data';\n",
              "          await google.colab.output.renderOutput(dataTable, element);\n",
              "          const docLink = document.createElement('div');\n",
              "          docLink.innerHTML = docLinkHtml;\n",
              "          element.appendChild(docLink);\n",
              "        }\n",
              "      </script>\n",
              "    </div>\n",
              "  </div>\n",
              "  "
            ]
          },
          "metadata": {},
          "execution_count": 36
        }
      ],
      "source": [
        "merged_cumulative_coonversions.head()"
      ]
    },
    {
      "cell_type": "markdown",
      "metadata": {
        "id": "ZekZjbgTRpW-"
      },
      "source": [
        "2. Let's plot a graph of the relative change in conversion"
      ]
    },
    {
      "cell_type": "code",
      "execution_count": 37,
      "metadata": {
        "colab": {
          "base_uri": "https://localhost:8080/",
          "height": 311
        },
        "id": "NRijerZrRpW-",
        "outputId": "3e5c1b0b-4979-43a4-866c-0d9b51e94bea"
      },
      "outputs": [
        {
          "output_type": "display_data",
          "data": {
            "text/plain": [
              "<Figure size 2520x864 with 1 Axes>"
            ],
            "image/png": "[encoded data removed]"
          },
          "metadata": {
            "needs_background": "light"
          }
        }
      ],
      "source": [
        "fig = plt.figure()\n",
        "fig.set_figwidth(35)\n",
        "fig.set_figheight(12)\n",
        "ax = fig.add_subplot(1, 1, 1)\n",
        "plt.plot(merged_cumulative_coonversions['date'], merged_cumulative_coonversions['conversion_b']/merged_cumulative_coonversions['conversion_a'] - 1, label=\"The relative change in the conversion of group B in relation to the group A\")\n",
        "plt.legend()\n",
        "\n",
        "plt.axhline(y=0, color='black', linestyle='--')\n",
        "plt.xlabel('date', fontsize = 22, color = 'Black')\n",
        "plt.ylabel('relative change in the conversion', fontsize = 22, color = 'Black')\n",
        "plt.title('The relative change in the conversion of group B in relation to the group A',fontsize = 22, color = 'Black');"
      ]
    },
    {
      "cell_type": "markdown",
      "metadata": {
        "id": "Zb7bR-aVRpW_"
      },
      "source": [
        "<div style=\"border:solid green 2px; padding: 20px\">\n",
        "    \n",
        "**Conclusions:**\n",
        "     <br/>\n",
        "    \n",
        "As in the previous case, the relative conversion growth graph clearly shows a stable, slightly fluctuating growth."
      ]
    },
    {
      "cell_type": "markdown",
      "metadata": {
        "id": "RWxIhCLfRpW_"
      },
      "source": [
        "### Calculation of data outliers"
      ]
    },
    {
      "cell_type": "markdown",
      "metadata": {
        "id": "Qir2ZANiRpW_"
      },
      "source": [
        "*To do this, we will group the data depending on visits and purchases*"
      ]
    },
    {
      "cell_type": "code",
      "execution_count": 38,
      "metadata": {
        "id": "2PjZ14vSRpW_"
      },
      "outputs": [],
      "source": [
        "orders_by_visitors = (\n",
        "    orders.groupby('visitor_id', as_index=False)\n",
        "    .agg({'transaction_id': 'nunique'})\n",
        ")"
      ]
    },
    {
      "cell_type": "code",
      "execution_count": 39,
      "metadata": {
        "id": "Wn5jhsa8RpW_"
      },
      "outputs": [],
      "source": [
        "orders_by_visitors.columns = ['visitor_id', 'orders']"
      ]
    },
    {
      "cell_type": "code",
      "execution_count": 40,
      "metadata": {
        "colab": {
          "base_uri": "https://localhost:8080/",
          "height": 363
        },
        "id": "IdN2zF3hRpXA",
        "outputId": "f45fb3ca-847b-403f-f5bb-c167efb8597c"
      },
      "outputs": [
        {
          "output_type": "execute_result",
          "data": {
            "text/plain": [
              "      visitor_id  orders\n",
              "1023  4256040402      11\n",
              "591   2458001652      11\n",
              "569   2378935119       9\n",
              "487   2038680547       8\n",
              "44     199603092       5\n",
              "744   3062433592       5\n",
              "55     237748145       5\n",
              "917   3803269165       5\n",
              "299   1230306981       5\n",
              "897   3717692402       5"
            ],
            "text/html": [
              "\n",
              "  <div id=\"df-42be0f17-a11c-4b76-a3a0-2ea5ef0d59b3\">\n",
              "    <div class=\"colab-df-container\">\n",
              "      <div>\n",
              "<style scoped>\n",
              "    .dataframe tbody tr th:only-of-type {\n",
              "        vertical-align: middle;\n",
              "    }\n",
              "\n",
              "    .dataframe tbody tr th {\n",
              "        vertical-align: top;\n",
              "    }\n",
              "\n",
              "    .dataframe thead th {\n",
              "        text-align: right;\n",
              "    }\n",
              "</style>\n",
              "<table border=\"1\" class=\"dataframe\">\n",
              "  <thead>\n",
              "    <tr style=\"text-align: right;\">\n",
              "      <th></th>\n",
              "      <th>visitor_id</th>\n",
              "      <th>orders</th>\n",
              "    </tr>\n",
              "  </thead>\n",
              "  <tbody>\n",
              "    <tr>\n",
              "      <th>1023</th>\n",
              "      <td>4256040402</td>\n",
              "      <td>11</td>\n",
              "    </tr>\n",
              "    <tr>\n",
              "      <th>591</th>\n",
              "      <td>2458001652</td>\n",
              "      <td>11</td>\n",
              "    </tr>\n",
              "    <tr>\n",
              "      <th>569</th>\n",
              "      <td>2378935119</td>\n",
              "      <td>9</td>\n",
              "    </tr>\n",
              "    <tr>\n",
              "      <th>487</th>\n",
              "      <td>2038680547</td>\n",
              "      <td>8</td>\n",
              "    </tr>\n",
              "    <tr>\n",
              "      <th>44</th>\n",
              "      <td>199603092</td>\n",
              "      <td>5</td>\n",
              "    </tr>\n",
              "    <tr>\n",
              "      <th>744</th>\n",
              "      <td>3062433592</td>\n",
              "      <td>5</td>\n",
              "    </tr>\n",
              "    <tr>\n",
              "      <th>55</th>\n",
              "      <td>237748145</td>\n",
              "      <td>5</td>\n",
              "    </tr>\n",
              "    <tr>\n",
              "      <th>917</th>\n",
              "      <td>3803269165</td>\n",
              "      <td>5</td>\n",
              "    </tr>\n",
              "    <tr>\n",
              "      <th>299</th>\n",
              "      <td>1230306981</td>\n",
              "      <td>5</td>\n",
              "    </tr>\n",
              "    <tr>\n",
              "      <th>897</th>\n",
              "      <td>3717692402</td>\n",
              "      <td>5</td>\n",
              "    </tr>\n",
              "  </tbody>\n",
              "</table>\n",
              "</div>\n",
              "      <button class=\"colab-df-convert\" onclick=\"convertToInteractive('df-42be0f17-a11c-4b76-a3a0-2ea5ef0d59b3')\"\n",
              "              title=\"Convert this dataframe to an interactive table.\"\n",
              "              style=\"display:none;\">\n",
              "        \n",
              "  <svg xmlns=\"http://www.w3.org/2000/svg\" height=\"24px\"viewBox=\"0 0 24 24\"\n",
              "       width=\"24px\">\n",
              "    <path d=\"M0 0h24v24H0V0z\" fill=\"none\"/>\n",
              "    <path d=\"M18.56 5.44l.94 2.06.94-2.06 2.06-.94-2.06-.94-.94-2.06-.94 2.06-2.06.94zm-11 1L8.5 8.5l.94-2.06 2.06-.94-2.06-.94L8.5 2.5l-.94 2.06-2.06.94zm10 10l.94 2.06.94-2.06 2.06-.94-2.06-.94-.94-2.06-.94 2.06-2.06.94z\"/><path d=\"M17.41 7.96l-1.37-1.37c-.4-.4-.92-.59-1.43-.59-.52 0-1.04.2-1.43.59L10.3 9.45l-7.72 7.72c-.78.78-.78 2.05 0 2.83L4 21.41c.39.39.9.59 1.41.59.51 0 1.02-.2 1.41-.59l7.78-7.78 2.81-2.81c.8-.78.8-2.07 0-2.86zM5.41 20L4 18.59l7.72-7.72 1.47 1.35L5.41 20z\"/>\n",
              "  </svg>\n",
              "      </button>\n",
              "      \n",
              "  <style>\n",
              "    .colab-df-container {\n",
              "      display:flex;\n",
              "      flex-wrap:wrap;\n",
              "      gap: 12px;\n",
              "    }\n",
              "\n",
              "    .colab-df-convert {\n",
              "      background-color: #E8F0FE;\n",
              "      border: none;\n",
              "      border-radius: 50%;\n",
              "      cursor: pointer;\n",
              "      display: none;\n",
              "      fill: #1967D2;\n",
              "      height: 32px;\n",
              "      padding: 0 0 0 0;\n",
              "      width: 32px;\n",
              "    }\n",
              "\n",
              "    .colab-df-convert:hover {\n",
              "      background-color: #E2EBFA;\n",
              "      box-shadow: 0px 1px 2px rgba(60, 64, 67, 0.3), 0px 1px 3px 1px rgba(60, 64, 67, 0.15);\n",
              "      fill: #174EA6;\n",
              "    }\n",
              "\n",
              "    [theme=dark] .colab-df-convert {\n",
              "      background-color: #3B4455;\n",
              "      fill: #D2E3FC;\n",
              "    }\n",
              "\n",
              "    [theme=dark] .colab-df-convert:hover {\n",
              "      background-color: #434B5C;\n",
              "      box-shadow: 0px 1px 3px 1px rgba(0, 0, 0, 0.15);\n",
              "      filter: drop-shadow(0px 1px 2px rgba(0, 0, 0, 0.3));\n",
              "      fill: #FFFFFF;\n",
              "    }\n",
              "  </style>\n",
              "\n",
              "      <script>\n",
              "        const buttonEl =\n",
              "          document.querySelector('#df-42be0f17-a11c-4b76-a3a0-2ea5ef0d59b3 button.colab-df-convert');\n",
              "        buttonEl.style.display =\n",
              "          google.colab.kernel.accessAllowed ? 'block' : 'none';\n",
              "\n",
              "        async function convertToInteractive(key) {\n",
              "          const element = document.querySelector('#df-42be0f17-a11c-4b76-a3a0-2ea5ef0d59b3');\n",
              "          const dataTable =\n",
              "            await google.colab.kernel.invokeFunction('convertToInteractive',\n",
              "                                                     [key], {});\n",
              "          if (!dataTable) return;\n",
              "\n",
              "          const docLinkHtml = 'Like what you see? Visit the ' +\n",
              "            '<a target=\"_blank\" href=https://colab.research.google.com/notebooks/data_table.ipynb>data table notebook</a>'\n",
              "            + ' to learn more about interactive tables.';\n",
              "          element.innerHTML = '';\n",
              "          dataTable['output_type'] = 'display_data';\n",
              "          await google.colab.output.renderOutput(dataTable, element);\n",
              "          const docLink = document.createElement('div');\n",
              "          docLink.innerHTML = docLinkHtml;\n",
              "          element.appendChild(docLink);\n",
              "        }\n",
              "      </script>\n",
              "    </div>\n",
              "  </div>\n",
              "  "
            ]
          },
          "metadata": {},
          "execution_count": 40
        }
      ],
      "source": [
        "orders_by_visitors.sort_values(by='orders', ascending=False).head(10)"
      ]
    },
    {
      "cell_type": "markdown",
      "metadata": {
        "id": "sz9hoeEGRpXA"
      },
      "source": [
        "*The table shows that during the test there were quite a lot of orders per user. Let's plot a histogram of the distribution of orders*"
      ]
    },
    {
      "cell_type": "code",
      "execution_count": 41,
      "metadata": {
        "colab": {
          "base_uri": "https://localhost:8080/",
          "height": 313
        },
        "id": "dLBGM3D_RpXA",
        "outputId": "59e6b78c-7cd9-4ffd-dbb3-e784b307fdf6"
      },
      "outputs": [
        {
          "output_type": "display_data",
          "data": {
            "text/plain": [
              "<Figure size 2520x864 with 1 Axes>"
            ],
            "image/png": "[encoded data removed]"
          },
          "metadata": {
            "needs_background": "light"
          }
        }
      ],
      "source": [
        "fig = plt.figure()\n",
        "fig.set_figwidth(35)\n",
        "fig.set_figheight(12)\n",
        "ax = fig.add_subplot(1, 1, 1)\n",
        "plt.hist(orders_by_visitors['orders'], color = 'Red')\n",
        "plt.xlabel('orders', fontsize = 22, color = 'Black')\n",
        "plt.ylabel('Number of visitors', fontsize = 22, color = 'Black')\n",
        "plt.title('Distribution of the number of orders',fontsize = 22, color = 'Black');"
      ]
    },
    {
      "cell_type": "markdown",
      "metadata": {
        "id": "cq34FH3lRpXA"
      },
      "source": [
        "*The bulk of users are limited to 1-2 orders, there is a certain number of users who have made 3-5 orders, and there are also anomalous values, in the form of 8-11 orders, we will build a scatter plot for the distribution of orders.*"
      ]
    },
    {
      "cell_type": "markdown",
      "metadata": {
        "id": "abvYC-IRRpXA"
      },
      "source": [
        "*Let's construct a scatter plot for the distribution of orders*"
      ]
    },
    {
      "cell_type": "code",
      "execution_count": 42,
      "metadata": {
        "id": "0DeINhOmRpXA"
      },
      "outputs": [],
      "source": [
        "x_values = pd.Series(range(0, len(orders_by_visitors)))"
      ]
    },
    {
      "cell_type": "code",
      "execution_count": 43,
      "metadata": {
        "colab": {
          "base_uri": "https://localhost:8080/",
          "height": 314
        },
        "id": "weewVlaCRpXB",
        "outputId": "cd758c70-c041-4ff0-b459-9d3b933f8cae"
      },
      "outputs": [
        {
          "output_type": "display_data",
          "data": {
            "text/plain": [
              "<Figure size 2520x864 with 1 Axes>"
            ],
            "image/png": "[encoded data removed]"
          },
          "metadata": {
            "needs_background": "light"
          }
        }
      ],
      "source": [
        "fig = plt.figure()\n",
        "fig.set_figwidth(35)\n",
        "fig.set_figheight(12)\n",
        "ax = fig.add_subplot(1, 1, 1)\n",
        "plt.scatter(x_values, orders_by_visitors['orders'])\n",
        "plt.xlabel('Range of visitors', fontsize = 22, color = 'Black')\n",
        "plt.ylabel('Number of oders', fontsize = 22, color = 'Black')\n",
        "plt.title('Distribution of the number of orders',fontsize = 22, color = 'Black');"
      ]
    },
    {
      "cell_type": "markdown",
      "metadata": {
        "id": "mqACK2OMRpXB"
      },
      "source": [
        "*The graph shows that even 2 orders per visitor are quite rare for the user, most likely, everything above it is an anomaly*"
      ]
    },
    {
      "cell_type": "markdown",
      "metadata": {
        "id": "HUmbrQTARpXB"
      },
      "source": [
        "*Let's calculate 90th, 95th, and 99th percentiles*"
      ]
    },
    {
      "cell_type": "code",
      "execution_count": 44,
      "metadata": {
        "colab": {
          "base_uri": "https://localhost:8080/"
        },
        "id": "WztWXtOPRpXB",
        "outputId": "69c0ca79-5592-4ae6-d6cd-8f06e21e989a"
      },
      "outputs": [
        {
          "output_type": "stream",
          "name": "stdout",
          "text": [
            " 90 percentile of the numer of oders in \"orders\": 1.0\n",
            " 95 percentile of the numer of oders in \"orders\": 2.0\n",
            " 99 percentile of the numer of oders in \"orders\": 4.0\n"
          ]
        }
      ],
      "source": [
        "print(' 90 percentile of the numer of oders in \"orders\": {}'.format(np.percentile(orders_by_visitors['orders'], 90)))\n",
        "print (' 95 percentile of the numer of oders in \"orders\": {}'.format(np.percentile(orders_by_visitors['orders'], 95)))\n",
        "print(' 99 percentile of the numer of oders in \"orders\": {}'.format(np.percentile(orders_by_visitors['orders'], 99)))"
      ]
    },
    {
      "cell_type": "markdown",
      "metadata": {
        "id": "OjzW5BLiRpXB"
      },
      "source": [
        "*90% of users make only 1 order, and for sure, users who made more than 2 orders in a month are an anomaly and an outlier.*"
      ]
    },
    {
      "cell_type": "markdown",
      "metadata": {
        "id": "sImWjwB_RpXC"
      },
      "source": [
        "*Let's consider the cost of orders in terms of anomalies*"
      ]
    },
    {
      "cell_type": "markdown",
      "metadata": {
        "id": "fXBrqjTGRpXC"
      },
      "source": [
        "Let's plot a histogram of order cost distribution:"
      ]
    },
    {
      "cell_type": "code",
      "execution_count": 45,
      "metadata": {
        "colab": {
          "base_uri": "https://localhost:8080/",
          "height": 312
        },
        "id": "vnpxq1G-RpXC",
        "outputId": "20cfc856-d304-4152-e69d-ddab86cfc7af"
      },
      "outputs": [
        {
          "output_type": "display_data",
          "data": {
            "text/plain": [
              "<Figure size 2520x864 with 1 Axes>"
            ],
            "image/png": "[encoded data removed]"
          },
          "metadata": {
            "needs_background": "light"
          }
        }
      ],
      "source": [
        "fig = plt.figure()\n",
        "fig.set_figwidth(35)\n",
        "fig.set_figheight(12)\n",
        "ax = fig.add_subplot(1, 1, 1)\n",
        "plt.hist(orders['revenue'], color = 'Green')\n",
        "plt.xlabel('revenue', fontsize = 22, color = 'Black')\n",
        "plt.ylabel('Number of visitors', fontsize = 22, color = 'Black')\n",
        "plt.title('Distribution of the revenue',fontsize = 22, color = 'Black');"
      ]
    },
    {
      "cell_type": "markdown",
      "metadata": {
        "id": "RkyUlRVjRpXD"
      },
      "source": [
        "*According to the histogram, it can be seen that most of the revenue lies within 10,000, and there is the same anomalous order of about 120,000.*"
      ]
    },
    {
      "cell_type": "markdown",
      "metadata": {
        "id": "7fswrjfXRpXD"
      },
      "source": [
        "*Let's build a scatter plot of revenue distribution*"
      ]
    },
    {
      "cell_type": "code",
      "execution_count": 46,
      "metadata": {
        "id": "u0TvJPibRpXD"
      },
      "outputs": [],
      "source": [
        "x_values = pd.Series(range(0, len(orders['revenue'])))"
      ]
    },
    {
      "cell_type": "code",
      "execution_count": 47,
      "metadata": {
        "colab": {
          "base_uri": "https://localhost:8080/",
          "height": 313
        },
        "id": "JlCBO0xuRpXD",
        "outputId": "4596955b-d1c2-47ee-9d39-81db7c1d9984"
      },
      "outputs": [
        {
          "output_type": "display_data",
          "data": {
            "text/plain": [
              "<Figure size 2520x864 with 1 Axes>"
            ],
            "image/png": "[encoded data removed]"
          },
          "metadata": {
            "needs_background": "light"
          }
        }
      ],
      "source": [
        "fig = plt.figure()\n",
        "fig.set_figwidth(35)\n",
        "fig.set_figheight(12)\n",
        "ax = fig.add_subplot(1, 1, 1)\n",
        "plt.scatter(x_values, orders['revenue'])\n",
        "plt.xlabel('Range of visitors', fontsize = 22, color = 'Black')\n",
        "plt.ylabel('Revenue', fontsize = 22, color = 'Black')\n",
        "plt.title('Distribution of revenue',fontsize = 22, color = 'Black');"
      ]
    },
    {
      "cell_type": "markdown",
      "metadata": {
        "id": "X80pWqokRpXE"
      },
      "source": [
        "*As can be seen from the scatter plot distribution of revenue, we see this abnormal order, which most likely gave an increase in the average bill in group B. Let's calculate the percentiles*  "
      ]
    },
    {
      "cell_type": "code",
      "execution_count": 48,
      "metadata": {
        "colab": {
          "base_uri": "https://localhost:8080/"
        },
        "id": "LKo6P-t0RpXE",
        "outputId": "0ad409a8-dbac-4104-99e5-b8e9e0c979b5"
      },
      "outputs": [
        {
          "output_type": "stream",
          "name": "stdout",
          "text": [
            " 90 percentile of revenue in orders: 18168\n",
            " 95 percentile of revenue in orders: 28000\n",
            " 99 percentile of revenue in orders: 58233\n"
          ]
        }
      ],
      "source": [
        "print(' 90 percentile of revenue in orders: {}'.format(round(np.percentile(orders['revenue'], 90)),2))\n",
        "print (' 95 percentile of revenue in orders: {}'.format(round(np.percentile(orders['revenue'], 95)),2))\n",
        "print(' 99 percentile of revenue in orders: {}'.format(round(np.percentile(orders['revenue'], 99)),2))"
      ]
    },
    {
      "cell_type": "markdown",
      "metadata": {
        "id": "LE1y72ckRpXE"
      },
      "source": [
        "*90% of users make an order for 18,000, 95% for 28,000. We will take all orders with revenue over 30,000 as anomalies*"
      ]
    },
    {
      "cell_type": "markdown",
      "metadata": {
        "id": "b-wZXkmPRpXE"
      },
      "source": [
        "<div style=\"border:solid green 2px; padding: 20px\">\n",
        "    \n",
        "**Conclusions:**\n",
        "     <br/>\n",
        "    \n",
        "After calculating the anomalies, we found that the number of orders greater than 2 and the revenue from orders greater than 30,000, both are abnormal for the results of our test. We also identified an abnormally \"profitable\" order for 120,000. "
      ]
    },
    {
      "cell_type": "markdown",
      "metadata": {
        "id": "y5CJ5j_YRpXF"
      },
      "source": [
        "### Let's test hypotheses on raw data\n"
      ]
    },
    {
      "cell_type": "markdown",
      "metadata": {
        "id": "zfxY0k5GRpXF"
      },
      "source": [
        "*Посчитаем различия в конверсии по сырым данным*"
      ]
    },
    {
      "cell_type": "markdown",
      "metadata": {
        "id": "vqOP42RURpXF"
      },
      "source": [
        "1. Let's make samples for two groups.\n",
        "2. Let's group data by visits and orders"
      ]
    },
    {
      "cell_type": "code",
      "execution_count": 63,
      "metadata": {
        "id": "QXIBFlPlRpXF"
      },
      "outputs": [],
      "source": [
        "orders_by_visitors_a = (\n",
        "    orders[orders['group'] == 'A']\n",
        "    .groupby('visitor_id', as_index=False)\n",
        "    .agg({'transaction_id': 'nunique'})\n",
        ")\n",
        "orders_by_visitors_a.columns = ['visitor_id', 'orders']\n",
        "\n",
        "orders_by_visitors_b = (\n",
        "    orders[orders['group'] == 'B']\n",
        "    .groupby('visitor_id', as_index=False)\n",
        "    .agg({'transaction_id': 'nunique'})\n",
        ")\n",
        "orders_by_visitors_b.columns = ['visitor_id', 'orders']"
      ]
    },
    {
      "cell_type": "markdown",
      "metadata": {
        "id": "3kKVhUtPRpXG"
      },
      "source": [
        "*3. Let's compile samples for statistical comparison of conversions*"
      ]
    },
    {
      "cell_type": "code",
      "execution_count": 64,
      "metadata": {
        "id": "4hs3Dk-ARpXG"
      },
      "outputs": [],
      "source": [
        "sample_a = pd.concat(\n",
        "    [\n",
        "        orders_by_visitors_a['orders'],\n",
        "        pd.Series(0, \n",
        "                  index=np.arange(\n",
        "                      visitors[visitors['group']=='A']['visitors'].sum() - len(orders_by_visitors_a['orders'])\n",
        "                  ), \n",
        "                  name='orders')],\n",
        "    axis=0,\n",
        ")\n",
        "       \n",
        "sample_b = pd.concat(\n",
        "    [\n",
        "        orders_by_visitors_b['orders'],\n",
        "        pd.Series(\n",
        "            0,\n",
        "            index=np.arange(\n",
        "                      visitors[visitors['group']=='B']['visitors'].sum() - len(orders_by_visitors_b['orders'])\n",
        "                  ), \n",
        "                  name='orders')],\n",
        "    axis=0,\n",
        ")"
      ]
    },
    {
      "cell_type": "markdown",
      "metadata": {
        "id": "VtfKHA6iRpXH"
      },
      "source": [
        "*Hypothesis test on comparison of conversions on raw data:*\n",
        "```\n",
        "H_0: The average conversion rates before and after the implementation of the newsletter subscription form did not change`\n",
        "H_a: The average conversion rates before and after the implementation of the newsletter subscription form are different`\n",
        "alpha = 0.05\n",
        "```"
      ]
    },
    {
      "cell_type": "code",
      "execution_count": 69,
      "metadata": {
        "colab": {
          "base_uri": "https://localhost:8080/"
        },
        "id": "HydtUGFXRpXI",
        "outputId": "92b474ed-fe06-4a03-9e3a-7a255841520f"
      },
      "outputs": [
        {
          "output_type": "stream",
          "name": "stdout",
          "text": [
            "0.016792355056752608\n",
            "Rejecting the null hypothesis\n"
          ]
        }
      ],
      "source": [
        "alpha=0.05\n",
        "results = st.mannwhitneyu(sample_a, sample_b)\n",
        "print(results.pvalue)\n",
        "\n",
        "if results.pvalue < alpha:\n",
        "    print(\"Rejecting the null hypothesis\")\n",
        "else:\n",
        "    print(\"Failed to reject the null hypothesis\") "
      ]
    },
    {
      "cell_type": "code",
      "execution_count": 66,
      "metadata": {
        "colab": {
          "base_uri": "https://localhost:8080/"
        },
        "id": "xzkZdru8RpXI",
        "outputId": "d607e5e7-a99f-4ea7-d2d9-ac6f0fa2a0e9"
      },
      "outputs": [
        {
          "output_type": "stream",
          "name": "stdout",
          "text": [
            "Relative increase in average conversion in group B: 0.138\n"
          ]
        }
      ],
      "source": [
        "print(\"Relative increase in average conversion in group B: {0:.3f}\".format(sample_b.mean() / sample_a.mean() - 1))"
      ]
    },
    {
      "cell_type": "markdown",
      "metadata": {
        "id": "QsDnxSxSRpXJ"
      },
      "source": [
        "<div style=\"border:solid green 2px; padding: 20px\">\n",
        "    \n",
        "**Conclusions:**\n",
        "     <br/>\n",
        "Thus, on raw data, there is an increase in conversion, which is confirmed by statistical research. Next, check the conversion change on the cleaned data."
      ]
    },
    {
      "cell_type": "markdown",
      "metadata": {
        "id": "aBotIEybRpXJ"
      },
      "source": [
        "*Let's calculate differences in average checks based on raw data*"
      ]
    },
    {
      "cell_type": "markdown",
      "metadata": {
        "id": "cfzX9yMxRpXK"
      },
      "source": [
        "*Hypothesis testing on comparison of average bills on raw data:*\n",
        "```\n",
        "H_0: The average check indicators before and after the introduction of the newsletter subscription form have not changed`\n",
        "H_a: The average bill before and after the introduction of the newsletter subscription form is different`\n",
        "alpha = 0.05\n",
        "```\n",
        "\n"
      ]
    },
    {
      "cell_type": "code",
      "execution_count": 70,
      "metadata": {
        "colab": {
          "base_uri": "https://localhost:8080/"
        },
        "id": "g0IgtNITRpXK",
        "outputId": "aacad623-8a38-4a18-fd8d-194e6a1d727f"
      },
      "outputs": [
        {
          "output_type": "stream",
          "name": "stdout",
          "text": [
            "0.7292909855432458\n",
            "Failed to reject the null hypothesis\n"
          ]
        }
      ],
      "source": [
        "alpha=0.05\n",
        "results = st.mannwhitneyu(orders[orders['group']=='A']['revenue'], orders[orders['group']=='B']['revenue'])[1]\n",
        "print(results)\n",
        "\n",
        "if results < alpha:\n",
        "    print(\"Rejecting the null hypothesis\")\n",
        "else:\n",
        "    print(\"Failed to reject the null hypothesis\") "
      ]
    },
    {
      "cell_type": "markdown",
      "metadata": {
        "id": "zzEvuQSURpXK"
      },
      "source": [
        "<div style=\"border:solid green 2px; padding: 20px\">\n",
        "    \n",
        "**Conclusions:**\n",
        "     <br/>\n",
        "On raw data, there are no statistical differences between groups in the average check, while an increase in the average check of 13% is visible, however, most likely it will go away after cleaning the data.   "
      ]
    },
    {
      "cell_type": "markdown",
      "metadata": {
        "id": "zcyuDX1nRpXL"
      },
      "source": [
        "### Let's test hypotheses on clean data"
      ]
    },
    {
      "cell_type": "markdown",
      "metadata": {
        "id": "JSgt8kXhRpXL"
      },
      "source": [
        "*Clearing the data*"
      ]
    },
    {
      "cell_type": "code",
      "execution_count": 71,
      "metadata": {
        "id": "dZRTsg5BRpXL"
      },
      "outputs": [],
      "source": [
        "\n",
        "orders_by_users_a = (\n",
        "    orders[orders['group'] == 'A']\n",
        "    .groupby('visitor_id', as_index=False)\n",
        "    .agg({'transaction_id': pd.Series.nunique})\n",
        ")\n",
        "orders_by_users_a.columns = ['visitor_id', 'orders']\n",
        "\n",
        "orders_by_users_b= (\n",
        "    orders[orders['group'] == 'B']\n",
        "    .groupby('visitor_id', as_index=False)\n",
        "    .agg({'transaction_id': pd.Series.nunique})\n",
        ")\n",
        "orders_by_users_b.columns = ['visitor_id', 'orders']\n",
        "users_with_many_orders = pd.concat(\n",
        "    [\n",
        "        orders_by_users_a[orders_by_users_a['orders'] > 2]['visitor_id'],\n",
        "        orders_by_users_b[orders_by_users_b['orders'] > 2]['visitor_id'],\n",
        "    ],\n",
        "    axis=0,\n",
        ")\n",
        "users_with_expensive_orders = orders[orders['revenue'] > 30000]['visitor_id']\n",
        "abnormal_users = (\n",
        "    pd.concat([users_with_expensive_orders, users_with_many_orders], axis=0)\n",
        "    .drop_duplicates()\n",
        "    .sort_values()\n",
        ")"
      ]
    },
    {
      "cell_type": "markdown",
      "metadata": {
        "id": "sJCs53gKRpXL"
      },
      "source": [
        "*We collect samples with cleaned data to check the statistical difference between conversions*"
      ]
    },
    {
      "cell_type": "code",
      "execution_count": 72,
      "metadata": {
        "id": "8NGA4I7RRpXL"
      },
      "outputs": [],
      "source": [
        "sample_a_filtered = pd.concat(\n",
        "    [\n",
        "        orders_by_visitors_a[\n",
        "            np.logical_not(orders_by_visitors_a['visitor_id'].isin(abnormal_users))\n",
        "        ]['orders'],\n",
        "        pd.Series(0, \n",
        "                  index=np.arange(\n",
        "                      visitors[visitors['group']=='A']['visitors'].sum() - len(orders_by_visitors_a['orders'])\n",
        "                  ), \n",
        "                  name='orders')],\n",
        "    axis=0,\n",
        ")\n",
        "\n",
        "sample_b_filtered = pd.concat(\n",
        "    [\n",
        "        orders_by_visitors_b[\n",
        "            np.logical_not(orders_by_visitors_b['visitor_id'].isin(abnormal_users))\n",
        "        ]['orders'],\n",
        "        pd.Series(0, \n",
        "                  index=np.arange(\n",
        "                      visitors[visitors['group']=='B']['visitors'].sum() - len(orders_by_visitors_a['orders'])\n",
        "                  ), \n",
        "                  name='orders')],\n",
        "    axis=0,\n",
        ") "
      ]
    },
    {
      "cell_type": "markdown",
      "metadata": {
        "id": "GR6SAgJWRpXL"
      },
      "source": [
        "*Let's calculate conversion differences based on cleaned data*"
      ]
    },
    {
      "cell_type": "markdown",
      "metadata": {
        "id": "SnNzZXkNRpXM"
      },
      "source": [
        "*Hypothesis test on comparison of conversions on cleaned data:*\n",
        "```\n",
        "H_0: The average conversion rates before and after the implementation of the newsletter subscription form did not change`\n",
        "H_a: The average conversion rates before and after the implementation of the newsletter subscription form are different`\n",
        "alpha = 0.05\n",
        "```   "
      ]
    },
    {
      "cell_type": "code",
      "execution_count": 77,
      "metadata": {
        "colab": {
          "base_uri": "https://localhost:8080/"
        },
        "id": "fTq41g-VRpXM",
        "outputId": "067115d1-1c26-4437-858f-e18f50be0541"
      },
      "outputs": [
        {
          "output_type": "stream",
          "name": "stdout",
          "text": [
            "0.016214621053357373\n",
            "Rejecting the null hypothesis\n"
          ]
        }
      ],
      "source": [
        "alpha=0.05\n",
        "results = st.mannwhitneyu(sample_a_filtered, sample_b_filtered)\n",
        "print(results.pvalue)\n",
        "\n",
        "if results.pvalue < alpha:\n",
        "    print(\"Rejecting the null hypothesis\")\n",
        "else:\n",
        "    print(\"Failed to reject the null hypothesis\") "
      ]
    },
    {
      "cell_type": "code",
      "execution_count": 74,
      "metadata": {
        "colab": {
          "base_uri": "https://localhost:8080/"
        },
        "id": "WHVg1gv2RpXM",
        "outputId": "46cf897f-9dd6-4859-ed10-29003335766e"
      },
      "outputs": [
        {
          "output_type": "stream",
          "name": "stdout",
          "text": [
            "Relative increase in average conversion in group B: 0.166\n"
          ]
        }
      ],
      "source": [
        "print(\"Relative increase in average conversion in group B: {0:.3f}\".format(sample_b_filtered.mean() / sample_a_filtered.mean() - 1))"
      ]
    },
    {
      "cell_type": "markdown",
      "metadata": {
        "id": "KgRDjEItRpXM"
      },
      "source": [
        " <div style=\"border:solid green 2px; padding: 20px\">\n",
        "    \n",
        "**Conclusions:**\n",
        "     <br/>\n",
        "Thus, even after cleaning the data, we observe a statistically significant difference in conversion and its significant increase. "
      ]
    },
    {
      "cell_type": "markdown",
      "metadata": {
        "id": "tmTDfVtBRpXN"
      },
      "source": [
        "*Let's calculate the differences in average checks based on cleaned data*"
      ]
    },
    {
      "cell_type": "markdown",
      "metadata": {
        "id": "UGEV9nw8RpXN"
      },
      "source": [
        "*Hypothesis testing on comparison of average bills on cleaned data:*\n",
        "```\n",
        "H_0: The average check indicators before and after the introduction of the newsletter subscription form have not changed`\n",
        "H_a: The average bill before and after the introduction of the newsletter subscription form is different`\n",
        "alpha = 0.05\n",
        "```"
      ]
    },
    {
      "cell_type": "code",
      "execution_count": 78,
      "metadata": {
        "colab": {
          "base_uri": "https://localhost:8080/"
        },
        "id": "_sDm2H4yRpXN",
        "outputId": "632d6495-1297-4c06-ce1d-5efec32365ed"
      },
      "outputs": [
        {
          "output_type": "stream",
          "name": "stdout",
          "text": [
            "0.7204664998107033\n",
            "Failed to reject the null hypothesis\n"
          ]
        }
      ],
      "source": [
        "alpha=0.05\n",
        "results = (\n",
        "    st.mannwhitneyu(\n",
        "            orders[\n",
        "                np.logical_and(\n",
        "                    orders['group'] == 'A',\n",
        "                    np.logical_not(orders['visitor_id'].isin(abnormal_users)),\n",
        "                )\n",
        "            ]['revenue'],\n",
        "            orders[\n",
        "                np.logical_and(\n",
        "                    orders['group'] == 'B',\n",
        "                    np.logical_not(orders['visitor_id'].isin(abnormal_users)),\n",
        "                )\n",
        "            ]['revenue'],\n",
        "        )[1]\n",
        "    )\n",
        "print(results)\n",
        "if results < alpha:\n",
        "    print(\"Rejecting the null hypothesis\")\n",
        "else:\n",
        "    print(\"Failed to reject the null hypothesis\") \n"
      ]
    },
    {
      "cell_type": "code",
      "execution_count": 76,
      "metadata": {
        "colab": {
          "base_uri": "https://localhost:8080/"
        },
        "id": "DCTJB8XqRpXO",
        "outputId": "cb1d6013-caa2-44e6-e8f4-73c3f1d485c8"
      },
      "outputs": [
        {
          "output_type": "stream",
          "name": "stdout",
          "text": [
            "Relative increase in average bill in group B: -0.023\n"
          ]
        }
      ],
      "source": [
        "print(\n",
        "    \"Relative increase in average bill in group B: {0:.3f}\".format(\n",
        "        orders[\n",
        "            np.logical_and(\n",
        "                orders['group'] == 'B',\n",
        "                np.logical_not(orders['visitor_id'].isin(abnormal_users)),\n",
        "            )\n",
        "        ]['revenue'].mean()\n",
        "        / orders[\n",
        "            np.logical_and(\n",
        "                orders['group'] == 'A',\n",
        "                np.logical_not(orders['visitor_id'].isin(abnormal_users)),\n",
        "            )\n",
        "        ]['revenue'].mean()\n",
        "        - 1\n",
        "    )\n",
        ") "
      ]
    },
    {
      "cell_type": "markdown",
      "metadata": {
        "id": "H49jPobMRpXO"
      },
      "source": [
        "<div style=\"border:solid green 2px; padding: 20px\">\n",
        "    \n",
        "**Conclusions:**\n",
        "     <br/>\n",
        "The average check between groups before and after the introduction of the mailing does not differ, neither on raw data nor on cleaned data."
      ]
    },
    {
      "cell_type": "markdown",
      "metadata": {
        "id": "stwsWoQWRpXO"
      },
      "source": [
        "## General conclusion"
      ]
    },
    {
      "cell_type": "markdown",
      "metadata": {
        "id": "PT4vCF0hRpXP"
      },
      "source": [
        "<div style=\"border:solid pink 2px; padding: 20px\">\n",
        "    \n",
        " <br/>\n",
        "1. After calculating the frameworks and prioritizing the hypotheses, the following hypothesis was chosen for the study:\n",
        "   \"Add a subscription form to all main pages to build a customer base for email newsletters\"\n",
        "```\n",
        "H_0: The average metrics before and after the implementation of the newsletter subscription form have not changed`\n",
        "H_a: The average metrics before and after the implementation of the newsletter subscription form are different`\n",
        "alpha = 0.05\n",
        "```\n",
        "<br/>\n",
        "2. An A/B test was conducted, it lasted 30 days from 08/01/2019 to 08/31/2019<br/>\n",
        "3. As a result of the calculation of cumulative metrics, it can be seen that the data has practically stabilized, at least in terms of revenue and user conversion.<br/>\n",
        "4. Anomalies were found in the data, such as users with orders more than 8 times per month, and with an order amount of 120,000\n",
        "5. Two statistical hypotheses about the difference in conversion between groups and the difference in the average check were tested.\n",
        "6. The difference between conversions is statistically significant, both on raw and cleaned data.\n",
        "8. The difference between the average bills in the groups is not fixed either in the case of raw or in the case of cleaned data.\n",
        "9. We have received an increase in the main conversion metric, and we believe that the test can be stopped and the form for subscribing to the newsletter can be implemented."
      ]
    },
    {
      "cell_type": "code",
      "execution_count": 60,
      "metadata": {
        "id": "FILGxttORpXP"
      },
      "outputs": [],
      "source": []
    }
  ],
  "metadata": {
    "ExecuteTimeLog": [
      {
        "duration": 1313,
        "start_time": "2022-09-27T10:56:52.349Z"
      },
      {
        "duration": 62,
        "start_time": "2022-09-27T10:58:29.123Z"
      },
      {
        "duration": 14,
        "start_time": "2022-09-27T10:58:34.379Z"
      },
      {
        "duration": 3,
        "start_time": "2022-09-27T11:13:32.050Z"
      },
      {
        "duration": 7,
        "start_time": "2022-09-27T11:13:52.763Z"
      },
      {
        "duration": 11,
        "start_time": "2022-09-27T11:15:50.064Z"
      },
      {
        "duration": 4,
        "start_time": "2022-09-27T11:19:13.615Z"
      },
      {
        "duration": 10,
        "start_time": "2022-09-27T11:19:14.538Z"
      },
      {
        "duration": 3,
        "start_time": "2022-09-27T11:20:59.213Z"
      },
      {
        "duration": 8,
        "start_time": "2022-09-27T11:20:59.972Z"
      },
      {
        "duration": 9,
        "start_time": "2022-09-27T11:21:05.838Z"
      },
      {
        "duration": 1050,
        "start_time": "2022-09-27T11:23:35.469Z"
      },
      {
        "duration": 27,
        "start_time": "2022-09-27T11:23:36.520Z"
      },
      {
        "duration": 3,
        "start_time": "2022-09-27T11:23:36.548Z"
      },
      {
        "duration": 16,
        "start_time": "2022-09-27T11:23:36.553Z"
      },
      {
        "duration": 3,
        "start_time": "2022-09-27T11:23:36.571Z"
      },
      {
        "duration": 10,
        "start_time": "2022-09-27T11:23:36.575Z"
      },
      {
        "duration": 29,
        "start_time": "2022-09-27T11:23:36.586Z"
      },
      {
        "duration": 1086,
        "start_time": "2022-09-27T11:32:47.130Z"
      },
      {
        "duration": 27,
        "start_time": "2022-09-27T11:32:48.218Z"
      },
      {
        "duration": 3,
        "start_time": "2022-09-27T11:32:48.247Z"
      },
      {
        "duration": 12,
        "start_time": "2022-09-27T11:32:48.252Z"
      },
      {
        "duration": 3,
        "start_time": "2022-09-27T11:32:48.265Z"
      },
      {
        "duration": 12,
        "start_time": "2022-09-27T11:32:48.269Z"
      },
      {
        "duration": 29,
        "start_time": "2022-09-27T11:32:48.283Z"
      },
      {
        "duration": 1076,
        "start_time": "2022-09-27T11:33:50.841Z"
      },
      {
        "duration": 27,
        "start_time": "2022-09-27T11:33:51.919Z"
      },
      {
        "duration": 3,
        "start_time": "2022-09-27T11:33:51.947Z"
      },
      {
        "duration": 9,
        "start_time": "2022-09-27T11:33:51.952Z"
      },
      {
        "duration": 25,
        "start_time": "2022-09-27T11:33:51.963Z"
      },
      {
        "duration": 37,
        "start_time": "2022-09-27T11:33:51.989Z"
      },
      {
        "duration": 25,
        "start_time": "2022-09-27T11:33:52.028Z"
      },
      {
        "duration": 1103,
        "start_time": "2022-09-27T11:34:55.117Z"
      },
      {
        "duration": 27,
        "start_time": "2022-09-27T11:34:56.222Z"
      },
      {
        "duration": 3,
        "start_time": "2022-09-27T11:34:56.251Z"
      },
      {
        "duration": 16,
        "start_time": "2022-09-27T11:34:56.255Z"
      },
      {
        "duration": 7,
        "start_time": "2022-09-27T11:34:56.272Z"
      },
      {
        "duration": 17,
        "start_time": "2022-09-27T11:34:56.280Z"
      },
      {
        "duration": 18,
        "start_time": "2022-09-27T11:34:56.299Z"
      },
      {
        "duration": 13,
        "start_time": "2022-09-27T11:38:11.579Z"
      },
      {
        "duration": 4,
        "start_time": "2022-09-27T11:45:31.350Z"
      },
      {
        "duration": 11,
        "start_time": "2022-09-27T11:45:39.258Z"
      },
      {
        "duration": 10,
        "start_time": "2022-09-27T11:47:00.178Z"
      },
      {
        "duration": 10,
        "start_time": "2022-09-27T11:48:19.483Z"
      },
      {
        "duration": 10,
        "start_time": "2022-09-27T11:56:58.518Z"
      },
      {
        "duration": 148,
        "start_time": "2022-09-27T12:22:39.212Z"
      },
      {
        "duration": 8,
        "start_time": "2022-09-27T12:22:55.543Z"
      },
      {
        "duration": 7,
        "start_time": "2022-09-27T12:23:13.927Z"
      },
      {
        "duration": 8,
        "start_time": "2022-09-27T12:46:15.559Z"
      },
      {
        "duration": 125,
        "start_time": "2022-09-27T12:47:01.327Z"
      },
      {
        "duration": 8,
        "start_time": "2022-09-27T12:47:14.374Z"
      },
      {
        "duration": 22,
        "start_time": "2022-09-27T12:47:40.928Z"
      },
      {
        "duration": 5,
        "start_time": "2022-09-27T12:51:34.493Z"
      },
      {
        "duration": 3,
        "start_time": "2022-09-27T12:53:28.732Z"
      },
      {
        "duration": 11,
        "start_time": "2022-09-27T12:53:45.692Z"
      },
      {
        "duration": 8,
        "start_time": "2022-09-27T12:58:46.727Z"
      },
      {
        "duration": 7,
        "start_time": "2022-09-27T12:58:57.439Z"
      },
      {
        "duration": 7,
        "start_time": "2022-09-27T13:07:54.496Z"
      },
      {
        "duration": 16,
        "start_time": "2022-09-27T13:08:17.553Z"
      },
      {
        "duration": 5,
        "start_time": "2022-09-27T13:08:37.126Z"
      },
      {
        "duration": 25,
        "start_time": "2022-09-27T13:08:38.092Z"
      },
      {
        "duration": 304,
        "start_time": "2022-09-27T13:09:59.551Z"
      },
      {
        "duration": 259,
        "start_time": "2022-09-27T13:11:19.019Z"
      },
      {
        "duration": 1129,
        "start_time": "2022-09-27T13:11:40.620Z"
      },
      {
        "duration": 26,
        "start_time": "2022-09-27T13:11:41.751Z"
      },
      {
        "duration": 3,
        "start_time": "2022-09-27T13:11:41.779Z"
      },
      {
        "duration": 16,
        "start_time": "2022-09-27T13:11:41.783Z"
      },
      {
        "duration": 24,
        "start_time": "2022-09-27T13:11:41.805Z"
      },
      {
        "duration": 16,
        "start_time": "2022-09-27T13:11:41.830Z"
      },
      {
        "duration": 16,
        "start_time": "2022-09-27T13:11:41.848Z"
      },
      {
        "duration": 9,
        "start_time": "2022-09-27T13:11:41.866Z"
      },
      {
        "duration": 13,
        "start_time": "2022-09-27T13:11:41.877Z"
      },
      {
        "duration": 62,
        "start_time": "2022-09-27T13:11:41.891Z"
      },
      {
        "duration": 8,
        "start_time": "2022-09-27T13:11:41.955Z"
      },
      {
        "duration": 12,
        "start_time": "2022-09-27T13:11:41.965Z"
      },
      {
        "duration": 26,
        "start_time": "2022-09-27T13:11:41.978Z"
      },
      {
        "duration": 5,
        "start_time": "2022-09-27T13:11:42.012Z"
      },
      {
        "duration": 10,
        "start_time": "2022-09-27T13:11:42.020Z"
      },
      {
        "duration": 24,
        "start_time": "2022-09-27T13:11:42.032Z"
      },
      {
        "duration": 18,
        "start_time": "2022-09-27T13:11:42.058Z"
      },
      {
        "duration": 6,
        "start_time": "2022-09-27T13:11:42.077Z"
      },
      {
        "duration": 3,
        "start_time": "2022-09-27T13:18:12.606Z"
      },
      {
        "duration": 128,
        "start_time": "2022-09-27T13:24:59.398Z"
      },
      {
        "duration": 26,
        "start_time": "2022-09-27T13:26:25.660Z"
      },
      {
        "duration": 510,
        "start_time": "2022-09-27T13:26:40.833Z"
      },
      {
        "duration": 68,
        "start_time": "2022-09-27T13:30:23.861Z"
      },
      {
        "duration": 403,
        "start_time": "2022-09-27T13:30:46.315Z"
      },
      {
        "duration": 410,
        "start_time": "2022-09-27T13:31:19.627Z"
      },
      {
        "duration": 416,
        "start_time": "2022-09-27T13:31:56.427Z"
      },
      {
        "duration": 409,
        "start_time": "2022-09-27T13:32:10.384Z"
      },
      {
        "duration": 423,
        "start_time": "2022-09-27T13:34:45.818Z"
      },
      {
        "duration": 490,
        "start_time": "2022-09-27T13:35:54.497Z"
      },
      {
        "duration": 409,
        "start_time": "2022-09-27T13:36:11.917Z"
      },
      {
        "duration": 4,
        "start_time": "2022-09-27T13:38:09.470Z"
      },
      {
        "duration": 517,
        "start_time": "2022-09-27T13:38:51.526Z"
      },
      {
        "duration": 397,
        "start_time": "2022-09-27T13:39:09.661Z"
      },
      {
        "duration": 484,
        "start_time": "2022-09-27T13:40:14.076Z"
      },
      {
        "duration": 419,
        "start_time": "2022-09-27T13:40:22.869Z"
      },
      {
        "duration": 402,
        "start_time": "2022-09-27T13:40:39.427Z"
      },
      {
        "duration": 2054,
        "start_time": "2022-09-27T13:41:05.225Z"
      },
      {
        "duration": 437,
        "start_time": "2022-09-27T13:42:33.493Z"
      },
      {
        "duration": 429,
        "start_time": "2022-09-27T13:43:53.338Z"
      },
      {
        "duration": 448,
        "start_time": "2022-09-27T13:44:07.667Z"
      },
      {
        "duration": 432,
        "start_time": "2022-09-27T13:44:39.481Z"
      },
      {
        "duration": 433,
        "start_time": "2022-09-27T13:44:49.657Z"
      },
      {
        "duration": 433,
        "start_time": "2022-09-27T13:45:00.828Z"
      },
      {
        "duration": 410,
        "start_time": "2022-09-27T13:46:30.983Z"
      },
      {
        "duration": 425,
        "start_time": "2022-09-27T13:46:52.053Z"
      },
      {
        "duration": 425,
        "start_time": "2022-09-27T13:49:51.912Z"
      },
      {
        "duration": 416,
        "start_time": "2022-09-27T13:50:03.057Z"
      },
      {
        "duration": 521,
        "start_time": "2022-09-27T13:53:27.610Z"
      },
      {
        "duration": 557,
        "start_time": "2022-09-27T13:53:41.860Z"
      },
      {
        "duration": 554,
        "start_time": "2022-09-27T13:54:38.557Z"
      },
      {
        "duration": 559,
        "start_time": "2022-09-27T13:54:51.162Z"
      },
      {
        "duration": 641,
        "start_time": "2022-09-27T13:55:38.581Z"
      },
      {
        "duration": 560,
        "start_time": "2022-09-27T13:55:51.088Z"
      },
      {
        "duration": 557,
        "start_time": "2022-09-27T13:56:10.566Z"
      },
      {
        "duration": 258,
        "start_time": "2022-09-27T14:07:03.542Z"
      },
      {
        "duration": 1107,
        "start_time": "2022-09-27T14:31:20.295Z"
      },
      {
        "duration": 26,
        "start_time": "2022-09-27T14:31:21.404Z"
      },
      {
        "duration": 3,
        "start_time": "2022-09-27T14:31:21.431Z"
      },
      {
        "duration": 17,
        "start_time": "2022-09-27T14:31:21.436Z"
      },
      {
        "duration": 5,
        "start_time": "2022-09-27T14:31:21.455Z"
      },
      {
        "duration": 11,
        "start_time": "2022-09-27T14:31:21.462Z"
      },
      {
        "duration": 12,
        "start_time": "2022-09-27T14:31:21.475Z"
      },
      {
        "duration": 16,
        "start_time": "2022-09-27T14:31:21.490Z"
      },
      {
        "duration": 10,
        "start_time": "2022-09-27T14:31:21.508Z"
      },
      {
        "duration": 51,
        "start_time": "2022-09-27T14:31:21.521Z"
      },
      {
        "duration": 10,
        "start_time": "2022-09-27T14:31:21.574Z"
      },
      {
        "duration": 10,
        "start_time": "2022-09-27T14:31:21.585Z"
      },
      {
        "duration": 26,
        "start_time": "2022-09-27T14:31:21.597Z"
      },
      {
        "duration": 5,
        "start_time": "2022-09-27T14:31:21.624Z"
      },
      {
        "duration": 11,
        "start_time": "2022-09-27T14:31:21.630Z"
      },
      {
        "duration": 15,
        "start_time": "2022-09-27T14:31:21.642Z"
      },
      {
        "duration": 47,
        "start_time": "2022-09-27T14:31:21.658Z"
      },
      {
        "duration": 7,
        "start_time": "2022-09-27T14:31:21.707Z"
      },
      {
        "duration": 297,
        "start_time": "2022-09-27T14:31:21.716Z"
      },
      {
        "duration": 10,
        "start_time": "2022-09-27T14:31:22.015Z"
      },
      {
        "duration": 425,
        "start_time": "2022-09-27T14:31:22.027Z"
      },
      {
        "duration": 100,
        "start_time": "2022-09-27T14:31:22.454Z"
      },
      {
        "duration": 62,
        "start_time": "2022-09-27T14:36:11.636Z"
      },
      {
        "duration": 309,
        "start_time": "2022-09-27T14:36:33.738Z"
      },
      {
        "duration": 309,
        "start_time": "2022-09-27T14:39:27.415Z"
      },
      {
        "duration": 4,
        "start_time": "2022-09-27T14:45:40.912Z"
      },
      {
        "duration": 11,
        "start_time": "2022-09-27T14:46:01.292Z"
      },
      {
        "duration": 9,
        "start_time": "2022-09-27T14:48:09.734Z"
      },
      {
        "duration": 106,
        "start_time": "2022-09-27T14:54:23.773Z"
      },
      {
        "duration": 201,
        "start_time": "2022-09-27T14:54:40.853Z"
      },
      {
        "duration": 4,
        "start_time": "2022-09-27T14:54:55.055Z"
      },
      {
        "duration": 338,
        "start_time": "2022-09-27T14:54:57.792Z"
      },
      {
        "duration": 58,
        "start_time": "2022-09-27T15:01:46.362Z"
      },
      {
        "duration": 7,
        "start_time": "2022-09-27T15:05:10.664Z"
      },
      {
        "duration": 8,
        "start_time": "2022-09-27T15:05:29.023Z"
      },
      {
        "duration": 7,
        "start_time": "2022-09-27T15:10:00.041Z"
      },
      {
        "duration": 8,
        "start_time": "2022-09-27T15:10:03.249Z"
      },
      {
        "duration": 4,
        "start_time": "2022-09-27T15:10:41.570Z"
      },
      {
        "duration": 3,
        "start_time": "2022-09-27T15:11:09.808Z"
      },
      {
        "duration": 9,
        "start_time": "2022-09-27T15:11:35.995Z"
      },
      {
        "duration": 431,
        "start_time": "2022-09-27T15:16:47.205Z"
      },
      {
        "duration": 412,
        "start_time": "2022-09-27T15:17:02.808Z"
      },
      {
        "duration": 422,
        "start_time": "2022-09-27T15:17:16.271Z"
      },
      {
        "duration": 68,
        "start_time": "2022-09-27T15:43:21.619Z"
      },
      {
        "duration": 59,
        "start_time": "2022-09-27T15:45:58.858Z"
      },
      {
        "duration": 57,
        "start_time": "2022-09-27T15:46:46.403Z"
      },
      {
        "duration": 45,
        "start_time": "2022-09-27T15:46:56.407Z"
      },
      {
        "duration": 55,
        "start_time": "2022-09-27T15:47:22.499Z"
      },
      {
        "duration": 7,
        "start_time": "2022-09-27T15:49:19.046Z"
      },
      {
        "duration": 7,
        "start_time": "2022-09-27T15:49:37.131Z"
      },
      {
        "duration": 68,
        "start_time": "2022-09-27T15:53:03.088Z"
      },
      {
        "duration": 499,
        "start_time": "2022-09-27T15:54:31.052Z"
      },
      {
        "duration": 420,
        "start_time": "2022-09-27T15:55:27.180Z"
      },
      {
        "duration": 4,
        "start_time": "2022-09-27T16:17:29.342Z"
      },
      {
        "duration": 7,
        "start_time": "2022-09-27T16:17:39.834Z"
      },
      {
        "duration": 2,
        "start_time": "2022-09-27T16:19:45.580Z"
      },
      {
        "duration": 9,
        "start_time": "2022-09-27T16:21:22.440Z"
      },
      {
        "duration": 250,
        "start_time": "2022-09-27T16:27:00.296Z"
      },
      {
        "duration": 236,
        "start_time": "2022-09-27T16:28:07.317Z"
      },
      {
        "duration": 8,
        "start_time": "2022-09-27T16:30:32.928Z"
      },
      {
        "duration": 3,
        "start_time": "2022-09-27T16:30:58.439Z"
      },
      {
        "duration": 236,
        "start_time": "2022-09-27T16:33:11.700Z"
      },
      {
        "duration": 56,
        "start_time": "2022-09-27T16:39:43.487Z"
      },
      {
        "duration": 89,
        "start_time": "2022-09-27T16:39:52.061Z"
      },
      {
        "duration": 6,
        "start_time": "2022-09-27T16:40:44.706Z"
      },
      {
        "duration": 48,
        "start_time": "2022-09-27T16:44:58.227Z"
      },
      {
        "duration": 233,
        "start_time": "2022-09-27T16:47:18.507Z"
      },
      {
        "duration": 240,
        "start_time": "2022-09-27T16:47:36.189Z"
      },
      {
        "duration": 3,
        "start_time": "2022-09-27T16:50:49.742Z"
      },
      {
        "duration": 271,
        "start_time": "2022-09-27T16:50:50.995Z"
      },
      {
        "duration": 239,
        "start_time": "2022-09-27T16:51:33.558Z"
      },
      {
        "duration": 238,
        "start_time": "2022-09-27T16:51:47.616Z"
      },
      {
        "duration": 5,
        "start_time": "2022-09-27T16:53:30.142Z"
      },
      {
        "duration": 6,
        "start_time": "2022-09-27T16:53:41.520Z"
      },
      {
        "duration": 6,
        "start_time": "2022-09-27T16:53:47.417Z"
      },
      {
        "duration": 5,
        "start_time": "2022-09-27T16:54:28.955Z"
      },
      {
        "duration": 47,
        "start_time": "2022-09-27T16:56:03.765Z"
      },
      {
        "duration": 6,
        "start_time": "2022-09-27T16:56:13.557Z"
      },
      {
        "duration": 11,
        "start_time": "2022-09-27T17:15:43.944Z"
      },
      {
        "duration": 11,
        "start_time": "2022-09-27T17:25:04.026Z"
      },
      {
        "duration": 10,
        "start_time": "2022-09-27T17:25:24.275Z"
      },
      {
        "duration": 8,
        "start_time": "2022-09-27T17:25:54.204Z"
      },
      {
        "duration": 8,
        "start_time": "2022-09-27T17:26:02.660Z"
      },
      {
        "duration": 9,
        "start_time": "2022-09-27T17:31:23.885Z"
      },
      {
        "duration": 9,
        "start_time": "2022-09-27T17:31:51.911Z"
      },
      {
        "duration": 9,
        "start_time": "2022-09-27T17:32:27.777Z"
      },
      {
        "duration": 7,
        "start_time": "2022-09-27T17:32:34.020Z"
      },
      {
        "duration": 26,
        "start_time": "2022-09-27T17:32:38.980Z"
      },
      {
        "duration": 17,
        "start_time": "2022-09-27T17:33:04.616Z"
      },
      {
        "duration": 3,
        "start_time": "2022-09-27T17:35:22.584Z"
      },
      {
        "duration": 47,
        "start_time": "2022-09-27T17:53:34.827Z"
      },
      {
        "duration": 58,
        "start_time": "2022-09-27T18:38:57.503Z"
      },
      {
        "duration": 34,
        "start_time": "2022-09-27T18:39:07.386Z"
      },
      {
        "duration": 27,
        "start_time": "2022-09-27T18:40:08.473Z"
      },
      {
        "duration": 6,
        "start_time": "2022-09-27T18:40:24.961Z"
      },
      {
        "duration": 28,
        "start_time": "2022-09-27T18:41:07.137Z"
      },
      {
        "duration": 21,
        "start_time": "2022-09-27T18:42:01.142Z"
      },
      {
        "duration": 23,
        "start_time": "2022-09-27T18:42:40.531Z"
      },
      {
        "duration": 1026,
        "start_time": "2022-09-27T18:42:47.759Z"
      },
      {
        "duration": 27,
        "start_time": "2022-09-27T18:42:48.787Z"
      },
      {
        "duration": 3,
        "start_time": "2022-09-27T18:42:48.815Z"
      },
      {
        "duration": 23,
        "start_time": "2022-09-27T18:42:48.820Z"
      },
      {
        "duration": 3,
        "start_time": "2022-09-27T18:42:48.845Z"
      },
      {
        "duration": 12,
        "start_time": "2022-09-27T18:42:48.849Z"
      },
      {
        "duration": 17,
        "start_time": "2022-09-27T18:42:48.863Z"
      },
      {
        "duration": 20,
        "start_time": "2022-09-27T18:42:48.881Z"
      },
      {
        "duration": 11,
        "start_time": "2022-09-27T18:42:48.903Z"
      },
      {
        "duration": 51,
        "start_time": "2022-09-27T18:42:48.916Z"
      },
      {
        "duration": 8,
        "start_time": "2022-09-27T18:42:48.968Z"
      },
      {
        "duration": 11,
        "start_time": "2022-09-27T18:42:48.977Z"
      },
      {
        "duration": 20,
        "start_time": "2022-09-27T18:42:48.990Z"
      },
      {
        "duration": 3,
        "start_time": "2022-09-27T18:42:49.012Z"
      },
      {
        "duration": 9,
        "start_time": "2022-09-27T18:42:49.017Z"
      },
      {
        "duration": 16,
        "start_time": "2022-09-27T18:42:49.027Z"
      },
      {
        "duration": 25,
        "start_time": "2022-09-27T18:42:49.045Z"
      },
      {
        "duration": 7,
        "start_time": "2022-09-27T18:42:49.072Z"
      },
      {
        "duration": 291,
        "start_time": "2022-09-27T18:42:49.080Z"
      },
      {
        "duration": 13,
        "start_time": "2022-09-27T18:42:49.373Z"
      },
      {
        "duration": 423,
        "start_time": "2022-09-27T18:42:49.389Z"
      },
      {
        "duration": 309,
        "start_time": "2022-09-27T18:42:49.814Z"
      },
      {
        "duration": 7,
        "start_time": "2022-09-27T18:42:50.125Z"
      },
      {
        "duration": 16,
        "start_time": "2022-09-27T18:42:50.134Z"
      },
      {
        "duration": 9,
        "start_time": "2022-09-27T18:42:50.152Z"
      },
      {
        "duration": 15,
        "start_time": "2022-09-27T18:42:50.162Z"
      },
      {
        "duration": 16,
        "start_time": "2022-09-27T18:42:50.179Z"
      },
      {
        "duration": 437,
        "start_time": "2022-09-27T18:42:50.198Z"
      },
      {
        "duration": 4,
        "start_time": "2022-09-27T18:42:50.637Z"
      },
      {
        "duration": 25,
        "start_time": "2022-09-27T18:42:50.643Z"
      },
      {
        "duration": 7,
        "start_time": "2022-09-27T18:42:50.669Z"
      },
      {
        "duration": 340,
        "start_time": "2022-09-27T18:42:50.677Z"
      },
      {
        "duration": 9,
        "start_time": "2022-09-27T18:42:51.019Z"
      },
      {
        "duration": 11,
        "start_time": "2022-09-27T18:42:51.030Z"
      },
      {
        "duration": 457,
        "start_time": "2022-09-27T18:42:51.042Z"
      },
      {
        "duration": 7,
        "start_time": "2022-09-27T18:42:51.502Z"
      },
      {
        "duration": 3,
        "start_time": "2022-09-27T18:42:51.511Z"
      },
      {
        "duration": 14,
        "start_time": "2022-09-27T18:42:51.516Z"
      },
      {
        "duration": 262,
        "start_time": "2022-09-27T18:42:51.532Z"
      },
      {
        "duration": 5,
        "start_time": "2022-09-27T18:42:51.796Z"
      },
      {
        "duration": 231,
        "start_time": "2022-09-27T18:42:51.803Z"
      },
      {
        "duration": 6,
        "start_time": "2022-09-27T18:42:52.036Z"
      },
      {
        "duration": 256,
        "start_time": "2022-09-27T18:42:52.044Z"
      },
      {
        "duration": 4,
        "start_time": "2022-09-27T18:42:52.302Z"
      },
      {
        "duration": 329,
        "start_time": "2022-09-27T18:42:52.307Z"
      },
      {
        "duration": 6,
        "start_time": "2022-09-27T18:42:52.638Z"
      },
      {
        "duration": 22,
        "start_time": "2022-09-27T18:42:52.645Z"
      },
      {
        "duration": 8,
        "start_time": "2022-09-27T18:42:52.669Z"
      },
      {
        "duration": 35,
        "start_time": "2022-09-27T18:42:52.679Z"
      },
      {
        "duration": 4,
        "start_time": "2022-09-27T18:42:52.716Z"
      },
      {
        "duration": 11,
        "start_time": "2022-09-27T18:42:52.722Z"
      },
      {
        "duration": 109,
        "start_time": "2022-09-27T18:42:52.735Z"
      },
      {
        "duration": 0,
        "start_time": "2022-09-27T18:42:52.846Z"
      },
      {
        "duration": 84,
        "start_time": "2022-09-27T18:43:51.381Z"
      },
      {
        "duration": 94,
        "start_time": "2022-09-27T18:43:53.393Z"
      },
      {
        "duration": 55,
        "start_time": "2022-09-27T18:45:57.340Z"
      },
      {
        "duration": 40,
        "start_time": "2022-09-27T18:46:34.385Z"
      },
      {
        "duration": 83,
        "start_time": "2022-09-27T18:46:52.419Z"
      },
      {
        "duration": 28,
        "start_time": "2022-09-27T18:46:55.637Z"
      },
      {
        "duration": 10,
        "start_time": "2022-09-27T18:47:43.969Z"
      },
      {
        "duration": 4,
        "start_time": "2022-09-27T18:52:29.457Z"
      },
      {
        "duration": 3,
        "start_time": "2022-09-27T18:53:16.092Z"
      },
      {
        "duration": 4,
        "start_time": "2022-09-27T18:53:29.792Z"
      },
      {
        "duration": 13,
        "start_time": "2022-09-27T18:53:59.981Z"
      },
      {
        "duration": 8,
        "start_time": "2022-09-27T18:55:29.206Z"
      },
      {
        "duration": 1133,
        "start_time": "2022-09-27T18:56:27.663Z"
      },
      {
        "duration": 27,
        "start_time": "2022-09-27T18:56:28.800Z"
      },
      {
        "duration": 3,
        "start_time": "2022-09-27T18:56:28.828Z"
      },
      {
        "duration": 18,
        "start_time": "2022-09-27T18:56:28.833Z"
      },
      {
        "duration": 3,
        "start_time": "2022-09-27T18:56:28.854Z"
      },
      {
        "duration": 10,
        "start_time": "2022-09-27T18:56:28.858Z"
      },
      {
        "duration": 15,
        "start_time": "2022-09-27T18:56:28.870Z"
      },
      {
        "duration": 21,
        "start_time": "2022-09-27T18:56:28.886Z"
      },
      {
        "duration": 15,
        "start_time": "2022-09-27T18:56:28.909Z"
      },
      {
        "duration": 52,
        "start_time": "2022-09-27T18:56:28.926Z"
      },
      {
        "duration": 9,
        "start_time": "2022-09-27T18:56:28.979Z"
      },
      {
        "duration": 13,
        "start_time": "2022-09-27T18:56:28.990Z"
      },
      {
        "duration": 19,
        "start_time": "2022-09-27T18:56:29.004Z"
      },
      {
        "duration": 4,
        "start_time": "2022-09-27T18:56:29.026Z"
      },
      {
        "duration": 10,
        "start_time": "2022-09-27T18:56:29.031Z"
      },
      {
        "duration": 15,
        "start_time": "2022-09-27T18:56:29.042Z"
      },
      {
        "duration": 57,
        "start_time": "2022-09-27T18:56:29.060Z"
      },
      {
        "duration": 13,
        "start_time": "2022-09-27T18:56:29.119Z"
      },
      {
        "duration": 290,
        "start_time": "2022-09-27T18:56:29.134Z"
      },
      {
        "duration": 12,
        "start_time": "2022-09-27T18:56:29.426Z"
      },
      {
        "duration": 425,
        "start_time": "2022-09-27T18:56:29.439Z"
      },
      {
        "duration": 336,
        "start_time": "2022-09-27T18:56:29.866Z"
      },
      {
        "duration": 8,
        "start_time": "2022-09-27T18:56:30.203Z"
      },
      {
        "duration": 36,
        "start_time": "2022-09-27T18:56:30.212Z"
      },
      {
        "duration": 37,
        "start_time": "2022-09-27T18:56:30.250Z"
      },
      {
        "duration": 40,
        "start_time": "2022-09-27T18:56:30.288Z"
      },
      {
        "duration": 40,
        "start_time": "2022-09-27T18:56:30.330Z"
      },
      {
        "duration": 470,
        "start_time": "2022-09-27T18:56:30.372Z"
      },
      {
        "duration": 4,
        "start_time": "2022-09-27T18:56:30.843Z"
      },
      {
        "duration": 16,
        "start_time": "2022-09-27T18:56:30.848Z"
      },
      {
        "duration": 15,
        "start_time": "2022-09-27T18:56:30.865Z"
      },
      {
        "duration": 354,
        "start_time": "2022-09-27T18:56:30.881Z"
      },
      {
        "duration": 8,
        "start_time": "2022-09-27T18:56:31.236Z"
      },
      {
        "duration": 39,
        "start_time": "2022-09-27T18:56:31.245Z"
      },
      {
        "duration": 450,
        "start_time": "2022-09-27T18:56:31.286Z"
      },
      {
        "duration": 6,
        "start_time": "2022-09-27T18:56:31.738Z"
      },
      {
        "duration": 9,
        "start_time": "2022-09-27T18:56:31.746Z"
      },
      {
        "duration": 16,
        "start_time": "2022-09-27T18:56:31.756Z"
      },
      {
        "duration": 255,
        "start_time": "2022-09-27T18:56:31.774Z"
      },
      {
        "duration": 3,
        "start_time": "2022-09-27T18:56:32.030Z"
      },
      {
        "duration": 254,
        "start_time": "2022-09-27T18:56:32.037Z"
      },
      {
        "duration": 8,
        "start_time": "2022-09-27T18:56:32.293Z"
      },
      {
        "duration": 255,
        "start_time": "2022-09-27T18:56:32.302Z"
      },
      {
        "duration": 3,
        "start_time": "2022-09-27T18:56:32.559Z"
      },
      {
        "duration": 315,
        "start_time": "2022-09-27T18:56:32.563Z"
      },
      {
        "duration": 6,
        "start_time": "2022-09-27T18:56:32.879Z"
      },
      {
        "duration": 22,
        "start_time": "2022-09-27T18:56:32.886Z"
      },
      {
        "duration": 7,
        "start_time": "2022-09-27T18:56:32.910Z"
      },
      {
        "duration": 26,
        "start_time": "2022-09-27T18:56:32.918Z"
      },
      {
        "duration": 3,
        "start_time": "2022-09-27T18:56:32.946Z"
      },
      {
        "duration": 15,
        "start_time": "2022-09-27T18:56:32.951Z"
      },
      {
        "duration": 4,
        "start_time": "2022-09-27T18:57:28.807Z"
      },
      {
        "duration": 204,
        "start_time": "2022-09-27T19:09:29.532Z"
      },
      {
        "duration": 206,
        "start_time": "2022-09-27T19:09:54.383Z"
      },
      {
        "duration": 132,
        "start_time": "2022-09-27T19:10:50.456Z"
      },
      {
        "duration": 13,
        "start_time": "2022-09-27T19:18:32.621Z"
      },
      {
        "duration": 8,
        "start_time": "2022-09-27T19:18:47.171Z"
      },
      {
        "duration": 21,
        "start_time": "2022-09-27T19:22:04.447Z"
      },
      {
        "duration": 117,
        "start_time": "2022-09-27T19:25:26.168Z"
      },
      {
        "duration": 11,
        "start_time": "2022-09-27T19:25:37.986Z"
      },
      {
        "duration": 19,
        "start_time": "2022-09-27T19:25:47.086Z"
      },
      {
        "duration": 10,
        "start_time": "2022-09-27T19:28:40.511Z"
      },
      {
        "duration": 9,
        "start_time": "2022-09-27T19:28:50.418Z"
      },
      {
        "duration": 2774,
        "start_time": "2022-09-27T19:30:01.470Z"
      },
      {
        "duration": 8,
        "start_time": "2022-09-27T19:30:31.694Z"
      },
      {
        "duration": 1081,
        "start_time": "2022-09-27T19:42:22.614Z"
      },
      {
        "duration": 26,
        "start_time": "2022-09-27T19:42:23.697Z"
      },
      {
        "duration": 2,
        "start_time": "2022-09-27T19:42:23.725Z"
      },
      {
        "duration": 16,
        "start_time": "2022-09-27T19:42:23.729Z"
      },
      {
        "duration": 3,
        "start_time": "2022-09-27T19:42:23.746Z"
      },
      {
        "duration": 8,
        "start_time": "2022-09-27T19:42:23.751Z"
      },
      {
        "duration": 13,
        "start_time": "2022-09-27T19:42:23.760Z"
      },
      {
        "duration": 10,
        "start_time": "2022-09-27T19:42:23.774Z"
      },
      {
        "duration": 15,
        "start_time": "2022-09-27T19:42:23.785Z"
      },
      {
        "duration": 48,
        "start_time": "2022-09-27T19:42:23.802Z"
      },
      {
        "duration": 7,
        "start_time": "2022-09-27T19:42:23.852Z"
      },
      {
        "duration": 11,
        "start_time": "2022-09-27T19:42:23.861Z"
      },
      {
        "duration": 18,
        "start_time": "2022-09-27T19:42:23.873Z"
      },
      {
        "duration": 3,
        "start_time": "2022-09-27T19:42:23.892Z"
      },
      {
        "duration": 9,
        "start_time": "2022-09-27T19:42:23.896Z"
      },
      {
        "duration": 16,
        "start_time": "2022-09-27T19:42:23.906Z"
      },
      {
        "duration": 20,
        "start_time": "2022-09-27T19:42:23.924Z"
      },
      {
        "duration": 6,
        "start_time": "2022-09-27T19:42:23.946Z"
      },
      {
        "duration": 311,
        "start_time": "2022-09-27T19:42:23.954Z"
      },
      {
        "duration": 10,
        "start_time": "2022-09-27T19:42:24.267Z"
      },
      {
        "duration": 493,
        "start_time": "2022-09-27T19:42:24.279Z"
      },
      {
        "duration": 306,
        "start_time": "2022-09-27T19:42:24.773Z"
      },
      {
        "duration": 7,
        "start_time": "2022-09-27T19:42:25.080Z"
      },
      {
        "duration": 22,
        "start_time": "2022-09-27T19:42:25.089Z"
      },
      {
        "duration": 22,
        "start_time": "2022-09-27T19:42:25.113Z"
      },
      {
        "duration": 26,
        "start_time": "2022-09-27T19:42:25.136Z"
      },
      {
        "duration": 20,
        "start_time": "2022-09-27T19:42:25.163Z"
      },
      {
        "duration": 443,
        "start_time": "2022-09-27T19:42:25.187Z"
      },
      {
        "duration": 4,
        "start_time": "2022-09-27T19:42:25.632Z"
      },
      {
        "duration": 29,
        "start_time": "2022-09-27T19:42:25.637Z"
      },
      {
        "duration": 14,
        "start_time": "2022-09-27T19:42:25.667Z"
      },
      {
        "duration": 350,
        "start_time": "2022-09-27T19:42:25.683Z"
      },
      {
        "duration": 7,
        "start_time": "2022-09-27T19:42:26.035Z"
      },
      {
        "duration": 10,
        "start_time": "2022-09-27T19:42:26.043Z"
      },
      {
        "duration": 436,
        "start_time": "2022-09-27T19:42:26.055Z"
      },
      {
        "duration": 11,
        "start_time": "2022-09-27T19:42:26.492Z"
      },
      {
        "duration": 4,
        "start_time": "2022-09-27T19:42:26.505Z"
      },
      {
        "duration": 11,
        "start_time": "2022-09-27T19:42:26.511Z"
      },
      {
        "duration": 256,
        "start_time": "2022-09-27T19:42:26.524Z"
      },
      {
        "duration": 3,
        "start_time": "2022-09-27T19:42:26.781Z"
      },
      {
        "duration": 238,
        "start_time": "2022-09-27T19:42:26.786Z"
      },
      {
        "duration": 5,
        "start_time": "2022-09-27T19:42:27.025Z"
      },
      {
        "duration": 268,
        "start_time": "2022-09-27T19:42:27.032Z"
      },
      {
        "duration": 3,
        "start_time": "2022-09-27T19:42:27.301Z"
      },
      {
        "duration": 323,
        "start_time": "2022-09-27T19:42:27.305Z"
      },
      {
        "duration": 5,
        "start_time": "2022-09-27T19:42:27.629Z"
      },
      {
        "duration": 11,
        "start_time": "2022-09-27T19:42:27.636Z"
      },
      {
        "duration": 7,
        "start_time": "2022-09-27T19:42:27.648Z"
      },
      {
        "duration": 26,
        "start_time": "2022-09-27T19:42:27.656Z"
      },
      {
        "duration": 4,
        "start_time": "2022-09-27T19:42:27.700Z"
      },
      {
        "duration": 13,
        "start_time": "2022-09-27T19:42:27.705Z"
      },
      {
        "duration": 3,
        "start_time": "2022-09-27T19:42:27.719Z"
      },
      {
        "duration": 144,
        "start_time": "2022-09-27T19:42:27.724Z"
      },
      {
        "duration": 9,
        "start_time": "2022-09-27T19:42:27.870Z"
      },
      {
        "duration": 33,
        "start_time": "2022-09-27T19:42:27.881Z"
      },
      {
        "duration": 11,
        "start_time": "2022-09-27T19:42:27.915Z"
      },
      {
        "duration": 9,
        "start_time": "2022-09-27T19:42:27.928Z"
      },
      {
        "duration": 4,
        "start_time": "2022-09-27T19:48:25.768Z"
      },
      {
        "duration": 4,
        "start_time": "2022-09-27T19:49:54.864Z"
      },
      {
        "duration": 1052,
        "start_time": "2022-09-27T19:51:28.661Z"
      },
      {
        "duration": 26,
        "start_time": "2022-09-27T19:51:29.715Z"
      },
      {
        "duration": 2,
        "start_time": "2022-09-27T19:51:29.743Z"
      },
      {
        "duration": 16,
        "start_time": "2022-09-27T19:51:29.747Z"
      },
      {
        "duration": 13,
        "start_time": "2022-09-27T19:51:29.764Z"
      },
      {
        "duration": 22,
        "start_time": "2022-09-27T19:51:29.779Z"
      },
      {
        "duration": 17,
        "start_time": "2022-09-27T19:51:29.802Z"
      },
      {
        "duration": 13,
        "start_time": "2022-09-27T19:51:29.820Z"
      },
      {
        "duration": 24,
        "start_time": "2022-09-27T19:51:29.835Z"
      },
      {
        "duration": 52,
        "start_time": "2022-09-27T19:51:29.861Z"
      },
      {
        "duration": 7,
        "start_time": "2022-09-27T19:51:29.914Z"
      },
      {
        "duration": 12,
        "start_time": "2022-09-27T19:51:29.922Z"
      },
      {
        "duration": 21,
        "start_time": "2022-09-27T19:51:29.935Z"
      },
      {
        "duration": 6,
        "start_time": "2022-09-27T19:51:29.957Z"
      },
      {
        "duration": 10,
        "start_time": "2022-09-27T19:51:29.964Z"
      },
      {
        "duration": 14,
        "start_time": "2022-09-27T19:51:29.975Z"
      },
      {
        "duration": 18,
        "start_time": "2022-09-27T19:51:29.992Z"
      },
      {
        "duration": 11,
        "start_time": "2022-09-27T19:51:30.011Z"
      },
      {
        "duration": 18,
        "start_time": "2022-09-27T19:51:30.023Z"
      },
      {
        "duration": 269,
        "start_time": "2022-09-27T19:51:30.043Z"
      },
      {
        "duration": 11,
        "start_time": "2022-09-27T19:51:30.313Z"
      },
      {
        "duration": 404,
        "start_time": "2022-09-27T19:51:30.325Z"
      },
      {
        "duration": 297,
        "start_time": "2022-09-27T19:51:30.731Z"
      },
      {
        "duration": 8,
        "start_time": "2022-09-27T19:51:31.029Z"
      },
      {
        "duration": 19,
        "start_time": "2022-09-27T19:51:31.038Z"
      },
      {
        "duration": 17,
        "start_time": "2022-09-27T19:51:31.059Z"
      },
      {
        "duration": 12,
        "start_time": "2022-09-27T19:51:31.077Z"
      },
      {
        "duration": 12,
        "start_time": "2022-09-27T19:51:31.093Z"
      },
      {
        "duration": 418,
        "start_time": "2022-09-27T19:51:31.106Z"
      },
      {
        "duration": 4,
        "start_time": "2022-09-27T19:51:31.526Z"
      },
      {
        "duration": 26,
        "start_time": "2022-09-27T19:51:31.532Z"
      },
      {
        "duration": 20,
        "start_time": "2022-09-27T19:51:31.560Z"
      },
      {
        "duration": 348,
        "start_time": "2022-09-27T19:51:31.581Z"
      },
      {
        "duration": 9,
        "start_time": "2022-09-27T19:51:31.931Z"
      },
      {
        "duration": 11,
        "start_time": "2022-09-27T19:51:31.941Z"
      },
      {
        "duration": 427,
        "start_time": "2022-09-27T19:51:31.954Z"
      },
      {
        "duration": 6,
        "start_time": "2022-09-27T19:51:32.382Z"
      },
      {
        "duration": 3,
        "start_time": "2022-09-27T19:51:32.400Z"
      },
      {
        "duration": 10,
        "start_time": "2022-09-27T19:51:32.404Z"
      },
      {
        "duration": 257,
        "start_time": "2022-09-27T19:51:32.415Z"
      },
      {
        "duration": 4,
        "start_time": "2022-09-27T19:51:32.673Z"
      },
      {
        "duration": 247,
        "start_time": "2022-09-27T19:51:32.679Z"
      },
      {
        "duration": 4,
        "start_time": "2022-09-27T19:51:32.928Z"
      },
      {
        "duration": 248,
        "start_time": "2022-09-27T19:51:32.934Z"
      },
      {
        "duration": 3,
        "start_time": "2022-09-27T19:51:33.183Z"
      },
      {
        "duration": 321,
        "start_time": "2022-09-27T19:51:33.187Z"
      },
      {
        "duration": 6,
        "start_time": "2022-09-27T19:51:33.510Z"
      },
      {
        "duration": 18,
        "start_time": "2022-09-27T19:51:33.518Z"
      },
      {
        "duration": 9,
        "start_time": "2022-09-27T19:51:33.538Z"
      },
      {
        "duration": 21,
        "start_time": "2022-09-27T19:51:33.548Z"
      },
      {
        "duration": 4,
        "start_time": "2022-09-27T19:51:33.571Z"
      },
      {
        "duration": 32,
        "start_time": "2022-09-27T19:51:33.576Z"
      },
      {
        "duration": 4,
        "start_time": "2022-09-27T19:51:33.609Z"
      },
      {
        "duration": 174,
        "start_time": "2022-09-27T19:51:33.614Z"
      },
      {
        "duration": 18,
        "start_time": "2022-09-27T19:51:33.790Z"
      },
      {
        "duration": 23,
        "start_time": "2022-09-27T19:51:33.810Z"
      },
      {
        "duration": 10,
        "start_time": "2022-09-27T19:51:33.835Z"
      },
      {
        "duration": 10,
        "start_time": "2022-09-27T19:51:33.847Z"
      },
      {
        "duration": 1325,
        "start_time": "2022-09-28T10:59:20.559Z"
      },
      {
        "duration": 85,
        "start_time": "2022-09-28T10:59:21.886Z"
      },
      {
        "duration": 3,
        "start_time": "2022-09-28T10:59:21.973Z"
      },
      {
        "duration": 41,
        "start_time": "2022-09-28T10:59:21.977Z"
      },
      {
        "duration": 9,
        "start_time": "2022-09-28T10:59:22.020Z"
      },
      {
        "duration": 28,
        "start_time": "2022-09-28T10:59:22.030Z"
      },
      {
        "duration": 12,
        "start_time": "2022-09-28T10:59:22.060Z"
      },
      {
        "duration": 18,
        "start_time": "2022-09-28T10:59:22.073Z"
      },
      {
        "duration": 42,
        "start_time": "2022-09-28T10:59:22.093Z"
      },
      {
        "duration": 154,
        "start_time": "2022-09-28T10:59:22.139Z"
      },
      {
        "duration": 10,
        "start_time": "2022-09-28T10:59:22.294Z"
      },
      {
        "duration": 14,
        "start_time": "2022-09-28T10:59:22.306Z"
      },
      {
        "duration": 37,
        "start_time": "2022-09-28T10:59:22.322Z"
      },
      {
        "duration": 32,
        "start_time": "2022-09-28T10:59:22.361Z"
      },
      {
        "duration": 25,
        "start_time": "2022-09-28T10:59:22.394Z"
      },
      {
        "duration": 44,
        "start_time": "2022-09-28T10:59:22.421Z"
      },
      {
        "duration": 24,
        "start_time": "2022-09-28T10:59:22.467Z"
      },
      {
        "duration": 33,
        "start_time": "2022-09-28T10:59:22.492Z"
      },
      {
        "duration": 15,
        "start_time": "2022-09-28T10:59:22.527Z"
      },
      {
        "duration": 309,
        "start_time": "2022-09-28T10:59:22.544Z"
      },
      {
        "duration": 9,
        "start_time": "2022-09-28T10:59:22.855Z"
      },
      {
        "duration": 482,
        "start_time": "2022-09-28T10:59:22.866Z"
      },
      {
        "duration": 336,
        "start_time": "2022-09-28T10:59:23.349Z"
      },
      {
        "duration": 8,
        "start_time": "2022-09-28T10:59:23.687Z"
      },
      {
        "duration": 11,
        "start_time": "2022-09-28T10:59:23.696Z"
      },
      {
        "duration": 6,
        "start_time": "2022-09-28T10:59:23.709Z"
      },
      {
        "duration": 24,
        "start_time": "2022-09-28T10:59:23.716Z"
      },
      {
        "duration": 10,
        "start_time": "2022-09-28T10:59:23.744Z"
      },
      {
        "duration": 492,
        "start_time": "2022-09-28T10:59:23.756Z"
      },
      {
        "duration": 6,
        "start_time": "2022-09-28T10:59:24.251Z"
      },
      {
        "duration": 23,
        "start_time": "2022-09-28T10:59:24.259Z"
      },
      {
        "duration": 7,
        "start_time": "2022-09-28T10:59:24.284Z"
      },
      {
        "duration": 407,
        "start_time": "2022-09-28T10:59:24.292Z"
      },
      {
        "duration": 9,
        "start_time": "2022-09-28T10:59:24.702Z"
      },
      {
        "duration": 27,
        "start_time": "2022-09-28T10:59:24.713Z"
      },
      {
        "duration": 519,
        "start_time": "2022-09-28T10:59:24.741Z"
      },
      {
        "duration": 6,
        "start_time": "2022-09-28T10:59:25.263Z"
      },
      {
        "duration": 6,
        "start_time": "2022-09-28T10:59:25.271Z"
      },
      {
        "duration": 14,
        "start_time": "2022-09-28T10:59:25.279Z"
      },
      {
        "duration": 286,
        "start_time": "2022-09-28T10:59:25.295Z"
      },
      {
        "duration": 3,
        "start_time": "2022-09-28T10:59:25.584Z"
      },
      {
        "duration": 300,
        "start_time": "2022-09-28T10:59:25.588Z"
      },
      {
        "duration": 8,
        "start_time": "2022-09-28T10:59:25.890Z"
      },
      {
        "duration": 298,
        "start_time": "2022-09-28T10:59:25.899Z"
      },
      {
        "duration": 4,
        "start_time": "2022-09-28T10:59:26.199Z"
      },
      {
        "duration": 401,
        "start_time": "2022-09-28T10:59:26.204Z"
      },
      {
        "duration": 9,
        "start_time": "2022-09-28T10:59:26.607Z"
      },
      {
        "duration": 25,
        "start_time": "2022-09-28T10:59:26.618Z"
      },
      {
        "duration": 9,
        "start_time": "2022-09-28T10:59:26.645Z"
      },
      {
        "duration": 25,
        "start_time": "2022-09-28T10:59:26.655Z"
      },
      {
        "duration": 4,
        "start_time": "2022-09-28T10:59:26.682Z"
      },
      {
        "duration": 14,
        "start_time": "2022-09-28T10:59:26.688Z"
      },
      {
        "duration": 35,
        "start_time": "2022-09-28T10:59:26.704Z"
      },
      {
        "duration": 181,
        "start_time": "2022-09-28T10:59:26.741Z"
      },
      {
        "duration": 19,
        "start_time": "2022-09-28T10:59:26.924Z"
      },
      {
        "duration": 27,
        "start_time": "2022-09-28T10:59:26.945Z"
      },
      {
        "duration": 14,
        "start_time": "2022-09-28T10:59:26.974Z"
      },
      {
        "duration": 16,
        "start_time": "2022-09-28T10:59:26.990Z"
      },
      {
        "duration": 470,
        "start_time": "2022-09-28T11:12:03.378Z"
      },
      {
        "duration": 155,
        "start_time": "2022-09-28T12:07:16.172Z"
      },
      {
        "duration": 9,
        "start_time": "2022-09-28T12:07:19.005Z"
      },
      {
        "duration": 24,
        "start_time": "2022-09-28T12:07:24.209Z"
      },
      {
        "duration": 11,
        "start_time": "2022-09-28T12:07:55.913Z"
      },
      {
        "duration": 11,
        "start_time": "2022-09-28T12:08:03.592Z"
      },
      {
        "duration": 13,
        "start_time": "2022-09-28T12:08:07.401Z"
      },
      {
        "duration": 4,
        "start_time": "2022-09-28T12:11:12.632Z"
      },
      {
        "duration": 4,
        "start_time": "2022-09-28T12:12:02.850Z"
      },
      {
        "duration": 1396,
        "start_time": "2022-09-28T12:40:36.412Z"
      },
      {
        "duration": 29,
        "start_time": "2022-09-28T12:40:37.811Z"
      },
      {
        "duration": 3,
        "start_time": "2022-09-28T12:40:37.843Z"
      },
      {
        "duration": 36,
        "start_time": "2022-09-28T12:40:37.849Z"
      },
      {
        "duration": 32,
        "start_time": "2022-09-28T12:40:37.887Z"
      },
      {
        "duration": 22,
        "start_time": "2022-09-28T12:40:37.921Z"
      },
      {
        "duration": 39,
        "start_time": "2022-09-28T12:40:37.945Z"
      },
      {
        "duration": 38,
        "start_time": "2022-09-28T12:40:37.986Z"
      },
      {
        "duration": 38,
        "start_time": "2022-09-28T12:40:38.026Z"
      },
      {
        "duration": 68,
        "start_time": "2022-09-28T12:40:38.067Z"
      },
      {
        "duration": 9,
        "start_time": "2022-09-28T12:40:38.137Z"
      },
      {
        "duration": 25,
        "start_time": "2022-09-28T12:40:38.148Z"
      },
      {
        "duration": 31,
        "start_time": "2022-09-28T12:40:38.175Z"
      },
      {
        "duration": 9,
        "start_time": "2022-09-28T12:40:38.208Z"
      },
      {
        "duration": 22,
        "start_time": "2022-09-28T12:40:38.219Z"
      },
      {
        "duration": 22,
        "start_time": "2022-09-28T12:40:38.243Z"
      },
      {
        "duration": 24,
        "start_time": "2022-09-28T12:40:38.267Z"
      },
      {
        "duration": 8,
        "start_time": "2022-09-28T12:40:38.293Z"
      },
      {
        "duration": 39,
        "start_time": "2022-09-28T12:40:38.302Z"
      },
      {
        "duration": 356,
        "start_time": "2022-09-28T12:40:38.345Z"
      },
      {
        "duration": 18,
        "start_time": "2022-09-28T12:40:38.704Z"
      },
      {
        "duration": 496,
        "start_time": "2022-09-28T12:40:38.724Z"
      },
      {
        "duration": 339,
        "start_time": "2022-09-28T12:40:39.222Z"
      },
      {
        "duration": 8,
        "start_time": "2022-09-28T12:40:39.563Z"
      },
      {
        "duration": 10,
        "start_time": "2022-09-28T12:40:39.573Z"
      },
      {
        "duration": 5,
        "start_time": "2022-09-28T12:40:39.585Z"
      },
      {
        "duration": 7,
        "start_time": "2022-09-28T12:40:39.591Z"
      },
      {
        "duration": 42,
        "start_time": "2022-09-28T12:40:39.601Z"
      },
      {
        "duration": 500,
        "start_time": "2022-09-28T12:40:39.645Z"
      },
      {
        "duration": 5,
        "start_time": "2022-09-28T12:40:40.147Z"
      },
      {
        "duration": 12,
        "start_time": "2022-09-28T12:40:40.153Z"
      },
      {
        "duration": 6,
        "start_time": "2022-09-28T12:40:40.168Z"
      },
      {
        "duration": 424,
        "start_time": "2022-09-28T12:40:40.176Z"
      },
      {
        "duration": 8,
        "start_time": "2022-09-28T12:40:40.601Z"
      },
      {
        "duration": 34,
        "start_time": "2022-09-28T12:40:40.611Z"
      },
      {
        "duration": 495,
        "start_time": "2022-09-28T12:40:40.647Z"
      },
      {
        "duration": 6,
        "start_time": "2022-09-28T12:40:41.144Z"
      },
      {
        "duration": 6,
        "start_time": "2022-09-28T12:40:41.151Z"
      },
      {
        "duration": 13,
        "start_time": "2022-09-28T12:40:41.159Z"
      },
      {
        "duration": 294,
        "start_time": "2022-09-28T12:40:41.174Z"
      },
      {
        "duration": 4,
        "start_time": "2022-09-28T12:40:41.470Z"
      },
      {
        "duration": 319,
        "start_time": "2022-09-28T12:40:41.475Z"
      },
      {
        "duration": 6,
        "start_time": "2022-09-28T12:40:41.796Z"
      },
      {
        "duration": 1349,
        "start_time": "2022-09-28T18:40:39.157Z"
      },
      {
        "duration": 87,
        "start_time": "2022-09-28T18:40:40.508Z"
      },
      {
        "duration": 3,
        "start_time": "2022-09-28T18:40:40.596Z"
      },
      {
        "duration": 15,
        "start_time": "2022-09-28T18:40:40.601Z"
      },
      {
        "duration": 3,
        "start_time": "2022-09-28T18:40:40.618Z"
      },
      {
        "duration": 12,
        "start_time": "2022-09-28T18:40:40.622Z"
      },
      {
        "duration": 14,
        "start_time": "2022-09-28T18:40:40.635Z"
      },
      {
        "duration": 12,
        "start_time": "2022-09-28T18:40:40.650Z"
      },
      {
        "duration": 41,
        "start_time": "2022-09-28T18:40:40.663Z"
      },
      {
        "duration": 143,
        "start_time": "2022-09-28T18:40:40.706Z"
      },
      {
        "duration": 9,
        "start_time": "2022-09-28T18:40:40.851Z"
      },
      {
        "duration": 9,
        "start_time": "2022-09-28T18:40:40.862Z"
      },
      {
        "duration": 21,
        "start_time": "2022-09-28T18:40:40.872Z"
      },
      {
        "duration": 3,
        "start_time": "2022-09-28T18:40:40.894Z"
      },
      {
        "duration": 10,
        "start_time": "2022-09-28T18:40:40.898Z"
      },
      {
        "duration": 15,
        "start_time": "2022-09-28T18:40:40.909Z"
      },
      {
        "duration": 20,
        "start_time": "2022-09-28T18:40:40.926Z"
      },
      {
        "duration": 6,
        "start_time": "2022-09-28T18:40:40.947Z"
      },
      {
        "duration": 6,
        "start_time": "2022-09-28T18:40:40.955Z"
      },
      {
        "duration": 336,
        "start_time": "2022-09-28T18:40:40.962Z"
      },
      {
        "duration": 10,
        "start_time": "2022-09-28T18:40:41.300Z"
      },
      {
        "duration": 501,
        "start_time": "2022-09-28T18:40:41.311Z"
      },
      {
        "duration": 334,
        "start_time": "2022-09-28T18:40:41.815Z"
      },
      {
        "duration": 8,
        "start_time": "2022-09-28T18:40:42.150Z"
      },
      {
        "duration": 11,
        "start_time": "2022-09-28T18:40:42.160Z"
      },
      {
        "duration": 6,
        "start_time": "2022-09-28T18:40:42.173Z"
      },
      {
        "duration": 4,
        "start_time": "2022-09-28T18:40:42.196Z"
      },
      {
        "duration": 11,
        "start_time": "2022-09-28T18:40:42.204Z"
      },
      {
        "duration": 502,
        "start_time": "2022-09-28T18:40:42.217Z"
      },
      {
        "duration": 5,
        "start_time": "2022-09-28T18:40:42.721Z"
      },
      {
        "duration": 12,
        "start_time": "2022-09-28T18:40:42.728Z"
      },
      {
        "duration": 6,
        "start_time": "2022-09-28T18:40:42.741Z"
      },
      {
        "duration": 418,
        "start_time": "2022-09-28T18:40:42.748Z"
      },
      {
        "duration": 8,
        "start_time": "2022-09-28T18:40:43.168Z"
      },
      {
        "duration": 22,
        "start_time": "2022-09-28T18:40:43.178Z"
      },
      {
        "duration": 467,
        "start_time": "2022-09-28T18:40:43.202Z"
      },
      {
        "duration": 6,
        "start_time": "2022-09-28T18:40:43.671Z"
      },
      {
        "duration": 3,
        "start_time": "2022-09-28T18:40:43.678Z"
      },
      {
        "duration": 18,
        "start_time": "2022-09-28T18:40:43.683Z"
      },
      {
        "duration": 268,
        "start_time": "2022-09-28T18:40:43.703Z"
      },
      {
        "duration": 4,
        "start_time": "2022-09-28T18:40:43.973Z"
      },
      {
        "duration": 274,
        "start_time": "2022-09-28T18:40:43.978Z"
      },
      {
        "duration": 6,
        "start_time": "2022-09-28T18:40:44.254Z"
      },
      {
        "duration": 291,
        "start_time": "2022-09-28T18:40:44.262Z"
      },
      {
        "duration": 3,
        "start_time": "2022-09-28T18:40:44.555Z"
      },
      {
        "duration": 360,
        "start_time": "2022-09-28T18:40:44.560Z"
      },
      {
        "duration": 6,
        "start_time": "2022-09-28T18:40:44.922Z"
      },
      {
        "duration": 22,
        "start_time": "2022-09-28T18:40:44.929Z"
      },
      {
        "duration": 8,
        "start_time": "2022-09-28T18:40:44.952Z"
      },
      {
        "duration": 34,
        "start_time": "2022-09-28T18:40:44.961Z"
      },
      {
        "duration": 3,
        "start_time": "2022-09-28T18:40:44.997Z"
      },
      {
        "duration": 41,
        "start_time": "2022-09-28T18:40:45.002Z"
      },
      {
        "duration": 11,
        "start_time": "2022-09-28T18:40:45.045Z"
      },
      {
        "duration": 171,
        "start_time": "2022-09-28T18:40:45.058Z"
      },
      {
        "duration": 9,
        "start_time": "2022-09-28T18:40:45.231Z"
      },
      {
        "duration": 23,
        "start_time": "2022-09-28T18:40:45.242Z"
      },
      {
        "duration": 3,
        "start_time": "2022-09-28T18:40:45.267Z"
      },
      {
        "duration": 13,
        "start_time": "2022-09-28T18:40:45.296Z"
      },
      {
        "duration": 8,
        "start_time": "2022-09-28T18:40:45.311Z"
      }
    ],
    "kernelspec": {
      "display_name": "Python 3 (ipykernel)",
      "language": "python",
      "name": "python3"
    },
    "language_info": {
      "codemirror_mode": {
        "name": "ipython",
        "version": 3
      },
      "file_extension": ".py",
      "mimetype": "text/x-python",
      "name": "python",
      "nbconvert_exporter": "python",
      "pygments_lexer": "ipython3",
      "version": "3.9.5"
    },
    "toc": {
      "base_numbering": 1,
      "nav_menu": {},
      "number_sections": true,
      "sideBar": true,
      "skip_h1_title": true,
      "title_cell": "Table of Contents",
      "title_sidebar": "Contents",
      "toc_cell": false,
      "toc_position": {},
      "toc_section_display": true,
      "toc_window_display": false
    },
    "colab": {
      "provenance": []
    }
  },
  "nbformat": 4,
  "nbformat_minor": 0
}