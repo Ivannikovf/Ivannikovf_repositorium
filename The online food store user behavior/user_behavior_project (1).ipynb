{
  "cells": [
    {
      "cell_type": "markdown",
      "metadata": {
        "id": "v4m_MezCzHsW"
      },
      "source": [
        "# The online food store user behavior"
      ]
    },
    {
      "cell_type": "markdown",
      "metadata": {
        "id": "BOqRI-9yzHsX"
      },
      "source": [
        "**Description of the project**\n",
        "\n",
        "For a startup - an online grocery store, you need to figure out how users of a mobile application behave.\n",
        "\n",
        "Project objective:\n",
        "1. Study the sales funnel: understand how and how many users reach the purchase. And how much - \"gets stuck\" on the previous steps, and on which ones.\n",
        "2. Explore the results of an A/A/B experiment: the impact of changing the font in the application on user behavior.\n"
      ]
    },
    {
      "cell_type": "code",
      "source": [
        "from google.colab import drive\n",
        "drive.mount('/content/drive')"
      ],
      "metadata": {
        "colab": {
          "base_uri": "https://localhost:8080/"
        },
        "id": "H1gbEYoSSmJ9",
        "outputId": "b9a81c01-840a-4f57-da3e-3768350c9c5d"
      },
      "execution_count": 1,
      "outputs": [
        {
          "output_type": "stream",
          "name": "stdout",
          "text": [
            "Drive already mounted at /content/drive; to attempt to forcibly remount, call drive.mount(\"/content/drive\", force_remount=True).\n"
          ]
        }
      ]
    },
    {
      "cell_type": "markdown",
      "metadata": {
        "id": "UoL3yJK4zHsY"
      },
      "source": [
        "**Project Structure**\n",
        "1. Data Acquaintance<br/>\n",
        "2. Data preprocessing<br/>\n",
        "3. Exploratory data analysis<br/>\n",
        "4. Exploration of  the funnel of events<br/>\n",
        "5.1. Analysis of A/A Experiment <br/>\n",
        "5.2. Analysis of A/B Experiment<br/>\n",
        "6. Conclusions"
      ]
    },
    {
      "cell_type": "markdown",
      "metadata": {
        "id": "7uxJrMFNzHsZ"
      },
      "source": [
        "## Data Acquaintance"
      ]
    },
    {
      "cell_type": "markdown",
      "metadata": {
        "id": "0F08E44XzHsZ"
      },
      "source": [
        "*Let's call the libraries we need*"
      ]
    },
    {
      "cell_type": "code",
      "execution_count": 2,
      "metadata": {
        "id": "8PyACQ_SzHsa"
      },
      "outputs": [],
      "source": [
        "import pandas as pd\n",
        "import seaborn as sns\n",
        "import matplotlib.pyplot as plt\n",
        "import numpy as np \n",
        "from scipy import stats as st\n",
        "import math as mt\n",
        "import datetime as dt\n",
        "from pandas.plotting import register_matplotlib_converters\n",
        "import warnings\n",
        "from matplotlib.pyplot import figure"
      ]
    },
    {
      "cell_type": "markdown",
      "metadata": {
        "id": "0V8VW7F9zHsc"
      },
      "source": [
        "*read the dataset*"
      ]
    },
    {
      "cell_type": "code",
      "execution_count": 3,
      "metadata": {
        "id": "gkVWkn8BzHsc"
      },
      "outputs": [],
      "source": [
        "try:\n",
        "     data = pd.read_csv('/datasets/logs_exp.csv', sep = '\\t')\n",
        "except:\n",
        "     data = pd.read_csv('/content/drive/MyDrive/dataf/logs_exp.csv',  sep = '\\t')"
      ]
    },
    {
      "cell_type": "code",
      "execution_count": 4,
      "metadata": {
        "colab": {
          "base_uri": "https://localhost:8080/",
          "height": 676
        },
        "id": "fWBJl2xuzHsd",
        "outputId": "c82f49a4-e5e1-4c66-c3c7-e22a48e60526"
      },
      "outputs": [
        {
          "output_type": "execute_result",
          "data": {
            "text/plain": [
              "                  EventName         DeviceIDHash  EventTimestamp  ExpId\n",
              "0          MainScreenAppear  4575588528974610257      1564029816    246\n",
              "1          MainScreenAppear  7416695313311560658      1564053102    246\n",
              "2   PaymentScreenSuccessful  3518123091307005509      1564054127    248\n",
              "3          CartScreenAppear  3518123091307005509      1564054127    248\n",
              "4   PaymentScreenSuccessful  6217807653094995999      1564055322    248\n",
              "5          CartScreenAppear  6217807653094995999      1564055323    248\n",
              "6        OffersScreenAppear  8351860793733343758      1564066242    246\n",
              "7          MainScreenAppear  5682100281902512875      1564085677    246\n",
              "8          MainScreenAppear  1850981295691852772      1564086702    247\n",
              "9          MainScreenAppear  5407636962369102641      1564112112    246\n",
              "10         MainScreenAppear   948465712512390382      1564119214    247\n",
              "11         MainScreenAppear  2547684315586332355      1564123826    248\n",
              "12         MainScreenAppear  8885295911290764495      1564124085    248\n",
              "13         MainScreenAppear  2140904690380565988      1564125732    247\n",
              "14         MainScreenAppear  4444236400320272864      1564135560    246\n",
              "15         MainScreenAppear  8947220251154009657      1564140668    248\n",
              "16         MainScreenAppear  5839517684026830712      1564141421    247\n",
              "17         MainScreenAppear  7540130374989658208      1564144283    248\n",
              "18         CartScreenAppear  2575393697599976818      1564148945    247\n",
              "19         MainScreenAppear  4651149533106703820      1564149866    246"
            ],
            "text/html": [
              "\n",
              "  <div id=\"df-b6898f47-8b18-4ff3-978a-53fa4cd1aa81\">\n",
              "    <div class=\"colab-df-container\">\n",
              "      <div>\n",
              "<style scoped>\n",
              "    .dataframe tbody tr th:only-of-type {\n",
              "        vertical-align: middle;\n",
              "    }\n",
              "\n",
              "    .dataframe tbody tr th {\n",
              "        vertical-align: top;\n",
              "    }\n",
              "\n",
              "    .dataframe thead th {\n",
              "        text-align: right;\n",
              "    }\n",
              "</style>\n",
              "<table border=\"1\" class=\"dataframe\">\n",
              "  <thead>\n",
              "    <tr style=\"text-align: right;\">\n",
              "      <th></th>\n",
              "      <th>EventName</th>\n",
              "      <th>DeviceIDHash</th>\n",
              "      <th>EventTimestamp</th>\n",
              "      <th>ExpId</th>\n",
              "    </tr>\n",
              "  </thead>\n",
              "  <tbody>\n",
              "    <tr>\n",
              "      <th>0</th>\n",
              "      <td>MainScreenAppear</td>\n",
              "      <td>4575588528974610257</td>\n",
              "      <td>1564029816</td>\n",
              "      <td>246</td>\n",
              "    </tr>\n",
              "    <tr>\n",
              "      <th>1</th>\n",
              "      <td>MainScreenAppear</td>\n",
              "      <td>7416695313311560658</td>\n",
              "      <td>1564053102</td>\n",
              "      <td>246</td>\n",
              "    </tr>\n",
              "    <tr>\n",
              "      <th>2</th>\n",
              "      <td>PaymentScreenSuccessful</td>\n",
              "      <td>3518123091307005509</td>\n",
              "      <td>1564054127</td>\n",
              "      <td>248</td>\n",
              "    </tr>\n",
              "    <tr>\n",
              "      <th>3</th>\n",
              "      <td>CartScreenAppear</td>\n",
              "      <td>3518123091307005509</td>\n",
              "      <td>1564054127</td>\n",
              "      <td>248</td>\n",
              "    </tr>\n",
              "    <tr>\n",
              "      <th>4</th>\n",
              "      <td>PaymentScreenSuccessful</td>\n",
              "      <td>6217807653094995999</td>\n",
              "      <td>1564055322</td>\n",
              "      <td>248</td>\n",
              "    </tr>\n",
              "    <tr>\n",
              "      <th>5</th>\n",
              "      <td>CartScreenAppear</td>\n",
              "      <td>6217807653094995999</td>\n",
              "      <td>1564055323</td>\n",
              "      <td>248</td>\n",
              "    </tr>\n",
              "    <tr>\n",
              "      <th>6</th>\n",
              "      <td>OffersScreenAppear</td>\n",
              "      <td>8351860793733343758</td>\n",
              "      <td>1564066242</td>\n",
              "      <td>246</td>\n",
              "    </tr>\n",
              "    <tr>\n",
              "      <th>7</th>\n",
              "      <td>MainScreenAppear</td>\n",
              "      <td>5682100281902512875</td>\n",
              "      <td>1564085677</td>\n",
              "      <td>246</td>\n",
              "    </tr>\n",
              "    <tr>\n",
              "      <th>8</th>\n",
              "      <td>MainScreenAppear</td>\n",
              "      <td>1850981295691852772</td>\n",
              "      <td>1564086702</td>\n",
              "      <td>247</td>\n",
              "    </tr>\n",
              "    <tr>\n",
              "      <th>9</th>\n",
              "      <td>MainScreenAppear</td>\n",
              "      <td>5407636962369102641</td>\n",
              "      <td>1564112112</td>\n",
              "      <td>246</td>\n",
              "    </tr>\n",
              "    <tr>\n",
              "      <th>10</th>\n",
              "      <td>MainScreenAppear</td>\n",
              "      <td>948465712512390382</td>\n",
              "      <td>1564119214</td>\n",
              "      <td>247</td>\n",
              "    </tr>\n",
              "    <tr>\n",
              "      <th>11</th>\n",
              "      <td>MainScreenAppear</td>\n",
              "      <td>2547684315586332355</td>\n",
              "      <td>1564123826</td>\n",
              "      <td>248</td>\n",
              "    </tr>\n",
              "    <tr>\n",
              "      <th>12</th>\n",
              "      <td>MainScreenAppear</td>\n",
              "      <td>8885295911290764495</td>\n",
              "      <td>1564124085</td>\n",
              "      <td>248</td>\n",
              "    </tr>\n",
              "    <tr>\n",
              "      <th>13</th>\n",
              "      <td>MainScreenAppear</td>\n",
              "      <td>2140904690380565988</td>\n",
              "      <td>1564125732</td>\n",
              "      <td>247</td>\n",
              "    </tr>\n",
              "    <tr>\n",
              "      <th>14</th>\n",
              "      <td>MainScreenAppear</td>\n",
              "      <td>4444236400320272864</td>\n",
              "      <td>1564135560</td>\n",
              "      <td>246</td>\n",
              "    </tr>\n",
              "    <tr>\n",
              "      <th>15</th>\n",
              "      <td>MainScreenAppear</td>\n",
              "      <td>8947220251154009657</td>\n",
              "      <td>1564140668</td>\n",
              "      <td>248</td>\n",
              "    </tr>\n",
              "    <tr>\n",
              "      <th>16</th>\n",
              "      <td>MainScreenAppear</td>\n",
              "      <td>5839517684026830712</td>\n",
              "      <td>1564141421</td>\n",
              "      <td>247</td>\n",
              "    </tr>\n",
              "    <tr>\n",
              "      <th>17</th>\n",
              "      <td>MainScreenAppear</td>\n",
              "      <td>7540130374989658208</td>\n",
              "      <td>1564144283</td>\n",
              "      <td>248</td>\n",
              "    </tr>\n",
              "    <tr>\n",
              "      <th>18</th>\n",
              "      <td>CartScreenAppear</td>\n",
              "      <td>2575393697599976818</td>\n",
              "      <td>1564148945</td>\n",
              "      <td>247</td>\n",
              "    </tr>\n",
              "    <tr>\n",
              "      <th>19</th>\n",
              "      <td>MainScreenAppear</td>\n",
              "      <td>4651149533106703820</td>\n",
              "      <td>1564149866</td>\n",
              "      <td>246</td>\n",
              "    </tr>\n",
              "  </tbody>\n",
              "</table>\n",
              "</div>\n",
              "      <button class=\"colab-df-convert\" onclick=\"convertToInteractive('df-b6898f47-8b18-4ff3-978a-53fa4cd1aa81')\"\n",
              "              title=\"Convert this dataframe to an interactive table.\"\n",
              "              style=\"display:none;\">\n",
              "        \n",
              "  <svg xmlns=\"http://www.w3.org/2000/svg\" height=\"24px\"viewBox=\"0 0 24 24\"\n",
              "       width=\"24px\">\n",
              "    <path d=\"M0 0h24v24H0V0z\" fill=\"none\"/>\n",
              "    <path d=\"M18.56 5.44l.94 2.06.94-2.06 2.06-.94-2.06-.94-.94-2.06-.94 2.06-2.06.94zm-11 1L8.5 8.5l.94-2.06 2.06-.94-2.06-.94L8.5 2.5l-.94 2.06-2.06.94zm10 10l.94 2.06.94-2.06 2.06-.94-2.06-.94-.94-2.06-.94 2.06-2.06.94z\"/><path d=\"M17.41 7.96l-1.37-1.37c-.4-.4-.92-.59-1.43-.59-.52 0-1.04.2-1.43.59L10.3 9.45l-7.72 7.72c-.78.78-.78 2.05 0 2.83L4 21.41c.39.39.9.59 1.41.59.51 0 1.02-.2 1.41-.59l7.78-7.78 2.81-2.81c.8-.78.8-2.07 0-2.86zM5.41 20L4 18.59l7.72-7.72 1.47 1.35L5.41 20z\"/>\n",
              "  </svg>\n",
              "      </button>\n",
              "      \n",
              "  <style>\n",
              "    .colab-df-container {\n",
              "      display:flex;\n",
              "      flex-wrap:wrap;\n",
              "      gap: 12px;\n",
              "    }\n",
              "\n",
              "    .colab-df-convert {\n",
              "      background-color: #E8F0FE;\n",
              "      border: none;\n",
              "      border-radius: 50%;\n",
              "      cursor: pointer;\n",
              "      display: none;\n",
              "      fill: #1967D2;\n",
              "      height: 32px;\n",
              "      padding: 0 0 0 0;\n",
              "      width: 32px;\n",
              "    }\n",
              "\n",
              "    .colab-df-convert:hover {\n",
              "      background-color: #E2EBFA;\n",
              "      box-shadow: 0px 1px 2px rgba(60, 64, 67, 0.3), 0px 1px 3px 1px rgba(60, 64, 67, 0.15);\n",
              "      fill: #174EA6;\n",
              "    }\n",
              "\n",
              "    [theme=dark] .colab-df-convert {\n",
              "      background-color: #3B4455;\n",
              "      fill: #D2E3FC;\n",
              "    }\n",
              "\n",
              "    [theme=dark] .colab-df-convert:hover {\n",
              "      background-color: #434B5C;\n",
              "      box-shadow: 0px 1px 3px 1px rgba(0, 0, 0, 0.15);\n",
              "      filter: drop-shadow(0px 1px 2px rgba(0, 0, 0, 0.3));\n",
              "      fill: #FFFFFF;\n",
              "    }\n",
              "  </style>\n",
              "\n",
              "      <script>\n",
              "        const buttonEl =\n",
              "          document.querySelector('#df-b6898f47-8b18-4ff3-978a-53fa4cd1aa81 button.colab-df-convert');\n",
              "        buttonEl.style.display =\n",
              "          google.colab.kernel.accessAllowed ? 'block' : 'none';\n",
              "\n",
              "        async function convertToInteractive(key) {\n",
              "          const element = document.querySelector('#df-b6898f47-8b18-4ff3-978a-53fa4cd1aa81');\n",
              "          const dataTable =\n",
              "            await google.colab.kernel.invokeFunction('convertToInteractive',\n",
              "                                                     [key], {});\n",
              "          if (!dataTable) return;\n",
              "\n",
              "          const docLinkHtml = 'Like what you see? Visit the ' +\n",
              "            '<a target=\"_blank\" href=https://colab.research.google.com/notebooks/data_table.ipynb>data table notebook</a>'\n",
              "            + ' to learn more about interactive tables.';\n",
              "          element.innerHTML = '';\n",
              "          dataTable['output_type'] = 'display_data';\n",
              "          await google.colab.output.renderOutput(dataTable, element);\n",
              "          const docLink = document.createElement('div');\n",
              "          docLink.innerHTML = docLinkHtml;\n",
              "          element.appendChild(docLink);\n",
              "        }\n",
              "      </script>\n",
              "    </div>\n",
              "  </div>\n",
              "  "
            ]
          },
          "metadata": {},
          "execution_count": 4
        }
      ],
      "source": [
        "data.head(20)"
      ]
    },
    {
      "cell_type": "markdown",
      "metadata": {
        "id": "FrqGZXVLzHse"
      },
      "source": [
        "**Dataframe content**<br/>\n",
        "\n",
        "EventName — event name;<br/>\n",
        "DeviceIDHash - unique user ID;<br/>\n",
        "EventTimestamp — event time;<br/>\n",
        "ExpId  -  the number of the experiment: 246 and 247 are the control groups, and 248 is the experimental group.<br/>"
      ]
    },
    {
      "cell_type": "code",
      "execution_count": 5,
      "metadata": {
        "colab": {
          "base_uri": "https://localhost:8080/"
        },
        "id": "bBZUhd6gzHse",
        "outputId": "a7e75809-36d1-4c26-c2ad-fe6591c65295"
      },
      "outputs": [
        {
          "output_type": "stream",
          "name": "stdout",
          "text": [
            "<class 'pandas.core.frame.DataFrame'>\n",
            "RangeIndex: 244126 entries, 0 to 244125\n",
            "Data columns (total 4 columns):\n",
            " #   Column          Non-Null Count   Dtype \n",
            "---  ------          --------------   ----- \n",
            " 0   EventName       244126 non-null  object\n",
            " 1   DeviceIDHash    244126 non-null  int64 \n",
            " 2   EventTimestamp  244126 non-null  int64 \n",
            " 3   ExpId           244126 non-null  int64 \n",
            "dtypes: int64(3), object(1)\n",
            "memory usage: 7.5+ MB\n"
          ]
        }
      ],
      "source": [
        "data.info()"
      ]
    },
    {
      "cell_type": "markdown",
      "metadata": {
        "id": "pGQRvRYVzHsf"
      },
      "source": [
        "<div style=\"border:solid green 2px; padding: 20px\">\n",
        "    \n",
        "**Conclusions:**\n",
        "The data contains 244126 rows, and there are no gaps in the data, but the columns need to be renamed because they have capital letters, and need to be checked for duplicates. Dates and times need to be converted to DateTime format."
      ]
    },
    {
      "cell_type": "markdown",
      "metadata": {
        "id": "_0A8kaFIzHsf"
      },
      "source": [
        "## Data preprocessing"
      ]
    },
    {
      "cell_type": "markdown",
      "metadata": {
        "id": "M-884E8ZzHsg"
      },
      "source": [
        "### Let's rename the columns first\n",
        "\n"
      ]
    },
    {
      "cell_type": "code",
      "execution_count": 6,
      "metadata": {
        "id": "qhgMoqRbzHsg"
      },
      "outputs": [],
      "source": [
        "data.columns = data.columns.str.lower()"
      ]
    },
    {
      "cell_type": "code",
      "execution_count": 7,
      "metadata": {
        "colab": {
          "base_uri": "https://localhost:8080/"
        },
        "id": "gYOvNQQxzHsg",
        "outputId": "3c2d6002-8cdf-46dc-f323-33f3352eaa74"
      },
      "outputs": [
        {
          "output_type": "execute_result",
          "data": {
            "text/plain": [
              "Index(['eventname', 'deviceidhash', 'eventtimestamp', 'expid'], dtype='object')"
            ]
          },
          "metadata": {},
          "execution_count": 7
        }
      ],
      "source": [
        "data.columns"
      ]
    },
    {
      "cell_type": "code",
      "execution_count": 8,
      "metadata": {
        "id": "R3VIlv99zHsg"
      },
      "outputs": [],
      "source": [
        "data.columns = ['event_name', 'device_id_hash', 'event_timestamp', 'exp_id']"
      ]
    },
    {
      "cell_type": "code",
      "execution_count": 9,
      "metadata": {
        "colab": {
          "base_uri": "https://localhost:8080/",
          "height": 206
        },
        "id": "nagPM8cVzHsh",
        "outputId": "e5a5f41d-91e2-4fe1-9ebb-beeb304ac9f9"
      },
      "outputs": [
        {
          "output_type": "execute_result",
          "data": {
            "text/plain": [
              "                event_name       device_id_hash  event_timestamp  exp_id\n",
              "0         MainScreenAppear  4575588528974610257       1564029816     246\n",
              "1         MainScreenAppear  7416695313311560658       1564053102     246\n",
              "2  PaymentScreenSuccessful  3518123091307005509       1564054127     248\n",
              "3         CartScreenAppear  3518123091307005509       1564054127     248\n",
              "4  PaymentScreenSuccessful  6217807653094995999       1564055322     248"
            ],
            "text/html": [
              "\n",
              "  <div id=\"df-c2bb638b-6baa-4bef-a4dd-ffd5b6be1014\">\n",
              "    <div class=\"colab-df-container\">\n",
              "      <div>\n",
              "<style scoped>\n",
              "    .dataframe tbody tr th:only-of-type {\n",
              "        vertical-align: middle;\n",
              "    }\n",
              "\n",
              "    .dataframe tbody tr th {\n",
              "        vertical-align: top;\n",
              "    }\n",
              "\n",
              "    .dataframe thead th {\n",
              "        text-align: right;\n",
              "    }\n",
              "</style>\n",
              "<table border=\"1\" class=\"dataframe\">\n",
              "  <thead>\n",
              "    <tr style=\"text-align: right;\">\n",
              "      <th></th>\n",
              "      <th>event_name</th>\n",
              "      <th>device_id_hash</th>\n",
              "      <th>event_timestamp</th>\n",
              "      <th>exp_id</th>\n",
              "    </tr>\n",
              "  </thead>\n",
              "  <tbody>\n",
              "    <tr>\n",
              "      <th>0</th>\n",
              "      <td>MainScreenAppear</td>\n",
              "      <td>4575588528974610257</td>\n",
              "      <td>1564029816</td>\n",
              "      <td>246</td>\n",
              "    </tr>\n",
              "    <tr>\n",
              "      <th>1</th>\n",
              "      <td>MainScreenAppear</td>\n",
              "      <td>7416695313311560658</td>\n",
              "      <td>1564053102</td>\n",
              "      <td>246</td>\n",
              "    </tr>\n",
              "    <tr>\n",
              "      <th>2</th>\n",
              "      <td>PaymentScreenSuccessful</td>\n",
              "      <td>3518123091307005509</td>\n",
              "      <td>1564054127</td>\n",
              "      <td>248</td>\n",
              "    </tr>\n",
              "    <tr>\n",
              "      <th>3</th>\n",
              "      <td>CartScreenAppear</td>\n",
              "      <td>3518123091307005509</td>\n",
              "      <td>1564054127</td>\n",
              "      <td>248</td>\n",
              "    </tr>\n",
              "    <tr>\n",
              "      <th>4</th>\n",
              "      <td>PaymentScreenSuccessful</td>\n",
              "      <td>6217807653094995999</td>\n",
              "      <td>1564055322</td>\n",
              "      <td>248</td>\n",
              "    </tr>\n",
              "  </tbody>\n",
              "</table>\n",
              "</div>\n",
              "      <button class=\"colab-df-convert\" onclick=\"convertToInteractive('df-c2bb638b-6baa-4bef-a4dd-ffd5b6be1014')\"\n",
              "              title=\"Convert this dataframe to an interactive table.\"\n",
              "              style=\"display:none;\">\n",
              "        \n",
              "  <svg xmlns=\"http://www.w3.org/2000/svg\" height=\"24px\"viewBox=\"0 0 24 24\"\n",
              "       width=\"24px\">\n",
              "    <path d=\"M0 0h24v24H0V0z\" fill=\"none\"/>\n",
              "    <path d=\"M18.56 5.44l.94 2.06.94-2.06 2.06-.94-2.06-.94-.94-2.06-.94 2.06-2.06.94zm-11 1L8.5 8.5l.94-2.06 2.06-.94-2.06-.94L8.5 2.5l-.94 2.06-2.06.94zm10 10l.94 2.06.94-2.06 2.06-.94-2.06-.94-.94-2.06-.94 2.06-2.06.94z\"/><path d=\"M17.41 7.96l-1.37-1.37c-.4-.4-.92-.59-1.43-.59-.52 0-1.04.2-1.43.59L10.3 9.45l-7.72 7.72c-.78.78-.78 2.05 0 2.83L4 21.41c.39.39.9.59 1.41.59.51 0 1.02-.2 1.41-.59l7.78-7.78 2.81-2.81c.8-.78.8-2.07 0-2.86zM5.41 20L4 18.59l7.72-7.72 1.47 1.35L5.41 20z\"/>\n",
              "  </svg>\n",
              "      </button>\n",
              "      \n",
              "  <style>\n",
              "    .colab-df-container {\n",
              "      display:flex;\n",
              "      flex-wrap:wrap;\n",
              "      gap: 12px;\n",
              "    }\n",
              "\n",
              "    .colab-df-convert {\n",
              "      background-color: #E8F0FE;\n",
              "      border: none;\n",
              "      border-radius: 50%;\n",
              "      cursor: pointer;\n",
              "      display: none;\n",
              "      fill: #1967D2;\n",
              "      height: 32px;\n",
              "      padding: 0 0 0 0;\n",
              "      width: 32px;\n",
              "    }\n",
              "\n",
              "    .colab-df-convert:hover {\n",
              "      background-color: #E2EBFA;\n",
              "      box-shadow: 0px 1px 2px rgba(60, 64, 67, 0.3), 0px 1px 3px 1px rgba(60, 64, 67, 0.15);\n",
              "      fill: #174EA6;\n",
              "    }\n",
              "\n",
              "    [theme=dark] .colab-df-convert {\n",
              "      background-color: #3B4455;\n",
              "      fill: #D2E3FC;\n",
              "    }\n",
              "\n",
              "    [theme=dark] .colab-df-convert:hover {\n",
              "      background-color: #434B5C;\n",
              "      box-shadow: 0px 1px 3px 1px rgba(0, 0, 0, 0.15);\n",
              "      filter: drop-shadow(0px 1px 2px rgba(0, 0, 0, 0.3));\n",
              "      fill: #FFFFFF;\n",
              "    }\n",
              "  </style>\n",
              "\n",
              "      <script>\n",
              "        const buttonEl =\n",
              "          document.querySelector('#df-c2bb638b-6baa-4bef-a4dd-ffd5b6be1014 button.colab-df-convert');\n",
              "        buttonEl.style.display =\n",
              "          google.colab.kernel.accessAllowed ? 'block' : 'none';\n",
              "\n",
              "        async function convertToInteractive(key) {\n",
              "          const element = document.querySelector('#df-c2bb638b-6baa-4bef-a4dd-ffd5b6be1014');\n",
              "          const dataTable =\n",
              "            await google.colab.kernel.invokeFunction('convertToInteractive',\n",
              "                                                     [key], {});\n",
              "          if (!dataTable) return;\n",
              "\n",
              "          const docLinkHtml = 'Like what you see? Visit the ' +\n",
              "            '<a target=\"_blank\" href=https://colab.research.google.com/notebooks/data_table.ipynb>data table notebook</a>'\n",
              "            + ' to learn more about interactive tables.';\n",
              "          element.innerHTML = '';\n",
              "          dataTable['output_type'] = 'display_data';\n",
              "          await google.colab.output.renderOutput(dataTable, element);\n",
              "          const docLink = document.createElement('div');\n",
              "          docLink.innerHTML = docLinkHtml;\n",
              "          element.appendChild(docLink);\n",
              "        }\n",
              "      </script>\n",
              "    </div>\n",
              "  </div>\n",
              "  "
            ]
          },
          "metadata": {},
          "execution_count": 9
        }
      ],
      "source": [
        "data.head()"
      ]
    },
    {
      "cell_type": "markdown",
      "metadata": {
        "id": "GkAY74nPzHsh"
      },
      "source": [
        "*Columns are reduced to snake register*"
      ]
    },
    {
      "cell_type": "markdown",
      "metadata": {
        "id": "Zbhk-xRCzHsh"
      },
      "source": [
        "### Casting data to the desired data type"
      ]
    },
    {
      "cell_type": "markdown",
      "metadata": {
        "id": "4Cu-UfAezHsi"
      },
      "source": [
        "*Let's create columns with time and date*"
      ]
    },
    {
      "cell_type": "code",
      "execution_count": 10,
      "metadata": {
        "id": "FwecwQYvzHsi"
      },
      "outputs": [],
      "source": [
        "data['date_time'] = pd.to_datetime(data['event_timestamp'], unit='s')\n",
        "data['date'] = data['date_time'].astype('datetime64[D]')"
      ]
    },
    {
      "cell_type": "code",
      "execution_count": 11,
      "metadata": {
        "colab": {
          "base_uri": "https://localhost:8080/",
          "height": 206
        },
        "id": "dWqETa0LzHsi",
        "outputId": "34cb892c-433c-45da-f8e2-fb821c07e837"
      },
      "outputs": [
        {
          "output_type": "execute_result",
          "data": {
            "text/plain": [
              "                event_name       device_id_hash  event_timestamp  exp_id  \\\n",
              "0         MainScreenAppear  4575588528974610257       1564029816     246   \n",
              "1         MainScreenAppear  7416695313311560658       1564053102     246   \n",
              "2  PaymentScreenSuccessful  3518123091307005509       1564054127     248   \n",
              "3         CartScreenAppear  3518123091307005509       1564054127     248   \n",
              "4  PaymentScreenSuccessful  6217807653094995999       1564055322     248   \n",
              "\n",
              "            date_time       date  \n",
              "0 2019-07-25 04:43:36 2019-07-25  \n",
              "1 2019-07-25 11:11:42 2019-07-25  \n",
              "2 2019-07-25 11:28:47 2019-07-25  \n",
              "3 2019-07-25 11:28:47 2019-07-25  \n",
              "4 2019-07-25 11:48:42 2019-07-25  "
            ],
            "text/html": [
              "\n",
              "  <div id=\"df-36073b3f-0919-48a4-8826-6713b0918688\">\n",
              "    <div class=\"colab-df-container\">\n",
              "      <div>\n",
              "<style scoped>\n",
              "    .dataframe tbody tr th:only-of-type {\n",
              "        vertical-align: middle;\n",
              "    }\n",
              "\n",
              "    .dataframe tbody tr th {\n",
              "        vertical-align: top;\n",
              "    }\n",
              "\n",
              "    .dataframe thead th {\n",
              "        text-align: right;\n",
              "    }\n",
              "</style>\n",
              "<table border=\"1\" class=\"dataframe\">\n",
              "  <thead>\n",
              "    <tr style=\"text-align: right;\">\n",
              "      <th></th>\n",
              "      <th>event_name</th>\n",
              "      <th>device_id_hash</th>\n",
              "      <th>event_timestamp</th>\n",
              "      <th>exp_id</th>\n",
              "      <th>date_time</th>\n",
              "      <th>date</th>\n",
              "    </tr>\n",
              "  </thead>\n",
              "  <tbody>\n",
              "    <tr>\n",
              "      <th>0</th>\n",
              "      <td>MainScreenAppear</td>\n",
              "      <td>4575588528974610257</td>\n",
              "      <td>1564029816</td>\n",
              "      <td>246</td>\n",
              "      <td>2019-07-25 04:43:36</td>\n",
              "      <td>2019-07-25</td>\n",
              "    </tr>\n",
              "    <tr>\n",
              "      <th>1</th>\n",
              "      <td>MainScreenAppear</td>\n",
              "      <td>7416695313311560658</td>\n",
              "      <td>1564053102</td>\n",
              "      <td>246</td>\n",
              "      <td>2019-07-25 11:11:42</td>\n",
              "      <td>2019-07-25</td>\n",
              "    </tr>\n",
              "    <tr>\n",
              "      <th>2</th>\n",
              "      <td>PaymentScreenSuccessful</td>\n",
              "      <td>3518123091307005509</td>\n",
              "      <td>1564054127</td>\n",
              "      <td>248</td>\n",
              "      <td>2019-07-25 11:28:47</td>\n",
              "      <td>2019-07-25</td>\n",
              "    </tr>\n",
              "    <tr>\n",
              "      <th>3</th>\n",
              "      <td>CartScreenAppear</td>\n",
              "      <td>3518123091307005509</td>\n",
              "      <td>1564054127</td>\n",
              "      <td>248</td>\n",
              "      <td>2019-07-25 11:28:47</td>\n",
              "      <td>2019-07-25</td>\n",
              "    </tr>\n",
              "    <tr>\n",
              "      <th>4</th>\n",
              "      <td>PaymentScreenSuccessful</td>\n",
              "      <td>6217807653094995999</td>\n",
              "      <td>1564055322</td>\n",
              "      <td>248</td>\n",
              "      <td>2019-07-25 11:48:42</td>\n",
              "      <td>2019-07-25</td>\n",
              "    </tr>\n",
              "  </tbody>\n",
              "</table>\n",
              "</div>\n",
              "      <button class=\"colab-df-convert\" onclick=\"convertToInteractive('df-36073b3f-0919-48a4-8826-6713b0918688')\"\n",
              "              title=\"Convert this dataframe to an interactive table.\"\n",
              "              style=\"display:none;\">\n",
              "        \n",
              "  <svg xmlns=\"http://www.w3.org/2000/svg\" height=\"24px\"viewBox=\"0 0 24 24\"\n",
              "       width=\"24px\">\n",
              "    <path d=\"M0 0h24v24H0V0z\" fill=\"none\"/>\n",
              "    <path d=\"M18.56 5.44l.94 2.06.94-2.06 2.06-.94-2.06-.94-.94-2.06-.94 2.06-2.06.94zm-11 1L8.5 8.5l.94-2.06 2.06-.94-2.06-.94L8.5 2.5l-.94 2.06-2.06.94zm10 10l.94 2.06.94-2.06 2.06-.94-2.06-.94-.94-2.06-.94 2.06-2.06.94z\"/><path d=\"M17.41 7.96l-1.37-1.37c-.4-.4-.92-.59-1.43-.59-.52 0-1.04.2-1.43.59L10.3 9.45l-7.72 7.72c-.78.78-.78 2.05 0 2.83L4 21.41c.39.39.9.59 1.41.59.51 0 1.02-.2 1.41-.59l7.78-7.78 2.81-2.81c.8-.78.8-2.07 0-2.86zM5.41 20L4 18.59l7.72-7.72 1.47 1.35L5.41 20z\"/>\n",
              "  </svg>\n",
              "      </button>\n",
              "      \n",
              "  <style>\n",
              "    .colab-df-container {\n",
              "      display:flex;\n",
              "      flex-wrap:wrap;\n",
              "      gap: 12px;\n",
              "    }\n",
              "\n",
              "    .colab-df-convert {\n",
              "      background-color: #E8F0FE;\n",
              "      border: none;\n",
              "      border-radius: 50%;\n",
              "      cursor: pointer;\n",
              "      display: none;\n",
              "      fill: #1967D2;\n",
              "      height: 32px;\n",
              "      padding: 0 0 0 0;\n",
              "      width: 32px;\n",
              "    }\n",
              "\n",
              "    .colab-df-convert:hover {\n",
              "      background-color: #E2EBFA;\n",
              "      box-shadow: 0px 1px 2px rgba(60, 64, 67, 0.3), 0px 1px 3px 1px rgba(60, 64, 67, 0.15);\n",
              "      fill: #174EA6;\n",
              "    }\n",
              "\n",
              "    [theme=dark] .colab-df-convert {\n",
              "      background-color: #3B4455;\n",
              "      fill: #D2E3FC;\n",
              "    }\n",
              "\n",
              "    [theme=dark] .colab-df-convert:hover {\n",
              "      background-color: #434B5C;\n",
              "      box-shadow: 0px 1px 3px 1px rgba(0, 0, 0, 0.15);\n",
              "      filter: drop-shadow(0px 1px 2px rgba(0, 0, 0, 0.3));\n",
              "      fill: #FFFFFF;\n",
              "    }\n",
              "  </style>\n",
              "\n",
              "      <script>\n",
              "        const buttonEl =\n",
              "          document.querySelector('#df-36073b3f-0919-48a4-8826-6713b0918688 button.colab-df-convert');\n",
              "        buttonEl.style.display =\n",
              "          google.colab.kernel.accessAllowed ? 'block' : 'none';\n",
              "\n",
              "        async function convertToInteractive(key) {\n",
              "          const element = document.querySelector('#df-36073b3f-0919-48a4-8826-6713b0918688');\n",
              "          const dataTable =\n",
              "            await google.colab.kernel.invokeFunction('convertToInteractive',\n",
              "                                                     [key], {});\n",
              "          if (!dataTable) return;\n",
              "\n",
              "          const docLinkHtml = 'Like what you see? Visit the ' +\n",
              "            '<a target=\"_blank\" href=https://colab.research.google.com/notebooks/data_table.ipynb>data table notebook</a>'\n",
              "            + ' to learn more about interactive tables.';\n",
              "          element.innerHTML = '';\n",
              "          dataTable['output_type'] = 'display_data';\n",
              "          await google.colab.output.renderOutput(dataTable, element);\n",
              "          const docLink = document.createElement('div');\n",
              "          docLink.innerHTML = docLinkHtml;\n",
              "          element.appendChild(docLink);\n",
              "        }\n",
              "      </script>\n",
              "    </div>\n",
              "  </div>\n",
              "  "
            ]
          },
          "metadata": {},
          "execution_count": 11
        }
      ],
      "source": [
        "data.head()"
      ]
    },
    {
      "cell_type": "markdown",
      "metadata": {
        "id": "K-rQc5MYzHsi"
      },
      "source": [
        "###Checking for duplicates"
      ]
    },
    {
      "cell_type": "code",
      "execution_count": 12,
      "metadata": {
        "colab": {
          "base_uri": "https://localhost:8080/"
        },
        "id": "liHqhdgLzHsj",
        "outputId": "25fad90c-0890-41e6-8704-6e5c7f0d498a"
      },
      "outputs": [
        {
          "output_type": "stream",
          "name": "stdout",
          "text": [
            "Number of duplicates in data 413\n"
          ]
        }
      ],
      "source": [
        "print('Number of duplicates in data {}'.format(data.duplicated().sum()))"
      ]
    },
    {
      "cell_type": "code",
      "execution_count": 13,
      "metadata": {
        "scrolled": true,
        "colab": {
          "base_uri": "https://localhost:8080/",
          "height": 676
        },
        "id": "TTF05k_XzHsj",
        "outputId": "6a782650-559b-4d57-94c5-ef80652e5606"
      },
      "outputs": [
        {
          "output_type": "execute_result",
          "data": {
            "text/plain": [
              "                    event_name       device_id_hash  event_timestamp  exp_id  \\\n",
              "453           MainScreenAppear  5613408041324010552       1564474784     248   \n",
              "2350          CartScreenAppear  1694940645335807244       1564609899     248   \n",
              "3573          MainScreenAppear   434103746454591587       1564628377     248   \n",
              "4076          MainScreenAppear  3761373764179762633       1564631266     247   \n",
              "4803          MainScreenAppear  2835328739789306622       1564634641     248   \n",
              "5641          CartScreenAppear  4248762472840564256       1564637764     248   \n",
              "5875   PaymentScreenSuccessful  6427012997733591237       1564638452     248   \n",
              "7249        OffersScreenAppear  7224691986599895551       1564641846     246   \n",
              "8065          CartScreenAppear  8189122927585332969       1564643929     248   \n",
              "9179          MainScreenAppear  2230705996155527339       1564646087     246   \n",
              "9311          MainScreenAppear  5496043151846125970       1564646283     248   \n",
              "9990   PaymentScreenSuccessful  7035352794299231933       1564647627     248   \n",
              "12454  PaymentScreenSuccessful  5152160705477623487       1564652139     247   \n",
              "13055  PaymentScreenSuccessful  6258460144399027762       1564653224     247   \n",
              "14333         CartScreenAppear  1807104407388801321       1564655427     248   \n",
              "15304  PaymentScreenSuccessful  8125832085431322921       1564657270     246   \n",
              "15746  PaymentScreenSuccessful  2877433916175408776       1564658001     247   \n",
              "15751  PaymentScreenSuccessful  3528217211962170139       1564658003     247   \n",
              "15752  PaymentScreenSuccessful  3528217211962170139       1564658003     247   \n",
              "15753  PaymentScreenSuccessful  3528217211962170139       1564658003     247   \n",
              "\n",
              "                date_time       date  \n",
              "453   2019-07-30 08:19:44 2019-07-30  \n",
              "2350  2019-07-31 21:51:39 2019-07-31  \n",
              "3573  2019-08-01 02:59:37 2019-08-01  \n",
              "4076  2019-08-01 03:47:46 2019-08-01  \n",
              "4803  2019-08-01 04:44:01 2019-08-01  \n",
              "5641  2019-08-01 05:36:04 2019-08-01  \n",
              "5875  2019-08-01 05:47:32 2019-08-01  \n",
              "7249  2019-08-01 06:44:06 2019-08-01  \n",
              "8065  2019-08-01 07:18:49 2019-08-01  \n",
              "9179  2019-08-01 07:54:47 2019-08-01  \n",
              "9311  2019-08-01 07:58:03 2019-08-01  \n",
              "9990  2019-08-01 08:20:27 2019-08-01  \n",
              "12454 2019-08-01 09:35:39 2019-08-01  \n",
              "13055 2019-08-01 09:53:44 2019-08-01  \n",
              "14333 2019-08-01 10:30:27 2019-08-01  \n",
              "15304 2019-08-01 11:01:10 2019-08-01  \n",
              "15746 2019-08-01 11:13:21 2019-08-01  \n",
              "15751 2019-08-01 11:13:23 2019-08-01  \n",
              "15752 2019-08-01 11:13:23 2019-08-01  \n",
              "15753 2019-08-01 11:13:23 2019-08-01  "
            ],
            "text/html": [
              "\n",
              "  <div id=\"df-aa16aec8-4e3d-4749-a827-facca67a387d\">\n",
              "    <div class=\"colab-df-container\">\n",
              "      <div>\n",
              "<style scoped>\n",
              "    .dataframe tbody tr th:only-of-type {\n",
              "        vertical-align: middle;\n",
              "    }\n",
              "\n",
              "    .dataframe tbody tr th {\n",
              "        vertical-align: top;\n",
              "    }\n",
              "\n",
              "    .dataframe thead th {\n",
              "        text-align: right;\n",
              "    }\n",
              "</style>\n",
              "<table border=\"1\" class=\"dataframe\">\n",
              "  <thead>\n",
              "    <tr style=\"text-align: right;\">\n",
              "      <th></th>\n",
              "      <th>event_name</th>\n",
              "      <th>device_id_hash</th>\n",
              "      <th>event_timestamp</th>\n",
              "      <th>exp_id</th>\n",
              "      <th>date_time</th>\n",
              "      <th>date</th>\n",
              "    </tr>\n",
              "  </thead>\n",
              "  <tbody>\n",
              "    <tr>\n",
              "      <th>453</th>\n",
              "      <td>MainScreenAppear</td>\n",
              "      <td>5613408041324010552</td>\n",
              "      <td>1564474784</td>\n",
              "      <td>248</td>\n",
              "      <td>2019-07-30 08:19:44</td>\n",
              "      <td>2019-07-30</td>\n",
              "    </tr>\n",
              "    <tr>\n",
              "      <th>2350</th>\n",
              "      <td>CartScreenAppear</td>\n",
              "      <td>1694940645335807244</td>\n",
              "      <td>1564609899</td>\n",
              "      <td>248</td>\n",
              "      <td>2019-07-31 21:51:39</td>\n",
              "      <td>2019-07-31</td>\n",
              "    </tr>\n",
              "    <tr>\n",
              "      <th>3573</th>\n",
              "      <td>MainScreenAppear</td>\n",
              "      <td>434103746454591587</td>\n",
              "      <td>1564628377</td>\n",
              "      <td>248</td>\n",
              "      <td>2019-08-01 02:59:37</td>\n",
              "      <td>2019-08-01</td>\n",
              "    </tr>\n",
              "    <tr>\n",
              "      <th>4076</th>\n",
              "      <td>MainScreenAppear</td>\n",
              "      <td>3761373764179762633</td>\n",
              "      <td>1564631266</td>\n",
              "      <td>247</td>\n",
              "      <td>2019-08-01 03:47:46</td>\n",
              "      <td>2019-08-01</td>\n",
              "    </tr>\n",
              "    <tr>\n",
              "      <th>4803</th>\n",
              "      <td>MainScreenAppear</td>\n",
              "      <td>2835328739789306622</td>\n",
              "      <td>1564634641</td>\n",
              "      <td>248</td>\n",
              "      <td>2019-08-01 04:44:01</td>\n",
              "      <td>2019-08-01</td>\n",
              "    </tr>\n",
              "    <tr>\n",
              "      <th>5641</th>\n",
              "      <td>CartScreenAppear</td>\n",
              "      <td>4248762472840564256</td>\n",
              "      <td>1564637764</td>\n",
              "      <td>248</td>\n",
              "      <td>2019-08-01 05:36:04</td>\n",
              "      <td>2019-08-01</td>\n",
              "    </tr>\n",
              "    <tr>\n",
              "      <th>5875</th>\n",
              "      <td>PaymentScreenSuccessful</td>\n",
              "      <td>6427012997733591237</td>\n",
              "      <td>1564638452</td>\n",
              "      <td>248</td>\n",
              "      <td>2019-08-01 05:47:32</td>\n",
              "      <td>2019-08-01</td>\n",
              "    </tr>\n",
              "    <tr>\n",
              "      <th>7249</th>\n",
              "      <td>OffersScreenAppear</td>\n",
              "      <td>7224691986599895551</td>\n",
              "      <td>1564641846</td>\n",
              "      <td>246</td>\n",
              "      <td>2019-08-01 06:44:06</td>\n",
              "      <td>2019-08-01</td>\n",
              "    </tr>\n",
              "    <tr>\n",
              "      <th>8065</th>\n",
              "      <td>CartScreenAppear</td>\n",
              "      <td>8189122927585332969</td>\n",
              "      <td>1564643929</td>\n",
              "      <td>248</td>\n",
              "      <td>2019-08-01 07:18:49</td>\n",
              "      <td>2019-08-01</td>\n",
              "    </tr>\n",
              "    <tr>\n",
              "      <th>9179</th>\n",
              "      <td>MainScreenAppear</td>\n",
              "      <td>2230705996155527339</td>\n",
              "      <td>1564646087</td>\n",
              "      <td>246</td>\n",
              "      <td>2019-08-01 07:54:47</td>\n",
              "      <td>2019-08-01</td>\n",
              "    </tr>\n",
              "    <tr>\n",
              "      <th>9311</th>\n",
              "      <td>MainScreenAppear</td>\n",
              "      <td>5496043151846125970</td>\n",
              "      <td>1564646283</td>\n",
              "      <td>248</td>\n",
              "      <td>2019-08-01 07:58:03</td>\n",
              "      <td>2019-08-01</td>\n",
              "    </tr>\n",
              "    <tr>\n",
              "      <th>9990</th>\n",
              "      <td>PaymentScreenSuccessful</td>\n",
              "      <td>7035352794299231933</td>\n",
              "      <td>1564647627</td>\n",
              "      <td>248</td>\n",
              "      <td>2019-08-01 08:20:27</td>\n",
              "      <td>2019-08-01</td>\n",
              "    </tr>\n",
              "    <tr>\n",
              "      <th>12454</th>\n",
              "      <td>PaymentScreenSuccessful</td>\n",
              "      <td>5152160705477623487</td>\n",
              "      <td>1564652139</td>\n",
              "      <td>247</td>\n",
              "      <td>2019-08-01 09:35:39</td>\n",
              "      <td>2019-08-01</td>\n",
              "    </tr>\n",
              "    <tr>\n",
              "      <th>13055</th>\n",
              "      <td>PaymentScreenSuccessful</td>\n",
              "      <td>6258460144399027762</td>\n",
              "      <td>1564653224</td>\n",
              "      <td>247</td>\n",
              "      <td>2019-08-01 09:53:44</td>\n",
              "      <td>2019-08-01</td>\n",
              "    </tr>\n",
              "    <tr>\n",
              "      <th>14333</th>\n",
              "      <td>CartScreenAppear</td>\n",
              "      <td>1807104407388801321</td>\n",
              "      <td>1564655427</td>\n",
              "      <td>248</td>\n",
              "      <td>2019-08-01 10:30:27</td>\n",
              "      <td>2019-08-01</td>\n",
              "    </tr>\n",
              "    <tr>\n",
              "      <th>15304</th>\n",
              "      <td>PaymentScreenSuccessful</td>\n",
              "      <td>8125832085431322921</td>\n",
              "      <td>1564657270</td>\n",
              "      <td>246</td>\n",
              "      <td>2019-08-01 11:01:10</td>\n",
              "      <td>2019-08-01</td>\n",
              "    </tr>\n",
              "    <tr>\n",
              "      <th>15746</th>\n",
              "      <td>PaymentScreenSuccessful</td>\n",
              "      <td>2877433916175408776</td>\n",
              "      <td>1564658001</td>\n",
              "      <td>247</td>\n",
              "      <td>2019-08-01 11:13:21</td>\n",
              "      <td>2019-08-01</td>\n",
              "    </tr>\n",
              "    <tr>\n",
              "      <th>15751</th>\n",
              "      <td>PaymentScreenSuccessful</td>\n",
              "      <td>3528217211962170139</td>\n",
              "      <td>1564658003</td>\n",
              "      <td>247</td>\n",
              "      <td>2019-08-01 11:13:23</td>\n",
              "      <td>2019-08-01</td>\n",
              "    </tr>\n",
              "    <tr>\n",
              "      <th>15752</th>\n",
              "      <td>PaymentScreenSuccessful</td>\n",
              "      <td>3528217211962170139</td>\n",
              "      <td>1564658003</td>\n",
              "      <td>247</td>\n",
              "      <td>2019-08-01 11:13:23</td>\n",
              "      <td>2019-08-01</td>\n",
              "    </tr>\n",
              "    <tr>\n",
              "      <th>15753</th>\n",
              "      <td>PaymentScreenSuccessful</td>\n",
              "      <td>3528217211962170139</td>\n",
              "      <td>1564658003</td>\n",
              "      <td>247</td>\n",
              "      <td>2019-08-01 11:13:23</td>\n",
              "      <td>2019-08-01</td>\n",
              "    </tr>\n",
              "  </tbody>\n",
              "</table>\n",
              "</div>\n",
              "      <button class=\"colab-df-convert\" onclick=\"convertToInteractive('df-aa16aec8-4e3d-4749-a827-facca67a387d')\"\n",
              "              title=\"Convert this dataframe to an interactive table.\"\n",
              "              style=\"display:none;\">\n",
              "        \n",
              "  <svg xmlns=\"http://www.w3.org/2000/svg\" height=\"24px\"viewBox=\"0 0 24 24\"\n",
              "       width=\"24px\">\n",
              "    <path d=\"M0 0h24v24H0V0z\" fill=\"none\"/>\n",
              "    <path d=\"M18.56 5.44l.94 2.06.94-2.06 2.06-.94-2.06-.94-.94-2.06-.94 2.06-2.06.94zm-11 1L8.5 8.5l.94-2.06 2.06-.94-2.06-.94L8.5 2.5l-.94 2.06-2.06.94zm10 10l.94 2.06.94-2.06 2.06-.94-2.06-.94-.94-2.06-.94 2.06-2.06.94z\"/><path d=\"M17.41 7.96l-1.37-1.37c-.4-.4-.92-.59-1.43-.59-.52 0-1.04.2-1.43.59L10.3 9.45l-7.72 7.72c-.78.78-.78 2.05 0 2.83L4 21.41c.39.39.9.59 1.41.59.51 0 1.02-.2 1.41-.59l7.78-7.78 2.81-2.81c.8-.78.8-2.07 0-2.86zM5.41 20L4 18.59l7.72-7.72 1.47 1.35L5.41 20z\"/>\n",
              "  </svg>\n",
              "      </button>\n",
              "      \n",
              "  <style>\n",
              "    .colab-df-container {\n",
              "      display:flex;\n",
              "      flex-wrap:wrap;\n",
              "      gap: 12px;\n",
              "    }\n",
              "\n",
              "    .colab-df-convert {\n",
              "      background-color: #E8F0FE;\n",
              "      border: none;\n",
              "      border-radius: 50%;\n",
              "      cursor: pointer;\n",
              "      display: none;\n",
              "      fill: #1967D2;\n",
              "      height: 32px;\n",
              "      padding: 0 0 0 0;\n",
              "      width: 32px;\n",
              "    }\n",
              "\n",
              "    .colab-df-convert:hover {\n",
              "      background-color: #E2EBFA;\n",
              "      box-shadow: 0px 1px 2px rgba(60, 64, 67, 0.3), 0px 1px 3px 1px rgba(60, 64, 67, 0.15);\n",
              "      fill: #174EA6;\n",
              "    }\n",
              "\n",
              "    [theme=dark] .colab-df-convert {\n",
              "      background-color: #3B4455;\n",
              "      fill: #D2E3FC;\n",
              "    }\n",
              "\n",
              "    [theme=dark] .colab-df-convert:hover {\n",
              "      background-color: #434B5C;\n",
              "      box-shadow: 0px 1px 3px 1px rgba(0, 0, 0, 0.15);\n",
              "      filter: drop-shadow(0px 1px 2px rgba(0, 0, 0, 0.3));\n",
              "      fill: #FFFFFF;\n",
              "    }\n",
              "  </style>\n",
              "\n",
              "      <script>\n",
              "        const buttonEl =\n",
              "          document.querySelector('#df-aa16aec8-4e3d-4749-a827-facca67a387d button.colab-df-convert');\n",
              "        buttonEl.style.display =\n",
              "          google.colab.kernel.accessAllowed ? 'block' : 'none';\n",
              "\n",
              "        async function convertToInteractive(key) {\n",
              "          const element = document.querySelector('#df-aa16aec8-4e3d-4749-a827-facca67a387d');\n",
              "          const dataTable =\n",
              "            await google.colab.kernel.invokeFunction('convertToInteractive',\n",
              "                                                     [key], {});\n",
              "          if (!dataTable) return;\n",
              "\n",
              "          const docLinkHtml = 'Like what you see? Visit the ' +\n",
              "            '<a target=\"_blank\" href=https://colab.research.google.com/notebooks/data_table.ipynb>data table notebook</a>'\n",
              "            + ' to learn more about interactive tables.';\n",
              "          element.innerHTML = '';\n",
              "          dataTable['output_type'] = 'display_data';\n",
              "          await google.colab.output.renderOutput(dataTable, element);\n",
              "          const docLink = document.createElement('div');\n",
              "          docLink.innerHTML = docLinkHtml;\n",
              "          element.appendChild(docLink);\n",
              "        }\n",
              "      </script>\n",
              "    </div>\n",
              "  </div>\n",
              "  "
            ]
          },
          "metadata": {},
          "execution_count": 13
        }
      ],
      "source": [
        "data[data.duplicated()].head(20)"
      ]
    },
    {
      "cell_type": "markdown",
      "metadata": {
        "id": "z7UigfbRzHsj"
      },
      "source": [
        "*Let's get rid of duplicates*"
      ]
    },
    {
      "cell_type": "code",
      "execution_count": 14,
      "metadata": {
        "id": "48776G4RzHsj"
      },
      "outputs": [],
      "source": [
        "data = data.drop_duplicates()"
      ]
    },
    {
      "cell_type": "code",
      "execution_count": 15,
      "metadata": {
        "colab": {
          "base_uri": "https://localhost:8080/"
        },
        "id": "mS8V1KukzHsk",
        "outputId": "6c1b9637-d46e-4dae-d40a-d3012e209cad"
      },
      "outputs": [
        {
          "output_type": "stream",
          "name": "stdout",
          "text": [
            "<class 'pandas.core.frame.DataFrame'>\n",
            "Int64Index: 243713 entries, 0 to 244125\n",
            "Data columns (total 6 columns):\n",
            " #   Column           Non-Null Count   Dtype         \n",
            "---  ------           --------------   -----         \n",
            " 0   event_name       243713 non-null  object        \n",
            " 1   device_id_hash   243713 non-null  int64         \n",
            " 2   event_timestamp  243713 non-null  int64         \n",
            " 3   exp_id           243713 non-null  int64         \n",
            " 4   date_time        243713 non-null  datetime64[ns]\n",
            " 5   date             243713 non-null  datetime64[ns]\n",
            "dtypes: datetime64[ns](2), int64(3), object(1)\n",
            "memory usage: 13.0+ MB\n"
          ]
        }
      ],
      "source": [
        "data.info()"
      ]
    },
    {
      "cell_type": "markdown",
      "metadata": {
        "id": "2lGy5sfQzHsk"
      },
      "source": [
        "<div style=\"border:solid green 2px; padding: 20px\">\n",
        "\n",
        "**Conclusions:**\n",
        "\n",
        "Removed 413 duplicates, renamed columns, converted dates and times in new columns to datetime format."
      ]
    },
    {
      "cell_type": "markdown",
      "metadata": {
        "id": "4Xatbz3FzHsk"
      },
      "source": [
        "## Exploratory data analysis"
      ]
    },
    {
      "cell_type": "markdown",
      "metadata": {
        "id": "v8e4tvOizHsl"
      },
      "source": [
        "*We will consider the number and names of events in the dataframe*"
      ]
    },
    {
      "cell_type": "code",
      "execution_count": 16,
      "metadata": {
        "colab": {
          "base_uri": "https://localhost:8080/"
        },
        "id": "8BmuKX6ezHsl",
        "outputId": "ded4d0c3-96a5-4e28-cf2e-fea84e0484d9"
      },
      "outputs": [
        {
          "output_type": "stream",
          "name": "stdout",
          "text": [
            "Number of events in the data frame: 5\n"
          ]
        }
      ],
      "source": [
        "print('Number of events in the data frame: {}'.format( data['event_name'].nunique()))"
      ]
    },
    {
      "cell_type": "code",
      "execution_count": 17,
      "metadata": {
        "colab": {
          "base_uri": "https://localhost:8080/"
        },
        "id": "0TA4GJmUzHsl",
        "outputId": "9c48b010-7876-4934-aff8-0ef39428c716"
      },
      "outputs": [
        {
          "output_type": "stream",
          "name": "stdout",
          "text": [
            "List of events in the data frame: ['MainScreenAppear' 'PaymentScreenSuccessful' 'CartScreenAppear'\n",
            " 'OffersScreenAppear' 'Tutorial']\n"
          ]
        }
      ],
      "source": [
        "print('List of events in the data frame: {}'.format( data['event_name'].unique()))"
      ]
    },
    {
      "cell_type": "markdown",
      "metadata": {
        "id": "GPtPXquwzHsm"
      },
      "source": [
        "*List of events*\n",
        "- MainScreenAppear - the user has entered the main screen\n",
        "- OffersScreenAppear - the user has entered the purchase screen\n",
        "- CartScreenAppear - the user has entered the cart screen\n",
        "- PaymentScreenSuccessful - the user has paid for the item\n",
        "- Tutorial - the user has entered the \"user's guide\" section"
      ]
    },
    {
      "cell_type": "markdown",
      "metadata": {
        "id": "ajUjLTR1zHsm"
      },
      "source": [
        "*Get the number of unique users*\n"
      ]
    },
    {
      "cell_type": "code",
      "execution_count": 18,
      "metadata": {
        "colab": {
          "base_uri": "https://localhost:8080/"
        },
        "id": "ZJPJ4_yCzHsm",
        "outputId": "2628e01d-0945-4595-e58b-65cd9083f6e4"
      },
      "outputs": [
        {
          "output_type": "stream",
          "name": "stdout",
          "text": [
            "Number of unique users in the data frame: 7551\n"
          ]
        }
      ],
      "source": [
        "print('Number of unique users in the data frame: {}'.format(data['device_id_hash'].nunique()))"
      ]
    },
    {
      "cell_type": "markdown",
      "metadata": {
        "id": "ELATosJ3zHsm"
      },
      "source": [
        "*We will find out the number of events committed by users, for this we group and display the largest number of events per user*"
      ]
    },
    {
      "cell_type": "code",
      "execution_count": 19,
      "metadata": {
        "id": "XkkUofcnzHsn"
      },
      "outputs": [],
      "source": [
        "group_event = data.groupby('device_id_hash')['event_name'].count().reset_index()"
      ]
    },
    {
      "cell_type": "code",
      "execution_count": 20,
      "metadata": {
        "colab": {
          "base_uri": "https://localhost:8080/",
          "height": 363
        },
        "id": "QPfR7KevzHsn",
        "outputId": "a991a9d2-03ed-433c-b1d5-3ed720eee585"
      },
      "outputs": [
        {
          "output_type": "execute_result",
          "data": {
            "text/plain": [
              "           device_id_hash  event_name\n",
              "5116  6304868067479728361        2307\n",
              "147    197027893265565660        1998\n",
              "3714  4623191541214045580        1768\n",
              "5590  6932517045703054087        1439\n",
              "1391  1754140665440434215        1221\n",
              "2641  3337471580007169353        1186\n",
              "6294  7738058666231999878         888\n",
              "822   1055544042902443290         854\n",
              "3801  4713748699910253089         824\n",
              "6617  8118046800480174342         755"
            ],
            "text/html": [
              "\n",
              "  <div id=\"df-5b79c046-74dd-4e81-a8e9-e047f4b3528e\">\n",
              "    <div class=\"colab-df-container\">\n",
              "      <div>\n",
              "<style scoped>\n",
              "    .dataframe tbody tr th:only-of-type {\n",
              "        vertical-align: middle;\n",
              "    }\n",
              "\n",
              "    .dataframe tbody tr th {\n",
              "        vertical-align: top;\n",
              "    }\n",
              "\n",
              "    .dataframe thead th {\n",
              "        text-align: right;\n",
              "    }\n",
              "</style>\n",
              "<table border=\"1\" class=\"dataframe\">\n",
              "  <thead>\n",
              "    <tr style=\"text-align: right;\">\n",
              "      <th></th>\n",
              "      <th>device_id_hash</th>\n",
              "      <th>event_name</th>\n",
              "    </tr>\n",
              "  </thead>\n",
              "  <tbody>\n",
              "    <tr>\n",
              "      <th>5116</th>\n",
              "      <td>6304868067479728361</td>\n",
              "      <td>2307</td>\n",
              "    </tr>\n",
              "    <tr>\n",
              "      <th>147</th>\n",
              "      <td>197027893265565660</td>\n",
              "      <td>1998</td>\n",
              "    </tr>\n",
              "    <tr>\n",
              "      <th>3714</th>\n",
              "      <td>4623191541214045580</td>\n",
              "      <td>1768</td>\n",
              "    </tr>\n",
              "    <tr>\n",
              "      <th>5590</th>\n",
              "      <td>6932517045703054087</td>\n",
              "      <td>1439</td>\n",
              "    </tr>\n",
              "    <tr>\n",
              "      <th>1391</th>\n",
              "      <td>1754140665440434215</td>\n",
              "      <td>1221</td>\n",
              "    </tr>\n",
              "    <tr>\n",
              "      <th>2641</th>\n",
              "      <td>3337471580007169353</td>\n",
              "      <td>1186</td>\n",
              "    </tr>\n",
              "    <tr>\n",
              "      <th>6294</th>\n",
              "      <td>7738058666231999878</td>\n",
              "      <td>888</td>\n",
              "    </tr>\n",
              "    <tr>\n",
              "      <th>822</th>\n",
              "      <td>1055544042902443290</td>\n",
              "      <td>854</td>\n",
              "    </tr>\n",
              "    <tr>\n",
              "      <th>3801</th>\n",
              "      <td>4713748699910253089</td>\n",
              "      <td>824</td>\n",
              "    </tr>\n",
              "    <tr>\n",
              "      <th>6617</th>\n",
              "      <td>8118046800480174342</td>\n",
              "      <td>755</td>\n",
              "    </tr>\n",
              "  </tbody>\n",
              "</table>\n",
              "</div>\n",
              "      <button class=\"colab-df-convert\" onclick=\"convertToInteractive('df-5b79c046-74dd-4e81-a8e9-e047f4b3528e')\"\n",
              "              title=\"Convert this dataframe to an interactive table.\"\n",
              "              style=\"display:none;\">\n",
              "        \n",
              "  <svg xmlns=\"http://www.w3.org/2000/svg\" height=\"24px\"viewBox=\"0 0 24 24\"\n",
              "       width=\"24px\">\n",
              "    <path d=\"M0 0h24v24H0V0z\" fill=\"none\"/>\n",
              "    <path d=\"M18.56 5.44l.94 2.06.94-2.06 2.06-.94-2.06-.94-.94-2.06-.94 2.06-2.06.94zm-11 1L8.5 8.5l.94-2.06 2.06-.94-2.06-.94L8.5 2.5l-.94 2.06-2.06.94zm10 10l.94 2.06.94-2.06 2.06-.94-2.06-.94-.94-2.06-.94 2.06-2.06.94z\"/><path d=\"M17.41 7.96l-1.37-1.37c-.4-.4-.92-.59-1.43-.59-.52 0-1.04.2-1.43.59L10.3 9.45l-7.72 7.72c-.78.78-.78 2.05 0 2.83L4 21.41c.39.39.9.59 1.41.59.51 0 1.02-.2 1.41-.59l7.78-7.78 2.81-2.81c.8-.78.8-2.07 0-2.86zM5.41 20L4 18.59l7.72-7.72 1.47 1.35L5.41 20z\"/>\n",
              "  </svg>\n",
              "      </button>\n",
              "      \n",
              "  <style>\n",
              "    .colab-df-container {\n",
              "      display:flex;\n",
              "      flex-wrap:wrap;\n",
              "      gap: 12px;\n",
              "    }\n",
              "\n",
              "    .colab-df-convert {\n",
              "      background-color: #E8F0FE;\n",
              "      border: none;\n",
              "      border-radius: 50%;\n",
              "      cursor: pointer;\n",
              "      display: none;\n",
              "      fill: #1967D2;\n",
              "      height: 32px;\n",
              "      padding: 0 0 0 0;\n",
              "      width: 32px;\n",
              "    }\n",
              "\n",
              "    .colab-df-convert:hover {\n",
              "      background-color: #E2EBFA;\n",
              "      box-shadow: 0px 1px 2px rgba(60, 64, 67, 0.3), 0px 1px 3px 1px rgba(60, 64, 67, 0.15);\n",
              "      fill: #174EA6;\n",
              "    }\n",
              "\n",
              "    [theme=dark] .colab-df-convert {\n",
              "      background-color: #3B4455;\n",
              "      fill: #D2E3FC;\n",
              "    }\n",
              "\n",
              "    [theme=dark] .colab-df-convert:hover {\n",
              "      background-color: #434B5C;\n",
              "      box-shadow: 0px 1px 3px 1px rgba(0, 0, 0, 0.15);\n",
              "      filter: drop-shadow(0px 1px 2px rgba(0, 0, 0, 0.3));\n",
              "      fill: #FFFFFF;\n",
              "    }\n",
              "  </style>\n",
              "\n",
              "      <script>\n",
              "        const buttonEl =\n",
              "          document.querySelector('#df-5b79c046-74dd-4e81-a8e9-e047f4b3528e button.colab-df-convert');\n",
              "        buttonEl.style.display =\n",
              "          google.colab.kernel.accessAllowed ? 'block' : 'none';\n",
              "\n",
              "        async function convertToInteractive(key) {\n",
              "          const element = document.querySelector('#df-5b79c046-74dd-4e81-a8e9-e047f4b3528e');\n",
              "          const dataTable =\n",
              "            await google.colab.kernel.invokeFunction('convertToInteractive',\n",
              "                                                     [key], {});\n",
              "          if (!dataTable) return;\n",
              "\n",
              "          const docLinkHtml = 'Like what you see? Visit the ' +\n",
              "            '<a target=\"_blank\" href=https://colab.research.google.com/notebooks/data_table.ipynb>data table notebook</a>'\n",
              "            + ' to learn more about interactive tables.';\n",
              "          element.innerHTML = '';\n",
              "          dataTable['output_type'] = 'display_data';\n",
              "          await google.colab.output.renderOutput(dataTable, element);\n",
              "          const docLink = document.createElement('div');\n",
              "          docLink.innerHTML = docLinkHtml;\n",
              "          element.appendChild(docLink);\n",
              "        }\n",
              "      </script>\n",
              "    </div>\n",
              "  </div>\n",
              "  "
            ]
          },
          "metadata": {},
          "execution_count": 20
        }
      ],
      "source": [
        "group_event.sort_values(by='event_name', ascending=False).head(10)"
      ]
    },
    {
      "cell_type": "markdown",
      "metadata": {
        "id": "ZRpWqgtBzHsn"
      },
      "source": [
        "*Let's consider the received data frame, from the point of view of statistics*"
      ]
    },
    {
      "cell_type": "code",
      "execution_count": 21,
      "metadata": {
        "colab": {
          "base_uri": "https://localhost:8080/"
        },
        "id": "FjJGYU5ozHso",
        "outputId": "035f106f-419d-42c7-d013-a524ec23bd2e"
      },
      "outputs": [
        {
          "output_type": "execute_result",
          "data": {
            "text/plain": [
              "count    7551.000000\n",
              "mean       32.275593\n",
              "std        65.154219\n",
              "min         1.000000\n",
              "25%         9.000000\n",
              "50%        20.000000\n",
              "75%        37.000000\n",
              "max      2307.000000\n",
              "Name: event_name, dtype: float64"
            ]
          },
          "metadata": {},
          "execution_count": 21
        }
      ],
      "source": [
        "group_event['event_name'].describe()"
      ]
    },
    {
      "cell_type": "markdown",
      "metadata": {
        "id": "KtF-9I6zzHso"
      },
      "source": [
        "*Each user has an average of 32 events, while half of the users have no more than 20 events, 75% of users do not commit more than 37 events*"
      ]
    },
    {
      "cell_type": "markdown",
      "metadata": {
        "id": "BMjl3NilzHso"
      },
      "source": [
        "*Let's study the period of observations and our experiment* "
      ]
    },
    {
      "cell_type": "code",
      "execution_count": 22,
      "metadata": {
        "colab": {
          "base_uri": "https://localhost:8080/"
        },
        "id": "lG-Hz1kUzHsp",
        "outputId": "28ddec48-a363-4d66-cc07-9529af0f4709"
      },
      "outputs": [
        {
          "output_type": "stream",
          "name": "stdout",
          "text": [
            "A/A/B test started at 2019-07-25 00:00:00\n",
            "A/A/B  test finished at 2019-08-07 00:00:00\n",
            "A/A/B test lasts 13 days 00:00:00\n"
          ]
        }
      ],
      "source": [
        "print('A/A/B test started at {}'.format(data['date'].min())),\n",
        "print('A/A/B  test finished at {}'.format(data['date'].max())),\n",
        "print('A/A/B test lasts {}'.format(data['date'].max() - data['date'].min()))"
      ]
    },
    {
      "cell_type": "markdown",
      "metadata": {
        "id": "aV0KoLd3zHsp"
      },
      "source": [
        "*Let's plot a histogram of the distribution of events:*"
      ]
    },
    {
      "cell_type": "code",
      "execution_count": 23,
      "metadata": {
        "colab": {
          "base_uri": "https://localhost:8080/",
          "height": 433
        },
        "id": "7HLHwTEXzHsp",
        "outputId": "51fd9ed8-1178-4e00-a2c2-e500d94e8a2c"
      },
      "outputs": [
        {
          "output_type": "display_data",
          "data": {
            "text/plain": [
              "<Figure size 2520x864 with 1 Axes>"
            ],
            "image/png": "[encoded data removed]"
          },
          "metadata": {
            "needs_background": "light"
          }
        }
      ],
      "source": [
        "fig = plt.figure()\n",
        "fig.set_figwidth(35)\n",
        "fig.set_figheight(12)\n",
        "ax = fig.add_subplot(1, 1, 1)\n",
        "plt.hist(data['date_time'], color = 'Red', bins = 50)\n",
        "plt.xlabel('Date', fontsize = 22, color = 'Black')\n",
        "plt.ylabel('Number of of events', fontsize = 22, color = 'Black')\n",
        "plt.title('Distribution of the number of events',fontsize = 22, color = 'Black');"
      ]
    },
    {
      "cell_type": "markdown",
      "metadata": {
        "id": "Znsmy9wNzHsq"
      },
      "source": [
        "*Technically, in the logs of new days for some users, events from the past can “reach” - this can “skew the data”. The main data array accumulates after August 01, and it is most likely worth getting rid of the data before this date to get rid of distortions.*"
      ]
    },
    {
      "cell_type": "code",
      "execution_count": 24,
      "metadata": {
        "id": "vTgzTaV6zHsq"
      },
      "outputs": [],
      "source": [
        "data = data[data['date_time']>='2019-08-01']"
      ]
    },
    {
      "cell_type": "code",
      "execution_count": 25,
      "metadata": {
        "colab": {
          "base_uri": "https://localhost:8080/"
        },
        "id": "MrTkyYmzzHsq",
        "outputId": "d5c28360-e997-4f3d-953f-d9b4c7c8c23e"
      },
      "outputs": [
        {
          "output_type": "stream",
          "name": "stdout",
          "text": [
            "<class 'pandas.core.frame.DataFrame'>\n",
            "Int64Index: 240887 entries, 2828 to 244125\n",
            "Data columns (total 6 columns):\n",
            " #   Column           Non-Null Count   Dtype         \n",
            "---  ------           --------------   -----         \n",
            " 0   event_name       240887 non-null  object        \n",
            " 1   device_id_hash   240887 non-null  int64         \n",
            " 2   event_timestamp  240887 non-null  int64         \n",
            " 3   exp_id           240887 non-null  int64         \n",
            " 4   date_time        240887 non-null  datetime64[ns]\n",
            " 5   date             240887 non-null  datetime64[ns]\n",
            "dtypes: datetime64[ns](2), int64(3), object(1)\n",
            "memory usage: 12.9+ MB\n"
          ]
        }
      ],
      "source": [
        "data.info()"
      ]
    },
    {
      "cell_type": "markdown",
      "metadata": {
        "id": "t7fYbtpozHsq"
      },
      "source": [
        "*In total, by now we have gotten rid of 1.2% of the sample, but at the same time, we got cleaner data.*"
      ]
    },
    {
      "cell_type": "markdown",
      "metadata": {
        "id": "8f5co_-TzHsq"
      },
      "source": [
        "*Next, let's consider the homogeneity of groups, group the number of users into groups*"
      ]
    },
    {
      "cell_type": "code",
      "execution_count": 26,
      "metadata": {
        "colab": {
          "base_uri": "https://localhost:8080/",
          "height": 143
        },
        "id": "O21N_nTqzHsq",
        "outputId": "87bde29c-2133-4740-d59c-9ff801c31e92"
      },
      "outputs": [
        {
          "output_type": "execute_result",
          "data": {
            "text/plain": [
              "   exp_id  device_id_hash\n",
              "0     246            2484\n",
              "1     247            2513\n",
              "2     248            2537"
            ],
            "text/html": [
              "\n",
              "  <div id=\"df-b7deb914-bd24-4ec1-ae40-ad88a1389919\">\n",
              "    <div class=\"colab-df-container\">\n",
              "      <div>\n",
              "<style scoped>\n",
              "    .dataframe tbody tr th:only-of-type {\n",
              "        vertical-align: middle;\n",
              "    }\n",
              "\n",
              "    .dataframe tbody tr th {\n",
              "        vertical-align: top;\n",
              "    }\n",
              "\n",
              "    .dataframe thead th {\n",
              "        text-align: right;\n",
              "    }\n",
              "</style>\n",
              "<table border=\"1\" class=\"dataframe\">\n",
              "  <thead>\n",
              "    <tr style=\"text-align: right;\">\n",
              "      <th></th>\n",
              "      <th>exp_id</th>\n",
              "      <th>device_id_hash</th>\n",
              "    </tr>\n",
              "  </thead>\n",
              "  <tbody>\n",
              "    <tr>\n",
              "      <th>0</th>\n",
              "      <td>246</td>\n",
              "      <td>2484</td>\n",
              "    </tr>\n",
              "    <tr>\n",
              "      <th>1</th>\n",
              "      <td>247</td>\n",
              "      <td>2513</td>\n",
              "    </tr>\n",
              "    <tr>\n",
              "      <th>2</th>\n",
              "      <td>248</td>\n",
              "      <td>2537</td>\n",
              "    </tr>\n",
              "  </tbody>\n",
              "</table>\n",
              "</div>\n",
              "      <button class=\"colab-df-convert\" onclick=\"convertToInteractive('df-b7deb914-bd24-4ec1-ae40-ad88a1389919')\"\n",
              "              title=\"Convert this dataframe to an interactive table.\"\n",
              "              style=\"display:none;\">\n",
              "        \n",
              "  <svg xmlns=\"http://www.w3.org/2000/svg\" height=\"24px\"viewBox=\"0 0 24 24\"\n",
              "       width=\"24px\">\n",
              "    <path d=\"M0 0h24v24H0V0z\" fill=\"none\"/>\n",
              "    <path d=\"M18.56 5.44l.94 2.06.94-2.06 2.06-.94-2.06-.94-.94-2.06-.94 2.06-2.06.94zm-11 1L8.5 8.5l.94-2.06 2.06-.94-2.06-.94L8.5 2.5l-.94 2.06-2.06.94zm10 10l.94 2.06.94-2.06 2.06-.94-2.06-.94-.94-2.06-.94 2.06-2.06.94z\"/><path d=\"M17.41 7.96l-1.37-1.37c-.4-.4-.92-.59-1.43-.59-.52 0-1.04.2-1.43.59L10.3 9.45l-7.72 7.72c-.78.78-.78 2.05 0 2.83L4 21.41c.39.39.9.59 1.41.59.51 0 1.02-.2 1.41-.59l7.78-7.78 2.81-2.81c.8-.78.8-2.07 0-2.86zM5.41 20L4 18.59l7.72-7.72 1.47 1.35L5.41 20z\"/>\n",
              "  </svg>\n",
              "      </button>\n",
              "      \n",
              "  <style>\n",
              "    .colab-df-container {\n",
              "      display:flex;\n",
              "      flex-wrap:wrap;\n",
              "      gap: 12px;\n",
              "    }\n",
              "\n",
              "    .colab-df-convert {\n",
              "      background-color: #E8F0FE;\n",
              "      border: none;\n",
              "      border-radius: 50%;\n",
              "      cursor: pointer;\n",
              "      display: none;\n",
              "      fill: #1967D2;\n",
              "      height: 32px;\n",
              "      padding: 0 0 0 0;\n",
              "      width: 32px;\n",
              "    }\n",
              "\n",
              "    .colab-df-convert:hover {\n",
              "      background-color: #E2EBFA;\n",
              "      box-shadow: 0px 1px 2px rgba(60, 64, 67, 0.3), 0px 1px 3px 1px rgba(60, 64, 67, 0.15);\n",
              "      fill: #174EA6;\n",
              "    }\n",
              "\n",
              "    [theme=dark] .colab-df-convert {\n",
              "      background-color: #3B4455;\n",
              "      fill: #D2E3FC;\n",
              "    }\n",
              "\n",
              "    [theme=dark] .colab-df-convert:hover {\n",
              "      background-color: #434B5C;\n",
              "      box-shadow: 0px 1px 3px 1px rgba(0, 0, 0, 0.15);\n",
              "      filter: drop-shadow(0px 1px 2px rgba(0, 0, 0, 0.3));\n",
              "      fill: #FFFFFF;\n",
              "    }\n",
              "  </style>\n",
              "\n",
              "      <script>\n",
              "        const buttonEl =\n",
              "          document.querySelector('#df-b7deb914-bd24-4ec1-ae40-ad88a1389919 button.colab-df-convert');\n",
              "        buttonEl.style.display =\n",
              "          google.colab.kernel.accessAllowed ? 'block' : 'none';\n",
              "\n",
              "        async function convertToInteractive(key) {\n",
              "          const element = document.querySelector('#df-b7deb914-bd24-4ec1-ae40-ad88a1389919');\n",
              "          const dataTable =\n",
              "            await google.colab.kernel.invokeFunction('convertToInteractive',\n",
              "                                                     [key], {});\n",
              "          if (!dataTable) return;\n",
              "\n",
              "          const docLinkHtml = 'Like what you see? Visit the ' +\n",
              "            '<a target=\"_blank\" href=https://colab.research.google.com/notebooks/data_table.ipynb>data table notebook</a>'\n",
              "            + ' to learn more about interactive tables.';\n",
              "          element.innerHTML = '';\n",
              "          dataTable['output_type'] = 'display_data';\n",
              "          await google.colab.output.renderOutput(dataTable, element);\n",
              "          const docLink = document.createElement('div');\n",
              "          docLink.innerHTML = docLinkHtml;\n",
              "          element.appendChild(docLink);\n",
              "        }\n",
              "      </script>\n",
              "    </div>\n",
              "  </div>\n",
              "  "
            ]
          },
          "metadata": {},
          "execution_count": 26
        }
      ],
      "source": [
        "group_amount = data.groupby('exp_id')['device_id_hash'].nunique().reset_index()\n",
        "group_amount"
      ]
    },
    {
      "cell_type": "markdown",
      "metadata": {
        "id": "T607GnvozHsr"
      },
      "source": [
        "*Let's consider the difference between the largest and smallest group*"
      ]
    },
    {
      "cell_type": "code",
      "execution_count": 27,
      "metadata": {
        "colab": {
          "base_uri": "https://localhost:8080/"
        },
        "id": "mPD6fc3bzHsr",
        "outputId": "7164d61f-09b6-43a3-88b2-7e1cdc6bf7ce"
      },
      "outputs": [
        {
          "output_type": "stream",
          "name": "stdout",
          "text": [
            "Difference between largest 248 group and smallest 246 group is 2.0890815924320063 %\n"
          ]
        }
      ],
      "source": [
        "print('Difference between largest 248 group and smallest 246 group is {} %'.format(\n",
        "    (data[data['exp_id']==248]['device_id_hash'].nunique() - data[data['exp_id']==246]['device_id_hash'].nunique())*100/ data[data['exp_id']==248]['device_id_hash'].nunique()))"
      ]
    },
    {
      "cell_type": "markdown",
      "metadata": {
        "id": "NmpzEPM8zHsr"
      },
      "source": [
        "*The difference between the groups is quite significant, as far as we have enough data to consider the experiment successful, we will consider further, let's see the intersections between the groups*"
      ]
    },
    {
      "cell_type": "code",
      "execution_count": 28,
      "metadata": {
        "id": "NgV-QRbuzHsr"
      },
      "outputs": [],
      "source": [
        "users_246 = data [data['exp_id'] == 246]['device_id_hash'].unique()\n",
        "users_247 = data [data['exp_id'] == 247]['device_id_hash'].unique()\n",
        "users_248 = data [data['exp_id'] == 248]['device_id_hash'].unique()\n",
        "\n"
      ]
    },
    {
      "cell_type": "code",
      "execution_count": 29,
      "metadata": {
        "id": "TnluZfv8zHss"
      },
      "outputs": [],
      "source": [
        "common_246_247 = len(list(set(users_246).intersection(set(users_247))))\n",
        "common_247_248 = len(list(set(users_247).intersection(set(users_248))))\n",
        "common_246_248 = len(list(set(users_246).intersection(set(users_248))))"
      ]
    },
    {
      "cell_type": "code",
      "execution_count": 30,
      "metadata": {
        "colab": {
          "base_uri": "https://localhost:8080/"
        },
        "id": "_AYiCCNbzHss",
        "outputId": "db07c206-acd5-4f2b-b097-bad15cafdc82"
      },
      "outputs": [
        {
          "output_type": "stream",
          "name": "stdout",
          "text": [
            "Intersections between each two groups of three are: 246 and 247 - 0; 247 and 248 - 0; 246 and 248 - 0\n"
          ]
        }
      ],
      "source": [
        "print('Intersections between each two groups of three are: 246 and 247 - {}; 247 and 248 - {}; 246 and 248 - {}'.format(common_246_247, common_247_248, common_246_248)) "
      ]
    },
    {
      "cell_type": "markdown",
      "metadata": {
        "id": "EDUYMVvIzHss"
      },
      "source": [
        "*There were no intersections in the samples, which means they are homogeneous. We will keep in mind the difference in the number of unique users between groups*"
      ]
    },
    {
      "cell_type": "markdown",
      "metadata": {
        "id": "gauhrdF7zHss"
      },
      "source": [
        "<div style=\"border:solid green 2px; padding: 20px\">\n",
        "    \n",
        "**Conclusions:**\n",
        "We identified the main events and calculated the number of events per user - 32 events, while 75% of users do not take more than 37 actions.<br/>\n",
        "We chose the cleanest period of the experiment (starting from August 1) and got rid of the data that could introduce a bias.<br/>\n",
        "We also looked at the data by groups and found that they do not overlap.<br/>\n",
        "Next, consider the funnel of events and how users behave at different stages.    \n",
        "    "
      ]
    },
    {
      "cell_type": "markdown",
      "metadata": {
        "id": "xB9w34bSzHst"
      },
      "source": [
        "## Explore the funnel of events"
      ]
    },
    {
      "cell_type": "markdown",
      "metadata": {
        "id": "505T1R95zHst"
      },
      "source": [
        "*Once again, we will group the data for each of the events and sort them in descending order*"
      ]
    },
    {
      "cell_type": "code",
      "execution_count": 31,
      "metadata": {
        "id": "IYZSJ2UYzHst"
      },
      "outputs": [],
      "source": [
        "event_group = data.groupby('event_name')['device_id_hash'].count().reset_index().sort_values(by='device_id_hash', ascending=False)"
      ]
    },
    {
      "cell_type": "code",
      "execution_count": 32,
      "metadata": {
        "scrolled": true,
        "colab": {
          "base_uri": "https://localhost:8080/",
          "height": 206
        },
        "id": "ChuuOuF1zHst",
        "outputId": "9558056f-56d2-4cb2-ba41-9321088a26dd"
      },
      "outputs": [
        {
          "output_type": "execute_result",
          "data": {
            "text/plain": [
              "<pandas.io.formats.style.Styler at 0x7fe89b604190>"
            ],
            "text/html": [
              "<style type=\"text/css\">\n",
              "#T_2dd9b_row0_col1 {\n",
              "  background-color: #008000;\n",
              "  color: #f1f1f1;\n",
              "}\n",
              "#T_2dd9b_row1_col1 {\n",
              "  background-color: #8fc68f;\n",
              "  color: #000000;\n",
              "}\n",
              "#T_2dd9b_row2_col1 {\n",
              "  background-color: #98ca98;\n",
              "  color: #000000;\n",
              "}\n",
              "#T_2dd9b_row3_col1 {\n",
              "  background-color: #a8d2a8;\n",
              "  color: #000000;\n",
              "}\n",
              "#T_2dd9b_row4_col1 {\n",
              "  background-color: #ebf3eb;\n",
              "  color: #000000;\n",
              "}\n",
              "</style>\n",
              "<table id=\"T_2dd9b_\" class=\"dataframe\">\n",
              "  <thead>\n",
              "    <tr>\n",
              "      <th class=\"blank level0\" >&nbsp;</th>\n",
              "      <th class=\"col_heading level0 col0\" >event_name</th>\n",
              "      <th class=\"col_heading level0 col1\" >device_id_hash</th>\n",
              "    </tr>\n",
              "  </thead>\n",
              "  <tbody>\n",
              "    <tr>\n",
              "      <th id=\"T_2dd9b_level0_row0\" class=\"row_heading level0 row0\" >1</th>\n",
              "      <td id=\"T_2dd9b_row0_col0\" class=\"data row0 col0\" >MainScreenAppear</td>\n",
              "      <td id=\"T_2dd9b_row0_col1\" class=\"data row0 col1\" >117328</td>\n",
              "    </tr>\n",
              "    <tr>\n",
              "      <th id=\"T_2dd9b_level0_row1\" class=\"row_heading level0 row1\" >2</th>\n",
              "      <td id=\"T_2dd9b_row1_col0\" class=\"data row1 col0\" >OffersScreenAppear</td>\n",
              "      <td id=\"T_2dd9b_row1_col1\" class=\"data row1 col1\" >46333</td>\n",
              "    </tr>\n",
              "    <tr>\n",
              "      <th id=\"T_2dd9b_level0_row2\" class=\"row_heading level0 row2\" >0</th>\n",
              "      <td id=\"T_2dd9b_row2_col0\" class=\"data row2 col0\" >CartScreenAppear</td>\n",
              "      <td id=\"T_2dd9b_row2_col1\" class=\"data row2 col1\" >42303</td>\n",
              "    </tr>\n",
              "    <tr>\n",
              "      <th id=\"T_2dd9b_level0_row3\" class=\"row_heading level0 row3\" >3</th>\n",
              "      <td id=\"T_2dd9b_row3_col0\" class=\"data row3 col0\" >PaymentScreenSuccessful</td>\n",
              "      <td id=\"T_2dd9b_row3_col1\" class=\"data row3 col1\" >33918</td>\n",
              "    </tr>\n",
              "    <tr>\n",
              "      <th id=\"T_2dd9b_level0_row4\" class=\"row_heading level0 row4\" >4</th>\n",
              "      <td id=\"T_2dd9b_row4_col0\" class=\"data row4 col0\" >Tutorial</td>\n",
              "      <td id=\"T_2dd9b_row4_col1\" class=\"data row4 col1\" >1005</td>\n",
              "    </tr>\n",
              "  </tbody>\n",
              "</table>\n"
            ]
          },
          "metadata": {},
          "execution_count": 32
        }
      ],
      "source": [
        "cm = sns.light_palette(\"green\", as_cmap=True)\n",
        "\n",
        "event_group.style.background_gradient(cmap=cm)"
      ]
    },
    {
      "cell_type": "markdown",
      "metadata": {
        "id": "s4F9nO5jzHsu"
      },
      "source": [
        "*Let's add a column with the share of users from the total number of users who made each event*"
      ]
    },
    {
      "cell_type": "code",
      "execution_count": 33,
      "metadata": {
        "id": "KAJMmwjkzHsu"
      },
      "outputs": [],
      "source": [
        "event_group['part_of_events'] = event_group['device_id_hash']*100/ len (data['event_name'])\n"
      ]
    },
    {
      "cell_type": "code",
      "execution_count": 34,
      "metadata": {
        "colab": {
          "base_uri": "https://localhost:8080/",
          "height": 206
        },
        "id": "ZKAotX02zHsv",
        "outputId": "1fde9aa4-4045-4950-8955-e1fac5986a43"
      },
      "outputs": [
        {
          "output_type": "execute_result",
          "data": {
            "text/plain": [
              "                event_name  device_id_hash\n",
              "1         MainScreenAppear            7419\n",
              "2       OffersScreenAppear            4593\n",
              "0         CartScreenAppear            3734\n",
              "3  PaymentScreenSuccessful            3539\n",
              "4                 Tutorial             840"
            ],
            "text/html": [
              "\n",
              "  <div id=\"df-632a5cf5-a5e5-453a-8040-b0ef2a778dc9\">\n",
              "    <div class=\"colab-df-container\">\n",
              "      <div>\n",
              "<style scoped>\n",
              "    .dataframe tbody tr th:only-of-type {\n",
              "        vertical-align: middle;\n",
              "    }\n",
              "\n",
              "    .dataframe tbody tr th {\n",
              "        vertical-align: top;\n",
              "    }\n",
              "\n",
              "    .dataframe thead th {\n",
              "        text-align: right;\n",
              "    }\n",
              "</style>\n",
              "<table border=\"1\" class=\"dataframe\">\n",
              "  <thead>\n",
              "    <tr style=\"text-align: right;\">\n",
              "      <th></th>\n",
              "      <th>event_name</th>\n",
              "      <th>device_id_hash</th>\n",
              "    </tr>\n",
              "  </thead>\n",
              "  <tbody>\n",
              "    <tr>\n",
              "      <th>1</th>\n",
              "      <td>MainScreenAppear</td>\n",
              "      <td>7419</td>\n",
              "    </tr>\n",
              "    <tr>\n",
              "      <th>2</th>\n",
              "      <td>OffersScreenAppear</td>\n",
              "      <td>4593</td>\n",
              "    </tr>\n",
              "    <tr>\n",
              "      <th>0</th>\n",
              "      <td>CartScreenAppear</td>\n",
              "      <td>3734</td>\n",
              "    </tr>\n",
              "    <tr>\n",
              "      <th>3</th>\n",
              "      <td>PaymentScreenSuccessful</td>\n",
              "      <td>3539</td>\n",
              "    </tr>\n",
              "    <tr>\n",
              "      <th>4</th>\n",
              "      <td>Tutorial</td>\n",
              "      <td>840</td>\n",
              "    </tr>\n",
              "  </tbody>\n",
              "</table>\n",
              "</div>\n",
              "      <button class=\"colab-df-convert\" onclick=\"convertToInteractive('df-632a5cf5-a5e5-453a-8040-b0ef2a778dc9')\"\n",
              "              title=\"Convert this dataframe to an interactive table.\"\n",
              "              style=\"display:none;\">\n",
              "        \n",
              "  <svg xmlns=\"http://www.w3.org/2000/svg\" height=\"24px\"viewBox=\"0 0 24 24\"\n",
              "       width=\"24px\">\n",
              "    <path d=\"M0 0h24v24H0V0z\" fill=\"none\"/>\n",
              "    <path d=\"M18.56 5.44l.94 2.06.94-2.06 2.06-.94-2.06-.94-.94-2.06-.94 2.06-2.06.94zm-11 1L8.5 8.5l.94-2.06 2.06-.94-2.06-.94L8.5 2.5l-.94 2.06-2.06.94zm10 10l.94 2.06.94-2.06 2.06-.94-2.06-.94-.94-2.06-.94 2.06-2.06.94z\"/><path d=\"M17.41 7.96l-1.37-1.37c-.4-.4-.92-.59-1.43-.59-.52 0-1.04.2-1.43.59L10.3 9.45l-7.72 7.72c-.78.78-.78 2.05 0 2.83L4 21.41c.39.39.9.59 1.41.59.51 0 1.02-.2 1.41-.59l7.78-7.78 2.81-2.81c.8-.78.8-2.07 0-2.86zM5.41 20L4 18.59l7.72-7.72 1.47 1.35L5.41 20z\"/>\n",
              "  </svg>\n",
              "      </button>\n",
              "      \n",
              "  <style>\n",
              "    .colab-df-container {\n",
              "      display:flex;\n",
              "      flex-wrap:wrap;\n",
              "      gap: 12px;\n",
              "    }\n",
              "\n",
              "    .colab-df-convert {\n",
              "      background-color: #E8F0FE;\n",
              "      border: none;\n",
              "      border-radius: 50%;\n",
              "      cursor: pointer;\n",
              "      display: none;\n",
              "      fill: #1967D2;\n",
              "      height: 32px;\n",
              "      padding: 0 0 0 0;\n",
              "      width: 32px;\n",
              "    }\n",
              "\n",
              "    .colab-df-convert:hover {\n",
              "      background-color: #E2EBFA;\n",
              "      box-shadow: 0px 1px 2px rgba(60, 64, 67, 0.3), 0px 1px 3px 1px rgba(60, 64, 67, 0.15);\n",
              "      fill: #174EA6;\n",
              "    }\n",
              "\n",
              "    [theme=dark] .colab-df-convert {\n",
              "      background-color: #3B4455;\n",
              "      fill: #D2E3FC;\n",
              "    }\n",
              "\n",
              "    [theme=dark] .colab-df-convert:hover {\n",
              "      background-color: #434B5C;\n",
              "      box-shadow: 0px 1px 3px 1px rgba(0, 0, 0, 0.15);\n",
              "      filter: drop-shadow(0px 1px 2px rgba(0, 0, 0, 0.3));\n",
              "      fill: #FFFFFF;\n",
              "    }\n",
              "  </style>\n",
              "\n",
              "      <script>\n",
              "        const buttonEl =\n",
              "          document.querySelector('#df-632a5cf5-a5e5-453a-8040-b0ef2a778dc9 button.colab-df-convert');\n",
              "        buttonEl.style.display =\n",
              "          google.colab.kernel.accessAllowed ? 'block' : 'none';\n",
              "\n",
              "        async function convertToInteractive(key) {\n",
              "          const element = document.querySelector('#df-632a5cf5-a5e5-453a-8040-b0ef2a778dc9');\n",
              "          const dataTable =\n",
              "            await google.colab.kernel.invokeFunction('convertToInteractive',\n",
              "                                                     [key], {});\n",
              "          if (!dataTable) return;\n",
              "\n",
              "          const docLinkHtml = 'Like what you see? Visit the ' +\n",
              "            '<a target=\"_blank\" href=https://colab.research.google.com/notebooks/data_table.ipynb>data table notebook</a>'\n",
              "            + ' to learn more about interactive tables.';\n",
              "          element.innerHTML = '';\n",
              "          dataTable['output_type'] = 'display_data';\n",
              "          await google.colab.output.renderOutput(dataTable, element);\n",
              "          const docLink = document.createElement('div');\n",
              "          docLink.innerHTML = docLinkHtml;\n",
              "          element.appendChild(docLink);\n",
              "        }\n",
              "      </script>\n",
              "    </div>\n",
              "  </div>\n",
              "  "
            ]
          },
          "metadata": {},
          "execution_count": 34
        }
      ],
      "source": [
        "event_group_users = data.groupby('event_name')['device_id_hash'].nunique().reset_index().sort_values(by='device_id_hash', ascending =False)\n",
        "event_group_users"
      ]
    },
    {
      "cell_type": "code",
      "execution_count": 35,
      "metadata": {
        "colab": {
          "base_uri": "https://localhost:8080/",
          "height": 206
        },
        "id": "ustiqTlTzHsv",
        "outputId": "fd8276fc-bf1e-4ede-a116-365873452b0e"
      },
      "outputs": [
        {
          "output_type": "execute_result",
          "data": {
            "text/plain": [
              "                event_name  device_id_hash  part_of_users\n",
              "1         MainScreenAppear            7419      98.473586\n",
              "2       OffersScreenAppear            4593      60.963632\n",
              "0         CartScreenAppear            3734      49.561986\n",
              "3  PaymentScreenSuccessful            3539      46.973719\n",
              "4                 Tutorial             840      11.149456"
            ],
            "text/html": [
              "\n",
              "  <div id=\"df-ca848981-7faf-465b-87ca-177a04513dd6\">\n",
              "    <div class=\"colab-df-container\">\n",
              "      <div>\n",
              "<style scoped>\n",
              "    .dataframe tbody tr th:only-of-type {\n",
              "        vertical-align: middle;\n",
              "    }\n",
              "\n",
              "    .dataframe tbody tr th {\n",
              "        vertical-align: top;\n",
              "    }\n",
              "\n",
              "    .dataframe thead th {\n",
              "        text-align: right;\n",
              "    }\n",
              "</style>\n",
              "<table border=\"1\" class=\"dataframe\">\n",
              "  <thead>\n",
              "    <tr style=\"text-align: right;\">\n",
              "      <th></th>\n",
              "      <th>event_name</th>\n",
              "      <th>device_id_hash</th>\n",
              "      <th>part_of_users</th>\n",
              "    </tr>\n",
              "  </thead>\n",
              "  <tbody>\n",
              "    <tr>\n",
              "      <th>1</th>\n",
              "      <td>MainScreenAppear</td>\n",
              "      <td>7419</td>\n",
              "      <td>98.473586</td>\n",
              "    </tr>\n",
              "    <tr>\n",
              "      <th>2</th>\n",
              "      <td>OffersScreenAppear</td>\n",
              "      <td>4593</td>\n",
              "      <td>60.963632</td>\n",
              "    </tr>\n",
              "    <tr>\n",
              "      <th>0</th>\n",
              "      <td>CartScreenAppear</td>\n",
              "      <td>3734</td>\n",
              "      <td>49.561986</td>\n",
              "    </tr>\n",
              "    <tr>\n",
              "      <th>3</th>\n",
              "      <td>PaymentScreenSuccessful</td>\n",
              "      <td>3539</td>\n",
              "      <td>46.973719</td>\n",
              "    </tr>\n",
              "    <tr>\n",
              "      <th>4</th>\n",
              "      <td>Tutorial</td>\n",
              "      <td>840</td>\n",
              "      <td>11.149456</td>\n",
              "    </tr>\n",
              "  </tbody>\n",
              "</table>\n",
              "</div>\n",
              "      <button class=\"colab-df-convert\" onclick=\"convertToInteractive('df-ca848981-7faf-465b-87ca-177a04513dd6')\"\n",
              "              title=\"Convert this dataframe to an interactive table.\"\n",
              "              style=\"display:none;\">\n",
              "        \n",
              "  <svg xmlns=\"http://www.w3.org/2000/svg\" height=\"24px\"viewBox=\"0 0 24 24\"\n",
              "       width=\"24px\">\n",
              "    <path d=\"M0 0h24v24H0V0z\" fill=\"none\"/>\n",
              "    <path d=\"M18.56 5.44l.94 2.06.94-2.06 2.06-.94-2.06-.94-.94-2.06-.94 2.06-2.06.94zm-11 1L8.5 8.5l.94-2.06 2.06-.94-2.06-.94L8.5 2.5l-.94 2.06-2.06.94zm10 10l.94 2.06.94-2.06 2.06-.94-2.06-.94-.94-2.06-.94 2.06-2.06.94z\"/><path d=\"M17.41 7.96l-1.37-1.37c-.4-.4-.92-.59-1.43-.59-.52 0-1.04.2-1.43.59L10.3 9.45l-7.72 7.72c-.78.78-.78 2.05 0 2.83L4 21.41c.39.39.9.59 1.41.59.51 0 1.02-.2 1.41-.59l7.78-7.78 2.81-2.81c.8-.78.8-2.07 0-2.86zM5.41 20L4 18.59l7.72-7.72 1.47 1.35L5.41 20z\"/>\n",
              "  </svg>\n",
              "      </button>\n",
              "      \n",
              "  <style>\n",
              "    .colab-df-container {\n",
              "      display:flex;\n",
              "      flex-wrap:wrap;\n",
              "      gap: 12px;\n",
              "    }\n",
              "\n",
              "    .colab-df-convert {\n",
              "      background-color: #E8F0FE;\n",
              "      border: none;\n",
              "      border-radius: 50%;\n",
              "      cursor: pointer;\n",
              "      display: none;\n",
              "      fill: #1967D2;\n",
              "      height: 32px;\n",
              "      padding: 0 0 0 0;\n",
              "      width: 32px;\n",
              "    }\n",
              "\n",
              "    .colab-df-convert:hover {\n",
              "      background-color: #E2EBFA;\n",
              "      box-shadow: 0px 1px 2px rgba(60, 64, 67, 0.3), 0px 1px 3px 1px rgba(60, 64, 67, 0.15);\n",
              "      fill: #174EA6;\n",
              "    }\n",
              "\n",
              "    [theme=dark] .colab-df-convert {\n",
              "      background-color: #3B4455;\n",
              "      fill: #D2E3FC;\n",
              "    }\n",
              "\n",
              "    [theme=dark] .colab-df-convert:hover {\n",
              "      background-color: #434B5C;\n",
              "      box-shadow: 0px 1px 3px 1px rgba(0, 0, 0, 0.15);\n",
              "      filter: drop-shadow(0px 1px 2px rgba(0, 0, 0, 0.3));\n",
              "      fill: #FFFFFF;\n",
              "    }\n",
              "  </style>\n",
              "\n",
              "      <script>\n",
              "        const buttonEl =\n",
              "          document.querySelector('#df-ca848981-7faf-465b-87ca-177a04513dd6 button.colab-df-convert');\n",
              "        buttonEl.style.display =\n",
              "          google.colab.kernel.accessAllowed ? 'block' : 'none';\n",
              "\n",
              "        async function convertToInteractive(key) {\n",
              "          const element = document.querySelector('#df-ca848981-7faf-465b-87ca-177a04513dd6');\n",
              "          const dataTable =\n",
              "            await google.colab.kernel.invokeFunction('convertToInteractive',\n",
              "                                                     [key], {});\n",
              "          if (!dataTable) return;\n",
              "\n",
              "          const docLinkHtml = 'Like what you see? Visit the ' +\n",
              "            '<a target=\"_blank\" href=https://colab.research.google.com/notebooks/data_table.ipynb>data table notebook</a>'\n",
              "            + ' to learn more about interactive tables.';\n",
              "          element.innerHTML = '';\n",
              "          dataTable['output_type'] = 'display_data';\n",
              "          await google.colab.output.renderOutput(dataTable, element);\n",
              "          const docLink = document.createElement('div');\n",
              "          docLink.innerHTML = docLinkHtml;\n",
              "          element.appendChild(docLink);\n",
              "        }\n",
              "      </script>\n",
              "    </div>\n",
              "  </div>\n",
              "  "
            ]
          },
          "metadata": {},
          "execution_count": 35
        }
      ],
      "source": [
        "event_group_users ['part_of_users']=event_group_users ['device_id_hash']*100/ data['device_id_hash'].nunique()\n",
        "event_group_users"
      ]
    },
    {
      "cell_type": "code",
      "execution_count": 36,
      "metadata": {
        "colab": {
          "base_uri": "https://localhost:8080/",
          "height": 206
        },
        "id": "HQ4xVbLRzHsv",
        "outputId": "04f1b0ab-48ee-4b0d-f00d-6412f681ca19"
      },
      "outputs": [
        {
          "output_type": "execute_result",
          "data": {
            "text/plain": [
              "                event_name  device_id_hash_x  part_of_events  \\\n",
              "0         MainScreenAppear            117328       48.706655   \n",
              "1       OffersScreenAppear             46333       19.234330   \n",
              "2         CartScreenAppear             42303       17.561346   \n",
              "3  PaymentScreenSuccessful             33918       14.080461   \n",
              "4                 Tutorial              1005        0.417208   \n",
              "\n",
              "   device_id_hash_y  part_of_users  \n",
              "0              7419      98.473586  \n",
              "1              4593      60.963632  \n",
              "2              3734      49.561986  \n",
              "3              3539      46.973719  \n",
              "4               840      11.149456  "
            ],
            "text/html": [
              "\n",
              "  <div id=\"df-9acb1b9c-03f5-491a-b11a-4d3596691981\">\n",
              "    <div class=\"colab-df-container\">\n",
              "      <div>\n",
              "<style scoped>\n",
              "    .dataframe tbody tr th:only-of-type {\n",
              "        vertical-align: middle;\n",
              "    }\n",
              "\n",
              "    .dataframe tbody tr th {\n",
              "        vertical-align: top;\n",
              "    }\n",
              "\n",
              "    .dataframe thead th {\n",
              "        text-align: right;\n",
              "    }\n",
              "</style>\n",
              "<table border=\"1\" class=\"dataframe\">\n",
              "  <thead>\n",
              "    <tr style=\"text-align: right;\">\n",
              "      <th></th>\n",
              "      <th>event_name</th>\n",
              "      <th>device_id_hash_x</th>\n",
              "      <th>part_of_events</th>\n",
              "      <th>device_id_hash_y</th>\n",
              "      <th>part_of_users</th>\n",
              "    </tr>\n",
              "  </thead>\n",
              "  <tbody>\n",
              "    <tr>\n",
              "      <th>0</th>\n",
              "      <td>MainScreenAppear</td>\n",
              "      <td>117328</td>\n",
              "      <td>48.706655</td>\n",
              "      <td>7419</td>\n",
              "      <td>98.473586</td>\n",
              "    </tr>\n",
              "    <tr>\n",
              "      <th>1</th>\n",
              "      <td>OffersScreenAppear</td>\n",
              "      <td>46333</td>\n",
              "      <td>19.234330</td>\n",
              "      <td>4593</td>\n",
              "      <td>60.963632</td>\n",
              "    </tr>\n",
              "    <tr>\n",
              "      <th>2</th>\n",
              "      <td>CartScreenAppear</td>\n",
              "      <td>42303</td>\n",
              "      <td>17.561346</td>\n",
              "      <td>3734</td>\n",
              "      <td>49.561986</td>\n",
              "    </tr>\n",
              "    <tr>\n",
              "      <th>3</th>\n",
              "      <td>PaymentScreenSuccessful</td>\n",
              "      <td>33918</td>\n",
              "      <td>14.080461</td>\n",
              "      <td>3539</td>\n",
              "      <td>46.973719</td>\n",
              "    </tr>\n",
              "    <tr>\n",
              "      <th>4</th>\n",
              "      <td>Tutorial</td>\n",
              "      <td>1005</td>\n",
              "      <td>0.417208</td>\n",
              "      <td>840</td>\n",
              "      <td>11.149456</td>\n",
              "    </tr>\n",
              "  </tbody>\n",
              "</table>\n",
              "</div>\n",
              "      <button class=\"colab-df-convert\" onclick=\"convertToInteractive('df-9acb1b9c-03f5-491a-b11a-4d3596691981')\"\n",
              "              title=\"Convert this dataframe to an interactive table.\"\n",
              "              style=\"display:none;\">\n",
              "        \n",
              "  <svg xmlns=\"http://www.w3.org/2000/svg\" height=\"24px\"viewBox=\"0 0 24 24\"\n",
              "       width=\"24px\">\n",
              "    <path d=\"M0 0h24v24H0V0z\" fill=\"none\"/>\n",
              "    <path d=\"M18.56 5.44l.94 2.06.94-2.06 2.06-.94-2.06-.94-.94-2.06-.94 2.06-2.06.94zm-11 1L8.5 8.5l.94-2.06 2.06-.94-2.06-.94L8.5 2.5l-.94 2.06-2.06.94zm10 10l.94 2.06.94-2.06 2.06-.94-2.06-.94-.94-2.06-.94 2.06-2.06.94z\"/><path d=\"M17.41 7.96l-1.37-1.37c-.4-.4-.92-.59-1.43-.59-.52 0-1.04.2-1.43.59L10.3 9.45l-7.72 7.72c-.78.78-.78 2.05 0 2.83L4 21.41c.39.39.9.59 1.41.59.51 0 1.02-.2 1.41-.59l7.78-7.78 2.81-2.81c.8-.78.8-2.07 0-2.86zM5.41 20L4 18.59l7.72-7.72 1.47 1.35L5.41 20z\"/>\n",
              "  </svg>\n",
              "      </button>\n",
              "      \n",
              "  <style>\n",
              "    .colab-df-container {\n",
              "      display:flex;\n",
              "      flex-wrap:wrap;\n",
              "      gap: 12px;\n",
              "    }\n",
              "\n",
              "    .colab-df-convert {\n",
              "      background-color: #E8F0FE;\n",
              "      border: none;\n",
              "      border-radius: 50%;\n",
              "      cursor: pointer;\n",
              "      display: none;\n",
              "      fill: #1967D2;\n",
              "      height: 32px;\n",
              "      padding: 0 0 0 0;\n",
              "      width: 32px;\n",
              "    }\n",
              "\n",
              "    .colab-df-convert:hover {\n",
              "      background-color: #E2EBFA;\n",
              "      box-shadow: 0px 1px 2px rgba(60, 64, 67, 0.3), 0px 1px 3px 1px rgba(60, 64, 67, 0.15);\n",
              "      fill: #174EA6;\n",
              "    }\n",
              "\n",
              "    [theme=dark] .colab-df-convert {\n",
              "      background-color: #3B4455;\n",
              "      fill: #D2E3FC;\n",
              "    }\n",
              "\n",
              "    [theme=dark] .colab-df-convert:hover {\n",
              "      background-color: #434B5C;\n",
              "      box-shadow: 0px 1px 3px 1px rgba(0, 0, 0, 0.15);\n",
              "      filter: drop-shadow(0px 1px 2px rgba(0, 0, 0, 0.3));\n",
              "      fill: #FFFFFF;\n",
              "    }\n",
              "  </style>\n",
              "\n",
              "      <script>\n",
              "        const buttonEl =\n",
              "          document.querySelector('#df-9acb1b9c-03f5-491a-b11a-4d3596691981 button.colab-df-convert');\n",
              "        buttonEl.style.display =\n",
              "          google.colab.kernel.accessAllowed ? 'block' : 'none';\n",
              "\n",
              "        async function convertToInteractive(key) {\n",
              "          const element = document.querySelector('#df-9acb1b9c-03f5-491a-b11a-4d3596691981');\n",
              "          const dataTable =\n",
              "            await google.colab.kernel.invokeFunction('convertToInteractive',\n",
              "                                                     [key], {});\n",
              "          if (!dataTable) return;\n",
              "\n",
              "          const docLinkHtml = 'Like what you see? Visit the ' +\n",
              "            '<a target=\"_blank\" href=https://colab.research.google.com/notebooks/data_table.ipynb>data table notebook</a>'\n",
              "            + ' to learn more about interactive tables.';\n",
              "          element.innerHTML = '';\n",
              "          dataTable['output_type'] = 'display_data';\n",
              "          await google.colab.output.renderOutput(dataTable, element);\n",
              "          const docLink = document.createElement('div');\n",
              "          docLink.innerHTML = docLinkHtml;\n",
              "          element.appendChild(docLink);\n",
              "        }\n",
              "      </script>\n",
              "    </div>\n",
              "  </div>\n",
              "  "
            ]
          },
          "metadata": {},
          "execution_count": 36
        }
      ],
      "source": [
        "event_group = event_group.merge(event_group_users, on='event_name', how='left')\n",
        "event_group"
      ]
    },
    {
      "cell_type": "code",
      "execution_count": 37,
      "metadata": {
        "id": "mom8YTAVzHsw"
      },
      "outputs": [],
      "source": [
        "event_group.columns = ['event_name','device_id_hash','part_of_events', 'device_id_hash_unq','part_of_users']"
      ]
    },
    {
      "cell_type": "code",
      "execution_count": 38,
      "metadata": {
        "colab": {
          "base_uri": "https://localhost:8080/",
          "height": 206
        },
        "id": "NZZGeTRazHsw",
        "outputId": "75308a63-e7ad-4a58-b05b-a20f3fbfdcf7"
      },
      "outputs": [
        {
          "output_type": "execute_result",
          "data": {
            "text/plain": [
              "<pandas.io.formats.style.Styler at 0x7fe89ae87310>"
            ],
            "text/html": [
              "<style type=\"text/css\">\n",
              "#T_b8a5b_row0_col1, #T_b8a5b_row0_col2, #T_b8a5b_row0_col3, #T_b8a5b_row0_col4 {\n",
              "  background-color: #008000;\n",
              "  color: #f1f1f1;\n",
              "}\n",
              "#T_b8a5b_row1_col1, #T_b8a5b_row1_col2 {\n",
              "  background-color: #8fc68f;\n",
              "  color: #000000;\n",
              "}\n",
              "#T_b8a5b_row1_col3, #T_b8a5b_row1_col4 {\n",
              "  background-color: #64b164;\n",
              "  color: #f1f1f1;\n",
              "}\n",
              "#T_b8a5b_row2_col1, #T_b8a5b_row2_col2 {\n",
              "  background-color: #98ca98;\n",
              "  color: #000000;\n",
              "}\n",
              "#T_b8a5b_row2_col3, #T_b8a5b_row2_col4 {\n",
              "  background-color: #84c084;\n",
              "  color: #000000;\n",
              "}\n",
              "#T_b8a5b_row3_col1, #T_b8a5b_row3_col2 {\n",
              "  background-color: #a8d2a8;\n",
              "  color: #000000;\n",
              "}\n",
              "#T_b8a5b_row3_col3, #T_b8a5b_row3_col4 {\n",
              "  background-color: #8ac48a;\n",
              "  color: #000000;\n",
              "}\n",
              "#T_b8a5b_row4_col1, #T_b8a5b_row4_col2, #T_b8a5b_row4_col3, #T_b8a5b_row4_col4 {\n",
              "  background-color: #ebf3eb;\n",
              "  color: #000000;\n",
              "}\n",
              "</style>\n",
              "<table id=\"T_b8a5b_\" class=\"dataframe\">\n",
              "  <thead>\n",
              "    <tr>\n",
              "      <th class=\"blank level0\" >&nbsp;</th>\n",
              "      <th class=\"col_heading level0 col0\" >event_name</th>\n",
              "      <th class=\"col_heading level0 col1\" >device_id_hash</th>\n",
              "      <th class=\"col_heading level0 col2\" >part_of_events</th>\n",
              "      <th class=\"col_heading level0 col3\" >device_id_hash_unq</th>\n",
              "      <th class=\"col_heading level0 col4\" >part_of_users</th>\n",
              "    </tr>\n",
              "  </thead>\n",
              "  <tbody>\n",
              "    <tr>\n",
              "      <th id=\"T_b8a5b_level0_row0\" class=\"row_heading level0 row0\" >0</th>\n",
              "      <td id=\"T_b8a5b_row0_col0\" class=\"data row0 col0\" >MainScreenAppear</td>\n",
              "      <td id=\"T_b8a5b_row0_col1\" class=\"data row0 col1\" >117328</td>\n",
              "      <td id=\"T_b8a5b_row0_col2\" class=\"data row0 col2\" >48.706655</td>\n",
              "      <td id=\"T_b8a5b_row0_col3\" class=\"data row0 col3\" >7419</td>\n",
              "      <td id=\"T_b8a5b_row0_col4\" class=\"data row0 col4\" >98.473586</td>\n",
              "    </tr>\n",
              "    <tr>\n",
              "      <th id=\"T_b8a5b_level0_row1\" class=\"row_heading level0 row1\" >1</th>\n",
              "      <td id=\"T_b8a5b_row1_col0\" class=\"data row1 col0\" >OffersScreenAppear</td>\n",
              "      <td id=\"T_b8a5b_row1_col1\" class=\"data row1 col1\" >46333</td>\n",
              "      <td id=\"T_b8a5b_row1_col2\" class=\"data row1 col2\" >19.234330</td>\n",
              "      <td id=\"T_b8a5b_row1_col3\" class=\"data row1 col3\" >4593</td>\n",
              "      <td id=\"T_b8a5b_row1_col4\" class=\"data row1 col4\" >60.963632</td>\n",
              "    </tr>\n",
              "    <tr>\n",
              "      <th id=\"T_b8a5b_level0_row2\" class=\"row_heading level0 row2\" >2</th>\n",
              "      <td id=\"T_b8a5b_row2_col0\" class=\"data row2 col0\" >CartScreenAppear</td>\n",
              "      <td id=\"T_b8a5b_row2_col1\" class=\"data row2 col1\" >42303</td>\n",
              "      <td id=\"T_b8a5b_row2_col2\" class=\"data row2 col2\" >17.561346</td>\n",
              "      <td id=\"T_b8a5b_row2_col3\" class=\"data row2 col3\" >3734</td>\n",
              "      <td id=\"T_b8a5b_row2_col4\" class=\"data row2 col4\" >49.561986</td>\n",
              "    </tr>\n",
              "    <tr>\n",
              "      <th id=\"T_b8a5b_level0_row3\" class=\"row_heading level0 row3\" >3</th>\n",
              "      <td id=\"T_b8a5b_row3_col0\" class=\"data row3 col0\" >PaymentScreenSuccessful</td>\n",
              "      <td id=\"T_b8a5b_row3_col1\" class=\"data row3 col1\" >33918</td>\n",
              "      <td id=\"T_b8a5b_row3_col2\" class=\"data row3 col2\" >14.080461</td>\n",
              "      <td id=\"T_b8a5b_row3_col3\" class=\"data row3 col3\" >3539</td>\n",
              "      <td id=\"T_b8a5b_row3_col4\" class=\"data row3 col4\" >46.973719</td>\n",
              "    </tr>\n",
              "    <tr>\n",
              "      <th id=\"T_b8a5b_level0_row4\" class=\"row_heading level0 row4\" >4</th>\n",
              "      <td id=\"T_b8a5b_row4_col0\" class=\"data row4 col0\" >Tutorial</td>\n",
              "      <td id=\"T_b8a5b_row4_col1\" class=\"data row4 col1\" >1005</td>\n",
              "      <td id=\"T_b8a5b_row4_col2\" class=\"data row4 col2\" >0.417208</td>\n",
              "      <td id=\"T_b8a5b_row4_col3\" class=\"data row4 col3\" >840</td>\n",
              "      <td id=\"T_b8a5b_row4_col4\" class=\"data row4 col4\" >11.149456</td>\n",
              "    </tr>\n",
              "  </tbody>\n",
              "</table>\n"
            ]
          },
          "metadata": {},
          "execution_count": 38
        }
      ],
      "source": [
        "cm = sns.light_palette(\"green\", as_cmap=True)\n",
        "\n",
        "event_group.style.background_gradient(cmap=cm)"
      ]
    },
    {
      "cell_type": "markdown",
      "metadata": {
        "id": "RavWYqfQzHsw"
      },
      "source": [
        "*Thus, the following funnel of events is built: main screen > order screen > cart > payment. Separately, there is the \"user guide\" action, which most likely will not affect the economy of the application in any way, and makes up only 0.4% of all user actions and 11% of users used it, so we will also remove it*\n"
      ]
    },
    {
      "cell_type": "code",
      "execution_count": 39,
      "metadata": {
        "id": "l0yNA8-WzHsw"
      },
      "outputs": [],
      "source": [
        "data = data[data['event_name']!='Tutorial'].copy()\n",
        "event_group = event_group[event_group['event_name']!='Tutorial'].copy()"
      ]
    },
    {
      "cell_type": "code",
      "execution_count": 40,
      "metadata": {
        "colab": {
          "base_uri": "https://localhost:8080/"
        },
        "id": "cIEPbTLXzHsw",
        "outputId": "3d1d5ae2-8591-4f77-952c-d4dfbac0315b"
      },
      "outputs": [
        {
          "output_type": "stream",
          "name": "stdout",
          "text": [
            "<class 'pandas.core.frame.DataFrame'>\n",
            "Int64Index: 239882 entries, 2829 to 244125\n",
            "Data columns (total 6 columns):\n",
            " #   Column           Non-Null Count   Dtype         \n",
            "---  ------           --------------   -----         \n",
            " 0   event_name       239882 non-null  object        \n",
            " 1   device_id_hash   239882 non-null  int64         \n",
            " 2   event_timestamp  239882 non-null  int64         \n",
            " 3   exp_id           239882 non-null  int64         \n",
            " 4   date_time        239882 non-null  datetime64[ns]\n",
            " 5   date             239882 non-null  datetime64[ns]\n",
            "dtypes: datetime64[ns](2), int64(3), object(1)\n",
            "memory usage: 12.8+ MB\n"
          ]
        }
      ],
      "source": [
        "data.info()"
      ]
    },
    {
      "cell_type": "markdown",
      "metadata": {
        "id": "px6YWYh4zHsx"
      },
      "source": [
        "*At the moment, we got rid of 1.7% of the data from the original dataframe*"
      ]
    },
    {
      "cell_type": "markdown",
      "metadata": {
        "id": "1gUbTLaOzHsx"
      },
      "source": [
        "*Once again, we will group the resulting data, and add a column with a step conversion for each stage, as well as calculate the total conversion from the main screen to the successful payment screen*"
      ]
    },
    {
      "cell_type": "code",
      "execution_count": 41,
      "metadata": {
        "scrolled": true,
        "colab": {
          "base_uri": "https://localhost:8080/",
          "height": 175
        },
        "id": "W9NGPVSWzHsx",
        "outputId": "0964ce74-4811-4677-e76b-017c6302a505"
      },
      "outputs": [
        {
          "output_type": "execute_result",
          "data": {
            "text/plain": [
              "<pandas.io.formats.style.Styler at 0x7fe89ae78dd0>"
            ],
            "text/html": [
              "<style type=\"text/css\">\n",
              "#T_b7e0e_row0_col1, #T_b7e0e_row0_col2, #T_b7e0e_row0_col3, #T_b7e0e_row0_col4 {\n",
              "  background-color: #008000;\n",
              "  color: #f1f1f1;\n",
              "}\n",
              "#T_b7e0e_row1_col1, #T_b7e0e_row1_col2 {\n",
              "  background-color: #c8e2c8;\n",
              "  color: #000000;\n",
              "}\n",
              "#T_b7e0e_row1_col3, #T_b7e0e_row1_col4 {\n",
              "  background-color: #abd4ab;\n",
              "  color: #000000;\n",
              "}\n",
              "#T_b7e0e_row2_col1, #T_b7e0e_row2_col2 {\n",
              "  background-color: #d4e8d4;\n",
              "  color: #000000;\n",
              "}\n",
              "#T_b7e0e_row2_col3, #T_b7e0e_row2_col4 {\n",
              "  background-color: #e0eedf;\n",
              "  color: #000000;\n",
              "}\n",
              "#T_b7e0e_row3_col1, #T_b7e0e_row3_col2, #T_b7e0e_row3_col3, #T_b7e0e_row3_col4 {\n",
              "  background-color: #ebf3eb;\n",
              "  color: #000000;\n",
              "}\n",
              "</style>\n",
              "<table id=\"T_b7e0e_\" class=\"dataframe\">\n",
              "  <thead>\n",
              "    <tr>\n",
              "      <th class=\"blank level0\" >&nbsp;</th>\n",
              "      <th class=\"col_heading level0 col0\" >event_name</th>\n",
              "      <th class=\"col_heading level0 col1\" >device_id_hash</th>\n",
              "      <th class=\"col_heading level0 col2\" >part_of_events</th>\n",
              "      <th class=\"col_heading level0 col3\" >device_id_hash_unq</th>\n",
              "      <th class=\"col_heading level0 col4\" >part_of_users</th>\n",
              "    </tr>\n",
              "  </thead>\n",
              "  <tbody>\n",
              "    <tr>\n",
              "      <th id=\"T_b7e0e_level0_row0\" class=\"row_heading level0 row0\" >0</th>\n",
              "      <td id=\"T_b7e0e_row0_col0\" class=\"data row0 col0\" >MainScreenAppear</td>\n",
              "      <td id=\"T_b7e0e_row0_col1\" class=\"data row0 col1\" >117328</td>\n",
              "      <td id=\"T_b7e0e_row0_col2\" class=\"data row0 col2\" >48.706655</td>\n",
              "      <td id=\"T_b7e0e_row0_col3\" class=\"data row0 col3\" >7419</td>\n",
              "      <td id=\"T_b7e0e_row0_col4\" class=\"data row0 col4\" >98.473586</td>\n",
              "    </tr>\n",
              "    <tr>\n",
              "      <th id=\"T_b7e0e_level0_row1\" class=\"row_heading level0 row1\" >1</th>\n",
              "      <td id=\"T_b7e0e_row1_col0\" class=\"data row1 col0\" >OffersScreenAppear</td>\n",
              "      <td id=\"T_b7e0e_row1_col1\" class=\"data row1 col1\" >46333</td>\n",
              "      <td id=\"T_b7e0e_row1_col2\" class=\"data row1 col2\" >19.234330</td>\n",
              "      <td id=\"T_b7e0e_row1_col3\" class=\"data row1 col3\" >4593</td>\n",
              "      <td id=\"T_b7e0e_row1_col4\" class=\"data row1 col4\" >60.963632</td>\n",
              "    </tr>\n",
              "    <tr>\n",
              "      <th id=\"T_b7e0e_level0_row2\" class=\"row_heading level0 row2\" >2</th>\n",
              "      <td id=\"T_b7e0e_row2_col0\" class=\"data row2 col0\" >CartScreenAppear</td>\n",
              "      <td id=\"T_b7e0e_row2_col1\" class=\"data row2 col1\" >42303</td>\n",
              "      <td id=\"T_b7e0e_row2_col2\" class=\"data row2 col2\" >17.561346</td>\n",
              "      <td id=\"T_b7e0e_row2_col3\" class=\"data row2 col3\" >3734</td>\n",
              "      <td id=\"T_b7e0e_row2_col4\" class=\"data row2 col4\" >49.561986</td>\n",
              "    </tr>\n",
              "    <tr>\n",
              "      <th id=\"T_b7e0e_level0_row3\" class=\"row_heading level0 row3\" >3</th>\n",
              "      <td id=\"T_b7e0e_row3_col0\" class=\"data row3 col0\" >PaymentScreenSuccessful</td>\n",
              "      <td id=\"T_b7e0e_row3_col1\" class=\"data row3 col1\" >33918</td>\n",
              "      <td id=\"T_b7e0e_row3_col2\" class=\"data row3 col2\" >14.080461</td>\n",
              "      <td id=\"T_b7e0e_row3_col3\" class=\"data row3 col3\" >3539</td>\n",
              "      <td id=\"T_b7e0e_row3_col4\" class=\"data row3 col4\" >46.973719</td>\n",
              "    </tr>\n",
              "  </tbody>\n",
              "</table>\n"
            ]
          },
          "metadata": {},
          "execution_count": 41
        }
      ],
      "source": [
        "cm = sns.light_palette(\"green\", as_cmap=True)\n",
        "\n",
        "event_group.style.background_gradient(cmap=cm)\n"
      ]
    },
    {
      "cell_type": "code",
      "execution_count": 42,
      "metadata": {
        "id": "hcPHdBbpzHsx"
      },
      "outputs": [],
      "source": [
        "conversion_1 = data[data['event_name']=='OffersScreenAppear']['device_id_hash'].nunique()/data[data['event_name']=='MainScreenAppear']['device_id_hash'].nunique()"
      ]
    },
    {
      "cell_type": "code",
      "execution_count": 43,
      "metadata": {
        "id": "9M_NWhfDzHsx"
      },
      "outputs": [],
      "source": [
        "conversion_2 = data[data['event_name']=='CartScreenAppear']['device_id_hash'].nunique()/data[data['event_name']=='OffersScreenAppear']['device_id_hash'].nunique()"
      ]
    },
    {
      "cell_type": "code",
      "execution_count": 44,
      "metadata": {
        "id": "Ad-JHZ9AzHsx"
      },
      "outputs": [],
      "source": [
        "conversion_3 = data[data['event_name']=='PaymentScreenSuccessful']['device_id_hash'].nunique()/data[data['event_name']=='CartScreenAppear']['device_id_hash'].nunique()"
      ]
    },
    {
      "cell_type": "code",
      "execution_count": 45,
      "metadata": {
        "id": "kLx_kbqjzHsy"
      },
      "outputs": [],
      "source": [
        "total_conversion = data[data['event_name']=='PaymentScreenSuccessful']['device_id_hash'].nunique() /data[data['event_name']=='MainScreenAppear']['device_id_hash'].nunique()"
      ]
    },
    {
      "cell_type": "code",
      "execution_count": 46,
      "metadata": {
        "id": "88quRz9IzHsy"
      },
      "outputs": [],
      "source": [
        "event_group['conversion'] = [0, conversion_1,conversion_2,conversion_3]"
      ]
    },
    {
      "cell_type": "code",
      "execution_count": 47,
      "metadata": {
        "colab": {
          "base_uri": "https://localhost:8080/",
          "height": 175
        },
        "id": "Ilr6AdPuzHsy",
        "outputId": "09545668-5a31-4658-9c52-4721e42d43f5"
      },
      "outputs": [
        {
          "output_type": "execute_result",
          "data": {
            "text/plain": [
              "<pandas.io.formats.style.Styler at 0x7fe89ae47610>"
            ],
            "text/html": [
              "<style type=\"text/css\">\n",
              "#T_c0fbb_row0_col1, #T_c0fbb_row0_col2, #T_c0fbb_row0_col3, #T_c0fbb_row0_col4, #T_c0fbb_row3_col5 {\n",
              "  background-color: #008000;\n",
              "  color: #f1f1f1;\n",
              "}\n",
              "#T_c0fbb_row0_col5, #T_c0fbb_row3_col1, #T_c0fbb_row3_col2, #T_c0fbb_row3_col3, #T_c0fbb_row3_col4 {\n",
              "  background-color: #ebf3eb;\n",
              "  color: #000000;\n",
              "}\n",
              "#T_c0fbb_row1_col1, #T_c0fbb_row1_col2 {\n",
              "  background-color: #c8e2c8;\n",
              "  color: #000000;\n",
              "}\n",
              "#T_c0fbb_row1_col3, #T_c0fbb_row1_col4 {\n",
              "  background-color: #abd4ab;\n",
              "  color: #000000;\n",
              "}\n",
              "#T_c0fbb_row1_col5 {\n",
              "  background-color: #51a851;\n",
              "  color: #f1f1f1;\n",
              "}\n",
              "#T_c0fbb_row2_col1, #T_c0fbb_row2_col2 {\n",
              "  background-color: #d4e8d4;\n",
              "  color: #000000;\n",
              "}\n",
              "#T_c0fbb_row2_col3, #T_c0fbb_row2_col4 {\n",
              "  background-color: #e0eedf;\n",
              "  color: #000000;\n",
              "}\n",
              "#T_c0fbb_row2_col5 {\n",
              "  background-color: #219021;\n",
              "  color: #f1f1f1;\n",
              "}\n",
              "</style>\n",
              "<table id=\"T_c0fbb_\" class=\"dataframe\">\n",
              "  <thead>\n",
              "    <tr>\n",
              "      <th class=\"blank level0\" >&nbsp;</th>\n",
              "      <th class=\"col_heading level0 col0\" >event_name</th>\n",
              "      <th class=\"col_heading level0 col1\" >device_id_hash</th>\n",
              "      <th class=\"col_heading level0 col2\" >part_of_events</th>\n",
              "      <th class=\"col_heading level0 col3\" >device_id_hash_unq</th>\n",
              "      <th class=\"col_heading level0 col4\" >part_of_users</th>\n",
              "      <th class=\"col_heading level0 col5\" >conversion</th>\n",
              "    </tr>\n",
              "  </thead>\n",
              "  <tbody>\n",
              "    <tr>\n",
              "      <th id=\"T_c0fbb_level0_row0\" class=\"row_heading level0 row0\" >0</th>\n",
              "      <td id=\"T_c0fbb_row0_col0\" class=\"data row0 col0\" >MainScreenAppear</td>\n",
              "      <td id=\"T_c0fbb_row0_col1\" class=\"data row0 col1\" >117328</td>\n",
              "      <td id=\"T_c0fbb_row0_col2\" class=\"data row0 col2\" >48.706655</td>\n",
              "      <td id=\"T_c0fbb_row0_col3\" class=\"data row0 col3\" >7419</td>\n",
              "      <td id=\"T_c0fbb_row0_col4\" class=\"data row0 col4\" >98.473586</td>\n",
              "      <td id=\"T_c0fbb_row0_col5\" class=\"data row0 col5\" >0.000000</td>\n",
              "    </tr>\n",
              "    <tr>\n",
              "      <th id=\"T_c0fbb_level0_row1\" class=\"row_heading level0 row1\" >1</th>\n",
              "      <td id=\"T_c0fbb_row1_col0\" class=\"data row1 col0\" >OffersScreenAppear</td>\n",
              "      <td id=\"T_c0fbb_row1_col1\" class=\"data row1 col1\" >46333</td>\n",
              "      <td id=\"T_c0fbb_row1_col2\" class=\"data row1 col2\" >19.234330</td>\n",
              "      <td id=\"T_c0fbb_row1_col3\" class=\"data row1 col3\" >4593</td>\n",
              "      <td id=\"T_c0fbb_row1_col4\" class=\"data row1 col4\" >60.963632</td>\n",
              "      <td id=\"T_c0fbb_row1_col5\" class=\"data row1 col5\" >0.619086</td>\n",
              "    </tr>\n",
              "    <tr>\n",
              "      <th id=\"T_c0fbb_level0_row2\" class=\"row_heading level0 row2\" >2</th>\n",
              "      <td id=\"T_c0fbb_row2_col0\" class=\"data row2 col0\" >CartScreenAppear</td>\n",
              "      <td id=\"T_c0fbb_row2_col1\" class=\"data row2 col1\" >42303</td>\n",
              "      <td id=\"T_c0fbb_row2_col2\" class=\"data row2 col2\" >17.561346</td>\n",
              "      <td id=\"T_c0fbb_row2_col3\" class=\"data row2 col3\" >3734</td>\n",
              "      <td id=\"T_c0fbb_row2_col4\" class=\"data row2 col4\" >49.561986</td>\n",
              "      <td id=\"T_c0fbb_row2_col5\" class=\"data row2 col5\" >0.812976</td>\n",
              "    </tr>\n",
              "    <tr>\n",
              "      <th id=\"T_c0fbb_level0_row3\" class=\"row_heading level0 row3\" >3</th>\n",
              "      <td id=\"T_c0fbb_row3_col0\" class=\"data row3 col0\" >PaymentScreenSuccessful</td>\n",
              "      <td id=\"T_c0fbb_row3_col1\" class=\"data row3 col1\" >33918</td>\n",
              "      <td id=\"T_c0fbb_row3_col2\" class=\"data row3 col2\" >14.080461</td>\n",
              "      <td id=\"T_c0fbb_row3_col3\" class=\"data row3 col3\" >3539</td>\n",
              "      <td id=\"T_c0fbb_row3_col4\" class=\"data row3 col4\" >46.973719</td>\n",
              "      <td id=\"T_c0fbb_row3_col5\" class=\"data row3 col5\" >0.947777</td>\n",
              "    </tr>\n",
              "  </tbody>\n",
              "</table>\n"
            ]
          },
          "metadata": {},
          "execution_count": 47
        }
      ],
      "source": [
        "cm = sns.light_palette(\"green\", as_cmap=True)\n",
        "\n",
        "event_group.style.background_gradient(cmap=cm)"
      ]
    },
    {
      "cell_type": "code",
      "execution_count": 48,
      "metadata": {
        "colab": {
          "base_uri": "https://localhost:8080/"
        },
        "id": "OcUxBIbvzHsy",
        "outputId": "7049d70a-edf4-46e0-c70e-6f8e973062a9"
      },
      "outputs": [
        {
          "output_type": "stream",
          "name": "stdout",
          "text": [
            "Total conversion from first screen to payment is 47.7 %\n"
          ]
        }
      ],
      "source": [
        "print('Total conversion from first screen to payment is {} %'.format(round(total_conversion*100,2)))"
      ]
    },
    {
      "cell_type": "markdown",
      "metadata": {
        "id": "2afzaf3LzHsy"
      },
      "source": [
        "*Let's plot a graph of user losses at each stage*"
      ]
    },
    {
      "cell_type": "code",
      "execution_count": 49,
      "metadata": {
        "id": "EBgr_EwBzHsy"
      },
      "outputs": [],
      "source": [
        "event_group['lost_users'] = 1 - event_group[event_group['event_name']!='MainScreenAppear']['conversion']"
      ]
    },
    {
      "cell_type": "code",
      "execution_count": 50,
      "metadata": {
        "colab": {
          "base_uri": "https://localhost:8080/",
          "height": 175
        },
        "id": "9BZyryRszHsz",
        "outputId": "e7a26dca-a094-4a03-84a8-85b8954ae73d"
      },
      "outputs": [
        {
          "output_type": "execute_result",
          "data": {
            "text/plain": [
              "                event_name  device_id_hash  part_of_events  \\\n",
              "0         MainScreenAppear          117328       48.706655   \n",
              "1       OffersScreenAppear           46333       19.234330   \n",
              "2         CartScreenAppear           42303       17.561346   \n",
              "3  PaymentScreenSuccessful           33918       14.080461   \n",
              "\n",
              "   device_id_hash_unq  part_of_users  conversion  lost_users  \n",
              "0                7419      98.473586    0.000000    0.000000  \n",
              "1                4593      60.963632    0.619086    0.380914  \n",
              "2                3734      49.561986    0.812976    0.187024  \n",
              "3                3539      46.973719    0.947777    0.052223  "
            ],
            "text/html": [
              "\n",
              "  <div id=\"df-9dcbf759-6f4a-481c-8480-d196ad688294\">\n",
              "    <div class=\"colab-df-container\">\n",
              "      <div>\n",
              "<style scoped>\n",
              "    .dataframe tbody tr th:only-of-type {\n",
              "        vertical-align: middle;\n",
              "    }\n",
              "\n",
              "    .dataframe tbody tr th {\n",
              "        vertical-align: top;\n",
              "    }\n",
              "\n",
              "    .dataframe thead th {\n",
              "        text-align: right;\n",
              "    }\n",
              "</style>\n",
              "<table border=\"1\" class=\"dataframe\">\n",
              "  <thead>\n",
              "    <tr style=\"text-align: right;\">\n",
              "      <th></th>\n",
              "      <th>event_name</th>\n",
              "      <th>device_id_hash</th>\n",
              "      <th>part_of_events</th>\n",
              "      <th>device_id_hash_unq</th>\n",
              "      <th>part_of_users</th>\n",
              "      <th>conversion</th>\n",
              "      <th>lost_users</th>\n",
              "    </tr>\n",
              "  </thead>\n",
              "  <tbody>\n",
              "    <tr>\n",
              "      <th>0</th>\n",
              "      <td>MainScreenAppear</td>\n",
              "      <td>117328</td>\n",
              "      <td>48.706655</td>\n",
              "      <td>7419</td>\n",
              "      <td>98.473586</td>\n",
              "      <td>0.000000</td>\n",
              "      <td>0.000000</td>\n",
              "    </tr>\n",
              "    <tr>\n",
              "      <th>1</th>\n",
              "      <td>OffersScreenAppear</td>\n",
              "      <td>46333</td>\n",
              "      <td>19.234330</td>\n",
              "      <td>4593</td>\n",
              "      <td>60.963632</td>\n",
              "      <td>0.619086</td>\n",
              "      <td>0.380914</td>\n",
              "    </tr>\n",
              "    <tr>\n",
              "      <th>2</th>\n",
              "      <td>CartScreenAppear</td>\n",
              "      <td>42303</td>\n",
              "      <td>17.561346</td>\n",
              "      <td>3734</td>\n",
              "      <td>49.561986</td>\n",
              "      <td>0.812976</td>\n",
              "      <td>0.187024</td>\n",
              "    </tr>\n",
              "    <tr>\n",
              "      <th>3</th>\n",
              "      <td>PaymentScreenSuccessful</td>\n",
              "      <td>33918</td>\n",
              "      <td>14.080461</td>\n",
              "      <td>3539</td>\n",
              "      <td>46.973719</td>\n",
              "      <td>0.947777</td>\n",
              "      <td>0.052223</td>\n",
              "    </tr>\n",
              "  </tbody>\n",
              "</table>\n",
              "</div>\n",
              "      <button class=\"colab-df-convert\" onclick=\"convertToInteractive('df-9dcbf759-6f4a-481c-8480-d196ad688294')\"\n",
              "              title=\"Convert this dataframe to an interactive table.\"\n",
              "              style=\"display:none;\">\n",
              "        \n",
              "  <svg xmlns=\"http://www.w3.org/2000/svg\" height=\"24px\"viewBox=\"0 0 24 24\"\n",
              "       width=\"24px\">\n",
              "    <path d=\"M0 0h24v24H0V0z\" fill=\"none\"/>\n",
              "    <path d=\"M18.56 5.44l.94 2.06.94-2.06 2.06-.94-2.06-.94-.94-2.06-.94 2.06-2.06.94zm-11 1L8.5 8.5l.94-2.06 2.06-.94-2.06-.94L8.5 2.5l-.94 2.06-2.06.94zm10 10l.94 2.06.94-2.06 2.06-.94-2.06-.94-.94-2.06-.94 2.06-2.06.94z\"/><path d=\"M17.41 7.96l-1.37-1.37c-.4-.4-.92-.59-1.43-.59-.52 0-1.04.2-1.43.59L10.3 9.45l-7.72 7.72c-.78.78-.78 2.05 0 2.83L4 21.41c.39.39.9.59 1.41.59.51 0 1.02-.2 1.41-.59l7.78-7.78 2.81-2.81c.8-.78.8-2.07 0-2.86zM5.41 20L4 18.59l7.72-7.72 1.47 1.35L5.41 20z\"/>\n",
              "  </svg>\n",
              "      </button>\n",
              "      \n",
              "  <style>\n",
              "    .colab-df-container {\n",
              "      display:flex;\n",
              "      flex-wrap:wrap;\n",
              "      gap: 12px;\n",
              "    }\n",
              "\n",
              "    .colab-df-convert {\n",
              "      background-color: #E8F0FE;\n",
              "      border: none;\n",
              "      border-radius: 50%;\n",
              "      cursor: pointer;\n",
              "      display: none;\n",
              "      fill: #1967D2;\n",
              "      height: 32px;\n",
              "      padding: 0 0 0 0;\n",
              "      width: 32px;\n",
              "    }\n",
              "\n",
              "    .colab-df-convert:hover {\n",
              "      background-color: #E2EBFA;\n",
              "      box-shadow: 0px 1px 2px rgba(60, 64, 67, 0.3), 0px 1px 3px 1px rgba(60, 64, 67, 0.15);\n",
              "      fill: #174EA6;\n",
              "    }\n",
              "\n",
              "    [theme=dark] .colab-df-convert {\n",
              "      background-color: #3B4455;\n",
              "      fill: #D2E3FC;\n",
              "    }\n",
              "\n",
              "    [theme=dark] .colab-df-convert:hover {\n",
              "      background-color: #434B5C;\n",
              "      box-shadow: 0px 1px 3px 1px rgba(0, 0, 0, 0.15);\n",
              "      filter: drop-shadow(0px 1px 2px rgba(0, 0, 0, 0.3));\n",
              "      fill: #FFFFFF;\n",
              "    }\n",
              "  </style>\n",
              "\n",
              "      <script>\n",
              "        const buttonEl =\n",
              "          document.querySelector('#df-9dcbf759-6f4a-481c-8480-d196ad688294 button.colab-df-convert');\n",
              "        buttonEl.style.display =\n",
              "          google.colab.kernel.accessAllowed ? 'block' : 'none';\n",
              "\n",
              "        async function convertToInteractive(key) {\n",
              "          const element = document.querySelector('#df-9dcbf759-6f4a-481c-8480-d196ad688294');\n",
              "          const dataTable =\n",
              "            await google.colab.kernel.invokeFunction('convertToInteractive',\n",
              "                                                     [key], {});\n",
              "          if (!dataTable) return;\n",
              "\n",
              "          const docLinkHtml = 'Like what you see? Visit the ' +\n",
              "            '<a target=\"_blank\" href=https://colab.research.google.com/notebooks/data_table.ipynb>data table notebook</a>'\n",
              "            + ' to learn more about interactive tables.';\n",
              "          element.innerHTML = '';\n",
              "          dataTable['output_type'] = 'display_data';\n",
              "          await google.colab.output.renderOutput(dataTable, element);\n",
              "          const docLink = document.createElement('div');\n",
              "          docLink.innerHTML = docLinkHtml;\n",
              "          element.appendChild(docLink);\n",
              "        }\n",
              "      </script>\n",
              "    </div>\n",
              "  </div>\n",
              "  "
            ]
          },
          "metadata": {},
          "execution_count": 50
        }
      ],
      "source": [
        "event_group.fillna(0)"
      ]
    },
    {
      "cell_type": "code",
      "execution_count": 51,
      "metadata": {
        "colab": {
          "base_uri": "https://localhost:8080/",
          "height": 435
        },
        "id": "Nc3imNsWzHsz",
        "outputId": "42efe9ba-6da6-4a4e-c310-fb2ed93cc51d"
      },
      "outputs": [
        {
          "output_type": "display_data",
          "data": {
            "text/plain": [
              "<Figure size 2520x864 with 1 Axes>"
            ],
            "image/png": "[encoded data removed]"
          },
          "metadata": {
            "needs_background": "light"
          }
        }
      ],
      "source": [
        "fig = plt.figure()\n",
        "fig.set_figwidth(35)\n",
        "fig.set_figheight(12)\n",
        "ax = fig.add_subplot(1, 1, 1)\n",
        "plt.plot(event_group['event_name'],event_group['lost_users'], label=\"Lost on users for every step\", color = 'Darkblue')\n",
        "plt.legend()\n",
        "plt.xlabel('event name', fontsize = 22, color = 'Black')\n",
        "plt.ylabel('lost on users', fontsize = 22, color = 'Black')\n",
        "plt.title('The lost of users at each step of the funnel',fontsize = 22, color = 'Black');"
      ]
    },
    {
      "cell_type": "markdown",
      "metadata": {
        "id": "dUr6sl_CzHsz"
      },
      "source": [
        "*As we can see from the graph, the biggest loss of users occurs on the transition screen from the home screen to purchases.*"
      ]
    },
    {
      "cell_type": "markdown",
      "metadata": {
        "id": "U5EFau9RzHs0"
      },
      "source": [
        "\n",
        "    \n",
        "*Let's display a graphical representation of the funnel of events by users*\n"
      ]
    },
    {
      "cell_type": "code",
      "execution_count": 52,
      "metadata": {
        "colab": {
          "base_uri": "https://localhost:8080/",
          "height": 542
        },
        "id": "J0lAbjjdzHs0",
        "outputId": "5bef5a65-3c8f-498f-f7c8-6f7660231713"
      },
      "outputs": [
        {
          "output_type": "display_data",
          "data": {
            "text/html": [
              "<html>\n",
              "<head><meta charset=\"utf-8\" /></head>\n",
              "<body>\n",
              "    <div>            <script src=\"https://cdnjs.cloudflare.com/ajax/libs/mathjax/2.7.5/MathJax.js?config=TeX-AMS-MML_SVG\"></script><script type=\"text/javascript\">if (window.MathJax) {MathJax.Hub.Config({SVG: {font: \"STIX-Web\"}});}</script>                <script type=\"text/javascript\">window.PlotlyConfig = {MathJaxConfig: 'local'};</script>\n",
              "        <script src=\"https://cdn.plot.ly/plotly-2.8.3.min.js\"></script>                <div id=\"76398785-10a4-40d8-821a-6b96ea7785f5\" class=\"plotly-graph-div\" style=\"height:525px; width:100%;\"></div>            <script type=\"text/javascript\">                                    window.PLOTLYENV=window.PLOTLYENV || {};                                    if (document.getElementById(\"76398785-10a4-40d8-821a-6b96ea7785f5\")) {                    Plotly.newPlot(                        \"76398785-10a4-40d8-821a-6b96ea7785f5\",                        [{\"connector\":{\"line\":{\"color\":\"royalblue\",\"dash\":\"dot\",\"width\":3}},\"marker\":{\"color\":[\"deepskyblue\",\"lightsalmon\",\"tan\",\"teal\"],\"line\":{\"color\":[\"wheat\",\"wheat\",\"blue\",\"wheat\"],\"width\":[4,2,2,3]}},\"opacity\":0.65,\"textinfo\":\"value+percent initial\",\"textposition\":\"inside\",\"x\":[7419,4593,3734,3539],\"y\":[\"MainScreenAppear\",\"OffersScreenAppear\",\"CartScreenAppear\",\"PaymentScreenSuccessful\"],\"type\":\"funnel\"}],                        {\"template\":{\"data\":{\"bar\":[{\"error_x\":{\"color\":\"#2a3f5f\"},\"error_y\":{\"color\":\"#2a3f5f\"},\"marker\":{\"line\":{\"color\":\"#E5ECF6\",\"width\":0.5},\"pattern\":{\"fillmode\":\"overlay\",\"size\":10,\"solidity\":0.2}},\"type\":\"bar\"}],\"barpolar\":[{\"marker\":{\"line\":{\"color\":\"#E5ECF6\",\"width\":0.5},\"pattern\":{\"fillmode\":\"overlay\",\"size\":10,\"solidity\":0.2}},\"type\":\"barpolar\"}],\"carpet\":[{\"aaxis\":{\"endlinecolor\":\"#2a3f5f\",\"gridcolor\":\"white\",\"linecolor\":\"white\",\"minorgridcolor\":\"white\",\"startlinecolor\":\"#2a3f5f\"},\"baxis\":{\"endlinecolor\":\"#2a3f5f\",\"gridcolor\":\"white\",\"linecolor\":\"white\",\"minorgridcolor\":\"white\",\"startlinecolor\":\"#2a3f5f\"},\"type\":\"carpet\"}],\"choropleth\":[{\"colorbar\":{\"outlinewidth\":0,\"ticks\":\"\"},\"type\":\"choropleth\"}],\"contour\":[{\"colorbar\":{\"outlinewidth\":0,\"ticks\":\"\"},\"colorscale\":[[0.0,\"#0d0887\"],[0.1111111111111111,\"#46039f\"],[0.2222222222222222,\"#7201a8\"],[0.3333333333333333,\"#9c179e\"],[0.4444444444444444,\"#bd3786\"],[0.5555555555555556,\"#d8576b\"],[0.6666666666666666,\"#ed7953\"],[0.7777777777777778,\"#fb9f3a\"],[0.8888888888888888,\"#fdca26\"],[1.0,\"#f0f921\"]],\"type\":\"contour\"}],\"contourcarpet\":[{\"colorbar\":{\"outlinewidth\":0,\"ticks\":\"\"},\"type\":\"contourcarpet\"}],\"heatmap\":[{\"colorbar\":{\"outlinewidth\":0,\"ticks\":\"\"},\"colorscale\":[[0.0,\"#0d0887\"],[0.1111111111111111,\"#46039f\"],[0.2222222222222222,\"#7201a8\"],[0.3333333333333333,\"#9c179e\"],[0.4444444444444444,\"#bd3786\"],[0.5555555555555556,\"#d8576b\"],[0.6666666666666666,\"#ed7953\"],[0.7777777777777778,\"#fb9f3a\"],[0.8888888888888888,\"#fdca26\"],[1.0,\"#f0f921\"]],\"type\":\"heatmap\"}],\"heatmapgl\":[{\"colorbar\":{\"outlinewidth\":0,\"ticks\":\"\"},\"colorscale\":[[0.0,\"#0d0887\"],[0.1111111111111111,\"#46039f\"],[0.2222222222222222,\"#7201a8\"],[0.3333333333333333,\"#9c179e\"],[0.4444444444444444,\"#bd3786\"],[0.5555555555555556,\"#d8576b\"],[0.6666666666666666,\"#ed7953\"],[0.7777777777777778,\"#fb9f3a\"],[0.8888888888888888,\"#fdca26\"],[1.0,\"#f0f921\"]],\"type\":\"heatmapgl\"}],\"histogram\":[{\"marker\":{\"pattern\":{\"fillmode\":\"overlay\",\"size\":10,\"solidity\":0.2}},\"type\":\"histogram\"}],\"histogram2d\":[{\"colorbar\":{\"outlinewidth\":0,\"ticks\":\"\"},\"colorscale\":[[0.0,\"#0d0887\"],[0.1111111111111111,\"#46039f\"],[0.2222222222222222,\"#7201a8\"],[0.3333333333333333,\"#9c179e\"],[0.4444444444444444,\"#bd3786\"],[0.5555555555555556,\"#d8576b\"],[0.6666666666666666,\"#ed7953\"],[0.7777777777777778,\"#fb9f3a\"],[0.8888888888888888,\"#fdca26\"],[1.0,\"#f0f921\"]],\"type\":\"histogram2d\"}],\"histogram2dcontour\":[{\"colorbar\":{\"outlinewidth\":0,\"ticks\":\"\"},\"colorscale\":[[0.0,\"#0d0887\"],[0.1111111111111111,\"#46039f\"],[0.2222222222222222,\"#7201a8\"],[0.3333333333333333,\"#9c179e\"],[0.4444444444444444,\"#bd3786\"],[0.5555555555555556,\"#d8576b\"],[0.6666666666666666,\"#ed7953\"],[0.7777777777777778,\"#fb9f3a\"],[0.8888888888888888,\"#fdca26\"],[1.0,\"#f0f921\"]],\"type\":\"histogram2dcontour\"}],\"mesh3d\":[{\"colorbar\":{\"outlinewidth\":0,\"ticks\":\"\"},\"type\":\"mesh3d\"}],\"parcoords\":[{\"line\":{\"colorbar\":{\"outlinewidth\":0,\"ticks\":\"\"}},\"type\":\"parcoords\"}],\"pie\":[{\"automargin\":true,\"type\":\"pie\"}],\"scatter\":[{\"marker\":{\"colorbar\":{\"outlinewidth\":0,\"ticks\":\"\"}},\"type\":\"scatter\"}],\"scatter3d\":[{\"line\":{\"colorbar\":{\"outlinewidth\":0,\"ticks\":\"\"}},\"marker\":{\"colorbar\":{\"outlinewidth\":0,\"ticks\":\"\"}},\"type\":\"scatter3d\"}],\"scattercarpet\":[{\"marker\":{\"colorbar\":{\"outlinewidth\":0,\"ticks\":\"\"}},\"type\":\"scattercarpet\"}],\"scattergeo\":[{\"marker\":{\"colorbar\":{\"outlinewidth\":0,\"ticks\":\"\"}},\"type\":\"scattergeo\"}],\"scattergl\":[{\"marker\":{\"colorbar\":{\"outlinewidth\":0,\"ticks\":\"\"}},\"type\":\"scattergl\"}],\"scattermapbox\":[{\"marker\":{\"colorbar\":{\"outlinewidth\":0,\"ticks\":\"\"}},\"type\":\"scattermapbox\"}],\"scatterpolar\":[{\"marker\":{\"colorbar\":{\"outlinewidth\":0,\"ticks\":\"\"}},\"type\":\"scatterpolar\"}],\"scatterpolargl\":[{\"marker\":{\"colorbar\":{\"outlinewidth\":0,\"ticks\":\"\"}},\"type\":\"scatterpolargl\"}],\"scatterternary\":[{\"marker\":{\"colorbar\":{\"outlinewidth\":0,\"ticks\":\"\"}},\"type\":\"scatterternary\"}],\"surface\":[{\"colorbar\":{\"outlinewidth\":0,\"ticks\":\"\"},\"colorscale\":[[0.0,\"#0d0887\"],[0.1111111111111111,\"#46039f\"],[0.2222222222222222,\"#7201a8\"],[0.3333333333333333,\"#9c179e\"],[0.4444444444444444,\"#bd3786\"],[0.5555555555555556,\"#d8576b\"],[0.6666666666666666,\"#ed7953\"],[0.7777777777777778,\"#fb9f3a\"],[0.8888888888888888,\"#fdca26\"],[1.0,\"#f0f921\"]],\"type\":\"surface\"}],\"table\":[{\"cells\":{\"fill\":{\"color\":\"#EBF0F8\"},\"line\":{\"color\":\"white\"}},\"header\":{\"fill\":{\"color\":\"#C8D4E3\"},\"line\":{\"color\":\"white\"}},\"type\":\"table\"}]},\"layout\":{\"annotationdefaults\":{\"arrowcolor\":\"#2a3f5f\",\"arrowhead\":0,\"arrowwidth\":1},\"autotypenumbers\":\"strict\",\"coloraxis\":{\"colorbar\":{\"outlinewidth\":0,\"ticks\":\"\"}},\"colorscale\":{\"diverging\":[[0,\"#8e0152\"],[0.1,\"#c51b7d\"],[0.2,\"#de77ae\"],[0.3,\"#f1b6da\"],[0.4,\"#fde0ef\"],[0.5,\"#f7f7f7\"],[0.6,\"#e6f5d0\"],[0.7,\"#b8e186\"],[0.8,\"#7fbc41\"],[0.9,\"#4d9221\"],[1,\"#276419\"]],\"sequential\":[[0.0,\"#0d0887\"],[0.1111111111111111,\"#46039f\"],[0.2222222222222222,\"#7201a8\"],[0.3333333333333333,\"#9c179e\"],[0.4444444444444444,\"#bd3786\"],[0.5555555555555556,\"#d8576b\"],[0.6666666666666666,\"#ed7953\"],[0.7777777777777778,\"#fb9f3a\"],[0.8888888888888888,\"#fdca26\"],[1.0,\"#f0f921\"]],\"sequentialminus\":[[0.0,\"#0d0887\"],[0.1111111111111111,\"#46039f\"],[0.2222222222222222,\"#7201a8\"],[0.3333333333333333,\"#9c179e\"],[0.4444444444444444,\"#bd3786\"],[0.5555555555555556,\"#d8576b\"],[0.6666666666666666,\"#ed7953\"],[0.7777777777777778,\"#fb9f3a\"],[0.8888888888888888,\"#fdca26\"],[1.0,\"#f0f921\"]]},\"colorway\":[\"#636efa\",\"#EF553B\",\"#00cc96\",\"#ab63fa\",\"#FFA15A\",\"#19d3f3\",\"#FF6692\",\"#B6E880\",\"#FF97FF\",\"#FECB52\"],\"font\":{\"color\":\"#2a3f5f\"},\"geo\":{\"bgcolor\":\"white\",\"lakecolor\":\"white\",\"landcolor\":\"#E5ECF6\",\"showlakes\":true,\"showland\":true,\"subunitcolor\":\"white\"},\"hoverlabel\":{\"align\":\"left\"},\"hovermode\":\"closest\",\"mapbox\":{\"style\":\"light\"},\"paper_bgcolor\":\"white\",\"plot_bgcolor\":\"#E5ECF6\",\"polar\":{\"angularaxis\":{\"gridcolor\":\"white\",\"linecolor\":\"white\",\"ticks\":\"\"},\"bgcolor\":\"#E5ECF6\",\"radialaxis\":{\"gridcolor\":\"white\",\"linecolor\":\"white\",\"ticks\":\"\"}},\"scene\":{\"xaxis\":{\"backgroundcolor\":\"#E5ECF6\",\"gridcolor\":\"white\",\"gridwidth\":2,\"linecolor\":\"white\",\"showbackground\":true,\"ticks\":\"\",\"zerolinecolor\":\"white\"},\"yaxis\":{\"backgroundcolor\":\"#E5ECF6\",\"gridcolor\":\"white\",\"gridwidth\":2,\"linecolor\":\"white\",\"showbackground\":true,\"ticks\":\"\",\"zerolinecolor\":\"white\"},\"zaxis\":{\"backgroundcolor\":\"#E5ECF6\",\"gridcolor\":\"white\",\"gridwidth\":2,\"linecolor\":\"white\",\"showbackground\":true,\"ticks\":\"\",\"zerolinecolor\":\"white\"}},\"shapedefaults\":{\"line\":{\"color\":\"#2a3f5f\"}},\"ternary\":{\"aaxis\":{\"gridcolor\":\"white\",\"linecolor\":\"white\",\"ticks\":\"\"},\"baxis\":{\"gridcolor\":\"white\",\"linecolor\":\"white\",\"ticks\":\"\"},\"bgcolor\":\"#E5ECF6\",\"caxis\":{\"gridcolor\":\"white\",\"linecolor\":\"white\",\"ticks\":\"\"}},\"title\":{\"x\":0.05},\"xaxis\":{\"automargin\":true,\"gridcolor\":\"white\",\"linecolor\":\"white\",\"ticks\":\"\",\"title\":{\"standoff\":15},\"zerolinecolor\":\"white\",\"zerolinewidth\":2},\"yaxis\":{\"automargin\":true,\"gridcolor\":\"white\",\"linecolor\":\"white\",\"ticks\":\"\",\"title\":{\"standoff\":15},\"zerolinecolor\":\"white\",\"zerolinewidth\":2}}},\"title\":{\"text\":\"The event funnel in the app\"}},                        {\"responsive\": true}                    ).then(function(){\n",
              "                            \n",
              "var gd = document.getElementById('76398785-10a4-40d8-821a-6b96ea7785f5');\n",
              "var x = new MutationObserver(function (mutations, observer) {{\n",
              "        var display = window.getComputedStyle(gd).display;\n",
              "        if (!display || display === 'none') {{\n",
              "            console.log([gd, 'removed!']);\n",
              "            Plotly.purge(gd);\n",
              "            observer.disconnect();\n",
              "        }}\n",
              "}});\n",
              "\n",
              "// Listen for the removal of the full notebook cells\n",
              "var notebookContainer = gd.closest('#notebook-container');\n",
              "if (notebookContainer) {{\n",
              "    x.observe(notebookContainer, {childList: true});\n",
              "}}\n",
              "\n",
              "// Listen for the clearing of the current output cell\n",
              "var outputEl = gd.closest('.output');\n",
              "if (outputEl) {{\n",
              "    x.observe(outputEl, {childList: true});\n",
              "}}\n",
              "\n",
              "                        })                };                            </script>        </div>\n",
              "</body>\n",
              "</html>"
            ]
          },
          "metadata": {}
        }
      ],
      "source": [
        "from plotly import graph_objects as go\n",
        "\n",
        "fig = go.Figure(go.Funnel(\n",
        "    y = event_group ['event_name'],\n",
        "    x = event_group ['device_id_hash_unq'],\n",
        "    textposition = \"inside\",\n",
        "    textinfo = \"value+percent initial\",\n",
        "    opacity = 0.65, marker = {\"color\": [\"deepskyblue\", \"lightsalmon\", \"tan\", \"teal\"],\n",
        "    \"line\": {\"width\": [4, 2, 2, 3], \"color\": [\"wheat\", \"wheat\", \"blue\", \"wheat\"]}},\n",
        "    connector = {\"line\": {\"color\": \"royalblue\", \"dash\": \"dot\", \"width\": 3}}),\n",
        "   layout_title_text= 'The event funnel in the app')\n",
        "\n",
        "fig.show()"
      ]
    },
    {
      "cell_type": "markdown",
      "metadata": {
        "id": "8mlJzLtHzHs0"
      },
      "source": [
        "<div style=\"border:solid green 2px; padding: 20px\">\n",
        "    \n",
        "**Conclusions:**<br/>\n",
        "The funnel of events in the application looks like this: main screen > order screen > cart > payment; a separate event is viewing the user manual<br/>\n",
        "Only 62% of users go to product pages from the main screen, it is at this step that the most users are lost (38%) <br/> The peak of conversion between steps falls on the purchase step, that is, 94% of users who put the product in the cart pay for it < br/>\n",
        "The total conversion from users to buyers is about 47.7%\n",
        "Next, we will study the results of the experiment   \n",
        "    "
      ]
    },
    {
      "cell_type": "markdown",
      "metadata": {
        "id": "hxLPVHQtzHs1"
      },
      "source": [
        "## Experiment Results"
      ]
    },
    {
      "cell_type": "markdown",
      "metadata": {
        "id": "P8JLkXzLzHs1"
      },
      "source": [
        "*Once again we will derive the groups with their amount*"
      ]
    },
    {
      "cell_type": "code",
      "execution_count": 53,
      "metadata": {
        "colab": {
          "base_uri": "https://localhost:8080/",
          "height": 143
        },
        "id": "swc1Il3OzHs1",
        "outputId": "c0e27f89-f430-4c5c-ce46-1426d404980c"
      },
      "outputs": [
        {
          "output_type": "execute_result",
          "data": {
            "text/plain": [
              "   exp_id  device_id_hash\n",
              "0     246            2484\n",
              "1     247            2513\n",
              "2     248            2537"
            ],
            "text/html": [
              "\n",
              "  <div id=\"df-bdce1236-2fb0-4d86-8789-8629c0a101c3\">\n",
              "    <div class=\"colab-df-container\">\n",
              "      <div>\n",
              "<style scoped>\n",
              "    .dataframe tbody tr th:only-of-type {\n",
              "        vertical-align: middle;\n",
              "    }\n",
              "\n",
              "    .dataframe tbody tr th {\n",
              "        vertical-align: top;\n",
              "    }\n",
              "\n",
              "    .dataframe thead th {\n",
              "        text-align: right;\n",
              "    }\n",
              "</style>\n",
              "<table border=\"1\" class=\"dataframe\">\n",
              "  <thead>\n",
              "    <tr style=\"text-align: right;\">\n",
              "      <th></th>\n",
              "      <th>exp_id</th>\n",
              "      <th>device_id_hash</th>\n",
              "    </tr>\n",
              "  </thead>\n",
              "  <tbody>\n",
              "    <tr>\n",
              "      <th>0</th>\n",
              "      <td>246</td>\n",
              "      <td>2484</td>\n",
              "    </tr>\n",
              "    <tr>\n",
              "      <th>1</th>\n",
              "      <td>247</td>\n",
              "      <td>2513</td>\n",
              "    </tr>\n",
              "    <tr>\n",
              "      <th>2</th>\n",
              "      <td>248</td>\n",
              "      <td>2537</td>\n",
              "    </tr>\n",
              "  </tbody>\n",
              "</table>\n",
              "</div>\n",
              "      <button class=\"colab-df-convert\" onclick=\"convertToInteractive('df-bdce1236-2fb0-4d86-8789-8629c0a101c3')\"\n",
              "              title=\"Convert this dataframe to an interactive table.\"\n",
              "              style=\"display:none;\">\n",
              "        \n",
              "  <svg xmlns=\"http://www.w3.org/2000/svg\" height=\"24px\"viewBox=\"0 0 24 24\"\n",
              "       width=\"24px\">\n",
              "    <path d=\"M0 0h24v24H0V0z\" fill=\"none\"/>\n",
              "    <path d=\"M18.56 5.44l.94 2.06.94-2.06 2.06-.94-2.06-.94-.94-2.06-.94 2.06-2.06.94zm-11 1L8.5 8.5l.94-2.06 2.06-.94-2.06-.94L8.5 2.5l-.94 2.06-2.06.94zm10 10l.94 2.06.94-2.06 2.06-.94-2.06-.94-.94-2.06-.94 2.06-2.06.94z\"/><path d=\"M17.41 7.96l-1.37-1.37c-.4-.4-.92-.59-1.43-.59-.52 0-1.04.2-1.43.59L10.3 9.45l-7.72 7.72c-.78.78-.78 2.05 0 2.83L4 21.41c.39.39.9.59 1.41.59.51 0 1.02-.2 1.41-.59l7.78-7.78 2.81-2.81c.8-.78.8-2.07 0-2.86zM5.41 20L4 18.59l7.72-7.72 1.47 1.35L5.41 20z\"/>\n",
              "  </svg>\n",
              "      </button>\n",
              "      \n",
              "  <style>\n",
              "    .colab-df-container {\n",
              "      display:flex;\n",
              "      flex-wrap:wrap;\n",
              "      gap: 12px;\n",
              "    }\n",
              "\n",
              "    .colab-df-convert {\n",
              "      background-color: #E8F0FE;\n",
              "      border: none;\n",
              "      border-radius: 50%;\n",
              "      cursor: pointer;\n",
              "      display: none;\n",
              "      fill: #1967D2;\n",
              "      height: 32px;\n",
              "      padding: 0 0 0 0;\n",
              "      width: 32px;\n",
              "    }\n",
              "\n",
              "    .colab-df-convert:hover {\n",
              "      background-color: #E2EBFA;\n",
              "      box-shadow: 0px 1px 2px rgba(60, 64, 67, 0.3), 0px 1px 3px 1px rgba(60, 64, 67, 0.15);\n",
              "      fill: #174EA6;\n",
              "    }\n",
              "\n",
              "    [theme=dark] .colab-df-convert {\n",
              "      background-color: #3B4455;\n",
              "      fill: #D2E3FC;\n",
              "    }\n",
              "\n",
              "    [theme=dark] .colab-df-convert:hover {\n",
              "      background-color: #434B5C;\n",
              "      box-shadow: 0px 1px 3px 1px rgba(0, 0, 0, 0.15);\n",
              "      filter: drop-shadow(0px 1px 2px rgba(0, 0, 0, 0.3));\n",
              "      fill: #FFFFFF;\n",
              "    }\n",
              "  </style>\n",
              "\n",
              "      <script>\n",
              "        const buttonEl =\n",
              "          document.querySelector('#df-bdce1236-2fb0-4d86-8789-8629c0a101c3 button.colab-df-convert');\n",
              "        buttonEl.style.display =\n",
              "          google.colab.kernel.accessAllowed ? 'block' : 'none';\n",
              "\n",
              "        async function convertToInteractive(key) {\n",
              "          const element = document.querySelector('#df-bdce1236-2fb0-4d86-8789-8629c0a101c3');\n",
              "          const dataTable =\n",
              "            await google.colab.kernel.invokeFunction('convertToInteractive',\n",
              "                                                     [key], {});\n",
              "          if (!dataTable) return;\n",
              "\n",
              "          const docLinkHtml = 'Like what you see? Visit the ' +\n",
              "            '<a target=\"_blank\" href=https://colab.research.google.com/notebooks/data_table.ipynb>data table notebook</a>'\n",
              "            + ' to learn more about interactive tables.';\n",
              "          element.innerHTML = '';\n",
              "          dataTable['output_type'] = 'display_data';\n",
              "          await google.colab.output.renderOutput(dataTable, element);\n",
              "          const docLink = document.createElement('div');\n",
              "          docLink.innerHTML = docLinkHtml;\n",
              "          element.appendChild(docLink);\n",
              "        }\n",
              "      </script>\n",
              "    </div>\n",
              "  </div>\n",
              "  "
            ]
          },
          "metadata": {},
          "execution_count": 53
        }
      ],
      "source": [
        "group_amount"
      ]
    },
    {
      "cell_type": "markdown",
      "metadata": {
        "id": "yd5CSw3lzHs1"
      },
      "source": [
        "### Difference in Control Groups"
      ]
    },
    {
      "cell_type": "markdown",
      "metadata": {
        "id": "pzwJey89zHs2"
      },
      "source": [
        "*Let's check for statistical differences between the samples in the control groups 246 and 247*"
      ]
    },
    {
      "cell_type": "markdown",
      "metadata": {
        "id": "0et4L-RdzHs2"
      },
      "source": [
        "*First, let's collect two common samples from these groups:\n",
        "Hypothesis testing about comparing the means of two control groups:*\n",
        "```\n",
        "H_0: Mean in  groups 246 and 247 are equal\n",
        "\n",
        "H_a: Mean in groups 246 and 247 are different\n",
        "alpha = 0.05\n",
        "```"
      ]
    },
    {
      "cell_type": "code",
      "execution_count": 54,
      "metadata": {
        "colab": {
          "base_uri": "https://localhost:8080/"
        },
        "id": "pYqnu9QTzHs2",
        "outputId": "bab74770-41be-47aa-dfde-76cb595e4c0d"
      },
      "outputs": [
        {
          "output_type": "stream",
          "name": "stdout",
          "text": [
            "p-value: [0.45545715]\n",
            "Failed to reject the null hypothesis\n"
          ]
        }
      ],
      "source": [
        "sample_a1 = data[data['exp_id']==246].groupby('device_id_hash').agg({'event_name':'count'})\n",
        "sample_a2 = data[data['exp_id']==247].groupby('device_id_hash').agg({'event_name':'count'})\n",
        "alpha = .05 \n",
        "results = st.ttest_ind(\n",
        "    sample_a1, \n",
        "    sample_a2)\n",
        "\n",
        "print('p-value:', results.pvalue)\n",
        "\n",
        "if results.pvalue < alpha:\n",
        "    print(\"Rejecting the null hypothesis\")\n",
        "else:\n",
        "    print(\"Failed to reject the null hypothesis\") "
      ]
    },
    {
      "cell_type": "markdown",
      "metadata": {
        "id": "lMILksCXzHs2"
      },
      "source": [
        "*There was no statistical difference between the samples of the control groups*"
      ]
    },
    {
      "cell_type": "markdown",
      "metadata": {
        "id": "HgRfT0p5zHs2"
      },
      "source": [
        "### Writing a Function to Calculate an Experiment"
      ]
    },
    {
      "cell_type": "markdown",
      "metadata": {
        "id": "tl4EsREwzHs3"
      },
      "source": [
        "*Since we are going to compare the shares of users who have moved to the next step in the funnel, we will use the z-criterion, to compare both control groups and the test group with each other, we will write a function*"
      ]
    },
    {
      "cell_type": "code",
      "execution_count": 55,
      "metadata": {
        "id": "ypqO9f0YzHs3"
      },
      "outputs": [],
      "source": [
        "def z_test (group_1, group_2, event):\n",
        "    sample_a1 = data[data['exp_id']==group_1]['device_id_hash'].nunique()\n",
        "    sample_a1_ev = data[(data['exp_id']==group_1)&(data['event_name']==event)]['device_id_hash'].nunique()\n",
        "    sample_a2 = data[data['exp_id']==group_2]['device_id_hash'].nunique()\n",
        "    sample_a2_ev = data[(data['exp_id']==group_2)&(data['event_name']==event)]['device_id_hash'].nunique()\n",
        "    alpha = 0.05 \n",
        "\n",
        "\n",
        "    p1 = sample_a1_ev/sample_a1\n",
        "    p2 = sample_a2_ev/sample_a2\n",
        "\n",
        "    p_combined = (sample_a1_ev + sample_a2_ev)/ (sample_a1 + sample_a2)\n",
        "\n",
        "\n",
        "    difference = p1 - p2 \n",
        "    z_value = difference / mt.sqrt(p_combined * (1 - p_combined) * (1/sample_a1 + 1/sample_a2))\n",
        "\n",
        "    distr = st.norm(0, 1) \n",
        "\n",
        "    p_value = (1 - distr.cdf(abs(z_value))) * 2\n",
        "\n",
        "    print('p-value: ', p_value)\n",
        "\n",
        "    if p_value < alpha:\n",
        "        print('We reject the null hypothesis: there is a significant difference between the proportions')\n",
        "    else:\n",
        "        print(\n",
        "             'We failed to reject the null hypothesis, there is no reason to consider the proportions different'\n",
        "    )\n",
        "    "
      ]
    },
    {
      "cell_type": "markdown",
      "metadata": {
        "id": "Oh_QOTSqzHs3"
      },
      "source": [
        "### Hypothesis testing between control groups"
      ]
    },
    {
      "cell_type": "markdown",
      "metadata": {
        "id": "BAaJeIpyzHs3"
      },
      "source": [
        "```\n",
        "H_0: The proportions of groups 246 and 247 when entering the main screen are equal\n",
        "\n",
        "H_a: The proportions of groups 246 and 247 when entering the main screen are different\n",
        "alpha = 0.05\n",
        "```"
      ]
    },
    {
      "cell_type": "code",
      "execution_count": 56,
      "metadata": {
        "colab": {
          "base_uri": "https://localhost:8080/"
        },
        "id": "uo5xcJLozHs3",
        "outputId": "ca5af5cc-5484-4016-ce2c-a1b1d95dea54"
      },
      "outputs": [
        {
          "output_type": "stream",
          "name": "stdout",
          "text": [
            "p-value:  0.7526703436483038\n",
            "We failed to reject the null hypothesis, there is no reason to consider the proportions different\n"
          ]
        }
      ],
      "source": [
        "z_test (246, 247, 'MainScreenAppear')"
      ]
    },
    {
      "cell_type": "markdown",
      "metadata": {
        "id": "-jS-a16hzHs4"
      },
      "source": [
        "```\n",
        "H_0: The proportions of groups 246 and 247 when entering the shopping screen from the main screen are equal\n",
        "\n",
        "H_a: The proportions  of groups 246 and 247 when entering the shopping screen from the main screen are different\n",
        "alpha = 0.05\n",
        "```"
      ]
    },
    {
      "cell_type": "code",
      "execution_count": 57,
      "metadata": {
        "colab": {
          "base_uri": "https://localhost:8080/"
        },
        "id": "_L-Otb7QzHs4",
        "outputId": "74938fb7-9c68-4ab7-d179-4e8fc6fe8ee9"
      },
      "outputs": [
        {
          "output_type": "stream",
          "name": "stdout",
          "text": [
            "p-value:  0.24786096925282264\n",
            "We failed to reject the null hypothesis, there is no reason to consider the proportions different\n"
          ]
        }
      ],
      "source": [
        "z_test (246, 247, 'OffersScreenAppear')"
      ]
    },
    {
      "cell_type": "markdown",
      "metadata": {
        "id": "hiNsV0JhzHs4"
      },
      "source": [
        "```\n",
        "H_0: The proportions of groups 246 and 247 when entering the shopping cart screen from the shopping screen are equal\n",
        "\n",
        "H_a: The proportions  of groups 246 and 247 when entering the shopping cart screen from the shopping screen are different\n",
        "alpha = 0.05\n",
        "```"
      ]
    },
    {
      "cell_type": "code",
      "execution_count": 58,
      "metadata": {
        "colab": {
          "base_uri": "https://localhost:8080/"
        },
        "id": "i7u1oi2-zHs4",
        "outputId": "c08ae8be-36d8-437a-bb11-bd28743c81ba"
      },
      "outputs": [
        {
          "output_type": "stream",
          "name": "stdout",
          "text": [
            "p-value:  0.22867643757335676\n",
            "We failed to reject the null hypothesis, there is no reason to consider the proportions different\n"
          ]
        }
      ],
      "source": [
        "z_test (246, 247, 'CartScreenAppear')"
      ]
    },
    {
      "cell_type": "markdown",
      "metadata": {
        "id": "6oNEWW_0zHs4"
      },
      "source": [
        "```\n",
        "H_0: The proportions of groups 246 and 247 when entering the order payment screen from the shopping screen are equal\n",
        "\n",
        "H_a: The proportions of groups 246 and 247 when entering the order payment screen from the shopping screen are different\n",
        "alpha = 0.05\n",
        "```"
      ]
    },
    {
      "cell_type": "code",
      "execution_count": 59,
      "metadata": {
        "colab": {
          "base_uri": "https://localhost:8080/"
        },
        "id": "HNwIFPDtzHs5",
        "outputId": "511757b1-dae7-492b-c357-fd97161e4a08"
      },
      "outputs": [
        {
          "output_type": "stream",
          "name": "stdout",
          "text": [
            "p-value:  0.11446627829276612\n",
            "We failed to reject the null hypothesis, there is no reason to consider the proportions different\n"
          ]
        }
      ],
      "source": [
        "z_test (246, 247, 'PaymentScreenSuccessful')"
      ]
    },
    {
      "cell_type": "markdown",
      "metadata": {
        "id": "QabDrP9JzHs5"
      },
      "source": [
        "<div style=\"border:solid green 2px; padding: 20px\">\n",
        "    \n",
        "**Conclusions:**<br/>\n",
        "No statistical differences were found between the control groups.\n",
        "    "
      ]
    },
    {
      "cell_type": "markdown",
      "metadata": {
        "id": "EB7OCNTWzHs5"
      },
      "source": [
        "### Checking the difference in proportions between control and test group"
      ]
    },
    {
      "cell_type": "markdown",
      "metadata": {
        "id": "lA3wWF36zHs5"
      },
      "source": [
        "*Next, we will check the statistical difference in the proportions between the control and the test group*"
      ]
    },
    {
      "cell_type": "markdown",
      "metadata": {
        "id": "1rp9okDTzHs5"
      },
      "source": [
        "```\n",
        "H_0: The proportions of groups 246 and 248 when entering the main screen are equal\n",
        "\n",
        "H_a: The proportions  of groups 246 and 248 differ when entering the main screen\n",
        "alpha = 0.05\n",
        "```"
      ]
    },
    {
      "cell_type": "code",
      "execution_count": 60,
      "metadata": {
        "colab": {
          "base_uri": "https://localhost:8080/"
        },
        "id": "T0w36CBszHs5",
        "outputId": "87e62663-0c18-4ffb-c1f6-453c3456183f"
      },
      "outputs": [
        {
          "output_type": "stream",
          "name": "stdout",
          "text": [
            "p-value:  0.3387114076159288\n",
            "We failed to reject the null hypothesis, there is no reason to consider the proportions different\n"
          ]
        }
      ],
      "source": [
        "z_test (246, 248, 'MainScreenAppear')"
      ]
    },
    {
      "cell_type": "markdown",
      "metadata": {
        "id": "2g-nuGTLzHs6"
      },
      "source": [
        "```\n",
        "H_0: The proportions of groups 246 and 248 when entering the shopping screen from the main screen are equal\n",
        "\n",
        "H_a: The proportions  of groups 246 and 248 p when entering the shopping screen from the main screen are different\n",
        "alpha = 0.05\n",
        "```"
      ]
    },
    {
      "cell_type": "code",
      "execution_count": 61,
      "metadata": {
        "colab": {
          "base_uri": "https://localhost:8080/"
        },
        "id": "HF0bOhZXzHs6",
        "outputId": "178807d2-caa8-4764-cd43-20663537bc06"
      },
      "outputs": [
        {
          "output_type": "stream",
          "name": "stdout",
          "text": [
            "p-value:  0.21442476639710506\n",
            "We failed to reject the null hypothesis, there is no reason to consider the proportions different\n"
          ]
        }
      ],
      "source": [
        "z_test (246, 248, 'OffersScreenAppear')"
      ]
    },
    {
      "cell_type": "markdown",
      "metadata": {
        "id": "XNm0tsgFzHs6"
      },
      "source": [
        "```\n",
        "H_0: The proportions of groups 246 and 248 when entering the shopping cart screen from the shopping screen are equal\n",
        "\n",
        "H_a: The proportions of groups 246 and 248 p when entering the shopping cart screen from the shopping screen are different\n",
        "alpha = 0.05\n",
        "```"
      ]
    },
    {
      "cell_type": "code",
      "execution_count": 62,
      "metadata": {
        "colab": {
          "base_uri": "https://localhost:8080/"
        },
        "id": "uCBcRnYDzHs6",
        "outputId": "5c99f997-0055-4b38-b50a-9f2691744a83"
      },
      "outputs": [
        {
          "output_type": "stream",
          "name": "stdout",
          "text": [
            "p-value:  0.08067367598823139\n",
            "We failed to reject the null hypothesis, there is no reason to consider the proportions different\n"
          ]
        }
      ],
      "source": [
        "z_test (246, 248, 'CartScreenAppear')"
      ]
    },
    {
      "cell_type": "markdown",
      "metadata": {
        "id": "oKdm_VD_zHs7"
      },
      "source": [
        "```\n",
        "H_0: The proportions  of groups 246 and 248 when entering the order payment screen from the shopping screen are equal\n",
        "\n",
        "H_a: The proportions   of groups 246 and 248 when entering the order payment screen from the shopping screen are different\n",
        "alpha = 0.05\n",
        "```   "
      ]
    },
    {
      "cell_type": "code",
      "execution_count": 63,
      "metadata": {
        "colab": {
          "base_uri": "https://localhost:8080/"
        },
        "id": "J5-OO7ORzHs7",
        "outputId": "2b841cfe-00d9-450a-d2ff-6b122c392999"
      },
      "outputs": [
        {
          "output_type": "stream",
          "name": "stdout",
          "text": [
            "p-value:  0.21693033984516674\n",
            "We failed to reject the null hypothesis, there is no reason to consider the proportions different\n"
          ]
        }
      ],
      "source": [
        "z_test (246, 248, 'PaymentScreenSuccessful')"
      ]
    },
    {
      "cell_type": "markdown",
      "metadata": {
        "id": "VqnUUY4MzHs7"
      },
      "source": [
        "<div style=\"border:solid green 2px; padding: 20px\">\n",
        "\n",
        "**Conclusions:**<br/>\n",
        "There were no statistical differences between the control group 246 and the test group 248."
      ]
    },
    {
      "cell_type": "markdown",
      "metadata": {
        "id": "UFrqejBDzHs7"
      },
      "source": [
        "```\n",
        "H_0: The proportions of groups 247 and 248 when entering the main screen are equal\n",
        "\n",
        "H_a: The proportions of groups 247 and 248 differ when entering the main screen\n",
        "alpha = 0.05\n",
        "```"
      ]
    },
    {
      "cell_type": "code",
      "execution_count": 64,
      "metadata": {
        "colab": {
          "base_uri": "https://localhost:8080/"
        },
        "id": "fAjhvrKOzHs8",
        "outputId": "42ba3c14-75aa-40ae-d128-aa1051133a64"
      },
      "outputs": [
        {
          "output_type": "stream",
          "name": "stdout",
          "text": [
            "p-value:  0.5194964354051703\n",
            "We failed to reject the null hypothesis, there is no reason to consider the proportions different\n"
          ]
        }
      ],
      "source": [
        "z_test (248, 247, 'MainScreenAppear')"
      ]
    },
    {
      "cell_type": "markdown",
      "metadata": {
        "id": "mvox63JxzHs8"
      },
      "source": [
        "```\n",
        "H_0: The proportions of groups 247 and 248 when entering the shopping screen from the main screen are equal\n",
        "\n",
        "H_a: The proportions of groups 247 and 248 when entering the shopping screen from the main screen are different\n",
        "alpha = 0.05\n",
        "```    "
      ]
    },
    {
      "cell_type": "code",
      "execution_count": 65,
      "metadata": {
        "colab": {
          "base_uri": "https://localhost:8080/"
        },
        "id": "OsPRd5aezHs9",
        "outputId": "b69b4502-7cd3-4596-d126-8e3d7442aaa4"
      },
      "outputs": [
        {
          "output_type": "stream",
          "name": "stdout",
          "text": [
            "p-value:  0.9333751305879443\n",
            "We failed to reject the null hypothesis, there is no reason to consider the proportions different\n"
          ]
        }
      ],
      "source": [
        "z_test (248, 247, 'OffersScreenAppear')"
      ]
    },
    {
      "cell_type": "markdown",
      "metadata": {
        "id": "g1ayKYvDzHs9"
      },
      "source": [
        "```\n",
        "H_0: The proportions of groups 247 and 248 when entering the shopping cart screen from the shopping screen are equal\n",
        "\n",
        "H_a: The proportions  of groups 247 and 248 are different when entering the shopping cart screen from the shopping screen\n",
        "alpha = 0.05\n",
        "```"
      ]
    },
    {
      "cell_type": "code",
      "execution_count": 66,
      "metadata": {
        "colab": {
          "base_uri": "https://localhost:8080/"
        },
        "id": "OLWd3meczHs9",
        "outputId": "2a611552-9863-4650-ba52-f56e0b0e42b5"
      },
      "outputs": [
        {
          "output_type": "stream",
          "name": "stdout",
          "text": [
            "p-value:  0.5878284605111943\n",
            "We failed to reject the null hypothesis, there is no reason to consider the proportions different\n"
          ]
        }
      ],
      "source": [
        "z_test (247, 248, 'CartScreenAppear')"
      ]
    },
    {
      "cell_type": "markdown",
      "metadata": {
        "id": "-5cdl25rzHs-"
      },
      "source": [
        "```\n",
        "H_0: The proportions of groups 247 and 248 when entering the order payment screen from the shopping screen are equal\n",
        "\n",
        "H_a: The proportions of groups 247 and 248 when entering the order payment screen from the shopping screen are different\n",
        "alpha = 0.05\n",
        "```"
      ]
    },
    {
      "cell_type": "code",
      "execution_count": 67,
      "metadata": {
        "scrolled": true,
        "colab": {
          "base_uri": "https://localhost:8080/"
        },
        "id": "mr5PWWt5zHs-",
        "outputId": "ceffebee-bec6-4eea-d758-93d49856719b"
      },
      "outputs": [
        {
          "output_type": "stream",
          "name": "stdout",
          "text": [
            "p-value:  0.7275718682261119\n",
            "We failed to reject the null hypothesis, there is no reason to consider the proportions different\n"
          ]
        }
      ],
      "source": [
        "z_test (247, 248, 'PaymentScreenSuccessful')"
      ]
    },
    {
      "cell_type": "markdown",
      "metadata": {
        "id": "zJkHeqo6zHs-"
      },
      "source": [
        "<div style=\"border:solid green 2px; padding: 20px\">\n",
        " \n",
        " **Conclusions:**<br/>\n",
        "There were no statistical differences between the control group 247 and the test group 248."
      ]
    },
    {
      "cell_type": "markdown",
      "metadata": {
        "id": "p_Cgr6zGzHs_"
      },
      "source": [
        "*Next, we will consider the difference in proportions between the pooled control group and the test group. To do this, let's make a new function*"
      ]
    },
    {
      "cell_type": "code",
      "execution_count": 68,
      "metadata": {
        "id": "hbbrmXx8zHs_"
      },
      "outputs": [],
      "source": [
        "def z_test_comn (group_1, group_2, group_3, event):\n",
        "    sample_a1 = data[data['exp_id']==group_1]['device_id_hash'].nunique() + data[data['exp_id']==group_2]['device_id_hash'].nunique()\n",
        "    sample_a1_ev = data[(data['exp_id']==group_1)&(data['event_name']==event)]['device_id_hash'].nunique() + data[(data['exp_id']==group_2)&(data['event_name']==event)]['device_id_hash'].nunique()\n",
        "    sample_a2 = data[data['exp_id']==group_3]['device_id_hash'].nunique()\n",
        "    sample_a2_ev = data[(data['exp_id']==group_3)&(data['event_name']==event)]['device_id_hash'].nunique()\n",
        "    alpha = 0.05 \n",
        "\n",
        "\n",
        "    p1 = sample_a1_ev/sample_a1\n",
        "    p2 = sample_a2_ev/sample_a2\n",
        "\n",
        "    p_combined = (sample_a1_ev + sample_a2_ev)/ (sample_a1 + sample_a2)\n",
        "\n",
        "\n",
        "    difference = p1 - p2 \n",
        "    z_value = difference / mt.sqrt(p_combined * (1 - p_combined) * (1/sample_a1 + 1/sample_a2))\n",
        "\n",
        "    distr = st.norm(0, 1) \n",
        "\n",
        "    p_value = (1 - distr.cdf(abs(z_value))) * 2\n",
        "\n",
        "    print('p-value: ', p_value)\n",
        "\n",
        "    if p_value < alpha:\n",
        "        print('We reject the null hypothesis: there is a significant difference between the proportions')\n",
        "    else:\n",
        "        print(\n",
        "             'We failed to reject the null hypothesis, there is no reason to consider the proportions different'\n",
        "    )"
      ]
    },
    {
      "cell_type": "markdown",
      "metadata": {
        "id": "PaWrvO88zHs_"
      },
      "source": [
        "*Hypothesis testing with a pooled control group and test group* "
      ]
    },
    {
      "cell_type": "markdown",
      "metadata": {
        "id": "pVOlhOyvzHtA"
      },
      "source": [
        "```\n",
        "H_0: The proportions of groups in the combined control group and the 248 group when entering the main screen are equal\n",
        "\n",
        "H_a: The proportions of groups in the combined control group and the 248 group when entering the main screen are different\n",
        "alpha = 0.05\n",
        "```"
      ]
    },
    {
      "cell_type": "code",
      "execution_count": 69,
      "metadata": {
        "colab": {
          "base_uri": "https://localhost:8080/"
        },
        "id": "-Av2cmlQzHtA",
        "outputId": "f1d30353-07a9-4a14-f201-9731bdd98c17"
      },
      "outputs": [
        {
          "output_type": "stream",
          "name": "stdout",
          "text": [
            "p-value:  0.3486684291093256\n",
            "We failed to reject the null hypothesis, there is no reason to consider the proportions different\n"
          ]
        }
      ],
      "source": [
        "z_test_comn (246,247, 248, 'MainScreenAppear')"
      ]
    },
    {
      "cell_type": "markdown",
      "metadata": {
        "id": "0ln3oLm4zHtA"
      },
      "source": [
        "```\n",
        "H_0: The proportions of groups in the combined control group and the 248 group when entering the shopping screen from the main screen are equal\n",
        "\n",
        "H_a: The proportions of groups in the combined control group and the 248 group when entering the shopping screen from the main screen are different\n",
        "alpha = 0.05\n",
        "```"
      ]
    },
    {
      "cell_type": "code",
      "execution_count": 70,
      "metadata": {
        "colab": {
          "base_uri": "https://localhost:8080/"
        },
        "id": "fOWRTHdOzHtA",
        "outputId": "26734450-8cf3-422d-f1ad-bf11a341b0f6"
      },
      "outputs": [
        {
          "output_type": "stream",
          "name": "stdout",
          "text": [
            "p-value:  0.44582745409482394\n",
            "We failed to reject the null hypothesis, there is no reason to consider the proportions different\n"
          ]
        }
      ],
      "source": [
        "z_test_comn (246,247, 248, 'OffersScreenAppear')"
      ]
    },
    {
      "cell_type": "markdown",
      "metadata": {
        "id": "tzkiugTfzHtR"
      },
      "source": [
        "```\n",
        "H_0: The proportions of groups in the combined control group and the 248 group when entering the shopping cart screen from the shopping screen are equal\n",
        "\n",
        "H_a: The proportions of groups in the combined control group and the 248 group when entering the shopping cart screen from the shopping screen are different\n",
        "alpha = 0.05\n",
        "```"
      ]
    },
    {
      "cell_type": "code",
      "execution_count": 71,
      "metadata": {
        "colab": {
          "base_uri": "https://localhost:8080/"
        },
        "id": "1C0LLvlBzHtR",
        "outputId": "31a752a4-159f-43e5-d11f-5a851a6da5ef"
      },
      "outputs": [
        {
          "output_type": "stream",
          "name": "stdout",
          "text": [
            "p-value:  0.18683558686831558\n",
            "We failed to reject the null hypothesis, there is no reason to consider the proportions different\n"
          ]
        }
      ],
      "source": [
        "z_test_comn (246,247, 248, 'CartScreenAppear')"
      ]
    },
    {
      "cell_type": "markdown",
      "metadata": {
        "id": "Mb7oSsBDzHtS"
      },
      "source": [
        "```\n",
        "H_0: The proportions of groups in the combined control group and the 248 group when entering the order payment screen from the shopping screen are equal\n",
        "\n",
        "H_a: The proportions of the groups in the combined control group and the 248 group when entering the order payment screen from the shopping screen are different\n",
        "alpha = 0.05\n",
        "```   "
      ]
    },
    {
      "cell_type": "code",
      "execution_count": 72,
      "metadata": {
        "colab": {
          "base_uri": "https://localhost:8080/"
        },
        "id": "LEmqv6-TzHtS",
        "outputId": "4e4c359f-ac3c-4619-dac8-a43197fe94a5"
      },
      "outputs": [
        {
          "output_type": "stream",
          "name": "stdout",
          "text": [
            "p-value:  0.6107918742187335\n",
            "We failed to reject the null hypothesis, there is no reason to consider the proportions different\n"
          ]
        }
      ],
      "source": [
        "z_test_comn (246,247, 248, 'PaymentScreenSuccessful')"
      ]
    },
    {
      "cell_type": "markdown",
      "metadata": {
        "id": "GcXEprhdzHtS"
      },
      "source": [
        "<div style=\"border:solid green 2px; padding: 20px\">\n",
        "    \n",
        "**Conclusions:**<br/>\n",
        "There were no statistical differences between the pooled control group and the test group 248."
      ]
    },
    {
      "cell_type": "markdown",
      "metadata": {
        "id": "h7p7Ia8JzHtU"
      },
      "source": [
        "## General conclusion"
      ]
    },
    {
      "cell_type": "markdown",
      "metadata": {
        "id": "TzW9J9PCzHtU"
      },
      "source": [
        "<div style=\"border:solid pink 2px; padding: 20px\">\n",
        "    \n",
        " <br/>\n",
        "1. We investigated the results of the A/A/B mobile application experiment conducted from July 25 to August 07, 2019 <br/>\n",
        "2. Based on the data obtained as a result of the test, we described the behavior of users in the application, the following funnel of events is built: main screen>order screen>cart>payment. Separately, there is the \"user guide\" action, which most likely will not affect the economy of the application in any way.<br/>\n",
        "3. Only 62% of users go to product pages from the main screen, it is at this step that the most users are lost (38%) <br/>\n",
        "4. The peak of conversion between steps falls on the purchase step, that is, 94% of users who put the product in the cart pay for it. <br/>\n",
        "5. The overall conversion from users to buyers is about 47.7%. <br/>\n",
        "6. Testing for statistical differences between control groups showed no difference and uniformity.\n",
        "7. No statistical difference in the behavior of the control and test groups was found.<br/>\n",
        "8. Changing fonts in the application will not affect user behavior."
      ]
    },
    {
      "cell_type": "code",
      "execution_count": 72,
      "metadata": {
        "id": "3NON1ht2zHtV"
      },
      "outputs": [],
      "source": []
    }
  ],
  "metadata": {
    "ExecuteTimeLog": [
      {
        "duration": 1399,
        "start_time": "2022-10-03T13:19:43.331Z"
      },
      {
        "duration": 3,
        "start_time": "2022-10-03T13:25:28.711Z"
      },
      {
        "duration": 671,
        "start_time": "2022-10-03T13:25:38.429Z"
      },
      {
        "duration": 13,
        "start_time": "2022-10-03T13:26:17.781Z"
      },
      {
        "duration": 173,
        "start_time": "2022-10-03T13:26:58.752Z"
      },
      {
        "duration": 8,
        "start_time": "2022-10-03T13:27:02.273Z"
      },
      {
        "duration": 25,
        "start_time": "2022-10-03T13:32:41.829Z"
      },
      {
        "duration": 98,
        "start_time": "2022-10-03T13:51:45.344Z"
      },
      {
        "duration": 254,
        "start_time": "2022-10-03T13:52:21.444Z"
      },
      {
        "duration": 3,
        "start_time": "2022-10-03T15:32:32.930Z"
      },
      {
        "duration": 4,
        "start_time": "2022-10-03T15:32:43.258Z"
      },
      {
        "duration": 3,
        "start_time": "2022-10-03T15:33:28.144Z"
      },
      {
        "duration": 9,
        "start_time": "2022-10-03T15:34:10.316Z"
      },
      {
        "duration": 8,
        "start_time": "2022-10-03T15:36:39.344Z"
      },
      {
        "duration": 62,
        "start_time": "2022-10-03T15:36:48.440Z"
      },
      {
        "duration": 57,
        "start_time": "2022-10-03T15:37:32.353Z"
      },
      {
        "duration": 61,
        "start_time": "2022-10-03T15:42:42.942Z"
      },
      {
        "duration": 58,
        "start_time": "2022-10-03T15:43:20.838Z"
      },
      {
        "duration": 64,
        "start_time": "2022-10-03T15:44:59.887Z"
      },
      {
        "duration": 61,
        "start_time": "2022-10-03T15:45:32.114Z"
      },
      {
        "duration": 971,
        "start_time": "2022-10-03T15:52:46.533Z"
      },
      {
        "duration": 21,
        "start_time": "2022-10-03T15:53:19.937Z"
      },
      {
        "duration": 9,
        "start_time": "2022-10-03T15:54:04.339Z"
      },
      {
        "duration": 11,
        "start_time": "2022-10-03T15:54:09.612Z"
      },
      {
        "duration": 72,
        "start_time": "2022-10-03T16:00:31.655Z"
      },
      {
        "duration": 82,
        "start_time": "2022-10-03T16:00:37.066Z"
      },
      {
        "duration": 135,
        "start_time": "2022-10-03T16:02:21.935Z"
      },
      {
        "duration": 97,
        "start_time": "2022-10-03T16:02:46.545Z"
      },
      {
        "duration": 23,
        "start_time": "2022-10-03T16:03:02.722Z"
      },
      {
        "duration": 29,
        "start_time": "2022-10-03T16:05:34.596Z"
      },
      {
        "duration": 20,
        "start_time": "2022-10-03T16:05:48.628Z"
      },
      {
        "duration": 8,
        "start_time": "2022-10-03T16:06:28.686Z"
      },
      {
        "duration": 20,
        "start_time": "2022-10-03T16:09:17.445Z"
      },
      {
        "duration": 1254,
        "start_time": "2022-10-03T16:09:47.782Z"
      },
      {
        "duration": 182,
        "start_time": "2022-10-03T16:09:49.038Z"
      },
      {
        "duration": 13,
        "start_time": "2022-10-03T16:09:49.222Z"
      },
      {
        "duration": 38,
        "start_time": "2022-10-03T16:09:49.237Z"
      },
      {
        "duration": 3,
        "start_time": "2022-10-03T16:09:49.276Z"
      },
      {
        "duration": 19,
        "start_time": "2022-10-03T16:09:49.281Z"
      },
      {
        "duration": 12,
        "start_time": "2022-10-03T16:09:49.302Z"
      },
      {
        "duration": 11,
        "start_time": "2022-10-03T16:09:49.315Z"
      },
      {
        "duration": 30,
        "start_time": "2022-10-03T16:09:49.328Z"
      },
      {
        "duration": 10,
        "start_time": "2022-10-03T16:09:49.360Z"
      },
      {
        "duration": 88,
        "start_time": "2022-10-03T16:09:49.371Z"
      },
      {
        "duration": 102,
        "start_time": "2022-10-03T16:09:49.461Z"
      },
      {
        "duration": 98,
        "start_time": "2022-10-03T16:09:49.564Z"
      },
      {
        "duration": 20,
        "start_time": "2022-10-03T16:09:49.663Z"
      },
      {
        "duration": 43,
        "start_time": "2022-10-03T16:09:49.685Z"
      },
      {
        "duration": 17,
        "start_time": "2022-10-03T16:09:49.730Z"
      },
      {
        "duration": 8,
        "start_time": "2022-10-03T16:09:49.749Z"
      },
      {
        "duration": 138,
        "start_time": "2022-10-03T16:09:49.758Z"
      },
      {
        "duration": 12,
        "start_time": "2022-10-03T16:10:25.587Z"
      },
      {
        "duration": 20,
        "start_time": "2022-10-03T16:12:13.870Z"
      },
      {
        "duration": 10,
        "start_time": "2022-10-03T16:12:25.607Z"
      },
      {
        "duration": 6,
        "start_time": "2022-10-03T16:13:14.222Z"
      },
      {
        "duration": 6,
        "start_time": "2022-10-03T16:13:28.070Z"
      },
      {
        "duration": 11,
        "start_time": "2022-10-03T16:16:49.087Z"
      },
      {
        "duration": 12,
        "start_time": "2022-10-03T16:18:52.481Z"
      },
      {
        "duration": 282,
        "start_time": "2022-10-03T16:18:57.504Z"
      },
      {
        "duration": 334,
        "start_time": "2022-10-03T16:21:43.961Z"
      },
      {
        "duration": 26,
        "start_time": "2022-10-03T16:29:46.657Z"
      },
      {
        "duration": 23,
        "start_time": "2022-10-03T16:36:00.548Z"
      },
      {
        "duration": 22,
        "start_time": "2022-10-03T16:36:13.599Z"
      },
      {
        "duration": 314,
        "start_time": "2022-10-03T16:37:56.637Z"
      },
      {
        "duration": 327,
        "start_time": "2022-10-03T16:38:16.222Z"
      },
      {
        "duration": 17,
        "start_time": "2022-10-03T16:38:32.023Z"
      },
      {
        "duration": 25,
        "start_time": "2022-10-03T16:38:33.807Z"
      },
      {
        "duration": 14,
        "start_time": "2022-10-03T16:38:58.193Z"
      },
      {
        "duration": 21,
        "start_time": "2022-10-03T16:38:59.621Z"
      },
      {
        "duration": 1095,
        "start_time": "2022-10-03T16:39:09.479Z"
      },
      {
        "duration": 156,
        "start_time": "2022-10-03T16:39:10.576Z"
      },
      {
        "duration": 12,
        "start_time": "2022-10-03T16:39:10.734Z"
      },
      {
        "duration": 20,
        "start_time": "2022-10-03T16:39:10.749Z"
      },
      {
        "duration": 3,
        "start_time": "2022-10-03T16:39:10.771Z"
      },
      {
        "duration": 7,
        "start_time": "2022-10-03T16:39:10.776Z"
      },
      {
        "duration": 6,
        "start_time": "2022-10-03T16:39:10.784Z"
      },
      {
        "duration": 33,
        "start_time": "2022-10-03T16:39:10.792Z"
      },
      {
        "duration": 24,
        "start_time": "2022-10-03T16:39:10.827Z"
      },
      {
        "duration": 10,
        "start_time": "2022-10-03T16:39:10.853Z"
      },
      {
        "duration": 108,
        "start_time": "2022-10-03T16:39:10.865Z"
      },
      {
        "duration": 94,
        "start_time": "2022-10-03T16:39:10.975Z"
      },
      {
        "duration": 102,
        "start_time": "2022-10-03T16:39:11.071Z"
      },
      {
        "duration": 19,
        "start_time": "2022-10-03T16:39:11.175Z"
      },
      {
        "duration": 40,
        "start_time": "2022-10-03T16:39:11.196Z"
      },
      {
        "duration": 17,
        "start_time": "2022-10-03T16:39:11.238Z"
      },
      {
        "duration": 7,
        "start_time": "2022-10-03T16:39:11.257Z"
      },
      {
        "duration": 17,
        "start_time": "2022-10-03T16:39:11.266Z"
      },
      {
        "duration": 39,
        "start_time": "2022-10-03T16:39:11.284Z"
      },
      {
        "duration": 8,
        "start_time": "2022-10-03T16:39:11.324Z"
      },
      {
        "duration": 10,
        "start_time": "2022-10-03T16:39:11.333Z"
      },
      {
        "duration": 9,
        "start_time": "2022-10-03T16:39:11.344Z"
      },
      {
        "duration": 447,
        "start_time": "2022-10-03T16:39:11.355Z"
      },
      {
        "duration": 30,
        "start_time": "2022-10-03T16:39:11.804Z"
      },
      {
        "duration": 18,
        "start_time": "2022-10-03T16:39:11.836Z"
      },
      {
        "duration": 20,
        "start_time": "2022-10-03T16:39:11.856Z"
      },
      {
        "duration": 4,
        "start_time": "2022-10-03T16:40:54.014Z"
      },
      {
        "duration": 18,
        "start_time": "2022-10-03T16:41:23.321Z"
      },
      {
        "duration": 22,
        "start_time": "2022-10-03T16:41:26.394Z"
      },
      {
        "duration": 1137,
        "start_time": "2022-10-03T16:42:19.940Z"
      },
      {
        "duration": 154,
        "start_time": "2022-10-03T16:42:21.079Z"
      },
      {
        "duration": 12,
        "start_time": "2022-10-03T16:42:21.235Z"
      },
      {
        "duration": 34,
        "start_time": "2022-10-03T16:42:21.249Z"
      },
      {
        "duration": 3,
        "start_time": "2022-10-03T16:42:21.285Z"
      },
      {
        "duration": 10,
        "start_time": "2022-10-03T16:42:21.290Z"
      },
      {
        "duration": 5,
        "start_time": "2022-10-03T16:42:21.302Z"
      },
      {
        "duration": 38,
        "start_time": "2022-10-03T16:42:21.320Z"
      },
      {
        "duration": 29,
        "start_time": "2022-10-03T16:42:21.360Z"
      },
      {
        "duration": 10,
        "start_time": "2022-10-03T16:42:21.392Z"
      },
      {
        "duration": 85,
        "start_time": "2022-10-03T16:42:21.404Z"
      },
      {
        "duration": 99,
        "start_time": "2022-10-03T16:42:21.491Z"
      },
      {
        "duration": 96,
        "start_time": "2022-10-03T16:42:21.592Z"
      },
      {
        "duration": 31,
        "start_time": "2022-10-03T16:42:21.690Z"
      },
      {
        "duration": 29,
        "start_time": "2022-10-03T16:42:21.723Z"
      },
      {
        "duration": 18,
        "start_time": "2022-10-03T16:42:21.754Z"
      },
      {
        "duration": 11,
        "start_time": "2022-10-03T16:42:21.773Z"
      },
      {
        "duration": 48,
        "start_time": "2022-10-03T16:42:21.785Z"
      },
      {
        "duration": 11,
        "start_time": "2022-10-03T16:42:21.835Z"
      },
      {
        "duration": 38,
        "start_time": "2022-10-03T16:42:21.848Z"
      },
      {
        "duration": 10,
        "start_time": "2022-10-03T16:42:21.888Z"
      },
      {
        "duration": 19,
        "start_time": "2022-10-03T16:42:21.900Z"
      },
      {
        "duration": 411,
        "start_time": "2022-10-03T16:42:21.920Z"
      },
      {
        "duration": 24,
        "start_time": "2022-10-03T16:42:22.332Z"
      },
      {
        "duration": 18,
        "start_time": "2022-10-03T16:42:22.358Z"
      },
      {
        "duration": 20,
        "start_time": "2022-10-03T16:42:22.378Z"
      },
      {
        "duration": 11,
        "start_time": "2022-10-03T16:42:35.079Z"
      },
      {
        "duration": 19,
        "start_time": "2022-10-03T16:42:40.000Z"
      },
      {
        "duration": 10,
        "start_time": "2022-10-03T16:44:22.684Z"
      },
      {
        "duration": 19,
        "start_time": "2022-10-03T16:44:23.967Z"
      },
      {
        "duration": 11,
        "start_time": "2022-10-03T16:44:31.742Z"
      },
      {
        "duration": 21,
        "start_time": "2022-10-03T16:44:33.719Z"
      },
      {
        "duration": 1213,
        "start_time": "2022-10-03T16:44:45.199Z"
      },
      {
        "duration": 174,
        "start_time": "2022-10-03T16:44:46.414Z"
      },
      {
        "duration": 13,
        "start_time": "2022-10-03T16:44:46.590Z"
      },
      {
        "duration": 34,
        "start_time": "2022-10-03T16:44:46.605Z"
      },
      {
        "duration": 3,
        "start_time": "2022-10-03T16:44:46.641Z"
      },
      {
        "duration": 17,
        "start_time": "2022-10-03T16:44:46.646Z"
      },
      {
        "duration": 4,
        "start_time": "2022-10-03T16:44:46.665Z"
      },
      {
        "duration": 17,
        "start_time": "2022-10-03T16:44:46.671Z"
      },
      {
        "duration": 37,
        "start_time": "2022-10-03T16:44:46.690Z"
      },
      {
        "duration": 11,
        "start_time": "2022-10-03T16:44:46.730Z"
      },
      {
        "duration": 109,
        "start_time": "2022-10-03T16:44:46.743Z"
      },
      {
        "duration": 106,
        "start_time": "2022-10-03T16:44:46.854Z"
      },
      {
        "duration": 100,
        "start_time": "2022-10-03T16:44:46.962Z"
      },
      {
        "duration": 21,
        "start_time": "2022-10-03T16:44:47.064Z"
      },
      {
        "duration": 44,
        "start_time": "2022-10-03T16:44:47.087Z"
      },
      {
        "duration": 20,
        "start_time": "2022-10-03T16:44:47.133Z"
      },
      {
        "duration": 10,
        "start_time": "2022-10-03T16:44:47.155Z"
      },
      {
        "duration": 26,
        "start_time": "2022-10-03T16:44:47.166Z"
      },
      {
        "duration": 29,
        "start_time": "2022-10-03T16:44:47.194Z"
      },
      {
        "duration": 9,
        "start_time": "2022-10-03T16:44:47.225Z"
      },
      {
        "duration": 10,
        "start_time": "2022-10-03T16:44:47.236Z"
      },
      {
        "duration": 12,
        "start_time": "2022-10-03T16:44:47.247Z"
      },
      {
        "duration": 438,
        "start_time": "2022-10-03T16:44:47.261Z"
      },
      {
        "duration": 34,
        "start_time": "2022-10-03T16:44:47.701Z"
      },
      {
        "duration": 12,
        "start_time": "2022-10-03T16:44:47.737Z"
      },
      {
        "duration": 19,
        "start_time": "2022-10-03T16:44:47.751Z"
      },
      {
        "duration": 12,
        "start_time": "2022-10-03T16:46:00.442Z"
      },
      {
        "duration": 105,
        "start_time": "2022-10-03T16:52:07.950Z"
      },
      {
        "duration": 20,
        "start_time": "2022-10-03T16:52:30.906Z"
      },
      {
        "duration": 5,
        "start_time": "2022-10-03T16:55:13.823Z"
      },
      {
        "duration": 9,
        "start_time": "2022-10-03T16:55:18.589Z"
      },
      {
        "duration": 4,
        "start_time": "2022-10-03T16:56:05.788Z"
      },
      {
        "duration": 4,
        "start_time": "2022-10-03T16:56:17.476Z"
      },
      {
        "duration": 4,
        "start_time": "2022-10-03T16:56:26.483Z"
      },
      {
        "duration": 5,
        "start_time": "2022-10-03T16:56:54.183Z"
      },
      {
        "duration": 8,
        "start_time": "2022-10-03T16:57:40.491Z"
      },
      {
        "duration": 6,
        "start_time": "2022-10-03T16:57:49.591Z"
      },
      {
        "duration": 5,
        "start_time": "2022-10-03T16:57:50.716Z"
      },
      {
        "duration": 29,
        "start_time": "2022-10-03T17:02:09.470Z"
      },
      {
        "duration": 26,
        "start_time": "2022-10-03T17:02:56.055Z"
      },
      {
        "duration": 27,
        "start_time": "2022-10-03T17:03:13.413Z"
      },
      {
        "duration": 24,
        "start_time": "2022-10-03T17:05:45.015Z"
      },
      {
        "duration": 7,
        "start_time": "2022-10-03T17:05:54.044Z"
      },
      {
        "duration": 113,
        "start_time": "2022-10-03T17:09:42.130Z"
      },
      {
        "duration": 5,
        "start_time": "2022-10-03T17:09:50.983Z"
      },
      {
        "duration": 9,
        "start_time": "2022-10-03T17:10:04.293Z"
      },
      {
        "duration": 28,
        "start_time": "2022-10-03T17:13:59.030Z"
      },
      {
        "duration": 21,
        "start_time": "2022-10-03T17:14:21.913Z"
      },
      {
        "duration": 4,
        "start_time": "2022-10-03T17:15:26.902Z"
      },
      {
        "duration": 8,
        "start_time": "2022-10-03T17:15:37.960Z"
      },
      {
        "duration": 30,
        "start_time": "2022-10-03T17:15:51.114Z"
      },
      {
        "duration": 23,
        "start_time": "2022-10-03T17:15:51.859Z"
      },
      {
        "duration": 5,
        "start_time": "2022-10-03T17:15:53.253Z"
      },
      {
        "duration": 9,
        "start_time": "2022-10-03T17:15:54.952Z"
      },
      {
        "duration": 21,
        "start_time": "2022-10-03T17:16:33.949Z"
      },
      {
        "duration": 4,
        "start_time": "2022-10-03T17:16:35.267Z"
      },
      {
        "duration": 7,
        "start_time": "2022-10-03T17:16:35.961Z"
      },
      {
        "duration": 21,
        "start_time": "2022-10-03T17:16:50.988Z"
      },
      {
        "duration": 1228,
        "start_time": "2022-10-03T17:16:56.936Z"
      },
      {
        "duration": 160,
        "start_time": "2022-10-03T17:16:58.167Z"
      },
      {
        "duration": 13,
        "start_time": "2022-10-03T17:16:58.328Z"
      },
      {
        "duration": 20,
        "start_time": "2022-10-03T17:16:58.343Z"
      },
      {
        "duration": 4,
        "start_time": "2022-10-03T17:16:58.364Z"
      },
      {
        "duration": 9,
        "start_time": "2022-10-03T17:16:58.370Z"
      },
      {
        "duration": 8,
        "start_time": "2022-10-03T17:16:58.380Z"
      },
      {
        "duration": 33,
        "start_time": "2022-10-03T17:16:58.389Z"
      },
      {
        "duration": 30,
        "start_time": "2022-10-03T17:16:58.424Z"
      },
      {
        "duration": 10,
        "start_time": "2022-10-03T17:16:58.457Z"
      },
      {
        "duration": 104,
        "start_time": "2022-10-03T17:16:58.468Z"
      },
      {
        "duration": 103,
        "start_time": "2022-10-03T17:16:58.574Z"
      },
      {
        "duration": 96,
        "start_time": "2022-10-03T17:16:58.679Z"
      },
      {
        "duration": 21,
        "start_time": "2022-10-03T17:16:58.777Z"
      },
      {
        "duration": 42,
        "start_time": "2022-10-03T17:16:58.800Z"
      },
      {
        "duration": 26,
        "start_time": "2022-10-03T17:16:58.843Z"
      },
      {
        "duration": 22,
        "start_time": "2022-10-03T17:16:58.872Z"
      },
      {
        "duration": 41,
        "start_time": "2022-10-03T17:16:58.896Z"
      },
      {
        "duration": 12,
        "start_time": "2022-10-03T17:16:58.940Z"
      },
      {
        "duration": 16,
        "start_time": "2022-10-03T17:16:58.954Z"
      },
      {
        "duration": 11,
        "start_time": "2022-10-03T17:16:58.972Z"
      },
      {
        "duration": 17,
        "start_time": "2022-10-03T17:16:58.986Z"
      },
      {
        "duration": 442,
        "start_time": "2022-10-03T17:16:59.005Z"
      },
      {
        "duration": 25,
        "start_time": "2022-10-03T17:16:59.449Z"
      },
      {
        "duration": 13,
        "start_time": "2022-10-03T17:16:59.476Z"
      },
      {
        "duration": 43,
        "start_time": "2022-10-03T17:16:59.491Z"
      },
      {
        "duration": 11,
        "start_time": "2022-10-03T17:16:59.536Z"
      },
      {
        "duration": 21,
        "start_time": "2022-10-03T17:16:59.550Z"
      },
      {
        "duration": 5,
        "start_time": "2022-10-03T17:16:59.573Z"
      },
      {
        "duration": 16,
        "start_time": "2022-10-03T17:16:59.580Z"
      },
      {
        "duration": 39,
        "start_time": "2022-10-03T17:16:59.598Z"
      },
      {
        "duration": 7,
        "start_time": "2022-10-03T17:16:59.639Z"
      },
      {
        "duration": 9,
        "start_time": "2022-10-03T17:16:59.648Z"
      },
      {
        "duration": 14,
        "start_time": "2022-10-03T17:16:59.659Z"
      },
      {
        "duration": 46,
        "start_time": "2022-10-03T17:16:59.675Z"
      },
      {
        "duration": 19,
        "start_time": "2022-10-03T17:16:59.722Z"
      },
      {
        "duration": 23,
        "start_time": "2022-10-03T17:16:59.743Z"
      },
      {
        "duration": 4,
        "start_time": "2022-10-03T17:16:59.768Z"
      },
      {
        "duration": 13,
        "start_time": "2022-10-03T17:16:59.774Z"
      },
      {
        "duration": 28,
        "start_time": "2022-10-03T17:17:19.652Z"
      },
      {
        "duration": 6,
        "start_time": "2022-10-03T17:17:20.340Z"
      },
      {
        "duration": 8,
        "start_time": "2022-10-03T17:17:21.140Z"
      },
      {
        "duration": 6,
        "start_time": "2022-10-03T17:28:56.069Z"
      },
      {
        "duration": 10,
        "start_time": "2022-10-03T17:29:34.421Z"
      },
      {
        "duration": 43,
        "start_time": "2022-10-03T17:36:56.186Z"
      },
      {
        "duration": 73,
        "start_time": "2022-10-03T17:38:58.210Z"
      },
      {
        "duration": 71,
        "start_time": "2022-10-03T17:40:12.932Z"
      },
      {
        "duration": 62,
        "start_time": "2022-10-03T17:41:14.347Z"
      },
      {
        "duration": 54,
        "start_time": "2022-10-03T17:42:54.002Z"
      },
      {
        "duration": 83,
        "start_time": "2022-10-03T17:43:39.012Z"
      },
      {
        "duration": 55,
        "start_time": "2022-10-03T17:43:54.272Z"
      },
      {
        "duration": 63,
        "start_time": "2022-10-03T18:23:17.480Z"
      },
      {
        "duration": 54,
        "start_time": "2022-10-03T18:23:56.411Z"
      },
      {
        "duration": 54,
        "start_time": "2022-10-03T18:25:31.358Z"
      },
      {
        "duration": 48,
        "start_time": "2022-10-04T06:59:35.854Z"
      },
      {
        "duration": 1267,
        "start_time": "2022-10-04T06:59:57.116Z"
      },
      {
        "duration": 485,
        "start_time": "2022-10-04T06:59:58.385Z"
      },
      {
        "duration": 11,
        "start_time": "2022-10-04T06:59:58.871Z"
      },
      {
        "duration": 18,
        "start_time": "2022-10-04T06:59:58.884Z"
      },
      {
        "duration": 3,
        "start_time": "2022-10-04T06:59:58.903Z"
      },
      {
        "duration": 5,
        "start_time": "2022-10-04T06:59:58.907Z"
      },
      {
        "duration": 4,
        "start_time": "2022-10-04T06:59:58.914Z"
      },
      {
        "duration": 8,
        "start_time": "2022-10-04T06:59:58.919Z"
      },
      {
        "duration": 23,
        "start_time": "2022-10-04T06:59:58.929Z"
      },
      {
        "duration": 8,
        "start_time": "2022-10-04T06:59:58.955Z"
      },
      {
        "duration": 91,
        "start_time": "2022-10-04T06:59:58.964Z"
      },
      {
        "duration": 89,
        "start_time": "2022-10-04T06:59:59.057Z"
      },
      {
        "duration": 83,
        "start_time": "2022-10-04T06:59:59.147Z"
      },
      {
        "duration": 18,
        "start_time": "2022-10-04T06:59:59.231Z"
      },
      {
        "duration": 32,
        "start_time": "2022-10-04T06:59:59.250Z"
      },
      {
        "duration": 35,
        "start_time": "2022-10-04T06:59:59.283Z"
      },
      {
        "duration": 6,
        "start_time": "2022-10-04T06:59:59.320Z"
      },
      {
        "duration": 21,
        "start_time": "2022-10-04T06:59:59.327Z"
      },
      {
        "duration": 8,
        "start_time": "2022-10-04T06:59:59.349Z"
      },
      {
        "duration": 5,
        "start_time": "2022-10-04T06:59:59.358Z"
      },
      {
        "duration": 7,
        "start_time": "2022-10-04T06:59:59.364Z"
      },
      {
        "duration": 6,
        "start_time": "2022-10-04T06:59:59.372Z"
      },
      {
        "duration": 445,
        "start_time": "2022-10-04T06:59:59.380Z"
      },
      {
        "duration": 23,
        "start_time": "2022-10-04T06:59:59.826Z"
      },
      {
        "duration": 12,
        "start_time": "2022-10-04T06:59:59.850Z"
      },
      {
        "duration": 18,
        "start_time": "2022-10-04T06:59:59.864Z"
      },
      {
        "duration": 32,
        "start_time": "2022-10-04T06:59:59.884Z"
      },
      {
        "duration": 17,
        "start_time": "2022-10-04T06:59:59.920Z"
      },
      {
        "duration": 4,
        "start_time": "2022-10-04T06:59:59.939Z"
      },
      {
        "duration": 5,
        "start_time": "2022-10-04T06:59:59.945Z"
      },
      {
        "duration": 23,
        "start_time": "2022-10-04T06:59:59.951Z"
      },
      {
        "duration": 6,
        "start_time": "2022-10-04T06:59:59.975Z"
      },
      {
        "duration": 4,
        "start_time": "2022-10-04T07:00:00.008Z"
      },
      {
        "duration": 28,
        "start_time": "2022-10-04T07:00:00.014Z"
      },
      {
        "duration": 36,
        "start_time": "2022-10-04T07:00:00.044Z"
      },
      {
        "duration": 19,
        "start_time": "2022-10-04T07:00:00.082Z"
      },
      {
        "duration": 21,
        "start_time": "2022-10-04T07:00:00.103Z"
      },
      {
        "duration": 8,
        "start_time": "2022-10-04T07:00:00.125Z"
      },
      {
        "duration": 16,
        "start_time": "2022-10-04T07:00:00.134Z"
      },
      {
        "duration": 67,
        "start_time": "2022-10-04T07:00:00.151Z"
      },
      {
        "duration": 51,
        "start_time": "2022-10-04T07:00:00.219Z"
      },
      {
        "duration": 59,
        "start_time": "2022-10-04T07:00:00.271Z"
      },
      {
        "duration": 53,
        "start_time": "2022-10-04T07:00:00.331Z"
      },
      {
        "duration": 107,
        "start_time": "2022-10-04T07:04:36.778Z"
      },
      {
        "duration": 12,
        "start_time": "2022-10-04T07:05:19.703Z"
      },
      {
        "duration": 3,
        "start_time": "2022-10-04T07:07:06.404Z"
      },
      {
        "duration": 48,
        "start_time": "2022-10-04T07:07:14.401Z"
      },
      {
        "duration": 34,
        "start_time": "2022-10-04T07:07:38.725Z"
      },
      {
        "duration": 34,
        "start_time": "2022-10-04T07:08:09.877Z"
      },
      {
        "duration": 39,
        "start_time": "2022-10-04T07:09:11.639Z"
      },
      {
        "duration": 3,
        "start_time": "2022-10-04T07:10:46.432Z"
      },
      {
        "duration": 7,
        "start_time": "2022-10-04T07:10:53.731Z"
      },
      {
        "duration": 11,
        "start_time": "2022-10-04T07:21:09.726Z"
      },
      {
        "duration": 47,
        "start_time": "2022-10-04T07:21:21.443Z"
      },
      {
        "duration": 90,
        "start_time": "2022-10-04T07:25:05.426Z"
      },
      {
        "duration": 99,
        "start_time": "2022-10-04T07:25:17.790Z"
      },
      {
        "duration": 283,
        "start_time": "2022-10-04T07:25:32.178Z"
      },
      {
        "duration": 126,
        "start_time": "2022-10-04T07:25:50.745Z"
      },
      {
        "duration": 153,
        "start_time": "2022-10-04T07:26:18.171Z"
      },
      {
        "duration": 3,
        "start_time": "2022-10-04T07:26:30.200Z"
      },
      {
        "duration": 88,
        "start_time": "2022-10-04T07:36:35.397Z"
      },
      {
        "duration": 82,
        "start_time": "2022-10-04T07:37:26.150Z"
      },
      {
        "duration": 3,
        "start_time": "2022-10-04T07:37:38.075Z"
      },
      {
        "duration": 2,
        "start_time": "2022-10-04T07:39:32.177Z"
      },
      {
        "duration": 3,
        "start_time": "2022-10-04T07:39:52.890Z"
      },
      {
        "duration": 26,
        "start_time": "2022-10-04T07:51:46.112Z"
      },
      {
        "duration": 18,
        "start_time": "2022-10-04T07:52:00.863Z"
      },
      {
        "duration": 19,
        "start_time": "2022-10-04T07:52:43.485Z"
      },
      {
        "duration": 6,
        "start_time": "2022-10-04T07:58:59.184Z"
      },
      {
        "duration": 8,
        "start_time": "2022-10-04T08:00:26.527Z"
      },
      {
        "duration": 54,
        "start_time": "2022-10-04T08:04:44.445Z"
      },
      {
        "duration": 14,
        "start_time": "2022-10-04T08:04:49.275Z"
      },
      {
        "duration": 7,
        "start_time": "2022-10-04T08:05:37.120Z"
      },
      {
        "duration": 7,
        "start_time": "2022-10-04T08:10:34.069Z"
      },
      {
        "duration": 1137,
        "start_time": "2022-10-04T08:11:01.276Z"
      },
      {
        "duration": 150,
        "start_time": "2022-10-04T08:11:02.414Z"
      },
      {
        "duration": 11,
        "start_time": "2022-10-04T08:11:02.566Z"
      },
      {
        "duration": 28,
        "start_time": "2022-10-04T08:11:02.578Z"
      },
      {
        "duration": 9,
        "start_time": "2022-10-04T08:11:02.608Z"
      },
      {
        "duration": 20,
        "start_time": "2022-10-04T08:11:02.618Z"
      },
      {
        "duration": 26,
        "start_time": "2022-10-04T08:11:02.639Z"
      },
      {
        "duration": 25,
        "start_time": "2022-10-04T08:11:02.666Z"
      },
      {
        "duration": 46,
        "start_time": "2022-10-04T08:11:02.692Z"
      },
      {
        "duration": 9,
        "start_time": "2022-10-04T08:11:02.741Z"
      },
      {
        "duration": 84,
        "start_time": "2022-10-04T08:11:02.752Z"
      },
      {
        "duration": 87,
        "start_time": "2022-10-04T08:11:02.838Z"
      },
      {
        "duration": 89,
        "start_time": "2022-10-04T08:11:02.927Z"
      },
      {
        "duration": 19,
        "start_time": "2022-10-04T08:11:03.018Z"
      },
      {
        "duration": 28,
        "start_time": "2022-10-04T08:11:03.038Z"
      },
      {
        "duration": 18,
        "start_time": "2022-10-04T08:11:03.068Z"
      },
      {
        "duration": 8,
        "start_time": "2022-10-04T08:11:03.109Z"
      },
      {
        "duration": 16,
        "start_time": "2022-10-04T08:11:03.118Z"
      },
      {
        "duration": 7,
        "start_time": "2022-10-04T08:11:03.135Z"
      },
      {
        "duration": 7,
        "start_time": "2022-10-04T08:11:03.143Z"
      },
      {
        "duration": 6,
        "start_time": "2022-10-04T08:11:03.152Z"
      },
      {
        "duration": 455,
        "start_time": "2022-10-04T08:11:03.159Z"
      },
      {
        "duration": 23,
        "start_time": "2022-10-04T08:11:03.615Z"
      },
      {
        "duration": 13,
        "start_time": "2022-10-04T08:11:03.640Z"
      },
      {
        "duration": 19,
        "start_time": "2022-10-04T08:11:03.654Z"
      },
      {
        "duration": 35,
        "start_time": "2022-10-04T08:11:03.675Z"
      },
      {
        "duration": 18,
        "start_time": "2022-10-04T08:11:03.712Z"
      },
      {
        "duration": 5,
        "start_time": "2022-10-04T08:11:03.733Z"
      },
      {
        "duration": 7,
        "start_time": "2022-10-04T08:11:03.739Z"
      },
      {
        "duration": 29,
        "start_time": "2022-10-04T08:11:03.748Z"
      },
      {
        "duration": 7,
        "start_time": "2022-10-04T08:11:03.778Z"
      },
      {
        "duration": 27,
        "start_time": "2022-10-04T08:11:03.787Z"
      },
      {
        "duration": 11,
        "start_time": "2022-10-04T08:11:03.815Z"
      },
      {
        "duration": 28,
        "start_time": "2022-10-04T08:11:03.828Z"
      },
      {
        "duration": 18,
        "start_time": "2022-10-04T08:11:03.857Z"
      },
      {
        "duration": 34,
        "start_time": "2022-10-04T08:11:03.877Z"
      },
      {
        "duration": 3,
        "start_time": "2022-10-04T08:11:03.912Z"
      },
      {
        "duration": 10,
        "start_time": "2022-10-04T08:11:03.916Z"
      },
      {
        "duration": 43,
        "start_time": "2022-10-04T08:11:03.927Z"
      },
      {
        "duration": 44,
        "start_time": "2022-10-04T08:11:03.972Z"
      },
      {
        "duration": 33,
        "start_time": "2022-10-04T08:11:04.017Z"
      },
      {
        "duration": 37,
        "start_time": "2022-10-04T08:11:04.052Z"
      },
      {
        "duration": 19,
        "start_time": "2022-10-04T08:11:04.091Z"
      },
      {
        "duration": 60,
        "start_time": "2022-10-04T08:11:04.111Z"
      },
      {
        "duration": 3,
        "start_time": "2022-10-04T08:11:04.172Z"
      },
      {
        "duration": 11,
        "start_time": "2022-10-04T08:25:15.933Z"
      },
      {
        "duration": 8,
        "start_time": "2022-10-04T08:28:28.409Z"
      },
      {
        "duration": 5,
        "start_time": "2022-10-04T08:29:38.975Z"
      },
      {
        "duration": 6,
        "start_time": "2022-10-04T08:30:07.462Z"
      },
      {
        "duration": 10,
        "start_time": "2022-10-04T08:30:24.502Z"
      },
      {
        "duration": 4,
        "start_time": "2022-10-04T08:31:03.201Z"
      },
      {
        "duration": 4,
        "start_time": "2022-10-04T08:31:10.409Z"
      },
      {
        "duration": 10,
        "start_time": "2022-10-04T08:31:20.266Z"
      },
      {
        "duration": 72,
        "start_time": "2022-10-04T08:33:05.572Z"
      },
      {
        "duration": 23,
        "start_time": "2022-10-04T08:33:37.525Z"
      },
      {
        "duration": 19,
        "start_time": "2022-10-04T08:33:56.539Z"
      },
      {
        "duration": 122,
        "start_time": "2022-10-04T08:35:08.894Z"
      },
      {
        "duration": 17,
        "start_time": "2022-10-04T08:35:30.728Z"
      },
      {
        "duration": 18,
        "start_time": "2022-10-04T08:38:28.158Z"
      },
      {
        "duration": 15,
        "start_time": "2022-10-04T08:55:35.798Z"
      },
      {
        "duration": 1130,
        "start_time": "2022-10-04T08:55:54.302Z"
      },
      {
        "duration": 148,
        "start_time": "2022-10-04T08:55:55.434Z"
      },
      {
        "duration": 11,
        "start_time": "2022-10-04T08:55:55.584Z"
      },
      {
        "duration": 34,
        "start_time": "2022-10-04T08:55:55.597Z"
      },
      {
        "duration": 2,
        "start_time": "2022-10-04T08:55:55.633Z"
      },
      {
        "duration": 5,
        "start_time": "2022-10-04T08:55:55.637Z"
      },
      {
        "duration": 5,
        "start_time": "2022-10-04T08:55:55.643Z"
      },
      {
        "duration": 9,
        "start_time": "2022-10-04T08:55:55.649Z"
      },
      {
        "duration": 22,
        "start_time": "2022-10-04T08:55:55.659Z"
      },
      {
        "duration": 32,
        "start_time": "2022-10-04T08:55:55.683Z"
      },
      {
        "duration": 76,
        "start_time": "2022-10-04T08:55:55.716Z"
      },
      {
        "duration": 90,
        "start_time": "2022-10-04T08:55:55.794Z"
      },
      {
        "duration": 92,
        "start_time": "2022-10-04T08:55:55.886Z"
      },
      {
        "duration": 20,
        "start_time": "2022-10-04T08:55:55.980Z"
      },
      {
        "duration": 28,
        "start_time": "2022-10-04T08:55:56.009Z"
      },
      {
        "duration": 17,
        "start_time": "2022-10-04T08:55:56.039Z"
      },
      {
        "duration": 9,
        "start_time": "2022-10-04T08:55:56.057Z"
      },
      {
        "duration": 43,
        "start_time": "2022-10-04T08:55:56.068Z"
      },
      {
        "duration": 9,
        "start_time": "2022-10-04T08:55:56.112Z"
      },
      {
        "duration": 8,
        "start_time": "2022-10-04T08:55:56.123Z"
      },
      {
        "duration": 8,
        "start_time": "2022-10-04T08:55:56.132Z"
      },
      {
        "duration": 485,
        "start_time": "2022-10-04T08:55:56.141Z"
      },
      {
        "duration": 15,
        "start_time": "2022-10-04T08:55:56.628Z"
      },
      {
        "duration": 19,
        "start_time": "2022-10-04T08:55:56.644Z"
      },
      {
        "duration": 10,
        "start_time": "2022-10-04T08:55:56.664Z"
      },
      {
        "duration": 46,
        "start_time": "2022-10-04T08:55:56.676Z"
      },
      {
        "duration": 19,
        "start_time": "2022-10-04T08:55:56.723Z"
      },
      {
        "duration": 5,
        "start_time": "2022-10-04T08:55:56.747Z"
      },
      {
        "duration": 8,
        "start_time": "2022-10-04T08:55:56.754Z"
      },
      {
        "duration": 50,
        "start_time": "2022-10-04T08:55:56.763Z"
      },
      {
        "duration": 46,
        "start_time": "2022-10-04T08:55:56.815Z"
      },
      {
        "duration": 4,
        "start_time": "2022-10-04T08:55:56.862Z"
      },
      {
        "duration": 11,
        "start_time": "2022-10-04T08:55:56.867Z"
      },
      {
        "duration": 45,
        "start_time": "2022-10-04T08:55:56.879Z"
      },
      {
        "duration": 20,
        "start_time": "2022-10-04T08:55:56.925Z"
      },
      {
        "duration": 22,
        "start_time": "2022-10-04T08:55:56.946Z"
      },
      {
        "duration": 3,
        "start_time": "2022-10-04T08:55:56.970Z"
      },
      {
        "duration": 35,
        "start_time": "2022-10-04T08:55:56.975Z"
      },
      {
        "duration": 52,
        "start_time": "2022-10-04T08:55:57.011Z"
      },
      {
        "duration": 35,
        "start_time": "2022-10-04T08:55:57.065Z"
      },
      {
        "duration": 40,
        "start_time": "2022-10-04T08:55:57.102Z"
      },
      {
        "duration": 37,
        "start_time": "2022-10-04T08:55:57.144Z"
      },
      {
        "duration": 3,
        "start_time": "2022-10-04T08:55:57.182Z"
      },
      {
        "duration": 34,
        "start_time": "2022-10-04T08:55:57.187Z"
      },
      {
        "duration": 5,
        "start_time": "2022-10-04T08:55:57.223Z"
      },
      {
        "duration": 13,
        "start_time": "2022-10-04T09:02:30.484Z"
      },
      {
        "duration": 1161,
        "start_time": "2022-10-04T09:02:39.378Z"
      },
      {
        "duration": 148,
        "start_time": "2022-10-04T09:02:40.540Z"
      },
      {
        "duration": 13,
        "start_time": "2022-10-04T09:02:40.690Z"
      },
      {
        "duration": 18,
        "start_time": "2022-10-04T09:02:40.708Z"
      },
      {
        "duration": 4,
        "start_time": "2022-10-04T09:02:40.727Z"
      },
      {
        "duration": 7,
        "start_time": "2022-10-04T09:02:40.732Z"
      },
      {
        "duration": 4,
        "start_time": "2022-10-04T09:02:40.740Z"
      },
      {
        "duration": 10,
        "start_time": "2022-10-04T09:02:40.745Z"
      },
      {
        "duration": 21,
        "start_time": "2022-10-04T09:02:40.757Z"
      },
      {
        "duration": 34,
        "start_time": "2022-10-04T09:02:40.781Z"
      },
      {
        "duration": 78,
        "start_time": "2022-10-04T09:02:40.816Z"
      },
      {
        "duration": 94,
        "start_time": "2022-10-04T09:02:40.895Z"
      },
      {
        "duration": 86,
        "start_time": "2022-10-04T09:02:40.990Z"
      },
      {
        "duration": 17,
        "start_time": "2022-10-04T09:02:41.077Z"
      },
      {
        "duration": 36,
        "start_time": "2022-10-04T09:02:41.096Z"
      },
      {
        "duration": 16,
        "start_time": "2022-10-04T09:02:41.134Z"
      },
      {
        "duration": 5,
        "start_time": "2022-10-04T09:02:41.152Z"
      },
      {
        "duration": 16,
        "start_time": "2022-10-04T09:02:41.159Z"
      },
      {
        "duration": 34,
        "start_time": "2022-10-04T09:02:41.177Z"
      },
      {
        "duration": 7,
        "start_time": "2022-10-04T09:02:41.213Z"
      },
      {
        "duration": 7,
        "start_time": "2022-10-04T09:02:41.222Z"
      },
      {
        "duration": 482,
        "start_time": "2022-10-04T09:02:41.231Z"
      },
      {
        "duration": 15,
        "start_time": "2022-10-04T09:02:41.715Z"
      },
      {
        "duration": 22,
        "start_time": "2022-10-04T09:02:41.732Z"
      },
      {
        "duration": 10,
        "start_time": "2022-10-04T09:02:41.755Z"
      },
      {
        "duration": 45,
        "start_time": "2022-10-04T09:02:41.767Z"
      },
      {
        "duration": 22,
        "start_time": "2022-10-04T09:02:41.814Z"
      },
      {
        "duration": 5,
        "start_time": "2022-10-04T09:02:41.839Z"
      },
      {
        "duration": 15,
        "start_time": "2022-10-04T09:02:41.846Z"
      },
      {
        "duration": 40,
        "start_time": "2022-10-04T09:02:41.863Z"
      },
      {
        "duration": 56,
        "start_time": "2022-10-04T09:02:41.904Z"
      },
      {
        "duration": 4,
        "start_time": "2022-10-04T09:02:41.961Z"
      },
      {
        "duration": 23,
        "start_time": "2022-10-04T09:02:41.966Z"
      },
      {
        "duration": 35,
        "start_time": "2022-10-04T09:02:41.990Z"
      },
      {
        "duration": 20,
        "start_time": "2022-10-04T09:02:42.027Z"
      },
      {
        "duration": 36,
        "start_time": "2022-10-04T09:02:42.049Z"
      },
      {
        "duration": 23,
        "start_time": "2022-10-04T09:02:42.087Z"
      },
      {
        "duration": 18,
        "start_time": "2022-10-04T09:02:42.111Z"
      },
      {
        "duration": 42,
        "start_time": "2022-10-04T09:02:42.131Z"
      },
      {
        "duration": 47,
        "start_time": "2022-10-04T09:02:42.175Z"
      },
      {
        "duration": 39,
        "start_time": "2022-10-04T09:02:42.223Z"
      },
      {
        "duration": 57,
        "start_time": "2022-10-04T09:02:42.264Z"
      },
      {
        "duration": 9,
        "start_time": "2022-10-04T09:02:42.323Z"
      },
      {
        "duration": 50,
        "start_time": "2022-10-04T09:02:42.334Z"
      },
      {
        "duration": 19,
        "start_time": "2022-10-04T09:02:42.385Z"
      },
      {
        "duration": 22,
        "start_time": "2022-10-04T09:06:59.935Z"
      },
      {
        "duration": 1128,
        "start_time": "2022-10-04T09:07:09.422Z"
      },
      {
        "duration": 162,
        "start_time": "2022-10-04T09:07:10.551Z"
      },
      {
        "duration": 12,
        "start_time": "2022-10-04T09:07:10.715Z"
      },
      {
        "duration": 18,
        "start_time": "2022-10-04T09:07:10.728Z"
      },
      {
        "duration": 4,
        "start_time": "2022-10-04T09:07:10.747Z"
      },
      {
        "duration": 10,
        "start_time": "2022-10-04T09:07:10.752Z"
      },
      {
        "duration": 8,
        "start_time": "2022-10-04T09:07:10.764Z"
      },
      {
        "duration": 9,
        "start_time": "2022-10-04T09:07:10.774Z"
      },
      {
        "duration": 43,
        "start_time": "2022-10-04T09:07:10.785Z"
      },
      {
        "duration": 8,
        "start_time": "2022-10-04T09:07:10.831Z"
      },
      {
        "duration": 88,
        "start_time": "2022-10-04T09:07:10.841Z"
      },
      {
        "duration": 93,
        "start_time": "2022-10-04T09:07:10.931Z"
      },
      {
        "duration": 85,
        "start_time": "2022-10-04T09:07:11.025Z"
      },
      {
        "duration": 18,
        "start_time": "2022-10-04T09:07:11.112Z"
      },
      {
        "duration": 28,
        "start_time": "2022-10-04T09:07:11.131Z"
      },
      {
        "duration": 18,
        "start_time": "2022-10-04T09:07:11.160Z"
      },
      {
        "duration": 35,
        "start_time": "2022-10-04T09:07:11.179Z"
      },
      {
        "duration": 23,
        "start_time": "2022-10-04T09:07:11.216Z"
      },
      {
        "duration": 10,
        "start_time": "2022-10-04T09:07:11.241Z"
      },
      {
        "duration": 8,
        "start_time": "2022-10-04T09:07:11.253Z"
      },
      {
        "duration": 14,
        "start_time": "2022-10-04T09:07:11.262Z"
      },
      {
        "duration": 489,
        "start_time": "2022-10-04T09:07:11.278Z"
      },
      {
        "duration": 15,
        "start_time": "2022-10-04T09:07:11.768Z"
      },
      {
        "duration": 34,
        "start_time": "2022-10-04T09:07:11.785Z"
      },
      {
        "duration": 13,
        "start_time": "2022-10-04T09:07:11.821Z"
      },
      {
        "duration": 20,
        "start_time": "2022-10-04T09:07:11.836Z"
      },
      {
        "duration": 17,
        "start_time": "2022-10-04T09:07:11.857Z"
      },
      {
        "duration": 5,
        "start_time": "2022-10-04T09:07:11.878Z"
      },
      {
        "duration": 3,
        "start_time": "2022-10-04T09:07:11.909Z"
      },
      {
        "duration": 41,
        "start_time": "2022-10-04T09:07:11.914Z"
      },
      {
        "duration": 45,
        "start_time": "2022-10-04T09:07:11.957Z"
      },
      {
        "duration": 6,
        "start_time": "2022-10-04T09:07:12.004Z"
      },
      {
        "duration": 19,
        "start_time": "2022-10-04T09:07:12.011Z"
      },
      {
        "duration": 42,
        "start_time": "2022-10-04T09:07:12.032Z"
      },
      {
        "duration": 33,
        "start_time": "2022-10-04T09:07:12.076Z"
      },
      {
        "duration": 22,
        "start_time": "2022-10-04T09:07:12.110Z"
      },
      {
        "duration": 3,
        "start_time": "2022-10-04T09:07:12.134Z"
      },
      {
        "duration": 16,
        "start_time": "2022-10-04T09:07:12.139Z"
      },
      {
        "duration": 52,
        "start_time": "2022-10-04T09:07:12.157Z"
      },
      {
        "duration": 41,
        "start_time": "2022-10-04T09:07:12.210Z"
      },
      {
        "duration": 36,
        "start_time": "2022-10-04T09:07:12.253Z"
      },
      {
        "duration": 64,
        "start_time": "2022-10-04T09:07:12.290Z"
      },
      {
        "duration": 4,
        "start_time": "2022-10-04T09:07:12.356Z"
      },
      {
        "duration": 19,
        "start_time": "2022-10-04T09:07:12.361Z"
      },
      {
        "duration": 7,
        "start_time": "2022-10-04T09:07:12.381Z"
      },
      {
        "duration": 4,
        "start_time": "2022-10-04T09:37:40.909Z"
      },
      {
        "duration": 18,
        "start_time": "2022-10-04T09:37:41.720Z"
      },
      {
        "duration": 1063,
        "start_time": "2022-10-04T09:38:02.057Z"
      },
      {
        "duration": 149,
        "start_time": "2022-10-04T09:38:03.122Z"
      },
      {
        "duration": 15,
        "start_time": "2022-10-04T09:38:03.272Z"
      },
      {
        "duration": 33,
        "start_time": "2022-10-04T09:38:03.289Z"
      },
      {
        "duration": 2,
        "start_time": "2022-10-04T09:38:03.324Z"
      },
      {
        "duration": 6,
        "start_time": "2022-10-04T09:38:03.328Z"
      },
      {
        "duration": 4,
        "start_time": "2022-10-04T09:38:03.335Z"
      },
      {
        "duration": 8,
        "start_time": "2022-10-04T09:38:03.340Z"
      },
      {
        "duration": 22,
        "start_time": "2022-10-04T09:38:03.350Z"
      },
      {
        "duration": 41,
        "start_time": "2022-10-04T09:38:03.374Z"
      },
      {
        "duration": 76,
        "start_time": "2022-10-04T09:38:03.416Z"
      },
      {
        "duration": 95,
        "start_time": "2022-10-04T09:38:03.494Z"
      },
      {
        "duration": 90,
        "start_time": "2022-10-04T09:38:03.590Z"
      },
      {
        "duration": 30,
        "start_time": "2022-10-04T09:38:03.681Z"
      },
      {
        "duration": 39,
        "start_time": "2022-10-04T09:38:03.713Z"
      },
      {
        "duration": 22,
        "start_time": "2022-10-04T09:38:03.753Z"
      },
      {
        "duration": 33,
        "start_time": "2022-10-04T09:38:03.776Z"
      },
      {
        "duration": 16,
        "start_time": "2022-10-04T09:38:03.810Z"
      },
      {
        "duration": 7,
        "start_time": "2022-10-04T09:38:03.827Z"
      },
      {
        "duration": 7,
        "start_time": "2022-10-04T09:38:03.835Z"
      },
      {
        "duration": 7,
        "start_time": "2022-10-04T09:38:03.843Z"
      },
      {
        "duration": 471,
        "start_time": "2022-10-04T09:38:03.851Z"
      },
      {
        "duration": 14,
        "start_time": "2022-10-04T09:38:04.323Z"
      },
      {
        "duration": 49,
        "start_time": "2022-10-04T09:38:04.338Z"
      },
      {
        "duration": 14,
        "start_time": "2022-10-04T09:38:04.389Z"
      },
      {
        "duration": 25,
        "start_time": "2022-10-04T09:38:04.404Z"
      },
      {
        "duration": 22,
        "start_time": "2022-10-04T09:38:04.431Z"
      },
      {
        "duration": 10,
        "start_time": "2022-10-04T09:38:04.457Z"
      },
      {
        "duration": 19,
        "start_time": "2022-10-04T09:38:04.469Z"
      },
      {
        "duration": 41,
        "start_time": "2022-10-04T09:38:04.490Z"
      },
      {
        "duration": 59,
        "start_time": "2022-10-04T09:38:04.533Z"
      },
      {
        "duration": 18,
        "start_time": "2022-10-04T09:38:04.594Z"
      },
      {
        "duration": 16,
        "start_time": "2022-10-04T09:38:04.614Z"
      },
      {
        "duration": 37,
        "start_time": "2022-10-04T09:38:04.632Z"
      },
      {
        "duration": 48,
        "start_time": "2022-10-04T09:38:04.671Z"
      },
      {
        "duration": 27,
        "start_time": "2022-10-04T09:38:04.720Z"
      },
      {
        "duration": 4,
        "start_time": "2022-10-04T09:38:04.748Z"
      },
      {
        "duration": 10,
        "start_time": "2022-10-04T09:38:04.754Z"
      },
      {
        "duration": 63,
        "start_time": "2022-10-04T09:38:04.765Z"
      },
      {
        "duration": 36,
        "start_time": "2022-10-04T09:38:04.829Z"
      },
      {
        "duration": 48,
        "start_time": "2022-10-04T09:38:04.866Z"
      },
      {
        "duration": 38,
        "start_time": "2022-10-04T09:38:04.916Z"
      },
      {
        "duration": 7,
        "start_time": "2022-10-04T09:38:04.955Z"
      },
      {
        "duration": 15,
        "start_time": "2022-10-04T09:38:04.963Z"
      },
      {
        "duration": 4,
        "start_time": "2022-10-04T09:38:04.980Z"
      },
      {
        "duration": 4,
        "start_time": "2022-10-04T09:39:47.866Z"
      },
      {
        "duration": 15,
        "start_time": "2022-10-04T09:39:51.600Z"
      },
      {
        "duration": 1254,
        "start_time": "2022-10-04T09:40:00.813Z"
      },
      {
        "duration": 156,
        "start_time": "2022-10-04T09:40:02.069Z"
      },
      {
        "duration": 13,
        "start_time": "2022-10-04T09:40:02.227Z"
      },
      {
        "duration": 28,
        "start_time": "2022-10-04T09:40:02.242Z"
      },
      {
        "duration": 3,
        "start_time": "2022-10-04T09:40:02.271Z"
      },
      {
        "duration": 23,
        "start_time": "2022-10-04T09:40:02.275Z"
      },
      {
        "duration": 24,
        "start_time": "2022-10-04T09:40:02.299Z"
      },
      {
        "duration": 19,
        "start_time": "2022-10-04T09:40:02.324Z"
      },
      {
        "duration": 31,
        "start_time": "2022-10-04T09:40:02.344Z"
      },
      {
        "duration": 9,
        "start_time": "2022-10-04T09:40:02.378Z"
      },
      {
        "duration": 87,
        "start_time": "2022-10-04T09:40:02.388Z"
      },
      {
        "duration": 87,
        "start_time": "2022-10-04T09:40:02.476Z"
      },
      {
        "duration": 88,
        "start_time": "2022-10-04T09:40:02.565Z"
      },
      {
        "duration": 27,
        "start_time": "2022-10-04T09:40:02.655Z"
      },
      {
        "duration": 55,
        "start_time": "2022-10-04T09:40:02.684Z"
      },
      {
        "duration": 19,
        "start_time": "2022-10-04T09:40:02.740Z"
      },
      {
        "duration": 13,
        "start_time": "2022-10-04T09:40:02.760Z"
      },
      {
        "duration": 38,
        "start_time": "2022-10-04T09:40:02.775Z"
      },
      {
        "duration": 7,
        "start_time": "2022-10-04T09:40:02.815Z"
      },
      {
        "duration": 35,
        "start_time": "2022-10-04T09:40:02.824Z"
      },
      {
        "duration": 21,
        "start_time": "2022-10-04T09:40:02.861Z"
      },
      {
        "duration": 460,
        "start_time": "2022-10-04T09:40:02.883Z"
      },
      {
        "duration": 13,
        "start_time": "2022-10-04T09:40:03.345Z"
      },
      {
        "duration": 37,
        "start_time": "2022-10-04T09:40:03.359Z"
      },
      {
        "duration": 13,
        "start_time": "2022-10-04T09:40:03.397Z"
      },
      {
        "duration": 18,
        "start_time": "2022-10-04T09:40:03.411Z"
      },
      {
        "duration": 17,
        "start_time": "2022-10-04T09:40:03.430Z"
      },
      {
        "duration": 5,
        "start_time": "2022-10-04T09:40:03.450Z"
      },
      {
        "duration": 6,
        "start_time": "2022-10-04T09:40:03.456Z"
      },
      {
        "duration": 60,
        "start_time": "2022-10-04T09:40:03.463Z"
      },
      {
        "duration": 44,
        "start_time": "2022-10-04T09:40:03.525Z"
      },
      {
        "duration": 4,
        "start_time": "2022-10-04T09:40:03.570Z"
      },
      {
        "duration": 14,
        "start_time": "2022-10-04T09:40:03.575Z"
      },
      {
        "duration": 26,
        "start_time": "2022-10-04T09:40:03.610Z"
      },
      {
        "duration": 21,
        "start_time": "2022-10-04T09:40:03.638Z"
      },
      {
        "duration": 48,
        "start_time": "2022-10-04T09:40:03.661Z"
      },
      {
        "duration": 5,
        "start_time": "2022-10-04T09:40:03.711Z"
      },
      {
        "duration": 17,
        "start_time": "2022-10-04T09:40:03.717Z"
      },
      {
        "duration": 45,
        "start_time": "2022-10-04T09:40:03.735Z"
      },
      {
        "duration": 44,
        "start_time": "2022-10-04T09:40:03.781Z"
      },
      {
        "duration": 33,
        "start_time": "2022-10-04T09:40:03.827Z"
      },
      {
        "duration": 51,
        "start_time": "2022-10-04T09:40:03.862Z"
      },
      {
        "duration": 3,
        "start_time": "2022-10-04T09:40:03.915Z"
      },
      {
        "duration": 14,
        "start_time": "2022-10-04T09:40:03.920Z"
      },
      {
        "duration": 6,
        "start_time": "2022-10-04T09:40:03.936Z"
      },
      {
        "duration": 109,
        "start_time": "2022-10-04T09:43:36.703Z"
      },
      {
        "duration": 6,
        "start_time": "2022-10-04T09:44:44.419Z"
      },
      {
        "duration": 9,
        "start_time": "2022-10-04T09:44:59.835Z"
      },
      {
        "duration": 10,
        "start_time": "2022-10-04T09:48:28.676Z"
      },
      {
        "duration": 10,
        "start_time": "2022-10-04T09:48:53.463Z"
      },
      {
        "duration": 7,
        "start_time": "2022-10-04T09:48:57.613Z"
      },
      {
        "duration": 4,
        "start_time": "2022-10-04T09:49:13.458Z"
      },
      {
        "duration": 384,
        "start_time": "2022-10-04T09:52:14.717Z"
      },
      {
        "duration": 268,
        "start_time": "2022-10-04T09:53:36.988Z"
      },
      {
        "duration": 5,
        "start_time": "2022-10-04T09:55:48.081Z"
      },
      {
        "duration": 145,
        "start_time": "2022-10-04T09:55:49.737Z"
      },
      {
        "duration": 8,
        "start_time": "2022-10-04T09:55:55.769Z"
      },
      {
        "duration": 5,
        "start_time": "2022-10-04T09:56:07.488Z"
      },
      {
        "duration": 8,
        "start_time": "2022-10-04T09:56:09.732Z"
      },
      {
        "duration": 5,
        "start_time": "2022-10-04T09:57:16.024Z"
      },
      {
        "duration": 10,
        "start_time": "2022-10-04T09:57:18.571Z"
      },
      {
        "duration": 12,
        "start_time": "2022-10-04T09:57:34.569Z"
      },
      {
        "duration": 311,
        "start_time": "2022-10-04T09:57:39.830Z"
      },
      {
        "duration": 278,
        "start_time": "2022-10-04T09:58:56.364Z"
      },
      {
        "duration": 6,
        "start_time": "2022-10-04T10:08:04.307Z"
      },
      {
        "duration": 31,
        "start_time": "2022-10-04T10:40:49.403Z"
      },
      {
        "duration": 19,
        "start_time": "2022-10-04T10:41:24.792Z"
      },
      {
        "duration": 21,
        "start_time": "2022-10-04T10:41:54.044Z"
      },
      {
        "duration": 63,
        "start_time": "2022-10-04T10:50:28.813Z"
      },
      {
        "duration": 4,
        "start_time": "2022-10-04T10:50:42.269Z"
      },
      {
        "duration": 78,
        "start_time": "2022-10-04T10:51:36.400Z"
      },
      {
        "duration": 49,
        "start_time": "2022-10-04T10:51:55.222Z"
      },
      {
        "duration": 50,
        "start_time": "2022-10-04T10:52:18.912Z"
      },
      {
        "duration": 65,
        "start_time": "2022-10-04T10:54:06.892Z"
      },
      {
        "duration": 51,
        "start_time": "2022-10-04T10:54:15.105Z"
      },
      {
        "duration": 50,
        "start_time": "2022-10-04T10:55:47.450Z"
      },
      {
        "duration": 9,
        "start_time": "2022-10-04T10:56:18.478Z"
      },
      {
        "duration": 12,
        "start_time": "2022-10-04T10:56:35.634Z"
      },
      {
        "duration": 14,
        "start_time": "2022-10-04T10:58:28.240Z"
      },
      {
        "duration": 15,
        "start_time": "2022-10-04T10:58:31.555Z"
      },
      {
        "duration": 7,
        "start_time": "2022-10-04T10:58:55.087Z"
      },
      {
        "duration": 19,
        "start_time": "2022-10-04T10:58:58.175Z"
      },
      {
        "duration": 1072,
        "start_time": "2022-10-04T10:59:07.352Z"
      },
      {
        "duration": 154,
        "start_time": "2022-10-04T10:59:08.426Z"
      },
      {
        "duration": 11,
        "start_time": "2022-10-04T10:59:08.582Z"
      },
      {
        "duration": 34,
        "start_time": "2022-10-04T10:59:08.595Z"
      },
      {
        "duration": 3,
        "start_time": "2022-10-04T10:59:08.630Z"
      },
      {
        "duration": 6,
        "start_time": "2022-10-04T10:59:08.635Z"
      },
      {
        "duration": 5,
        "start_time": "2022-10-04T10:59:08.642Z"
      },
      {
        "duration": 8,
        "start_time": "2022-10-04T10:59:08.648Z"
      },
      {
        "duration": 23,
        "start_time": "2022-10-04T10:59:08.657Z"
      },
      {
        "duration": 8,
        "start_time": "2022-10-04T10:59:08.682Z"
      },
      {
        "duration": 75,
        "start_time": "2022-10-04T10:59:08.720Z"
      },
      {
        "duration": 93,
        "start_time": "2022-10-04T10:59:08.797Z"
      },
      {
        "duration": 89,
        "start_time": "2022-10-04T10:59:08.891Z"
      },
      {
        "duration": 18,
        "start_time": "2022-10-04T10:59:08.981Z"
      },
      {
        "duration": 41,
        "start_time": "2022-10-04T10:59:09.001Z"
      },
      {
        "duration": 17,
        "start_time": "2022-10-04T10:59:09.044Z"
      },
      {
        "duration": 6,
        "start_time": "2022-10-04T10:59:09.063Z"
      },
      {
        "duration": 16,
        "start_time": "2022-10-04T10:59:09.070Z"
      },
      {
        "duration": 34,
        "start_time": "2022-10-04T10:59:09.087Z"
      },
      {
        "duration": 12,
        "start_time": "2022-10-04T10:59:09.123Z"
      },
      {
        "duration": 9,
        "start_time": "2022-10-04T10:59:09.136Z"
      },
      {
        "duration": 447,
        "start_time": "2022-10-04T10:59:09.147Z"
      },
      {
        "duration": 25,
        "start_time": "2022-10-04T10:59:09.595Z"
      },
      {
        "duration": 20,
        "start_time": "2022-10-04T10:59:09.621Z"
      },
      {
        "duration": 41,
        "start_time": "2022-10-04T10:59:09.642Z"
      },
      {
        "duration": 52,
        "start_time": "2022-10-04T10:59:09.685Z"
      },
      {
        "duration": 19,
        "start_time": "2022-10-04T10:59:09.739Z"
      },
      {
        "duration": 5,
        "start_time": "2022-10-04T10:59:09.762Z"
      },
      {
        "duration": 12,
        "start_time": "2022-10-04T10:59:09.768Z"
      },
      {
        "duration": 39,
        "start_time": "2022-10-04T10:59:09.782Z"
      },
      {
        "duration": 46,
        "start_time": "2022-10-04T10:59:09.823Z"
      },
      {
        "duration": 3,
        "start_time": "2022-10-04T10:59:09.871Z"
      },
      {
        "duration": 72,
        "start_time": "2022-10-04T10:59:09.876Z"
      },
      {
        "duration": 10,
        "start_time": "2022-10-04T10:59:09.950Z"
      },
      {
        "duration": 6,
        "start_time": "2022-10-04T10:59:09.962Z"
      },
      {
        "duration": 18,
        "start_time": "2022-10-04T10:59:09.969Z"
      },
      {
        "duration": 51,
        "start_time": "2022-10-04T10:59:09.988Z"
      },
      {
        "duration": 19,
        "start_time": "2022-10-04T10:59:10.040Z"
      },
      {
        "duration": 22,
        "start_time": "2022-10-04T10:59:10.061Z"
      },
      {
        "duration": 3,
        "start_time": "2022-10-04T10:59:10.085Z"
      },
      {
        "duration": 31,
        "start_time": "2022-10-04T10:59:10.090Z"
      },
      {
        "duration": 42,
        "start_time": "2022-10-04T10:59:10.123Z"
      },
      {
        "duration": 35,
        "start_time": "2022-10-04T10:59:10.167Z"
      },
      {
        "duration": 36,
        "start_time": "2022-10-04T10:59:10.215Z"
      },
      {
        "duration": 39,
        "start_time": "2022-10-04T10:59:10.252Z"
      },
      {
        "duration": 4,
        "start_time": "2022-10-04T10:59:10.292Z"
      },
      {
        "duration": 31,
        "start_time": "2022-10-04T10:59:10.297Z"
      },
      {
        "duration": 5,
        "start_time": "2022-10-04T10:59:10.329Z"
      },
      {
        "duration": 10,
        "start_time": "2022-10-04T10:59:10.335Z"
      },
      {
        "duration": 12,
        "start_time": "2022-10-04T10:59:10.346Z"
      },
      {
        "duration": 288,
        "start_time": "2022-10-04T10:59:10.359Z"
      },
      {
        "duration": 6,
        "start_time": "2022-10-04T10:59:10.648Z"
      },
      {
        "duration": 3,
        "start_time": "2022-10-04T10:59:41.759Z"
      },
      {
        "duration": 50,
        "start_time": "2022-10-04T11:06:18.544Z"
      },
      {
        "duration": 51,
        "start_time": "2022-10-04T11:06:57.043Z"
      },
      {
        "duration": 1099,
        "start_time": "2022-10-04T11:07:39.421Z"
      },
      {
        "duration": 152,
        "start_time": "2022-10-04T11:07:40.522Z"
      },
      {
        "duration": 11,
        "start_time": "2022-10-04T11:07:40.676Z"
      },
      {
        "duration": 34,
        "start_time": "2022-10-04T11:07:40.689Z"
      },
      {
        "duration": 4,
        "start_time": "2022-10-04T11:07:40.725Z"
      },
      {
        "duration": 7,
        "start_time": "2022-10-04T11:07:40.730Z"
      },
      {
        "duration": 4,
        "start_time": "2022-10-04T11:07:40.738Z"
      },
      {
        "duration": 10,
        "start_time": "2022-10-04T11:07:40.744Z"
      },
      {
        "duration": 22,
        "start_time": "2022-10-04T11:07:40.756Z"
      },
      {
        "duration": 9,
        "start_time": "2022-10-04T11:07:40.779Z"
      },
      {
        "duration": 102,
        "start_time": "2022-10-04T11:07:40.789Z"
      },
      {
        "duration": 95,
        "start_time": "2022-10-04T11:07:40.892Z"
      },
      {
        "duration": 86,
        "start_time": "2022-10-04T11:07:40.988Z"
      },
      {
        "duration": 19,
        "start_time": "2022-10-04T11:07:41.076Z"
      },
      {
        "duration": 39,
        "start_time": "2022-10-04T11:07:41.096Z"
      },
      {
        "duration": 17,
        "start_time": "2022-10-04T11:07:41.136Z"
      },
      {
        "duration": 5,
        "start_time": "2022-10-04T11:07:41.154Z"
      },
      {
        "duration": 15,
        "start_time": "2022-10-04T11:07:41.161Z"
      },
      {
        "duration": 7,
        "start_time": "2022-10-04T11:07:41.177Z"
      },
      {
        "duration": 30,
        "start_time": "2022-10-04T11:07:41.185Z"
      },
      {
        "duration": 11,
        "start_time": "2022-10-04T11:07:41.216Z"
      },
      {
        "duration": 480,
        "start_time": "2022-10-04T11:07:41.228Z"
      },
      {
        "duration": 17,
        "start_time": "2022-10-04T11:07:41.711Z"
      },
      {
        "duration": 19,
        "start_time": "2022-10-04T11:07:41.730Z"
      },
      {
        "duration": 32,
        "start_time": "2022-10-04T11:07:41.750Z"
      },
      {
        "duration": 45,
        "start_time": "2022-10-04T11:07:41.784Z"
      },
      {
        "duration": 17,
        "start_time": "2022-10-04T11:07:41.831Z"
      },
      {
        "duration": 6,
        "start_time": "2022-10-04T11:07:41.850Z"
      },
      {
        "duration": 6,
        "start_time": "2022-10-04T11:07:41.857Z"
      },
      {
        "duration": 58,
        "start_time": "2022-10-04T11:07:41.864Z"
      },
      {
        "duration": 48,
        "start_time": "2022-10-04T11:07:41.924Z"
      },
      {
        "duration": 4,
        "start_time": "2022-10-04T11:07:41.974Z"
      },
      {
        "duration": 63,
        "start_time": "2022-10-04T11:07:41.979Z"
      },
      {
        "duration": 9,
        "start_time": "2022-10-04T11:07:42.044Z"
      },
      {
        "duration": 7,
        "start_time": "2022-10-04T11:07:42.055Z"
      },
      {
        "duration": 19,
        "start_time": "2022-10-04T11:07:42.064Z"
      },
      {
        "duration": 35,
        "start_time": "2022-10-04T11:07:42.084Z"
      },
      {
        "duration": 29,
        "start_time": "2022-10-04T11:07:42.122Z"
      },
      {
        "duration": 18,
        "start_time": "2022-10-04T11:07:42.152Z"
      },
      {
        "duration": 20,
        "start_time": "2022-10-04T11:07:42.171Z"
      },
      {
        "duration": 3,
        "start_time": "2022-10-04T11:07:42.194Z"
      },
      {
        "duration": 25,
        "start_time": "2022-10-04T11:07:42.199Z"
      },
      {
        "duration": 40,
        "start_time": "2022-10-04T11:07:42.226Z"
      },
      {
        "duration": 35,
        "start_time": "2022-10-04T11:07:42.267Z"
      },
      {
        "duration": 42,
        "start_time": "2022-10-04T11:07:42.304Z"
      },
      {
        "duration": 38,
        "start_time": "2022-10-04T11:07:42.347Z"
      },
      {
        "duration": 3,
        "start_time": "2022-10-04T11:07:42.387Z"
      },
      {
        "duration": 34,
        "start_time": "2022-10-04T11:07:42.391Z"
      },
      {
        "duration": 5,
        "start_time": "2022-10-04T11:07:42.428Z"
      },
      {
        "duration": 6,
        "start_time": "2022-10-04T11:07:42.434Z"
      },
      {
        "duration": 9,
        "start_time": "2022-10-04T11:07:42.441Z"
      },
      {
        "duration": 291,
        "start_time": "2022-10-04T11:07:42.451Z"
      },
      {
        "duration": 5,
        "start_time": "2022-10-04T11:07:42.744Z"
      },
      {
        "duration": 1138,
        "start_time": "2022-10-04T11:08:22.090Z"
      },
      {
        "duration": 159,
        "start_time": "2022-10-04T11:08:23.230Z"
      },
      {
        "duration": 11,
        "start_time": "2022-10-04T11:08:23.391Z"
      },
      {
        "duration": 28,
        "start_time": "2022-10-04T11:08:23.404Z"
      },
      {
        "duration": 2,
        "start_time": "2022-10-04T11:08:23.434Z"
      },
      {
        "duration": 6,
        "start_time": "2022-10-04T11:08:23.438Z"
      },
      {
        "duration": 5,
        "start_time": "2022-10-04T11:08:23.445Z"
      },
      {
        "duration": 10,
        "start_time": "2022-10-04T11:08:23.451Z"
      },
      {
        "duration": 22,
        "start_time": "2022-10-04T11:08:23.462Z"
      },
      {
        "duration": 38,
        "start_time": "2022-10-04T11:08:23.486Z"
      },
      {
        "duration": 72,
        "start_time": "2022-10-04T11:08:23.525Z"
      },
      {
        "duration": 93,
        "start_time": "2022-10-04T11:08:23.598Z"
      },
      {
        "duration": 83,
        "start_time": "2022-10-04T11:08:23.692Z"
      },
      {
        "duration": 18,
        "start_time": "2022-10-04T11:08:23.776Z"
      },
      {
        "duration": 46,
        "start_time": "2022-10-04T11:08:23.796Z"
      },
      {
        "duration": 17,
        "start_time": "2022-10-04T11:08:23.843Z"
      },
      {
        "duration": 6,
        "start_time": "2022-10-04T11:08:23.862Z"
      },
      {
        "duration": 19,
        "start_time": "2022-10-04T11:08:23.870Z"
      },
      {
        "duration": 38,
        "start_time": "2022-10-04T11:08:23.890Z"
      },
      {
        "duration": 9,
        "start_time": "2022-10-04T11:08:23.930Z"
      },
      {
        "duration": 8,
        "start_time": "2022-10-04T11:08:23.941Z"
      },
      {
        "duration": 466,
        "start_time": "2022-10-04T11:08:23.950Z"
      },
      {
        "duration": 17,
        "start_time": "2022-10-04T11:08:24.424Z"
      },
      {
        "duration": 20,
        "start_time": "2022-10-04T11:08:24.443Z"
      },
      {
        "duration": 62,
        "start_time": "2022-10-04T11:08:24.465Z"
      },
      {
        "duration": 25,
        "start_time": "2022-10-04T11:08:24.531Z"
      },
      {
        "duration": 31,
        "start_time": "2022-10-04T11:08:24.558Z"
      },
      {
        "duration": 12,
        "start_time": "2022-10-04T11:08:24.593Z"
      },
      {
        "duration": 26,
        "start_time": "2022-10-04T11:08:24.607Z"
      },
      {
        "duration": 32,
        "start_time": "2022-10-04T11:08:24.635Z"
      },
      {
        "duration": 57,
        "start_time": "2022-10-04T11:08:24.669Z"
      },
      {
        "duration": 8,
        "start_time": "2022-10-04T11:08:24.727Z"
      },
      {
        "duration": 83,
        "start_time": "2022-10-04T11:08:24.737Z"
      },
      {
        "duration": 11,
        "start_time": "2022-10-04T11:08:24.822Z"
      },
      {
        "duration": 7,
        "start_time": "2022-10-04T11:08:24.835Z"
      },
      {
        "duration": 13,
        "start_time": "2022-10-04T11:08:24.844Z"
      },
      {
        "duration": 29,
        "start_time": "2022-10-04T11:08:24.858Z"
      },
      {
        "duration": 31,
        "start_time": "2022-10-04T11:08:24.889Z"
      },
      {
        "duration": 22,
        "start_time": "2022-10-04T11:08:24.922Z"
      },
      {
        "duration": 22,
        "start_time": "2022-10-04T11:08:24.945Z"
      },
      {
        "duration": 4,
        "start_time": "2022-10-04T11:08:24.968Z"
      },
      {
        "duration": 15,
        "start_time": "2022-10-04T11:08:24.974Z"
      },
      {
        "duration": 60,
        "start_time": "2022-10-04T11:08:24.991Z"
      },
      {
        "duration": 37,
        "start_time": "2022-10-04T11:08:25.053Z"
      },
      {
        "duration": 52,
        "start_time": "2022-10-04T11:08:25.092Z"
      },
      {
        "duration": 39,
        "start_time": "2022-10-04T11:08:25.145Z"
      },
      {
        "duration": 3,
        "start_time": "2022-10-04T11:08:25.186Z"
      },
      {
        "duration": 41,
        "start_time": "2022-10-04T11:08:25.190Z"
      },
      {
        "duration": 3,
        "start_time": "2022-10-04T11:08:25.232Z"
      },
      {
        "duration": 10,
        "start_time": "2022-10-04T11:08:25.237Z"
      },
      {
        "duration": 16,
        "start_time": "2022-10-04T11:08:25.249Z"
      },
      {
        "duration": 304,
        "start_time": "2022-10-04T11:08:25.266Z"
      },
      {
        "duration": 6,
        "start_time": "2022-10-04T11:08:25.572Z"
      },
      {
        "duration": 11,
        "start_time": "2022-10-04T11:09:00.090Z"
      },
      {
        "duration": 393,
        "start_time": "2022-10-04T11:11:35.295Z"
      },
      {
        "duration": 1094,
        "start_time": "2022-10-04T11:11:45.844Z"
      },
      {
        "duration": 153,
        "start_time": "2022-10-04T11:11:46.940Z"
      },
      {
        "duration": 12,
        "start_time": "2022-10-04T11:11:47.095Z"
      },
      {
        "duration": 32,
        "start_time": "2022-10-04T11:11:47.109Z"
      },
      {
        "duration": 2,
        "start_time": "2022-10-04T11:11:47.144Z"
      },
      {
        "duration": 9,
        "start_time": "2022-10-04T11:11:47.147Z"
      },
      {
        "duration": 6,
        "start_time": "2022-10-04T11:11:47.157Z"
      },
      {
        "duration": 9,
        "start_time": "2022-10-04T11:11:47.164Z"
      },
      {
        "duration": 25,
        "start_time": "2022-10-04T11:11:47.175Z"
      },
      {
        "duration": 20,
        "start_time": "2022-10-04T11:11:47.201Z"
      },
      {
        "duration": 94,
        "start_time": "2022-10-04T11:11:47.222Z"
      },
      {
        "duration": 106,
        "start_time": "2022-10-04T11:11:47.317Z"
      },
      {
        "duration": 78,
        "start_time": "2022-10-04T11:11:47.424Z"
      },
      {
        "duration": 31,
        "start_time": "2022-10-04T11:11:47.506Z"
      },
      {
        "duration": 27,
        "start_time": "2022-10-04T11:11:47.538Z"
      },
      {
        "duration": 17,
        "start_time": "2022-10-04T11:11:47.567Z"
      },
      {
        "duration": 9,
        "start_time": "2022-10-04T11:11:47.585Z"
      },
      {
        "duration": 39,
        "start_time": "2022-10-04T11:11:47.595Z"
      },
      {
        "duration": 8,
        "start_time": "2022-10-04T11:11:47.636Z"
      },
      {
        "duration": 10,
        "start_time": "2022-10-04T11:11:47.646Z"
      },
      {
        "duration": 7,
        "start_time": "2022-10-04T11:11:47.658Z"
      },
      {
        "duration": 503,
        "start_time": "2022-10-04T11:11:47.667Z"
      },
      {
        "duration": 16,
        "start_time": "2022-10-04T11:11:48.171Z"
      },
      {
        "duration": 37,
        "start_time": "2022-10-04T11:11:48.189Z"
      },
      {
        "duration": 34,
        "start_time": "2022-10-04T11:11:48.227Z"
      },
      {
        "duration": 21,
        "start_time": "2022-10-04T11:11:48.262Z"
      },
      {
        "duration": 38,
        "start_time": "2022-10-04T11:11:48.285Z"
      },
      {
        "duration": 4,
        "start_time": "2022-10-04T11:11:48.325Z"
      },
      {
        "duration": 11,
        "start_time": "2022-10-04T11:11:48.331Z"
      },
      {
        "duration": 28,
        "start_time": "2022-10-04T11:11:48.343Z"
      },
      {
        "duration": 48,
        "start_time": "2022-10-04T11:11:48.372Z"
      },
      {
        "duration": 6,
        "start_time": "2022-10-04T11:11:48.422Z"
      },
      {
        "duration": 58,
        "start_time": "2022-10-04T11:11:48.430Z"
      },
      {
        "duration": 30,
        "start_time": "2022-10-04T11:11:48.489Z"
      },
      {
        "duration": 12,
        "start_time": "2022-10-04T11:11:48.521Z"
      },
      {
        "duration": 9,
        "start_time": "2022-10-04T11:11:48.534Z"
      },
      {
        "duration": 22,
        "start_time": "2022-10-04T11:11:48.544Z"
      },
      {
        "duration": 53,
        "start_time": "2022-10-04T11:11:48.567Z"
      },
      {
        "duration": 19,
        "start_time": "2022-10-04T11:11:48.621Z"
      },
      {
        "duration": 20,
        "start_time": "2022-10-04T11:11:48.641Z"
      },
      {
        "duration": 3,
        "start_time": "2022-10-04T11:11:48.665Z"
      },
      {
        "duration": 11,
        "start_time": "2022-10-04T11:11:48.670Z"
      },
      {
        "duration": 53,
        "start_time": "2022-10-04T11:11:48.682Z"
      },
      {
        "duration": 36,
        "start_time": "2022-10-04T11:11:48.736Z"
      },
      {
        "duration": 52,
        "start_time": "2022-10-04T11:11:48.774Z"
      },
      {
        "duration": 38,
        "start_time": "2022-10-04T11:11:48.827Z"
      },
      {
        "duration": 3,
        "start_time": "2022-10-04T11:11:48.867Z"
      },
      {
        "duration": 14,
        "start_time": "2022-10-04T11:11:48.872Z"
      },
      {
        "duration": 33,
        "start_time": "2022-10-04T11:11:48.887Z"
      },
      {
        "duration": 10,
        "start_time": "2022-10-04T11:11:48.922Z"
      },
      {
        "duration": 14,
        "start_time": "2022-10-04T11:11:48.933Z"
      },
      {
        "duration": 278,
        "start_time": "2022-10-04T11:11:48.948Z"
      },
      {
        "duration": 6,
        "start_time": "2022-10-04T11:11:49.228Z"
      },
      {
        "duration": 16,
        "start_time": "2022-10-04T11:16:49.269Z"
      },
      {
        "duration": 1135,
        "start_time": "2022-10-04T11:17:07.181Z"
      },
      {
        "duration": 149,
        "start_time": "2022-10-04T11:17:08.318Z"
      },
      {
        "duration": 12,
        "start_time": "2022-10-04T11:17:08.469Z"
      },
      {
        "duration": 33,
        "start_time": "2022-10-04T11:17:08.484Z"
      },
      {
        "duration": 3,
        "start_time": "2022-10-04T11:17:08.520Z"
      },
      {
        "duration": 7,
        "start_time": "2022-10-04T11:17:08.525Z"
      },
      {
        "duration": 4,
        "start_time": "2022-10-04T11:17:08.533Z"
      },
      {
        "duration": 9,
        "start_time": "2022-10-04T11:17:08.539Z"
      },
      {
        "duration": 61,
        "start_time": "2022-10-04T11:17:08.550Z"
      },
      {
        "duration": 8,
        "start_time": "2022-10-04T11:17:08.614Z"
      },
      {
        "duration": 93,
        "start_time": "2022-10-04T11:17:08.624Z"
      },
      {
        "duration": 94,
        "start_time": "2022-10-04T11:17:08.719Z"
      },
      {
        "duration": 102,
        "start_time": "2022-10-04T11:17:08.814Z"
      },
      {
        "duration": 19,
        "start_time": "2022-10-04T11:17:08.918Z"
      },
      {
        "duration": 27,
        "start_time": "2022-10-04T11:17:08.939Z"
      },
      {
        "duration": 47,
        "start_time": "2022-10-04T11:17:08.968Z"
      },
      {
        "duration": 6,
        "start_time": "2022-10-04T11:17:09.016Z"
      },
      {
        "duration": 34,
        "start_time": "2022-10-04T11:17:09.023Z"
      },
      {
        "duration": 9,
        "start_time": "2022-10-04T11:17:09.058Z"
      },
      {
        "duration": 22,
        "start_time": "2022-10-04T11:17:09.068Z"
      },
      {
        "duration": 30,
        "start_time": "2022-10-04T11:17:09.092Z"
      },
      {
        "duration": 442,
        "start_time": "2022-10-04T11:17:09.123Z"
      },
      {
        "duration": 14,
        "start_time": "2022-10-04T11:17:09.568Z"
      },
      {
        "duration": 72,
        "start_time": "2022-10-04T11:17:09.584Z"
      },
      {
        "duration": 36,
        "start_time": "2022-10-04T11:17:09.658Z"
      },
      {
        "duration": 22,
        "start_time": "2022-10-04T11:17:09.695Z"
      },
      {
        "duration": 18,
        "start_time": "2022-10-04T11:17:09.719Z"
      },
      {
        "duration": 6,
        "start_time": "2022-10-04T11:17:09.740Z"
      },
      {
        "duration": 14,
        "start_time": "2022-10-04T11:17:09.748Z"
      },
      {
        "duration": 29,
        "start_time": "2022-10-04T11:17:09.764Z"
      },
      {
        "duration": 62,
        "start_time": "2022-10-04T11:17:09.795Z"
      },
      {
        "duration": 4,
        "start_time": "2022-10-04T11:17:09.859Z"
      },
      {
        "duration": 93,
        "start_time": "2022-10-04T11:17:09.865Z"
      },
      {
        "duration": 13,
        "start_time": "2022-10-04T11:17:09.960Z"
      },
      {
        "duration": 11,
        "start_time": "2022-10-04T11:17:09.974Z"
      },
      {
        "duration": 24,
        "start_time": "2022-10-04T11:17:09.986Z"
      },
      {
        "duration": 21,
        "start_time": "2022-10-04T11:17:10.012Z"
      },
      {
        "duration": 28,
        "start_time": "2022-10-04T11:17:10.034Z"
      },
      {
        "duration": 50,
        "start_time": "2022-10-04T11:17:10.063Z"
      },
      {
        "duration": 16,
        "start_time": "2022-10-04T11:17:10.115Z"
      },
      {
        "duration": 51,
        "start_time": "2022-10-04T11:17:10.133Z"
      },
      {
        "duration": 53,
        "start_time": "2022-10-04T11:17:10.186Z"
      },
      {
        "duration": 38,
        "start_time": "2022-10-04T11:17:10.240Z"
      },
      {
        "duration": 86,
        "start_time": "2022-10-04T11:17:10.280Z"
      },
      {
        "duration": 122,
        "start_time": "2022-10-04T11:17:10.368Z"
      },
      {
        "duration": 0,
        "start_time": "2022-10-04T11:17:10.491Z"
      },
      {
        "duration": 0,
        "start_time": "2022-10-04T11:17:10.492Z"
      },
      {
        "duration": 0,
        "start_time": "2022-10-04T11:17:10.494Z"
      },
      {
        "duration": 0,
        "start_time": "2022-10-04T11:17:10.495Z"
      },
      {
        "duration": 0,
        "start_time": "2022-10-04T11:17:10.509Z"
      },
      {
        "duration": 0,
        "start_time": "2022-10-04T11:17:10.510Z"
      },
      {
        "duration": 60,
        "start_time": "2022-10-04T11:18:41.061Z"
      },
      {
        "duration": 43,
        "start_time": "2022-10-04T11:18:42.611Z"
      },
      {
        "duration": 40,
        "start_time": "2022-10-04T11:18:43.333Z"
      },
      {
        "duration": 49,
        "start_time": "2022-10-04T11:18:44.067Z"
      },
      {
        "duration": 12,
        "start_time": "2022-10-04T11:18:48.732Z"
      },
      {
        "duration": 22,
        "start_time": "2022-10-04T11:20:21.609Z"
      },
      {
        "duration": 18,
        "start_time": "2022-10-04T11:20:22.666Z"
      },
      {
        "duration": 1101,
        "start_time": "2022-10-04T11:20:32.218Z"
      },
      {
        "duration": 151,
        "start_time": "2022-10-04T11:20:33.320Z"
      },
      {
        "duration": 12,
        "start_time": "2022-10-04T11:20:33.472Z"
      },
      {
        "duration": 31,
        "start_time": "2022-10-04T11:20:33.486Z"
      },
      {
        "duration": 3,
        "start_time": "2022-10-04T11:20:33.518Z"
      },
      {
        "duration": 8,
        "start_time": "2022-10-04T11:20:33.522Z"
      },
      {
        "duration": 8,
        "start_time": "2022-10-04T11:20:33.531Z"
      },
      {
        "duration": 13,
        "start_time": "2022-10-04T11:20:33.541Z"
      },
      {
        "duration": 27,
        "start_time": "2022-10-04T11:20:33.556Z"
      },
      {
        "duration": 9,
        "start_time": "2022-10-04T11:20:33.608Z"
      },
      {
        "duration": 76,
        "start_time": "2022-10-04T11:20:33.618Z"
      },
      {
        "duration": 81,
        "start_time": "2022-10-04T11:20:33.709Z"
      },
      {
        "duration": 91,
        "start_time": "2022-10-04T11:20:33.791Z"
      },
      {
        "duration": 27,
        "start_time": "2022-10-04T11:20:33.883Z"
      },
      {
        "duration": 27,
        "start_time": "2022-10-04T11:20:33.912Z"
      },
      {
        "duration": 17,
        "start_time": "2022-10-04T11:20:33.940Z"
      },
      {
        "duration": 7,
        "start_time": "2022-10-04T11:20:33.959Z"
      },
      {
        "duration": 61,
        "start_time": "2022-10-04T11:20:33.968Z"
      },
      {
        "duration": 11,
        "start_time": "2022-10-04T11:20:34.031Z"
      },
      {
        "duration": 8,
        "start_time": "2022-10-04T11:20:34.044Z"
      },
      {
        "duration": 7,
        "start_time": "2022-10-04T11:20:34.054Z"
      },
      {
        "duration": 507,
        "start_time": "2022-10-04T11:20:34.062Z"
      },
      {
        "duration": 17,
        "start_time": "2022-10-04T11:20:34.572Z"
      },
      {
        "duration": 37,
        "start_time": "2022-10-04T11:20:34.592Z"
      },
      {
        "duration": 47,
        "start_time": "2022-10-04T11:20:34.631Z"
      },
      {
        "duration": 48,
        "start_time": "2022-10-04T11:20:34.680Z"
      },
      {
        "duration": 17,
        "start_time": "2022-10-04T11:20:34.729Z"
      },
      {
        "duration": 5,
        "start_time": "2022-10-04T11:20:34.749Z"
      },
      {
        "duration": 7,
        "start_time": "2022-10-04T11:20:34.755Z"
      },
      {
        "duration": 52,
        "start_time": "2022-10-04T11:20:34.763Z"
      },
      {
        "duration": 45,
        "start_time": "2022-10-04T11:20:34.816Z"
      },
      {
        "duration": 4,
        "start_time": "2022-10-04T11:20:34.863Z"
      },
      {
        "duration": 76,
        "start_time": "2022-10-04T11:20:34.869Z"
      },
      {
        "duration": 12,
        "start_time": "2022-10-04T11:20:34.947Z"
      },
      {
        "duration": 12,
        "start_time": "2022-10-04T11:20:34.961Z"
      },
      {
        "duration": 5,
        "start_time": "2022-10-04T11:20:34.974Z"
      },
      {
        "duration": 44,
        "start_time": "2022-10-04T11:20:34.980Z"
      },
      {
        "duration": 30,
        "start_time": "2022-10-04T11:20:35.026Z"
      },
      {
        "duration": 19,
        "start_time": "2022-10-04T11:20:35.058Z"
      },
      {
        "duration": 41,
        "start_time": "2022-10-04T11:20:35.079Z"
      },
      {
        "duration": 52,
        "start_time": "2022-10-04T11:20:35.122Z"
      },
      {
        "duration": 50,
        "start_time": "2022-10-04T11:20:35.176Z"
      },
      {
        "duration": 41,
        "start_time": "2022-10-04T11:20:35.228Z"
      },
      {
        "duration": 69,
        "start_time": "2022-10-04T11:20:35.271Z"
      },
      {
        "duration": 3,
        "start_time": "2022-10-04T11:20:35.342Z"
      },
      {
        "duration": 22,
        "start_time": "2022-10-04T11:20:35.347Z"
      },
      {
        "duration": 6,
        "start_time": "2022-10-04T11:20:35.371Z"
      },
      {
        "duration": 9,
        "start_time": "2022-10-04T11:20:35.378Z"
      },
      {
        "duration": 29,
        "start_time": "2022-10-04T11:20:35.388Z"
      },
      {
        "duration": 252,
        "start_time": "2022-10-04T11:20:35.418Z"
      },
      {
        "duration": 6,
        "start_time": "2022-10-04T11:20:35.672Z"
      },
      {
        "duration": 108,
        "start_time": "2022-10-04T11:22:02.398Z"
      },
      {
        "duration": 4,
        "start_time": "2022-10-04T11:22:11.358Z"
      },
      {
        "duration": 10,
        "start_time": "2022-10-04T11:23:18.882Z"
      },
      {
        "duration": 1143,
        "start_time": "2022-10-04T11:24:31.081Z"
      },
      {
        "duration": 145,
        "start_time": "2022-10-04T11:24:32.226Z"
      },
      {
        "duration": 12,
        "start_time": "2022-10-04T11:24:32.373Z"
      },
      {
        "duration": 29,
        "start_time": "2022-10-04T11:24:32.388Z"
      },
      {
        "duration": 3,
        "start_time": "2022-10-04T11:24:32.419Z"
      },
      {
        "duration": 6,
        "start_time": "2022-10-04T11:24:32.424Z"
      },
      {
        "duration": 4,
        "start_time": "2022-10-04T11:24:32.432Z"
      },
      {
        "duration": 9,
        "start_time": "2022-10-04T11:24:32.438Z"
      },
      {
        "duration": 23,
        "start_time": "2022-10-04T11:24:32.449Z"
      },
      {
        "duration": 8,
        "start_time": "2022-10-04T11:24:32.474Z"
      },
      {
        "duration": 96,
        "start_time": "2022-10-04T11:24:32.484Z"
      },
      {
        "duration": 97,
        "start_time": "2022-10-04T11:24:32.581Z"
      },
      {
        "duration": 96,
        "start_time": "2022-10-04T11:24:32.680Z"
      },
      {
        "duration": 20,
        "start_time": "2022-10-04T11:24:32.777Z"
      },
      {
        "duration": 41,
        "start_time": "2022-10-04T11:24:32.809Z"
      },
      {
        "duration": 18,
        "start_time": "2022-10-04T11:24:32.851Z"
      },
      {
        "duration": 18,
        "start_time": "2022-10-04T11:24:32.870Z"
      },
      {
        "duration": 48,
        "start_time": "2022-10-04T11:24:32.890Z"
      },
      {
        "duration": 9,
        "start_time": "2022-10-04T11:24:32.939Z"
      },
      {
        "duration": 20,
        "start_time": "2022-10-04T11:24:32.950Z"
      },
      {
        "duration": 11,
        "start_time": "2022-10-04T11:24:32.972Z"
      },
      {
        "duration": 455,
        "start_time": "2022-10-04T11:24:32.985Z"
      },
      {
        "duration": 15,
        "start_time": "2022-10-04T11:24:33.442Z"
      },
      {
        "duration": 18,
        "start_time": "2022-10-04T11:24:33.459Z"
      },
      {
        "duration": 49,
        "start_time": "2022-10-04T11:24:33.478Z"
      },
      {
        "duration": 21,
        "start_time": "2022-10-04T11:24:33.528Z"
      },
      {
        "duration": 17,
        "start_time": "2022-10-04T11:24:33.550Z"
      },
      {
        "duration": 5,
        "start_time": "2022-10-04T11:24:33.570Z"
      },
      {
        "duration": 13,
        "start_time": "2022-10-04T11:24:33.577Z"
      },
      {
        "duration": 23,
        "start_time": "2022-10-04T11:24:33.609Z"
      },
      {
        "duration": 44,
        "start_time": "2022-10-04T11:24:33.633Z"
      },
      {
        "duration": 3,
        "start_time": "2022-10-04T11:24:33.679Z"
      },
      {
        "duration": 69,
        "start_time": "2022-10-04T11:24:33.684Z"
      },
      {
        "duration": 10,
        "start_time": "2022-10-04T11:24:33.755Z"
      },
      {
        "duration": 11,
        "start_time": "2022-10-04T11:24:33.767Z"
      },
      {
        "duration": 5,
        "start_time": "2022-10-04T11:24:33.779Z"
      },
      {
        "duration": 36,
        "start_time": "2022-10-04T11:24:33.786Z"
      },
      {
        "duration": 30,
        "start_time": "2022-10-04T11:24:33.823Z"
      },
      {
        "duration": 18,
        "start_time": "2022-10-04T11:24:33.854Z"
      },
      {
        "duration": 14,
        "start_time": "2022-10-04T11:24:33.873Z"
      },
      {
        "duration": 49,
        "start_time": "2022-10-04T11:24:33.909Z"
      },
      {
        "duration": 55,
        "start_time": "2022-10-04T11:24:33.960Z"
      },
      {
        "duration": 39,
        "start_time": "2022-10-04T11:24:34.017Z"
      },
      {
        "duration": 57,
        "start_time": "2022-10-04T11:24:34.058Z"
      },
      {
        "duration": 4,
        "start_time": "2022-10-04T11:24:34.117Z"
      },
      {
        "duration": 18,
        "start_time": "2022-10-04T11:24:34.122Z"
      },
      {
        "duration": 2,
        "start_time": "2022-10-04T11:24:34.142Z"
      },
      {
        "duration": 11,
        "start_time": "2022-10-04T11:24:34.146Z"
      },
      {
        "duration": 13,
        "start_time": "2022-10-04T11:24:34.158Z"
      },
      {
        "duration": 281,
        "start_time": "2022-10-04T11:24:34.172Z"
      },
      {
        "duration": 10,
        "start_time": "2022-10-04T11:24:34.455Z"
      },
      {
        "duration": 1158,
        "start_time": "2022-10-04T11:25:05.585Z"
      },
      {
        "duration": 151,
        "start_time": "2022-10-04T11:25:06.745Z"
      },
      {
        "duration": 15,
        "start_time": "2022-10-04T11:25:06.898Z"
      },
      {
        "duration": 18,
        "start_time": "2022-10-04T11:25:06.915Z"
      },
      {
        "duration": 3,
        "start_time": "2022-10-04T11:25:06.934Z"
      },
      {
        "duration": 5,
        "start_time": "2022-10-04T11:25:06.939Z"
      },
      {
        "duration": 6,
        "start_time": "2022-10-04T11:25:06.946Z"
      },
      {
        "duration": 10,
        "start_time": "2022-10-04T11:25:06.953Z"
      },
      {
        "duration": 27,
        "start_time": "2022-10-04T11:25:06.965Z"
      },
      {
        "duration": 9,
        "start_time": "2022-10-04T11:25:07.008Z"
      },
      {
        "duration": 82,
        "start_time": "2022-10-04T11:25:07.018Z"
      },
      {
        "duration": 86,
        "start_time": "2022-10-04T11:25:07.108Z"
      },
      {
        "duration": 91,
        "start_time": "2022-10-04T11:25:07.195Z"
      },
      {
        "duration": 26,
        "start_time": "2022-10-04T11:25:07.288Z"
      },
      {
        "duration": 27,
        "start_time": "2022-10-04T11:25:07.315Z"
      },
      {
        "duration": 18,
        "start_time": "2022-10-04T11:25:07.344Z"
      },
      {
        "duration": 6,
        "start_time": "2022-10-04T11:25:07.363Z"
      },
      {
        "duration": 42,
        "start_time": "2022-10-04T11:25:07.371Z"
      },
      {
        "duration": 8,
        "start_time": "2022-10-04T11:25:07.414Z"
      },
      {
        "duration": 7,
        "start_time": "2022-10-04T11:25:07.423Z"
      },
      {
        "duration": 7,
        "start_time": "2022-10-04T11:25:07.432Z"
      },
      {
        "duration": 455,
        "start_time": "2022-10-04T11:25:07.440Z"
      },
      {
        "duration": 16,
        "start_time": "2022-10-04T11:25:07.897Z"
      },
      {
        "duration": 19,
        "start_time": "2022-10-04T11:25:07.914Z"
      },
      {
        "duration": 32,
        "start_time": "2022-10-04T11:25:07.934Z"
      },
      {
        "duration": 47,
        "start_time": "2022-10-04T11:25:07.967Z"
      },
      {
        "duration": 18,
        "start_time": "2022-10-04T11:25:08.016Z"
      },
      {
        "duration": 5,
        "start_time": "2022-10-04T11:25:08.038Z"
      },
      {
        "duration": 11,
        "start_time": "2022-10-04T11:25:08.044Z"
      },
      {
        "duration": 26,
        "start_time": "2022-10-04T11:25:08.056Z"
      },
      {
        "duration": 60,
        "start_time": "2022-10-04T11:25:08.083Z"
      },
      {
        "duration": 4,
        "start_time": "2022-10-04T11:25:08.144Z"
      },
      {
        "duration": 61,
        "start_time": "2022-10-04T11:25:08.149Z"
      },
      {
        "duration": 11,
        "start_time": "2022-10-04T11:25:08.211Z"
      },
      {
        "duration": 14,
        "start_time": "2022-10-04T11:25:08.223Z"
      },
      {
        "duration": 14,
        "start_time": "2022-10-04T11:25:08.239Z"
      },
      {
        "duration": 21,
        "start_time": "2022-10-04T11:25:08.255Z"
      },
      {
        "duration": 40,
        "start_time": "2022-10-04T11:25:08.277Z"
      },
      {
        "duration": 17,
        "start_time": "2022-10-04T11:25:08.319Z"
      },
      {
        "duration": 14,
        "start_time": "2022-10-04T11:25:08.337Z"
      },
      {
        "duration": 67,
        "start_time": "2022-10-04T11:25:08.352Z"
      },
      {
        "duration": 41,
        "start_time": "2022-10-04T11:25:08.420Z"
      },
      {
        "duration": 47,
        "start_time": "2022-10-04T11:25:08.463Z"
      },
      {
        "duration": 46,
        "start_time": "2022-10-04T11:25:08.512Z"
      },
      {
        "duration": 3,
        "start_time": "2022-10-04T11:25:08.560Z"
      },
      {
        "duration": 20,
        "start_time": "2022-10-04T11:25:08.564Z"
      },
      {
        "duration": 6,
        "start_time": "2022-10-04T11:25:08.585Z"
      },
      {
        "duration": 4,
        "start_time": "2022-10-04T11:25:08.609Z"
      },
      {
        "duration": 14,
        "start_time": "2022-10-04T11:25:08.614Z"
      },
      {
        "duration": 252,
        "start_time": "2022-10-04T11:25:08.629Z"
      },
      {
        "duration": 6,
        "start_time": "2022-10-04T11:25:08.883Z"
      },
      {
        "duration": 37,
        "start_time": "2022-10-04T11:26:21.571Z"
      },
      {
        "duration": 4,
        "start_time": "2022-10-04T11:26:45.305Z"
      },
      {
        "duration": 1088,
        "start_time": "2022-10-04T11:27:47.821Z"
      },
      {
        "duration": 147,
        "start_time": "2022-10-04T11:27:48.911Z"
      },
      {
        "duration": 11,
        "start_time": "2022-10-04T11:27:49.060Z"
      },
      {
        "duration": 22,
        "start_time": "2022-10-04T11:27:49.073Z"
      },
      {
        "duration": 3,
        "start_time": "2022-10-04T11:27:49.096Z"
      },
      {
        "duration": 3,
        "start_time": "2022-10-04T11:27:49.109Z"
      },
      {
        "duration": 5,
        "start_time": "2022-10-04T11:27:49.113Z"
      },
      {
        "duration": 10,
        "start_time": "2022-10-04T11:27:49.119Z"
      },
      {
        "duration": 21,
        "start_time": "2022-10-04T11:27:49.131Z"
      },
      {
        "duration": 8,
        "start_time": "2022-10-04T11:27:49.154Z"
      },
      {
        "duration": 95,
        "start_time": "2022-10-04T11:27:49.163Z"
      },
      {
        "duration": 100,
        "start_time": "2022-10-04T11:27:49.259Z"
      },
      {
        "duration": 82,
        "start_time": "2022-10-04T11:27:49.360Z"
      },
      {
        "duration": 17,
        "start_time": "2022-10-04T11:27:49.444Z"
      },
      {
        "duration": 29,
        "start_time": "2022-10-04T11:27:49.463Z"
      },
      {
        "duration": 31,
        "start_time": "2022-10-04T11:27:49.493Z"
      },
      {
        "duration": 6,
        "start_time": "2022-10-04T11:27:49.526Z"
      },
      {
        "duration": 15,
        "start_time": "2022-10-04T11:27:49.534Z"
      },
      {
        "duration": 7,
        "start_time": "2022-10-04T11:27:49.550Z"
      },
      {
        "duration": 6,
        "start_time": "2022-10-04T11:27:49.559Z"
      },
      {
        "duration": 7,
        "start_time": "2022-10-04T11:27:49.566Z"
      },
      {
        "duration": 452,
        "start_time": "2022-10-04T11:27:49.574Z"
      },
      {
        "duration": 13,
        "start_time": "2022-10-04T11:27:50.028Z"
      },
      {
        "duration": 17,
        "start_time": "2022-10-04T11:27:50.043Z"
      },
      {
        "duration": 49,
        "start_time": "2022-10-04T11:27:50.061Z"
      },
      {
        "duration": 20,
        "start_time": "2022-10-04T11:27:50.111Z"
      },
      {
        "duration": 16,
        "start_time": "2022-10-04T11:27:50.133Z"
      },
      {
        "duration": 4,
        "start_time": "2022-10-04T11:27:50.152Z"
      },
      {
        "duration": 6,
        "start_time": "2022-10-04T11:27:50.157Z"
      },
      {
        "duration": 45,
        "start_time": "2022-10-04T11:27:50.164Z"
      },
      {
        "duration": 44,
        "start_time": "2022-10-04T11:27:50.210Z"
      },
      {
        "duration": 3,
        "start_time": "2022-10-04T11:27:50.256Z"
      },
      {
        "duration": 63,
        "start_time": "2022-10-04T11:27:50.261Z"
      },
      {
        "duration": 10,
        "start_time": "2022-10-04T11:27:50.325Z"
      },
      {
        "duration": 10,
        "start_time": "2022-10-04T11:27:50.336Z"
      },
      {
        "duration": 4,
        "start_time": "2022-10-04T11:27:50.348Z"
      },
      {
        "duration": 17,
        "start_time": "2022-10-04T11:27:50.353Z"
      },
      {
        "duration": 49,
        "start_time": "2022-10-04T11:27:50.371Z"
      },
      {
        "duration": 17,
        "start_time": "2022-10-04T11:27:50.422Z"
      },
      {
        "duration": 13,
        "start_time": "2022-10-04T11:27:50.441Z"
      },
      {
        "duration": 60,
        "start_time": "2022-10-04T11:27:50.456Z"
      },
      {
        "duration": 33,
        "start_time": "2022-10-04T11:27:50.518Z"
      },
      {
        "duration": 75,
        "start_time": "2022-10-04T11:27:50.553Z"
      },
      {
        "duration": 0,
        "start_time": "2022-10-04T11:27:50.629Z"
      },
      {
        "duration": 0,
        "start_time": "2022-10-04T11:27:50.630Z"
      },
      {
        "duration": 0,
        "start_time": "2022-10-04T11:27:50.631Z"
      },
      {
        "duration": 0,
        "start_time": "2022-10-04T11:27:50.632Z"
      },
      {
        "duration": 0,
        "start_time": "2022-10-04T11:27:50.633Z"
      },
      {
        "duration": 0,
        "start_time": "2022-10-04T11:27:50.634Z"
      },
      {
        "duration": 0,
        "start_time": "2022-10-04T11:27:50.635Z"
      },
      {
        "duration": 0,
        "start_time": "2022-10-04T11:27:50.636Z"
      },
      {
        "duration": 39,
        "start_time": "2022-10-04T11:29:19.466Z"
      },
      {
        "duration": 36,
        "start_time": "2022-10-04T11:29:41.926Z"
      },
      {
        "duration": 35,
        "start_time": "2022-10-04T11:29:44.314Z"
      },
      {
        "duration": 3,
        "start_time": "2022-10-04T11:29:46.033Z"
      },
      {
        "duration": 16,
        "start_time": "2022-10-04T11:29:46.894Z"
      },
      {
        "duration": 3,
        "start_time": "2022-10-04T11:30:14.101Z"
      },
      {
        "duration": 5,
        "start_time": "2022-10-04T11:30:59.844Z"
      },
      {
        "duration": 10,
        "start_time": "2022-10-04T11:31:01.671Z"
      },
      {
        "duration": 286,
        "start_time": "2022-10-04T11:31:07.926Z"
      },
      {
        "duration": 6,
        "start_time": "2022-10-04T11:41:08.845Z"
      },
      {
        "duration": 0,
        "start_time": "2022-10-04T12:04:38.869Z"
      },
      {
        "duration": 1094,
        "start_time": "2022-10-04T12:04:59.526Z"
      },
      {
        "duration": 155,
        "start_time": "2022-10-04T12:05:00.622Z"
      },
      {
        "duration": 17,
        "start_time": "2022-10-04T12:05:00.778Z"
      },
      {
        "duration": 44,
        "start_time": "2022-10-04T12:05:00.797Z"
      },
      {
        "duration": 4,
        "start_time": "2022-10-04T12:05:00.843Z"
      },
      {
        "duration": 34,
        "start_time": "2022-10-04T12:05:00.849Z"
      },
      {
        "duration": 24,
        "start_time": "2022-10-04T12:05:00.885Z"
      },
      {
        "duration": 14,
        "start_time": "2022-10-04T12:05:00.911Z"
      },
      {
        "duration": 60,
        "start_time": "2022-10-04T12:05:00.927Z"
      },
      {
        "duration": 13,
        "start_time": "2022-10-04T12:05:00.991Z"
      },
      {
        "duration": 98,
        "start_time": "2022-10-04T12:05:01.006Z"
      },
      {
        "duration": 93,
        "start_time": "2022-10-04T12:05:01.105Z"
      },
      {
        "duration": 93,
        "start_time": "2022-10-04T12:05:01.199Z"
      },
      {
        "duration": 30,
        "start_time": "2022-10-04T12:05:01.293Z"
      },
      {
        "duration": 37,
        "start_time": "2022-10-04T12:05:01.325Z"
      },
      {
        "duration": 19,
        "start_time": "2022-10-04T12:05:01.364Z"
      },
      {
        "duration": 24,
        "start_time": "2022-10-04T12:05:01.385Z"
      },
      {
        "duration": 50,
        "start_time": "2022-10-04T12:05:01.411Z"
      },
      {
        "duration": 17,
        "start_time": "2022-10-04T12:05:01.463Z"
      },
      {
        "duration": 11,
        "start_time": "2022-10-04T12:05:01.482Z"
      },
      {
        "duration": 43,
        "start_time": "2022-10-04T12:05:01.495Z"
      },
      {
        "duration": 463,
        "start_time": "2022-10-04T12:05:01.540Z"
      },
      {
        "duration": 14,
        "start_time": "2022-10-04T12:05:02.009Z"
      },
      {
        "duration": 26,
        "start_time": "2022-10-04T12:05:02.025Z"
      },
      {
        "duration": 32,
        "start_time": "2022-10-04T12:05:02.053Z"
      },
      {
        "duration": 39,
        "start_time": "2022-10-04T12:05:02.087Z"
      },
      {
        "duration": 23,
        "start_time": "2022-10-04T12:05:02.128Z"
      },
      {
        "duration": 6,
        "start_time": "2022-10-04T12:05:02.156Z"
      },
      {
        "duration": 24,
        "start_time": "2022-10-04T12:05:02.164Z"
      },
      {
        "duration": 44,
        "start_time": "2022-10-04T12:05:02.190Z"
      },
      {
        "duration": 54,
        "start_time": "2022-10-04T12:05:02.236Z"
      },
      {
        "duration": 4,
        "start_time": "2022-10-04T12:05:02.291Z"
      },
      {
        "duration": 55,
        "start_time": "2022-10-04T12:05:02.310Z"
      },
      {
        "duration": 13,
        "start_time": "2022-10-04T12:05:02.367Z"
      },
      {
        "duration": 34,
        "start_time": "2022-10-04T12:05:02.382Z"
      },
      {
        "duration": 8,
        "start_time": "2022-10-04T12:05:02.417Z"
      },
      {
        "duration": 25,
        "start_time": "2022-10-04T12:05:02.426Z"
      },
      {
        "duration": 134,
        "start_time": "2022-10-04T12:05:02.452Z"
      },
      {
        "duration": 19,
        "start_time": "2022-10-04T12:05:02.588Z"
      },
      {
        "duration": 18,
        "start_time": "2022-10-04T12:05:02.609Z"
      },
      {
        "duration": 75,
        "start_time": "2022-10-04T12:05:02.629Z"
      },
      {
        "duration": 47,
        "start_time": "2022-10-04T12:05:02.706Z"
      },
      {
        "duration": 44,
        "start_time": "2022-10-04T12:05:02.755Z"
      },
      {
        "duration": 47,
        "start_time": "2022-10-04T12:05:02.808Z"
      },
      {
        "duration": 3,
        "start_time": "2022-10-04T12:05:02.857Z"
      },
      {
        "duration": 31,
        "start_time": "2022-10-04T12:05:02.861Z"
      },
      {
        "duration": 9,
        "start_time": "2022-10-04T12:05:02.894Z"
      },
      {
        "duration": 8,
        "start_time": "2022-10-04T12:05:02.909Z"
      },
      {
        "duration": 38,
        "start_time": "2022-10-04T12:05:02.918Z"
      },
      {
        "duration": 338,
        "start_time": "2022-10-04T12:05:02.958Z"
      },
      {
        "duration": 7,
        "start_time": "2022-10-04T12:05:03.298Z"
      },
      {
        "duration": 9096,
        "start_time": "2022-10-04T12:05:03.307Z"
      },
      {
        "duration": 61,
        "start_time": "2022-10-04T12:08:27.474Z"
      },
      {
        "duration": 73,
        "start_time": "2022-10-04T12:09:40.923Z"
      },
      {
        "duration": 39,
        "start_time": "2022-10-04T12:10:06.349Z"
      },
      {
        "duration": 8,
        "start_time": "2022-10-04T12:23:40.336Z"
      },
      {
        "duration": 33,
        "start_time": "2022-10-04T12:24:45.720Z"
      },
      {
        "duration": 47,
        "start_time": "2022-10-04T12:25:14.836Z"
      },
      {
        "duration": 37,
        "start_time": "2022-10-04T12:25:28.726Z"
      },
      {
        "duration": 126,
        "start_time": "2022-10-04T12:38:52.439Z"
      },
      {
        "duration": 12,
        "start_time": "2022-10-04T12:43:23.387Z"
      },
      {
        "duration": 50,
        "start_time": "2022-10-04T12:44:09.052Z"
      },
      {
        "duration": 76,
        "start_time": "2022-10-04T13:05:52.979Z"
      },
      {
        "duration": 75,
        "start_time": "2022-10-04T13:06:33.144Z"
      },
      {
        "duration": 77,
        "start_time": "2022-10-04T13:07:01.972Z"
      },
      {
        "duration": 60,
        "start_time": "2022-10-04T13:15:43.815Z"
      },
      {
        "duration": 7,
        "start_time": "2022-10-04T13:15:57.580Z"
      },
      {
        "duration": 7,
        "start_time": "2022-10-04T13:16:16.930Z"
      },
      {
        "duration": 98,
        "start_time": "2022-10-04T13:27:20.929Z"
      },
      {
        "duration": 21,
        "start_time": "2022-10-04T13:28:37.728Z"
      },
      {
        "duration": 21,
        "start_time": "2022-10-04T13:29:39.496Z"
      },
      {
        "duration": 10,
        "start_time": "2022-10-04T13:33:56.467Z"
      },
      {
        "duration": 10,
        "start_time": "2022-10-04T13:35:09.736Z"
      },
      {
        "duration": 9,
        "start_time": "2022-10-04T13:36:40.311Z"
      },
      {
        "duration": 20,
        "start_time": "2022-10-04T13:36:41.070Z"
      },
      {
        "duration": 9,
        "start_time": "2022-10-04T13:36:41.798Z"
      },
      {
        "duration": 20,
        "start_time": "2022-10-04T13:36:42.604Z"
      },
      {
        "duration": 7,
        "start_time": "2022-10-04T13:36:43.599Z"
      },
      {
        "duration": 11,
        "start_time": "2022-10-04T13:39:27.266Z"
      },
      {
        "duration": 9,
        "start_time": "2022-10-04T13:39:33.182Z"
      },
      {
        "duration": 24,
        "start_time": "2022-10-04T13:40:02.090Z"
      },
      {
        "duration": 9,
        "start_time": "2022-10-04T13:40:25.914Z"
      },
      {
        "duration": 8,
        "start_time": "2022-10-04T13:40:37.997Z"
      },
      {
        "duration": 20,
        "start_time": "2022-10-04T13:40:40.392Z"
      },
      {
        "duration": 7,
        "start_time": "2022-10-04T14:01:57.673Z"
      },
      {
        "duration": 7,
        "start_time": "2022-10-04T14:02:40.422Z"
      },
      {
        "duration": 1223,
        "start_time": "2022-10-04T14:02:49.798Z"
      },
      {
        "duration": 147,
        "start_time": "2022-10-04T14:02:51.023Z"
      },
      {
        "duration": 13,
        "start_time": "2022-10-04T14:02:51.172Z"
      },
      {
        "duration": 27,
        "start_time": "2022-10-04T14:02:51.187Z"
      },
      {
        "duration": 3,
        "start_time": "2022-10-04T14:02:51.216Z"
      },
      {
        "duration": 5,
        "start_time": "2022-10-04T14:02:51.221Z"
      },
      {
        "duration": 4,
        "start_time": "2022-10-04T14:02:51.228Z"
      },
      {
        "duration": 8,
        "start_time": "2022-10-04T14:02:51.233Z"
      },
      {
        "duration": 21,
        "start_time": "2022-10-04T14:02:51.243Z"
      },
      {
        "duration": 8,
        "start_time": "2022-10-04T14:02:51.265Z"
      },
      {
        "duration": 107,
        "start_time": "2022-10-04T14:02:51.275Z"
      },
      {
        "duration": 89,
        "start_time": "2022-10-04T14:02:51.384Z"
      },
      {
        "duration": 89,
        "start_time": "2022-10-04T14:02:51.475Z"
      },
      {
        "duration": 17,
        "start_time": "2022-10-04T14:02:51.568Z"
      },
      {
        "duration": 41,
        "start_time": "2022-10-04T14:02:51.586Z"
      },
      {
        "duration": 18,
        "start_time": "2022-10-04T14:02:51.628Z"
      },
      {
        "duration": 6,
        "start_time": "2022-10-04T14:02:51.648Z"
      },
      {
        "duration": 18,
        "start_time": "2022-10-04T14:02:51.655Z"
      },
      {
        "duration": 7,
        "start_time": "2022-10-04T14:02:51.675Z"
      },
      {
        "duration": 8,
        "start_time": "2022-10-04T14:02:51.709Z"
      },
      {
        "duration": 8,
        "start_time": "2022-10-04T14:02:51.719Z"
      },
      {
        "duration": 438,
        "start_time": "2022-10-04T14:02:51.729Z"
      },
      {
        "duration": 13,
        "start_time": "2022-10-04T14:02:52.169Z"
      },
      {
        "duration": 27,
        "start_time": "2022-10-04T14:02:52.184Z"
      },
      {
        "duration": 32,
        "start_time": "2022-10-04T14:02:52.212Z"
      },
      {
        "duration": 20,
        "start_time": "2022-10-04T14:02:52.245Z"
      },
      {
        "duration": 17,
        "start_time": "2022-10-04T14:02:52.267Z"
      },
      {
        "duration": 27,
        "start_time": "2022-10-04T14:02:52.285Z"
      },
      {
        "duration": 18,
        "start_time": "2022-10-04T14:02:52.313Z"
      },
      {
        "duration": 39,
        "start_time": "2022-10-04T14:02:52.332Z"
      },
      {
        "duration": 46,
        "start_time": "2022-10-04T14:02:52.372Z"
      },
      {
        "duration": 4,
        "start_time": "2022-10-04T14:02:52.419Z"
      },
      {
        "duration": 56,
        "start_time": "2022-10-04T14:02:52.424Z"
      },
      {
        "duration": 11,
        "start_time": "2022-10-04T14:02:52.481Z"
      },
      {
        "duration": 12,
        "start_time": "2022-10-04T14:02:52.509Z"
      },
      {
        "duration": 4,
        "start_time": "2022-10-04T14:02:52.522Z"
      },
      {
        "duration": 17,
        "start_time": "2022-10-04T14:02:52.528Z"
      },
      {
        "duration": 37,
        "start_time": "2022-10-04T14:02:52.547Z"
      },
      {
        "duration": 40,
        "start_time": "2022-10-04T14:02:52.586Z"
      },
      {
        "duration": 18,
        "start_time": "2022-10-04T14:02:52.628Z"
      },
      {
        "duration": 42,
        "start_time": "2022-10-04T14:02:52.651Z"
      },
      {
        "duration": 47,
        "start_time": "2022-10-04T14:02:52.694Z"
      },
      {
        "duration": 33,
        "start_time": "2022-10-04T14:02:52.743Z"
      },
      {
        "duration": 50,
        "start_time": "2022-10-04T14:02:52.777Z"
      },
      {
        "duration": 3,
        "start_time": "2022-10-04T14:02:52.828Z"
      },
      {
        "duration": 16,
        "start_time": "2022-10-04T14:02:52.833Z"
      },
      {
        "duration": 5,
        "start_time": "2022-10-04T14:02:52.850Z"
      },
      {
        "duration": 7,
        "start_time": "2022-10-04T14:02:52.856Z"
      },
      {
        "duration": 14,
        "start_time": "2022-10-04T14:02:52.864Z"
      },
      {
        "duration": 313,
        "start_time": "2022-10-04T14:02:52.879Z"
      },
      {
        "duration": 6,
        "start_time": "2022-10-04T14:02:53.194Z"
      },
      {
        "duration": 43,
        "start_time": "2022-10-04T14:02:53.201Z"
      },
      {
        "duration": 59,
        "start_time": "2022-10-04T14:02:53.246Z"
      },
      {
        "duration": 8,
        "start_time": "2022-10-04T14:02:53.307Z"
      },
      {
        "duration": 121,
        "start_time": "2022-10-04T14:02:53.317Z"
      },
      {
        "duration": 0,
        "start_time": "2022-10-04T14:02:53.439Z"
      },
      {
        "duration": 0,
        "start_time": "2022-10-04T14:02:53.440Z"
      },
      {
        "duration": 0,
        "start_time": "2022-10-04T14:02:53.441Z"
      },
      {
        "duration": 0,
        "start_time": "2022-10-04T14:02:53.442Z"
      },
      {
        "duration": 12,
        "start_time": "2022-10-04T14:03:33.295Z"
      },
      {
        "duration": 5,
        "start_time": "2022-10-04T14:05:03.597Z"
      },
      {
        "duration": 45,
        "start_time": "2022-10-04T14:06:05.208Z"
      },
      {
        "duration": 42,
        "start_time": "2022-10-04T14:08:32.949Z"
      },
      {
        "duration": 43,
        "start_time": "2022-10-04T14:10:37.070Z"
      },
      {
        "duration": 44,
        "start_time": "2022-10-04T14:10:43.703Z"
      },
      {
        "duration": 41,
        "start_time": "2022-10-04T14:11:40.435Z"
      },
      {
        "duration": 51,
        "start_time": "2022-10-04T14:12:57.377Z"
      },
      {
        "duration": 43,
        "start_time": "2022-10-04T14:13:20.710Z"
      },
      {
        "duration": 45,
        "start_time": "2022-10-04T14:13:42.349Z"
      },
      {
        "duration": 43,
        "start_time": "2022-10-04T14:14:16.731Z"
      },
      {
        "duration": 60,
        "start_time": "2022-10-04T14:14:47.093Z"
      },
      {
        "duration": 58,
        "start_time": "2022-10-04T14:15:26.195Z"
      },
      {
        "duration": 43,
        "start_time": "2022-10-04T14:15:50.586Z"
      },
      {
        "duration": 55,
        "start_time": "2022-10-04T14:16:44.491Z"
      },
      {
        "duration": 44,
        "start_time": "2022-10-04T14:17:36.442Z"
      },
      {
        "duration": 122,
        "start_time": "2022-10-04T14:30:21.435Z"
      },
      {
        "duration": 45,
        "start_time": "2022-10-04T14:30:35.229Z"
      },
      {
        "duration": 7,
        "start_time": "2022-10-04T14:34:11.293Z"
      },
      {
        "duration": 60,
        "start_time": "2022-10-04T14:35:39.187Z"
      },
      {
        "duration": 8,
        "start_time": "2022-10-04T14:36:01.984Z"
      },
      {
        "duration": 64,
        "start_time": "2022-10-04T14:36:03.987Z"
      },
      {
        "duration": 52,
        "start_time": "2022-10-04T14:36:53.263Z"
      },
      {
        "duration": 47,
        "start_time": "2022-10-04T14:40:15.130Z"
      },
      {
        "duration": 53,
        "start_time": "2022-10-04T14:41:28.720Z"
      },
      {
        "duration": 49,
        "start_time": "2022-10-04T14:42:03.026Z"
      },
      {
        "duration": 50,
        "start_time": "2022-10-04T14:42:05.196Z"
      },
      {
        "duration": 47,
        "start_time": "2022-10-04T14:42:06.100Z"
      },
      {
        "duration": 1096,
        "start_time": "2022-10-04T14:42:16.263Z"
      },
      {
        "duration": 147,
        "start_time": "2022-10-04T14:42:17.361Z"
      },
      {
        "duration": 12,
        "start_time": "2022-10-04T14:42:17.509Z"
      },
      {
        "duration": 20,
        "start_time": "2022-10-04T14:42:17.523Z"
      },
      {
        "duration": 3,
        "start_time": "2022-10-04T14:42:17.544Z"
      },
      {
        "duration": 25,
        "start_time": "2022-10-04T14:42:17.548Z"
      },
      {
        "duration": 6,
        "start_time": "2022-10-04T14:42:17.575Z"
      },
      {
        "duration": 23,
        "start_time": "2022-10-04T14:42:17.582Z"
      },
      {
        "duration": 29,
        "start_time": "2022-10-04T14:42:17.606Z"
      },
      {
        "duration": 9,
        "start_time": "2022-10-04T14:42:17.637Z"
      },
      {
        "duration": 111,
        "start_time": "2022-10-04T14:42:17.647Z"
      },
      {
        "duration": 84,
        "start_time": "2022-10-04T14:42:17.760Z"
      },
      {
        "duration": 82,
        "start_time": "2022-10-04T14:42:17.845Z"
      },
      {
        "duration": 21,
        "start_time": "2022-10-04T14:42:17.929Z"
      },
      {
        "duration": 37,
        "start_time": "2022-10-04T14:42:17.951Z"
      },
      {
        "duration": 39,
        "start_time": "2022-10-04T14:42:17.990Z"
      },
      {
        "duration": 6,
        "start_time": "2022-10-04T14:42:18.030Z"
      },
      {
        "duration": 26,
        "start_time": "2022-10-04T14:42:18.037Z"
      },
      {
        "duration": 8,
        "start_time": "2022-10-04T14:42:18.065Z"
      },
      {
        "duration": 15,
        "start_time": "2022-10-04T14:42:18.074Z"
      },
      {
        "duration": 25,
        "start_time": "2022-10-04T14:42:18.090Z"
      },
      {
        "duration": 450,
        "start_time": "2022-10-04T14:42:18.117Z"
      },
      {
        "duration": 14,
        "start_time": "2022-10-04T14:42:18.568Z"
      },
      {
        "duration": 32,
        "start_time": "2022-10-04T14:42:18.584Z"
      },
      {
        "duration": 32,
        "start_time": "2022-10-04T14:42:18.617Z"
      },
      {
        "duration": 21,
        "start_time": "2022-10-04T14:42:18.651Z"
      },
      {
        "duration": 40,
        "start_time": "2022-10-04T14:42:18.674Z"
      },
      {
        "duration": 5,
        "start_time": "2022-10-04T14:42:18.719Z"
      },
      {
        "duration": 5,
        "start_time": "2022-10-04T14:42:18.726Z"
      },
      {
        "duration": 26,
        "start_time": "2022-10-04T14:42:18.732Z"
      },
      {
        "duration": 71,
        "start_time": "2022-10-04T14:42:18.760Z"
      },
      {
        "duration": 4,
        "start_time": "2022-10-04T14:42:18.833Z"
      },
      {
        "duration": 73,
        "start_time": "2022-10-04T14:42:18.839Z"
      },
      {
        "duration": 11,
        "start_time": "2022-10-04T14:42:18.914Z"
      },
      {
        "duration": 12,
        "start_time": "2022-10-04T14:42:18.927Z"
      },
      {
        "duration": 5,
        "start_time": "2022-10-04T14:42:18.941Z"
      },
      {
        "duration": 17,
        "start_time": "2022-10-04T14:42:18.948Z"
      },
      {
        "duration": 57,
        "start_time": "2022-10-04T14:42:18.967Z"
      },
      {
        "duration": 19,
        "start_time": "2022-10-04T14:42:19.026Z"
      },
      {
        "duration": 15,
        "start_time": "2022-10-04T14:42:19.047Z"
      },
      {
        "duration": 54,
        "start_time": "2022-10-04T14:42:19.063Z"
      },
      {
        "duration": 35,
        "start_time": "2022-10-04T14:42:19.119Z"
      },
      {
        "duration": 33,
        "start_time": "2022-10-04T14:42:19.156Z"
      },
      {
        "duration": 37,
        "start_time": "2022-10-04T14:42:19.208Z"
      },
      {
        "duration": 4,
        "start_time": "2022-10-04T14:42:19.247Z"
      },
      {
        "duration": 23,
        "start_time": "2022-10-04T14:42:19.252Z"
      },
      {
        "duration": 10,
        "start_time": "2022-10-04T14:42:19.277Z"
      },
      {
        "duration": 25,
        "start_time": "2022-10-04T14:42:19.289Z"
      },
      {
        "duration": 17,
        "start_time": "2022-10-04T14:42:19.316Z"
      },
      {
        "duration": 306,
        "start_time": "2022-10-04T14:42:19.334Z"
      },
      {
        "duration": 6,
        "start_time": "2022-10-04T14:42:19.642Z"
      },
      {
        "duration": 26,
        "start_time": "2022-10-04T14:42:19.649Z"
      },
      {
        "duration": 46,
        "start_time": "2022-10-04T14:42:19.677Z"
      },
      {
        "duration": 5,
        "start_time": "2022-10-04T14:42:19.724Z"
      },
      {
        "duration": 56,
        "start_time": "2022-10-04T14:42:19.731Z"
      },
      {
        "duration": 52,
        "start_time": "2022-10-04T14:42:19.789Z"
      },
      {
        "duration": 45,
        "start_time": "2022-10-04T14:42:19.843Z"
      },
      {
        "duration": 65,
        "start_time": "2022-10-04T14:42:19.889Z"
      },
      {
        "duration": 59,
        "start_time": "2022-10-04T14:42:19.956Z"
      },
      {
        "duration": 47,
        "start_time": "2022-10-04T14:42:20.017Z"
      },
      {
        "duration": 62,
        "start_time": "2022-10-04T14:42:20.065Z"
      },
      {
        "duration": 41,
        "start_time": "2022-10-04T14:42:20.129Z"
      },
      {
        "duration": 61,
        "start_time": "2022-10-04T14:42:20.171Z"
      },
      {
        "duration": 43,
        "start_time": "2022-10-04T14:42:20.233Z"
      },
      {
        "duration": 59,
        "start_time": "2022-10-04T14:42:20.277Z"
      },
      {
        "duration": 40,
        "start_time": "2022-10-04T14:42:20.338Z"
      },
      {
        "duration": 5,
        "start_time": "2022-10-04T14:42:20.380Z"
      },
      {
        "duration": 74,
        "start_time": "2022-10-04T14:42:20.387Z"
      },
      {
        "duration": 59,
        "start_time": "2022-10-04T14:42:20.463Z"
      },
      {
        "duration": 51,
        "start_time": "2022-10-04T14:42:20.524Z"
      },
      {
        "duration": 62,
        "start_time": "2022-10-04T14:42:20.577Z"
      },
      {
        "duration": 6,
        "start_time": "2022-10-04T14:48:14.178Z"
      },
      {
        "duration": 81,
        "start_time": "2022-10-04T14:48:16.449Z"
      },
      {
        "duration": 60,
        "start_time": "2022-10-04T14:48:17.610Z"
      },
      {
        "duration": 67,
        "start_time": "2022-10-04T14:48:18.997Z"
      },
      {
        "duration": 60,
        "start_time": "2022-10-04T14:48:19.871Z"
      },
      {
        "duration": 7,
        "start_time": "2022-10-04T14:56:08.806Z"
      },
      {
        "duration": 72,
        "start_time": "2022-10-04T14:56:09.645Z"
      },
      {
        "duration": 62,
        "start_time": "2022-10-04T14:56:11.005Z"
      },
      {
        "duration": 65,
        "start_time": "2022-10-04T14:56:11.901Z"
      },
      {
        "duration": 58,
        "start_time": "2022-10-04T14:56:12.731Z"
      },
      {
        "duration": 46,
        "start_time": "2022-10-04T15:22:24.668Z"
      },
      {
        "duration": 51,
        "start_time": "2022-10-04T15:23:53.842Z"
      },
      {
        "duration": 179,
        "start_time": "2022-10-04T15:48:07.843Z"
      },
      {
        "duration": 1051,
        "start_time": "2022-10-04T16:27:13.264Z"
      },
      {
        "duration": 174,
        "start_time": "2022-10-04T16:27:14.317Z"
      },
      {
        "duration": 17,
        "start_time": "2022-10-04T16:27:14.493Z"
      },
      {
        "duration": 27,
        "start_time": "2022-10-04T16:27:14.513Z"
      },
      {
        "duration": 4,
        "start_time": "2022-10-04T16:27:14.542Z"
      },
      {
        "duration": 13,
        "start_time": "2022-10-04T16:27:14.548Z"
      },
      {
        "duration": 10,
        "start_time": "2022-10-04T16:27:14.563Z"
      },
      {
        "duration": 13,
        "start_time": "2022-10-04T16:27:14.575Z"
      },
      {
        "duration": 43,
        "start_time": "2022-10-04T16:27:14.590Z"
      },
      {
        "duration": 17,
        "start_time": "2022-10-04T16:27:14.636Z"
      },
      {
        "duration": 90,
        "start_time": "2022-10-04T16:27:14.654Z"
      },
      {
        "duration": 86,
        "start_time": "2022-10-04T16:27:14.745Z"
      },
      {
        "duration": 86,
        "start_time": "2022-10-04T16:27:14.832Z"
      },
      {
        "duration": 22,
        "start_time": "2022-10-04T16:27:14.920Z"
      },
      {
        "duration": 27,
        "start_time": "2022-10-04T16:27:14.944Z"
      },
      {
        "duration": 36,
        "start_time": "2022-10-04T16:27:14.973Z"
      },
      {
        "duration": 8,
        "start_time": "2022-10-04T16:27:15.011Z"
      },
      {
        "duration": 28,
        "start_time": "2022-10-04T16:27:15.021Z"
      },
      {
        "duration": 8,
        "start_time": "2022-10-04T16:27:15.051Z"
      },
      {
        "duration": 12,
        "start_time": "2022-10-04T16:27:15.060Z"
      },
      {
        "duration": 6,
        "start_time": "2022-10-04T16:27:15.073Z"
      },
      {
        "duration": 454,
        "start_time": "2022-10-04T16:27:15.081Z"
      },
      {
        "duration": 13,
        "start_time": "2022-10-04T16:27:15.536Z"
      },
      {
        "duration": 17,
        "start_time": "2022-10-04T16:27:15.550Z"
      },
      {
        "duration": 48,
        "start_time": "2022-10-04T16:27:15.569Z"
      },
      {
        "duration": 21,
        "start_time": "2022-10-04T16:27:15.618Z"
      },
      {
        "duration": 17,
        "start_time": "2022-10-04T16:27:15.641Z"
      },
      {
        "duration": 5,
        "start_time": "2022-10-04T16:27:15.662Z"
      },
      {
        "duration": 5,
        "start_time": "2022-10-04T16:27:15.668Z"
      },
      {
        "duration": 48,
        "start_time": "2022-10-04T16:27:15.674Z"
      },
      {
        "duration": 45,
        "start_time": "2022-10-04T16:27:15.724Z"
      },
      {
        "duration": 4,
        "start_time": "2022-10-04T16:27:15.770Z"
      },
      {
        "duration": 65,
        "start_time": "2022-10-04T16:27:15.775Z"
      },
      {
        "duration": 10,
        "start_time": "2022-10-04T16:27:15.841Z"
      },
      {
        "duration": 10,
        "start_time": "2022-10-04T16:27:15.853Z"
      },
      {
        "duration": 5,
        "start_time": "2022-10-04T16:27:15.865Z"
      },
      {
        "duration": 24,
        "start_time": "2022-10-04T16:27:15.872Z"
      },
      {
        "duration": 36,
        "start_time": "2022-10-04T16:27:15.897Z"
      },
      {
        "duration": 17,
        "start_time": "2022-10-04T16:27:15.935Z"
      },
      {
        "duration": 14,
        "start_time": "2022-10-04T16:27:15.954Z"
      },
      {
        "duration": 59,
        "start_time": "2022-10-04T16:27:15.969Z"
      },
      {
        "duration": 34,
        "start_time": "2022-10-04T16:27:16.030Z"
      },
      {
        "duration": 47,
        "start_time": "2022-10-04T16:27:16.066Z"
      },
      {
        "duration": 35,
        "start_time": "2022-10-04T16:27:16.115Z"
      },
      {
        "duration": 3,
        "start_time": "2022-10-04T16:27:16.152Z"
      },
      {
        "duration": 20,
        "start_time": "2022-10-04T16:27:16.157Z"
      },
      {
        "duration": 7,
        "start_time": "2022-10-04T16:27:16.178Z"
      },
      {
        "duration": 23,
        "start_time": "2022-10-04T16:27:16.186Z"
      },
      {
        "duration": 17,
        "start_time": "2022-10-04T16:27:16.211Z"
      },
      {
        "duration": 328,
        "start_time": "2022-10-04T16:27:16.229Z"
      },
      {
        "duration": 7,
        "start_time": "2022-10-04T16:27:16.559Z"
      },
      {
        "duration": 25,
        "start_time": "2022-10-04T16:27:16.567Z"
      },
      {
        "duration": 6,
        "start_time": "2022-10-04T16:27:16.594Z"
      },
      {
        "duration": 51,
        "start_time": "2022-10-04T16:27:16.601Z"
      },
      {
        "duration": 40,
        "start_time": "2022-10-04T16:27:16.653Z"
      },
      {
        "duration": 55,
        "start_time": "2022-10-04T16:27:16.695Z"
      },
      {
        "duration": 38,
        "start_time": "2022-10-04T16:27:16.751Z"
      },
      {
        "duration": 59,
        "start_time": "2022-10-04T16:27:16.791Z"
      },
      {
        "duration": 40,
        "start_time": "2022-10-04T16:27:16.852Z"
      },
      {
        "duration": 52,
        "start_time": "2022-10-04T16:27:16.894Z"
      },
      {
        "duration": 38,
        "start_time": "2022-10-04T16:27:16.948Z"
      },
      {
        "duration": 69,
        "start_time": "2022-10-04T16:27:16.987Z"
      },
      {
        "duration": 41,
        "start_time": "2022-10-04T16:27:17.057Z"
      },
      {
        "duration": 44,
        "start_time": "2022-10-04T16:27:17.110Z"
      },
      {
        "duration": 55,
        "start_time": "2022-10-04T16:27:17.155Z"
      },
      {
        "duration": 6,
        "start_time": "2022-10-04T16:27:17.211Z"
      },
      {
        "duration": 83,
        "start_time": "2022-10-04T16:27:17.219Z"
      },
      {
        "duration": 61,
        "start_time": "2022-10-04T16:27:17.304Z"
      },
      {
        "duration": 76,
        "start_time": "2022-10-04T16:27:17.367Z"
      },
      {
        "duration": 55,
        "start_time": "2022-10-04T16:27:17.445Z"
      },
      {
        "duration": 1097,
        "start_time": "2022-10-04T16:27:34.838Z"
      },
      {
        "duration": 151,
        "start_time": "2022-10-04T16:27:35.937Z"
      },
      {
        "duration": 12,
        "start_time": "2022-10-04T16:27:36.089Z"
      },
      {
        "duration": 18,
        "start_time": "2022-10-04T16:27:36.110Z"
      },
      {
        "duration": 3,
        "start_time": "2022-10-04T16:27:36.129Z"
      },
      {
        "duration": 6,
        "start_time": "2022-10-04T16:27:36.133Z"
      },
      {
        "duration": 4,
        "start_time": "2022-10-04T16:27:36.140Z"
      },
      {
        "duration": 8,
        "start_time": "2022-10-04T16:27:36.146Z"
      },
      {
        "duration": 29,
        "start_time": "2022-10-04T16:27:36.155Z"
      },
      {
        "duration": 10,
        "start_time": "2022-10-04T16:27:36.208Z"
      },
      {
        "duration": 91,
        "start_time": "2022-10-04T16:27:36.220Z"
      },
      {
        "duration": 81,
        "start_time": "2022-10-04T16:27:36.313Z"
      },
      {
        "duration": 90,
        "start_time": "2022-10-04T16:27:36.396Z"
      },
      {
        "duration": 31,
        "start_time": "2022-10-04T16:27:36.488Z"
      },
      {
        "duration": 28,
        "start_time": "2022-10-04T16:27:36.521Z"
      },
      {
        "duration": 19,
        "start_time": "2022-10-04T16:27:36.551Z"
      },
      {
        "duration": 11,
        "start_time": "2022-10-04T16:27:36.571Z"
      },
      {
        "duration": 38,
        "start_time": "2022-10-04T16:27:36.583Z"
      },
      {
        "duration": 8,
        "start_time": "2022-10-04T16:27:36.623Z"
      },
      {
        "duration": 9,
        "start_time": "2022-10-04T16:27:36.632Z"
      },
      {
        "duration": 7,
        "start_time": "2022-10-04T16:27:36.643Z"
      },
      {
        "duration": 456,
        "start_time": "2022-10-04T16:27:36.652Z"
      },
      {
        "duration": 15,
        "start_time": "2022-10-04T16:27:37.109Z"
      },
      {
        "duration": 19,
        "start_time": "2022-10-04T16:27:37.126Z"
      },
      {
        "duration": 31,
        "start_time": "2022-10-04T16:27:37.146Z"
      },
      {
        "duration": 50,
        "start_time": "2022-10-04T16:27:37.178Z"
      },
      {
        "duration": 17,
        "start_time": "2022-10-04T16:27:37.229Z"
      },
      {
        "duration": 5,
        "start_time": "2022-10-04T16:27:37.250Z"
      },
      {
        "duration": 6,
        "start_time": "2022-10-04T16:27:37.257Z"
      },
      {
        "duration": 56,
        "start_time": "2022-10-04T16:27:37.265Z"
      },
      {
        "duration": 46,
        "start_time": "2022-10-04T16:27:37.322Z"
      },
      {
        "duration": 3,
        "start_time": "2022-10-04T16:27:37.370Z"
      },
      {
        "duration": 64,
        "start_time": "2022-10-04T16:27:37.375Z"
      },
      {
        "duration": 10,
        "start_time": "2022-10-04T16:27:37.441Z"
      },
      {
        "duration": 10,
        "start_time": "2022-10-04T16:27:37.453Z"
      },
      {
        "duration": 3,
        "start_time": "2022-10-04T16:27:37.465Z"
      },
      {
        "duration": 40,
        "start_time": "2022-10-04T16:27:37.470Z"
      },
      {
        "duration": 28,
        "start_time": "2022-10-04T16:27:37.511Z"
      },
      {
        "duration": 30,
        "start_time": "2022-10-04T16:27:37.541Z"
      },
      {
        "duration": 36,
        "start_time": "2022-10-04T16:27:37.573Z"
      },
      {
        "duration": 39,
        "start_time": "2022-10-04T16:27:37.610Z"
      },
      {
        "duration": 34,
        "start_time": "2022-10-04T16:27:37.651Z"
      },
      {
        "duration": 46,
        "start_time": "2022-10-04T16:27:37.686Z"
      },
      {
        "duration": 35,
        "start_time": "2022-10-04T16:27:37.734Z"
      },
      {
        "duration": 4,
        "start_time": "2022-10-04T16:27:37.771Z"
      },
      {
        "duration": 38,
        "start_time": "2022-10-04T16:27:37.776Z"
      },
      {
        "duration": 3,
        "start_time": "2022-10-04T16:27:37.815Z"
      },
      {
        "duration": 7,
        "start_time": "2022-10-04T16:27:37.820Z"
      },
      {
        "duration": 14,
        "start_time": "2022-10-04T16:27:37.828Z"
      },
      {
        "duration": 341,
        "start_time": "2022-10-04T16:27:37.843Z"
      },
      {
        "duration": 7,
        "start_time": "2022-10-04T16:27:38.186Z"
      },
      {
        "duration": 26,
        "start_time": "2022-10-04T16:27:38.194Z"
      },
      {
        "duration": 6,
        "start_time": "2022-10-04T16:27:38.221Z"
      },
      {
        "duration": 56,
        "start_time": "2022-10-04T16:27:38.228Z"
      },
      {
        "duration": 46,
        "start_time": "2022-10-04T16:27:38.286Z"
      },
      {
        "duration": 42,
        "start_time": "2022-10-04T16:27:38.333Z"
      },
      {
        "duration": 56,
        "start_time": "2022-10-04T16:27:38.376Z"
      },
      {
        "duration": 45,
        "start_time": "2022-10-04T16:27:38.433Z"
      },
      {
        "duration": 50,
        "start_time": "2022-10-04T16:27:38.479Z"
      },
      {
        "duration": 42,
        "start_time": "2022-10-04T16:27:38.530Z"
      },
      {
        "duration": 53,
        "start_time": "2022-10-04T16:27:38.574Z"
      },
      {
        "duration": 59,
        "start_time": "2022-10-04T16:27:38.628Z"
      },
      {
        "duration": 55,
        "start_time": "2022-10-04T16:27:38.689Z"
      },
      {
        "duration": 43,
        "start_time": "2022-10-04T16:27:38.745Z"
      },
      {
        "duration": 49,
        "start_time": "2022-10-04T16:27:38.790Z"
      },
      {
        "duration": 6,
        "start_time": "2022-10-04T16:27:38.841Z"
      },
      {
        "duration": 80,
        "start_time": "2022-10-04T16:27:38.848Z"
      },
      {
        "duration": 59,
        "start_time": "2022-10-04T16:27:38.929Z"
      },
      {
        "duration": 77,
        "start_time": "2022-10-04T16:27:38.989Z"
      },
      {
        "duration": 61,
        "start_time": "2022-10-04T16:27:39.067Z"
      },
      {
        "duration": 54,
        "start_time": "2022-10-05T07:55:44.536Z"
      },
      {
        "duration": 1253,
        "start_time": "2022-10-05T07:58:39.503Z"
      },
      {
        "duration": 513,
        "start_time": "2022-10-05T07:58:40.758Z"
      },
      {
        "duration": 12,
        "start_time": "2022-10-05T07:58:41.272Z"
      },
      {
        "duration": 17,
        "start_time": "2022-10-05T07:58:41.286Z"
      },
      {
        "duration": 3,
        "start_time": "2022-10-05T07:58:41.304Z"
      },
      {
        "duration": 6,
        "start_time": "2022-10-05T07:58:41.309Z"
      },
      {
        "duration": 6,
        "start_time": "2022-10-05T07:58:41.317Z"
      },
      {
        "duration": 11,
        "start_time": "2022-10-05T07:58:41.324Z"
      },
      {
        "duration": 21,
        "start_time": "2022-10-05T07:58:41.336Z"
      },
      {
        "duration": 8,
        "start_time": "2022-10-05T07:58:41.359Z"
      },
      {
        "duration": 88,
        "start_time": "2022-10-05T07:58:41.369Z"
      },
      {
        "duration": 83,
        "start_time": "2022-10-05T07:58:41.459Z"
      },
      {
        "duration": 83,
        "start_time": "2022-10-05T07:58:41.544Z"
      },
      {
        "duration": 19,
        "start_time": "2022-10-05T07:58:41.629Z"
      },
      {
        "duration": 27,
        "start_time": "2022-10-05T07:58:41.649Z"
      },
      {
        "duration": 31,
        "start_time": "2022-10-05T07:58:41.678Z"
      },
      {
        "duration": 6,
        "start_time": "2022-10-05T07:58:41.711Z"
      },
      {
        "duration": 16,
        "start_time": "2022-10-05T07:58:41.718Z"
      },
      {
        "duration": 8,
        "start_time": "2022-10-05T07:58:41.735Z"
      },
      {
        "duration": 8,
        "start_time": "2022-10-05T07:58:41.744Z"
      },
      {
        "duration": 8,
        "start_time": "2022-10-05T07:58:41.754Z"
      },
      {
        "duration": 486,
        "start_time": "2022-10-05T07:58:41.764Z"
      },
      {
        "duration": 14,
        "start_time": "2022-10-05T07:58:42.251Z"
      },
      {
        "duration": 17,
        "start_time": "2022-10-05T07:58:42.267Z"
      },
      {
        "duration": 31,
        "start_time": "2022-10-05T07:58:42.300Z"
      },
      {
        "duration": 21,
        "start_time": "2022-10-05T07:58:42.332Z"
      },
      {
        "duration": 17,
        "start_time": "2022-10-05T07:58:42.355Z"
      },
      {
        "duration": 25,
        "start_time": "2022-10-05T07:58:42.375Z"
      },
      {
        "duration": 6,
        "start_time": "2022-10-05T07:58:42.402Z"
      },
      {
        "duration": 22,
        "start_time": "2022-10-05T07:58:42.409Z"
      },
      {
        "duration": 42,
        "start_time": "2022-10-05T07:58:42.433Z"
      },
      {
        "duration": 3,
        "start_time": "2022-10-05T07:58:42.477Z"
      },
      {
        "duration": 70,
        "start_time": "2022-10-05T07:58:42.482Z"
      },
      {
        "duration": 10,
        "start_time": "2022-10-05T07:58:42.553Z"
      },
      {
        "duration": 11,
        "start_time": "2022-10-05T07:58:42.565Z"
      },
      {
        "duration": 11,
        "start_time": "2022-10-05T07:58:42.577Z"
      },
      {
        "duration": 29,
        "start_time": "2022-10-05T07:58:42.590Z"
      },
      {
        "duration": 28,
        "start_time": "2022-10-05T07:58:42.621Z"
      },
      {
        "duration": 19,
        "start_time": "2022-10-05T07:58:42.651Z"
      },
      {
        "duration": 35,
        "start_time": "2022-10-05T07:58:42.672Z"
      },
      {
        "duration": 36,
        "start_time": "2022-10-05T07:58:42.709Z"
      },
      {
        "duration": 32,
        "start_time": "2022-10-05T07:58:42.746Z"
      },
      {
        "duration": 48,
        "start_time": "2022-10-05T07:58:42.780Z"
      },
      {
        "duration": 33,
        "start_time": "2022-10-05T07:58:42.830Z"
      },
      {
        "duration": 4,
        "start_time": "2022-10-05T07:58:42.864Z"
      },
      {
        "duration": 33,
        "start_time": "2022-10-05T07:58:42.869Z"
      },
      {
        "duration": 4,
        "start_time": "2022-10-05T07:58:42.903Z"
      },
      {
        "duration": 6,
        "start_time": "2022-10-05T07:58:42.908Z"
      },
      {
        "duration": 12,
        "start_time": "2022-10-05T07:58:42.915Z"
      },
      {
        "duration": 310,
        "start_time": "2022-10-05T07:58:42.929Z"
      },
      {
        "duration": 116,
        "start_time": "2022-10-05T07:58:43.241Z"
      },
      {
        "duration": 6,
        "start_time": "2022-10-05T07:58:43.358Z"
      },
      {
        "duration": 45,
        "start_time": "2022-10-05T07:58:43.366Z"
      },
      {
        "duration": 5,
        "start_time": "2022-10-05T07:58:43.412Z"
      },
      {
        "duration": 105,
        "start_time": "2022-10-05T07:58:43.419Z"
      },
      {
        "duration": 38,
        "start_time": "2022-10-05T07:58:43.525Z"
      },
      {
        "duration": 67,
        "start_time": "2022-10-05T07:58:43.565Z"
      },
      {
        "duration": 37,
        "start_time": "2022-10-05T07:58:43.633Z"
      },
      {
        "duration": 55,
        "start_time": "2022-10-05T07:58:43.672Z"
      },
      {
        "duration": 38,
        "start_time": "2022-10-05T07:58:43.728Z"
      },
      {
        "duration": 55,
        "start_time": "2022-10-05T07:58:43.768Z"
      },
      {
        "duration": 37,
        "start_time": "2022-10-05T07:58:43.824Z"
      },
      {
        "duration": 51,
        "start_time": "2022-10-05T07:58:43.862Z"
      },
      {
        "duration": 36,
        "start_time": "2022-10-05T07:58:43.915Z"
      },
      {
        "duration": 54,
        "start_time": "2022-10-05T07:58:43.953Z"
      },
      {
        "duration": 39,
        "start_time": "2022-10-05T07:58:44.008Z"
      },
      {
        "duration": 6,
        "start_time": "2022-10-05T07:58:44.049Z"
      },
      {
        "duration": 87,
        "start_time": "2022-10-05T07:58:44.056Z"
      },
      {
        "duration": 80,
        "start_time": "2022-10-05T07:58:44.145Z"
      },
      {
        "duration": 72,
        "start_time": "2022-10-05T07:58:44.227Z"
      },
      {
        "duration": 59,
        "start_time": "2022-10-05T07:58:44.301Z"
      },
      {
        "duration": 5,
        "start_time": "2022-10-05T07:59:54.374Z"
      },
      {
        "duration": 10,
        "start_time": "2022-10-05T08:00:03.347Z"
      },
      {
        "duration": 10,
        "start_time": "2022-10-05T08:00:44.868Z"
      },
      {
        "duration": 8,
        "start_time": "2022-10-05T08:02:02.625Z"
      },
      {
        "duration": 8,
        "start_time": "2022-10-05T08:10:01.269Z"
      },
      {
        "duration": 47,
        "start_time": "2022-10-05T08:12:41.606Z"
      },
      {
        "duration": 10,
        "start_time": "2022-10-05T08:12:58.797Z"
      },
      {
        "duration": 114,
        "start_time": "2022-10-05T08:15:41.801Z"
      },
      {
        "duration": 13,
        "start_time": "2022-10-05T08:16:12.398Z"
      },
      {
        "duration": 13,
        "start_time": "2022-10-05T08:16:21.473Z"
      },
      {
        "duration": 68,
        "start_time": "2022-10-05T11:22:35.616Z"
      },
      {
        "duration": 1335,
        "start_time": "2022-10-05T11:22:48.975Z"
      },
      {
        "duration": 650,
        "start_time": "2022-10-05T11:22:50.312Z"
      },
      {
        "duration": 17,
        "start_time": "2022-10-05T11:22:50.966Z"
      },
      {
        "duration": 38,
        "start_time": "2022-10-05T11:22:50.986Z"
      },
      {
        "duration": 4,
        "start_time": "2022-10-05T11:22:51.026Z"
      },
      {
        "duration": 23,
        "start_time": "2022-10-05T11:22:51.032Z"
      },
      {
        "duration": 18,
        "start_time": "2022-10-05T11:22:51.057Z"
      },
      {
        "duration": 22,
        "start_time": "2022-10-05T11:22:51.076Z"
      },
      {
        "duration": 44,
        "start_time": "2022-10-05T11:22:51.100Z"
      },
      {
        "duration": 12,
        "start_time": "2022-10-05T11:22:51.148Z"
      },
      {
        "duration": 87,
        "start_time": "2022-10-05T11:22:51.162Z"
      },
      {
        "duration": 102,
        "start_time": "2022-10-05T11:22:51.250Z"
      },
      {
        "duration": 89,
        "start_time": "2022-10-05T11:22:51.354Z"
      },
      {
        "duration": 20,
        "start_time": "2022-10-05T11:22:51.445Z"
      },
      {
        "duration": 43,
        "start_time": "2022-10-05T11:22:51.466Z"
      },
      {
        "duration": 29,
        "start_time": "2022-10-05T11:22:51.511Z"
      },
      {
        "duration": 11,
        "start_time": "2022-10-05T11:22:51.542Z"
      },
      {
        "duration": 22,
        "start_time": "2022-10-05T11:22:51.555Z"
      },
      {
        "duration": 10,
        "start_time": "2022-10-05T11:22:51.578Z"
      },
      {
        "duration": 25,
        "start_time": "2022-10-05T11:22:51.590Z"
      },
      {
        "duration": 17,
        "start_time": "2022-10-05T11:22:51.617Z"
      },
      {
        "duration": 458,
        "start_time": "2022-10-05T11:22:51.636Z"
      },
      {
        "duration": 24,
        "start_time": "2022-10-05T11:22:52.096Z"
      },
      {
        "duration": 21,
        "start_time": "2022-10-05T11:22:52.121Z"
      },
      {
        "duration": 41,
        "start_time": "2022-10-05T11:22:52.144Z"
      },
      {
        "duration": 46,
        "start_time": "2022-10-05T11:22:52.187Z"
      },
      {
        "duration": 24,
        "start_time": "2022-10-05T11:22:52.235Z"
      },
      {
        "duration": 7,
        "start_time": "2022-10-05T11:22:52.265Z"
      },
      {
        "duration": 8,
        "start_time": "2022-10-05T11:22:52.274Z"
      },
      {
        "duration": 40,
        "start_time": "2022-10-05T11:22:52.283Z"
      },
      {
        "duration": 48,
        "start_time": "2022-10-05T11:22:52.325Z"
      },
      {
        "duration": 4,
        "start_time": "2022-10-05T11:22:52.374Z"
      },
      {
        "duration": 75,
        "start_time": "2022-10-05T11:22:52.379Z"
      },
      {
        "duration": 14,
        "start_time": "2022-10-05T11:22:52.456Z"
      },
      {
        "duration": 12,
        "start_time": "2022-10-05T11:22:52.472Z"
      },
      {
        "duration": 23,
        "start_time": "2022-10-05T11:22:52.486Z"
      },
      {
        "duration": 23,
        "start_time": "2022-10-05T11:22:52.511Z"
      },
      {
        "duration": 32,
        "start_time": "2022-10-05T11:22:52.536Z"
      },
      {
        "duration": 48,
        "start_time": "2022-10-05T11:22:52.570Z"
      },
      {
        "duration": 24,
        "start_time": "2022-10-05T11:22:52.620Z"
      },
      {
        "duration": 76,
        "start_time": "2022-10-05T11:22:52.646Z"
      },
      {
        "duration": 58,
        "start_time": "2022-10-05T11:22:52.724Z"
      },
      {
        "duration": 46,
        "start_time": "2022-10-05T11:22:52.784Z"
      },
      {
        "duration": 52,
        "start_time": "2022-10-05T11:22:52.832Z"
      },
      {
        "duration": 4,
        "start_time": "2022-10-05T11:22:52.885Z"
      },
      {
        "duration": 41,
        "start_time": "2022-10-05T11:22:52.891Z"
      },
      {
        "duration": 3,
        "start_time": "2022-10-05T11:22:52.934Z"
      },
      {
        "duration": 15,
        "start_time": "2022-10-05T11:22:52.939Z"
      },
      {
        "duration": 17,
        "start_time": "2022-10-05T11:22:52.956Z"
      },
      {
        "duration": 334,
        "start_time": "2022-10-05T11:22:52.974Z"
      },
      {
        "duration": 132,
        "start_time": "2022-10-05T11:22:53.310Z"
      },
      {
        "duration": 8,
        "start_time": "2022-10-05T11:22:53.443Z"
      },
      {
        "duration": 69,
        "start_time": "2022-10-05T11:22:53.452Z"
      },
      {
        "duration": 6,
        "start_time": "2022-10-05T11:22:53.522Z"
      },
      {
        "duration": 109,
        "start_time": "2022-10-05T11:22:53.529Z"
      },
      {
        "duration": 77,
        "start_time": "2022-10-05T11:22:53.640Z"
      },
      {
        "duration": 61,
        "start_time": "2022-10-05T11:22:53.719Z"
      },
      {
        "duration": 60,
        "start_time": "2022-10-05T11:22:53.782Z"
      },
      {
        "duration": 87,
        "start_time": "2022-10-05T11:22:53.844Z"
      },
      {
        "duration": 81,
        "start_time": "2022-10-05T11:22:53.933Z"
      },
      {
        "duration": 45,
        "start_time": "2022-10-05T11:22:54.016Z"
      },
      {
        "duration": 55,
        "start_time": "2022-10-05T11:22:54.062Z"
      },
      {
        "duration": 50,
        "start_time": "2022-10-05T11:22:54.119Z"
      },
      {
        "duration": 91,
        "start_time": "2022-10-05T11:22:54.171Z"
      },
      {
        "duration": 53,
        "start_time": "2022-10-05T11:22:54.265Z"
      },
      {
        "duration": 46,
        "start_time": "2022-10-05T11:22:54.320Z"
      },
      {
        "duration": 7,
        "start_time": "2022-10-05T11:22:54.368Z"
      },
      {
        "duration": 138,
        "start_time": "2022-10-05T11:22:54.377Z"
      },
      {
        "duration": 112,
        "start_time": "2022-10-05T11:22:54.517Z"
      },
      {
        "duration": 113,
        "start_time": "2022-10-05T11:22:54.631Z"
      },
      {
        "duration": 85,
        "start_time": "2022-10-05T11:22:54.746Z"
      },
      {
        "duration": 5,
        "start_time": "2022-10-05T11:28:20.967Z"
      },
      {
        "duration": 14,
        "start_time": "2022-10-05T11:28:36.958Z"
      },
      {
        "duration": 11,
        "start_time": "2022-10-05T11:29:10.464Z"
      }
    ],
    "kernelspec": {
      "display_name": "Python 3 (ipykernel)",
      "language": "python",
      "name": "python3"
    },
    "language_info": {
      "codemirror_mode": {
        "name": "ipython",
        "version": 3
      },
      "file_extension": ".py",
      "mimetype": "text/x-python",
      "name": "python",
      "nbconvert_exporter": "python",
      "pygments_lexer": "ipython3",
      "version": "3.9.5"
    },
    "toc": {
      "base_numbering": 1,
      "nav_menu": {
        "height": "269px",
        "width": "398px"
      },
      "number_sections": true,
      "sideBar": true,
      "skip_h1_title": true,
      "title_cell": "Table of Contents",
      "title_sidebar": "Contents",
      "toc_cell": false,
      "toc_position": {},
      "toc_section_display": true,
      "toc_window_display": false
    },
    "colab": {
      "provenance": []
    }
  },
  "nbformat": 4,
  "nbformat_minor": 0
}